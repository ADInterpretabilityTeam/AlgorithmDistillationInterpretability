{
 "cells": [
  {
   "cell_type": "code",
   "execution_count": 1,
   "metadata": {},
   "outputs": [
    {
     "name": "stdout",
     "output_type": "stream",
     "text": [
      "pygame 2.3.0 (SDL 2.24.2, Python 3.8.8)\n",
      "Hello from the pygame community. https://www.pygame.org/contribute.html\n"
     ]
    }
   ],
   "source": [
    "\n",
    "import numpy as np\n",
    "import torch\n",
    "import glob\n",
    "import os\n",
    "\n",
    "from src.config import EnvironmentConfig, TransformerModelConfig\n",
    "from src.models.trajectory_transformer import ConcatTransformer\n",
    "from src.generation import *\n",
    "from src.sar_transformer.trainer import train\n",
    "from src.sar_transformer.dataset import HistoryDataset, create_history_dataloader"
   ]
  },
  {
   "cell_type": "code",
   "execution_count": 2,
   "metadata": {},
   "outputs": [],
   "source": [
    "batch_size = 64\n",
    "n_samples = 256\n",
    "env_name = \"dark_room\" # \"simple_dark_room\""
   ]
  },
  {
   "cell_type": "code",
   "execution_count": 3,
   "metadata": {},
   "outputs": [
    {
     "name": "stdout",
     "output_type": "stream",
     "text": [
      "24000\n"
     ]
    }
   ],
   "source": [
    "train_dataset = HistoryDataset(\n",
    "    history_dir=f\"data/train_{env_name}\",\n",
    "    n_episodes_per_seq=10 # There should be \n",
    ")\n",
    "\n",
    "train_dataloader = create_history_dataloader(\n",
    "    dataset=train_dataset,\n",
    "    batch_size=batch_size,\n",
    "    n_samples=batch_size * n_samples\n",
    ")"
   ]
  },
  {
   "cell_type": "code",
   "execution_count": 4,
   "metadata": {},
   "outputs": [
    {
     "name": "stdout",
     "output_type": "stream",
     "text": [
      "24000\n"
     ]
    }
   ],
   "source": [
    "print(len(train_dataset))"
   ]
  },
  {
   "cell_type": "code",
   "execution_count": 5,
   "metadata": {},
   "outputs": [
    {
     "name": "stdout",
     "output_type": "stream",
     "text": [
      "1000\n"
     ]
    }
   ],
   "source": [
    "test_dataset = HistoryDataset(\n",
    "    history_dir=f\"data/test_{env_name}\",\n",
    "    n_episodes_per_seq=10 # There should be \n",
    ")\n",
    "\n",
    "test_dataloader = create_history_dataloader(\n",
    "    dataset=test_dataset,\n",
    "    batch_size=batch_size,\n",
    "    n_samples=batch_size * (n_samples // 4)\n",
    ")"
   ]
  },
  {
   "cell_type": "code",
   "execution_count": 6,
   "metadata": {},
   "outputs": [
    {
     "name": "stdout",
     "output_type": "stream",
     "text": [
      "240\n"
     ]
    }
   ],
   "source": [
    "context_len = train_dataset.n_episodes_per_seq * train_dataset.episode_length\n",
    "print(context_len)\n",
    "env = SimpleDarkRoom(12, 2, 24, seed=50_000)\n",
    "\n",
    "environment_config = EnvironmentConfig(\n",
    "    env_id=\"Graph_DarkRoom\",\n",
    "    env=env,\n",
    "    device=\"cuda\")\n",
    "\n",
    "transformer_model_config = TransformerModelConfig(\n",
    "    d_model=128,\n",
    "    n_heads=4,\n",
    "    d_mlp=2048,\n",
    "    n_layers=6,\n",
    "    attn_only=False,\n",
    "    layer_norm=True,\n",
    "    time_embedding_type=\"embedding\",\n",
    "    state_embedding_type=\"linear\",\n",
    "    n_ctx=context_len,\n",
    "    device=\"cuda\",\n",
    ")\n",
    "\n",
    "model = ConcatTransformer(environment_config, transformer_model_config)"
   ]
  },
  {
   "cell_type": "code",
   "execution_count": 7,
   "metadata": {},
   "outputs": [
    {
     "name": "stdout",
     "output_type": "stream",
     "text": [
      "torch.float64\n",
      "torch.Size([64, 240, 15])\n"
     ]
    }
   ],
   "source": [
    "for (states, actions, rewards, timesteps) in train_dataloader:\n",
    "    print(states.dtype)\n",
    "    embeddings = model.to_tokens(states, actions[:, :-1, 0], rewards[:, :-1, 0], timesteps)\n",
    "    print(embeddings.shape)\n",
    "    break"
   ]
  },
  {
   "cell_type": "code",
   "execution_count": 8,
   "metadata": {},
   "outputs": [
    {
     "name": "stderr",
     "output_type": "stream",
     "text": [
      "TRAIN - Epoch: 1, Loss: 0.5071, Acc: 73.6134%: 100%|██████████| 256/256 [00:32<00:00,  7.88it/s]\n",
      "TEST  - Epoch: 1, Loss: 0.4078, Acc: 79.0316%: 100%|██████████| 64/64 [00:03<00:00, 20.92it/s]\n",
      "TRAIN - Epoch: 2, Loss: 0.3846, Acc: 80.1572%: 100%|██████████| 256/256 [00:33<00:00,  7.53it/s]\n",
      "TEST  - Epoch: 2, Loss: 0.3456, Acc: 82.4421%: 100%|██████████| 64/64 [00:03<00:00, 21.14it/s]\n",
      "TRAIN - Epoch: 3, Loss: 0.3259, Acc: 83.4897%: 100%|██████████| 256/256 [00:35<00:00,  7.26it/s]\n",
      "TEST  - Epoch: 3, Loss: 0.3015, Acc: 84.9323%: 100%|██████████| 64/64 [00:03<00:00, 20.59it/s]\n",
      "TRAIN - Epoch: 4, Loss: 0.2915, Acc: 85.4412%: 100%|██████████| 256/256 [00:35<00:00,  7.14it/s]\n",
      "TEST  - Epoch: 4, Loss: 0.2653, Acc: 86.8028%: 100%|██████████| 64/64 [00:03<00:00, 19.15it/s]\n",
      "TRAIN - Epoch: 5, Loss: 0.2582, Acc: 87.1478%: 100%|██████████| 256/256 [00:34<00:00,  7.33it/s]\n",
      "TEST  - Epoch: 5, Loss: 0.2399, Acc: 87.9702%: 100%|██████████| 64/64 [00:02<00:00, 21.61it/s]\n",
      "EVAL  - Random walk score: 0.9987, AD high score: 1.8333, AD final score: 1.6000: 100%|██████████| 10/10 [00:03<00:00,  3.10it/s]\n",
      "EVAL  - Random walk score: 0.9874, AD high score: 2.0000, AD final score: 0.6000: 100%|██████████| 10/10 [00:03<00:00,  3.26it/s]\n",
      "EVAL  - Random walk score: 1.9622, AD high score: 1.6000, AD final score: 1.4000: 100%|██████████| 10/10 [00:03<00:00,  3.19it/s]\n",
      "EVAL  - Random walk score: 1.0081, AD high score: 1.0000, AD final score: 1.0000: 100%|██████████| 10/10 [00:03<00:00,  3.21it/s]\n",
      "EVAL  - Random walk score: 0.9835, AD high score: 0.0000, AD final score: 0.0000: 100%|██████████| 10/10 [00:02<00:00,  3.43it/s]\n",
      "EVAL  - Random walk score: 1.9894, AD high score: 2.0000, AD final score: 1.3000: 100%|██████████| 10/10 [00:02<00:00,  3.50it/s]\n",
      "EVAL  - Random walk score: 1.0107, AD high score: 2.0000, AD final score: 1.0000: 100%|██████████| 10/10 [00:02<00:00,  3.52it/s]\n",
      "EVAL  - Random walk score: 0.9796, AD high score: 1.6000, AD final score: 1.1000: 100%|██████████| 10/10 [00:02<00:00,  3.59it/s]\n",
      "TRAIN - Epoch: 6, Loss: 0.2351, Acc: 88.4285%: 100%|██████████| 256/256 [00:30<00:00,  8.44it/s]\n",
      "TEST  - Epoch: 6, Loss: 0.2209, Acc: 89.0187%: 100%|██████████| 64/64 [00:02<00:00, 22.87it/s]\n",
      "TRAIN - Epoch: 7, Loss: 0.2216, Acc: 89.1261%: 100%|██████████| 256/256 [00:34<00:00,  7.48it/s]\n",
      "TEST  - Epoch: 7, Loss: 0.2075, Acc: 89.7924%: 100%|██████████| 64/64 [00:03<00:00, 20.92it/s]\n",
      "TRAIN - Epoch: 8, Loss: 0.2080, Acc: 89.8332%: 100%|██████████| 256/256 [00:37<00:00,  6.91it/s]\n",
      "TEST  - Epoch: 8, Loss: 0.1999, Acc: 90.2835%: 100%|██████████| 64/64 [00:03<00:00, 17.50it/s]\n",
      "TRAIN - Epoch: 9, Loss: 0.1938, Acc: 90.6020%: 100%|██████████| 256/256 [00:41<00:00,  6.21it/s]\n",
      "TEST  - Epoch: 9, Loss: 0.1830, Acc: 91.0810%: 100%|██████████| 64/64 [00:03<00:00, 17.17it/s]\n",
      "TRAIN - Epoch: 10, Loss: 0.1793, Acc: 91.2640%: 100%|██████████| 256/256 [00:41<00:00,  6.14it/s]\n",
      "TEST  - Epoch: 10, Loss: 0.1724, Acc: 91.6165%: 100%|██████████| 64/64 [00:03<00:00, 18.14it/s]\n",
      "EVAL  - Random walk score: 0.9771, AD high score: 2.0000, AD final score: 1.6000: 100%|██████████| 10/10 [00:03<00:00,  2.84it/s]\n",
      "EVAL  - Random walk score: 0.9856, AD high score: 8.3000, AD final score: 8.3000: 100%|██████████| 10/10 [00:03<00:00,  3.01it/s]\n",
      "EVAL  - Random walk score: 2.0317, AD high score: 5.0000, AD final score: 3.6000: 100%|██████████| 10/10 [00:03<00:00,  3.08it/s]\n",
      "EVAL  - Random walk score: 2.0160, AD high score: 6.5000, AD final score: 2.2000: 100%|██████████| 10/10 [00:03<00:00,  3.15it/s]\n",
      "EVAL  - Random walk score: 1.9665, AD high score: 10.2222, AD final score: 10.1000: 100%|██████████| 10/10 [00:03<00:00,  3.25it/s]\n",
      "EVAL  - Random walk score: 1.0053, AD high score: 1.0000, AD final score: 0.8000: 100%|██████████| 10/10 [00:03<00:00,  3.17it/s]\n",
      "EVAL  - Random walk score: 0.9983, AD high score: 2.8000, AD final score: 2.8000: 100%|██████████| 10/10 [00:03<00:00,  3.28it/s]\n",
      "EVAL  - Random walk score: 2.0160, AD high score: 3.6000, AD final score: 3.6000: 100%|██████████| 10/10 [00:02<00:00,  3.44it/s]\n",
      "TRAIN - Epoch: 11, Loss: 0.1713, Acc: 91.6944%: 100%|██████████| 256/256 [00:31<00:00,  8.25it/s]\n",
      "TEST  - Epoch: 11, Loss: 0.1660, Acc: 91.9083%: 100%|██████████| 64/64 [00:02<00:00, 24.09it/s]\n",
      "TRAIN - Epoch: 12, Loss: 0.1648, Acc: 91.9734%: 100%|██████████| 256/256 [00:34<00:00,  7.37it/s]\n",
      "TEST  - Epoch: 12, Loss: 0.1607, Acc: 92.1863%: 100%|██████████| 64/64 [00:03<00:00, 18.51it/s]\n",
      "TRAIN - Epoch: 13, Loss: 0.1597, Acc: 92.2229%: 100%|██████████| 256/256 [00:38<00:00,  6.61it/s]\n",
      "TEST  - Epoch: 13, Loss: 0.1593, Acc: 92.2631%: 100%|██████████| 64/64 [00:03<00:00, 18.97it/s]\n",
      "TRAIN - Epoch: 14, Loss: 0.1572, Acc: 92.3294%: 100%|██████████| 256/256 [00:39<00:00,  6.51it/s]\n",
      "TEST  - Epoch: 14, Loss: 0.1564, Acc: 92.3756%: 100%|██████████| 64/64 [00:03<00:00, 18.31it/s]\n",
      "TRAIN - Epoch: 15, Loss: 0.1556, Acc: 92.3778%: 100%|██████████| 256/256 [00:39<00:00,  6.45it/s]\n",
      "TEST  - Epoch: 15, Loss: 0.1578, Acc: 92.2542%: 100%|██████████| 64/64 [00:03<00:00, 19.49it/s]\n",
      "EVAL  - Random walk score: 2.0126, AD high score: 5.0000, AD final score: 2.4000: 100%|██████████| 10/10 [00:03<00:00,  2.84it/s]\n",
      "EVAL  - Random walk score: 1.0093, AD high score: 4.6667, AD final score: 4.6000: 100%|██████████| 10/10 [00:03<00:00,  3.04it/s]\n",
      "EVAL  - Random walk score: 1.0021, AD high score: 9.0000, AD final score: 7.6000: 100%|██████████| 10/10 [00:03<00:00,  3.00it/s]\n",
      "EVAL  - Random walk score: 2.0002, AD high score: 4.7000, AD final score: 4.7000: 100%|██████████| 10/10 [00:03<00:00,  2.99it/s]\n",
      "EVAL  - Random walk score: 1.0029, AD high score: 3.0000, AD final score: 2.3000: 100%|██████████| 10/10 [00:03<00:00,  2.95it/s]\n",
      "EVAL  - Random walk score: 0.9769, AD high score: 2.6000, AD final score: 2.4000: 100%|██████████| 10/10 [00:03<00:00,  3.06it/s]\n",
      "EVAL  - Random walk score: 0.9926, AD high score: 0.5000, AD final score: 0.2000: 100%|██████████| 10/10 [00:03<00:00,  3.09it/s]\n",
      "EVAL  - Random walk score: 0.9949, AD high score: 5.8000, AD final score: 5.8000: 100%|██████████| 10/10 [00:03<00:00,  2.97it/s]\n",
      "TRAIN - Epoch: 16, Loss: 0.1545, Acc: 92.4404%: 100%|██████████| 256/256 [00:32<00:00,  7.86it/s]\n",
      "TEST  - Epoch: 16, Loss: 0.1549, Acc: 92.3888%: 100%|██████████| 64/64 [00:03<00:00, 19.65it/s]\n",
      "TRAIN - Epoch: 17, Loss: 0.1529, Acc: 92.5170%: 100%|██████████| 256/256 [00:35<00:00,  7.13it/s]\n",
      "TEST  - Epoch: 17, Loss: 0.1550, Acc: 92.4227%: 100%|██████████| 64/64 [00:03<00:00, 19.98it/s]\n",
      "TRAIN - Epoch: 18, Loss: 0.1522, Acc: 92.5477%: 100%|██████████| 256/256 [00:38<00:00,  6.72it/s]\n",
      "TEST  - Epoch: 18, Loss: 0.1550, Acc: 92.4443%: 100%|██████████| 64/64 [00:03<00:00, 20.03it/s]\n",
      "TRAIN - Epoch: 19, Loss: 0.1505, Acc: 92.6375%: 100%|██████████| 256/256 [00:37<00:00,  6.83it/s]\n",
      "TEST  - Epoch: 19, Loss: 0.1544, Acc: 92.4528%: 100%|██████████| 64/64 [00:03<00:00, 19.99it/s]\n",
      "TRAIN - Epoch: 20, Loss: 0.1503, Acc: 92.6339%: 100%|██████████| 256/256 [00:38<00:00,  6.72it/s]\n",
      "TEST  - Epoch: 20, Loss: 0.1554, Acc: 92.3946%: 100%|██████████| 64/64 [00:03<00:00, 19.86it/s]\n",
      "EVAL  - Random walk score: 0.9909, AD high score: 1.8000, AD final score: 1.8000: 100%|██████████| 10/10 [00:03<00:00,  2.79it/s]\n",
      "EVAL  - Random walk score: 1.9892, AD high score: 9.2000, AD final score: 9.2000: 100%|██████████| 10/10 [00:03<00:00,  3.02it/s]\n",
      "EVAL  - Random walk score: 1.9902, AD high score: 4.7500, AD final score: 3.1000: 100%|██████████| 10/10 [00:03<00:00,  3.14it/s]\n",
      "EVAL  - Random walk score: 1.0080, AD high score: 4.3000, AD final score: 4.3000: 100%|██████████| 10/10 [00:03<00:00,  3.20it/s]\n",
      "EVAL  - Random walk score: 1.9987, AD high score: 4.6667, AD final score: 4.5000: 100%|██████████| 10/10 [00:03<00:00,  3.18it/s]\n",
      "EVAL  - Random walk score: 2.0286, AD high score: 3.8889, AD final score: 3.8000: 100%|██████████| 10/10 [00:03<00:00,  3.25it/s]\n",
      "EVAL  - Random walk score: 2.0244, AD high score: 7.7000, AD final score: 7.7000: 100%|██████████| 10/10 [00:03<00:00,  3.27it/s]\n",
      "EVAL  - Random walk score: 0.9898, AD high score: 1.6667, AD final score: 1.5000: 100%|██████████| 10/10 [00:02<00:00,  3.37it/s]\n",
      "TRAIN - Epoch: 21, Loss: 0.1501, Acc: 92.6451%: 100%|██████████| 256/256 [00:31<00:00,  8.04it/s]\n",
      "TEST  - Epoch: 21, Loss: 0.1534, Acc: 92.4912%: 100%|██████████| 64/64 [00:02<00:00, 21.88it/s]\n",
      "TRAIN - Epoch: 22, Loss: 0.1489, Acc: 92.7178%: 100%|██████████| 256/256 [00:35<00:00,  7.22it/s]\n",
      "TEST  - Epoch: 22, Loss: 0.1525, Acc: 92.5807%: 100%|██████████| 64/64 [00:03<00:00, 19.34it/s]\n",
      "TRAIN - Epoch: 23, Loss: 0.1443, Acc: 93.0292%: 100%|██████████| 256/256 [00:37<00:00,  6.88it/s]\n",
      "TEST  - Epoch: 23, Loss: 0.1425, Acc: 93.2517%: 100%|██████████| 64/64 [00:03<00:00, 19.89it/s]\n",
      "TRAIN - Epoch: 24, Loss: 0.1332, Acc: 93.7110%: 100%|██████████| 256/256 [00:37<00:00,  6.81it/s]\n",
      "TEST  - Epoch: 24, Loss: 0.1225, Acc: 94.3724%: 100%|██████████| 64/64 [00:03<00:00, 19.99it/s]\n",
      "TRAIN - Epoch: 25, Loss: 0.1084, Acc: 95.1767%: 100%|██████████| 256/256 [00:40<00:00,  6.37it/s]\n",
      "TEST  - Epoch: 25, Loss: 0.0977, Acc: 95.8271%: 100%|██████████| 64/64 [00:03<00:00, 19.27it/s]\n",
      "EVAL  - Random walk score: 0.9971, AD high score: 3.3333, AD final score: 3.2000: 100%|██████████| 10/10 [00:03<00:00,  2.83it/s]\n",
      "EVAL  - Random walk score: 2.0085, AD high score: 8.0000, AD final score: 4.0000: 100%|██████████| 10/10 [00:03<00:00,  2.87it/s]\n",
      "EVAL  - Random walk score: 1.9956, AD high score: 10.0000, AD final score: 7.1000: 100%|██████████| 10/10 [00:03<00:00,  2.98it/s]\n",
      "EVAL  - Random walk score: 1.0054, AD high score: 8.5000, AD final score: 3.7000: 100%|██████████| 10/10 [00:03<00:00,  2.60it/s]\n",
      "EVAL  - Random walk score: 0.9956, AD high score: 8.5000, AD final score: 7.2000: 100%|██████████| 10/10 [00:03<00:00,  3.11it/s]\n",
      "EVAL  - Random walk score: 1.9938, AD high score: 4.0000, AD final score: 2.5000: 100%|██████████| 10/10 [00:03<00:00,  3.13it/s]\n",
      "EVAL  - Random walk score: 2.0035, AD high score: 9.1429, AD final score: 7.4000: 100%|██████████| 10/10 [00:03<00:00,  2.97it/s]\n",
      "EVAL  - Random walk score: 1.0117, AD high score: 0.5000, AD final score: 0.4000: 100%|██████████| 10/10 [00:03<00:00,  3.02it/s]\n",
      "TRAIN - Epoch: 26, Loss: 0.0858, Acc: 96.4106%: 100%|██████████| 256/256 [00:34<00:00,  7.44it/s]\n",
      "TEST  - Epoch: 26, Loss: 0.0776, Acc: 96.8778%: 100%|██████████| 64/64 [00:03<00:00, 20.28it/s]\n",
      "TRAIN - Epoch: 27, Loss: 0.0704, Acc: 97.2307%: 100%|██████████| 256/256 [00:38<00:00,  6.71it/s]\n",
      "TEST  - Epoch: 27, Loss: 0.0686, Acc: 97.3161%: 100%|██████████| 64/64 [00:03<00:00, 19.98it/s]\n",
      "TRAIN - Epoch: 28, Loss: 0.0616, Acc: 97.6229%: 100%|██████████| 256/256 [00:38<00:00,  6.67it/s]\n",
      "TEST  - Epoch: 28, Loss: 0.0596, Acc: 97.7225%: 100%|██████████| 64/64 [00:03<00:00, 19.99it/s]\n",
      "TRAIN - Epoch: 29, Loss: 0.0568, Acc: 97.8177%: 100%|██████████| 256/256 [00:37<00:00,  6.84it/s]\n",
      "TEST  - Epoch: 29, Loss: 0.0588, Acc: 97.7512%: 100%|██████████| 64/64 [00:03<00:00, 19.66it/s]\n",
      "TRAIN - Epoch: 30, Loss: 0.0541, Acc: 97.9305%: 100%|██████████| 256/256 [00:38<00:00,  6.70it/s]\n",
      "TEST  - Epoch: 30, Loss: 0.0546, Acc: 97.9103%: 100%|██████████| 64/64 [00:03<00:00, 18.02it/s]\n",
      "EVAL  - Random walk score: 0.9788, AD high score: 9.2222, AD final score: 9.1000: 100%|██████████| 10/10 [00:03<00:00,  2.75it/s]\n",
      "EVAL  - Random walk score: 2.0182, AD high score: 10.2222, AD final score: 10.2000: 100%|██████████| 10/10 [00:03<00:00,  2.97it/s]\n",
      "EVAL  - Random walk score: 1.9726, AD high score: 10.3000, AD final score: 10.3000: 100%|██████████| 10/10 [00:03<00:00,  2.96it/s]\n",
      "EVAL  - Random walk score: 1.9729, AD high score: 10.6000, AD final score: 10.6000: 100%|██████████| 10/10 [00:03<00:00,  2.94it/s]\n",
      "EVAL  - Random walk score: 1.9788, AD high score: 2.0000, AD final score: 0.3000: 100%|██████████| 10/10 [00:03<00:00,  3.19it/s]\n",
      "EVAL  - Random walk score: 1.9810, AD high score: 9.8571, AD final score: 8.0000: 100%|██████████| 10/10 [00:03<00:00,  3.25it/s]\n",
      "EVAL  - Random walk score: 2.0525, AD high score: 3.0000, AD final score: 1.7000: 100%|██████████| 10/10 [00:03<00:00,  3.33it/s]\n",
      "EVAL  - Random walk score: 1.9877, AD high score: 10.1667, AD final score: 10.1000: 100%|██████████| 10/10 [00:03<00:00,  3.28it/s]\n",
      "TRAIN - Epoch: 31, Loss: 0.0531, Acc: 97.9561%: 100%|██████████| 256/256 [00:31<00:00,  8.06it/s]\n",
      "TEST  - Epoch: 31, Loss: 0.0542, Acc: 97.9605%: 100%|██████████| 64/64 [00:02<00:00, 22.05it/s]\n",
      "TRAIN - Epoch: 32, Loss: 0.0508, Acc: 98.0446%: 100%|██████████| 256/256 [00:36<00:00,  7.02it/s]\n",
      "TEST  - Epoch: 32, Loss: 0.0512, Acc: 98.0784%: 100%|██████████| 64/64 [00:03<00:00, 19.49it/s]\n",
      "TRAIN - Epoch: 33, Loss: 0.0501, Acc: 98.0661%: 100%|██████████| 256/256 [00:40<00:00,  6.34it/s]\n",
      "TEST  - Epoch: 33, Loss: 0.0505, Acc: 98.0878%: 100%|██████████| 64/64 [00:03<00:00, 18.82it/s]\n",
      "TRAIN - Epoch: 34, Loss: 0.0486, Acc: 98.1174%: 100%|██████████| 256/256 [00:40<00:00,  6.33it/s]\n",
      "TEST  - Epoch: 34, Loss: 0.0484, Acc: 98.1515%: 100%|██████████| 64/64 [00:03<00:00, 17.96it/s]\n",
      "TRAIN - Epoch: 35, Loss: 0.0468, Acc: 98.1770%: 100%|██████████| 256/256 [00:37<00:00,  6.81it/s]\n",
      "TEST  - Epoch: 35, Loss: 0.0497, Acc: 98.1031%: 100%|██████████| 64/64 [00:03<00:00, 17.61it/s]\n",
      "EVAL  - Random walk score: 1.0038, AD high score: 7.2000, AD final score: 7.2000: 100%|██████████| 10/10 [00:03<00:00,  2.84it/s]\n",
      "EVAL  - Random walk score: 1.0155, AD high score: 7.1000, AD final score: 7.1000: 100%|██████████| 10/10 [00:03<00:00,  2.91it/s]\n",
      "EVAL  - Random walk score: 0.9896, AD high score: 4.4000, AD final score: 4.4000: 100%|██████████| 10/10 [00:03<00:00,  3.15it/s]\n",
      "EVAL  - Random walk score: 1.9770, AD high score: 9.9000, AD final score: 9.9000: 100%|██████████| 10/10 [00:03<00:00,  3.20it/s]\n",
      "EVAL  - Random walk score: 0.9829, AD high score: 1.7000, AD final score: 1.7000: 100%|██████████| 10/10 [00:03<00:00,  3.21it/s]\n",
      "EVAL  - Random walk score: 0.9935, AD high score: 7.8000, AD final score: 7.8000: 100%|██████████| 10/10 [00:03<00:00,  3.07it/s]\n",
      "EVAL  - Random walk score: 1.0101, AD high score: 11.0000, AD final score: 10.7000: 100%|██████████| 10/10 [00:03<00:00,  3.22it/s]\n",
      "EVAL  - Random walk score: 1.9994, AD high score: 8.6667, AD final score: 5.4000: 100%|██████████| 10/10 [00:03<00:00,  3.09it/s]\n",
      "TRAIN - Epoch: 36, Loss: 0.0458, Acc: 98.2159%: 100%|██████████| 256/256 [00:31<00:00,  8.24it/s]\n",
      "TEST  - Epoch: 36, Loss: 0.0549, Acc: 97.9403%: 100%|██████████| 64/64 [00:02<00:00, 23.84it/s]\n",
      "TRAIN - Epoch: 37, Loss: 0.0456, Acc: 98.2163%: 100%|██████████| 256/256 [00:33<00:00,  7.55it/s]\n",
      "TEST  - Epoch: 37, Loss: 0.0494, Acc: 98.1332%: 100%|██████████| 64/64 [00:03<00:00, 21.16it/s]\n",
      "TRAIN - Epoch: 38, Loss: 0.0439, Acc: 98.2759%: 100%|██████████| 256/256 [00:35<00:00,  7.26it/s]\n",
      "TEST  - Epoch: 38, Loss: 0.0479, Acc: 98.1617%: 100%|██████████| 64/64 [00:02<00:00, 21.91it/s]\n",
      "TRAIN - Epoch: 39, Loss: 0.0446, Acc: 98.2340%: 100%|██████████| 256/256 [00:35<00:00,  7.21it/s]\n",
      "TEST  - Epoch: 39, Loss: 0.0479, Acc: 98.1751%: 100%|██████████| 64/64 [00:03<00:00, 18.37it/s]\n",
      "TRAIN - Epoch: 40, Loss: 0.0437, Acc: 98.2718%: 100%|██████████| 256/256 [00:40<00:00,  6.40it/s]\n",
      "TEST  - Epoch: 40, Loss: 0.0465, Acc: 98.2381%: 100%|██████████| 64/64 [00:03<00:00, 19.68it/s]\n",
      "EVAL  - Random walk score: 0.9954, AD high score: 10.0000, AD final score: 9.8000: 100%|██████████| 10/10 [00:03<00:00,  2.53it/s] \n",
      "EVAL  - Random walk score: 1.9989, AD high score: 10.2000, AD final score: 10.2000: 100%|██████████| 10/10 [00:03<00:00,  2.99it/s]\n",
      "EVAL  - Random walk score: 0.9715, AD high score: 4.4000, AD final score: 4.4000: 100%|██████████| 10/10 [00:03<00:00,  3.13it/s]\n",
      "EVAL  - Random walk score: 1.9863, AD high score: 8.8889, AD final score: 8.7000: 100%|██████████| 10/10 [00:03<00:00,  3.17it/s]\n",
      "EVAL  - Random walk score: 1.9955, AD high score: 6.8333, AD final score: 6.4000: 100%|██████████| 10/10 [00:03<00:00,  3.14it/s]\n",
      "EVAL  - Random walk score: 1.0081, AD high score: 6.8000, AD final score: 6.8000: 100%|██████████| 10/10 [00:03<00:00,  3.25it/s]\n",
      "EVAL  - Random walk score: 1.0064, AD high score: 8.1250, AD final score: 7.2000: 100%|██████████| 10/10 [00:03<00:00,  3.27it/s]\n",
      "EVAL  - Random walk score: 0.9815, AD high score: 8.3000, AD final score: 8.3000: 100%|██████████| 10/10 [00:03<00:00,  3.27it/s]\n",
      "TRAIN - Epoch: 41, Loss: 0.0417, Acc: 98.3443%: 100%|██████████| 256/256 [00:32<00:00,  7.94it/s]\n",
      "TEST  - Epoch: 41, Loss: 0.0482, Acc: 98.1655%: 100%|██████████| 64/64 [00:02<00:00, 22.22it/s]\n",
      "TRAIN - Epoch: 42, Loss: 0.0411, Acc: 98.3609%: 100%|██████████| 256/256 [00:36<00:00,  6.95it/s]\n",
      "TEST  - Epoch: 42, Loss: 0.0453, Acc: 98.2670%: 100%|██████████| 64/64 [00:03<00:00, 19.27it/s]\n",
      "TRAIN - Epoch: 43, Loss: 0.0428, Acc: 98.2963%: 100%|██████████| 256/256 [00:39<00:00,  6.56it/s]\n",
      "TEST  - Epoch: 43, Loss: 0.0467, Acc: 98.1937%: 100%|██████████| 64/64 [00:03<00:00, 20.40it/s]\n",
      "TRAIN - Epoch: 44, Loss: 0.0407, Acc: 98.3599%: 100%|██████████| 256/256 [00:36<00:00,  7.02it/s]\n",
      "TEST  - Epoch: 44, Loss: 0.0455, Acc: 98.2451%: 100%|██████████| 64/64 [00:03<00:00, 19.93it/s]\n",
      "TRAIN - Epoch: 45, Loss: 0.0405, Acc: 98.3780%: 100%|██████████| 256/256 [00:40<00:00,  6.36it/s]\n",
      "TEST  - Epoch: 45, Loss: 0.0470, Acc: 98.1699%: 100%|██████████| 64/64 [00:03<00:00, 18.51it/s]\n",
      "EVAL  - Random walk score: 2.0187, AD high score: 10.4000, AD final score: 10.4000: 100%|██████████| 10/10 [00:03<00:00,  2.52it/s]\n",
      "EVAL  - Random walk score: 0.9838, AD high score: 9.9000, AD final score: 9.9000: 100%|██████████| 10/10 [00:03<00:00,  2.83it/s]\n",
      "EVAL  - Random walk score: 1.0001, AD high score: 9.3750, AD final score: 8.7000: 100%|██████████| 10/10 [00:03<00:00,  2.95it/s]\n",
      "EVAL  - Random walk score: 1.0238, AD high score: 8.7500, AD final score: 8.7000: 100%|██████████| 10/10 [00:03<00:00,  2.99it/s]\n",
      "EVAL  - Random walk score: 2.0414, AD high score: 8.0000, AD final score: 6.4000: 100%|██████████| 10/10 [00:03<00:00,  2.91it/s]\n",
      "EVAL  - Random walk score: 1.9735, AD high score: 10.2857, AD final score: 10.0000: 100%|██████████| 10/10 [00:03<00:00,  3.02it/s]\n",
      "EVAL  - Random walk score: 2.0313, AD high score: 9.8000, AD final score: 9.8000: 100%|██████████| 10/10 [00:03<00:00,  2.83it/s]\n",
      "EVAL  - Random walk score: 0.9895, AD high score: 10.3000, AD final score: 10.3000: 100%|██████████| 10/10 [00:03<00:00,  2.81it/s]\n",
      "TRAIN - Epoch: 46, Loss: 0.0400, Acc: 98.3951%: 100%|██████████| 256/256 [00:32<00:00,  7.78it/s]\n",
      "TEST  - Epoch: 46, Loss: 0.0465, Acc: 98.2537%: 100%|██████████| 64/64 [00:03<00:00, 21.12it/s]\n",
      "TRAIN - Epoch: 47, Loss: 0.0386, Acc: 98.4363%: 100%|██████████| 256/256 [00:36<00:00,  7.01it/s]\n",
      "TEST  - Epoch: 47, Loss: 0.0465, Acc: 98.1991%: 100%|██████████| 64/64 [00:03<00:00, 19.51it/s]\n",
      "TRAIN - Epoch: 48, Loss: 0.0390, Acc: 98.4257%: 100%|██████████| 256/256 [00:39<00:00,  6.43it/s]\n",
      "TEST  - Epoch: 48, Loss: 0.0456, Acc: 98.2179%: 100%|██████████| 64/64 [00:03<00:00, 17.43it/s]\n",
      "TRAIN - Epoch: 49, Loss: 0.0383, Acc: 98.4501%: 100%|██████████| 256/256 [00:39<00:00,  6.45it/s]\n",
      "TEST  - Epoch: 49, Loss: 0.0445, Acc: 98.3258%: 100%|██████████| 64/64 [00:03<00:00, 18.48it/s]\n",
      "TRAIN - Epoch: 50, Loss: 0.0378, Acc: 98.4631%: 100%|██████████| 256/256 [00:39<00:00,  6.44it/s]\n",
      "TEST  - Epoch: 50, Loss: 0.0460, Acc: 98.2243%: 100%|██████████| 64/64 [00:03<00:00, 19.61it/s]\n",
      "EVAL  - Random walk score: 1.0039, AD high score: 10.0000, AD final score: 10.0000: 100%|██████████| 10/10 [00:03<00:00,  2.73it/s]\n",
      "EVAL  - Random walk score: 0.9992, AD high score: 9.2000, AD final score: 9.2000: 100%|██████████| 10/10 [00:03<00:00,  2.60it/s]\n",
      "EVAL  - Random walk score: 1.9964, AD high score: 10.0000, AD final score: 9.8000: 100%|██████████| 10/10 [00:03<00:00,  2.76it/s]\n",
      "EVAL  - Random walk score: 0.9996, AD high score: 10.1250, AD final score: 9.9000: 100%|██████████| 10/10 [00:03<00:00,  3.08it/s]\n",
      "EVAL  - Random walk score: 1.9566, AD high score: 9.1667, AD final score: 6.1000: 100%|██████████| 10/10 [00:03<00:00,  2.90it/s]\n",
      "EVAL  - Random walk score: 0.9836, AD high score: 8.7000, AD final score: 8.7000: 100%|██████████| 10/10 [00:03<00:00,  3.14it/s]\n",
      "EVAL  - Random walk score: 1.9833, AD high score: 7.3000, AD final score: 7.3000: 100%|██████████| 10/10 [00:03<00:00,  3.16it/s]\n",
      "EVAL  - Random walk score: 1.9714, AD high score: 10.5714, AD final score: 9.7000: 100%|██████████| 10/10 [00:03<00:00,  3.29it/s] \n",
      "TRAIN - Epoch: 51, Loss: 0.0372, Acc: 98.4857%:  86%|████████▌ | 219/256 [00:29<00:05,  7.04it/s]"
     ]
    },
    {
     "ename": "KeyboardInterrupt",
     "evalue": "",
     "output_type": "error",
     "traceback": [
      "\u001b[1;31m---------------------------------------------------------------------------\u001b[0m",
      "\u001b[1;31mKeyboardInterrupt\u001b[0m                         Traceback (most recent call last)",
      "\u001b[1;32m<ipython-input-8-b38df709f0a8>\u001b[0m in \u001b[0;36m<module>\u001b[1;34m\u001b[0m\n\u001b[1;32m----> 1\u001b[1;33m model = train(\n\u001b[0m\u001b[0;32m      2\u001b[0m     \u001b[0mmodel\u001b[0m\u001b[1;33m,\u001b[0m\u001b[1;33m\u001b[0m\u001b[1;33m\u001b[0m\u001b[0m\n\u001b[0;32m      3\u001b[0m     \u001b[0mtrain_dataloader\u001b[0m\u001b[1;33m,\u001b[0m\u001b[1;33m\u001b[0m\u001b[1;33m\u001b[0m\u001b[0m\n\u001b[0;32m      4\u001b[0m     \u001b[0mtest_dataloader\u001b[0m\u001b[1;33m,\u001b[0m\u001b[1;33m\u001b[0m\u001b[1;33m\u001b[0m\u001b[0m\n\u001b[0;32m      5\u001b[0m     \u001b[0menvironment_config\u001b[0m\u001b[1;33m,\u001b[0m\u001b[1;33m\u001b[0m\u001b[1;33m\u001b[0m\u001b[0m\n",
      "\u001b[1;32mc:\\Users\\abhay\\Documents\\AlgorithmDistillationInterpretability\\src\\sar_transformer\\trainer.py\u001b[0m in \u001b[0;36mtrain\u001b[1;34m(model, train_dataloader, test_dataloader, env_config, lr, clip, device, track, train_epochs, test_frequency, eval_frequency, num_evals, eval_length, eval_temp)\u001b[0m\n\u001b[0;32m     75\u001b[0m             \u001b[0mlosses\u001b[0m\u001b[1;33m.\u001b[0m\u001b[0mappend\u001b[0m\u001b[1;33m(\u001b[0m\u001b[0mloss\u001b[0m\u001b[1;33m.\u001b[0m\u001b[0mitem\u001b[0m\u001b[1;33m(\u001b[0m\u001b[1;33m)\u001b[0m\u001b[1;33m)\u001b[0m\u001b[1;33m\u001b[0m\u001b[1;33m\u001b[0m\u001b[0m\n\u001b[0;32m     76\u001b[0m \u001b[1;33m\u001b[0m\u001b[0m\n\u001b[1;32m---> 77\u001b[1;33m             \u001b[0mloss\u001b[0m\u001b[1;33m.\u001b[0m\u001b[0mbackward\u001b[0m\u001b[1;33m(\u001b[0m\u001b[1;33m)\u001b[0m\u001b[1;33m\u001b[0m\u001b[1;33m\u001b[0m\u001b[0m\n\u001b[0m\u001b[0;32m     78\u001b[0m             \u001b[0mtorch\u001b[0m\u001b[1;33m.\u001b[0m\u001b[0mnn\u001b[0m\u001b[1;33m.\u001b[0m\u001b[0mutils\u001b[0m\u001b[1;33m.\u001b[0m\u001b[0mclip_grad_norm_\u001b[0m\u001b[1;33m(\u001b[0m\u001b[0mmodel\u001b[0m\u001b[1;33m.\u001b[0m\u001b[0mparameters\u001b[0m\u001b[1;33m(\u001b[0m\u001b[1;33m)\u001b[0m\u001b[1;33m,\u001b[0m \u001b[0mclip\u001b[0m\u001b[1;33m)\u001b[0m\u001b[1;33m\u001b[0m\u001b[1;33m\u001b[0m\u001b[0m\n\u001b[0;32m     79\u001b[0m             \u001b[0moptimizer\u001b[0m\u001b[1;33m.\u001b[0m\u001b[0mstep\u001b[0m\u001b[1;33m(\u001b[0m\u001b[1;33m)\u001b[0m\u001b[1;33m\u001b[0m\u001b[1;33m\u001b[0m\u001b[0m\n",
      "\u001b[1;32mc:\\Users\\abhay\\Anaconda3\\lib\\site-packages\\torch\\_tensor.py\u001b[0m in \u001b[0;36mbackward\u001b[1;34m(self, gradient, retain_graph, create_graph, inputs)\u001b[0m\n\u001b[0;32m    485\u001b[0m                 \u001b[0minputs\u001b[0m\u001b[1;33m=\u001b[0m\u001b[0minputs\u001b[0m\u001b[1;33m,\u001b[0m\u001b[1;33m\u001b[0m\u001b[1;33m\u001b[0m\u001b[0m\n\u001b[0;32m    486\u001b[0m             )\n\u001b[1;32m--> 487\u001b[1;33m         torch.autograd.backward(\n\u001b[0m\u001b[0;32m    488\u001b[0m             \u001b[0mself\u001b[0m\u001b[1;33m,\u001b[0m \u001b[0mgradient\u001b[0m\u001b[1;33m,\u001b[0m \u001b[0mretain_graph\u001b[0m\u001b[1;33m,\u001b[0m \u001b[0mcreate_graph\u001b[0m\u001b[1;33m,\u001b[0m \u001b[0minputs\u001b[0m\u001b[1;33m=\u001b[0m\u001b[0minputs\u001b[0m\u001b[1;33m\u001b[0m\u001b[1;33m\u001b[0m\u001b[0m\n\u001b[0;32m    489\u001b[0m         )\n",
      "\u001b[1;32mc:\\Users\\abhay\\Anaconda3\\lib\\site-packages\\torch\\autograd\\__init__.py\u001b[0m in \u001b[0;36mbackward\u001b[1;34m(tensors, grad_tensors, retain_graph, create_graph, grad_variables, inputs)\u001b[0m\n\u001b[0;32m    198\u001b[0m     \u001b[1;31m# some Python versions print out the first line of a multi-line function\u001b[0m\u001b[1;33m\u001b[0m\u001b[1;33m\u001b[0m\u001b[1;33m\u001b[0m\u001b[0m\n\u001b[0;32m    199\u001b[0m     \u001b[1;31m# calls in the traceback and some print out the last line\u001b[0m\u001b[1;33m\u001b[0m\u001b[1;33m\u001b[0m\u001b[1;33m\u001b[0m\u001b[0m\n\u001b[1;32m--> 200\u001b[1;33m     Variable._execution_engine.run_backward(  # Calls into the C++ engine to run the backward pass\n\u001b[0m\u001b[0;32m    201\u001b[0m         \u001b[0mtensors\u001b[0m\u001b[1;33m,\u001b[0m \u001b[0mgrad_tensors_\u001b[0m\u001b[1;33m,\u001b[0m \u001b[0mretain_graph\u001b[0m\u001b[1;33m,\u001b[0m \u001b[0mcreate_graph\u001b[0m\u001b[1;33m,\u001b[0m \u001b[0minputs\u001b[0m\u001b[1;33m,\u001b[0m\u001b[1;33m\u001b[0m\u001b[1;33m\u001b[0m\u001b[0m\n\u001b[0;32m    202\u001b[0m         allow_unreachable=True, accumulate_grad=True)  # Calls into the C++ engine to run the backward pass\n",
      "\u001b[1;31mKeyboardInterrupt\u001b[0m: "
     ]
    }
   ],
   "source": [
    "model = train(\n",
    "    model,\n",
    "    train_dataloader,\n",
    "    test_dataloader,\n",
    "    environment_config,\n",
    "    lr=1e-3,\n",
    "    eval_frequency=10,\n",
    "    num_evals=8,\n",
    "    eval_length=10,\n",
    "    eval_temp=1.\n",
    ")"
   ]
  },
  {
   "cell_type": "code",
   "execution_count": 9,
   "metadata": {},
   "outputs": [
    {
     "name": "stderr",
     "output_type": "stream",
     "text": [
      "EVAL  - Random walk score: 2.0234, AD high score: 8.5000, AD final score: 5.1000: 100%|██████████| 10/10 [00:03<00:00,  2.96it/s]\n",
      "EVAL  - Random walk score: 1.9987, AD high score: 10.5556, AD final score: 10.4000: 100%|██████████| 10/10 [00:03<00:00,  3.10it/s]\n",
      "EVAL  - Random walk score: 2.0171, AD high score: 10.4000, AD final score: 10.4000: 100%|██████████| 10/10 [00:03<00:00,  3.12it/s]\n",
      "EVAL  - Random walk score: 2.0148, AD high score: 9.2857, AD final score: 8.7000: 100%|██████████| 10/10 [00:03<00:00,  3.25it/s]\n",
      "EVAL  - Random walk score: 0.9897, AD high score: 7.6000, AD final score: 7.6000: 100%|██████████| 10/10 [00:03<00:00,  3.17it/s]\n",
      "EVAL  - Random walk score: 1.9741, AD high score: 10.4000, AD final score: 10.4000: 100%|██████████| 10/10 [00:02<00:00,  3.41it/s]\n",
      "EVAL  - Random walk score: 2.0179, AD high score: 9.1111, AD final score: 8.2000: 100%|██████████| 10/10 [00:03<00:00,  3.32it/s]\n",
      "EVAL  - Random walk score: 1.0054, AD high score: 7.8333, AD final score: 6.8000: 100%|██████████| 10/10 [00:03<00:00,  3.27it/s]\n",
      "EVAL  - Random walk score: 1.0094, AD high score: 8.3000, AD final score: 8.3000: 100%|██████████| 10/10 [00:03<00:00,  3.18it/s]\n",
      "EVAL  - Random walk score: 0.9935, AD high score: 8.1000, AD final score: 8.1000: 100%|██████████| 10/10 [00:03<00:00,  3.25it/s]"
     ]
    },
    {
     "name": "stdout",
     "output_type": "stream",
     "text": [
      "7.663636363636362\n"
     ]
    },
    {
     "name": "stderr",
     "output_type": "stream",
     "text": [
      "\n"
     ]
    }
   ],
   "source": [
    "from src.sar_transformer.eval import *\n",
    "\n",
    "means = []\n",
    "for i in range(10):\n",
    "    out = evaluate_ad_agent(\n",
    "        model,\n",
    "        environment_config,\n",
    "        n_episodes=10,\n",
    "        temp=1.\n",
    "    )\n",
    "    means.append(sum(out) / len(out))\n",
    "\n",
    "print(sum(means) / len(means))"
   ]
  }
 ],
 "metadata": {
  "kernelspec": {
   "display_name": "base",
   "language": "python",
   "name": "python3"
  },
  "language_info": {
   "codemirror_mode": {
    "name": "ipython",
    "version": 3
   },
   "file_extension": ".py",
   "mimetype": "text/x-python",
   "name": "python",
   "nbconvert_exporter": "python",
   "pygments_lexer": "ipython3",
   "version": "3.8.8"
  },
  "orig_nbformat": 4
 },
 "nbformat": 4,
 "nbformat_minor": 2
}
