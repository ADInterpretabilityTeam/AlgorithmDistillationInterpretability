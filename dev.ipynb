{
 "cells": [
  {
   "attachments": {},
   "cell_type": "markdown",
   "metadata": {},
   "source": [
    "# MiniGrid Environment\n",
    "\n",
    "The minigrid environments provide a number of \"simple\" environments available as both gridworlds and pixelated images. They enable us to avoid doing CNN feature visualisation analysis while still studying problems that might involve search like notions. \n",
    "\n",
    "Try out the environment by running the following command:\n",
    "\n",
    "\n",
    "```bash\n",
    "python -m minigrid.manual_control\n",
    "```\n",
    "\n",
    "Later we can benchmark against torch-rl "
   ]
  },
  {
   "cell_type": "code",
   "execution_count": 6,
   "metadata": {},
   "outputs": [],
   "source": [
    "import gymnasium as gym\n",
    "from minigrid.wrappers import RGBImgPartialObsWrapper, ImgObsWrapper\n",
    "\n",
    "env = gym.make('MiniGrid-Empty-8x8-v0')\n",
    "env = RGBImgPartialObsWrapper(env) # Get pixel observations\n",
    "env = ImgObsWrapper(env) # Get rid of the 'mission' field\n",
    "obs, _ = env.reset() # This now produces an RGB tensor only\n",
    "# obs"
   ]
  },
  {
   "cell_type": "code",
   "execution_count": null,
   "metadata": {},
   "outputs": [
    {
     "name": "stderr",
     "output_type": "stream",
     "text": [
      "/Users/josephbloom/miniforge3/envs/decision_transformer_interpretability/lib/python3.9/site-packages/plotly/io/_renderers.py:395: DeprecationWarning:\n",
      "\n",
      "distutils Version classes are deprecated. Use packaging.version instead.\n",
      "\n",
      "/Users/josephbloom/miniforge3/envs/decision_transformer_interpretability/lib/python3.9/site-packages/plotly/io/_renderers.py:395: DeprecationWarning:\n",
      "\n",
      "distutils Version classes are deprecated. Use packaging.version instead.\n",
      "\n"
     ]
    },
    {
     "data": {
      "application/vnd.plotly.v1+json": {
       "config": {
        "plotlyServerURL": "https://plot.ly"
       },
       "data": [
        {
         "hovertemplate": "x: %{x}<br>y: %{y}<br>color: [%{z[0]}, %{z[1]}, %{z[2]}]<extra></extra>",
         "name": "0",
         "source": "data:image/png;base64,iVBORw0KGgoAAAANSUhEUgAAADgAAAA4CAIAAAAn5KxJAAAA6ElEQVR4Xu2UsQ3CMBQFH4jeTXZgCVZAZLZsly5tSm9A40TwgwvQFXzpXWWdm5MSv9M0TcrAOYp/xaE0DqVxKM0lil9ZlqXWGq1USkE8FlprXdc1WkkS4tN8eofSOJQmTSg2T6WUqCRxHgv1jjYcSuNQmjSh2Dz19o/yWKh3tOFQGofSpAnF5qm3f5THQr2jDYfSOJQmTSg2T739ozwW6h1tOJTGoTRpQrF56u0f5bHQfUevkqT55erjLupLj4Xu3CS9hyLw/+gojdEBwKGPw4ECDh0PBwoy9CoN23nYXhUF+Zhm6R4dxhNf5mxCBimltAAAAABJRU5ErkJggg==",
         "type": "image",
         "xaxis": "x",
         "yaxis": "y"
        }
       ],
       "layout": {
        "margin": {
         "t": 60
        },
        "template": {
         "data": {
          "bar": [
           {
            "error_x": {
             "color": "#2a3f5f"
            },
            "error_y": {
             "color": "#2a3f5f"
            },
            "marker": {
             "line": {
              "color": "#E5ECF6",
              "width": 0.5
             },
             "pattern": {
              "fillmode": "overlay",
              "size": 10,
              "solidity": 0.2
             }
            },
            "type": "bar"
           }
          ],
          "barpolar": [
           {
            "marker": {
             "line": {
              "color": "#E5ECF6",
              "width": 0.5
             },
             "pattern": {
              "fillmode": "overlay",
              "size": 10,
              "solidity": 0.2
             }
            },
            "type": "barpolar"
           }
          ],
          "carpet": [
           {
            "aaxis": {
             "endlinecolor": "#2a3f5f",
             "gridcolor": "white",
             "linecolor": "white",
             "minorgridcolor": "white",
             "startlinecolor": "#2a3f5f"
            },
            "baxis": {
             "endlinecolor": "#2a3f5f",
             "gridcolor": "white",
             "linecolor": "white",
             "minorgridcolor": "white",
             "startlinecolor": "#2a3f5f"
            },
            "type": "carpet"
           }
          ],
          "choropleth": [
           {
            "colorbar": {
             "outlinewidth": 0,
             "ticks": ""
            },
            "type": "choropleth"
           }
          ],
          "contour": [
           {
            "colorbar": {
             "outlinewidth": 0,
             "ticks": ""
            },
            "colorscale": [
             [
              0,
              "#0d0887"
             ],
             [
              0.1111111111111111,
              "#46039f"
             ],
             [
              0.2222222222222222,
              "#7201a8"
             ],
             [
              0.3333333333333333,
              "#9c179e"
             ],
             [
              0.4444444444444444,
              "#bd3786"
             ],
             [
              0.5555555555555556,
              "#d8576b"
             ],
             [
              0.6666666666666666,
              "#ed7953"
             ],
             [
              0.7777777777777778,
              "#fb9f3a"
             ],
             [
              0.8888888888888888,
              "#fdca26"
             ],
             [
              1,
              "#f0f921"
             ]
            ],
            "type": "contour"
           }
          ],
          "contourcarpet": [
           {
            "colorbar": {
             "outlinewidth": 0,
             "ticks": ""
            },
            "type": "contourcarpet"
           }
          ],
          "heatmap": [
           {
            "colorbar": {
             "outlinewidth": 0,
             "ticks": ""
            },
            "colorscale": [
             [
              0,
              "#0d0887"
             ],
             [
              0.1111111111111111,
              "#46039f"
             ],
             [
              0.2222222222222222,
              "#7201a8"
             ],
             [
              0.3333333333333333,
              "#9c179e"
             ],
             [
              0.4444444444444444,
              "#bd3786"
             ],
             [
              0.5555555555555556,
              "#d8576b"
             ],
             [
              0.6666666666666666,
              "#ed7953"
             ],
             [
              0.7777777777777778,
              "#fb9f3a"
             ],
             [
              0.8888888888888888,
              "#fdca26"
             ],
             [
              1,
              "#f0f921"
             ]
            ],
            "type": "heatmap"
           }
          ],
          "heatmapgl": [
           {
            "colorbar": {
             "outlinewidth": 0,
             "ticks": ""
            },
            "colorscale": [
             [
              0,
              "#0d0887"
             ],
             [
              0.1111111111111111,
              "#46039f"
             ],
             [
              0.2222222222222222,
              "#7201a8"
             ],
             [
              0.3333333333333333,
              "#9c179e"
             ],
             [
              0.4444444444444444,
              "#bd3786"
             ],
             [
              0.5555555555555556,
              "#d8576b"
             ],
             [
              0.6666666666666666,
              "#ed7953"
             ],
             [
              0.7777777777777778,
              "#fb9f3a"
             ],
             [
              0.8888888888888888,
              "#fdca26"
             ],
             [
              1,
              "#f0f921"
             ]
            ],
            "type": "heatmapgl"
           }
          ],
          "histogram": [
           {
            "marker": {
             "pattern": {
              "fillmode": "overlay",
              "size": 10,
              "solidity": 0.2
             }
            },
            "type": "histogram"
           }
          ],
          "histogram2d": [
           {
            "colorbar": {
             "outlinewidth": 0,
             "ticks": ""
            },
            "colorscale": [
             [
              0,
              "#0d0887"
             ],
             [
              0.1111111111111111,
              "#46039f"
             ],
             [
              0.2222222222222222,
              "#7201a8"
             ],
             [
              0.3333333333333333,
              "#9c179e"
             ],
             [
              0.4444444444444444,
              "#bd3786"
             ],
             [
              0.5555555555555556,
              "#d8576b"
             ],
             [
              0.6666666666666666,
              "#ed7953"
             ],
             [
              0.7777777777777778,
              "#fb9f3a"
             ],
             [
              0.8888888888888888,
              "#fdca26"
             ],
             [
              1,
              "#f0f921"
             ]
            ],
            "type": "histogram2d"
           }
          ],
          "histogram2dcontour": [
           {
            "colorbar": {
             "outlinewidth": 0,
             "ticks": ""
            },
            "colorscale": [
             [
              0,
              "#0d0887"
             ],
             [
              0.1111111111111111,
              "#46039f"
             ],
             [
              0.2222222222222222,
              "#7201a8"
             ],
             [
              0.3333333333333333,
              "#9c179e"
             ],
             [
              0.4444444444444444,
              "#bd3786"
             ],
             [
              0.5555555555555556,
              "#d8576b"
             ],
             [
              0.6666666666666666,
              "#ed7953"
             ],
             [
              0.7777777777777778,
              "#fb9f3a"
             ],
             [
              0.8888888888888888,
              "#fdca26"
             ],
             [
              1,
              "#f0f921"
             ]
            ],
            "type": "histogram2dcontour"
           }
          ],
          "mesh3d": [
           {
            "colorbar": {
             "outlinewidth": 0,
             "ticks": ""
            },
            "type": "mesh3d"
           }
          ],
          "parcoords": [
           {
            "line": {
             "colorbar": {
              "outlinewidth": 0,
              "ticks": ""
             }
            },
            "type": "parcoords"
           }
          ],
          "pie": [
           {
            "automargin": true,
            "type": "pie"
           }
          ],
          "scatter": [
           {
            "fillpattern": {
             "fillmode": "overlay",
             "size": 10,
             "solidity": 0.2
            },
            "type": "scatter"
           }
          ],
          "scatter3d": [
           {
            "line": {
             "colorbar": {
              "outlinewidth": 0,
              "ticks": ""
             }
            },
            "marker": {
             "colorbar": {
              "outlinewidth": 0,
              "ticks": ""
             }
            },
            "type": "scatter3d"
           }
          ],
          "scattercarpet": [
           {
            "marker": {
             "colorbar": {
              "outlinewidth": 0,
              "ticks": ""
             }
            },
            "type": "scattercarpet"
           }
          ],
          "scattergeo": [
           {
            "marker": {
             "colorbar": {
              "outlinewidth": 0,
              "ticks": ""
             }
            },
            "type": "scattergeo"
           }
          ],
          "scattergl": [
           {
            "marker": {
             "colorbar": {
              "outlinewidth": 0,
              "ticks": ""
             }
            },
            "type": "scattergl"
           }
          ],
          "scattermapbox": [
           {
            "marker": {
             "colorbar": {
              "outlinewidth": 0,
              "ticks": ""
             }
            },
            "type": "scattermapbox"
           }
          ],
          "scatterpolar": [
           {
            "marker": {
             "colorbar": {
              "outlinewidth": 0,
              "ticks": ""
             }
            },
            "type": "scatterpolar"
           }
          ],
          "scatterpolargl": [
           {
            "marker": {
             "colorbar": {
              "outlinewidth": 0,
              "ticks": ""
             }
            },
            "type": "scatterpolargl"
           }
          ],
          "scatterternary": [
           {
            "marker": {
             "colorbar": {
              "outlinewidth": 0,
              "ticks": ""
             }
            },
            "type": "scatterternary"
           }
          ],
          "surface": [
           {
            "colorbar": {
             "outlinewidth": 0,
             "ticks": ""
            },
            "colorscale": [
             [
              0,
              "#0d0887"
             ],
             [
              0.1111111111111111,
              "#46039f"
             ],
             [
              0.2222222222222222,
              "#7201a8"
             ],
             [
              0.3333333333333333,
              "#9c179e"
             ],
             [
              0.4444444444444444,
              "#bd3786"
             ],
             [
              0.5555555555555556,
              "#d8576b"
             ],
             [
              0.6666666666666666,
              "#ed7953"
             ],
             [
              0.7777777777777778,
              "#fb9f3a"
             ],
             [
              0.8888888888888888,
              "#fdca26"
             ],
             [
              1,
              "#f0f921"
             ]
            ],
            "type": "surface"
           }
          ],
          "table": [
           {
            "cells": {
             "fill": {
              "color": "#EBF0F8"
             },
             "line": {
              "color": "white"
             }
            },
            "header": {
             "fill": {
              "color": "#C8D4E3"
             },
             "line": {
              "color": "white"
             }
            },
            "type": "table"
           }
          ]
         },
         "layout": {
          "annotationdefaults": {
           "arrowcolor": "#2a3f5f",
           "arrowhead": 0,
           "arrowwidth": 1
          },
          "autotypenumbers": "strict",
          "coloraxis": {
           "colorbar": {
            "outlinewidth": 0,
            "ticks": ""
           }
          },
          "colorscale": {
           "diverging": [
            [
             0,
             "#8e0152"
            ],
            [
             0.1,
             "#c51b7d"
            ],
            [
             0.2,
             "#de77ae"
            ],
            [
             0.3,
             "#f1b6da"
            ],
            [
             0.4,
             "#fde0ef"
            ],
            [
             0.5,
             "#f7f7f7"
            ],
            [
             0.6,
             "#e6f5d0"
            ],
            [
             0.7,
             "#b8e186"
            ],
            [
             0.8,
             "#7fbc41"
            ],
            [
             0.9,
             "#4d9221"
            ],
            [
             1,
             "#276419"
            ]
           ],
           "sequential": [
            [
             0,
             "#0d0887"
            ],
            [
             0.1111111111111111,
             "#46039f"
            ],
            [
             0.2222222222222222,
             "#7201a8"
            ],
            [
             0.3333333333333333,
             "#9c179e"
            ],
            [
             0.4444444444444444,
             "#bd3786"
            ],
            [
             0.5555555555555556,
             "#d8576b"
            ],
            [
             0.6666666666666666,
             "#ed7953"
            ],
            [
             0.7777777777777778,
             "#fb9f3a"
            ],
            [
             0.8888888888888888,
             "#fdca26"
            ],
            [
             1,
             "#f0f921"
            ]
           ],
           "sequentialminus": [
            [
             0,
             "#0d0887"
            ],
            [
             0.1111111111111111,
             "#46039f"
            ],
            [
             0.2222222222222222,
             "#7201a8"
            ],
            [
             0.3333333333333333,
             "#9c179e"
            ],
            [
             0.4444444444444444,
             "#bd3786"
            ],
            [
             0.5555555555555556,
             "#d8576b"
            ],
            [
             0.6666666666666666,
             "#ed7953"
            ],
            [
             0.7777777777777778,
             "#fb9f3a"
            ],
            [
             0.8888888888888888,
             "#fdca26"
            ],
            [
             1,
             "#f0f921"
            ]
           ]
          },
          "colorway": [
           "#636efa",
           "#EF553B",
           "#00cc96",
           "#ab63fa",
           "#FFA15A",
           "#19d3f3",
           "#FF6692",
           "#B6E880",
           "#FF97FF",
           "#FECB52"
          ],
          "font": {
           "color": "#2a3f5f"
          },
          "geo": {
           "bgcolor": "white",
           "lakecolor": "white",
           "landcolor": "#E5ECF6",
           "showlakes": true,
           "showland": true,
           "subunitcolor": "white"
          },
          "hoverlabel": {
           "align": "left"
          },
          "hovermode": "closest",
          "mapbox": {
           "style": "light"
          },
          "paper_bgcolor": "white",
          "plot_bgcolor": "#E5ECF6",
          "polar": {
           "angularaxis": {
            "gridcolor": "white",
            "linecolor": "white",
            "ticks": ""
           },
           "bgcolor": "#E5ECF6",
           "radialaxis": {
            "gridcolor": "white",
            "linecolor": "white",
            "ticks": ""
           }
          },
          "scene": {
           "xaxis": {
            "backgroundcolor": "#E5ECF6",
            "gridcolor": "white",
            "gridwidth": 2,
            "linecolor": "white",
            "showbackground": true,
            "ticks": "",
            "zerolinecolor": "white"
           },
           "yaxis": {
            "backgroundcolor": "#E5ECF6",
            "gridcolor": "white",
            "gridwidth": 2,
            "linecolor": "white",
            "showbackground": true,
            "ticks": "",
            "zerolinecolor": "white"
           },
           "zaxis": {
            "backgroundcolor": "#E5ECF6",
            "gridcolor": "white",
            "gridwidth": 2,
            "linecolor": "white",
            "showbackground": true,
            "ticks": "",
            "zerolinecolor": "white"
           }
          },
          "shapedefaults": {
           "line": {
            "color": "#2a3f5f"
           }
          },
          "ternary": {
           "aaxis": {
            "gridcolor": "white",
            "linecolor": "white",
            "ticks": ""
           },
           "baxis": {
            "gridcolor": "white",
            "linecolor": "white",
            "ticks": ""
           },
           "bgcolor": "#E5ECF6",
           "caxis": {
            "gridcolor": "white",
            "linecolor": "white",
            "ticks": ""
           }
          },
          "title": {
           "x": 0.05
          },
          "xaxis": {
           "automargin": true,
           "gridcolor": "white",
           "linecolor": "white",
           "ticks": "",
           "title": {
            "standoff": 15
           },
           "zerolinecolor": "white",
           "zerolinewidth": 2
          },
          "yaxis": {
           "automargin": true,
           "gridcolor": "white",
           "linecolor": "white",
           "ticks": "",
           "title": {
            "standoff": 15
           },
           "zerolinecolor": "white",
           "zerolinewidth": 2
          }
         }
        },
        "xaxis": {
         "anchor": "y",
         "domain": [
          0,
          1
         ]
        },
        "yaxis": {
         "anchor": "x",
         "domain": [
          0,
          1
         ]
        }
       }
      }
     },
     "metadata": {},
     "output_type": "display_data"
    }
   ],
   "source": [
    "import torch as t \n",
    "import plotly.express as px\n",
    "obs = t.tensor(obs)\n",
    "obs.shape\n",
    "px.imshow(obs)"
   ]
  },
  {
   "cell_type": "code",
   "execution_count": null,
   "metadata": {},
   "outputs": [
    {
     "name": "stderr",
     "output_type": "stream",
     "text": [
      "/var/folders/qd/04zj2h4n2pvc87x_7w1z97_r0000gn/T/ipykernel_66398/941578228.py:22: UserWarning:\n",
      "\n",
      "Creating a tensor from a list of numpy.ndarrays is extremely slow. Please consider converting the list to a single numpy.ndarray with numpy.array() before converting to a tensor. (Triggered internally at /Users/runner/work/pytorch/pytorch/pytorch/torch/csrc/utils/tensor_new.cpp:233.)\n",
      "\n"
     ]
    }
   ],
   "source": [
    "env = gym.make('MiniGrid-Empty-8x8-v0')\n",
    "env = RGBImgPartialObsWrapper(env) # Get pixel observations\n",
    "env = ImgObsWrapper(env) # Get rid of the 'mission' field\n",
    "obs, _ = env.reset() # This now produces an RGB tensor only\n",
    "\n",
    "# take several actions, store the observations, actions, returns and timesteps\n",
    "all_obs = []\n",
    "all_actions = []\n",
    "all_returns = []\n",
    "all_timesteps = []\n",
    "\n",
    "\n",
    "for i in range(10):\n",
    "    action = env.action_space.sample()\n",
    "    obs, reward, terminated, truncated, info = env.step(action)\n",
    "    all_obs.append(obs)\n",
    "    all_actions.append(action)\n",
    "    all_returns.append(reward)\n",
    "    all_timesteps.append(i)\n",
    "\n",
    "# convert to tensors.unsqueeze(0)\n",
    "all_obs = t.tensor(all_obs)\n",
    "all_actions = t.tensor(all_actions).reshape(-1, 1)\n",
    "all_returns = t.tensor(all_returns)\n",
    "all_returns = t.randn((10, 1))\n",
    "all_returns_to_go = all_returns.flip(0).cumsum(0).flip(0).reshape(-1, 1)\n",
    "all_timesteps = t.tensor(all_timesteps).reshape(-1, 1)"
   ]
  },
  {
   "attachments": {},
   "cell_type": "markdown",
   "metadata": {},
   "source": [
    "# CNN "
   ]
  },
  {
   "cell_type": "code",
   "execution_count": null,
   "metadata": {},
   "outputs": [
    {
     "data": {
      "text/plain": [
       "tensor([[ 2.2918,  2.3031,  0.0000,  0.0000,  0.0000,  0.0000,  4.8692,  0.0000,\n",
       "          0.0000,  0.0000,  1.3046,  3.2425,  0.0000,  2.4428,  0.0000,  5.8740,\n",
       "          0.9391,  5.1203,  2.1983,  0.0000,  0.0000,  0.0000,  1.6969,  7.1444,\n",
       "          0.0000,  1.0069,  1.9155,  0.0000,  1.5764,  2.6883,  0.0000,  5.2671,\n",
       "          0.0000,  0.0000,  3.8132,  0.0000,  0.0000,  4.7259,  0.5788,  0.0000,\n",
       "          0.8931,  0.0000,  0.0000,  3.6706,  0.0000,  0.7813,  3.8906,  0.0000,\n",
       "          0.9702,  2.0933,  0.0000, 12.0165,  2.1961,  0.0000,  4.0366,  2.6068,\n",
       "          7.6517,  0.0000,  0.7258,  5.9120,  0.0000,  0.0000,  0.0000,  0.0000]],\n",
       "       grad_fn=<ReluBackward0>)"
      ]
     },
     "execution_count": 294,
     "metadata": {},
     "output_type": "execute_result"
    }
   ],
   "source": [
    "# for the grid world environment we will a small CNN to extract features from the image\n",
    "# we will use the same CNN as in the original paper\n",
    "\n",
    "import torch as t\n",
    "import torch.nn as nn\n",
    "import torch.nn.functional as F\n",
    "from einops import rearrange\n",
    "\n",
    "\n",
    "class StateEncoder(nn.Module):\n",
    "    def __init__(self, n_embed):\n",
    "        super(StateEncoder, self).__init__()\n",
    "        self.n_embed = n_embed\n",
    "        # input has shape 56 x 56 x 3\n",
    "        # output has shape 1 x 1 x 512\n",
    "        self.conv1 = nn.Conv2d(3, 32, 8, stride=4, padding=0) # 56 -> 13\n",
    "        self.conv2 = nn.Conv2d(32, 64, 4, stride=2, padding=0) # 13 -> 5\n",
    "        self.conv3 = nn.Conv2d(64, 64, 3, stride=1, padding=0) # 5 -> 3\n",
    "        self.flatten = nn.Flatten()\n",
    "        self.fc = nn.Linear(576, n_embed)\n",
    "\n",
    "    def forward(self, x):\n",
    "        x = F.relu(self.conv1(x))\n",
    "        x = F.relu(self.conv2(x))\n",
    "        x = F.relu(self.conv3(x))\n",
    "        x = self.flatten(x)\n",
    "        x = self.fc(x)\n",
    "        x = F.relu(x)\n",
    "        return x\n",
    "\n",
    "# we will use the same CNN as in the original paper\n",
    "cnn = StateEncoder(64).to(\"cpu\")\n",
    "x = obs.unsqueeze(0).to(t.float32)\n",
    "x = rearrange(x, 'b h w c-> b c h w')\n",
    "cnn(x)"
   ]
  },
  {
   "attachments": {},
   "cell_type": "markdown",
   "metadata": {},
   "source": [
    "For reference: https://github.com/kzl/decision-transformer/blob/master/atari/mingpt/model_atari.py"
   ]
  },
  {
   "cell_type": "code",
   "execution_count": null,
   "metadata": {},
   "outputs": [],
   "source": [
    "import torch as t \n",
    "import gymnasium as gym\n",
    "from minigrid.wrappers import RGBImgPartialObsWrapper, ImgObsWrapper\n",
    "\n",
    "env = gym.make('MiniGrid-Empty-8x8-v0')\n",
    "env = RGBImgPartialObsWrapper(env) # Get pixel observations\n",
    "env = ImgObsWrapper(env) # Get rid of the 'mission' field\n",
    "obs, _ = env.reset() # This now produces an RGB tensor only\n",
    "\n",
    "# take several actions, store the observations, actions, returns and timesteps\n",
    "all_obs = []\n",
    "all_actions = []\n",
    "all_returns = []\n",
    "all_timesteps = []\n",
    "\n",
    "\n",
    "for i in range(10):\n",
    "    action = env.action_space.sample()\n",
    "    obs, reward, terminated, truncated, info = env.step(action)\n",
    "    all_obs.append(obs)\n",
    "    all_actions.append(action)\n",
    "    all_returns.append(reward)\n",
    "    all_timesteps.append(i)\n",
    "\n",
    "# convert to tensors.unsqueeze(0)\n",
    "all_obs = t.tensor(all_obs).to(t.float32).unsqueeze(0)\n",
    "all_actions = t.tensor(all_actions).reshape(-1, 1).unsqueeze(0)\n",
    "all_returns = t.randn((10, 1))\n",
    "all_returns_to_go = all_returns.flip(0).cumsum(0).flip(0).reshape(-1, 1).unsqueeze(0)\n",
    "all_timesteps = t.tensor(all_timesteps).reshape(-1, 1).unsqueeze(0)\n"
   ]
  },
  {
   "attachments": {},
   "cell_type": "markdown",
   "metadata": {},
   "source": [
    "# Train a decision transformer on minigrid\n",
    "\n",
    "I thought it might be easy to sample trajectories from a random agent on minigrid and train on these. \n",
    "\n",
    "The problem with this approach is that it's just massively too slow. We code that does parallelized environments and agents which sample from \"solution trajectories\" more often than random agents."
   ]
  },
  {
   "cell_type": "code",
   "execution_count": null,
   "metadata": {},
   "outputs": [
    {
     "name": "stderr",
     "output_type": "stream",
     "text": [
      "/var/folders/qd/04zj2h4n2pvc87x_7w1z97_r0000gn/T/ipykernel_66398/3137470864.py:68: VisibleDeprecationWarning:\n",
      "\n",
      "Creating an ndarray from ragged nested sequences (which is a list-or-tuple of lists-or-tuples-or ndarrays with different lengths or shapes) is deprecated. If you meant to do this, you must specify 'dtype=object' when creating the ndarray.\n",
      "\n",
      "/var/folders/qd/04zj2h4n2pvc87x_7w1z97_r0000gn/T/ipykernel_66398/3137470864.py:69: VisibleDeprecationWarning:\n",
      "\n",
      "Creating an ndarray from ragged nested sequences (which is a list-or-tuple of lists-or-tuples-or ndarrays with different lengths or shapes) is deprecated. If you meant to do this, you must specify 'dtype=object' when creating the ndarray.\n",
      "\n",
      "/var/folders/qd/04zj2h4n2pvc87x_7w1z97_r0000gn/T/ipykernel_66398/3137470864.py:70: VisibleDeprecationWarning:\n",
      "\n",
      "Creating an ndarray from ragged nested sequences (which is a list-or-tuple of lists-or-tuples-or ndarrays with different lengths or shapes) is deprecated. If you meant to do this, you must specify 'dtype=object' when creating the ndarray.\n",
      "\n"
     ]
    }
   ],
   "source": [
    "import numpy as np \n",
    "from typing import Union\n",
    "ActType = Union[int, np.ndarray]\n",
    "\n",
    "class Agent:\n",
    "    '''Base class for agents in a multi-armed bandit environment (you do not need to add any implementation here)'''\n",
    "\n",
    "    rng: np.random.Generator\n",
    "\n",
    "    def __init__(self, num_arms: int, seed: int):\n",
    "        self.num_arms = num_arms\n",
    "        self.reset(seed)\n",
    "\n",
    "    def get_action(self) -> ActType:\n",
    "        raise NotImplementedError()\n",
    "\n",
    "    def observe(self, action: ActType, reward: float, info: dict) -> None:\n",
    "        pass\n",
    "\n",
    "    def reset(self, seed: int) -> None:\n",
    "        self.rng = np.random.default_rng(seed)\n",
    "\n",
    "class RandomAgent(Agent):\n",
    "    def __init__(self, env):\n",
    "        self.env = env\n",
    "    def get_action(self):\n",
    "        return self.env.action_space.sample()\n",
    "\n",
    "def run_episode(env: gym.Env, agent: Agent, seed: int):\n",
    "    rewards = []\n",
    "    actions = []\n",
    "    states = []\n",
    "    env.reset(seed=seed)\n",
    "    agent.reset(seed=seed)\n",
    "    done = False\n",
    "    truncated = False\n",
    "    while ((not done) and (not truncated)):\n",
    "        arm = agent.get_action()\n",
    "        actions.append(arm)\n",
    "        (obs, reward, done, truncated, info) = env.step(arm)\n",
    "        agent.observe(arm, reward, info)\n",
    "        states.append(obs)\n",
    "        rewards.append(reward)\n",
    "    rewards = np.array(rewards, dtype=float)\n",
    "    actions = np.array(actions, dtype=int)\n",
    "\n",
    "    return rewards, np.array(states), actions\n",
    "\n",
    "env = gym.make('MiniGrid-Empty-5x5-v0')\n",
    "env = RGBImgPartialObsWrapper(env) # Get pixel observations\n",
    "env = ImgObsWrapper(env) # Get rid of the 'mission' field\n",
    "# add a truncation wrapper\n",
    "agent = RandomAgent(env)\n",
    "\n",
    "reward_trajs = []\n",
    "states_trajs = []\n",
    "actions_trajs = []\n",
    "for event in range(100):\n",
    "    reward_traj, states_traj, actions_traj = run_episode(env, agent, seed=i)\n",
    "    reward_trajs.append(reward_traj)\n",
    "    states_trajs.append(states_traj)\n",
    "    actions_trajs.append(actions_traj)\n",
    "\n",
    "# gym.vector.SyncVectorEnv(\n",
    "#     env_fns=[lambda: gym.make('MiniGrid-Empty-5x5-v0') for _ in range(10)],\n",
    "# )\n",
    "\n",
    "reward_trajs = np.array(reward_trajs)\n",
    "states_trajs = np.array(states_trajs)\n",
    "actions_trajs = np.array(actions_trajs)\n"
   ]
  },
  {
   "cell_type": "code",
   "execution_count": null,
   "metadata": {},
   "outputs": [
    {
     "data": {
      "application/vnd.plotly.v1+json": {
       "config": {
        "plotlyServerURL": "https://plot.ly"
       },
       "data": [
        {
         "alignmentgroup": "True",
         "bingroup": "x",
         "hovertemplate": "variable=0<br>value=%{x}<br>count=%{y}<extra></extra>",
         "legendgroup": "0",
         "marker": {
          "color": "#636efa",
          "pattern": {
           "shape": ""
          }
         },
         "name": "0",
         "offsetgroup": "0",
         "orientation": "v",
         "showlegend": true,
         "type": "histogram",
         "x": [
          100,
          78,
          63,
          14,
          41,
          21,
          100,
          70,
          39,
          100,
          100,
          100,
          52,
          100,
          100,
          100,
          81,
          100,
          100,
          100,
          25,
          76,
          100,
          26,
          100,
          100,
          37,
          100,
          15,
          100,
          44,
          94,
          85,
          100,
          75,
          61,
          100,
          100,
          100,
          100,
          34,
          100,
          100,
          100,
          90,
          100,
          100,
          100,
          100,
          100,
          100,
          43,
          60,
          100,
          87,
          100,
          100,
          100,
          100,
          100,
          49,
          100,
          100,
          100,
          92,
          71,
          40,
          68,
          100,
          5,
          100,
          100,
          100,
          100,
          100,
          100,
          100,
          100,
          100,
          56,
          33,
          100,
          100,
          100,
          20,
          96,
          86,
          33,
          55,
          100,
          48,
          100,
          100,
          100,
          26,
          100,
          100,
          99,
          100,
          100
         ],
         "xaxis": "x",
         "yaxis": "y"
        }
       ],
       "layout": {
        "barmode": "relative",
        "legend": {
         "title": {
          "text": "variable"
         },
         "tracegroupgap": 0
        },
        "margin": {
         "t": 60
        },
        "template": {
         "data": {
          "bar": [
           {
            "error_x": {
             "color": "#2a3f5f"
            },
            "error_y": {
             "color": "#2a3f5f"
            },
            "marker": {
             "line": {
              "color": "#E5ECF6",
              "width": 0.5
             },
             "pattern": {
              "fillmode": "overlay",
              "size": 10,
              "solidity": 0.2
             }
            },
            "type": "bar"
           }
          ],
          "barpolar": [
           {
            "marker": {
             "line": {
              "color": "#E5ECF6",
              "width": 0.5
             },
             "pattern": {
              "fillmode": "overlay",
              "size": 10,
              "solidity": 0.2
             }
            },
            "type": "barpolar"
           }
          ],
          "carpet": [
           {
            "aaxis": {
             "endlinecolor": "#2a3f5f",
             "gridcolor": "white",
             "linecolor": "white",
             "minorgridcolor": "white",
             "startlinecolor": "#2a3f5f"
            },
            "baxis": {
             "endlinecolor": "#2a3f5f",
             "gridcolor": "white",
             "linecolor": "white",
             "minorgridcolor": "white",
             "startlinecolor": "#2a3f5f"
            },
            "type": "carpet"
           }
          ],
          "choropleth": [
           {
            "colorbar": {
             "outlinewidth": 0,
             "ticks": ""
            },
            "type": "choropleth"
           }
          ],
          "contour": [
           {
            "colorbar": {
             "outlinewidth": 0,
             "ticks": ""
            },
            "colorscale": [
             [
              0,
              "#0d0887"
             ],
             [
              0.1111111111111111,
              "#46039f"
             ],
             [
              0.2222222222222222,
              "#7201a8"
             ],
             [
              0.3333333333333333,
              "#9c179e"
             ],
             [
              0.4444444444444444,
              "#bd3786"
             ],
             [
              0.5555555555555556,
              "#d8576b"
             ],
             [
              0.6666666666666666,
              "#ed7953"
             ],
             [
              0.7777777777777778,
              "#fb9f3a"
             ],
             [
              0.8888888888888888,
              "#fdca26"
             ],
             [
              1,
              "#f0f921"
             ]
            ],
            "type": "contour"
           }
          ],
          "contourcarpet": [
           {
            "colorbar": {
             "outlinewidth": 0,
             "ticks": ""
            },
            "type": "contourcarpet"
           }
          ],
          "heatmap": [
           {
            "colorbar": {
             "outlinewidth": 0,
             "ticks": ""
            },
            "colorscale": [
             [
              0,
              "#0d0887"
             ],
             [
              0.1111111111111111,
              "#46039f"
             ],
             [
              0.2222222222222222,
              "#7201a8"
             ],
             [
              0.3333333333333333,
              "#9c179e"
             ],
             [
              0.4444444444444444,
              "#bd3786"
             ],
             [
              0.5555555555555556,
              "#d8576b"
             ],
             [
              0.6666666666666666,
              "#ed7953"
             ],
             [
              0.7777777777777778,
              "#fb9f3a"
             ],
             [
              0.8888888888888888,
              "#fdca26"
             ],
             [
              1,
              "#f0f921"
             ]
            ],
            "type": "heatmap"
           }
          ],
          "heatmapgl": [
           {
            "colorbar": {
             "outlinewidth": 0,
             "ticks": ""
            },
            "colorscale": [
             [
              0,
              "#0d0887"
             ],
             [
              0.1111111111111111,
              "#46039f"
             ],
             [
              0.2222222222222222,
              "#7201a8"
             ],
             [
              0.3333333333333333,
              "#9c179e"
             ],
             [
              0.4444444444444444,
              "#bd3786"
             ],
             [
              0.5555555555555556,
              "#d8576b"
             ],
             [
              0.6666666666666666,
              "#ed7953"
             ],
             [
              0.7777777777777778,
              "#fb9f3a"
             ],
             [
              0.8888888888888888,
              "#fdca26"
             ],
             [
              1,
              "#f0f921"
             ]
            ],
            "type": "heatmapgl"
           }
          ],
          "histogram": [
           {
            "marker": {
             "pattern": {
              "fillmode": "overlay",
              "size": 10,
              "solidity": 0.2
             }
            },
            "type": "histogram"
           }
          ],
          "histogram2d": [
           {
            "colorbar": {
             "outlinewidth": 0,
             "ticks": ""
            },
            "colorscale": [
             [
              0,
              "#0d0887"
             ],
             [
              0.1111111111111111,
              "#46039f"
             ],
             [
              0.2222222222222222,
              "#7201a8"
             ],
             [
              0.3333333333333333,
              "#9c179e"
             ],
             [
              0.4444444444444444,
              "#bd3786"
             ],
             [
              0.5555555555555556,
              "#d8576b"
             ],
             [
              0.6666666666666666,
              "#ed7953"
             ],
             [
              0.7777777777777778,
              "#fb9f3a"
             ],
             [
              0.8888888888888888,
              "#fdca26"
             ],
             [
              1,
              "#f0f921"
             ]
            ],
            "type": "histogram2d"
           }
          ],
          "histogram2dcontour": [
           {
            "colorbar": {
             "outlinewidth": 0,
             "ticks": ""
            },
            "colorscale": [
             [
              0,
              "#0d0887"
             ],
             [
              0.1111111111111111,
              "#46039f"
             ],
             [
              0.2222222222222222,
              "#7201a8"
             ],
             [
              0.3333333333333333,
              "#9c179e"
             ],
             [
              0.4444444444444444,
              "#bd3786"
             ],
             [
              0.5555555555555556,
              "#d8576b"
             ],
             [
              0.6666666666666666,
              "#ed7953"
             ],
             [
              0.7777777777777778,
              "#fb9f3a"
             ],
             [
              0.8888888888888888,
              "#fdca26"
             ],
             [
              1,
              "#f0f921"
             ]
            ],
            "type": "histogram2dcontour"
           }
          ],
          "mesh3d": [
           {
            "colorbar": {
             "outlinewidth": 0,
             "ticks": ""
            },
            "type": "mesh3d"
           }
          ],
          "parcoords": [
           {
            "line": {
             "colorbar": {
              "outlinewidth": 0,
              "ticks": ""
             }
            },
            "type": "parcoords"
           }
          ],
          "pie": [
           {
            "automargin": true,
            "type": "pie"
           }
          ],
          "scatter": [
           {
            "fillpattern": {
             "fillmode": "overlay",
             "size": 10,
             "solidity": 0.2
            },
            "type": "scatter"
           }
          ],
          "scatter3d": [
           {
            "line": {
             "colorbar": {
              "outlinewidth": 0,
              "ticks": ""
             }
            },
            "marker": {
             "colorbar": {
              "outlinewidth": 0,
              "ticks": ""
             }
            },
            "type": "scatter3d"
           }
          ],
          "scattercarpet": [
           {
            "marker": {
             "colorbar": {
              "outlinewidth": 0,
              "ticks": ""
             }
            },
            "type": "scattercarpet"
           }
          ],
          "scattergeo": [
           {
            "marker": {
             "colorbar": {
              "outlinewidth": 0,
              "ticks": ""
             }
            },
            "type": "scattergeo"
           }
          ],
          "scattergl": [
           {
            "marker": {
             "colorbar": {
              "outlinewidth": 0,
              "ticks": ""
             }
            },
            "type": "scattergl"
           }
          ],
          "scattermapbox": [
           {
            "marker": {
             "colorbar": {
              "outlinewidth": 0,
              "ticks": ""
             }
            },
            "type": "scattermapbox"
           }
          ],
          "scatterpolar": [
           {
            "marker": {
             "colorbar": {
              "outlinewidth": 0,
              "ticks": ""
             }
            },
            "type": "scatterpolar"
           }
          ],
          "scatterpolargl": [
           {
            "marker": {
             "colorbar": {
              "outlinewidth": 0,
              "ticks": ""
             }
            },
            "type": "scatterpolargl"
           }
          ],
          "scatterternary": [
           {
            "marker": {
             "colorbar": {
              "outlinewidth": 0,
              "ticks": ""
             }
            },
            "type": "scatterternary"
           }
          ],
          "surface": [
           {
            "colorbar": {
             "outlinewidth": 0,
             "ticks": ""
            },
            "colorscale": [
             [
              0,
              "#0d0887"
             ],
             [
              0.1111111111111111,
              "#46039f"
             ],
             [
              0.2222222222222222,
              "#7201a8"
             ],
             [
              0.3333333333333333,
              "#9c179e"
             ],
             [
              0.4444444444444444,
              "#bd3786"
             ],
             [
              0.5555555555555556,
              "#d8576b"
             ],
             [
              0.6666666666666666,
              "#ed7953"
             ],
             [
              0.7777777777777778,
              "#fb9f3a"
             ],
             [
              0.8888888888888888,
              "#fdca26"
             ],
             [
              1,
              "#f0f921"
             ]
            ],
            "type": "surface"
           }
          ],
          "table": [
           {
            "cells": {
             "fill": {
              "color": "#EBF0F8"
             },
             "line": {
              "color": "white"
             }
            },
            "header": {
             "fill": {
              "color": "#C8D4E3"
             },
             "line": {
              "color": "white"
             }
            },
            "type": "table"
           }
          ]
         },
         "layout": {
          "annotationdefaults": {
           "arrowcolor": "#2a3f5f",
           "arrowhead": 0,
           "arrowwidth": 1
          },
          "autotypenumbers": "strict",
          "coloraxis": {
           "colorbar": {
            "outlinewidth": 0,
            "ticks": ""
           }
          },
          "colorscale": {
           "diverging": [
            [
             0,
             "#8e0152"
            ],
            [
             0.1,
             "#c51b7d"
            ],
            [
             0.2,
             "#de77ae"
            ],
            [
             0.3,
             "#f1b6da"
            ],
            [
             0.4,
             "#fde0ef"
            ],
            [
             0.5,
             "#f7f7f7"
            ],
            [
             0.6,
             "#e6f5d0"
            ],
            [
             0.7,
             "#b8e186"
            ],
            [
             0.8,
             "#7fbc41"
            ],
            [
             0.9,
             "#4d9221"
            ],
            [
             1,
             "#276419"
            ]
           ],
           "sequential": [
            [
             0,
             "#0d0887"
            ],
            [
             0.1111111111111111,
             "#46039f"
            ],
            [
             0.2222222222222222,
             "#7201a8"
            ],
            [
             0.3333333333333333,
             "#9c179e"
            ],
            [
             0.4444444444444444,
             "#bd3786"
            ],
            [
             0.5555555555555556,
             "#d8576b"
            ],
            [
             0.6666666666666666,
             "#ed7953"
            ],
            [
             0.7777777777777778,
             "#fb9f3a"
            ],
            [
             0.8888888888888888,
             "#fdca26"
            ],
            [
             1,
             "#f0f921"
            ]
           ],
           "sequentialminus": [
            [
             0,
             "#0d0887"
            ],
            [
             0.1111111111111111,
             "#46039f"
            ],
            [
             0.2222222222222222,
             "#7201a8"
            ],
            [
             0.3333333333333333,
             "#9c179e"
            ],
            [
             0.4444444444444444,
             "#bd3786"
            ],
            [
             0.5555555555555556,
             "#d8576b"
            ],
            [
             0.6666666666666666,
             "#ed7953"
            ],
            [
             0.7777777777777778,
             "#fb9f3a"
            ],
            [
             0.8888888888888888,
             "#fdca26"
            ],
            [
             1,
             "#f0f921"
            ]
           ]
          },
          "colorway": [
           "#636efa",
           "#EF553B",
           "#00cc96",
           "#ab63fa",
           "#FFA15A",
           "#19d3f3",
           "#FF6692",
           "#B6E880",
           "#FF97FF",
           "#FECB52"
          ],
          "font": {
           "color": "#2a3f5f"
          },
          "geo": {
           "bgcolor": "white",
           "lakecolor": "white",
           "landcolor": "#E5ECF6",
           "showlakes": true,
           "showland": true,
           "subunitcolor": "white"
          },
          "hoverlabel": {
           "align": "left"
          },
          "hovermode": "closest",
          "mapbox": {
           "style": "light"
          },
          "paper_bgcolor": "white",
          "plot_bgcolor": "#E5ECF6",
          "polar": {
           "angularaxis": {
            "gridcolor": "white",
            "linecolor": "white",
            "ticks": ""
           },
           "bgcolor": "#E5ECF6",
           "radialaxis": {
            "gridcolor": "white",
            "linecolor": "white",
            "ticks": ""
           }
          },
          "scene": {
           "xaxis": {
            "backgroundcolor": "#E5ECF6",
            "gridcolor": "white",
            "gridwidth": 2,
            "linecolor": "white",
            "showbackground": true,
            "ticks": "",
            "zerolinecolor": "white"
           },
           "yaxis": {
            "backgroundcolor": "#E5ECF6",
            "gridcolor": "white",
            "gridwidth": 2,
            "linecolor": "white",
            "showbackground": true,
            "ticks": "",
            "zerolinecolor": "white"
           },
           "zaxis": {
            "backgroundcolor": "#E5ECF6",
            "gridcolor": "white",
            "gridwidth": 2,
            "linecolor": "white",
            "showbackground": true,
            "ticks": "",
            "zerolinecolor": "white"
           }
          },
          "shapedefaults": {
           "line": {
            "color": "#2a3f5f"
           }
          },
          "ternary": {
           "aaxis": {
            "gridcolor": "white",
            "linecolor": "white",
            "ticks": ""
           },
           "baxis": {
            "gridcolor": "white",
            "linecolor": "white",
            "ticks": ""
           },
           "bgcolor": "#E5ECF6",
           "caxis": {
            "gridcolor": "white",
            "linecolor": "white",
            "ticks": ""
           }
          },
          "title": {
           "x": 0.05
          },
          "xaxis": {
           "automargin": true,
           "gridcolor": "white",
           "linecolor": "white",
           "ticks": "",
           "title": {
            "standoff": 15
           },
           "zerolinecolor": "white",
           "zerolinewidth": 2
          },
          "yaxis": {
           "automargin": true,
           "gridcolor": "white",
           "linecolor": "white",
           "ticks": "",
           "title": {
            "standoff": 15
           },
           "zerolinecolor": "white",
           "zerolinewidth": 2
          }
         }
        },
        "xaxis": {
         "anchor": "y",
         "domain": [
          0,
          1
         ],
         "title": {
          "text": "value"
         }
        },
        "yaxis": {
         "anchor": "x",
         "domain": [
          0,
          1
         ],
         "title": {
          "text": "count"
         }
        }
       }
      }
     },
     "metadata": {},
     "output_type": "display_data"
    }
   ],
   "source": [
    "import plotly.express as px \n",
    "lengths = [len(traj) for traj in reward_trajs]\n",
    "px.histogram(lengths)"
   ]
  },
  {
   "cell_type": "code",
   "execution_count": null,
   "metadata": {},
   "outputs": [
    {
     "ename": "IndexError",
     "evalue": "index out of range in self",
     "output_type": "error",
     "traceback": [
      "\u001b[0;31m---------------------------------------------------------------------------\u001b[0m",
      "\u001b[0;31mIndexError\u001b[0m                                Traceback (most recent call last)",
      "Cell \u001b[0;32mIn[311], line 15\u001b[0m\n\u001b[1;32m     11\u001b[0m rtg \u001b[39m=\u001b[39m np\u001b[39m.\u001b[39mflip(reward_traj)\u001b[39m.\u001b[39mcumsum(\u001b[39m0\u001b[39m)\n\u001b[1;32m     13\u001b[0m decision_transformer \u001b[39m=\u001b[39m DecisionTransformer(env, max_game_length\u001b[39m=\u001b[39m \u001b[39m10\u001b[39m\u001b[39m*\u001b[39m\u001b[39m5\u001b[39m)\n\u001b[0;32m---> 15\u001b[0m logits, _ \u001b[39m=\u001b[39m decision_transformer(\n\u001b[1;32m     16\u001b[0m     states \u001b[39m=\u001b[39;49m t\u001b[39m.\u001b[39;49mtensor(states_traj)\u001b[39m.\u001b[39;49mto(t\u001b[39m.\u001b[39;49mfloat32)\u001b[39m.\u001b[39;49munsqueeze(\u001b[39m0\u001b[39;49m),\n\u001b[1;32m     17\u001b[0m     actions \u001b[39m=\u001b[39;49m t\u001b[39m.\u001b[39;49mtensor(actions_traj)\u001b[39m.\u001b[39;49munsqueeze(\u001b[39m0\u001b[39;49m)\u001b[39m.\u001b[39;49munsqueeze(\u001b[39m-\u001b[39;49m\u001b[39m1\u001b[39;49m),\n\u001b[1;32m     18\u001b[0m     rtgs \u001b[39m=\u001b[39;49m t\u001b[39m.\u001b[39;49mtensor(rtg)\u001b[39m.\u001b[39;49munsqueeze(\u001b[39m0\u001b[39;49m)\u001b[39m.\u001b[39;49munsqueeze(\u001b[39m-\u001b[39;49m\u001b[39m1\u001b[39;49m),\n\u001b[1;32m     19\u001b[0m     timesteps \u001b[39m=\u001b[39;49m t\u001b[39m.\u001b[39;49mtensor(np\u001b[39m.\u001b[39;49marange(\u001b[39mlen\u001b[39;49m(reward_traj)))\u001b[39m.\u001b[39;49munsqueeze(\u001b[39m0\u001b[39;49m)\u001b[39m.\u001b[39;49munsqueeze(\u001b[39m-\u001b[39;49m\u001b[39m1\u001b[39;49m)\n\u001b[1;32m     20\u001b[0m )\n",
      "File \u001b[0;32m~/miniforge3/envs/decision_transformer_interpretability/lib/python3.9/site-packages/torch/nn/modules/module.py:1194\u001b[0m, in \u001b[0;36mModule._call_impl\u001b[0;34m(self, *input, **kwargs)\u001b[0m\n\u001b[1;32m   1190\u001b[0m \u001b[39m# If we don't have any hooks, we want to skip the rest of the logic in\u001b[39;00m\n\u001b[1;32m   1191\u001b[0m \u001b[39m# this function, and just call forward.\u001b[39;00m\n\u001b[1;32m   1192\u001b[0m \u001b[39mif\u001b[39;00m \u001b[39mnot\u001b[39;00m (\u001b[39mself\u001b[39m\u001b[39m.\u001b[39m_backward_hooks \u001b[39mor\u001b[39;00m \u001b[39mself\u001b[39m\u001b[39m.\u001b[39m_forward_hooks \u001b[39mor\u001b[39;00m \u001b[39mself\u001b[39m\u001b[39m.\u001b[39m_forward_pre_hooks \u001b[39mor\u001b[39;00m _global_backward_hooks\n\u001b[1;32m   1193\u001b[0m         \u001b[39mor\u001b[39;00m _global_forward_hooks \u001b[39mor\u001b[39;00m _global_forward_pre_hooks):\n\u001b[0;32m-> 1194\u001b[0m     \u001b[39mreturn\u001b[39;00m forward_call(\u001b[39m*\u001b[39;49m\u001b[39minput\u001b[39;49m, \u001b[39m*\u001b[39;49m\u001b[39m*\u001b[39;49mkwargs)\n\u001b[1;32m   1195\u001b[0m \u001b[39m# Do not call functions when jit is used\u001b[39;00m\n\u001b[1;32m   1196\u001b[0m full_backward_hooks, non_full_backward_hooks \u001b[39m=\u001b[39m [], []\n",
      "File \u001b[0;32m~/GithubRepositories/DecisionTransformerInterpretability/src/decision_transformer.py:118\u001b[0m, in \u001b[0;36mDecisionTransformer.forward\u001b[0;34m(self, states, actions, targets, rtgs, timesteps)\u001b[0m\n\u001b[1;32m    116\u001b[0m action_embeddings \u001b[39m=\u001b[39m \u001b[39mself\u001b[39m\u001b[39m.\u001b[39mget_action_embeddings(actions) \u001b[39mif\u001b[39;00m actions \u001b[39mis\u001b[39;00m \u001b[39mnot\u001b[39;00m \u001b[39mNone\u001b[39;00m \u001b[39melse\u001b[39;00m \u001b[39mNone\u001b[39;00m \u001b[39m# batch_size, block_size, n_embd or None\u001b[39;00m\n\u001b[1;32m    117\u001b[0m reward_embeddings \u001b[39m=\u001b[39m \u001b[39mself\u001b[39m\u001b[39m.\u001b[39mget_reward_embeddings(rtgs) \u001b[39m# batch_size, block_size, n_embd\u001b[39;00m\n\u001b[0;32m--> 118\u001b[0m time_embeddings \u001b[39m=\u001b[39m \u001b[39mself\u001b[39;49m\u001b[39m.\u001b[39;49mget_time_embeddings(timesteps) \u001b[39m# batch_size, block_size, n_embd\u001b[39;00m\n\u001b[1;32m    120\u001b[0m \u001b[39m# use state_embeddings, actions, rewards to go and \u001b[39;00m\n\u001b[1;32m    121\u001b[0m token_embeddings \u001b[39m=\u001b[39m \u001b[39mself\u001b[39m\u001b[39m.\u001b[39mget_token_embeddings(\n\u001b[1;32m    122\u001b[0m     state_embeddings \u001b[39m=\u001b[39m state_embeddings, \n\u001b[1;32m    123\u001b[0m     action_embeddings \u001b[39m=\u001b[39m action_embeddings,\n\u001b[1;32m    124\u001b[0m     reward_embeddings \u001b[39m=\u001b[39m reward_embeddings,\n\u001b[1;32m    125\u001b[0m     time_embeddings \u001b[39m=\u001b[39m time_embeddings\n\u001b[1;32m    126\u001b[0m )\n",
      "File \u001b[0;32m~/GithubRepositories/DecisionTransformerInterpretability/src/decision_transformer.py:162\u001b[0m, in \u001b[0;36mDecisionTransformer.get_time_embeddings\u001b[0;34m(self, timesteps)\u001b[0m\n\u001b[1;32m    160\u001b[0m block_size \u001b[39m=\u001b[39m timesteps\u001b[39m.\u001b[39mshape[\u001b[39m1\u001b[39m]\n\u001b[1;32m    161\u001b[0m timesteps \u001b[39m=\u001b[39m rearrange(timesteps, \u001b[39m'\u001b[39m\u001b[39mbatch block time-> (batch block) time\u001b[39m\u001b[39m'\u001b[39m)\n\u001b[0;32m--> 162\u001b[0m time_embeddings \u001b[39m=\u001b[39m \u001b[39mself\u001b[39;49m\u001b[39m.\u001b[39;49mtime_embedding(timesteps)\u001b[39m.\u001b[39msqueeze(\u001b[39m-\u001b[39m\u001b[39m2\u001b[39m)\n\u001b[1;32m    163\u001b[0m time_embeddings \u001b[39m=\u001b[39m rearrange(time_embeddings, \u001b[39m'\u001b[39m\u001b[39m(batch block) n_embd -> batch block n_embd\u001b[39m\u001b[39m'\u001b[39m, block\u001b[39m=\u001b[39mblock_size)\n\u001b[1;32m    164\u001b[0m \u001b[39mreturn\u001b[39;00m time_embeddings\n",
      "File \u001b[0;32m~/miniforge3/envs/decision_transformer_interpretability/lib/python3.9/site-packages/torch/nn/modules/module.py:1194\u001b[0m, in \u001b[0;36mModule._call_impl\u001b[0;34m(self, *input, **kwargs)\u001b[0m\n\u001b[1;32m   1190\u001b[0m \u001b[39m# If we don't have any hooks, we want to skip the rest of the logic in\u001b[39;00m\n\u001b[1;32m   1191\u001b[0m \u001b[39m# this function, and just call forward.\u001b[39;00m\n\u001b[1;32m   1192\u001b[0m \u001b[39mif\u001b[39;00m \u001b[39mnot\u001b[39;00m (\u001b[39mself\u001b[39m\u001b[39m.\u001b[39m_backward_hooks \u001b[39mor\u001b[39;00m \u001b[39mself\u001b[39m\u001b[39m.\u001b[39m_forward_hooks \u001b[39mor\u001b[39;00m \u001b[39mself\u001b[39m\u001b[39m.\u001b[39m_forward_pre_hooks \u001b[39mor\u001b[39;00m _global_backward_hooks\n\u001b[1;32m   1193\u001b[0m         \u001b[39mor\u001b[39;00m _global_forward_hooks \u001b[39mor\u001b[39;00m _global_forward_pre_hooks):\n\u001b[0;32m-> 1194\u001b[0m     \u001b[39mreturn\u001b[39;00m forward_call(\u001b[39m*\u001b[39;49m\u001b[39minput\u001b[39;49m, \u001b[39m*\u001b[39;49m\u001b[39m*\u001b[39;49mkwargs)\n\u001b[1;32m   1195\u001b[0m \u001b[39m# Do not call functions when jit is used\u001b[39;00m\n\u001b[1;32m   1196\u001b[0m full_backward_hooks, non_full_backward_hooks \u001b[39m=\u001b[39m [], []\n",
      "File \u001b[0;32m~/miniforge3/envs/decision_transformer_interpretability/lib/python3.9/site-packages/torch/nn/modules/sparse.py:160\u001b[0m, in \u001b[0;36mEmbedding.forward\u001b[0;34m(self, input)\u001b[0m\n\u001b[1;32m    159\u001b[0m \u001b[39mdef\u001b[39;00m \u001b[39mforward\u001b[39m(\u001b[39mself\u001b[39m, \u001b[39minput\u001b[39m: Tensor) \u001b[39m-\u001b[39m\u001b[39m>\u001b[39m Tensor:\n\u001b[0;32m--> 160\u001b[0m     \u001b[39mreturn\u001b[39;00m F\u001b[39m.\u001b[39;49membedding(\n\u001b[1;32m    161\u001b[0m         \u001b[39minput\u001b[39;49m, \u001b[39mself\u001b[39;49m\u001b[39m.\u001b[39;49mweight, \u001b[39mself\u001b[39;49m\u001b[39m.\u001b[39;49mpadding_idx, \u001b[39mself\u001b[39;49m\u001b[39m.\u001b[39;49mmax_norm,\n\u001b[1;32m    162\u001b[0m         \u001b[39mself\u001b[39;49m\u001b[39m.\u001b[39;49mnorm_type, \u001b[39mself\u001b[39;49m\u001b[39m.\u001b[39;49mscale_grad_by_freq, \u001b[39mself\u001b[39;49m\u001b[39m.\u001b[39;49msparse)\n",
      "File \u001b[0;32m~/miniforge3/envs/decision_transformer_interpretability/lib/python3.9/site-packages/torch/nn/functional.py:2210\u001b[0m, in \u001b[0;36membedding\u001b[0;34m(input, weight, padding_idx, max_norm, norm_type, scale_grad_by_freq, sparse)\u001b[0m\n\u001b[1;32m   2204\u001b[0m     \u001b[39m# Note [embedding_renorm set_grad_enabled]\u001b[39;00m\n\u001b[1;32m   2205\u001b[0m     \u001b[39m# XXX: equivalent to\u001b[39;00m\n\u001b[1;32m   2206\u001b[0m     \u001b[39m# with torch.no_grad():\u001b[39;00m\n\u001b[1;32m   2207\u001b[0m     \u001b[39m#   torch.embedding_renorm_\u001b[39;00m\n\u001b[1;32m   2208\u001b[0m     \u001b[39m# remove once script supports set_grad_enabled\u001b[39;00m\n\u001b[1;32m   2209\u001b[0m     _no_grad_embedding_renorm_(weight, \u001b[39minput\u001b[39m, max_norm, norm_type)\n\u001b[0;32m-> 2210\u001b[0m \u001b[39mreturn\u001b[39;00m torch\u001b[39m.\u001b[39;49membedding(weight, \u001b[39minput\u001b[39;49m, padding_idx, scale_grad_by_freq, sparse)\n",
      "\u001b[0;31mIndexError\u001b[0m: index out of range in self"
     ]
    }
   ],
   "source": [
    "# import decision transformer\n",
    "from src.decision_transformer import DecisionTransformer\n",
    "\n",
    "# let's try an example with a single trajectory\n",
    "reward_traj = reward_trajs[0]\n",
    "states_traj = states_trajs[0]\n",
    "actions_traj = actions_trajs[0]\n",
    "\n",
    "reward_traj\n",
    "\n",
    "rtg = np.flip(reward_traj).cumsum(0)\n",
    "\n",
    "decision_transformer = DecisionTransformer(env, max_game_length= 10*5)\n",
    "\n",
    "logits, _ = decision_transformer(\n",
    "    states = t.tensor(states_traj).to(t.float32).unsqueeze(0),\n",
    "    actions = t.tensor(actions_traj).unsqueeze(0).unsqueeze(-1),\n",
    "    rtgs = t.tensor(rtg).unsqueeze(0).unsqueeze(-1),\n",
    "    timesteps = t.tensor(np.arange(len(reward_traj))).unsqueeze(0).unsqueeze(-1)\n",
    ")"
   ]
  },
  {
   "attachments": {},
   "cell_type": "markdown",
   "metadata": {},
   "source": [
    "# See if I can load a replay buffer from D4RL\n",
    "\n",
    "The original paper appears to use loaded trajectories from d4rl. We can look at these trajectories, their format and structure for reference when storing our own trajectories"
   ]
  },
  {
   "cell_type": "code",
   "execution_count": null,
   "metadata": {},
   "outputs": [
    {
     "ename": "NameNotFound",
     "evalue": "Environment maze2d-eval-medium doesn't exist. ",
     "output_type": "error",
     "traceback": [
      "\u001b[0;31m---------------------------------------------------------------------------\u001b[0m",
      "\u001b[0;31mNameNotFound\u001b[0m                              Traceback (most recent call last)",
      "Cell \u001b[0;32mIn[312], line 7\u001b[0m\n\u001b[1;32m      5\u001b[0m \u001b[39mfrom\u001b[39;00m \u001b[39mwarnings\u001b[39;00m \u001b[39mimport\u001b[39;00m simplefilter\n\u001b[1;32m      6\u001b[0m simplefilter(action\u001b[39m=\u001b[39m\u001b[39m'\u001b[39m\u001b[39mignore\u001b[39m\u001b[39m'\u001b[39m, category\u001b[39m=\u001b[39m\u001b[39mDeprecationWarning\u001b[39;00m)\n\u001b[0;32m----> 7\u001b[0m env \u001b[39m=\u001b[39m gym\u001b[39m.\u001b[39;49mmake(\u001b[39m'\u001b[39;49m\u001b[39mmaze2d-eval-medium-v1\u001b[39;49m\u001b[39m'\u001b[39;49m)\n\u001b[1;32m      8\u001b[0m \u001b[39m# _ = env.reset() # This now produces an RGB tensor only\u001b[39;00m\n\u001b[1;32m      9\u001b[0m env\u001b[39m.\u001b[39mget_dataset()\n",
      "File \u001b[0;32m~/miniforge3/envs/decision_transformer_interpretability/lib/python3.9/site-packages/gymnasium/envs/registration.py:591\u001b[0m, in \u001b[0;36mmake\u001b[0;34m(id, max_episode_steps, autoreset, apply_api_compatibility, disable_env_checker, **kwargs)\u001b[0m\n\u001b[1;32m    585\u001b[0m         logger\u001b[39m.\u001b[39mwarn(\n\u001b[1;32m    586\u001b[0m             \u001b[39mf\u001b[39m\u001b[39m\"\u001b[39m\u001b[39mUsing the latest versioned environment `\u001b[39m\u001b[39m{\u001b[39;00mnew_env_id\u001b[39m}\u001b[39;00m\u001b[39m` \u001b[39m\u001b[39m\"\u001b[39m\n\u001b[1;32m    587\u001b[0m             \u001b[39mf\u001b[39m\u001b[39m\"\u001b[39m\u001b[39minstead of the unversioned environment `\u001b[39m\u001b[39m{\u001b[39;00m\u001b[39mid\u001b[39m\u001b[39m}\u001b[39;00m\u001b[39m`.\u001b[39m\u001b[39m\"\u001b[39m\n\u001b[1;32m    588\u001b[0m         )\n\u001b[1;32m    590\u001b[0m     \u001b[39mif\u001b[39;00m spec_ \u001b[39mis\u001b[39;00m \u001b[39mNone\u001b[39;00m:\n\u001b[0;32m--> 591\u001b[0m         _check_version_exists(ns, name, version)\n\u001b[1;32m    592\u001b[0m         \u001b[39mraise\u001b[39;00m error\u001b[39m.\u001b[39mError(\u001b[39mf\u001b[39m\u001b[39m\"\u001b[39m\u001b[39mNo registered env with id: \u001b[39m\u001b[39m{\u001b[39;00m\u001b[39mid\u001b[39m\u001b[39m}\u001b[39;00m\u001b[39m\"\u001b[39m)\n\u001b[1;32m    594\u001b[0m _kwargs \u001b[39m=\u001b[39m spec_\u001b[39m.\u001b[39mkwargs\u001b[39m.\u001b[39mcopy()\n",
      "File \u001b[0;32m~/miniforge3/envs/decision_transformer_interpretability/lib/python3.9/site-packages/gymnasium/envs/registration.py:217\u001b[0m, in \u001b[0;36m_check_version_exists\u001b[0;34m(ns, name, version)\u001b[0m\n\u001b[1;32m    214\u001b[0m \u001b[39mif\u001b[39;00m get_env_id(ns, name, version) \u001b[39min\u001b[39;00m registry:\n\u001b[1;32m    215\u001b[0m     \u001b[39mreturn\u001b[39;00m\n\u001b[0;32m--> 217\u001b[0m _check_name_exists(ns, name)\n\u001b[1;32m    218\u001b[0m \u001b[39mif\u001b[39;00m version \u001b[39mis\u001b[39;00m \u001b[39mNone\u001b[39;00m:\n\u001b[1;32m    219\u001b[0m     \u001b[39mreturn\u001b[39;00m\n",
      "File \u001b[0;32m~/miniforge3/envs/decision_transformer_interpretability/lib/python3.9/site-packages/gymnasium/envs/registration.py:194\u001b[0m, in \u001b[0;36m_check_name_exists\u001b[0;34m(ns, name)\u001b[0m\n\u001b[1;32m    191\u001b[0m namespace_msg \u001b[39m=\u001b[39m \u001b[39mf\u001b[39m\u001b[39m\"\u001b[39m\u001b[39m in namespace \u001b[39m\u001b[39m{\u001b[39;00mns\u001b[39m}\u001b[39;00m\u001b[39m\"\u001b[39m \u001b[39mif\u001b[39;00m ns \u001b[39melse\u001b[39;00m \u001b[39m\"\u001b[39m\u001b[39m\"\u001b[39m\n\u001b[1;32m    192\u001b[0m suggestion_msg \u001b[39m=\u001b[39m \u001b[39mf\u001b[39m\u001b[39m\"\u001b[39m\u001b[39mDid you mean: `\u001b[39m\u001b[39m{\u001b[39;00msuggestion[\u001b[39m0\u001b[39m]\u001b[39m}\u001b[39;00m\u001b[39m`?\u001b[39m\u001b[39m\"\u001b[39m \u001b[39mif\u001b[39;00m suggestion \u001b[39melse\u001b[39;00m \u001b[39m\"\u001b[39m\u001b[39m\"\u001b[39m\n\u001b[0;32m--> 194\u001b[0m \u001b[39mraise\u001b[39;00m error\u001b[39m.\u001b[39mNameNotFound(\n\u001b[1;32m    195\u001b[0m     \u001b[39mf\u001b[39m\u001b[39m\"\u001b[39m\u001b[39mEnvironment \u001b[39m\u001b[39m{\u001b[39;00mname\u001b[39m}\u001b[39;00m\u001b[39m doesn\u001b[39m\u001b[39m'\u001b[39m\u001b[39mt exist\u001b[39m\u001b[39m{\u001b[39;00mnamespace_msg\u001b[39m}\u001b[39;00m\u001b[39m. \u001b[39m\u001b[39m{\u001b[39;00msuggestion_msg\u001b[39m}\u001b[39;00m\u001b[39m\"\u001b[39m\n\u001b[1;32m    196\u001b[0m )\n",
      "\u001b[0;31mNameNotFound\u001b[0m: Environment maze2d-eval-medium doesn't exist. "
     ]
    }
   ],
   "source": [
    "import gymnasium as gym\n",
    "import d4rl\n",
    "import minigrid\n",
    "from minigrid.wrappers import RGBImgPartialObsWrapper, ImgObsWrapper\n",
    "from warnings import simplefilter\n",
    "simplefilter(action='ignore', category=DeprecationWarning)\n",
    "env = gym.make('maze2d-eval-medium-v1')\n",
    "# _ = env.reset() # This now produces an RGB tensor only\n",
    "env.get_dataset()"
   ]
  },
  {
   "attachments": {},
   "cell_type": "markdown",
   "metadata": {},
   "source": [
    "After a huge amount of work this seems not good. I will need to train my own agent."
   ]
  },
  {
   "attachments": {},
   "cell_type": "markdown",
   "metadata": {},
   "source": [
    "# Training on PPO and Storing Trajectories\n"
   ]
  },
  {
   "attachments": {},
   "cell_type": "markdown",
   "metadata": {},
   "source": [
    "### Trying Torch-RL\n",
    "\n",
    "```bash\n",
    "python3 -m scripts.train --algo ppo --env MiniGrid-DoorKey-5x5-v0 --model DoorKey --save-interval 10 --frames 80000\n",
    "python3 -m scripts.visualize --env MiniGrid-DoorKey-5x5-v0 --model DoorKey\n",
    "python3 -m scripts.evaluate --env MiniGrid-DoorKey-5x5-v0 --model DoorKey\n",
    "```\n",
    "\n",
    "Unfortunately, it doesn't appear super simple to use these models because we need to actually load all their classes and stuff. Let's use Callums."
   ]
  },
  {
   "attachments": {},
   "cell_type": "markdown",
   "metadata": {},
   "source": [
    "## CartPole"
   ]
  },
  {
   "cell_type": "code",
   "execution_count": null,
   "metadata": {},
   "outputs": [
    {
     "name": "stderr",
     "output_type": "stream",
     "text": [
      "/Users/josephbloom/miniforge3/envs/decision_transformer_interpretability/lib/python3.9/site-packages/traitlets/traitlets.py:1016: DeprecationWarning: Widget._active_widgets is deprecated.\n",
      "  value = getattr(cls, name)\n",
      "/Users/josephbloom/miniforge3/envs/decision_transformer_interpretability/lib/python3.9/site-packages/traitlets/traitlets.py:1016: DeprecationWarning: Widget._widget_types is deprecated.\n",
      "  value = getattr(cls, name)\n",
      "/Users/josephbloom/miniforge3/envs/decision_transformer_interpretability/lib/python3.9/site-packages/traitlets/traitlets.py:1016: DeprecationWarning: Widget.widget_types is deprecated.\n",
      "  value = getattr(cls, name)\n",
      "/Users/josephbloom/miniforge3/envs/decision_transformer_interpretability/lib/python3.9/site-packages/traitlets/traitlets.py:1016: DeprecationWarning: Widget.widgets is deprecated.\n",
      "  value = getattr(cls, name)\n",
      "/Users/josephbloom/miniforge3/envs/decision_transformer_interpretability/lib/python3.9/site-packages/traitlets/traitlets.py:1016: DeprecationWarning: Widget._active_widgets is deprecated.\n",
      "  value = getattr(cls, name)\n",
      "/Users/josephbloom/miniforge3/envs/decision_transformer_interpretability/lib/python3.9/site-packages/traitlets/traitlets.py:1016: DeprecationWarning: Widget._widget_types is deprecated.\n",
      "  value = getattr(cls, name)\n",
      "/Users/josephbloom/miniforge3/envs/decision_transformer_interpretability/lib/python3.9/site-packages/traitlets/traitlets.py:1016: DeprecationWarning: Widget.widget_types is deprecated.\n",
      "  value = getattr(cls, name)\n",
      "/Users/josephbloom/miniforge3/envs/decision_transformer_interpretability/lib/python3.9/site-packages/traitlets/traitlets.py:1016: DeprecationWarning: Widget.widgets is deprecated.\n",
      "  value = getattr(cls, name)\n",
      "/Users/josephbloom/miniforge3/envs/decision_transformer_interpretability/lib/python3.9/site-packages/traitlets/traitlets.py:1016: DeprecationWarning: Widget._active_widgets is deprecated.\n",
      "  value = getattr(cls, name)\n",
      "/Users/josephbloom/miniforge3/envs/decision_transformer_interpretability/lib/python3.9/site-packages/traitlets/traitlets.py:1016: DeprecationWarning: Widget._widget_types is deprecated.\n",
      "  value = getattr(cls, name)\n",
      "/Users/josephbloom/miniforge3/envs/decision_transformer_interpretability/lib/python3.9/site-packages/traitlets/traitlets.py:1016: DeprecationWarning: Widget.widget_types is deprecated.\n",
      "  value = getattr(cls, name)\n",
      "/Users/josephbloom/miniforge3/envs/decision_transformer_interpretability/lib/python3.9/site-packages/traitlets/traitlets.py:1016: DeprecationWarning: Widget.widgets is deprecated.\n",
      "  value = getattr(cls, name)\n",
      "/Users/josephbloom/miniforge3/envs/decision_transformer_interpretability/lib/python3.9/site-packages/traitlets/traitlets.py:1016: DeprecationWarning: Widget._active_widgets is deprecated.\n",
      "  value = getattr(cls, name)\n",
      "/Users/josephbloom/miniforge3/envs/decision_transformer_interpretability/lib/python3.9/site-packages/traitlets/traitlets.py:1016: DeprecationWarning: Widget._widget_types is deprecated.\n",
      "  value = getattr(cls, name)\n",
      "/Users/josephbloom/miniforge3/envs/decision_transformer_interpretability/lib/python3.9/site-packages/traitlets/traitlets.py:1016: DeprecationWarning: Widget.widget_types is deprecated.\n",
      "  value = getattr(cls, name)\n",
      "/Users/josephbloom/miniforge3/envs/decision_transformer_interpretability/lib/python3.9/site-packages/traitlets/traitlets.py:1016: DeprecationWarning: Widget.widgets is deprecated.\n",
      "  value = getattr(cls, name)\n",
      "/Users/josephbloom/miniforge3/envs/decision_transformer_interpretability/lib/python3.9/site-packages/traitlets/traitlets.py:1016: DeprecationWarning: Widget._active_widgets is deprecated.\n",
      "  value = getattr(cls, name)\n",
      "/Users/josephbloom/miniforge3/envs/decision_transformer_interpretability/lib/python3.9/site-packages/traitlets/traitlets.py:1016: DeprecationWarning: Widget._widget_types is deprecated.\n",
      "  value = getattr(cls, name)\n",
      "/Users/josephbloom/miniforge3/envs/decision_transformer_interpretability/lib/python3.9/site-packages/traitlets/traitlets.py:1016: DeprecationWarning: Widget.widget_types is deprecated.\n",
      "  value = getattr(cls, name)\n",
      "/Users/josephbloom/miniforge3/envs/decision_transformer_interpretability/lib/python3.9/site-packages/traitlets/traitlets.py:1016: DeprecationWarning: Widget.widgets is deprecated.\n",
      "  value = getattr(cls, name)\n",
      "/Users/josephbloom/miniforge3/envs/decision_transformer_interpretability/lib/python3.9/site-packages/traitlets/traitlets.py:1016: DeprecationWarning: Widget._active_widgets is deprecated.\n",
      "  value = getattr(cls, name)\n",
      "/Users/josephbloom/miniforge3/envs/decision_transformer_interpretability/lib/python3.9/site-packages/traitlets/traitlets.py:1016: DeprecationWarning: Widget._widget_types is deprecated.\n",
      "  value = getattr(cls, name)\n",
      "/Users/josephbloom/miniforge3/envs/decision_transformer_interpretability/lib/python3.9/site-packages/traitlets/traitlets.py:1016: DeprecationWarning: Widget.widget_types is deprecated.\n",
      "  value = getattr(cls, name)\n",
      "/Users/josephbloom/miniforge3/envs/decision_transformer_interpretability/lib/python3.9/site-packages/traitlets/traitlets.py:1016: DeprecationWarning: Widget.widgets is deprecated.\n",
      "  value = getattr(cls, name)\n",
      "/Users/josephbloom/miniforge3/envs/decision_transformer_interpretability/lib/python3.9/site-packages/traitlets/traitlets.py:1016: DeprecationWarning: Widget._active_widgets is deprecated.\n",
      "  value = getattr(cls, name)\n",
      "/Users/josephbloom/miniforge3/envs/decision_transformer_interpretability/lib/python3.9/site-packages/traitlets/traitlets.py:1016: DeprecationWarning: Widget._widget_types is deprecated.\n",
      "  value = getattr(cls, name)\n",
      "/Users/josephbloom/miniforge3/envs/decision_transformer_interpretability/lib/python3.9/site-packages/traitlets/traitlets.py:1016: DeprecationWarning: Widget.widget_types is deprecated.\n",
      "  value = getattr(cls, name)\n",
      "/Users/josephbloom/miniforge3/envs/decision_transformer_interpretability/lib/python3.9/site-packages/traitlets/traitlets.py:1016: DeprecationWarning: Widget.widgets is deprecated.\n",
      "  value = getattr(cls, name)\n",
      "/Users/josephbloom/miniforge3/envs/decision_transformer_interpretability/lib/python3.9/site-packages/traitlets/traitlets.py:1016: DeprecationWarning: Widget._active_widgets is deprecated.\n",
      "  value = getattr(cls, name)\n",
      "/Users/josephbloom/miniforge3/envs/decision_transformer_interpretability/lib/python3.9/site-packages/traitlets/traitlets.py:1016: DeprecationWarning: Widget._widget_types is deprecated.\n",
      "  value = getattr(cls, name)\n",
      "/Users/josephbloom/miniforge3/envs/decision_transformer_interpretability/lib/python3.9/site-packages/traitlets/traitlets.py:1016: DeprecationWarning: Widget.widget_types is deprecated.\n",
      "  value = getattr(cls, name)\n",
      "/Users/josephbloom/miniforge3/envs/decision_transformer_interpretability/lib/python3.9/site-packages/traitlets/traitlets.py:1016: DeprecationWarning: Widget.widgets is deprecated.\n",
      "  value = getattr(cls, name)\n",
      "/Users/josephbloom/miniforge3/envs/decision_transformer_interpretability/lib/python3.9/site-packages/traitlets/traitlets.py:1016: DeprecationWarning: Widget._active_widgets is deprecated.\n",
      "  value = getattr(cls, name)\n",
      "/Users/josephbloom/miniforge3/envs/decision_transformer_interpretability/lib/python3.9/site-packages/traitlets/traitlets.py:1016: DeprecationWarning: Widget._widget_types is deprecated.\n",
      "  value = getattr(cls, name)\n",
      "/Users/josephbloom/miniforge3/envs/decision_transformer_interpretability/lib/python3.9/site-packages/traitlets/traitlets.py:1016: DeprecationWarning: Widget.widget_types is deprecated.\n",
      "  value = getattr(cls, name)\n",
      "/Users/josephbloom/miniforge3/envs/decision_transformer_interpretability/lib/python3.9/site-packages/traitlets/traitlets.py:1016: DeprecationWarning: Widget.widgets is deprecated.\n",
      "  value = getattr(cls, name)\n",
      "/Users/josephbloom/miniforge3/envs/decision_transformer_interpretability/lib/python3.9/site-packages/traitlets/traitlets.py:1016: DeprecationWarning: Widget._active_widgets is deprecated.\n",
      "  value = getattr(cls, name)\n",
      "/Users/josephbloom/miniforge3/envs/decision_transformer_interpretability/lib/python3.9/site-packages/traitlets/traitlets.py:1016: DeprecationWarning: Widget._widget_types is deprecated.\n",
      "  value = getattr(cls, name)\n",
      "/Users/josephbloom/miniforge3/envs/decision_transformer_interpretability/lib/python3.9/site-packages/traitlets/traitlets.py:1016: DeprecationWarning: Widget.widget_types is deprecated.\n",
      "  value = getattr(cls, name)\n",
      "/Users/josephbloom/miniforge3/envs/decision_transformer_interpretability/lib/python3.9/site-packages/traitlets/traitlets.py:1016: DeprecationWarning: Widget.widgets is deprecated.\n",
      "  value = getattr(cls, name)\n",
      "/Users/josephbloom/miniforge3/envs/decision_transformer_interpretability/lib/python3.9/site-packages/traitlets/traitlets.py:1016: DeprecationWarning: Widget._active_widgets is deprecated.\n",
      "  value = getattr(cls, name)\n",
      "/Users/josephbloom/miniforge3/envs/decision_transformer_interpretability/lib/python3.9/site-packages/traitlets/traitlets.py:1016: DeprecationWarning: Widget._widget_types is deprecated.\n",
      "  value = getattr(cls, name)\n",
      "/Users/josephbloom/miniforge3/envs/decision_transformer_interpretability/lib/python3.9/site-packages/traitlets/traitlets.py:1016: DeprecationWarning: Widget.widget_types is deprecated.\n",
      "  value = getattr(cls, name)\n",
      "/Users/josephbloom/miniforge3/envs/decision_transformer_interpretability/lib/python3.9/site-packages/traitlets/traitlets.py:1016: DeprecationWarning: Widget.widgets is deprecated.\n",
      "  value = getattr(cls, name)\n",
      "/Users/josephbloom/miniforge3/envs/decision_transformer_interpretability/lib/python3.9/site-packages/traitlets/traitlets.py:1016: DeprecationWarning: Widget._active_widgets is deprecated.\n",
      "  value = getattr(cls, name)\n",
      "/Users/josephbloom/miniforge3/envs/decision_transformer_interpretability/lib/python3.9/site-packages/traitlets/traitlets.py:1016: DeprecationWarning: Widget._widget_types is deprecated.\n",
      "  value = getattr(cls, name)\n",
      "/Users/josephbloom/miniforge3/envs/decision_transformer_interpretability/lib/python3.9/site-packages/traitlets/traitlets.py:1016: DeprecationWarning: Widget.widget_types is deprecated.\n",
      "  value = getattr(cls, name)\n",
      "/Users/josephbloom/miniforge3/envs/decision_transformer_interpretability/lib/python3.9/site-packages/traitlets/traitlets.py:1016: DeprecationWarning: Widget.widgets is deprecated.\n",
      "  value = getattr(cls, name)\n",
      "/Users/josephbloom/miniforge3/envs/decision_transformer_interpretability/lib/python3.9/site-packages/traitlets/traitlets.py:1016: DeprecationWarning: Widget._active_widgets is deprecated.\n",
      "  value = getattr(cls, name)\n",
      "/Users/josephbloom/miniforge3/envs/decision_transformer_interpretability/lib/python3.9/site-packages/traitlets/traitlets.py:1016: DeprecationWarning: Widget._widget_types is deprecated.\n",
      "  value = getattr(cls, name)\n",
      "/Users/josephbloom/miniforge3/envs/decision_transformer_interpretability/lib/python3.9/site-packages/traitlets/traitlets.py:1016: DeprecationWarning: Widget.widget_types is deprecated.\n",
      "  value = getattr(cls, name)\n",
      "/Users/josephbloom/miniforge3/envs/decision_transformer_interpretability/lib/python3.9/site-packages/traitlets/traitlets.py:1016: DeprecationWarning: Widget.widgets is deprecated.\n",
      "  value = getattr(cls, name)\n",
      "/Users/josephbloom/miniforge3/envs/decision_transformer_interpretability/lib/python3.9/site-packages/traitlets/traitlets.py:1016: DeprecationWarning: Widget._active_widgets is deprecated.\n",
      "  value = getattr(cls, name)\n",
      "/Users/josephbloom/miniforge3/envs/decision_transformer_interpretability/lib/python3.9/site-packages/traitlets/traitlets.py:1016: DeprecationWarning: Widget._widget_types is deprecated.\n",
      "  value = getattr(cls, name)\n",
      "/Users/josephbloom/miniforge3/envs/decision_transformer_interpretability/lib/python3.9/site-packages/traitlets/traitlets.py:1016: DeprecationWarning: Widget.widget_types is deprecated.\n",
      "  value = getattr(cls, name)\n",
      "/Users/josephbloom/miniforge3/envs/decision_transformer_interpretability/lib/python3.9/site-packages/traitlets/traitlets.py:1016: DeprecationWarning: Widget.widgets is deprecated.\n",
      "  value = getattr(cls, name)\n",
      "/Users/josephbloom/miniforge3/envs/decision_transformer_interpretability/lib/python3.9/site-packages/traitlets/traitlets.py:1016: DeprecationWarning: Widget._active_widgets is deprecated.\n",
      "  value = getattr(cls, name)\n",
      "/Users/josephbloom/miniforge3/envs/decision_transformer_interpretability/lib/python3.9/site-packages/traitlets/traitlets.py:1016: DeprecationWarning: Widget._widget_types is deprecated.\n",
      "  value = getattr(cls, name)\n",
      "/Users/josephbloom/miniforge3/envs/decision_transformer_interpretability/lib/python3.9/site-packages/traitlets/traitlets.py:1016: DeprecationWarning: Widget.widget_types is deprecated.\n",
      "  value = getattr(cls, name)\n",
      "/Users/josephbloom/miniforge3/envs/decision_transformer_interpretability/lib/python3.9/site-packages/traitlets/traitlets.py:1016: DeprecationWarning: Widget.widgets is deprecated.\n",
      "  value = getattr(cls, name)\n",
      "/Users/josephbloom/miniforge3/envs/decision_transformer_interpretability/lib/python3.9/site-packages/traitlets/traitlets.py:1016: DeprecationWarning: Widget._active_widgets is deprecated.\n",
      "  value = getattr(cls, name)\n",
      "/Users/josephbloom/miniforge3/envs/decision_transformer_interpretability/lib/python3.9/site-packages/traitlets/traitlets.py:1016: DeprecationWarning: Widget._widget_types is deprecated.\n",
      "  value = getattr(cls, name)\n",
      "/Users/josephbloom/miniforge3/envs/decision_transformer_interpretability/lib/python3.9/site-packages/traitlets/traitlets.py:1016: DeprecationWarning: Widget.widget_types is deprecated.\n",
      "  value = getattr(cls, name)\n",
      "/Users/josephbloom/miniforge3/envs/decision_transformer_interpretability/lib/python3.9/site-packages/traitlets/traitlets.py:1016: DeprecationWarning: Widget.widgets is deprecated.\n",
      "  value = getattr(cls, name)\n",
      "/Users/josephbloom/miniforge3/envs/decision_transformer_interpretability/lib/python3.9/site-packages/traitlets/traitlets.py:1016: DeprecationWarning: Widget._active_widgets is deprecated.\n",
      "  value = getattr(cls, name)\n",
      "/Users/josephbloom/miniforge3/envs/decision_transformer_interpretability/lib/python3.9/site-packages/traitlets/traitlets.py:1016: DeprecationWarning: Widget._widget_types is deprecated.\n",
      "  value = getattr(cls, name)\n",
      "/Users/josephbloom/miniforge3/envs/decision_transformer_interpretability/lib/python3.9/site-packages/traitlets/traitlets.py:1016: DeprecationWarning: Widget.widget_types is deprecated.\n",
      "  value = getattr(cls, name)\n",
      "/Users/josephbloom/miniforge3/envs/decision_transformer_interpretability/lib/python3.9/site-packages/traitlets/traitlets.py:1016: DeprecationWarning: Widget.widgets is deprecated.\n",
      "  value = getattr(cls, name)\n",
      "/Users/josephbloom/miniforge3/envs/decision_transformer_interpretability/lib/python3.9/site-packages/traitlets/traitlets.py:1016: DeprecationWarning: Widget._active_widgets is deprecated.\n",
      "  value = getattr(cls, name)\n",
      "/Users/josephbloom/miniforge3/envs/decision_transformer_interpretability/lib/python3.9/site-packages/traitlets/traitlets.py:1016: DeprecationWarning: Widget._widget_types is deprecated.\n",
      "  value = getattr(cls, name)\n",
      "/Users/josephbloom/miniforge3/envs/decision_transformer_interpretability/lib/python3.9/site-packages/traitlets/traitlets.py:1016: DeprecationWarning: Widget.widget_types is deprecated.\n",
      "  value = getattr(cls, name)\n",
      "/Users/josephbloom/miniforge3/envs/decision_transformer_interpretability/lib/python3.9/site-packages/traitlets/traitlets.py:1016: DeprecationWarning: Widget.widgets is deprecated.\n",
      "  value = getattr(cls, name)\n",
      "/Users/josephbloom/miniforge3/envs/decision_transformer_interpretability/lib/python3.9/site-packages/traitlets/traitlets.py:1016: DeprecationWarning: Widget._active_widgets is deprecated.\n",
      "  value = getattr(cls, name)\n",
      "/Users/josephbloom/miniforge3/envs/decision_transformer_interpretability/lib/python3.9/site-packages/traitlets/traitlets.py:1016: DeprecationWarning: Widget._widget_types is deprecated.\n",
      "  value = getattr(cls, name)\n",
      "/Users/josephbloom/miniforge3/envs/decision_transformer_interpretability/lib/python3.9/site-packages/traitlets/traitlets.py:1016: DeprecationWarning: Widget.widget_types is deprecated.\n",
      "  value = getattr(cls, name)\n",
      "/Users/josephbloom/miniforge3/envs/decision_transformer_interpretability/lib/python3.9/site-packages/traitlets/traitlets.py:1016: DeprecationWarning: Widget.widgets is deprecated.\n",
      "  value = getattr(cls, name)\n",
      "/Users/josephbloom/miniforge3/envs/decision_transformer_interpretability/lib/python3.9/site-packages/traitlets/traitlets.py:1016: DeprecationWarning: Widget._active_widgets is deprecated.\n",
      "  value = getattr(cls, name)\n",
      "/Users/josephbloom/miniforge3/envs/decision_transformer_interpretability/lib/python3.9/site-packages/traitlets/traitlets.py:1016: DeprecationWarning: Widget._widget_types is deprecated.\n",
      "  value = getattr(cls, name)\n",
      "/Users/josephbloom/miniforge3/envs/decision_transformer_interpretability/lib/python3.9/site-packages/traitlets/traitlets.py:1016: DeprecationWarning: Widget.widget_types is deprecated.\n",
      "  value = getattr(cls, name)\n",
      "/Users/josephbloom/miniforge3/envs/decision_transformer_interpretability/lib/python3.9/site-packages/traitlets/traitlets.py:1016: DeprecationWarning: Widget.widgets is deprecated.\n",
      "  value = getattr(cls, name)\n",
      "/Users/josephbloom/miniforge3/envs/decision_transformer_interpretability/lib/python3.9/site-packages/traitlets/traitlets.py:1016: DeprecationWarning: Widget._active_widgets is deprecated.\n",
      "  value = getattr(cls, name)\n",
      "/Users/josephbloom/miniforge3/envs/decision_transformer_interpretability/lib/python3.9/site-packages/traitlets/traitlets.py:1016: DeprecationWarning: Widget._widget_types is deprecated.\n",
      "  value = getattr(cls, name)\n",
      "/Users/josephbloom/miniforge3/envs/decision_transformer_interpretability/lib/python3.9/site-packages/traitlets/traitlets.py:1016: DeprecationWarning: Widget.widget_types is deprecated.\n",
      "  value = getattr(cls, name)\n",
      "/Users/josephbloom/miniforge3/envs/decision_transformer_interpretability/lib/python3.9/site-packages/traitlets/traitlets.py:1016: DeprecationWarning: Widget.widgets is deprecated.\n",
      "  value = getattr(cls, name)\n",
      "/Users/josephbloom/miniforge3/envs/decision_transformer_interpretability/lib/python3.9/site-packages/traitlets/traitlets.py:1016: DeprecationWarning: Widget._active_widgets is deprecated.\n",
      "  value = getattr(cls, name)\n",
      "/Users/josephbloom/miniforge3/envs/decision_transformer_interpretability/lib/python3.9/site-packages/traitlets/traitlets.py:1016: DeprecationWarning: Widget._widget_types is deprecated.\n",
      "  value = getattr(cls, name)\n",
      "/Users/josephbloom/miniforge3/envs/decision_transformer_interpretability/lib/python3.9/site-packages/traitlets/traitlets.py:1016: DeprecationWarning: Widget.widget_types is deprecated.\n",
      "  value = getattr(cls, name)\n",
      "/Users/josephbloom/miniforge3/envs/decision_transformer_interpretability/lib/python3.9/site-packages/traitlets/traitlets.py:1016: DeprecationWarning: Widget.widgets is deprecated.\n",
      "  value = getattr(cls, name)\n",
      "/Users/josephbloom/miniforge3/envs/decision_transformer_interpretability/lib/python3.9/site-packages/traitlets/traitlets.py:1016: DeprecationWarning: Widget._active_widgets is deprecated.\n",
      "  value = getattr(cls, name)\n",
      "/Users/josephbloom/miniforge3/envs/decision_transformer_interpretability/lib/python3.9/site-packages/traitlets/traitlets.py:1016: DeprecationWarning: Widget._widget_types is deprecated.\n",
      "  value = getattr(cls, name)\n",
      "/Users/josephbloom/miniforge3/envs/decision_transformer_interpretability/lib/python3.9/site-packages/traitlets/traitlets.py:1016: DeprecationWarning: Widget.widget_types is deprecated.\n",
      "  value = getattr(cls, name)\n",
      "/Users/josephbloom/miniforge3/envs/decision_transformer_interpretability/lib/python3.9/site-packages/traitlets/traitlets.py:1016: DeprecationWarning: Widget.widgets is deprecated.\n",
      "  value = getattr(cls, name)\n",
      "/Users/josephbloom/miniforge3/envs/decision_transformer_interpretability/lib/python3.9/site-packages/traitlets/traitlets.py:1016: DeprecationWarning: Widget._active_widgets is deprecated.\n",
      "  value = getattr(cls, name)\n",
      "/Users/josephbloom/miniforge3/envs/decision_transformer_interpretability/lib/python3.9/site-packages/traitlets/traitlets.py:1016: DeprecationWarning: Widget._widget_types is deprecated.\n",
      "  value = getattr(cls, name)\n",
      "/Users/josephbloom/miniforge3/envs/decision_transformer_interpretability/lib/python3.9/site-packages/traitlets/traitlets.py:1016: DeprecationWarning: Widget.widget_types is deprecated.\n",
      "  value = getattr(cls, name)\n",
      "/Users/josephbloom/miniforge3/envs/decision_transformer_interpretability/lib/python3.9/site-packages/traitlets/traitlets.py:1016: DeprecationWarning: Widget.widgets is deprecated.\n",
      "  value = getattr(cls, name)\n",
      "/Users/josephbloom/miniforge3/envs/decision_transformer_interpretability/lib/python3.9/site-packages/traitlets/traitlets.py:1016: DeprecationWarning: Widget._active_widgets is deprecated.\n",
      "  value = getattr(cls, name)\n",
      "/Users/josephbloom/miniforge3/envs/decision_transformer_interpretability/lib/python3.9/site-packages/traitlets/traitlets.py:1016: DeprecationWarning: Widget._widget_types is deprecated.\n",
      "  value = getattr(cls, name)\n",
      "/Users/josephbloom/miniforge3/envs/decision_transformer_interpretability/lib/python3.9/site-packages/traitlets/traitlets.py:1016: DeprecationWarning: Widget.widget_types is deprecated.\n",
      "  value = getattr(cls, name)\n",
      "/Users/josephbloom/miniforge3/envs/decision_transformer_interpretability/lib/python3.9/site-packages/traitlets/traitlets.py:1016: DeprecationWarning: Widget.widgets is deprecated.\n",
      "  value = getattr(cls, name)\n",
      "/Users/josephbloom/miniforge3/envs/decision_transformer_interpretability/lib/python3.9/site-packages/traitlets/traitlets.py:1016: DeprecationWarning: Widget._active_widgets is deprecated.\n",
      "  value = getattr(cls, name)\n",
      "/Users/josephbloom/miniforge3/envs/decision_transformer_interpretability/lib/python3.9/site-packages/traitlets/traitlets.py:1016: DeprecationWarning: Widget._widget_types is deprecated.\n",
      "  value = getattr(cls, name)\n",
      "/Users/josephbloom/miniforge3/envs/decision_transformer_interpretability/lib/python3.9/site-packages/traitlets/traitlets.py:1016: DeprecationWarning: Widget.widget_types is deprecated.\n",
      "  value = getattr(cls, name)\n",
      "/Users/josephbloom/miniforge3/envs/decision_transformer_interpretability/lib/python3.9/site-packages/traitlets/traitlets.py:1016: DeprecationWarning: Widget.widgets is deprecated.\n",
      "  value = getattr(cls, name)\n",
      "/Users/josephbloom/miniforge3/envs/decision_transformer_interpretability/lib/python3.9/site-packages/traitlets/traitlets.py:1016: DeprecationWarning: Widget._active_widgets is deprecated.\n",
      "  value = getattr(cls, name)\n",
      "/Users/josephbloom/miniforge3/envs/decision_transformer_interpretability/lib/python3.9/site-packages/traitlets/traitlets.py:1016: DeprecationWarning: Widget._widget_types is deprecated.\n",
      "  value = getattr(cls, name)\n",
      "/Users/josephbloom/miniforge3/envs/decision_transformer_interpretability/lib/python3.9/site-packages/traitlets/traitlets.py:1016: DeprecationWarning: Widget.widget_types is deprecated.\n",
      "  value = getattr(cls, name)\n",
      "/Users/josephbloom/miniforge3/envs/decision_transformer_interpretability/lib/python3.9/site-packages/traitlets/traitlets.py:1016: DeprecationWarning: Widget.widgets is deprecated.\n",
      "  value = getattr(cls, name)\n",
      "/Users/josephbloom/miniforge3/envs/decision_transformer_interpretability/lib/python3.9/site-packages/traitlets/traitlets.py:1016: DeprecationWarning: Widget._active_widgets is deprecated.\n",
      "  value = getattr(cls, name)\n",
      "/Users/josephbloom/miniforge3/envs/decision_transformer_interpretability/lib/python3.9/site-packages/traitlets/traitlets.py:1016: DeprecationWarning: Widget._widget_types is deprecated.\n",
      "  value = getattr(cls, name)\n",
      "/Users/josephbloom/miniforge3/envs/decision_transformer_interpretability/lib/python3.9/site-packages/traitlets/traitlets.py:1016: DeprecationWarning: Widget.widget_types is deprecated.\n",
      "  value = getattr(cls, name)\n",
      "/Users/josephbloom/miniforge3/envs/decision_transformer_interpretability/lib/python3.9/site-packages/traitlets/traitlets.py:1016: DeprecationWarning: Widget.widgets is deprecated.\n",
      "  value = getattr(cls, name)\n",
      "/Users/josephbloom/miniforge3/envs/decision_transformer_interpretability/lib/python3.9/site-packages/traitlets/traitlets.py:1016: DeprecationWarning: Widget._active_widgets is deprecated.\n",
      "  value = getattr(cls, name)\n",
      "/Users/josephbloom/miniforge3/envs/decision_transformer_interpretability/lib/python3.9/site-packages/traitlets/traitlets.py:1016: DeprecationWarning: Widget._widget_types is deprecated.\n",
      "  value = getattr(cls, name)\n",
      "/Users/josephbloom/miniforge3/envs/decision_transformer_interpretability/lib/python3.9/site-packages/traitlets/traitlets.py:1016: DeprecationWarning: Widget.widget_types is deprecated.\n",
      "  value = getattr(cls, name)\n",
      "/Users/josephbloom/miniforge3/envs/decision_transformer_interpretability/lib/python3.9/site-packages/traitlets/traitlets.py:1016: DeprecationWarning: Widget.widgets is deprecated.\n",
      "  value = getattr(cls, name)\n",
      "/Users/josephbloom/miniforge3/envs/decision_transformer_interpretability/lib/python3.9/site-packages/traitlets/traitlets.py:1016: DeprecationWarning: Widget._active_widgets is deprecated.\n",
      "  value = getattr(cls, name)\n",
      "/Users/josephbloom/miniforge3/envs/decision_transformer_interpretability/lib/python3.9/site-packages/traitlets/traitlets.py:1016: DeprecationWarning: Widget._widget_types is deprecated.\n",
      "  value = getattr(cls, name)\n",
      "/Users/josephbloom/miniforge3/envs/decision_transformer_interpretability/lib/python3.9/site-packages/traitlets/traitlets.py:1016: DeprecationWarning: Widget.widget_types is deprecated.\n",
      "  value = getattr(cls, name)\n",
      "/Users/josephbloom/miniforge3/envs/decision_transformer_interpretability/lib/python3.9/site-packages/traitlets/traitlets.py:1016: DeprecationWarning: Widget.widgets is deprecated.\n",
      "  value = getattr(cls, name)\n",
      "/Users/josephbloom/miniforge3/envs/decision_transformer_interpretability/lib/python3.9/site-packages/traitlets/traitlets.py:1016: DeprecationWarning: Widget._active_widgets is deprecated.\n",
      "  value = getattr(cls, name)\n",
      "/Users/josephbloom/miniforge3/envs/decision_transformer_interpretability/lib/python3.9/site-packages/traitlets/traitlets.py:1016: DeprecationWarning: Widget._widget_types is deprecated.\n",
      "  value = getattr(cls, name)\n",
      "/Users/josephbloom/miniforge3/envs/decision_transformer_interpretability/lib/python3.9/site-packages/traitlets/traitlets.py:1016: DeprecationWarning: Widget.widget_types is deprecated.\n",
      "  value = getattr(cls, name)\n",
      "/Users/josephbloom/miniforge3/envs/decision_transformer_interpretability/lib/python3.9/site-packages/traitlets/traitlets.py:1016: DeprecationWarning: Widget.widgets is deprecated.\n",
      "  value = getattr(cls, name)\n",
      "/Users/josephbloom/miniforge3/envs/decision_transformer_interpretability/lib/python3.9/site-packages/traitlets/traitlets.py:1016: DeprecationWarning: Widget._active_widgets is deprecated.\n",
      "  value = getattr(cls, name)\n",
      "/Users/josephbloom/miniforge3/envs/decision_transformer_interpretability/lib/python3.9/site-packages/traitlets/traitlets.py:1016: DeprecationWarning: Widget._widget_types is deprecated.\n",
      "  value = getattr(cls, name)\n",
      "/Users/josephbloom/miniforge3/envs/decision_transformer_interpretability/lib/python3.9/site-packages/traitlets/traitlets.py:1016: DeprecationWarning: Widget.widget_types is deprecated.\n",
      "  value = getattr(cls, name)\n",
      "/Users/josephbloom/miniforge3/envs/decision_transformer_interpretability/lib/python3.9/site-packages/traitlets/traitlets.py:1016: DeprecationWarning: Widget.widgets is deprecated.\n",
      "  value = getattr(cls, name)\n",
      "/Users/josephbloom/miniforge3/envs/decision_transformer_interpretability/lib/python3.9/site-packages/traitlets/traitlets.py:1016: DeprecationWarning: Widget._active_widgets is deprecated.\n",
      "  value = getattr(cls, name)\n",
      "/Users/josephbloom/miniforge3/envs/decision_transformer_interpretability/lib/python3.9/site-packages/traitlets/traitlets.py:1016: DeprecationWarning: Widget._widget_types is deprecated.\n",
      "  value = getattr(cls, name)\n",
      "/Users/josephbloom/miniforge3/envs/decision_transformer_interpretability/lib/python3.9/site-packages/traitlets/traitlets.py:1016: DeprecationWarning: Widget.widget_types is deprecated.\n",
      "  value = getattr(cls, name)\n",
      "/Users/josephbloom/miniforge3/envs/decision_transformer_interpretability/lib/python3.9/site-packages/traitlets/traitlets.py:1016: DeprecationWarning: Widget.widgets is deprecated.\n",
      "  value = getattr(cls, name)\n",
      "/Users/josephbloom/miniforge3/envs/decision_transformer_interpretability/lib/python3.9/site-packages/traitlets/traitlets.py:1016: DeprecationWarning: Widget._active_widgets is deprecated.\n",
      "  value = getattr(cls, name)\n",
      "/Users/josephbloom/miniforge3/envs/decision_transformer_interpretability/lib/python3.9/site-packages/traitlets/traitlets.py:1016: DeprecationWarning: Widget._widget_types is deprecated.\n",
      "  value = getattr(cls, name)\n",
      "/Users/josephbloom/miniforge3/envs/decision_transformer_interpretability/lib/python3.9/site-packages/traitlets/traitlets.py:1016: DeprecationWarning: Widget.widget_types is deprecated.\n",
      "  value = getattr(cls, name)\n",
      "/Users/josephbloom/miniforge3/envs/decision_transformer_interpretability/lib/python3.9/site-packages/traitlets/traitlets.py:1016: DeprecationWarning: Widget.widgets is deprecated.\n",
      "  value = getattr(cls, name)\n",
      "/Users/josephbloom/miniforge3/envs/decision_transformer_interpretability/lib/python3.9/site-packages/traitlets/traitlets.py:1016: DeprecationWarning: Widget._active_widgets is deprecated.\n",
      "  value = getattr(cls, name)\n",
      "/Users/josephbloom/miniforge3/envs/decision_transformer_interpretability/lib/python3.9/site-packages/traitlets/traitlets.py:1016: DeprecationWarning: Widget._widget_types is deprecated.\n",
      "  value = getattr(cls, name)\n",
      "/Users/josephbloom/miniforge3/envs/decision_transformer_interpretability/lib/python3.9/site-packages/traitlets/traitlets.py:1016: DeprecationWarning: Widget.widget_types is deprecated.\n",
      "  value = getattr(cls, name)\n",
      "/Users/josephbloom/miniforge3/envs/decision_transformer_interpretability/lib/python3.9/site-packages/traitlets/traitlets.py:1016: DeprecationWarning: Widget.widgets is deprecated.\n",
      "  value = getattr(cls, name)\n",
      "/Users/josephbloom/miniforge3/envs/decision_transformer_interpretability/lib/python3.9/site-packages/traitlets/traitlets.py:1016: DeprecationWarning: Widget._active_widgets is deprecated.\n",
      "  value = getattr(cls, name)\n",
      "/Users/josephbloom/miniforge3/envs/decision_transformer_interpretability/lib/python3.9/site-packages/traitlets/traitlets.py:1016: DeprecationWarning: Widget._widget_types is deprecated.\n",
      "  value = getattr(cls, name)\n",
      "/Users/josephbloom/miniforge3/envs/decision_transformer_interpretability/lib/python3.9/site-packages/traitlets/traitlets.py:1016: DeprecationWarning: Widget.widget_types is deprecated.\n",
      "  value = getattr(cls, name)\n",
      "/Users/josephbloom/miniforge3/envs/decision_transformer_interpretability/lib/python3.9/site-packages/traitlets/traitlets.py:1016: DeprecationWarning: Widget.widgets is deprecated.\n",
      "  value = getattr(cls, name)\n",
      "/Users/josephbloom/miniforge3/envs/decision_transformer_interpretability/lib/python3.9/site-packages/traitlets/traitlets.py:1016: DeprecationWarning: Widget._active_widgets is deprecated.\n",
      "  value = getattr(cls, name)\n",
      "/Users/josephbloom/miniforge3/envs/decision_transformer_interpretability/lib/python3.9/site-packages/traitlets/traitlets.py:1016: DeprecationWarning: Widget._widget_types is deprecated.\n",
      "  value = getattr(cls, name)\n",
      "/Users/josephbloom/miniforge3/envs/decision_transformer_interpretability/lib/python3.9/site-packages/traitlets/traitlets.py:1016: DeprecationWarning: Widget.widget_types is deprecated.\n",
      "  value = getattr(cls, name)\n",
      "/Users/josephbloom/miniforge3/envs/decision_transformer_interpretability/lib/python3.9/site-packages/traitlets/traitlets.py:1016: DeprecationWarning: Widget.widgets is deprecated.\n",
      "  value = getattr(cls, name)\n",
      "/Users/josephbloom/miniforge3/envs/decision_transformer_interpretability/lib/python3.9/site-packages/traitlets/traitlets.py:1016: DeprecationWarning: Widget._active_widgets is deprecated.\n",
      "  value = getattr(cls, name)\n",
      "/Users/josephbloom/miniforge3/envs/decision_transformer_interpretability/lib/python3.9/site-packages/traitlets/traitlets.py:1016: DeprecationWarning: Widget._widget_types is deprecated.\n",
      "  value = getattr(cls, name)\n",
      "/Users/josephbloom/miniforge3/envs/decision_transformer_interpretability/lib/python3.9/site-packages/traitlets/traitlets.py:1016: DeprecationWarning: Widget.widget_types is deprecated.\n",
      "  value = getattr(cls, name)\n",
      "/Users/josephbloom/miniforge3/envs/decision_transformer_interpretability/lib/python3.9/site-packages/traitlets/traitlets.py:1016: DeprecationWarning: Widget.widgets is deprecated.\n",
      "  value = getattr(cls, name)\n",
      "/Users/josephbloom/miniforge3/envs/decision_transformer_interpretability/lib/python3.9/site-packages/traitlets/traitlets.py:1016: DeprecationWarning: Widget._active_widgets is deprecated.\n",
      "  value = getattr(cls, name)\n",
      "/Users/josephbloom/miniforge3/envs/decision_transformer_interpretability/lib/python3.9/site-packages/traitlets/traitlets.py:1016: DeprecationWarning: Widget._widget_types is deprecated.\n",
      "  value = getattr(cls, name)\n",
      "/Users/josephbloom/miniforge3/envs/decision_transformer_interpretability/lib/python3.9/site-packages/traitlets/traitlets.py:1016: DeprecationWarning: Widget.widget_types is deprecated.\n",
      "  value = getattr(cls, name)\n",
      "/Users/josephbloom/miniforge3/envs/decision_transformer_interpretability/lib/python3.9/site-packages/traitlets/traitlets.py:1016: DeprecationWarning: Widget.widgets is deprecated.\n",
      "  value = getattr(cls, name)\n",
      "/Users/josephbloom/miniforge3/envs/decision_transformer_interpretability/lib/python3.9/site-packages/traitlets/traitlets.py:1016: DeprecationWarning: Widget._active_widgets is deprecated.\n",
      "  value = getattr(cls, name)\n",
      "/Users/josephbloom/miniforge3/envs/decision_transformer_interpretability/lib/python3.9/site-packages/traitlets/traitlets.py:1016: DeprecationWarning: Widget._widget_types is deprecated.\n",
      "  value = getattr(cls, name)\n",
      "/Users/josephbloom/miniforge3/envs/decision_transformer_interpretability/lib/python3.9/site-packages/traitlets/traitlets.py:1016: DeprecationWarning: Widget.widget_types is deprecated.\n",
      "  value = getattr(cls, name)\n",
      "/Users/josephbloom/miniforge3/envs/decision_transformer_interpretability/lib/python3.9/site-packages/traitlets/traitlets.py:1016: DeprecationWarning: Widget.widgets is deprecated.\n",
      "  value = getattr(cls, name)\n",
      "/Users/josephbloom/miniforge3/envs/decision_transformer_interpretability/lib/python3.9/site-packages/traitlets/traitlets.py:1016: DeprecationWarning: Widget._active_widgets is deprecated.\n",
      "  value = getattr(cls, name)\n",
      "/Users/josephbloom/miniforge3/envs/decision_transformer_interpretability/lib/python3.9/site-packages/traitlets/traitlets.py:1016: DeprecationWarning: Widget._widget_types is deprecated.\n",
      "  value = getattr(cls, name)\n",
      "/Users/josephbloom/miniforge3/envs/decision_transformer_interpretability/lib/python3.9/site-packages/traitlets/traitlets.py:1016: DeprecationWarning: Widget.widget_types is deprecated.\n",
      "  value = getattr(cls, name)\n",
      "/Users/josephbloom/miniforge3/envs/decision_transformer_interpretability/lib/python3.9/site-packages/traitlets/traitlets.py:1016: DeprecationWarning: Widget.widgets is deprecated.\n",
      "  value = getattr(cls, name)\n",
      "/Users/josephbloom/miniforge3/envs/decision_transformer_interpretability/lib/python3.9/site-packages/traitlets/traitlets.py:1016: DeprecationWarning: Widget._active_widgets is deprecated.\n",
      "  value = getattr(cls, name)\n",
      "/Users/josephbloom/miniforge3/envs/decision_transformer_interpretability/lib/python3.9/site-packages/traitlets/traitlets.py:1016: DeprecationWarning: Widget._widget_types is deprecated.\n",
      "  value = getattr(cls, name)\n",
      "/Users/josephbloom/miniforge3/envs/decision_transformer_interpretability/lib/python3.9/site-packages/traitlets/traitlets.py:1016: DeprecationWarning: Widget.widget_types is deprecated.\n",
      "  value = getattr(cls, name)\n",
      "/Users/josephbloom/miniforge3/envs/decision_transformer_interpretability/lib/python3.9/site-packages/traitlets/traitlets.py:1016: DeprecationWarning: Widget.widgets is deprecated.\n",
      "  value = getattr(cls, name)\n",
      "/Users/josephbloom/miniforge3/envs/decision_transformer_interpretability/lib/python3.9/site-packages/traitlets/traitlets.py:1016: DeprecationWarning: Widget._active_widgets is deprecated.\n",
      "  value = getattr(cls, name)\n",
      "/Users/josephbloom/miniforge3/envs/decision_transformer_interpretability/lib/python3.9/site-packages/traitlets/traitlets.py:1016: DeprecationWarning: Widget._widget_types is deprecated.\n",
      "  value = getattr(cls, name)\n",
      "/Users/josephbloom/miniforge3/envs/decision_transformer_interpretability/lib/python3.9/site-packages/traitlets/traitlets.py:1016: DeprecationWarning: Widget.widget_types is deprecated.\n",
      "  value = getattr(cls, name)\n",
      "/Users/josephbloom/miniforge3/envs/decision_transformer_interpretability/lib/python3.9/site-packages/traitlets/traitlets.py:1016: DeprecationWarning: Widget.widgets is deprecated.\n",
      "  value = getattr(cls, name)\n",
      "/Users/josephbloom/miniforge3/envs/decision_transformer_interpretability/lib/python3.9/site-packages/traitlets/traitlets.py:1016: DeprecationWarning: Widget._active_widgets is deprecated.\n",
      "  value = getattr(cls, name)\n",
      "/Users/josephbloom/miniforge3/envs/decision_transformer_interpretability/lib/python3.9/site-packages/traitlets/traitlets.py:1016: DeprecationWarning: Widget._widget_types is deprecated.\n",
      "  value = getattr(cls, name)\n",
      "/Users/josephbloom/miniforge3/envs/decision_transformer_interpretability/lib/python3.9/site-packages/traitlets/traitlets.py:1016: DeprecationWarning: Widget.widget_types is deprecated.\n",
      "  value = getattr(cls, name)\n",
      "/Users/josephbloom/miniforge3/envs/decision_transformer_interpretability/lib/python3.9/site-packages/traitlets/traitlets.py:1016: DeprecationWarning: Widget.widgets is deprecated.\n",
      "  value = getattr(cls, name)\n",
      "/Users/josephbloom/miniforge3/envs/decision_transformer_interpretability/lib/python3.9/site-packages/traitlets/traitlets.py:1016: DeprecationWarning: Widget._active_widgets is deprecated.\n",
      "  value = getattr(cls, name)\n",
      "/Users/josephbloom/miniforge3/envs/decision_transformer_interpretability/lib/python3.9/site-packages/traitlets/traitlets.py:1016: DeprecationWarning: Widget._widget_types is deprecated.\n",
      "  value = getattr(cls, name)\n",
      "/Users/josephbloom/miniforge3/envs/decision_transformer_interpretability/lib/python3.9/site-packages/traitlets/traitlets.py:1016: DeprecationWarning: Widget.widget_types is deprecated.\n",
      "  value = getattr(cls, name)\n",
      "/Users/josephbloom/miniforge3/envs/decision_transformer_interpretability/lib/python3.9/site-packages/traitlets/traitlets.py:1016: DeprecationWarning: Widget.widgets is deprecated.\n",
      "  value = getattr(cls, name)\n",
      "/Users/josephbloom/miniforge3/envs/decision_transformer_interpretability/lib/python3.9/site-packages/traitlets/traitlets.py:1016: DeprecationWarning: Widget._active_widgets is deprecated.\n",
      "  value = getattr(cls, name)\n",
      "/Users/josephbloom/miniforge3/envs/decision_transformer_interpretability/lib/python3.9/site-packages/traitlets/traitlets.py:1016: DeprecationWarning: Widget._widget_types is deprecated.\n",
      "  value = getattr(cls, name)\n",
      "/Users/josephbloom/miniforge3/envs/decision_transformer_interpretability/lib/python3.9/site-packages/traitlets/traitlets.py:1016: DeprecationWarning: Widget.widget_types is deprecated.\n",
      "  value = getattr(cls, name)\n",
      "/Users/josephbloom/miniforge3/envs/decision_transformer_interpretability/lib/python3.9/site-packages/traitlets/traitlets.py:1016: DeprecationWarning: Widget.widgets is deprecated.\n",
      "  value = getattr(cls, name)\n",
      "/Users/josephbloom/miniforge3/envs/decision_transformer_interpretability/lib/python3.9/site-packages/traitlets/traitlets.py:1016: DeprecationWarning: Widget._active_widgets is deprecated.\n",
      "  value = getattr(cls, name)\n",
      "/Users/josephbloom/miniforge3/envs/decision_transformer_interpretability/lib/python3.9/site-packages/traitlets/traitlets.py:1016: DeprecationWarning: Widget._widget_types is deprecated.\n",
      "  value = getattr(cls, name)\n",
      "/Users/josephbloom/miniforge3/envs/decision_transformer_interpretability/lib/python3.9/site-packages/traitlets/traitlets.py:1016: DeprecationWarning: Widget.widget_types is deprecated.\n",
      "  value = getattr(cls, name)\n",
      "/Users/josephbloom/miniforge3/envs/decision_transformer_interpretability/lib/python3.9/site-packages/traitlets/traitlets.py:1016: DeprecationWarning: Widget.widgets is deprecated.\n",
      "  value = getattr(cls, name)\n",
      "/Users/josephbloom/miniforge3/envs/decision_transformer_interpretability/lib/python3.9/site-packages/traitlets/traitlets.py:1016: DeprecationWarning: Widget._active_widgets is deprecated.\n",
      "  value = getattr(cls, name)\n",
      "/Users/josephbloom/miniforge3/envs/decision_transformer_interpretability/lib/python3.9/site-packages/traitlets/traitlets.py:1016: DeprecationWarning: Widget._widget_types is deprecated.\n",
      "  value = getattr(cls, name)\n",
      "/Users/josephbloom/miniforge3/envs/decision_transformer_interpretability/lib/python3.9/site-packages/traitlets/traitlets.py:1016: DeprecationWarning: Widget.widget_types is deprecated.\n",
      "  value = getattr(cls, name)\n",
      "/Users/josephbloom/miniforge3/envs/decision_transformer_interpretability/lib/python3.9/site-packages/traitlets/traitlets.py:1016: DeprecationWarning: Widget.widgets is deprecated.\n",
      "  value = getattr(cls, name)\n",
      "/Users/josephbloom/miniforge3/envs/decision_transformer_interpretability/lib/python3.9/site-packages/traitlets/traitlets.py:1016: DeprecationWarning: Widget._active_widgets is deprecated.\n",
      "  value = getattr(cls, name)\n",
      "/Users/josephbloom/miniforge3/envs/decision_transformer_interpretability/lib/python3.9/site-packages/traitlets/traitlets.py:1016: DeprecationWarning: Widget._widget_types is deprecated.\n",
      "  value = getattr(cls, name)\n",
      "/Users/josephbloom/miniforge3/envs/decision_transformer_interpretability/lib/python3.9/site-packages/traitlets/traitlets.py:1016: DeprecationWarning: Widget.widget_types is deprecated.\n",
      "  value = getattr(cls, name)\n",
      "/Users/josephbloom/miniforge3/envs/decision_transformer_interpretability/lib/python3.9/site-packages/traitlets/traitlets.py:1016: DeprecationWarning: Widget.widgets is deprecated.\n",
      "  value = getattr(cls, name)\n",
      "/Users/josephbloom/miniforge3/envs/decision_transformer_interpretability/lib/python3.9/site-packages/traitlets/traitlets.py:1016: DeprecationWarning: Widget._active_widgets is deprecated.\n",
      "  value = getattr(cls, name)\n",
      "/Users/josephbloom/miniforge3/envs/decision_transformer_interpretability/lib/python3.9/site-packages/traitlets/traitlets.py:1016: DeprecationWarning: Widget._widget_types is deprecated.\n",
      "  value = getattr(cls, name)\n",
      "/Users/josephbloom/miniforge3/envs/decision_transformer_interpretability/lib/python3.9/site-packages/traitlets/traitlets.py:1016: DeprecationWarning: Widget.widget_types is deprecated.\n",
      "  value = getattr(cls, name)\n",
      "/Users/josephbloom/miniforge3/envs/decision_transformer_interpretability/lib/python3.9/site-packages/traitlets/traitlets.py:1016: DeprecationWarning: Widget.widgets is deprecated.\n",
      "  value = getattr(cls, name)\n",
      "/Users/josephbloom/miniforge3/envs/decision_transformer_interpretability/lib/python3.9/site-packages/traitlets/traitlets.py:1016: DeprecationWarning: Widget._active_widgets is deprecated.\n",
      "  value = getattr(cls, name)\n",
      "/Users/josephbloom/miniforge3/envs/decision_transformer_interpretability/lib/python3.9/site-packages/traitlets/traitlets.py:1016: DeprecationWarning: Widget._widget_types is deprecated.\n",
      "  value = getattr(cls, name)\n",
      "/Users/josephbloom/miniforge3/envs/decision_transformer_interpretability/lib/python3.9/site-packages/traitlets/traitlets.py:1016: DeprecationWarning: Widget.widget_types is deprecated.\n",
      "  value = getattr(cls, name)\n",
      "/Users/josephbloom/miniforge3/envs/decision_transformer_interpretability/lib/python3.9/site-packages/traitlets/traitlets.py:1016: DeprecationWarning: Widget.widgets is deprecated.\n",
      "  value = getattr(cls, name)\n",
      "/Users/josephbloom/miniforge3/envs/decision_transformer_interpretability/lib/python3.9/site-packages/traitlets/traitlets.py:1016: DeprecationWarning: Widget._active_widgets is deprecated.\n",
      "  value = getattr(cls, name)\n",
      "/Users/josephbloom/miniforge3/envs/decision_transformer_interpretability/lib/python3.9/site-packages/traitlets/traitlets.py:1016: DeprecationWarning: Widget._widget_types is deprecated.\n",
      "  value = getattr(cls, name)\n",
      "/Users/josephbloom/miniforge3/envs/decision_transformer_interpretability/lib/python3.9/site-packages/traitlets/traitlets.py:1016: DeprecationWarning: Widget.widget_types is deprecated.\n",
      "  value = getattr(cls, name)\n",
      "/Users/josephbloom/miniforge3/envs/decision_transformer_interpretability/lib/python3.9/site-packages/traitlets/traitlets.py:1016: DeprecationWarning: Widget.widgets is deprecated.\n",
      "  value = getattr(cls, name)\n",
      "/Users/josephbloom/miniforge3/envs/decision_transformer_interpretability/lib/python3.9/site-packages/traitlets/traitlets.py:1016: DeprecationWarning: Widget._active_widgets is deprecated.\n",
      "  value = getattr(cls, name)\n",
      "/Users/josephbloom/miniforge3/envs/decision_transformer_interpretability/lib/python3.9/site-packages/traitlets/traitlets.py:1016: DeprecationWarning: Widget._widget_types is deprecated.\n",
      "  value = getattr(cls, name)\n",
      "/Users/josephbloom/miniforge3/envs/decision_transformer_interpretability/lib/python3.9/site-packages/traitlets/traitlets.py:1016: DeprecationWarning: Widget.widget_types is deprecated.\n",
      "  value = getattr(cls, name)\n",
      "/Users/josephbloom/miniforge3/envs/decision_transformer_interpretability/lib/python3.9/site-packages/traitlets/traitlets.py:1016: DeprecationWarning: Widget.widgets is deprecated.\n",
      "  value = getattr(cls, name)\n",
      "/Users/josephbloom/miniforge3/envs/decision_transformer_interpretability/lib/python3.9/site-packages/traitlets/traitlets.py:1016: DeprecationWarning: Widget._active_widgets is deprecated.\n",
      "  value = getattr(cls, name)\n",
      "/Users/josephbloom/miniforge3/envs/decision_transformer_interpretability/lib/python3.9/site-packages/traitlets/traitlets.py:1016: DeprecationWarning: Widget._widget_types is deprecated.\n",
      "  value = getattr(cls, name)\n",
      "/Users/josephbloom/miniforge3/envs/decision_transformer_interpretability/lib/python3.9/site-packages/traitlets/traitlets.py:1016: DeprecationWarning: Widget.widget_types is deprecated.\n",
      "  value = getattr(cls, name)\n",
      "/Users/josephbloom/miniforge3/envs/decision_transformer_interpretability/lib/python3.9/site-packages/traitlets/traitlets.py:1016: DeprecationWarning: Widget.widgets is deprecated.\n",
      "  value = getattr(cls, name)\n",
      "/Users/josephbloom/miniforge3/envs/decision_transformer_interpretability/lib/python3.9/site-packages/traitlets/traitlets.py:1016: DeprecationWarning: Widget._active_widgets is deprecated.\n",
      "  value = getattr(cls, name)\n",
      "/Users/josephbloom/miniforge3/envs/decision_transformer_interpretability/lib/python3.9/site-packages/traitlets/traitlets.py:1016: DeprecationWarning: Widget._widget_types is deprecated.\n",
      "  value = getattr(cls, name)\n",
      "/Users/josephbloom/miniforge3/envs/decision_transformer_interpretability/lib/python3.9/site-packages/traitlets/traitlets.py:1016: DeprecationWarning: Widget.widget_types is deprecated.\n",
      "  value = getattr(cls, name)\n",
      "/Users/josephbloom/miniforge3/envs/decision_transformer_interpretability/lib/python3.9/site-packages/traitlets/traitlets.py:1016: DeprecationWarning: Widget.widgets is deprecated.\n",
      "  value = getattr(cls, name)\n",
      "/Users/josephbloom/miniforge3/envs/decision_transformer_interpretability/lib/python3.9/site-packages/traitlets/traitlets.py:1016: DeprecationWarning: Widget._active_widgets is deprecated.\n",
      "  value = getattr(cls, name)\n",
      "/Users/josephbloom/miniforge3/envs/decision_transformer_interpretability/lib/python3.9/site-packages/traitlets/traitlets.py:1016: DeprecationWarning: Widget._widget_types is deprecated.\n",
      "  value = getattr(cls, name)\n",
      "/Users/josephbloom/miniforge3/envs/decision_transformer_interpretability/lib/python3.9/site-packages/traitlets/traitlets.py:1016: DeprecationWarning: Widget.widget_types is deprecated.\n",
      "  value = getattr(cls, name)\n",
      "/Users/josephbloom/miniforge3/envs/decision_transformer_interpretability/lib/python3.9/site-packages/traitlets/traitlets.py:1016: DeprecationWarning: Widget.widgets is deprecated.\n",
      "  value = getattr(cls, name)\n",
      "/Users/josephbloom/miniforge3/envs/decision_transformer_interpretability/lib/python3.9/site-packages/traitlets/traitlets.py:1016: DeprecationWarning: Widget._active_widgets is deprecated.\n",
      "  value = getattr(cls, name)\n",
      "/Users/josephbloom/miniforge3/envs/decision_transformer_interpretability/lib/python3.9/site-packages/traitlets/traitlets.py:1016: DeprecationWarning: Widget._widget_types is deprecated.\n",
      "  value = getattr(cls, name)\n",
      "/Users/josephbloom/miniforge3/envs/decision_transformer_interpretability/lib/python3.9/site-packages/traitlets/traitlets.py:1016: DeprecationWarning: Widget.widget_types is deprecated.\n",
      "  value = getattr(cls, name)\n",
      "/Users/josephbloom/miniforge3/envs/decision_transformer_interpretability/lib/python3.9/site-packages/traitlets/traitlets.py:1016: DeprecationWarning: Widget.widgets is deprecated.\n",
      "  value = getattr(cls, name)\n",
      "/Users/josephbloom/miniforge3/envs/decision_transformer_interpretability/lib/python3.9/site-packages/traitlets/traitlets.py:1016: DeprecationWarning: Widget._active_widgets is deprecated.\n",
      "  value = getattr(cls, name)\n",
      "/Users/josephbloom/miniforge3/envs/decision_transformer_interpretability/lib/python3.9/site-packages/traitlets/traitlets.py:1016: DeprecationWarning: Widget._widget_types is deprecated.\n",
      "  value = getattr(cls, name)\n",
      "/Users/josephbloom/miniforge3/envs/decision_transformer_interpretability/lib/python3.9/site-packages/traitlets/traitlets.py:1016: DeprecationWarning: Widget.widget_types is deprecated.\n",
      "  value = getattr(cls, name)\n",
      "/Users/josephbloom/miniforge3/envs/decision_transformer_interpretability/lib/python3.9/site-packages/traitlets/traitlets.py:1016: DeprecationWarning: Widget.widgets is deprecated.\n",
      "  value = getattr(cls, name)\n",
      "/Users/josephbloom/miniforge3/envs/decision_transformer_interpretability/lib/python3.9/site-packages/traitlets/traitlets.py:1016: DeprecationWarning: Widget._active_widgets is deprecated.\n",
      "  value = getattr(cls, name)\n",
      "/Users/josephbloom/miniforge3/envs/decision_transformer_interpretability/lib/python3.9/site-packages/traitlets/traitlets.py:1016: DeprecationWarning: Widget._widget_types is deprecated.\n",
      "  value = getattr(cls, name)\n",
      "/Users/josephbloom/miniforge3/envs/decision_transformer_interpretability/lib/python3.9/site-packages/traitlets/traitlets.py:1016: DeprecationWarning: Widget.widget_types is deprecated.\n",
      "  value = getattr(cls, name)\n",
      "/Users/josephbloom/miniforge3/envs/decision_transformer_interpretability/lib/python3.9/site-packages/traitlets/traitlets.py:1016: DeprecationWarning: Widget.widgets is deprecated.\n",
      "  value = getattr(cls, name)\n",
      "/Users/josephbloom/miniforge3/envs/decision_transformer_interpretability/lib/python3.9/site-packages/traitlets/traitlets.py:1016: DeprecationWarning: Widget._active_widgets is deprecated.\n",
      "  value = getattr(cls, name)\n",
      "/Users/josephbloom/miniforge3/envs/decision_transformer_interpretability/lib/python3.9/site-packages/traitlets/traitlets.py:1016: DeprecationWarning: Widget._widget_types is deprecated.\n",
      "  value = getattr(cls, name)\n",
      "/Users/josephbloom/miniforge3/envs/decision_transformer_interpretability/lib/python3.9/site-packages/traitlets/traitlets.py:1016: DeprecationWarning: Widget.widget_types is deprecated.\n",
      "  value = getattr(cls, name)\n",
      "/Users/josephbloom/miniforge3/envs/decision_transformer_interpretability/lib/python3.9/site-packages/traitlets/traitlets.py:1016: DeprecationWarning: Widget.widgets is deprecated.\n",
      "  value = getattr(cls, name)\n",
      "/Users/josephbloom/miniforge3/envs/decision_transformer_interpretability/lib/python3.9/site-packages/traitlets/traitlets.py:1016: DeprecationWarning: Widget._active_widgets is deprecated.\n",
      "  value = getattr(cls, name)\n",
      "/Users/josephbloom/miniforge3/envs/decision_transformer_interpretability/lib/python3.9/site-packages/traitlets/traitlets.py:1016: DeprecationWarning: Widget._widget_types is deprecated.\n",
      "  value = getattr(cls, name)\n",
      "/Users/josephbloom/miniforge3/envs/decision_transformer_interpretability/lib/python3.9/site-packages/traitlets/traitlets.py:1016: DeprecationWarning: Widget.widget_types is deprecated.\n",
      "  value = getattr(cls, name)\n",
      "/Users/josephbloom/miniforge3/envs/decision_transformer_interpretability/lib/python3.9/site-packages/traitlets/traitlets.py:1016: DeprecationWarning: Widget.widgets is deprecated.\n",
      "  value = getattr(cls, name)\n",
      "/Users/josephbloom/miniforge3/envs/decision_transformer_interpretability/lib/python3.9/site-packages/traitlets/traitlets.py:1016: DeprecationWarning: Widget._active_widgets is deprecated.\n",
      "  value = getattr(cls, name)\n",
      "/Users/josephbloom/miniforge3/envs/decision_transformer_interpretability/lib/python3.9/site-packages/traitlets/traitlets.py:1016: DeprecationWarning: Widget._widget_types is deprecated.\n",
      "  value = getattr(cls, name)\n",
      "/Users/josephbloom/miniforge3/envs/decision_transformer_interpretability/lib/python3.9/site-packages/traitlets/traitlets.py:1016: DeprecationWarning: Widget.widget_types is deprecated.\n",
      "  value = getattr(cls, name)\n",
      "/Users/josephbloom/miniforge3/envs/decision_transformer_interpretability/lib/python3.9/site-packages/traitlets/traitlets.py:1016: DeprecationWarning: Widget.widgets is deprecated.\n",
      "  value = getattr(cls, name)\n",
      "/Users/josephbloom/miniforge3/envs/decision_transformer_interpretability/lib/python3.9/site-packages/traitlets/traitlets.py:1016: DeprecationWarning: Widget._active_widgets is deprecated.\n",
      "  value = getattr(cls, name)\n",
      "/Users/josephbloom/miniforge3/envs/decision_transformer_interpretability/lib/python3.9/site-packages/traitlets/traitlets.py:1016: DeprecationWarning: Widget._widget_types is deprecated.\n",
      "  value = getattr(cls, name)\n",
      "/Users/josephbloom/miniforge3/envs/decision_transformer_interpretability/lib/python3.9/site-packages/traitlets/traitlets.py:1016: DeprecationWarning: Widget.widget_types is deprecated.\n",
      "  value = getattr(cls, name)\n",
      "/Users/josephbloom/miniforge3/envs/decision_transformer_interpretability/lib/python3.9/site-packages/traitlets/traitlets.py:1016: DeprecationWarning: Widget.widgets is deprecated.\n",
      "  value = getattr(cls, name)\n",
      "/Users/josephbloom/miniforge3/envs/decision_transformer_interpretability/lib/python3.9/site-packages/traitlets/traitlets.py:1016: DeprecationWarning: Widget._active_widgets is deprecated.\n",
      "  value = getattr(cls, name)\n",
      "/Users/josephbloom/miniforge3/envs/decision_transformer_interpretability/lib/python3.9/site-packages/traitlets/traitlets.py:1016: DeprecationWarning: Widget._widget_types is deprecated.\n",
      "  value = getattr(cls, name)\n",
      "/Users/josephbloom/miniforge3/envs/decision_transformer_interpretability/lib/python3.9/site-packages/traitlets/traitlets.py:1016: DeprecationWarning: Widget.widget_types is deprecated.\n",
      "  value = getattr(cls, name)\n",
      "/Users/josephbloom/miniforge3/envs/decision_transformer_interpretability/lib/python3.9/site-packages/traitlets/traitlets.py:1016: DeprecationWarning: Widget.widgets is deprecated.\n",
      "  value = getattr(cls, name)\n",
      "/Users/josephbloom/miniforge3/envs/decision_transformer_interpretability/lib/python3.9/site-packages/traitlets/traitlets.py:1016: DeprecationWarning: Widget._active_widgets is deprecated.\n",
      "  value = getattr(cls, name)\n",
      "/Users/josephbloom/miniforge3/envs/decision_transformer_interpretability/lib/python3.9/site-packages/traitlets/traitlets.py:1016: DeprecationWarning: Widget._widget_types is deprecated.\n",
      "  value = getattr(cls, name)\n",
      "/Users/josephbloom/miniforge3/envs/decision_transformer_interpretability/lib/python3.9/site-packages/traitlets/traitlets.py:1016: DeprecationWarning: Widget.widget_types is deprecated.\n",
      "  value = getattr(cls, name)\n",
      "/Users/josephbloom/miniforge3/envs/decision_transformer_interpretability/lib/python3.9/site-packages/traitlets/traitlets.py:1016: DeprecationWarning: Widget.widgets is deprecated.\n",
      "  value = getattr(cls, name)\n",
      "/Users/josephbloom/miniforge3/envs/decision_transformer_interpretability/lib/python3.9/site-packages/traitlets/traitlets.py:1016: DeprecationWarning: Widget._active_widgets is deprecated.\n",
      "  value = getattr(cls, name)\n",
      "/Users/josephbloom/miniforge3/envs/decision_transformer_interpretability/lib/python3.9/site-packages/traitlets/traitlets.py:1016: DeprecationWarning: Widget._widget_types is deprecated.\n",
      "  value = getattr(cls, name)\n",
      "/Users/josephbloom/miniforge3/envs/decision_transformer_interpretability/lib/python3.9/site-packages/traitlets/traitlets.py:1016: DeprecationWarning: Widget.widget_types is deprecated.\n",
      "  value = getattr(cls, name)\n",
      "/Users/josephbloom/miniforge3/envs/decision_transformer_interpretability/lib/python3.9/site-packages/traitlets/traitlets.py:1016: DeprecationWarning: Widget.widgets is deprecated.\n",
      "  value = getattr(cls, name)\n",
      "/Users/josephbloom/miniforge3/envs/decision_transformer_interpretability/lib/python3.9/site-packages/traitlets/traitlets.py:1016: DeprecationWarning: Widget._active_widgets is deprecated.\n",
      "  value = getattr(cls, name)\n",
      "/Users/josephbloom/miniforge3/envs/decision_transformer_interpretability/lib/python3.9/site-packages/traitlets/traitlets.py:1016: DeprecationWarning: Widget._widget_types is deprecated.\n",
      "  value = getattr(cls, name)\n",
      "/Users/josephbloom/miniforge3/envs/decision_transformer_interpretability/lib/python3.9/site-packages/traitlets/traitlets.py:1016: DeprecationWarning: Widget.widget_types is deprecated.\n",
      "  value = getattr(cls, name)\n",
      "/Users/josephbloom/miniforge3/envs/decision_transformer_interpretability/lib/python3.9/site-packages/traitlets/traitlets.py:1016: DeprecationWarning: Widget.widgets is deprecated.\n",
      "  value = getattr(cls, name)\n",
      "/Users/josephbloom/miniforge3/envs/decision_transformer_interpretability/lib/python3.9/site-packages/traitlets/traitlets.py:1016: DeprecationWarning: Widget._active_widgets is deprecated.\n",
      "  value = getattr(cls, name)\n",
      "/Users/josephbloom/miniforge3/envs/decision_transformer_interpretability/lib/python3.9/site-packages/traitlets/traitlets.py:1016: DeprecationWarning: Widget._widget_types is deprecated.\n",
      "  value = getattr(cls, name)\n",
      "/Users/josephbloom/miniforge3/envs/decision_transformer_interpretability/lib/python3.9/site-packages/traitlets/traitlets.py:1016: DeprecationWarning: Widget.widget_types is deprecated.\n",
      "  value = getattr(cls, name)\n",
      "/Users/josephbloom/miniforge3/envs/decision_transformer_interpretability/lib/python3.9/site-packages/traitlets/traitlets.py:1016: DeprecationWarning: Widget.widgets is deprecated.\n",
      "  value = getattr(cls, name)\n",
      "/Users/josephbloom/miniforge3/envs/decision_transformer_interpretability/lib/python3.9/site-packages/traitlets/traitlets.py:1016: DeprecationWarning: Widget._active_widgets is deprecated.\n",
      "  value = getattr(cls, name)\n",
      "/Users/josephbloom/miniforge3/envs/decision_transformer_interpretability/lib/python3.9/site-packages/traitlets/traitlets.py:1016: DeprecationWarning: Widget._widget_types is deprecated.\n",
      "  value = getattr(cls, name)\n",
      "/Users/josephbloom/miniforge3/envs/decision_transformer_interpretability/lib/python3.9/site-packages/traitlets/traitlets.py:1016: DeprecationWarning: Widget.widget_types is deprecated.\n",
      "  value = getattr(cls, name)\n",
      "/Users/josephbloom/miniforge3/envs/decision_transformer_interpretability/lib/python3.9/site-packages/traitlets/traitlets.py:1016: DeprecationWarning: Widget.widgets is deprecated.\n",
      "  value = getattr(cls, name)\n",
      "/Users/josephbloom/miniforge3/envs/decision_transformer_interpretability/lib/python3.9/site-packages/traitlets/traitlets.py:1016: DeprecationWarning: Widget._active_widgets is deprecated.\n",
      "  value = getattr(cls, name)\n",
      "/Users/josephbloom/miniforge3/envs/decision_transformer_interpretability/lib/python3.9/site-packages/traitlets/traitlets.py:1016: DeprecationWarning: Widget._widget_types is deprecated.\n",
      "  value = getattr(cls, name)\n",
      "/Users/josephbloom/miniforge3/envs/decision_transformer_interpretability/lib/python3.9/site-packages/traitlets/traitlets.py:1016: DeprecationWarning: Widget.widget_types is deprecated.\n",
      "  value = getattr(cls, name)\n",
      "/Users/josephbloom/miniforge3/envs/decision_transformer_interpretability/lib/python3.9/site-packages/traitlets/traitlets.py:1016: DeprecationWarning: Widget.widgets is deprecated.\n",
      "  value = getattr(cls, name)\n",
      "/Users/josephbloom/miniforge3/envs/decision_transformer_interpretability/lib/python3.9/site-packages/traitlets/traitlets.py:1016: DeprecationWarning: Widget._active_widgets is deprecated.\n",
      "  value = getattr(cls, name)\n",
      "/Users/josephbloom/miniforge3/envs/decision_transformer_interpretability/lib/python3.9/site-packages/traitlets/traitlets.py:1016: DeprecationWarning: Widget._widget_types is deprecated.\n",
      "  value = getattr(cls, name)\n",
      "/Users/josephbloom/miniforge3/envs/decision_transformer_interpretability/lib/python3.9/site-packages/traitlets/traitlets.py:1016: DeprecationWarning: Widget.widget_types is deprecated.\n",
      "  value = getattr(cls, name)\n",
      "/Users/josephbloom/miniforge3/envs/decision_transformer_interpretability/lib/python3.9/site-packages/traitlets/traitlets.py:1016: DeprecationWarning: Widget.widgets is deprecated.\n",
      "  value = getattr(cls, name)\n",
      "/Users/josephbloom/miniforge3/envs/decision_transformer_interpretability/lib/python3.9/site-packages/traitlets/traitlets.py:1016: DeprecationWarning: Widget._active_widgets is deprecated.\n",
      "  value = getattr(cls, name)\n",
      "/Users/josephbloom/miniforge3/envs/decision_transformer_interpretability/lib/python3.9/site-packages/traitlets/traitlets.py:1016: DeprecationWarning: Widget._widget_types is deprecated.\n",
      "  value = getattr(cls, name)\n",
      "/Users/josephbloom/miniforge3/envs/decision_transformer_interpretability/lib/python3.9/site-packages/traitlets/traitlets.py:1016: DeprecationWarning: Widget.widget_types is deprecated.\n",
      "  value = getattr(cls, name)\n",
      "/Users/josephbloom/miniforge3/envs/decision_transformer_interpretability/lib/python3.9/site-packages/traitlets/traitlets.py:1016: DeprecationWarning: Widget.widgets is deprecated.\n",
      "  value = getattr(cls, name)\n",
      "/Users/josephbloom/miniforge3/envs/decision_transformer_interpretability/lib/python3.9/site-packages/traitlets/traitlets.py:1016: DeprecationWarning: Widget._active_widgets is deprecated.\n",
      "  value = getattr(cls, name)\n",
      "/Users/josephbloom/miniforge3/envs/decision_transformer_interpretability/lib/python3.9/site-packages/traitlets/traitlets.py:1016: DeprecationWarning: Widget._widget_types is deprecated.\n",
      "  value = getattr(cls, name)\n",
      "/Users/josephbloom/miniforge3/envs/decision_transformer_interpretability/lib/python3.9/site-packages/traitlets/traitlets.py:1016: DeprecationWarning: Widget.widget_types is deprecated.\n",
      "  value = getattr(cls, name)\n",
      "/Users/josephbloom/miniforge3/envs/decision_transformer_interpretability/lib/python3.9/site-packages/traitlets/traitlets.py:1016: DeprecationWarning: Widget.widgets is deprecated.\n",
      "  value = getattr(cls, name)\n",
      "/Users/josephbloom/miniforge3/envs/decision_transformer_interpretability/lib/python3.9/site-packages/traitlets/traitlets.py:1016: DeprecationWarning: Widget._active_widgets is deprecated.\n",
      "  value = getattr(cls, name)\n",
      "/Users/josephbloom/miniforge3/envs/decision_transformer_interpretability/lib/python3.9/site-packages/traitlets/traitlets.py:1016: DeprecationWarning: Widget._widget_types is deprecated.\n",
      "  value = getattr(cls, name)\n",
      "/Users/josephbloom/miniforge3/envs/decision_transformer_interpretability/lib/python3.9/site-packages/traitlets/traitlets.py:1016: DeprecationWarning: Widget.widget_types is deprecated.\n",
      "  value = getattr(cls, name)\n",
      "/Users/josephbloom/miniforge3/envs/decision_transformer_interpretability/lib/python3.9/site-packages/traitlets/traitlets.py:1016: DeprecationWarning: Widget.widgets is deprecated.\n",
      "  value = getattr(cls, name)\n",
      "/Users/josephbloom/miniforge3/envs/decision_transformer_interpretability/lib/python3.9/site-packages/traitlets/traitlets.py:1016: DeprecationWarning: Widget._active_widgets is deprecated.\n",
      "  value = getattr(cls, name)\n",
      "/Users/josephbloom/miniforge3/envs/decision_transformer_interpretability/lib/python3.9/site-packages/traitlets/traitlets.py:1016: DeprecationWarning: Widget._widget_types is deprecated.\n",
      "  value = getattr(cls, name)\n",
      "/Users/josephbloom/miniforge3/envs/decision_transformer_interpretability/lib/python3.9/site-packages/traitlets/traitlets.py:1016: DeprecationWarning: Widget.widget_types is deprecated.\n",
      "  value = getattr(cls, name)\n",
      "/Users/josephbloom/miniforge3/envs/decision_transformer_interpretability/lib/python3.9/site-packages/traitlets/traitlets.py:1016: DeprecationWarning: Widget.widgets is deprecated.\n",
      "  value = getattr(cls, name)\n",
      "/Users/josephbloom/miniforge3/envs/decision_transformer_interpretability/lib/python3.9/site-packages/traitlets/traitlets.py:1016: DeprecationWarning: Widget._active_widgets is deprecated.\n",
      "  value = getattr(cls, name)\n",
      "/Users/josephbloom/miniforge3/envs/decision_transformer_interpretability/lib/python3.9/site-packages/traitlets/traitlets.py:1016: DeprecationWarning: Widget._widget_types is deprecated.\n",
      "  value = getattr(cls, name)\n",
      "/Users/josephbloom/miniforge3/envs/decision_transformer_interpretability/lib/python3.9/site-packages/traitlets/traitlets.py:1016: DeprecationWarning: Widget.widget_types is deprecated.\n",
      "  value = getattr(cls, name)\n",
      "/Users/josephbloom/miniforge3/envs/decision_transformer_interpretability/lib/python3.9/site-packages/traitlets/traitlets.py:1016: DeprecationWarning: Widget.widgets is deprecated.\n",
      "  value = getattr(cls, name)\n",
      "/Users/josephbloom/miniforge3/envs/decision_transformer_interpretability/lib/python3.9/site-packages/traitlets/traitlets.py:1016: DeprecationWarning: Widget._active_widgets is deprecated.\n",
      "  value = getattr(cls, name)\n",
      "/Users/josephbloom/miniforge3/envs/decision_transformer_interpretability/lib/python3.9/site-packages/traitlets/traitlets.py:1016: DeprecationWarning: Widget._widget_types is deprecated.\n",
      "  value = getattr(cls, name)\n",
      "/Users/josephbloom/miniforge3/envs/decision_transformer_interpretability/lib/python3.9/site-packages/traitlets/traitlets.py:1016: DeprecationWarning: Widget.widget_types is deprecated.\n",
      "  value = getattr(cls, name)\n",
      "/Users/josephbloom/miniforge3/envs/decision_transformer_interpretability/lib/python3.9/site-packages/traitlets/traitlets.py:1016: DeprecationWarning: Widget.widgets is deprecated.\n",
      "  value = getattr(cls, name)\n",
      "/Users/josephbloom/miniforge3/envs/decision_transformer_interpretability/lib/python3.9/site-packages/traitlets/traitlets.py:1016: DeprecationWarning: Widget._active_widgets is deprecated.\n",
      "  value = getattr(cls, name)\n",
      "/Users/josephbloom/miniforge3/envs/decision_transformer_interpretability/lib/python3.9/site-packages/traitlets/traitlets.py:1016: DeprecationWarning: Widget._widget_types is deprecated.\n",
      "  value = getattr(cls, name)\n",
      "/Users/josephbloom/miniforge3/envs/decision_transformer_interpretability/lib/python3.9/site-packages/traitlets/traitlets.py:1016: DeprecationWarning: Widget.widget_types is deprecated.\n",
      "  value = getattr(cls, name)\n",
      "/Users/josephbloom/miniforge3/envs/decision_transformer_interpretability/lib/python3.9/site-packages/traitlets/traitlets.py:1016: DeprecationWarning: Widget.widgets is deprecated.\n",
      "  value = getattr(cls, name)\n",
      "/Users/josephbloom/miniforge3/envs/decision_transformer_interpretability/lib/python3.9/site-packages/traitlets/traitlets.py:1016: DeprecationWarning: Widget._active_widgets is deprecated.\n",
      "  value = getattr(cls, name)\n",
      "/Users/josephbloom/miniforge3/envs/decision_transformer_interpretability/lib/python3.9/site-packages/traitlets/traitlets.py:1016: DeprecationWarning: Widget._widget_types is deprecated.\n",
      "  value = getattr(cls, name)\n",
      "/Users/josephbloom/miniforge3/envs/decision_transformer_interpretability/lib/python3.9/site-packages/traitlets/traitlets.py:1016: DeprecationWarning: Widget.widget_types is deprecated.\n",
      "  value = getattr(cls, name)\n",
      "/Users/josephbloom/miniforge3/envs/decision_transformer_interpretability/lib/python3.9/site-packages/traitlets/traitlets.py:1016: DeprecationWarning: Widget.widgets is deprecated.\n",
      "  value = getattr(cls, name)\n",
      "/Users/josephbloom/miniforge3/envs/decision_transformer_interpretability/lib/python3.9/site-packages/traitlets/traitlets.py:1016: DeprecationWarning: Widget._active_widgets is deprecated.\n",
      "  value = getattr(cls, name)\n",
      "/Users/josephbloom/miniforge3/envs/decision_transformer_interpretability/lib/python3.9/site-packages/traitlets/traitlets.py:1016: DeprecationWarning: Widget._widget_types is deprecated.\n",
      "  value = getattr(cls, name)\n",
      "/Users/josephbloom/miniforge3/envs/decision_transformer_interpretability/lib/python3.9/site-packages/traitlets/traitlets.py:1016: DeprecationWarning: Widget.widget_types is deprecated.\n",
      "  value = getattr(cls, name)\n",
      "/Users/josephbloom/miniforge3/envs/decision_transformer_interpretability/lib/python3.9/site-packages/traitlets/traitlets.py:1016: DeprecationWarning: Widget.widgets is deprecated.\n",
      "  value = getattr(cls, name)\n",
      "/Users/josephbloom/miniforge3/envs/decision_transformer_interpretability/lib/python3.9/site-packages/traitlets/traitlets.py:1016: DeprecationWarning: Widget._active_widgets is deprecated.\n",
      "  value = getattr(cls, name)\n",
      "/Users/josephbloom/miniforge3/envs/decision_transformer_interpretability/lib/python3.9/site-packages/traitlets/traitlets.py:1016: DeprecationWarning: Widget._widget_types is deprecated.\n",
      "  value = getattr(cls, name)\n",
      "/Users/josephbloom/miniforge3/envs/decision_transformer_interpretability/lib/python3.9/site-packages/traitlets/traitlets.py:1016: DeprecationWarning: Widget.widget_types is deprecated.\n",
      "  value = getattr(cls, name)\n",
      "/Users/josephbloom/miniforge3/envs/decision_transformer_interpretability/lib/python3.9/site-packages/traitlets/traitlets.py:1016: DeprecationWarning: Widget.widgets is deprecated.\n",
      "  value = getattr(cls, name)\n",
      "/Users/josephbloom/miniforge3/envs/decision_transformer_interpretability/lib/python3.9/site-packages/traitlets/traitlets.py:1016: DeprecationWarning: Widget._active_widgets is deprecated.\n",
      "  value = getattr(cls, name)\n",
      "/Users/josephbloom/miniforge3/envs/decision_transformer_interpretability/lib/python3.9/site-packages/traitlets/traitlets.py:1016: DeprecationWarning: Widget._widget_types is deprecated.\n",
      "  value = getattr(cls, name)\n",
      "/Users/josephbloom/miniforge3/envs/decision_transformer_interpretability/lib/python3.9/site-packages/traitlets/traitlets.py:1016: DeprecationWarning: Widget.widget_types is deprecated.\n",
      "  value = getattr(cls, name)\n",
      "/Users/josephbloom/miniforge3/envs/decision_transformer_interpretability/lib/python3.9/site-packages/traitlets/traitlets.py:1016: DeprecationWarning: Widget.widgets is deprecated.\n",
      "  value = getattr(cls, name)\n",
      "/Users/josephbloom/miniforge3/envs/decision_transformer_interpretability/lib/python3.9/site-packages/traitlets/traitlets.py:1016: DeprecationWarning: Widget._active_widgets is deprecated.\n",
      "  value = getattr(cls, name)\n",
      "/Users/josephbloom/miniforge3/envs/decision_transformer_interpretability/lib/python3.9/site-packages/traitlets/traitlets.py:1016: DeprecationWarning: Widget._widget_types is deprecated.\n",
      "  value = getattr(cls, name)\n",
      "/Users/josephbloom/miniforge3/envs/decision_transformer_interpretability/lib/python3.9/site-packages/traitlets/traitlets.py:1016: DeprecationWarning: Widget.widget_types is deprecated.\n",
      "  value = getattr(cls, name)\n",
      "/Users/josephbloom/miniforge3/envs/decision_transformer_interpretability/lib/python3.9/site-packages/traitlets/traitlets.py:1016: DeprecationWarning: Widget.widgets is deprecated.\n",
      "  value = getattr(cls, name)\n",
      "/Users/josephbloom/miniforge3/envs/decision_transformer_interpretability/lib/python3.9/site-packages/traitlets/traitlets.py:1016: DeprecationWarning: Widget._active_widgets is deprecated.\n",
      "  value = getattr(cls, name)\n",
      "/Users/josephbloom/miniforge3/envs/decision_transformer_interpretability/lib/python3.9/site-packages/traitlets/traitlets.py:1016: DeprecationWarning: Widget._widget_types is deprecated.\n",
      "  value = getattr(cls, name)\n",
      "/Users/josephbloom/miniforge3/envs/decision_transformer_interpretability/lib/python3.9/site-packages/traitlets/traitlets.py:1016: DeprecationWarning: Widget.widget_types is deprecated.\n",
      "  value = getattr(cls, name)\n",
      "/Users/josephbloom/miniforge3/envs/decision_transformer_interpretability/lib/python3.9/site-packages/traitlets/traitlets.py:1016: DeprecationWarning: Widget.widgets is deprecated.\n",
      "  value = getattr(cls, name)\n",
      "/Users/josephbloom/miniforge3/envs/decision_transformer_interpretability/lib/python3.9/site-packages/traitlets/traitlets.py:1016: DeprecationWarning: Widget._active_widgets is deprecated.\n",
      "  value = getattr(cls, name)\n",
      "/Users/josephbloom/miniforge3/envs/decision_transformer_interpretability/lib/python3.9/site-packages/traitlets/traitlets.py:1016: DeprecationWarning: Widget._widget_types is deprecated.\n",
      "  value = getattr(cls, name)\n",
      "/Users/josephbloom/miniforge3/envs/decision_transformer_interpretability/lib/python3.9/site-packages/traitlets/traitlets.py:1016: DeprecationWarning: Widget.widget_types is deprecated.\n",
      "  value = getattr(cls, name)\n",
      "/Users/josephbloom/miniforge3/envs/decision_transformer_interpretability/lib/python3.9/site-packages/traitlets/traitlets.py:1016: DeprecationWarning: Widget.widgets is deprecated.\n",
      "  value = getattr(cls, name)\n",
      "/Users/josephbloom/miniforge3/envs/decision_transformer_interpretability/lib/python3.9/site-packages/traitlets/traitlets.py:1016: DeprecationWarning: Widget._active_widgets is deprecated.\n",
      "  value = getattr(cls, name)\n",
      "/Users/josephbloom/miniforge3/envs/decision_transformer_interpretability/lib/python3.9/site-packages/traitlets/traitlets.py:1016: DeprecationWarning: Widget._widget_types is deprecated.\n",
      "  value = getattr(cls, name)\n",
      "/Users/josephbloom/miniforge3/envs/decision_transformer_interpretability/lib/python3.9/site-packages/traitlets/traitlets.py:1016: DeprecationWarning: Widget.widget_types is deprecated.\n",
      "  value = getattr(cls, name)\n",
      "/Users/josephbloom/miniforge3/envs/decision_transformer_interpretability/lib/python3.9/site-packages/traitlets/traitlets.py:1016: DeprecationWarning: Widget.widgets is deprecated.\n",
      "  value = getattr(cls, name)\n",
      "/Users/josephbloom/miniforge3/envs/decision_transformer_interpretability/lib/python3.9/site-packages/traitlets/traitlets.py:1016: DeprecationWarning: Widget._active_widgets is deprecated.\n",
      "  value = getattr(cls, name)\n",
      "/Users/josephbloom/miniforge3/envs/decision_transformer_interpretability/lib/python3.9/site-packages/traitlets/traitlets.py:1016: DeprecationWarning: Widget._widget_types is deprecated.\n",
      "  value = getattr(cls, name)\n",
      "/Users/josephbloom/miniforge3/envs/decision_transformer_interpretability/lib/python3.9/site-packages/traitlets/traitlets.py:1016: DeprecationWarning: Widget.widget_types is deprecated.\n",
      "  value = getattr(cls, name)\n",
      "/Users/josephbloom/miniforge3/envs/decision_transformer_interpretability/lib/python3.9/site-packages/traitlets/traitlets.py:1016: DeprecationWarning: Widget.widgets is deprecated.\n",
      "  value = getattr(cls, name)\n",
      "/Users/josephbloom/miniforge3/envs/decision_transformer_interpretability/lib/python3.9/site-packages/traitlets/traitlets.py:1016: DeprecationWarning: Widget._active_widgets is deprecated.\n",
      "  value = getattr(cls, name)\n",
      "/Users/josephbloom/miniforge3/envs/decision_transformer_interpretability/lib/python3.9/site-packages/traitlets/traitlets.py:1016: DeprecationWarning: Widget._widget_types is deprecated.\n",
      "  value = getattr(cls, name)\n",
      "/Users/josephbloom/miniforge3/envs/decision_transformer_interpretability/lib/python3.9/site-packages/traitlets/traitlets.py:1016: DeprecationWarning: Widget.widget_types is deprecated.\n",
      "  value = getattr(cls, name)\n",
      "/Users/josephbloom/miniforge3/envs/decision_transformer_interpretability/lib/python3.9/site-packages/traitlets/traitlets.py:1016: DeprecationWarning: Widget.widgets is deprecated.\n",
      "  value = getattr(cls, name)\n",
      "/Users/josephbloom/miniforge3/envs/decision_transformer_interpretability/lib/python3.9/site-packages/traitlets/traitlets.py:1016: DeprecationWarning: Widget._active_widgets is deprecated.\n",
      "  value = getattr(cls, name)\n",
      "/Users/josephbloom/miniforge3/envs/decision_transformer_interpretability/lib/python3.9/site-packages/traitlets/traitlets.py:1016: DeprecationWarning: Widget._widget_types is deprecated.\n",
      "  value = getattr(cls, name)\n",
      "/Users/josephbloom/miniforge3/envs/decision_transformer_interpretability/lib/python3.9/site-packages/traitlets/traitlets.py:1016: DeprecationWarning: Widget.widget_types is deprecated.\n",
      "  value = getattr(cls, name)\n",
      "/Users/josephbloom/miniforge3/envs/decision_transformer_interpretability/lib/python3.9/site-packages/traitlets/traitlets.py:1016: DeprecationWarning: Widget.widgets is deprecated.\n",
      "  value = getattr(cls, name)\n",
      "/Users/josephbloom/miniforge3/envs/decision_transformer_interpretability/lib/python3.9/site-packages/traitlets/traitlets.py:1016: DeprecationWarning: Widget._active_widgets is deprecated.\n",
      "  value = getattr(cls, name)\n",
      "/Users/josephbloom/miniforge3/envs/decision_transformer_interpretability/lib/python3.9/site-packages/traitlets/traitlets.py:1016: DeprecationWarning: Widget._widget_types is deprecated.\n",
      "  value = getattr(cls, name)\n",
      "/Users/josephbloom/miniforge3/envs/decision_transformer_interpretability/lib/python3.9/site-packages/traitlets/traitlets.py:1016: DeprecationWarning: Widget.widget_types is deprecated.\n",
      "  value = getattr(cls, name)\n",
      "/Users/josephbloom/miniforge3/envs/decision_transformer_interpretability/lib/python3.9/site-packages/traitlets/traitlets.py:1016: DeprecationWarning: Widget.widgets is deprecated.\n",
      "  value = getattr(cls, name)\n",
      "/Users/josephbloom/miniforge3/envs/decision_transformer_interpretability/lib/python3.9/site-packages/traitlets/traitlets.py:1016: DeprecationWarning: Widget._active_widgets is deprecated.\n",
      "  value = getattr(cls, name)\n",
      "/Users/josephbloom/miniforge3/envs/decision_transformer_interpretability/lib/python3.9/site-packages/traitlets/traitlets.py:1016: DeprecationWarning: Widget._widget_types is deprecated.\n",
      "  value = getattr(cls, name)\n",
      "/Users/josephbloom/miniforge3/envs/decision_transformer_interpretability/lib/python3.9/site-packages/traitlets/traitlets.py:1016: DeprecationWarning: Widget.widget_types is deprecated.\n",
      "  value = getattr(cls, name)\n",
      "/Users/josephbloom/miniforge3/envs/decision_transformer_interpretability/lib/python3.9/site-packages/traitlets/traitlets.py:1016: DeprecationWarning: Widget.widgets is deprecated.\n",
      "  value = getattr(cls, name)\n",
      "/Users/josephbloom/miniforge3/envs/decision_transformer_interpretability/lib/python3.9/site-packages/traitlets/traitlets.py:1016: DeprecationWarning: Widget._active_widgets is deprecated.\n",
      "  value = getattr(cls, name)\n",
      "/Users/josephbloom/miniforge3/envs/decision_transformer_interpretability/lib/python3.9/site-packages/traitlets/traitlets.py:1016: DeprecationWarning: Widget._widget_types is deprecated.\n",
      "  value = getattr(cls, name)\n",
      "/Users/josephbloom/miniforge3/envs/decision_transformer_interpretability/lib/python3.9/site-packages/traitlets/traitlets.py:1016: DeprecationWarning: Widget.widget_types is deprecated.\n",
      "  value = getattr(cls, name)\n",
      "/Users/josephbloom/miniforge3/envs/decision_transformer_interpretability/lib/python3.9/site-packages/traitlets/traitlets.py:1016: DeprecationWarning: Widget.widgets is deprecated.\n",
      "  value = getattr(cls, name)\n",
      "/Users/josephbloom/miniforge3/envs/decision_transformer_interpretability/lib/python3.9/site-packages/traitlets/traitlets.py:1016: DeprecationWarning: Widget._active_widgets is deprecated.\n",
      "  value = getattr(cls, name)\n",
      "/Users/josephbloom/miniforge3/envs/decision_transformer_interpretability/lib/python3.9/site-packages/traitlets/traitlets.py:1016: DeprecationWarning: Widget._widget_types is deprecated.\n",
      "  value = getattr(cls, name)\n",
      "/Users/josephbloom/miniforge3/envs/decision_transformer_interpretability/lib/python3.9/site-packages/traitlets/traitlets.py:1016: DeprecationWarning: Widget.widget_types is deprecated.\n",
      "  value = getattr(cls, name)\n",
      "/Users/josephbloom/miniforge3/envs/decision_transformer_interpretability/lib/python3.9/site-packages/traitlets/traitlets.py:1016: DeprecationWarning: Widget.widgets is deprecated.\n",
      "  value = getattr(cls, name)\n",
      "/Users/josephbloom/miniforge3/envs/decision_transformer_interpretability/lib/python3.9/site-packages/traitlets/traitlets.py:1016: DeprecationWarning: Widget._active_widgets is deprecated.\n",
      "  value = getattr(cls, name)\n",
      "/Users/josephbloom/miniforge3/envs/decision_transformer_interpretability/lib/python3.9/site-packages/traitlets/traitlets.py:1016: DeprecationWarning: Widget._widget_types is deprecated.\n",
      "  value = getattr(cls, name)\n",
      "/Users/josephbloom/miniforge3/envs/decision_transformer_interpretability/lib/python3.9/site-packages/traitlets/traitlets.py:1016: DeprecationWarning: Widget.widget_types is deprecated.\n",
      "  value = getattr(cls, name)\n",
      "/Users/josephbloom/miniforge3/envs/decision_transformer_interpretability/lib/python3.9/site-packages/traitlets/traitlets.py:1016: DeprecationWarning: Widget.widgets is deprecated.\n",
      "  value = getattr(cls, name)\n",
      "/Users/josephbloom/miniforge3/envs/decision_transformer_interpretability/lib/python3.9/site-packages/traitlets/traitlets.py:1016: DeprecationWarning: Widget._active_widgets is deprecated.\n",
      "  value = getattr(cls, name)\n",
      "/Users/josephbloom/miniforge3/envs/decision_transformer_interpretability/lib/python3.9/site-packages/traitlets/traitlets.py:1016: DeprecationWarning: Widget._widget_types is deprecated.\n",
      "  value = getattr(cls, name)\n",
      "/Users/josephbloom/miniforge3/envs/decision_transformer_interpretability/lib/python3.9/site-packages/traitlets/traitlets.py:1016: DeprecationWarning: Widget.widget_types is deprecated.\n",
      "  value = getattr(cls, name)\n",
      "/Users/josephbloom/miniforge3/envs/decision_transformer_interpretability/lib/python3.9/site-packages/traitlets/traitlets.py:1016: DeprecationWarning: Widget.widgets is deprecated.\n",
      "  value = getattr(cls, name)\n",
      "/Users/josephbloom/miniforge3/envs/decision_transformer_interpretability/lib/python3.9/site-packages/traitlets/traitlets.py:1016: DeprecationWarning: Widget._active_widgets is deprecated.\n",
      "  value = getattr(cls, name)\n",
      "/Users/josephbloom/miniforge3/envs/decision_transformer_interpretability/lib/python3.9/site-packages/traitlets/traitlets.py:1016: DeprecationWarning: Widget._widget_types is deprecated.\n",
      "  value = getattr(cls, name)\n",
      "/Users/josephbloom/miniforge3/envs/decision_transformer_interpretability/lib/python3.9/site-packages/traitlets/traitlets.py:1016: DeprecationWarning: Widget.widget_types is deprecated.\n",
      "  value = getattr(cls, name)\n",
      "/Users/josephbloom/miniforge3/envs/decision_transformer_interpretability/lib/python3.9/site-packages/traitlets/traitlets.py:1016: DeprecationWarning: Widget.widgets is deprecated.\n",
      "  value = getattr(cls, name)\n",
      "/Users/josephbloom/miniforge3/envs/decision_transformer_interpretability/lib/python3.9/site-packages/traitlets/traitlets.py:1016: DeprecationWarning: Widget._active_widgets is deprecated.\n",
      "  value = getattr(cls, name)\n",
      "/Users/josephbloom/miniforge3/envs/decision_transformer_interpretability/lib/python3.9/site-packages/traitlets/traitlets.py:1016: DeprecationWarning: Widget._widget_types is deprecated.\n",
      "  value = getattr(cls, name)\n",
      "/Users/josephbloom/miniforge3/envs/decision_transformer_interpretability/lib/python3.9/site-packages/traitlets/traitlets.py:1016: DeprecationWarning: Widget.widget_types is deprecated.\n",
      "  value = getattr(cls, name)\n",
      "/Users/josephbloom/miniforge3/envs/decision_transformer_interpretability/lib/python3.9/site-packages/traitlets/traitlets.py:1016: DeprecationWarning: Widget.widgets is deprecated.\n",
      "  value = getattr(cls, name)\n",
      "/Users/josephbloom/miniforge3/envs/decision_transformer_interpretability/lib/python3.9/site-packages/traitlets/traitlets.py:1016: DeprecationWarning: Widget._active_widgets is deprecated.\n",
      "  value = getattr(cls, name)\n",
      "/Users/josephbloom/miniforge3/envs/decision_transformer_interpretability/lib/python3.9/site-packages/traitlets/traitlets.py:1016: DeprecationWarning: Widget._widget_types is deprecated.\n",
      "  value = getattr(cls, name)\n",
      "/Users/josephbloom/miniforge3/envs/decision_transformer_interpretability/lib/python3.9/site-packages/traitlets/traitlets.py:1016: DeprecationWarning: Widget.widget_types is deprecated.\n",
      "  value = getattr(cls, name)\n",
      "/Users/josephbloom/miniforge3/envs/decision_transformer_interpretability/lib/python3.9/site-packages/traitlets/traitlets.py:1016: DeprecationWarning: Widget.widgets is deprecated.\n",
      "  value = getattr(cls, name)\n",
      "/Users/josephbloom/miniforge3/envs/decision_transformer_interpretability/lib/python3.9/site-packages/traitlets/traitlets.py:1016: DeprecationWarning: Widget._active_widgets is deprecated.\n",
      "  value = getattr(cls, name)\n",
      "/Users/josephbloom/miniforge3/envs/decision_transformer_interpretability/lib/python3.9/site-packages/traitlets/traitlets.py:1016: DeprecationWarning: Widget._widget_types is deprecated.\n",
      "  value = getattr(cls, name)\n",
      "/Users/josephbloom/miniforge3/envs/decision_transformer_interpretability/lib/python3.9/site-packages/traitlets/traitlets.py:1016: DeprecationWarning: Widget.widget_types is deprecated.\n",
      "  value = getattr(cls, name)\n",
      "/Users/josephbloom/miniforge3/envs/decision_transformer_interpretability/lib/python3.9/site-packages/traitlets/traitlets.py:1016: DeprecationWarning: Widget.widgets is deprecated.\n",
      "  value = getattr(cls, name)\n"
     ]
    },
    {
     "data": {
      "application/vnd.jupyter.widget-view+json": {
       "model_id": "978776abde94465292ab2efd0171cbb7",
       "version_major": 2,
       "version_minor": 0
      },
      "text/plain": [
       "Output(layout=Layout(padding='15px'))"
      ]
     },
     "metadata": {},
     "output_type": "display_data"
    },
    {
     "name": "stderr",
     "output_type": "stream",
     "text": [
      "100%|██████████| 78/78 [00:08<00:00,  8.83it/s]"
     ]
    },
    {
     "name": "stdout",
     "output_type": "stream",
     "text": [
      "Trajectory written to trajectories/CartPole-v1.pkl\n"
     ]
    },
    {
     "name": "stderr",
     "output_type": "stream",
     "text": [
      "\n"
     ]
    }
   ],
   "source": [
    "from src.ppo.train import train_ppo\n",
    "from src.ppo.utils import PPOArgs\n",
    "from src.utils import TrajectoryWriter\n",
    "import warnings \n",
    "with warnings.catch_warnings():\n",
    "    warnings.filterwarnings(\"ignore\", category= DeprecationWarning)\n",
    "\n",
    "    args = PPOArgs(\n",
    "        exp_name = 'CartPole-v1',\n",
    "        env_id = 'CartPole-v1',\n",
    "        num_envs = 10,\n",
    "        track = False,\n",
    "        wandb_project_name=\"PPO-MiniGrid-test with cartpole\",\n",
    "        capture_video=True,\n",
    "        cuda = False,\n",
    "        total_timesteps=100000,\n",
    "        max_steps=None)\n",
    "\n",
    "    trajectory_writer = TrajectoryWriter(args.trajectory_path, args)\n",
    "\n",
    "    ppo = train_ppo(args, trajectory_writer)"
   ]
  },
  {
   "attachments": {},
   "cell_type": "markdown",
   "metadata": {},
   "source": [
    "## Minigrid Env"
   ]
  },
  {
   "cell_type": "code",
   "execution_count": 6,
   "metadata": {},
   "outputs": [
    {
     "data": {
      "application/vnd.jupyter.widget-view+json": {
       "model_id": "46c174c1f9164861883050e5f1ce2bb6",
       "version_major": 2,
       "version_minor": 0
      },
      "text/plain": [
       "A Jupyter Widget"
      ]
     },
     "metadata": {},
     "output_type": "display_data"
    },
    {
     "name": "stderr",
     "output_type": "stream",
     "text": [
      "100%|██████████| 97/97 [00:16<00:00,  5.95it/s]"
     ]
    },
    {
     "name": "stdout",
     "output_type": "stream",
     "text": [
      "Trajectory written to trajectories/MiniGrid-DoorKey-8x8-v0.pkl\n"
     ]
    },
    {
     "name": "stderr",
     "output_type": "stream",
     "text": [
      "\n"
     ]
    }
   ],
   "source": [
    "from src.ppo.train import train_ppo\n",
    "from src.ppo.utils import PPOArgs\n",
    "from src.utils import TrajectoryWriter\n",
    "import warnings \n",
    "\n",
    "\n",
    "with warnings.catch_warnings():\n",
    "    warnings.filterwarnings(\"ignore\", category= DeprecationWarning)\n",
    "\n",
    "    args = PPOArgs(\n",
    "        exp_name = 'test_trajectory',\n",
    "        env_id = 'MiniGrid-DoorKey-8x8-v0',\n",
    "        num_envs = 4,\n",
    "        num_steps=128,\n",
    "        track = False,\n",
    "        wandb_project_name=\"PPO-MiniGrid\",\n",
    "        capture_video=True,\n",
    "        cuda = False,\n",
    "        total_timesteps=50000,\n",
    "        max_steps=1000,\n",
    "        fully_observed=False)\n",
    "\n",
    "    trajectory_writer = TrajectoryWriter(args.trajectory_path, args)\n",
    "\n",
    "    ppo = train_ppo(args, trajectory_writer=trajectory_writer)"
   ]
  },
  {
   "attachments": {},
   "cell_type": "markdown",
   "metadata": {},
   "source": [
    "# Turning the stored trajectories into a dataset"
   ]
  },
  {
   "cell_type": "markdown",
   "metadata": {},
   "source": []
  },
  {
   "cell_type": "code",
   "execution_count": 1,
   "metadata": {},
   "outputs": [
    {
     "name": "stdout",
     "output_type": "stream",
     "text": [
      "{'args': {'exp_name': 'MiniGrid-DoorKey-8x8-v0', 'seed': 1, 'cuda': False, 'track': True, 'wandb_project_name': 'PPO-MiniGrid', 'wandb_entity': None, 'capture_video': True, 'env_id': 'MiniGrid-DoorKey-8x8-v0', 'total_timesteps': 1000000, 'learning_rate': 0.00025, 'num_envs': 4, 'num_steps': 128, 'gamma': 0.99, 'gae_lambda': 0.95, 'num_minibatches': 4, 'update_epochs': 4, 'clip_coef': 0.2, 'ent_coef': 0.01, 'vf_coef': 0.5, 'max_grad_norm': 0.5, 'max_steps': 1000, 'trajectory_path': 'trajectories/MiniGrid-DoorKey-8x8-v0.pkl', 'fully_observed': False}, 'time': 1672685622.659515}\n"
     ]
    }
   ],
   "source": [
    "from src.utils import TrajectoryReader\n",
    "from src.offline_dataset import TrajectoryLoader\n",
    "import numpy as np\n",
    "import torch as t \n",
    "from einops import rearrange\n",
    "import random\n",
    "\n",
    "\n",
    "path = \"/Users/josephbloom/GithubRepositories/DecisionTransformerInterpretability/trajectories/MiniGrid-DoorKey-8x8-v0.pkl\"\n",
    "trajectory_data_set = TrajectoryLoader(path, pct_traj=0.1, device=\"cpu\")"
   ]
  },
  {
   "cell_type": "code",
   "execution_count": 2,
   "metadata": {},
   "outputs": [],
   "source": [
    "s, a, r, d, rtg, timesteps, mask = trajectory_data_set.get_batch(10)"
   ]
  },
  {
   "attachments": {},
   "cell_type": "markdown",
   "metadata": {},
   "source": [
    "## Visualizing a Trajectory"
   ]
  },
  {
   "cell_type": "code",
   "execution_count": 8,
   "metadata": {},
   "outputs": [
    {
     "name": "stdout",
     "output_type": "stream",
     "text": [
      "MiniGrid-DoorKey-8x8-v0\n"
     ]
    },
    {
     "name": "stderr",
     "output_type": "stream",
     "text": [
      "/Users/josephbloom/miniforge3/envs/decision_transformer_interpretability/lib/python3.9/site-packages/plotly/io/_renderers.py:395: DeprecationWarning:\n",
      "\n",
      "distutils Version classes are deprecated. Use packaging.version instead.\n",
      "\n",
      "/Users/josephbloom/miniforge3/envs/decision_transformer_interpretability/lib/python3.9/site-packages/plotly/io/_renderers.py:395: DeprecationWarning:\n",
      "\n",
      "distutils Version classes are deprecated. Use packaging.version instead.\n",
      "\n"
     ]
    },
    {
     "data": {
      "application/vnd.plotly.v1+json": {
       "config": {
        "plotlyServerURL": "https://plot.ly"
       },
       "data": [
        {
         "hovertemplate": "x: %{x}<br>y: %{y}<br>color: %{z}<extra></extra>",
         "name": "0",
         "source": "data:image/png;base64,iVBORw0KGgoAAAANSUhEUgAAAOAAAADgCAIAAACVT/22AAAEpUlEQVR4Xu3cQVIaWxiG4Z9bLgOyhUyv7oM7zMgsQLIOYAFmBboPvNNsQdgHGRAFuigQPa2fqeepDPAnRXXZb52mUc/g+vq6IFbfgXr947z+cf90B5BEoEQTKNEESrS9QO+q/t39Gj7aXqDjqoeqRdXN7hQ+zoFL/GXVrGpdNbWg8tEOBPps8rSgjrvPwDs5FujGZdVd1WPVtGrYfRL6dTrQjVHVpGrpRor39dJAn21upB6rbiyo9O/sQDdGVbOqpRspevbKQJ8930j5ZIo+vDXQjc0nU26kaK5NoNCTi+7gVR6q7qvm3TG81VsDnVXdV/3fHUMbrwx0WTWvuq9adZ+Bls4O9L5qZsnkvbw00OXTu0xLJu/pdKAPT1dzeH/HAnUDxIc7EKjPjMixF6gbINLsBfrf7hcQwI86iSZQogmUaAIlmkCJNuh7+zx4i4uq+vnzZ3fczvX1dd+v3x2xr+/vf6+v7xJPNIESTaBEEyjRBEo0gRJNoEQTKNEESjSBEk2gRBMo0QRKNIESTaBEEyjRBEo0gRJNoEQTKNEESjSBEk2gRBMo0QRKNIESTaBEEyjRBEo0gRLN/qBEsz/oaY7/iL7Pr0s80QRKNIESTaBEEyjRBEo0gRJNoEQTKNEESjSBEk2gRBMo0QRKNIESTaBEEyjRBEo0gRJNoEQTKNEESjSBEk2gRBMo0QRKNIESTaBEEyjRBEo0+4MSzf6gpzn+I/o+vy7xRBNoM8NhTae1Xv/59/hY02kNh93/xlkE2sZ4XItFTSbbyWhUk0ktFhp9E4E2sFk7R6PuvKpGo1osukNeTqAN3NwcrnNjNKqbm+6QFxJoA7tX9tmsBoMaDOr+fjscj7ePOYtAG/vx48+D3WovL7ePOYtAiSbQxu7uqqqGw5rNtsOHh+1jziLQBnZbHI9rva7lcu995+77Uc4i0Abm81ouu8Nny2XN590hLyTQBlaruro63OhyWVdX3SEvJ9A2No3uXuurajKpL19qtdobchaBNrNabT9j2nBlfzuBEk2gRBMo0S66A863XncntGIFJZoVtIHBYPvYatqWFZRoAiWaQIkmUKK5SWrAjVF/rKBEs4I2sPsxE21ZQYkmUKIJlGj2B/1gt7c97l1YVd+/f+7za3/Q03o9/tvb7qS5Xo+/7/PrLj5C529FmphOu5PPyHtQogmUaAIlmkCJJlCiCZRoAiWaQIkmUKIJlGgCJZpAiSZQovltpk/m69f69q07rH5+HyqBFZRoVtBP5tevv3axPMgKSjSBEk2gRBMo0QRKNIESTaBEEyjRBEo0gRJNoETzs/gIf8c+Sn2wghLN/qBEsz/oaY7/iL7Pr0s80QRKNIESTaBEEyjRBEo0gRJNoEQTKNEESjSBEk2gRBMo0QRKNIESTaBEEyjRBEo0gRJNoEQTKNEESjSBEk2gRBMo0QRKNIESTaBEEyjRBEo0+4MSzf6gpzn+I/o+vy7xRBMo0QRKNIESTaBEEyjRBEo0gRJNoEQTKNEESjSBEk2gRBMo0QRKNIESTaBEEyjRBEo0gRJNoEQTKNEESjSBEk2gRBMo0QRKNIESTaBEEyjRfgMQ6Nu/BeXzzQAAAABJRU5ErkJggg==",
         "type": "image",
         "xaxis": "x",
         "yaxis": "y"
        }
       ],
       "frames": [
        {
         "data": [
          {
           "name": "0",
           "source": "data:image/png;base64,iVBORw0KGgoAAAANSUhEUgAAAOAAAADgCAIAAACVT/22AAAEpUlEQVR4Xu3cQVIaWxiG4Z9bLgOyhUyv7oM7zMgsQLIOYAFmBboPvNNsQdgHGRAFuigQPa2fqeepDPAnRXXZb52mUc/g+vq6IFbfgXr947z+cf90B5BEoEQTKNEESrS9QO+q/t39Gj7aXqDjqoeqRdXN7hQ+zoFL/GXVrGpdNbWg8tEOBPps8rSgjrvPwDs5FujGZdVd1WPVtGrYfRL6dTrQjVHVpGrpRor39dJAn21upB6rbiyo9O/sQDdGVbOqpRspevbKQJ8930j5ZIo+vDXQjc0nU26kaK5NoNCTi+7gVR6q7qvm3TG81VsDnVXdV/3fHUMbrwx0WTWvuq9adZ+Bls4O9L5qZsnkvbw00OXTu0xLJu/pdKAPT1dzeH/HAnUDxIc7EKjPjMixF6gbINLsBfrf7hcQwI86iSZQogmUaAIlmkCJNuh7+zx4i4uq+vnzZ3fczvX1dd+v3x2xr+/vf6+v7xJPNIESTaBEEyjRBEo0gRJNoEQTKNEESjSBEk2gRBMo0QRKNIESTaBEEyjRBEo0gRJNoEQTKNEESjSBEk2gRBMo0QRKNIESTaBEEyjRBEo0gRLN/qBEsz/oaY7/iL7Pr0s80QRKNIESTaBEEyjRBEo0gRJNoEQTKNEESjSBEk2gRBMo0QRKNIESTaBEEyjRBEo0gRJNoEQTKNEESjSBEk2gRBMo0QRKNIESTaBEEyjRBEo0+4MSzf6gpzn+I/o+vy7xRBNoM8NhTae1Xv/59/hY02kNh93/xlkE2sZ4XItFTSbbyWhUk0ktFhp9E4E2sFk7R6PuvKpGo1osukNeTqAN3NwcrnNjNKqbm+6QFxJoA7tX9tmsBoMaDOr+fjscj7ePOYtAG/vx48+D3WovL7ePOYtAiSbQxu7uqqqGw5rNtsOHh+1jziLQBnZbHI9rva7lcu995+77Uc4i0Abm81ouu8Nny2XN590hLyTQBlaruro63OhyWVdX3SEvJ9A2No3uXuurajKpL19qtdobchaBNrNabT9j2nBlfzuBEk2gRBMo0S66A863XncntGIFJZoVtIHBYPvYatqWFZRoAiWaQIkmUKK5SWrAjVF/rKBEs4I2sPsxE21ZQYkmUKIJlGj2B/1gt7c97l1YVd+/f+7za3/Q03o9/tvb7qS5Xo+/7/PrLj5C529FmphOu5PPyHtQogmUaAIlmkCJJlCiCZRoAiWaQIkmUKIJlGgCJZpAiSZQovltpk/m69f69q07rH5+HyqBFZRoVtBP5tevv3axPMgKSjSBEk2gRBMo0QRKNIESTaBEEyjRBEo0gRJNoETzs/gIf8c+Sn2wghLN/qBEsz/oaY7/iL7Pr0s80QRKNIESTaBEEyjRBEo0gRJNoEQTKNEESjSBEk2gRBMo0QRKNIESTaBEEyjRBEo0gRJNoEQTKNEESjSBEk2gRBMo0QRKNIESTaBEEyjRBEo0+4MSzf6gpzn+I/o+vy7xRBMo0QRKNIESTaBEEyjRBEo0gRJNoEQTKNEESjSBEk2gRBMo0QRKNIESTaBEEyjRBEo0gRJNoEQTKNEESjSBEk2gRBMo0QRKNIESTaBEEyjRfgMQ6Nu/BeXzzQAAAABJRU5ErkJggg==",
           "type": "image"
          }
         ],
         "layout": {
          "margin": {
           "t": 60
          }
         },
         "name": "0"
        },
        {
         "data": [
          {
           "name": "1",
           "source": "data:image/png;base64,iVBORw0KGgoAAAANSUhEUgAAAOAAAADgCAIAAACVT/22AAAEo0lEQVR4Xu3cQVIaWxiG4Z9bLgOyhUyv7oM7zMgsALIOcAFmBbIPvNNsQdgHGRAFuigUPa2fqeepDPAn1UXJW6fpVs/g+vq6IFbfgTr+aY5/2j/dASQRKNEESjSBEu0g0Luqf/e/ho92EOi46r5qWTXZn8LHOXKKv6yaV22qZhZUPtqRQJ9MHxfUcfcZeCenAt26rLqreqiaVQ27T0K/ng90a1Q1rVq5kOJ9vTTQJ9sLqYeqiQWV/p0d6Naoal61ciFFz14Z6JOnCyl3pujDWwPd2t6ZciFFc20ChZ5cdAevcl+1qLrpjuGt3hrovGpR9X93DG28MtBV1U3VomrdfQZaOjvQRdXcksl7eWmgq8dPmZZM3tPzgd4/ns3h/Z0K1AUQH+5IoO4ZkeMgUBdApDkI9L/9LyCAH3USTaBEEyjRBEo0gRJt0Pf2efAmfQfq+Kc5/mlO8UQTKNEESjSBEk2gRBMo0QRKNIESTaBEEyjRBEo0gRJNoEQTKNEESjSBEk2gRBMo0QRKNIESTaBEEyjRBEo0gRJNoEQTKNEESjSBEk2gRBMo0ewPSrSLqvr582d33M719XXfx++OONT397/X4zvFE02gRBMo0QRKNIESTaBEEyjRBEo0gRJNoEQTKNEESjSBEk2gRBMo0QRKNIESTaBEEyjRBEo0gRJNoEQTKNEESjSBEk2gRBMo0QRKNIESTaBEsz8o0ewP+jyv/4S+31+neKIJlGgCJZpAiSZQogmUaAIlmkCJJlCiCZRoAiWaQIkmUKIJlGgCJZpAiSZQogmUaAIlmkCJJlCiCZRoAiWaQIkmUKIJlGgCJZpAiSZQogmUaPYHJZr9QZ/n9Z/Q9/vrFE80gTYzHNZsVpvNn38PDzWb1XDY/W+cRaBtjMe1XNZ0upuMRjWd1nKp0TcRaAPbtXM06s6rajSq5bI75OUE2sBkcrzOrdGoJpPukBcSaAP7Z/b5vAaDGgxqsdgNx+PdY84i0MZ+/PjzYL/ay8vdY84iUKIJtLG7u6qq4bDm893w/n73mLMItIH9Fsfj2mxqtTr43Ln/eZSzCLSBm5tarbrDJ6tV3dx0h7yQQBtYr+vq6nijq1VdXXWHvJxA29g2un+ur6rptL58qfX6YMhZBNrMer27x7TlzP52AiWaQIkmUKJddAecb7PpTmjFCko0K2gDg8HusdW0LSso0QRKNIESTaBEc5HUgAuj/lhBiWYFbWD/NhNtWUGJJlCiCZRo9gf9YLe3Pe5dWFXfv3/u99f+oM/r9fXf3nYnzfX6+vt+f13FR+j8rUgTs1l38hn5DEo0gRJNoEQTKNEESjSBEk2gRBMo0QRKNIESTaBEEyjRBEo0v830yXz9Wt++dYfVz+9DJbCCEs0K+sn8+vXXLpZHWUGJJlCiCZRoAiWaQIkmUKIJlGgCJZpAiSZQogmUaH4WH+Hv2EepD1ZQotkflGj2B32e139C3++vUzzRBEo0gRJNoEQTKNEESjSBEk2gRBMo0QRKNIESTaBEEyjRBEo0gRJNoEQTKNEESjSBEk2gRBMo0QRKNIESTaBEEyjRBEo0gRJNoEQTKNEESrTfvCTWG7+v8h0AAAAASUVORK5CYII=",
           "type": "image"
          }
         ],
         "layout": {
          "margin": {
           "t": 60
          }
         },
         "name": "1"
        },
        {
         "data": [
          {
           "name": "2",
           "source": "data:image/png;base64,iVBORw0KGgoAAAANSUhEUgAAAOAAAADgCAIAAACVT/22AAAEoklEQVR4Xu3cQVIaWxiG4Z9bLgOyhUyv7oM7zMgsALIOcAFmBboPvNNsQdgHGRAFuigEPa2fqeepDPAn1UXJW6fpVs/g+vq6IFbfgTr+cY5/3D/dASQRKNEESjSBEm0v0Luqf3e/ho+2F+i46qFqUTXZncLHOXCKv6yaV62rZhZUPtqBQJ9NnxbUcfcZeCfHAt24rLqreqyaVQ27T0K/Xg50Y1Q1rVq6kOJ9nRros82F1GPVxIJK/84OdGNUNa9aupCiZ68M9NnzhZQ7U/ThrYFubO5MuZCiuTaBQk8uuoNXeai6r7rpjuGt3hrovOq+6v/uGNp4ZaDLqpuq+6pV9xlo6exA76vmlkzey6mBLp8+ZVoyeU8vB/rwdDaH93csUBdAfLgDgbpnRI69QF0AkWYv0P92v4AAftRJNIESTaBEEyjRBEq0Qd/b58Gb9B2o4x/n+Mc5xRNNoEQTKNEESjSBEk2gRBMo0QRKNIESTaBEEyjRBEo0gRJNoEQTKNEESjSBEk2gRBMo0QRKNIESTaBEEyjRBEo0gRJNoEQTKNEESjSBEk2gRLM/KNn6DtTxj3P845ziiSZQogmUaAIlmkCJJlCiCZRoAiWaQIkmUKIJlGgCJZpAiSZQogmUaAIlmkCJJlCiCZRoAiWaQIkmUKIJlGgCJZpAiSZQogmUaAIlmkCJJlCi2R+UaBdV9fPnz+64nevr676P3x2xr+/vf6/Hd4onmkCJJlCiCZRoAiWaQIkmUKIJlGgCJZpAiSZQogmUaAIlmkCJJlCiCZRoAiWaQIkmUKIJlGgCJZpAiSZQogmUaAIlmkCJJlCiCZRoAiWaQIlmf1Ci2R/0ZV7/EX2/v07xRBMo0QRKNIESTaBEEyjRBEo0gRJNoEQTKNEESjSBEk2gRBMo0QRKNIESTaBEEyjRBEo0gRJNoEQTKNEESjSBEk2gRBMo0QRKNIESTaBEEyjR7A9KNPuDvszrP6Lv99cpnmgCbWY4rNms1us//x4fazar4bD73ziLQNsYj2uxqOl0OxmNajqtxUKjbyLQBjZr52jUnVfVaFSLRXfI6QTawGRyuM6N0agmk+6QEwm0gd0z+3xeg0ENBnV/vx2Ox9vHnEWgjf348efBbrWXl9vHnEWgRBNoY3d3VVXDYc3n2+HDw/YxZxFoA7stjse1Xtdyufe5c/fzKGcRaAM3N7VcdofPlsu6uekOOZFAG1it6urqcKPLZV1ddYecTqBtbBrdPddX1XRaX77UarU35CwCbWa12t5j2nBmfzuBEk2gRBMo0S66A863XncntGIFJZoVtIHBYPvYatqWFZRoAiWaQIkmUKK5SGrAhVF/rKBEs4I2sHubibasoEQTKNEESjT7g36w29se9y6squ/fP/f7a3/Ql/X6+m9vu5Pmen39fb+/ruIjdP5WpInZrDv5jHwGJZpAiSZQogmUaAIlmkCJJlCiCZRoAiWaQIkmUKIJlGgCJZrfZvpkvn6tb9+6w+rn96ESWEGJZgX9ZH79+msXy4OsoEQTKNEESjSBEk2gRBMo0QRKNIESTaBEEyjRBEo0P4uP8Hfso9QHKyjRfgMHxNB3CVw9BgAAAABJRU5ErkJggg==",
           "type": "image"
          }
         ],
         "layout": {
          "margin": {
           "t": 60
          }
         },
         "name": "2"
        },
        {
         "data": [
          {
           "name": "3",
           "source": "data:image/png;base64,iVBORw0KGgoAAAANSUhEUgAAAOAAAADgCAIAAACVT/22AAAEn0lEQVR4Xu3cQVJaWRiG4Z8ulwHZQqat+6CHGZkFSNYBLEBXoPvAnmYLwj7oAa3ALQpFztXP1PNUBvibukWFt87hEuoMrq+vC2L1HajrH+f6x/3VHUASgRJNoEQTKNH2Ar2v+nv3Z/hse4GOqx6rFlU3u1P4PAe2+MuqWdW6ampB5bMdCPTF5HlBHXd/Ax/kWKAbl1X3VU9V06ph95fQr9cD3RhVTaqWbqT4WG8N9MXmRuqp6saCSv9ODnRjVDWrWrqRomfvDPTFy42UT6bow7mBbmw+mXIjRXNtAoWeXHQH7/JY9VA1747hXOcGOqt6qPq3O4Y23hnosmpe9VC16v4GWjo50IeqmSWTj/LWQJfP7zItmXyk1wN9fN7N4eMdC9QNEJ/uQKA+MyLHXqBugEizF+g/uz9AAP/VSTSBEk2gRBMo0QRKtEHfx+fBWfoO1PWPc/3jbPFEEyjRBEo0gRJNoEQTKNEESjSBEk2gRBMo0QRKNIESTaBEEyjRBEo0gRJNoEQTKNEESjSBEk2gRBMo0QRKNIESTaBEEyjRBEo0gRJNoEQTKNGcD0q2vgN1/eNc/zhbPNEESjSBEk2gRBMo0QRKNIESTaBEEyjRBEo0gRJNoEQTKNEESjSBEk2gRBMo0QRKNIESTaBEEyjRBEo0gRJNoEQTKNEESjSBEk2gRBMo0QRKNOeDEu2iqu7u7rrjdq6vr/u+fnfEvr7//Xu9vi2eaAIlmkCJJlCiCZRoAiWaQIkmUKIJlGgCJZpAiSZQogmUaAIlmkCJJlCiCZRoAiWaQIkmUKIJlGgCJZpAiSZQogmUaAIlmkCJJlCiCZRoAiWa80GJ5nzQ13n+R/T9+triiSZQogmUaAIlmkCJJlCiCZRoAiWaQIkmUKIJlGgCJZpAiSZQogmUaAIlmkCJJlCiCZRoAiWaQIkmUKIJlGgCJZpAiSZQogmUaAIlmkCJJlCiOR+UaM4HfZ3nf0Tfr68tnmgCJZpAiSZQogmUaAIlmkCJJlCiCZRoAiWaQIkmUKIJlGgCJZpAiSZQogmUaAIlmkCJJlCiCZRoAiWaQIkmUKIJlGgCJZpAiSZQogmUaAIlmvNBP9ntbY9nF1bVz59f+/V1Pujren3+t7fdSXO9Pv++X9+L7oDP8OtXd3K+6bQ7+Yq8B21mOKzptNbr//88PdV0WsNh969xEoG2MR7XYlGTyXYyGtVkUouFRs8i0AY2a+do1J1X1WhUi0V3yNsJtIGbm8N1boxGdXPTHfJGAm1gd2efzWowqMGgHh62w/F4+5iTCLSxl/vx3WovL7ePOYlAiSbQxu7vq6qGw5rNtsPHx+1jTiLQBnZbHI9rva7lcu995+77UU4i0Abm81ouu8MXy2XN590hbyTQBlaruro63OhyWVdX3SFvJ9A2No3u7vVVNZnUt2+1Wu0NOYlAm1mtut/5sLOfz7eZvpjv3+vHj+6w+vk+VAIrKNGsoF/M799/7GJ5kEAbWK+7E1qxxRPNCtrAYLB9bDVtywpKNIESTaBEEyjR3CQ14MaoP1ZQollBG9j9mIm2rKBEs4JG+DPOUeqDFZRo/wHgvtB3PmfUGgAAAABJRU5ErkJggg==",
           "type": "image"
          }
         ],
         "layout": {
          "margin": {
           "t": 60
          }
         },
         "name": "3"
        },
        {
         "data": [
          {
           "name": "4",
           "source": "data:image/png;base64,iVBORw0KGgoAAAANSUhEUgAAAOAAAADgCAIAAACVT/22AAAEhUlEQVR4Xu3cwVFiWRiG4Z+pDgM6hd6O5sEse2UHAB0HGEAbgeaBs+0UhDyYBaPgHesKzbn4zczzlAv8sc7CeuscLuId3dzcFMQaOlDr97N+v9+6A0giUKIJlGgCJdqrQO+rfj/8Hj7aq0CnVY9Vq6rZ4RQ+zhtH/FXVsmpbtbCh8tHeCPTF/HlDnXafgQvpC3Tnquq+6qlqUTXuPgnDej/QnUnVvGrtQorLOjbQF7sLqaeqmQ2V4Z0c6M6kalm1diHFwH4x0BcvF1LemWII5wa6s3tnyoUUzbUJFAbyqTv4JY9VD1W33TGc69xAl1UPVX92x9DGLwa6rrqteqjadJ+Blk4O9KFqacvkUo4NdP38KtOWySW9H+jj82kOl9cXqAsgPtwbgXrPiByvAnUBRJpXgf5x+A0E8KdOogmUaAIlmkCJJlCijYa+fR6cZehArd/P+v0c8UQTKNEESjSBEk2gRBMo0QRKNIESTaBEEyjRBEo0gRJNoEQTKNEESjSBEk2gRBMo0QRKNIESTaBEEyjRBEo0gRJNoEQTKNEESjSBEk2gRBMo0dwflGxDB2r9ftbv54gnmkCJJlCiCZRoAiWaQIkmUKIJlGgCJZpAiSZQogmUaAIlmkCJJlCiCZRoAiWaQIkmUKIJlGgCJZpAiSZQogmUaAIlmkCJJlCiCZRoAiWaQInm/qBkGzpQ6/ezfj9HPNEESjSBEk2gRBMo0QRKNIESTaBEEyjRBEo0gRJNoEQTKNEESjSBEk2gRBMo0QRKNIESTaBEEyjRBEo0gRJNoEQTKNEESjSBEk2gRBMo0QRKNPcHJdvQgVq/n/X7OeKJJlCiCZRoAiWaQIkmUKIJlGgCJZpAiSZQogmUaAIlmkCJJlCiCZRoAiWaQIkmUKIJlGgCJZpAiSZQogmUaAIlmkCJJlCiCZRoAiWaQIkmUKK5P+g7fvy4646a+vbN77+PHZRon7oD3vL9e3dyvsWiO+Gf7KBEEyjRBEo0gRJNoEQTKNEESjSBEk2gRBMo0QRKNIESTaBE82mmxr58qa9fu8Ma5vNQ/wd2UKLZQRv7+dNm2ZIdlGgCJZpAiSZQogmUaAIlmkCJJlCiCZRoAiWaQInmb/FHcR+lj2IHJZr7gxLtEkf83d2A94C9ubmxfo9/+/qOeKIJtJnxuBaL2m7//np6qsWixuPuj3ESgbYxndZqVfP5fjKZ1Hxeq5VGzyLQBnZ752TSnVfVZFKrVXfI8QTawGz2dp07k0nNZt0hRxJoA4cn+3JZo1GNRvXwsB9Op/vHnESgjb38S+dhtVdX+8ecRKBEE2hj9/dVVeNxLZf74ePj/jEnEWgDhy1Op7Xd1nr96nXn4etRTiLQBm5va73uDl+s13V72x1yJIE2sNnU9fXbja7XdX3dHXI8gbaxa/TwrK+q+bw+f67N5tWQkwi0mc2me9swJ/v5BEo0gRJNoES7xCfq//O22+6EVuygRLODNjAa7R/bTduygxJNoEQTKNEESjQXSQ24MBqOHZRodtAGDt9moi07KNEESjSBEu0voyC9T39LmuUAAAAASUVORK5CYII=",
           "type": "image"
          }
         ],
         "layout": {
          "margin": {
           "t": 60
          }
         },
         "name": "4"
        },
        {
         "data": [
          {
           "name": "5",
           "source": "data:image/png;base64,iVBORw0KGgoAAAANSUhEUgAAAOAAAADgCAIAAACVT/22AAAEkUlEQVR4Xu3d0VFiSRiG4Z+tCQMmDjUPNgImAJg4xAA0As0DJw4hD/YCFThFIUgD32w9T3lxbKy+sF770Eer7Y1Go4JUP6rq6empO9yOHwBO8U93AJIIlGgCJZpAibYV6HPVzebncG1bgQ6rXqtmVePNUbieHbf426pp1bLq3oLKte0I9NPkY0Eddl+BC9kX6Mpt1XPVW9V9Vb/7IpzX14GuDKomVXMbKS7r0EA/rTZSb1VjCyrnd3SgK4OqadXcRooz+2agnz43Up5McQ6nBrqyejJlI0VzbQKFM/nRHfiW16qXqofuMJzq1ECnVS9Vf7rD0MY3A51XPVS9VC26r0BLRwf6UjW1ZHIphwY6/3iXacnkkr4O9PXjbg6Xty9QGyCubkegnhmRYytQGyDSbAX67+YnEMCvOokmUKIJlGgCJZpAidZzPCKneHo849mdtfNBfXPnPn/U/Huce/567A605RZPNIESTaBEEyjRBEo0gRJNoEQTKNEESjSBEk2gRBMo0QRKNIESTaBEEyjRBEo0gRJNoEQTKNEESjSBEk2gRBMo0QRKNIESTaBEEyjRBEo0gRLN+aBEcz7oF8y/37nnd4snmkCJJlCiCZRoAiWaQIkmUKIJlGgCJZpAiSZQogmUaAIlmkCJJlCiCZRoAiWaQIkmUKIJlGgCJZpAiSZQogmUaAIlmkCJJlCiCZRoAiWaQInmfFCiOR/0C+bf79zzu8UTTaBEEyjRBEo0gRJNoEQTKNEESjSBEk2gRBMo0QRKNIESTaBEEyjRBEo0gRJNoEQTKNEESjSBEk2gRBMo0QRKNIESTaBEEyjRBEo0gRJNoERzPijRnA/6BfPvd+753eKJJlCiCZRoAiWaQIkmUKIJlGgCJZpAiSZQogmUaAIlmkCJJlCiCZRoAiWaQIkmUKIJlGgCJZpAiSZQogmUaAIlmkCJJlCiCZRoAiWaQIkmUKI5H/QKHh/X5xX++uX7v88lzgf92zU///LxsabTqqrJpPsSHQK9jj9/uiPs5D0o0QRKNIESTaBEEyjRBEo0gRJNoEQTKNEESjSBEk2gRBMo0QRKNIESTaBEEyjRBEo0gRJNoEQTKNEESjSBEk2gRBMo0QRKNIESzdlM13Fz0x1hJ4Feh3PtDuR8UKJdYgVtfr7mptFoZP49/vb5bZKIJtBm+v26v6/l8v3j7a3u76vf734ZRxFoG8NhzWZbW5/BoCaTms00ehKBNrBaOweD7nhVDQY1m3UHOZxAGxiPd9e5MhjUeNwd5EACbWDzzj6dVq9XvV69vKwHh8P1NUcRaGO/f79fbFZ7e7u+5igCJZpAG3t+rqrq99//VdfK6+v6mqMItIHNFofDWi5rPt9637n5fpSjCLSBh4eaz7uDn+bzenjoDnIggTawWNTd3e5G5/O6u+sOcjiBtrFqdPNeX1WTSf38WYvF1iBHEWgzi8X6GdOKO/vpBEo0gRJNoES7xF/U/+8tl90RWrGCEs0K2kCvt762mrZlBSWaQIkmUKIJlGg2SQ3YGJ2PFZRoVtAGNh8z0ZYVlGgCJZpAifYf93LaaVdixcsAAAAASUVORK5CYII=",
           "type": "image"
          }
         ],
         "layout": {
          "margin": {
           "t": 60
          }
         },
         "name": "5"
        },
        {
         "data": [
          {
           "name": "6",
           "source": "data:image/png;base64,iVBORw0KGgoAAAANSUhEUgAAAOAAAADgCAIAAACVT/22AAAEZklEQVR4Xu3d4W0aWRiG0Y+Vy4DUsXYfbAU0YFIHUEBcgekDbx2GPtgfxAZGCEO4g9+VzpF/4I/oKpEf3cuMpclgMpkUxOo7UOufZ/3z/uoOIIlAiSZQogmUaEeBvlb9ffg9fLejQMdVb1WrqufDKXyfE0f8Y9W8als1s6Hy3U4E+mn6saGOu+/AnZwLdOex6rXqvWpWNey+Cf36OtCdUdW0au1Civu6NNBPuwup96pnGyr9uzrQnVHVvGrtQoqe/WGgnz4vpNyZog+3BrqzuzPlQorm2gQKPXnoDv7IW9WyatEdw61uDXRetaz6tzuGNv4w0HXVompZtem+Ay1dHeiyam7L5F4uDXT98SnTlsk9fR3o28dpDvd3LlAXQHy7E4G6Z0SOo0BdAJHmKNB/Dr+BAH7VSTSBEk2gRBMo0QRKtEHfj8+DW9hBiSZQogmUaAIlmkCJJlCiCZRoAiWaQIkmUKIJlGgCJZpAiSZQogmUaAIlmkCJJlCiCZRoAiWaQIkmUKIJlGgCJZpAiSZQogmUaAIlmkCJJlCiCZRoJ/6fJLjcy6+X7qipewT68tLjv2EymVj/jL7Xr1/dQVuOeKIJlGgCJZpAiSZQogmUaAIlmkCJJlCiCZRoAiWaQIkmUKIJlGgCJZpAiSZQogmUaAIlmkCJJlCiCZRoAiWaQIkmUKIJlGgCJZpAiSZQogmUaIPJZNKdQQzPB/2C9c/re31HPNEESjSBEk2gRBMo0QRKNIESTaBEEyjRBEo0gRJNoEQTKNEESjSBEk2gRBMo0QRKNIESTaBEEyjRBEo0gRJNoEQTKNEESjSBEk2gRBMo0QRKNM8HJZrng37B+uf1vb4jnmgCJZpAiSZQogmUaAIlmkCJJlCiCZRoAiWaQIkmUKIJlGgCJZpAiSZQogmUaAIlmkCJJlCiCZRoAiWaQIkmUKIJlGgCJZpAiSZQogmUaAIlmueDEs3zQb9g/fP6Xt8RTzSBEk2gRBMo0QRKNIESTaBEEyjRBEo0gRJNoEQTKNEESjSBEk2gRBMo0QRKNIESTaBEEyjRBEo0gRJNoEQTKNEESjSBEk2gRBMo0QRKNIESzfNBifZQ///nd3ZHrfn7n9H3z9cRTzSBNjMc1mxW2+3vr/f3ms1qOOz+Ma4i0DbG41qtajrdT0ajmk5rtdLoTQTawG7vHI2686oajWq16g65nEAbeH4+XefOaFTPz90hFxJoA4cn+3xeg0ENBrVc7ofj8f41VxFoYz9//n5xWO3j4/41VxEo0QTa2OtrVdVwWPP5fvj2tn/NVQTawGGL43Ftt7VeH33uPPw8ylUE2sBiUet1d/hpva7FojvkQgJtYLOpp6fTja7X9fTUHXI5gbaxa/TwrK+q6bR+/KjN5mjIVQTazGazv8e042S/nUCJJlCiCZRoD90B19tuuxNasYMSzQ7awGCwf203bcsOSjSBEk2gRBMo0VwkNeDCqD92UKLZQRs4vM1EW3ZQogmUaAIl2n/PIdB6qkDoWQAAAABJRU5ErkJggg==",
           "type": "image"
          }
         ],
         "layout": {
          "margin": {
           "t": 60
          }
         },
         "name": "6"
        },
        {
         "data": [
          {
           "name": "7",
           "source": "data:image/png;base64,iVBORw0KGgoAAAANSUhEUgAAAOAAAADgCAIAAACVT/22AAAEX0lEQVR4Xu3c4W0aWRiG0Y9VyoDUsXYfbAU0AKkDKCCuwPSBtw5DH+wPYgMjC4O5g1+tzlF+jD+iK0V6dC8zjmYwmUwKYvUdqPXPs/55f3UHkESgRBMo0QRKtJNAn6v+Pv4ZvttJoOOql6p11fR4Ct/ngyP+oWpRtaua21D5bh8E+m72tqGOu5/AnZwLdO+h6rnqtWpeNex+CP36PNC9UdWsauNGivu6NNB3+xup16qpDZX+XR3o3qhqUbVxI0XPvhjou/cbKU+m6MOtge7tn0y5kaK5NoFCT350B1/yUrWqWnbHcKtbA11Urar+7Y6hjS8GuqlaVq2qtt1PoKWrA11VLWyZ3MulgW7evmXaMrmnzwN9eTvN4f7OBeoGiG/3QaCeGZHjJFA3QKQ5CfSf4x8ggF91Ek2gRBMo0QRKNIESbdD36/PgJn0Hav3zrH+eI55oAiWaQIkmUKIJlGgCJZpAiSZQogmUaAIlmkCJJlCiCZRoAiWaQIkmUKIJlGgCJZpAiSZQogmUaAIlmkCJJlCiCZRoAiWaQIkmUKIJlGgCJZr3gxLNDko0gRJNoEQTKNEESjSBEk2gRBMo0QRKNIESTaBEEyjRBEo0gRJNoEQTKNEESjSBEk2gRBMo0QRKNIESTaBEEyjRBEo0gRJNoEQTKNEESjSBEk2gRPvRHcA1nn4/dUdN3SPQp6ce/w2TycT6Z/S9fv3uDtpyxBNNoEQTKNEESjSBEk2gRBMo0QRKNIESTaBEEyjRBEo0gRJNoEQTKNEESjSBEk2gRBMo0QRKNIESTaBEEyjRBEo0gRJNoEQTKNEESjSBEk2gRBtMJpPuDGJ4P+gnrH9e3+s74okmUKIJlGgCJZpAiSZQogmUaAIlmkCJJlCiCZRoAiWaQIkmUKIJlGgCJZpAiSZQogmUaAIlmkCJJlCiCZRoAiWaQIkmUKIJlGgCJZpAiSZQonk/KNG8H/QT1j+v7/Ud8UQTKNEESjSBEk2gRBMo0QRKNIESTaBEEyjRBEo0gRJNoEQTKNEESjSBEk2gRBMo0QRKNIESTaBEEyjRBEo0gRJNoEQTKNEESjSBEk2gRBMo0bwflGjeD/oJ65/X9/qOeKIJtJnhsObz2u3+/Hl9rfm8hsPuX+MqAm1jPK71umazw2Q0qtms1muN3kSgDez3ztGoO6+q0ajW6+6Qywm0gen04zr3RqOaTrtDLiTQBo5P9sWiBoMaDGq1OgzH48M1VxFoY79+/bk4rvbh4XDNVQRKNIE29vxcVTUc1mJxGL68HK65ikAbOG5xPK7drjabk++dx99HuYpAG1gua7PpDt9tNrVcdodcSKANbLf1+Phxo5tNPT52h1xOoG3sGz0+66tqNqufP2u7PRlyFYE2s90enjHtOdlvJ1CiCZRoAiXaPf5H/f/ebted0IodlGh20AYGg8O13bQtOyjRBEo0gRJNoERzk9SAG6P+2EGJZgdt4PgxE23ZQYkmUKIJlGj/AeWPytadTJNtAAAAAElFTkSuQmCC",
           "type": "image"
          }
         ],
         "layout": {
          "margin": {
           "t": 60
          }
         },
         "name": "7"
        },
        {
         "data": [
          {
           "name": "8",
           "source": "data:image/png;base64,iVBORw0KGgoAAAANSUhEUgAAAOAAAADgCAIAAACVT/22AAAEXUlEQVR4Xu3c4W0aWRiG0Y9VyoDUsXYfbAU0AKkDKCCuwPSBtw5DH+wPYgMjC4O5g1+tzlF+jD+iK0V6dC8zjmYwmUwKYvUdqPXPs/55f3UHkESgRBMo0QRKtJNAn6v+Pv4ZvttJoOOql6p11fR4Ct/ngyP+oWpRtaua21D5bh8E+m72tqGOu5/AnZwLdO+h6rnqtWpeNex+CP36PNC9UdWsauNGivu6NNB3+xup16qpDZX+XR3o3qhqUbVxI0XPvhjou/cbKU+m6MOtge7tn0y5kaK5NoFCT350B1/yUrWqWnbHcKtbA11Urar+7Y6hjS8GuqlaVq2qtt1PoKWrA11VLWyZ3MulgW7evmXaMrmnzwN9eTvN4f7OBeoGiG/3QaCeGZHjJFA3QKQ5CfSf4x8ggF91Ek2gRBMo0QRKNIESbdD36/PgJn0Hav3zrH+eI55oAiWaQIkmUKIJlGgCJZpAiSZQogmUaAIlmkCJJlCiCZRoAiWaQIkmUKIJlGgCJZpAiSZQogmUaAIlmkCJJlCiCZRoAiWaQIkmUKIJlGgCJZr3g5Kt70Ctf571z3PEE02gRBMo0QRKNIESTaBEEyjRBEo0gRJNoEQTKNEESjSBEk2gRBMo0QRKNIESTaBEEyjRBEo0gRJNoEQTKNEESjSBEk2gRBMo0QRKNIESTaBE835QotlBiSZQogmUaAIlmkCJJlCiCZRoAiWaQIkmUKIJlGgCJZpAiSZQogmUaAIlmkCJJlCiCZRoAiWaQIkmUKIJlGgCJZpAiSZQogmUaAIlmkCJJlCiCZRoP7oDuMbT76fuqKl7BPr01OO/YTKZWP+Mvtev391BW454ogmUaAIlmkCJJlCiCZRoAiWaQIkmUKIJlGgCJZpAiSZQogmUaAIlmkCJJlCiCZRoAiWaQIkmUKIJlGgCJZpAiSZQogmUaAIlmkCJJlCiCZRog8lk0p1BDO8H/YT1z+t7fUc80QRKNIESTaBEEyjRBEo0gRJNoEQTKNEESjSBEk2gRBMo0QRKNIESTaBEEyjRBEo0gRJNoEQTKNEESjSBEk2gRBMo0QRKNIESTaBEEyjRBEo07wclmveDfsL65/W9viOeaAJtZjis+bx2uz9/Xl9rPq/hsPvXuIpA2xiPa72u2ewwGY1qNqv1WqM3EWgD+71zNOrOq2o0qvW6O+RyAm1gOv24zr3RqKbT7pALCbSB45N9sajBoAaDWq0Ow/H4cM1VBNrYr19/Lo6rfXg4XHMVgRJNoI09P1dVDYe1WByGLy+Ha64i0AaOWxyPa7erzebke+fx91GuItAGlsvabLrDd5tNLZfdIRcSaAPbbT0+ftzoZlOPj90hlxNoG/tGj8/6qprN6ufP2m5PhlxFoM1st4dnTHtO9tsJlGgCJZpAiXaP/1H/v7fbdSe0Ygclmh20gcHgcG03bcsOSjSBEk2gRBMo0dwkNeDGqD92UKLZQRs4fsxEW3ZQogmUaAIl2n+8L8IyZd+IxwAAAABJRU5ErkJggg==",
           "type": "image"
          }
         ],
         "layout": {
          "margin": {
           "t": 60
          }
         },
         "name": "8"
        },
        {
         "data": [
          {
           "name": "9",
           "source": "data:image/png;base64,iVBORw0KGgoAAAANSUhEUgAAAOAAAADgCAIAAACVT/22AAAEXUlEQVR4Xu3c4W0aWRiG0Y9VyoDUsXYfbAU0AKkDKCCuwPSBtw4PfbA/iA2MrDGYGfxqdY7yY/wRXSnSo3uZcTSj2WxWEGvoQK3fzfrd/moPIIlAiSZQogmUaGeBPlf9ffozfLezQKdVL1XbqvnpFL7PB0f8Q9Wqal+1tKHy3T4I9N3ibUOdtj+BO+kK9OCh6rnqtWpZNW5/CMP6PNCDSdWiqnEjxX1dGui7w43Ua9Xchsrwrg70YFK1qmrcSDGwLwb67v1GypMphnBroAeHJ1NupOhdP4HCQH60B1/yUrWpWrfHcKtbA11Vbar+bY+hH18MtKlaV22qdu1PoE9XB7qpWtkyuZdLA23evmXaMrmnzwN9eTvN4f66AnUDxLf7IFDPjMhxFqgbINKcBfrP6Q8QwK86iSZQogmUaAIlmkCJNhr69Xlwk6EDtX4363dzxBNNoEQTKNEESjSBEk2gRBMo0QRKNIESTaBEEyjRBEo0gRJNoEQTKNEESjSBEk2gRBMo0QRKNIESTaBEEyjRBEo0gRJNoEQTKNEESjSBEk2gRPN+ULINHaj1u1m/myOeaAIlmkCJJlCiCZRoAiWaQIkmUKIJlGgCJZpAiSZQogmUaAIlmkCJJlCiCZRoAiWaQIkmUKIJlGgCJZpAiSZQogmUaAIlmkCJJlCiCZRoAiWa94OSbehArd/N+t0c8UQTKNEESjSBEk2gRBMo0QRKNIESTaBEEyjRBEo0gRJNoEQTKNEESjSBEk2gRBMo0QRKNIESTaBEEyjRBEo0gRJNoEQTKNEESjSBEk2gRBMo0bwflGh2UKIJlGgCJZpAiSZQogmUaAIlmkCJJlCiCZRoAiWaQIkmUKIJlGgCJZpAiSZQogmUaAIlmkCJJlCiCZRoAiWaQIkmUKIJlGgCJZpAiSZQogmUaAIl2o/2AK7x9PupPerVPQJ9ehrw3zCbzazfYej163d70C9HPNEESjSBEk2gRBMo0QRKNIESTaBEEyjRBEo0gRJNoEQTKNEESjSBEk2gRBMo0QRKNIESTaBEEyjRBEo0gRJNoEQTKNEESjSBEk2gRBMo0QRKtNFsNmvPIIb3g37C+t2GXt8RTzSB9mY8ruWy9vs/f15fa7ms8bj917iKQPsxndZ2W4vFcTKZ1GJR261GbyLQHhz2zsmkPa+qyaS22/aQywm0B/P5x3UeTCY1n7eHXEigPTg92VerGo1qNKrN5jicTo/XXEWgPfv168/FabUPD8drriJQogm0Z8/PVVXjca1Wx+HLy/Gaqwi0B6ctTqe131fTnH3vPP0+ylUE2oP1upqmPXzXNLVet4dcSKA92O3q8fHjRpumHh/bQy4n0H4cGj0966tqsaifP2u3OxtyFYH2Zrc7PmM6cLLfTqBEEyjRBEq0e/yP+v+9/b49oS92UKLZQXswGh2v7ab9soMSTaBEEyjRBEo0N0k9cGM0HDso0eygPTh9zES/7KBEEyjRBEq0/wCh6LmOP2HAnwAAAABJRU5ErkJggg==",
           "type": "image"
          }
         ],
         "layout": {
          "margin": {
           "t": 60
          }
         },
         "name": "9"
        },
        {
         "data": [
          {
           "name": "10",
           "source": "data:image/png;base64,iVBORw0KGgoAAAANSUhEUgAAAOAAAADgCAIAAACVT/22AAAEWElEQVR4Xu3c4W0aWRiG0Y9VyoDUsXYfbAU0YFIHUEBcgekDbx2GPtgfxAZG1gTCHfxqdY7yY/wRXSnSo3uZcTSj2WxWEGvoQK3fz/r9/uoOIIlAiSZQogmUaGeBvlT9ffozfLWzQKdVr1WbqqfTKXydT474h6pl1b5qYUPlq30S6If5+4Y67X4Cd9IX6MFD1UvVW9Wiatz9EIb1+0APJlXzqq0bKe7r0kA/HG6k3qqebKgM7+pADyZVy6qtGykG9oeBfvi4kfJkiiHcGujB4cmUGymaaxMoDORbd/BHXqvWVavuGG51a6DLqnXVv90xtPGHgW6rVlXrql33E2jp6kDXVUtbJvdyaaDb92+Ztkzu6feBvr6f5nB/fYG6AeLLfRKoZ0bkOAvUDRBpzgL95/QHCOBXnUQTKNEESjSBEk2gRBsN/fo8uMnQgVq/n/X7OeKJJlCiCZRoAiWaQIkmUKIJlGgCJZpAiSZQogmUaAIlmkCJJlCiCZRoAiWaQIkmUKIJlGgCJZpAiSZQogmUaAIlmkCJJlCiCZRoAiWaQIkmUKJ5PyjZhg7U+v2s388RTzSBEk2gRBMo0QRKNIESTaBEEyjRBEo0gRJNoEQTKNEESjSBEk2gRBMo0QRKNIESTaBEEyjRBEo0gRJNoEQTKNEESjSBEk2gRBMo0QRKNIESzftByTZ0oNbvZ/1+jniiCZRoAiWaQIkmUKIJlGgCJZpAiSZQogmUaAIlmkCJJlCiCZRoAiWaQIkmUKIJlGgCJZpAiSZQogmUaAIlmkCJJlCiCZRoAiWaQIkmUKIJlGjeD0q2oQO1fj/r93PEE02gRBMo0QRKNIESTaBEEyjRBEo0gRJNoEQTKNEESjSBEk2gRBMo0QRKNIESTaBEEyjRBEo0gRJNoEQTKNEESjSBEk2gRBMo0QRKNIESTaBE835QotlBiSZQogmUaAIlmkCJJlCiCZRoAiWaQIkmUKIJlGgCJZpAiSZQogmUaAIlmkCJJlCiCZRoAiWaQIkmUKIJlGgCJZpAiSZQogmUaAIlmkCJJlCiCZRo37oDuMbzz+fuqKl7BPr8POC/YTabWb/H0OvXz+6gLUc80QTazHhci0Xt97/+vL3VYlHjcfevcRWBtjGd1mZT8/lxMpnUfF6bjUZvItAGDnvnZNKdV9VkUptNd8jlBNrA09PndR5MJvX01B1yIYE2cHqyL5c1GtVoVOv1cTidHq+5ikAb+/Hj18VptQ8Px2uuIlCiCbSxl5eqqvG4lsvj8PX1eM1VBNrAaYvTae33td2efe88/T7KVQTawGpV2213+GG7rdWqO+RCAm1gt6vHx88b3W7r8bE75HICbePQ6OlZX1XzeX3/Xrvd2ZCrCLSZ3e74jOnAyX47gRJNoEQTKNHu8T/q//f2++6EVuygRLODNjAaHa/tpm3ZQYkmUKIJlGgCJZqbpAbcGA3HDko0O2gDp4+ZaMsOSjSBEk2gRPsPlrqw6gpXEasAAAAASUVORK5CYII=",
           "type": "image"
          }
         ],
         "layout": {
          "margin": {
           "t": 60
          }
         },
         "name": "10"
        },
        {
         "data": [
          {
           "name": "11",
           "source": "data:image/png;base64,iVBORw0KGgoAAAANSUhEUgAAAOAAAADgCAIAAACVT/22AAAEaElEQVR4Xu3c220iWRSG0c3IYUDHMXYeTARMANBxAAGMIzB54InDRR70A20uJYuLqbL/Ga2lfsCbVglZn86hytIZTCaTglh9B+r657n+eX+0B5BEoEQTKNEESrSTQF+q/jz+Gb7bSaDjqteqddX0eArf54Mt/rFqUbWtmltQ+W4fBLo3e19Qx+134IucC3Tnseql6q1qXjVsvwn9uhzozqhqVtW4keJrXRvo3u5G6q1qakGlfzcHujOqWlQ1bqTo2ScD3dvfSHkyRR/uDXRn92TKjRSd6yZQ6MlDe/Apr1WrqmV7DPe6N9BF1arq3/YYuvHJQJuqZdWqatN+B7p0c6CrqoUlk69ybaDN+7dMSyZf6XKgr++7OXy9c4G6AeLbfRCoZ0bkOAnUDRBpTgL96/gHCOBPnUQTKNEESjSBEk2gRBv0fXwe3KXvQF3/PNc/zxZPNIESTaBEEyjRBEo0gRJNoEQTKNEESjSBEk2gRBMo0QRKNIESTaBEEyjRBEo0gRJNoEQTKNEESjSBEk2gRBMo0QRKNIESTaBEEyjRBEo0gRLN+aBEe6iq5+fn9rg7k8mk7+u3R/yP2OKJJlCiCZRoAiWaQIkmUKIJlGgCJZpAiSZQogmUaAIlmkCJJlCiCZRoAiWaQIkmUKIJlGgCJZpAiSZQogmUaAIlmkCJJlCiCZRoAiWaQIkmUKI5H/SC5396PDuyqiZ/+/2f43zQ79f37+c/fX1bPNEESjSBEk2gRBMo0QRKNIESTaBEEyjRBEo0gRJNoEQTKNEESjSBEk2gRBMo0QRKNIESTaBEEyjRBEo0gRJNoEQTKNEESjSBEk2gRBMo0QRKNOeDEs35oJf1/fld/wxbPNEESjSBEk2gRBMo0QRKNIESTaBEEyjRBEo0gRJNoEQTKNEESjSBEk2gRBMo0QRKNIESTaBEEyjRBEo0gRJNoEQTKNEESjSBEk2gRBMo0QRKNOeDEs35oJf1/fld/wxbPNEESjSBEk2gRBMo0QRKNIESTaBEEyjRBEo0gRJNoEQTKNEESjSBEk2gRBMo0QRKNIESTaBEEyjRBEo0gRJNoEQTKNEESjSBEk2gRBMo0QRKNOeDEs35oJf1/fld/wxbPNEE2pnhsObz2m5//3t7q/m8hsP2f+MmAu3GeFzrdc1mh8loVLNZrdcavYtAO7BbO0ej9ryqRqNar9tDrifQDkynH9e5MxrVdNoeciWBduB4Z18sajCowaBWq8NwPD685iYC7djPn79fHFf7+Hh4zU0ESjSBduzlpapqOKzF4jB8fT285iYC7cBxi+NxbbfVNCffO4+/j3ITgXZguaymaQ/3mqaWy/aQKwm0A5tNPT193GjT1NNTe8j1BNqNXaPHe31VzWb140dtNidDbiLQzmw2h2dMO3b2+wmUaAIlmkCJ9tAecLvttj2hK1ZQollBOzAYHF5bTbtlBSWaQIkmUKIJlGhukjrgxqg/VlCiWUE7cPyYiW5ZQYkmUKIJlGi/AFn20pOwxcqJAAAAAElFTkSuQmCC",
           "type": "image"
          }
         ],
         "layout": {
          "margin": {
           "t": 60
          }
         },
         "name": "11"
        },
        {
         "data": [
          {
           "name": "12",
           "source": "data:image/png;base64,iVBORw0KGgoAAAANSUhEUgAAAOAAAADgCAIAAACVT/22AAAEZklEQVR4Xu3c4U0qWRzG4T8by4Bbx2ofbAVsAXDrAApYK5A+cOtw6IP7gavAxIwgM/ru5nnih+FgToj55RxmTM5oNpsVxBo6UPN3M3+3P9oDkESgRBMo0QRKtLNAn6r+PH0N3+0s0GnVc9W2an46Ct/nnS3+vmpVta9aWlD5bu8E+mbxuqBO2+/AF+kK9OC+6qnqpWpZNW6/CcP6ONCDSdWiqnEjxde6NNA3hxupl6q5BZXhXR3owaRqVdW4kWJgnwz0zduNlCdTDOHWQA8OT6bcSNG7fgKFgdy1Bz7luWpTtW4Pw61uDXRVtan6tz0M/fhkoE3VumpTtWu/A326OtBN1cqSyVe5NNDm9VumJZOv9HGgz6+7OXy9rkDdAPHt3gnUMyNynAXqBog0Z4H+dfoCAvhXJ9EESjSBEk2gRBMo0UZDH58HNxk6UPN3M383WzzRBEo0gRJNoEQTKNEESjSBEk2gRBMo0QRKNIESTaBEEyjRBEo0gRJNoEQTKNEESjSBEk2gRBMo0QRKNIESTaBEEyjRBEo0gRJNoEQTKNEESjTng5Jt6EDN38383WzxRBMo0QRKNIESTaBEEyjRBEo0gRJNoEQTKNEESjSBEk2gRBMo0QRKNIESTaBEEyjRBEo0gRJNoEQTKNEESjSBEk2gRBMo0QRKNIESTaBEEyjRnA9KtLuqenx8bA/3ZzabDT1/e4j/EVs80QRKNIESTaBEEyjRBEo0gRJNoEQTKNEESjSBEk2gRBMo0QRKNIESTaBEEyjRBEo0gRJNoEQTKNEESjSBEk2gRBMo0QRKNIESTaBEEyjRBEo054N+4PGfAc+OrKrZ3/7+XZwP+v2G/vv8p+e3xRNNoEQTKNEESjSBEk2gRBMo0QRKNIESTaBEEyjRBEo0gRJNoEQTKNEESjSBEk2gRBMo0QRKNIESTaBEEyjRBEo0gRJNoEQTKNEESjSBEk2gRHM+KNGcD/qxoT+/+TvY4okmUKIJlGgCJZpAiSZQogmUaAIlmkCJJlCiCZRoAiWaQIkmUKIJlGgCJZpAiSZQogmUaAIlmkCJJlCiCZRoAiWaQIkmUKIJlGgCJZpAiSZQojkflGjOB/3Y0J/f/B1s8UQTaG/G41oua7///fPyUstljcftX+MqAu3HdFrbbS0Wx5HJpBaL2m41ehOB9uCwdk4m7fGqmkxqu20PcjmB9mA+f7/Og8mk5vP2IBcSaA9Od/bVqkajGo1qszkOTqfHa64i0J79/Pn74rTa+/vjNVcRKNEE2rOnp6qq8bhWq+Pg8/PxmqsItAenLU6ntd9X05x97zz9PspVBNqD9bqapj34pmlqvW4PciGB9mC3q4eH9xttmnp4aA9yOYH249Do6V5fVYtF/fhRu93ZIFcRaG92u+MzpgM7++0ESjSBEk2gRLtrD3C9/b49Ql+soESzgvZgNDpeW037ZQUlmkCJJlCiCZRobpJ64MZoOFZQollBe3D6mIl+WUGJJlCiCZRovwDOpMnvhYDbwAAAAABJRU5ErkJggg==",
           "type": "image"
          }
         ],
         "layout": {
          "margin": {
           "t": 60
          }
         },
         "name": "12"
        },
        {
         "data": [
          {
           "name": "13",
           "source": "data:image/png;base64,iVBORw0KGgoAAAANSUhEUgAAAOAAAADgCAIAAACVT/22AAAEZElEQVR4Xu3c4W3iWBiG0Y9VyoCpY5M+2ArYAmDqAArYVBD6IFtHTB/MDyYBrMiBYCfvrs7R/HA+Rlej6NG92CN5NJvNCmINHaj1u1m/2x/tASQRKNEESjSBEu0s0KeqP09/hu92Fui06rlqWzU/ncL3eeeIv69aVe2rljZUvts7gb5ZvG6o0/Yn8EW6Aj24r3qqeqlaVo3bH8KwPg70YFK1qGrcSPG1Lg30zeFG6qVqbkNleFcHejCpWlU1bqQY2CcDffN2I+XJFEO4NdCDw5MpN1L0rp9AYSB37cGnPFdtqtbtMdzq1kBXVZuqf9tj6McnA22q1lWbql37E+jT1YFuqla2TL7KpYE2r98ybZl8pY8DfX49zeHrdQXqBohv906gnhmR4yxQN0CkOQv0r9MfIID/6iSaQIkmUKIJlGgCJdpo6NfnwU2GDtT63azfzRFPNIESTaBEEyjRBEo0gRJNoEQTKNEESjSBEk2gRBMo0QRKNIESTaBEEyjRBEo0gRJNoEQTKNEESjSBEk2gRBMo0QRKNIESTaBEEyjRBEo0gRLN+0HJNnSg1u9m/W6OeKIJlGgCJZpAiSZQogmUaAIlmkCJJlCiCZRoAiWaQIkmUKIJlGgCJZpAiSZQogmUaAIlmkCJJlCiCZRoAiWaQIkmUKIJlGgCJZpAiSZQogmUaN4PSrahA7V+N+t3c8QTTaBEEyjRBEo0gRJNoEQTKNEESjSBEk2gRBMo0QRKNIESTaBEEyjRBEo0gRJNoEQTKNEESjSBEk2gRBMo0QRKNIESTaBEEyjRBEo0gRJNoETzflCi3VXV4+Nje9yf2Ww29PrtEf8jjniiCZRoAiWaQIkmUKIJlGgCJZpAiSZQogmUaAIlmkCJJlCiCZRoAiWaQIkmUKIJlGgCJZpAiSZQogmUaAIlmkCJJlCiCZRoAiWaQIkmUKIJlGjeD/qBx38GfHdkVc3+9vvv4v2g32/o389/en1HPNEESjSBEk2gRBMo0QRKNIESTaBEEyjRBEo0gRJNoEQTKNEESjSBEk2gRBMo0QRKNIESTaBEEyjRBEo0gRJNoEQTKNEESjSBEk2gRBMo0QRKNO8HJZr3g35s6H+/9Ts44okm0N6Mx7Vc1n7/+8/LSy2XNR63/xpXEWg/ptPabmuxOE4mk1osarvV6E0E2oPD3jmZtOdVNZnUdtsecjmB9mA+f7/Og8mk5vP2kAsJtAenJ/tqVaNRjUa12RyH0+nxmqsItGc/f/6+OK32/v54zVUESjSB9uzpqapqPK7V6jh8fj5ecxWB9uC0xem09vtqmrPvnaffR7mKQHuwXlfTtIdvmqbW6/aQCwm0B7tdPTy832jT1MNDe8jlBNqPQ6OnZ31VLRb140ftdmdDriLQ3ux2x2dMB0722wmUaAIlmkCJdtcecL39vj2hL3ZQotlBezAaHa/tpv2ygxJNoEQTKNEESjQ3ST1wYzQcOyjR7KA9OH3MRL/soEQTKNEESrRfUnrBS3J6vrYAAAAASUVORK5CYII=",
           "type": "image"
          }
         ],
         "layout": {
          "margin": {
           "t": 60
          }
         },
         "name": "13"
        }
       ],
       "layout": {
        "margin": {
         "t": 60
        },
        "sliders": [
         {
          "active": 0,
          "currentvalue": {
           "prefix": "animation_frame="
          },
          "len": 0.9,
          "pad": {
           "b": 10,
           "t": 60
          },
          "steps": [
           {
            "args": [
             [
              "0"
             ],
             {
              "frame": {
               "duration": 0,
               "redraw": true
              },
              "fromcurrent": true,
              "mode": "immediate",
              "transition": {
               "duration": 0,
               "easing": "linear"
              }
             }
            ],
            "label": "0",
            "method": "animate"
           },
           {
            "args": [
             [
              "1"
             ],
             {
              "frame": {
               "duration": 0,
               "redraw": true
              },
              "fromcurrent": true,
              "mode": "immediate",
              "transition": {
               "duration": 0,
               "easing": "linear"
              }
             }
            ],
            "label": "1",
            "method": "animate"
           },
           {
            "args": [
             [
              "2"
             ],
             {
              "frame": {
               "duration": 0,
               "redraw": true
              },
              "fromcurrent": true,
              "mode": "immediate",
              "transition": {
               "duration": 0,
               "easing": "linear"
              }
             }
            ],
            "label": "2",
            "method": "animate"
           },
           {
            "args": [
             [
              "3"
             ],
             {
              "frame": {
               "duration": 0,
               "redraw": true
              },
              "fromcurrent": true,
              "mode": "immediate",
              "transition": {
               "duration": 0,
               "easing": "linear"
              }
             }
            ],
            "label": "3",
            "method": "animate"
           },
           {
            "args": [
             [
              "4"
             ],
             {
              "frame": {
               "duration": 0,
               "redraw": true
              },
              "fromcurrent": true,
              "mode": "immediate",
              "transition": {
               "duration": 0,
               "easing": "linear"
              }
             }
            ],
            "label": "4",
            "method": "animate"
           },
           {
            "args": [
             [
              "5"
             ],
             {
              "frame": {
               "duration": 0,
               "redraw": true
              },
              "fromcurrent": true,
              "mode": "immediate",
              "transition": {
               "duration": 0,
               "easing": "linear"
              }
             }
            ],
            "label": "5",
            "method": "animate"
           },
           {
            "args": [
             [
              "6"
             ],
             {
              "frame": {
               "duration": 0,
               "redraw": true
              },
              "fromcurrent": true,
              "mode": "immediate",
              "transition": {
               "duration": 0,
               "easing": "linear"
              }
             }
            ],
            "label": "6",
            "method": "animate"
           },
           {
            "args": [
             [
              "7"
             ],
             {
              "frame": {
               "duration": 0,
               "redraw": true
              },
              "fromcurrent": true,
              "mode": "immediate",
              "transition": {
               "duration": 0,
               "easing": "linear"
              }
             }
            ],
            "label": "7",
            "method": "animate"
           },
           {
            "args": [
             [
              "8"
             ],
             {
              "frame": {
               "duration": 0,
               "redraw": true
              },
              "fromcurrent": true,
              "mode": "immediate",
              "transition": {
               "duration": 0,
               "easing": "linear"
              }
             }
            ],
            "label": "8",
            "method": "animate"
           },
           {
            "args": [
             [
              "9"
             ],
             {
              "frame": {
               "duration": 0,
               "redraw": true
              },
              "fromcurrent": true,
              "mode": "immediate",
              "transition": {
               "duration": 0,
               "easing": "linear"
              }
             }
            ],
            "label": "9",
            "method": "animate"
           },
           {
            "args": [
             [
              "10"
             ],
             {
              "frame": {
               "duration": 0,
               "redraw": true
              },
              "fromcurrent": true,
              "mode": "immediate",
              "transition": {
               "duration": 0,
               "easing": "linear"
              }
             }
            ],
            "label": "10",
            "method": "animate"
           },
           {
            "args": [
             [
              "11"
             ],
             {
              "frame": {
               "duration": 0,
               "redraw": true
              },
              "fromcurrent": true,
              "mode": "immediate",
              "transition": {
               "duration": 0,
               "easing": "linear"
              }
             }
            ],
            "label": "11",
            "method": "animate"
           },
           {
            "args": [
             [
              "12"
             ],
             {
              "frame": {
               "duration": 0,
               "redraw": true
              },
              "fromcurrent": true,
              "mode": "immediate",
              "transition": {
               "duration": 0,
               "easing": "linear"
              }
             }
            ],
            "label": "12",
            "method": "animate"
           },
           {
            "args": [
             [
              "13"
             ],
             {
              "frame": {
               "duration": 0,
               "redraw": true
              },
              "fromcurrent": true,
              "mode": "immediate",
              "transition": {
               "duration": 0,
               "easing": "linear"
              }
             }
            ],
            "label": "13",
            "method": "animate"
           }
          ],
          "x": 0.1,
          "xanchor": "left",
          "y": 0,
          "yanchor": "top"
         }
        ],
        "template": {
         "data": {
          "bar": [
           {
            "error_x": {
             "color": "#2a3f5f"
            },
            "error_y": {
             "color": "#2a3f5f"
            },
            "marker": {
             "line": {
              "color": "#E5ECF6",
              "width": 0.5
             },
             "pattern": {
              "fillmode": "overlay",
              "size": 10,
              "solidity": 0.2
             }
            },
            "type": "bar"
           }
          ],
          "barpolar": [
           {
            "marker": {
             "line": {
              "color": "#E5ECF6",
              "width": 0.5
             },
             "pattern": {
              "fillmode": "overlay",
              "size": 10,
              "solidity": 0.2
             }
            },
            "type": "barpolar"
           }
          ],
          "carpet": [
           {
            "aaxis": {
             "endlinecolor": "#2a3f5f",
             "gridcolor": "white",
             "linecolor": "white",
             "minorgridcolor": "white",
             "startlinecolor": "#2a3f5f"
            },
            "baxis": {
             "endlinecolor": "#2a3f5f",
             "gridcolor": "white",
             "linecolor": "white",
             "minorgridcolor": "white",
             "startlinecolor": "#2a3f5f"
            },
            "type": "carpet"
           }
          ],
          "choropleth": [
           {
            "colorbar": {
             "outlinewidth": 0,
             "ticks": ""
            },
            "type": "choropleth"
           }
          ],
          "contour": [
           {
            "colorbar": {
             "outlinewidth": 0,
             "ticks": ""
            },
            "colorscale": [
             [
              0,
              "#0d0887"
             ],
             [
              0.1111111111111111,
              "#46039f"
             ],
             [
              0.2222222222222222,
              "#7201a8"
             ],
             [
              0.3333333333333333,
              "#9c179e"
             ],
             [
              0.4444444444444444,
              "#bd3786"
             ],
             [
              0.5555555555555556,
              "#d8576b"
             ],
             [
              0.6666666666666666,
              "#ed7953"
             ],
             [
              0.7777777777777778,
              "#fb9f3a"
             ],
             [
              0.8888888888888888,
              "#fdca26"
             ],
             [
              1,
              "#f0f921"
             ]
            ],
            "type": "contour"
           }
          ],
          "contourcarpet": [
           {
            "colorbar": {
             "outlinewidth": 0,
             "ticks": ""
            },
            "type": "contourcarpet"
           }
          ],
          "heatmap": [
           {
            "colorbar": {
             "outlinewidth": 0,
             "ticks": ""
            },
            "colorscale": [
             [
              0,
              "#0d0887"
             ],
             [
              0.1111111111111111,
              "#46039f"
             ],
             [
              0.2222222222222222,
              "#7201a8"
             ],
             [
              0.3333333333333333,
              "#9c179e"
             ],
             [
              0.4444444444444444,
              "#bd3786"
             ],
             [
              0.5555555555555556,
              "#d8576b"
             ],
             [
              0.6666666666666666,
              "#ed7953"
             ],
             [
              0.7777777777777778,
              "#fb9f3a"
             ],
             [
              0.8888888888888888,
              "#fdca26"
             ],
             [
              1,
              "#f0f921"
             ]
            ],
            "type": "heatmap"
           }
          ],
          "heatmapgl": [
           {
            "colorbar": {
             "outlinewidth": 0,
             "ticks": ""
            },
            "colorscale": [
             [
              0,
              "#0d0887"
             ],
             [
              0.1111111111111111,
              "#46039f"
             ],
             [
              0.2222222222222222,
              "#7201a8"
             ],
             [
              0.3333333333333333,
              "#9c179e"
             ],
             [
              0.4444444444444444,
              "#bd3786"
             ],
             [
              0.5555555555555556,
              "#d8576b"
             ],
             [
              0.6666666666666666,
              "#ed7953"
             ],
             [
              0.7777777777777778,
              "#fb9f3a"
             ],
             [
              0.8888888888888888,
              "#fdca26"
             ],
             [
              1,
              "#f0f921"
             ]
            ],
            "type": "heatmapgl"
           }
          ],
          "histogram": [
           {
            "marker": {
             "pattern": {
              "fillmode": "overlay",
              "size": 10,
              "solidity": 0.2
             }
            },
            "type": "histogram"
           }
          ],
          "histogram2d": [
           {
            "colorbar": {
             "outlinewidth": 0,
             "ticks": ""
            },
            "colorscale": [
             [
              0,
              "#0d0887"
             ],
             [
              0.1111111111111111,
              "#46039f"
             ],
             [
              0.2222222222222222,
              "#7201a8"
             ],
             [
              0.3333333333333333,
              "#9c179e"
             ],
             [
              0.4444444444444444,
              "#bd3786"
             ],
             [
              0.5555555555555556,
              "#d8576b"
             ],
             [
              0.6666666666666666,
              "#ed7953"
             ],
             [
              0.7777777777777778,
              "#fb9f3a"
             ],
             [
              0.8888888888888888,
              "#fdca26"
             ],
             [
              1,
              "#f0f921"
             ]
            ],
            "type": "histogram2d"
           }
          ],
          "histogram2dcontour": [
           {
            "colorbar": {
             "outlinewidth": 0,
             "ticks": ""
            },
            "colorscale": [
             [
              0,
              "#0d0887"
             ],
             [
              0.1111111111111111,
              "#46039f"
             ],
             [
              0.2222222222222222,
              "#7201a8"
             ],
             [
              0.3333333333333333,
              "#9c179e"
             ],
             [
              0.4444444444444444,
              "#bd3786"
             ],
             [
              0.5555555555555556,
              "#d8576b"
             ],
             [
              0.6666666666666666,
              "#ed7953"
             ],
             [
              0.7777777777777778,
              "#fb9f3a"
             ],
             [
              0.8888888888888888,
              "#fdca26"
             ],
             [
              1,
              "#f0f921"
             ]
            ],
            "type": "histogram2dcontour"
           }
          ],
          "mesh3d": [
           {
            "colorbar": {
             "outlinewidth": 0,
             "ticks": ""
            },
            "type": "mesh3d"
           }
          ],
          "parcoords": [
           {
            "line": {
             "colorbar": {
              "outlinewidth": 0,
              "ticks": ""
             }
            },
            "type": "parcoords"
           }
          ],
          "pie": [
           {
            "automargin": true,
            "type": "pie"
           }
          ],
          "scatter": [
           {
            "fillpattern": {
             "fillmode": "overlay",
             "size": 10,
             "solidity": 0.2
            },
            "type": "scatter"
           }
          ],
          "scatter3d": [
           {
            "line": {
             "colorbar": {
              "outlinewidth": 0,
              "ticks": ""
             }
            },
            "marker": {
             "colorbar": {
              "outlinewidth": 0,
              "ticks": ""
             }
            },
            "type": "scatter3d"
           }
          ],
          "scattercarpet": [
           {
            "marker": {
             "colorbar": {
              "outlinewidth": 0,
              "ticks": ""
             }
            },
            "type": "scattercarpet"
           }
          ],
          "scattergeo": [
           {
            "marker": {
             "colorbar": {
              "outlinewidth": 0,
              "ticks": ""
             }
            },
            "type": "scattergeo"
           }
          ],
          "scattergl": [
           {
            "marker": {
             "colorbar": {
              "outlinewidth": 0,
              "ticks": ""
             }
            },
            "type": "scattergl"
           }
          ],
          "scattermapbox": [
           {
            "marker": {
             "colorbar": {
              "outlinewidth": 0,
              "ticks": ""
             }
            },
            "type": "scattermapbox"
           }
          ],
          "scatterpolar": [
           {
            "marker": {
             "colorbar": {
              "outlinewidth": 0,
              "ticks": ""
             }
            },
            "type": "scatterpolar"
           }
          ],
          "scatterpolargl": [
           {
            "marker": {
             "colorbar": {
              "outlinewidth": 0,
              "ticks": ""
             }
            },
            "type": "scatterpolargl"
           }
          ],
          "scatterternary": [
           {
            "marker": {
             "colorbar": {
              "outlinewidth": 0,
              "ticks": ""
             }
            },
            "type": "scatterternary"
           }
          ],
          "surface": [
           {
            "colorbar": {
             "outlinewidth": 0,
             "ticks": ""
            },
            "colorscale": [
             [
              0,
              "#0d0887"
             ],
             [
              0.1111111111111111,
              "#46039f"
             ],
             [
              0.2222222222222222,
              "#7201a8"
             ],
             [
              0.3333333333333333,
              "#9c179e"
             ],
             [
              0.4444444444444444,
              "#bd3786"
             ],
             [
              0.5555555555555556,
              "#d8576b"
             ],
             [
              0.6666666666666666,
              "#ed7953"
             ],
             [
              0.7777777777777778,
              "#fb9f3a"
             ],
             [
              0.8888888888888888,
              "#fdca26"
             ],
             [
              1,
              "#f0f921"
             ]
            ],
            "type": "surface"
           }
          ],
          "table": [
           {
            "cells": {
             "fill": {
              "color": "#EBF0F8"
             },
             "line": {
              "color": "white"
             }
            },
            "header": {
             "fill": {
              "color": "#C8D4E3"
             },
             "line": {
              "color": "white"
             }
            },
            "type": "table"
           }
          ]
         },
         "layout": {
          "annotationdefaults": {
           "arrowcolor": "#2a3f5f",
           "arrowhead": 0,
           "arrowwidth": 1
          },
          "autotypenumbers": "strict",
          "coloraxis": {
           "colorbar": {
            "outlinewidth": 0,
            "ticks": ""
           }
          },
          "colorscale": {
           "diverging": [
            [
             0,
             "#8e0152"
            ],
            [
             0.1,
             "#c51b7d"
            ],
            [
             0.2,
             "#de77ae"
            ],
            [
             0.3,
             "#f1b6da"
            ],
            [
             0.4,
             "#fde0ef"
            ],
            [
             0.5,
             "#f7f7f7"
            ],
            [
             0.6,
             "#e6f5d0"
            ],
            [
             0.7,
             "#b8e186"
            ],
            [
             0.8,
             "#7fbc41"
            ],
            [
             0.9,
             "#4d9221"
            ],
            [
             1,
             "#276419"
            ]
           ],
           "sequential": [
            [
             0,
             "#0d0887"
            ],
            [
             0.1111111111111111,
             "#46039f"
            ],
            [
             0.2222222222222222,
             "#7201a8"
            ],
            [
             0.3333333333333333,
             "#9c179e"
            ],
            [
             0.4444444444444444,
             "#bd3786"
            ],
            [
             0.5555555555555556,
             "#d8576b"
            ],
            [
             0.6666666666666666,
             "#ed7953"
            ],
            [
             0.7777777777777778,
             "#fb9f3a"
            ],
            [
             0.8888888888888888,
             "#fdca26"
            ],
            [
             1,
             "#f0f921"
            ]
           ],
           "sequentialminus": [
            [
             0,
             "#0d0887"
            ],
            [
             0.1111111111111111,
             "#46039f"
            ],
            [
             0.2222222222222222,
             "#7201a8"
            ],
            [
             0.3333333333333333,
             "#9c179e"
            ],
            [
             0.4444444444444444,
             "#bd3786"
            ],
            [
             0.5555555555555556,
             "#d8576b"
            ],
            [
             0.6666666666666666,
             "#ed7953"
            ],
            [
             0.7777777777777778,
             "#fb9f3a"
            ],
            [
             0.8888888888888888,
             "#fdca26"
            ],
            [
             1,
             "#f0f921"
            ]
           ]
          },
          "colorway": [
           "#636efa",
           "#EF553B",
           "#00cc96",
           "#ab63fa",
           "#FFA15A",
           "#19d3f3",
           "#FF6692",
           "#B6E880",
           "#FF97FF",
           "#FECB52"
          ],
          "font": {
           "color": "#2a3f5f"
          },
          "geo": {
           "bgcolor": "white",
           "lakecolor": "white",
           "landcolor": "#E5ECF6",
           "showlakes": true,
           "showland": true,
           "subunitcolor": "white"
          },
          "hoverlabel": {
           "align": "left"
          },
          "hovermode": "closest",
          "mapbox": {
           "style": "light"
          },
          "paper_bgcolor": "white",
          "plot_bgcolor": "#E5ECF6",
          "polar": {
           "angularaxis": {
            "gridcolor": "white",
            "linecolor": "white",
            "ticks": ""
           },
           "bgcolor": "#E5ECF6",
           "radialaxis": {
            "gridcolor": "white",
            "linecolor": "white",
            "ticks": ""
           }
          },
          "scene": {
           "xaxis": {
            "backgroundcolor": "#E5ECF6",
            "gridcolor": "white",
            "gridwidth": 2,
            "linecolor": "white",
            "showbackground": true,
            "ticks": "",
            "zerolinecolor": "white"
           },
           "yaxis": {
            "backgroundcolor": "#E5ECF6",
            "gridcolor": "white",
            "gridwidth": 2,
            "linecolor": "white",
            "showbackground": true,
            "ticks": "",
            "zerolinecolor": "white"
           },
           "zaxis": {
            "backgroundcolor": "#E5ECF6",
            "gridcolor": "white",
            "gridwidth": 2,
            "linecolor": "white",
            "showbackground": true,
            "ticks": "",
            "zerolinecolor": "white"
           }
          },
          "shapedefaults": {
           "line": {
            "color": "#2a3f5f"
           }
          },
          "ternary": {
           "aaxis": {
            "gridcolor": "white",
            "linecolor": "white",
            "ticks": ""
           },
           "baxis": {
            "gridcolor": "white",
            "linecolor": "white",
            "ticks": ""
           },
           "bgcolor": "#E5ECF6",
           "caxis": {
            "gridcolor": "white",
            "linecolor": "white",
            "ticks": ""
           }
          },
          "title": {
           "x": 0.05
          },
          "xaxis": {
           "automargin": true,
           "gridcolor": "white",
           "linecolor": "white",
           "ticks": "",
           "title": {
            "standoff": 15
           },
           "zerolinecolor": "white",
           "zerolinewidth": 2
          },
          "yaxis": {
           "automargin": true,
           "gridcolor": "white",
           "linecolor": "white",
           "ticks": "",
           "title": {
            "standoff": 15
           },
           "zerolinecolor": "white",
           "zerolinewidth": 2
          }
         }
        },
        "updatemenus": [
         {
          "buttons": [
           {
            "args": [
             null,
             {
              "frame": {
               "duration": 500,
               "redraw": true
              },
              "fromcurrent": true,
              "mode": "immediate",
              "transition": {
               "duration": 500,
               "easing": "linear"
              }
             }
            ],
            "label": "&#9654;",
            "method": "animate"
           },
           {
            "args": [
             [
              null
             ],
             {
              "frame": {
               "duration": 0,
               "redraw": true
              },
              "fromcurrent": true,
              "mode": "immediate",
              "transition": {
               "duration": 0,
               "easing": "linear"
              }
             }
            ],
            "label": "&#9724;",
            "method": "animate"
           }
          ],
          "direction": "left",
          "pad": {
           "r": 10,
           "t": 70
          },
          "showactive": false,
          "type": "buttons",
          "x": 0.1,
          "xanchor": "right",
          "y": 0,
          "yanchor": "top"
         }
        ],
        "xaxis": {
         "anchor": "y",
         "domain": [
          0,
          1
         ]
        },
        "yaxis": {
         "anchor": "x",
         "domain": [
          0,
          1
         ]
        }
       }
      }
     },
     "metadata": {},
     "output_type": "display_data"
    }
   ],
   "source": [
    "import gymnasium as gym\n",
    "import plotly.express as px\n",
    "from src.visualization import render_minigrid_observations, render_minigrid_observation\n",
    "\n",
    "from minigrid.core.constants import IDX_TO_OBJECT\n",
    "import numpy as np\n",
    "import torch\n",
    "\n",
    "def find_agent(observation):\n",
    "    height = observation.shape[0]\n",
    "    width = observation.shape[1]\n",
    "    for i in range(width):\n",
    "        for j in range(height):\n",
    "            object = IDX_TO_OBJECT[int(observation[j,i][0])]\n",
    "            if object == 'agent':\n",
    "                return j, i\n",
    "    #raise Exception(\"Agent not found\")\n",
    "    return 0,0\n",
    "\n",
    "def render_minigrid_observation(env, observation):\n",
    "    if isinstance(observation, np.ndarray):\n",
    "        observation = observation.copy() # so we don't edit the original object\n",
    "    elif isinstance(observation, torch.Tensor):\n",
    "        observation = observation.numpy().copy()\n",
    "\n",
    "    agent_pos = find_agent(observation)\n",
    "    agent_dir = observation[agent_pos[0], agent_pos[1]][2]\n",
    "\n",
    "    observation[agent_pos[0], agent_pos[1]] = [0,0,0]\n",
    "\n",
    "    grid, _ = env.grid.decode(observation.astype(np.uint8))\n",
    "    \n",
    "    i = agent_pos[0]\n",
    "    j = agent_pos[1]\n",
    "    \n",
    "    return grid.render(32, (i,j), agent_dir=agent_dir)\n",
    "\n",
    "def render_minigrid_observations(env, observations):\n",
    "    return np.array([render_minigrid_observation(env, observation) for observation in observations])\n",
    "\n",
    "\n",
    "metadata = trajectory_data_set.metadata\n",
    "env = gym.make(metadata['args']['env_id'], render_mode = 'rgb_array')\n",
    "print(metadata['args']['env_id'])\n",
    "_, _ = env.reset()\n",
    "\n",
    "from minigrid.core.actions import Actions\n",
    "\n",
    "event = 4\n",
    "# print([Actions(int(i)) for i in a[event][mask[event].to(t.bool)]])\n",
    "# print(r[event][mask[event].to(t.bool)])\n",
    "# print(rtg[event][t.tensor([0])+mask[event].to(t.bool)])\n",
    "imgs = render_minigrid_observations(env, s[event][mask[event].to(t.bool)])\n",
    "fig = px.imshow(imgs, animation_frame=0)\n",
    "fig.show()"
   ]
  },
  {
   "attachments": {},
   "cell_type": "markdown",
   "metadata": {},
   "source": [
    "We can see that the actions/states/rewards are now indexed so that action[0] is taken after state[0] and generates reward[0]. ie: SAR, SAR, SAR"
   ]
  },
  {
   "cell_type": "code",
   "execution_count": null,
   "metadata": {},
   "outputs": [],
   "source": []
  },
  {
   "attachments": {},
   "cell_type": "markdown",
   "metadata": {},
   "source": [
    "# A Training Loop\n",
    "\n",
    "To get a training loop working, we need the following:\n",
    "- the ability to do a forward pass with our decision tranformer on the data. \n",
    "- a written training loop\n",
    "\n",
    "In terms of training details we'll use the original methods from the decision transformer paper. This means:\n",
    "- train on all trajectories\n",
    "- batch size of 64, \n",
    "- 128 embed dim \n",
    "- 3 layers\n",
    "- 1 head\n",
    "- relu activation\n",
    "- 0.1 dropout\n",
    "- 0.0001 learning rate\n",
    "- weight decay\n",
    "- max length 0f 1000?\n",
    "\n",
    "I'll probably never both adding layer norm in though they likely have it.\n",
    "\n",
    "Once we have a working model, we will make the following adjustments:\n",
    "- less layers \n",
    "- more heads\n",
    "- no dropout\n",
    "\n",
    "Another good thing to do might be to be able to init our data loader off of the downloadable trajectories. It shouldn't be too hard to do this. \n"
   ]
  },
  {
   "cell_type": "code",
   "execution_count": 172,
   "metadata": {},
   "outputs": [
    {
     "name": "stdout",
     "output_type": "stream",
     "text": [
      "{'args': {'exp_name': 'MiniGrid-DoorKey-8x8-v0', 'seed': 1, 'cuda': False, 'track': True, 'wandb_project_name': 'PPO-MiniGrid', 'wandb_entity': None, 'capture_video': True, 'env_id': 'MiniGrid-DoorKey-8x8-v0', 'total_timesteps': 1000000, 'learning_rate': 0.00025, 'num_envs': 4, 'num_steps': 128, 'gamma': 0.99, 'gae_lambda': 0.95, 'num_minibatches': 4, 'update_epochs': 4, 'clip_coef': 0.2, 'ent_coef': 0.01, 'vf_coef': 0.5, 'max_grad_norm': 0.5, 'max_steps': 1000, 'trajectory_path': 'trajectories/MiniGrid-DoorKey-8x8-v0.pkl', 'fully_observed': False}, 'time': 1672685622.659515}\n"
     ]
    }
   ],
   "source": [
    "import numpy as np\n",
    "import torch as t \n",
    "\n",
    "from src.offline_dataset import TrajectoryLoader\n",
    "\n",
    "\n",
    "path = \"/Users/josephbloom/GithubRepositories/DecisionTransformerInterpretability/trajectories/MiniGrid-DoorKey-8x8-v0.pkl\"\n",
    "trajectory_data_set = TrajectoryLoader(path, pct_traj=0.1, device=\"cpu\")\n",
    "s, a, r, d, rtg, timesteps, mask = trajectory_data_set.get_batch(32, max_len=20)\n",
    "a[a==-10] = 6"
   ]
  },
  {
   "cell_type": "code",
   "execution_count": 173,
   "metadata": {},
   "outputs": [],
   "source": [
    "def seed_everything(seed: int):\n",
    "    import random, os\n",
    "    import numpy as np\n",
    "    import torch\n",
    "    \n",
    "    random.seed(seed)\n",
    "    os.environ['PYTHONHASHSEED'] = str(seed)\n",
    "    np.random.seed(seed)\n",
    "    torch.manual_seed(seed)\n",
    "    torch.cuda.manual_seed(seed)\n",
    "    torch.backends.cudnn.deterministic = True\n",
    "    torch.backends.cudnn.benchmark = True\n",
    "    \n",
    "seed_everything(42)"
   ]
  },
  {
   "cell_type": "code",
   "execution_count": 175,
   "metadata": {},
   "outputs": [
    {
     "name": "stdout",
     "output_type": "stream",
     "text": [
      "------\n",
      "------\n",
      "------\n",
      "------\n",
      "------\n",
      "------\n",
      "------\n",
      "------\n",
      "------\n",
      "------\n",
      "------\n",
      "------\n",
      "------\n",
      "------\n",
      "------\n",
      "------\n",
      "------\n"
     ]
    },
    {
     "ename": "KeyboardInterrupt",
     "evalue": "",
     "output_type": "error",
     "traceback": [
      "\u001b[0;31m---------------------------------------------------------------------------\u001b[0m",
      "\u001b[0;31mKeyboardInterrupt\u001b[0m                         Traceback (most recent call last)",
      "Cell \u001b[0;32mIn[175], line 29\u001b[0m\n\u001b[1;32m     21\u001b[0m dt \u001b[39m=\u001b[39m DecisionTransformer(\n\u001b[1;32m     22\u001b[0m env \u001b[39m=\u001b[39m env, \n\u001b[1;32m     23\u001b[0m state_embedding_type\u001b[39m=\u001b[39m\u001b[39m\"\u001b[39m\u001b[39mgrid\u001b[39m\u001b[39m\"\u001b[39m,\n\u001b[1;32m     24\u001b[0m max_game_length\u001b[39m=\u001b[39m\u001b[39m100\u001b[39m)\n\u001b[1;32m     26\u001b[0m dt\u001b[39m.\u001b[39meval()\n\u001b[0;32m---> 29\u001b[0m s, a, r, d, rtg, timesteps, mask \u001b[39m=\u001b[39m trajectory_data_set\u001b[39m.\u001b[39;49mget_batch(\u001b[39m32\u001b[39;49m, max_len\u001b[39m=\u001b[39;49m\u001b[39m20\u001b[39;49m)\n\u001b[1;32m     30\u001b[0m a[a\u001b[39m==\u001b[39m\u001b[39m-\u001b[39m\u001b[39m10\u001b[39m] \u001b[39m=\u001b[39m \u001b[39m6\u001b[39m\n\u001b[1;32m     32\u001b[0m \u001b[39mwith\u001b[39;00m t\u001b[39m.\u001b[39minference_mode():\n",
      "File \u001b[0;32m~/GithubRepositories/DecisionTransformerInterpretability/src/offline_dataset.py:106\u001b[0m, in \u001b[0;36mTrajectoryLoader.get_batch\u001b[0;34m(self, batch_size, max_len)\u001b[0m\n\u001b[1;32m    104\u001b[0m p_sample \u001b[39m=\u001b[39m \u001b[39mself\u001b[39m\u001b[39m.\u001b[39mget_sampling_probabilities()\n\u001b[1;32m    105\u001b[0m sorted_inds \u001b[39m=\u001b[39m \u001b[39mself\u001b[39m\u001b[39m.\u001b[39mget_indices_of_top_p_trajectories(\u001b[39mself\u001b[39m\u001b[39m.\u001b[39mpct_traj)\n\u001b[0;32m--> 106\u001b[0m state_mean, state_std \u001b[39m=\u001b[39m \u001b[39mself\u001b[39;49m\u001b[39m.\u001b[39;49mget_state_mean_std()\n\u001b[1;32m    108\u001b[0m batch_inds \u001b[39m=\u001b[39m np\u001b[39m.\u001b[39mrandom\u001b[39m.\u001b[39mchoice(\n\u001b[1;32m    109\u001b[0m     np\u001b[39m.\u001b[39marange(\u001b[39mlen\u001b[39m(sorted_inds)),\n\u001b[1;32m    110\u001b[0m     size\u001b[39m=\u001b[39mbatch_size,\n\u001b[1;32m    111\u001b[0m     replace\u001b[39m=\u001b[39m\u001b[39mTrue\u001b[39;00m,\n\u001b[1;32m    112\u001b[0m     p\u001b[39m=\u001b[39mp_sample,  \u001b[39m# reweights so we sample according to timesteps\u001b[39;00m\n\u001b[1;32m    113\u001b[0m )\n\u001b[1;32m    115\u001b[0m \u001b[39m# initialize lists\u001b[39;00m\n",
      "File \u001b[0;32m~/GithubRepositories/DecisionTransformerInterpretability/src/offline_dataset.py:91\u001b[0m, in \u001b[0;36mTrajectoryLoader.get_state_mean_std\u001b[0;34m(self)\u001b[0m\n\u001b[1;32m     88\u001b[0m \u001b[39mdef\u001b[39;00m \u001b[39mget_state_mean_std\u001b[39m(\u001b[39mself\u001b[39m):\n\u001b[1;32m     89\u001b[0m     \u001b[39m# used for input normalization\u001b[39;00m\n\u001b[1;32m     90\u001b[0m     all_states \u001b[39m=\u001b[39m np\u001b[39m.\u001b[39mconcatenate(\u001b[39mself\u001b[39m\u001b[39m.\u001b[39mstates, axis\u001b[39m=\u001b[39m\u001b[39m0\u001b[39m)\n\u001b[0;32m---> 91\u001b[0m     state_mean, state_std \u001b[39m=\u001b[39m np\u001b[39m.\u001b[39mmean(all_states, axis\u001b[39m=\u001b[39m\u001b[39m0\u001b[39m), np\u001b[39m.\u001b[39;49mstd(all_states, axis\u001b[39m=\u001b[39;49m\u001b[39m0\u001b[39;49m) \u001b[39m+\u001b[39m \u001b[39m1e-6\u001b[39m\n\u001b[1;32m     92\u001b[0m     \u001b[39mreturn\u001b[39;00m state_mean, state_std\n",
      "File \u001b[0;32m<__array_function__ internals>:180\u001b[0m, in \u001b[0;36mstd\u001b[0;34m(*args, **kwargs)\u001b[0m\n",
      "File \u001b[0;32m~/miniforge3/envs/decision_transformer_interpretability/lib/python3.9/site-packages/numpy/core/fromnumeric.py:3573\u001b[0m, in \u001b[0;36mstd\u001b[0;34m(a, axis, dtype, out, ddof, keepdims, where)\u001b[0m\n\u001b[1;32m   3570\u001b[0m     \u001b[39melse\u001b[39;00m:\n\u001b[1;32m   3571\u001b[0m         \u001b[39mreturn\u001b[39;00m std(axis\u001b[39m=\u001b[39maxis, dtype\u001b[39m=\u001b[39mdtype, out\u001b[39m=\u001b[39mout, ddof\u001b[39m=\u001b[39mddof, \u001b[39m*\u001b[39m\u001b[39m*\u001b[39mkwargs)\n\u001b[0;32m-> 3573\u001b[0m \u001b[39mreturn\u001b[39;00m _methods\u001b[39m.\u001b[39;49m_std(a, axis\u001b[39m=\u001b[39;49maxis, dtype\u001b[39m=\u001b[39;49mdtype, out\u001b[39m=\u001b[39;49mout, ddof\u001b[39m=\u001b[39;49mddof,\n\u001b[1;32m   3574\u001b[0m                      \u001b[39m*\u001b[39;49m\u001b[39m*\u001b[39;49mkwargs)\n",
      "File \u001b[0;32m~/miniforge3/envs/decision_transformer_interpretability/lib/python3.9/site-packages/numpy/core/_methods.py:265\u001b[0m, in \u001b[0;36m_std\u001b[0;34m(a, axis, dtype, out, ddof, keepdims, where)\u001b[0m\n\u001b[1;32m    263\u001b[0m \u001b[39mdef\u001b[39;00m \u001b[39m_std\u001b[39m(a, axis\u001b[39m=\u001b[39m\u001b[39mNone\u001b[39;00m, dtype\u001b[39m=\u001b[39m\u001b[39mNone\u001b[39;00m, out\u001b[39m=\u001b[39m\u001b[39mNone\u001b[39;00m, ddof\u001b[39m=\u001b[39m\u001b[39m0\u001b[39m, keepdims\u001b[39m=\u001b[39m\u001b[39mFalse\u001b[39;00m, \u001b[39m*\u001b[39m,\n\u001b[1;32m    264\u001b[0m          where\u001b[39m=\u001b[39m\u001b[39mTrue\u001b[39;00m):\n\u001b[0;32m--> 265\u001b[0m     ret \u001b[39m=\u001b[39m _var(a, axis\u001b[39m=\u001b[39;49maxis, dtype\u001b[39m=\u001b[39;49mdtype, out\u001b[39m=\u001b[39;49mout, ddof\u001b[39m=\u001b[39;49mddof,\n\u001b[1;32m    266\u001b[0m                keepdims\u001b[39m=\u001b[39;49mkeepdims, where\u001b[39m=\u001b[39;49mwhere)\n\u001b[1;32m    268\u001b[0m     \u001b[39mif\u001b[39;00m \u001b[39misinstance\u001b[39m(ret, mu\u001b[39m.\u001b[39mndarray):\n\u001b[1;32m    269\u001b[0m         ret \u001b[39m=\u001b[39m um\u001b[39m.\u001b[39msqrt(ret, out\u001b[39m=\u001b[39mret)\n",
      "File \u001b[0;32m~/miniforge3/envs/decision_transformer_interpretability/lib/python3.9/site-packages/numpy/core/_methods.py:236\u001b[0m, in \u001b[0;36m_var\u001b[0;34m(a, axis, dtype, out, ddof, keepdims, where)\u001b[0m\n\u001b[1;32m    233\u001b[0m x \u001b[39m=\u001b[39m asanyarray(arr \u001b[39m-\u001b[39m arrmean)\n\u001b[1;32m    235\u001b[0m \u001b[39mif\u001b[39;00m \u001b[39missubclass\u001b[39m(arr\u001b[39m.\u001b[39mdtype\u001b[39m.\u001b[39mtype, (nt\u001b[39m.\u001b[39mfloating, nt\u001b[39m.\u001b[39minteger)):\n\u001b[0;32m--> 236\u001b[0m     x \u001b[39m=\u001b[39m um\u001b[39m.\u001b[39;49mmultiply(x, x, out\u001b[39m=\u001b[39;49mx)\n\u001b[1;32m    237\u001b[0m \u001b[39m# Fast-paths for built-in complex types\u001b[39;00m\n\u001b[1;32m    238\u001b[0m \u001b[39melif\u001b[39;00m x\u001b[39m.\u001b[39mdtype \u001b[39min\u001b[39;00m _complex_to_float:\n",
      "\u001b[0;31mKeyboardInterrupt\u001b[0m: "
     ]
    }
   ],
   "source": [
    "from src.ppo.utils import make_env\n",
    "from src.decision_transformer import DecisionTransformer\n",
    "\n",
    "env_id = trajectory_data_set.metadata['args']['env_id']\n",
    "env = make_env(env_id, seed = 0, idx = 0, capture_video=False, run_name = \"dev\", fully_observed=False)\n",
    "env = env()\n",
    "\n",
    "import torch as t\n",
    "\n",
    "\n",
    "dt = DecisionTransformer(\n",
    "    env = env, \n",
    "    state_embedding_type=\"grid\",\n",
    "    max_game_length=100)\n",
    "\n",
    "dt.eval()\n",
    "\n",
    "for i in range(20):\n",
    "    seed_everything(i)\n",
    "\n",
    "    dt = DecisionTransformer(\n",
    "    env = env, \n",
    "    state_embedding_type=\"grid\",\n",
    "    max_game_length=100)\n",
    "\n",
    "    dt.eval()\n",
    "\n",
    "\n",
    "    s, a, r, d, rtg, timesteps, mask = trajectory_data_set.get_batch(32, max_len=20)\n",
    "    a[a==-10] = 6\n",
    "\n",
    "    with t.inference_mode():\n",
    "        logits, loss = dt.forward(\n",
    "            states = s,\n",
    "            actions = a.to(t.int32).unsqueeze(-1),\n",
    "            rtgs = rtg[:,:-1,:],\n",
    "            timesteps = timesteps.unsqueeze(-1)\n",
    "        )\n",
    "        # print(logits[0][0][0])\n",
    "        if t.isnan(logits[0][0][0]):\n",
    "            print(i)\n",
    "            break\n",
    "\n",
    "    print(\"------\")"
   ]
  },
  {
   "cell_type": "code",
   "execution_count": 50,
   "metadata": {},
   "outputs": [
    {
     "data": {
      "text/plain": [
       "tensor(-0.3014, grad_fn=<SelectBackward0>)"
      ]
     },
     "execution_count": 50,
     "metadata": {},
     "output_type": "execute_result"
    }
   ],
   "source": []
  },
  {
   "cell_type": "code",
   "execution_count": 56,
   "metadata": {},
   "outputs": [
    {
     "name": "stdout",
     "output_type": "stream",
     "text": [
      "torch.Size([10, 10, 7])\n",
      "torch.Size([10, 10])\n",
      "torch.Size([100, 7])\n",
      "torch.Size([100])\n",
      "torch.int64\n"
     ]
    },
    {
     "data": {
      "text/plain": [
       "tensor(1.8471, grad_fn=<NllLossBackward0>)"
      ]
     },
     "execution_count": 56,
     "metadata": {},
     "output_type": "execute_result"
    }
   ],
   "source": [
    "import torch.nn as nn \n",
    "\n",
    "logits, loss = dt.forward(\n",
    "    states = s,\n",
    "    actions = a.to(t.int32).unsqueeze(-1),\n",
    "    rtgs = rtg[:,:-1,:],\n",
    "    timesteps = timesteps.unsqueeze(-1)\n",
    ")\n",
    "logits[0,0,0]\n",
    "\n",
    "loss_fn = nn.CrossEntropyLoss()\n",
    "\n",
    "logits = rearrange(logits, 'b t a -> (b t) a')\n",
    "a_exp = rearrange(a, 'b t -> (b t)').to(t.int64)\n",
    "\n",
    "loss_fn(logits, a_exp)"
   ]
  },
  {
   "cell_type": "code",
   "execution_count": 44,
   "metadata": {},
   "outputs": [
    {
     "data": {
      "text/plain": [
       "torch.Size([10, 10, 7])"
      ]
     },
     "execution_count": 44,
     "metadata": {},
     "output_type": "execute_result"
    }
   ],
   "source": [
    "from einops import rearrange\n",
    "logits.shape"
   ]
  },
  {
   "cell_type": "code",
   "execution_count": 45,
   "metadata": {},
   "outputs": [
    {
     "data": {
      "text/plain": [
       "torch.Size([100, 7])"
      ]
     },
     "execution_count": 45,
     "metadata": {},
     "output_type": "execute_result"
    }
   ],
   "source": [
    "rearrange(logits, 'b t a -> (b t) a').shape"
   ]
  },
  {
   "cell_type": "code",
   "execution_count": 188,
   "metadata": {},
   "outputs": [
    {
     "name": "stderr",
     "output_type": "stream",
     "text": [
      "Training DT: 0.0439: 100%|██████████| 1000/1000 [12:22<00:00,  1.35it/s]\n"
     ]
    }
   ],
   "source": [
    "# write a training loop for the decision transformer\n",
    "\n",
    "import torch as t\n",
    "from tqdm import tqdm\n",
    "from src.ppo.utils import make_env\n",
    "from src.decision_transformer import DecisionTransformer\n",
    "from src.offline_dataset import TrajectoryLoader\n",
    "\n",
    "\n",
    "def train(batch_size = 128, max_len = 20, batches = 1000, lr = 0.0001, device = \"cpu\"):\n",
    "\n",
    "    loss_fn = nn.CrossEntropyLoss()\n",
    "\n",
    "    env_id = trajectory_data_set.metadata['args']['env_id']\n",
    "    env = make_env(env_id, seed = 0, idx = 0, capture_video=False, run_name = \"dev\", fully_observed=False)\n",
    "    env = env()\n",
    "\n",
    "    dt = DecisionTransformer(\n",
    "        env = env, \n",
    "        state_embedding_type=\"grid\",\n",
    "        max_game_length=100)\n",
    "\n",
    "    dt  = dt.to(device)\n",
    "\n",
    "    dt.train()\n",
    "\n",
    "    optimizer = t.optim.Adam(dt.parameters(), lr=lr)\n",
    "\n",
    "    pbar = tqdm(range(batches), desc=\"Training DT\")\n",
    "    for i in pbar:\n",
    "\n",
    "        s, a, r, d, rtg, timesteps, mask = trajectory_data_set.get_batch(batch_size, max_len=max_len)\n",
    "\n",
    "        s.to(device)\n",
    "        a.to(device)\n",
    "        r.to(device)\n",
    "        d.to(device)\n",
    "        rtg.to(device)\n",
    "        timesteps.to(device)\n",
    "        mask.to(device)\n",
    "\n",
    "        a[a==-10] = 6\n",
    "    \n",
    "        optimizer.zero_grad()\n",
    "\n",
    "        logits, _ = dt.forward(\n",
    "            states = s,\n",
    "            actions = a.to(t.int32).unsqueeze(-1),\n",
    "            rtgs = rtg[:,:-1,:],\n",
    "            timesteps = timesteps.unsqueeze(-1)\n",
    "        )\n",
    "\n",
    "        logits = rearrange(logits, 'b t a -> (b t) a')\n",
    "        a_exp = rearrange(a, 'b t -> (b t)').to(t.int64)\n",
    "        \n",
    "        loss = loss_fn(logits, a_exp)\n",
    "\n",
    "        loss.backward()\n",
    "        optimizer.step()\n",
    "\n",
    "        pbar.set_description(f\"Training DT: {loss.item():.4f}\")\n",
    "\n",
    "    return dt\n",
    "\n",
    "dt = train()"
   ]
  },
  {
   "cell_type": "code",
   "execution_count": 228,
   "metadata": {},
   "outputs": [
    {
     "name": "stdout",
     "output_type": "stream",
     "text": [
      "taking action:  6\n",
      "reward:  0\n"
     ]
    },
    {
     "name": "stderr",
     "output_type": "stream",
     "text": [
      "/Users/josephbloom/miniforge3/envs/decision_transformer_interpretability/lib/python3.9/site-packages/plotly/io/_renderers.py:395: DeprecationWarning:\n",
      "\n",
      "distutils Version classes are deprecated. Use packaging.version instead.\n",
      "\n",
      "/Users/josephbloom/miniforge3/envs/decision_transformer_interpretability/lib/python3.9/site-packages/plotly/io/_renderers.py:395: DeprecationWarning:\n",
      "\n",
      "distutils Version classes are deprecated. Use packaging.version instead.\n",
      "\n"
     ]
    },
    {
     "data": {
      "application/vnd.plotly.v1+json": {
       "config": {
        "plotlyServerURL": "https://plot.ly"
       },
       "data": [
        {
         "hovertemplate": "x: %{x}<br>y: %{y}<br>color: %{z}<extra></extra>",
         "name": "0",
         "source": "data:image/png;base64,iVBORw0KGgoAAAANSUhEUgAAAQAAAAEACAIAAADTED8xAAAFh0lEQVR4Xu3dP1JTexjH4Td37g6gJLbaWYvWtqahtcIFgKuwAGZsYQW6AxeAtS7BsA9ugZr4uxgQzz/4Ps9YZF7gTMbkk985meSc2fv374vf+/r1azviAfmnHUASARBNAEQTANEEQDQBEE0ARBMA0QRANAEQTQBEEwDRBEA0ARBNAEQTANEEQDQBEE0ARBMA0QRANAEQTQBEEwDRBEA0ARBNAEQTANEEQDQBEE0ARBMA0f5tBz349OlTO+rOy5cv21HXzs7O2lF39vf3bX+D/f39dtQpKwDRBEC0aQWwVbXVzqBH0wpgUbVoZ9CjaQXwoupFO4MeTSiAV1XbVdtVr9qfQF8mFMDP136LAIOZSgCPq578uP2k6vH6z6A3UwmgedW3CDCMSQSw9b83fxbeD2UQkwjg2tf7a4fQrUkEsGgHVb8ZQrfGD+Bx1XY7q6radihM/8YPYNEOVhbtADo2cgBbG/f1XzgUpmcjB7BoB61FO4AujRzAhpf/Kzf+AvyNMQN4/pvD33XbVc/bGXRmzAAW7eB6i3YAnRktgPUP/2zmo0H0Z7QA/mjn/o9+GW5vtAAW7WCTRTuAbowTwB2+8nKHP4EbjRPAHXZp7vAncKMRArj94e86h8L0YYQAFu3gthbtAP7WEKdGbLyretfOYBwjrAAwHQIgmgCINuv79NMwZUMcBN/r88dX//ff9jfo+/G1C0Q0ARBNAEQTANEEQDQBEE0ARBMA0QRANAEQTQBEEwDRBEA0ARBNAEQTANEEQDQBEE0ARBMA0QRANAEQTQBEEwDRBEA0ARBNAEQTANEEQDQBEM31AYjm+gA36/v+2/4GfT++doGINqEAdnbq6KguL7//+/atjo5qZ6f9NejQVALY26vz8zo8XE3m8zo8rPNzDdCjSQRw9do/n7fzqprP6/y8HUJXJhHAwcH1z/4r83kdHLRD6MQkAljf8zk+rtmsZrP6+HE13Ntb3YYOTSKAdW/ffr+xXsWzZ6vb0KHJBQBDmlwAHz5UVe3s1PHxavj58+o2dGgSAaw/1/f26vKylstf9vvXjwegQ5MI4OSklst2+NNyWScn7RA6MYkALi5qd/f6BpbL2t1th9CVSQRQPxpY3xeqqsPDevSoLi5+GUKHphJAVV1crN4DvWLPh75NKAAYngCIJgCiDfGNsBtdXrYTGIYVgGiTWAFms9VtqwFDsgIQTQBEEwDRBEC0SRwEO/BlLFYAok1iBVh/GxSGZAUgmgCIJgCi3fvrA5ye9nhu7qp68+Z+//+w2RAHwb2eP/70tJ10rtf7P8D59e/79ttRp4YIYADNdyk7cXTUTnh4HAMQTQBEEwDRBEA0ARBNAEQTANEEQDQBEE0ARBMA0QRANAEQ7YF8GvT2nj6t16/bYfXzeVKmzwpAtLgV4MsXL/asWAGIJgCiCYBoAiCaAIgmAKIJgGgCIJoAiCYAogmAaA/ks0DO48ndWAGIdu+vDwB/Y4hdoHt9/vjq//7b/gZ9P752gYgmAKIJgGgCIJoAiCYAogmAaAIgmgCIJgCiCYBoAiCaAIgmAKIJgGgCIJoAiCYAogmAaAIgmgCIJgCiCYBoAiCaAIgmAKIJgGgCIJoAiCYAork+AH/l7LTHc6NX1f6bfp+frg9ws77v/73efp22g/vFLhDRBEA0ARBNAEQTANEEQDQBEE0ARBMA0QRANAEQTQBEEwDRBEA0ARBNAEQTANEEQDQBEE0ARBMA0QRANAEQTQBEEwDRBEA0ARBNAEQTANEEQDTXByCaFYBoAiCaAIgmAKIJgGgCIJoAiCYAogmAaAIgmgCIJgCiCYBoAiCaAIgmAKIJgGgCIJoAiCYAogmAaAIgmgCIJgCiCYBoAiCaAIgmAKIJgGgCIJoAiPYfCnTD83uhvP8AAAAASUVORK5CYII=",
         "type": "image",
         "xaxis": "x",
         "yaxis": "y"
        }
       ],
       "frames": [
        {
         "data": [
          {
           "name": "0",
           "source": "data:image/png;base64,iVBORw0KGgoAAAANSUhEUgAAAQAAAAEACAIAAADTED8xAAAFh0lEQVR4Xu3dP1JTexjH4Td37g6gJLbaWYvWtqahtcIFgKuwAGZsYQW6AxeAtS7BsA9ugZr4uxgQzz/4Ps9YZF7gTMbkk985meSc2fv374vf+/r1azviAfmnHUASARBNAEQTANEEQDQBEE0ARBMA0QRANAEQTQBEEwDRBEA0ARBNAEQTANEEQDQBEE0ARBMA0QRANAEQTQBEEwDRBEA0ARBNAEQTANEEQDQBEE0ARBMA0f5tBz349OlTO+rOy5cv21HXzs7O2lF39vf3bX+D/f39dtQpKwDRBEC0aQWwVbXVzqBH0wpgUbVoZ9CjaQXwoupFO4MeTSiAV1XbVdtVr9qfQF8mFMDP136LAIOZSgCPq578uP2k6vH6z6A3UwmgedW3CDCMSQSw9b83fxbeD2UQkwjg2tf7a4fQrUkEsGgHVb8ZQrfGD+Bx1XY7q6radihM/8YPYNEOVhbtADo2cgBbG/f1XzgUpmcjB7BoB61FO4AujRzAhpf/Kzf+AvyNMQN4/pvD33XbVc/bGXRmzAAW7eB6i3YAnRktgPUP/2zmo0H0Z7QA/mjn/o9+GW5vtAAW7WCTRTuAbowTwB2+8nKHP4EbjRPAHXZp7vAncKMRArj94e86h8L0YYQAFu3gthbtAP7WEKdGbLyretfOYBwjrAAwHQIgmgCINuv79NMwZUMcBN/r88dX//ff9jfo+/G1C0Q0ARBNAEQTANEEQDQBEE0ARBMA0QRANAEQTQBEEwDRBEA0ARBNAEQTANEEQDQBEE0ARBMA0QRANAEQTQBEEwDRBEA0ARBNAEQTANEEQDQBEM31AYjm+gA36/v+2/4GfT++doGINqEAdnbq6KguL7//+/atjo5qZ6f9NejQVALY26vz8zo8XE3m8zo8rPNzDdCjSQRw9do/n7fzqprP6/y8HUJXJhHAwcH1z/4r83kdHLRD6MQkAljf8zk+rtmsZrP6+HE13Ntb3YYOTSKAdW/ffr+xXsWzZ6vb0KHJBQBDmlwAHz5UVe3s1PHxavj58+o2dGgSAaw/1/f26vKylstf9vvXjwegQ5MI4OSklst2+NNyWScn7RA6MYkALi5qd/f6BpbL2t1th9CVSQRQPxpY3xeqqsPDevSoLi5+GUKHphJAVV1crN4DvWLPh75NKAAYngCIJgCiDfGNsBtdXrYTGIYVgGiTWAFms9VtqwFDsgIQTQBEEwDRBEC0SRwEO/BlLFYAok1iBVh/GxSGZAUgmgCIJgCi3fvrA5ye9nhu7qp68+Z+//+w2RAHwb2eP/70tJ10rtf7P8D59e/79ttRp4YIYADNdyk7cXTUTnh4HAMQTQBEEwDRBEA0ARBNAEQTANEEQDQBEE0ARBMA0QRANAEQ7YF8GvT2nj6t16/bYfXzeVKmzwpAtLgV4MsXL/asWAGIJgCiCYBoAiCaAIgmAKIJgGgCIJoAiCYAogmAaA/ks0DO48ndWAGIdu+vDwB/Y4hdoHt9/vjq//7b/gZ9P752gYgmAKIJgGgCIJoAiCYAogmAaAIgmgCIJgCiCYBoAiCaAIgmAKIJgGgCIJoAiCYAogmAaAIgmgCIJgCiCYBoAiCaAIgmAKIJgGgCIJoAiCYAork+AH/l7LTHc6NX1f6bfp+frg9ws77v/73efp22g/vFLhDRBEA0ARBNAEQTANEEQDQBEE0ARBMA0QRANAEQTQBEEwDRBEA0ARBNAEQTANEEQDQBEE0ARBMA0QRANAEQTQBEEwDRBEA0ARBNAEQTANEEQDTXByCaFYBoAiCaAIgmAKIJgGgCIJoAiCYAogmAaAIgmgCIJgCiCYBoAiCaAIgmAKIJgGgCIJoAiCYAogmAaAIgmgCIJgCiCYBoAiCaAIgmAKIJgGgCIJoAiPYfCnTD83uhvP8AAAAASUVORK5CYII=",
           "type": "image"
          }
         ],
         "layout": {
          "margin": {
           "t": 60
          }
         },
         "name": "0"
        },
        {
         "data": [
          {
           "name": "1",
           "source": "data:image/png;base64,iVBORw0KGgoAAAANSUhEUgAAAQAAAAEACAIAAADTED8xAAAFh0lEQVR4Xu3dP1JTexjH4Td37g6gJLbaWYvWtqahtcIFgKuwAGZsYQW6AxeAtS7BsA9ugZr4uxgQzz/4Ps9YZF7gTMbkk985meSc2fv374vf+/r1azviAfmnHUASARBNAEQTANEEQDQBEE0ARBMA0QRANAEQTQBEEwDRBEA0ARBNAEQTANEEQDQBEE0ARBMA0QRANAEQTQBEEwDRBEA0ARBNAEQTANEEQDQBEE0ARBMA0f5tBz349OlTO+rOy5cv21HXzs7O2lF39vf3bX+D/f39dtQpKwDRBEC0aQWwVbXVzqBH0wpgUbVoZ9CjaQXwoupFO4MeTSiAV1XbVdtVr9qfQF8mFMDP136LAIOZSgCPq578uP2k6vH6z6A3UwmgedW3CDCMSQSw9b83fxbeD2UQkwjg2tf7a4fQrUkEsGgHVb8ZQrfGD+Bx1XY7q6radihM/8YPYNEOVhbtADo2cgBbG/f1XzgUpmcjB7BoB61FO4AujRzAhpf/Kzf+AvyNMQN4/pvD33XbVc/bGXRmzAAW7eB6i3YAnRktgPUP/2zmo0H0Z7QA/mjn/o9+GW5vtAAW7WCTRTuAbowTwB2+8nKHP4EbjRPAHXZp7vAncKMRArj94e86h8L0YYQAFu3gthbtAP7WEKdGbLyretfOYBwjrAAwHQIgmgCINuv79NMwZUMcBN/r88dX//ff9jfo+/G1C0Q0ARBNAEQTANEEQDQBEE0ARBMA0QRANAEQTQBEEwDRBEA0ARBNAEQTANEEQDQBEE0ARBMA0QRANAEQTQBEEwDRBEA0ARBNAEQTANEEQDQBEM31AYjm+gA36/v+2/4GfT++doGINqEAdnbq6KguL7//+/atjo5qZ6f9NejQVALY26vz8zo8XE3m8zo8rPNzDdCjSQRw9do/n7fzqprP6/y8HUJXJhHAwcH1z/4r83kdHLRD6MQkAljf8zk+rtmsZrP6+HE13Ntb3YYOTSKAdW/ffr+xXsWzZ6vb0KHJBQBDmlwAHz5UVe3s1PHxavj58+o2dGgSAaw/1/f26vKylstf9vvXjwegQ5MI4OSklst2+NNyWScn7RA6MYkALi5qd/f6BpbL2t1th9CVSQRQPxpY3xeqqsPDevSoLi5+GUKHphJAVV1crN4DvWLPh75NKAAYngCIJgCiDfGNsBtdXrYTGIYVgGiTWAFms9VtqwFDsgIQTQBEEwDRBEC0SRwEO/BlLFYAok1iBVh/GxSGZAUgmgCIJgCi3fvrA5ye9nhu7qp68+Z+//+w2RAHwb2eP/70tJ10rtf7P8D59e/79ttRp4YIYADNdyk7cXTUTnh4HAMQTQBEEwDRBEA0ARBNAEQTANEEQDQBEE0ARBMA0QRANAEQ7YF8GvT2nj6t16/bYfXzeVKmzwpAtLgV4MsXL/asWAGIJgCiCYBoAiCaAIgmAKIJgGgCIJoAiCYAogmAaA/ks0DO48ndWAGIdu+vDwB/Y4hdoHt9/vjq//7b/gZ9P752gYgmAKIJgGgCIJoAiCYAogmAaAIgmgCIJgCiCYBoAiCaAIgmAKIJgGgCIJoAiCYAogmAaAIgmgCIJgCiCYBoAiCaAIgmAKIJgGgCIJoAiCYAork+AH/l7LTHc6NX1f6bfp+frg9ws77v/73efp22g/vFLhDRBEA0ARBNAEQTANEEQDQBEE0ARBMA0QRANAEQTQBEEwDRBEA0ARBNAEQTANEEQDQBEE0ARBMA0QRANAEQTQBEEwDRBEA0ARBNAEQTANEEQDTXByCaFYBoAiCaAIgmAKIJgGgCIJoAiCYAogmAaAIgmgCIJgCiCYBoAiCaAIgmAKIJgGgCIJoAiCYAogmAaAIgmgCIJgCiCYBoAiCaAIgmAKIJgGgCIJoAiPYfCnTD83uhvP8AAAAASUVORK5CYII=",
           "type": "image"
          }
         ],
         "layout": {
          "margin": {
           "t": 60
          }
         },
         "name": "1"
        },
        {
         "data": [
          {
           "name": "2",
           "source": "data:image/png;base64,iVBORw0KGgoAAAANSUhEUgAAAQAAAAEACAIAAADTED8xAAAFZklEQVR4Xu3dMW4TaRjH4ZfV3iAutqXaVLkArijoInwFhCnTRWKvsBI3IEgcYRAdtfcCqbIVF3DusEUgzn6KAtqdGX/O/3kq8xpZkfDP33wTM/NkvV7XlE5OTtrRQbm8vGxHPCK/tANIIgCiCYBoAiCaAIgmAKIJgGgCIJoAiCYAogmAaAIgmgCIJgCiCYBoAiCaAIgmAKIJgGgCIJoAiCYAogmAaAIgmgCIJgCiCYBoAiCaAIgmAKIJgGgCINqv7WACX758aUfjefHiRTsa28XFRTsaz3q99voPmPoGLlYAogmAaAIgmgCINmsAb6t+b2ewT3OcBbq1rFpWXVVtqj61T8IezLoC3DiuWld9rnptQWDfZl0BGquqVdVV1VD1V/MczGKfAdw4rvqjalu1qRqqrtvnYUJ7OAS616JqVfXRRpl57X8FaNxslLdVQ9XGgsDEelkBGouqddVHG2Um1t0K0Fh93yg7c8oUeg/gxnHVcdXKRpmxdXoIBPM4jBXAIRAT6T2AoWpT9Xc7hnF0GoDToMyjuwButrk+8plHLwH4KgR7sf8AfBmOPdpnAIMNLvu2hwCc06QfswZgg0tvZg3gz3YAe+arEEQTANEEQDQBEE0ARHsy9eWnT05O2tFBuby8bEc8InOcBnV/gAfMcH39Q3/9djQqh0BEEwDRBEA0ARBNAEQTANEEQDQBEE0ARBMA0QRANAEQTQBEEwDRBEA0ARBNAEQTANEEQDQBEE0ARBMA0QRANAEQTQBEEwDRBEA0ARBNAEQTANHcH+AH3B/gcXN/gB+b+vr3Xv8BU39AOwQi2hwrwE86OqrVqlarb3/cbmuzqWGo6+u7fwvG1EsAz57Vel2LxW6yWNRqVctlnZ9rgKl0cQh0dNS++28tFvXuXTuEsXQRwGp1/7v/xmJRL1+2QxhFLwHcGoY6Pa3T09psdsPlcvcYRtRFAHd9+PDtwd1za8fHu8cwou4CgDl1F8Dbt1Xft8W3rq52j2FEXZwGHYbdNmC5vOeI/+5+AEbUxQowDLXdtsNb2219+tQOYRRdBHB9Xefn9zew3db5eTuEsXQRQH1vYBj+Nby4qFev/BqYCfUSQFVdX+/Ogd5w5MPUOgoA5icAogmAaF38HuDz53YC87ACEK2LFeD0dPfYasCcrABEEwDRBEA0ARCti02wjS/7YgUgWhcrwN3ToDAnKwDRBEA0ARDt4O8PcHY24bXXq+rNm9/aEY/IHJvgSe8PcHbWTkY39fXvvf4Dpv6AniOAGTT/l3IUr1+3Ex4fewCiCYBoAiCaAIgmAKIJgGgCIJoAiCYAogmAaAIgmgCIJgCiPZJvg/68p0/r+fN2WNN8n5T+WQGIFrcCfP3qw54dKwDRBEA0ARBNAEQTANEEQDQBEE0ARBMA0QRANAEQ7ZF8F8h1PPlvrABEm/z+ANCzOQ6BDvr68TX9z+/1HzD1v69DIKIJgGgCIJoAiCYAogmAaAIgmgCIJgCiCYBoAiCaAIgmAKIJgGgCIJoAiCYAogmAaAIgmgCIJgCiCYBoAiCaAIgmAKIJgGgCIJoAiCYAogmAaO4PwP9y8X7Ca6NX1frNtO9P9wf4sal//oN+/XrfDg6LQyCiCYBoAiCaAIgmAKIJgGgCIJoAiCYAogmAaAIgmgCIJgCiCYBoAiCaAIgmAKIJgGgCIJoAiCYAogmAaAIgmgCIJgCiCYBoAiCaAIgmAKIJgGjuD0A0KwDRBEA0ARBNAEQTANEEQDQBEE0ARBMA0QRANAEQTQBEEwDRBEA0ARBNAEQTANEEQDQBEE0ARBMA0QRANAEQTQBEEwDRBEA0ARBNAEQTANEEQDQBEO0fN4HoxHEaLPsAAAAASUVORK5CYII=",
           "type": "image"
          }
         ],
         "layout": {
          "margin": {
           "t": 60
          }
         },
         "name": "2"
        },
        {
         "data": [
          {
           "name": "3",
           "source": "data:image/png;base64,iVBORw0KGgoAAAANSUhEUgAAAQAAAAEACAIAAADTED8xAAAFmklEQVR4Xu3dP1JUWRjG4c8pdwDBpGZGbkAiAzLK3oJlG5JR5RqmyshUZg+XMjPGDRBh5AaaPUyg0swRu1HuP/p9nqj9Cjryd889bXvPo+VyWZDqr3YASQRANAEQTQBEEwDRBEA0ARBNAEQTANEEQDQBEE0ARBMA0QRANAEQTQBEEwDRBEA0ARBNAEQTANEEQDQBEE0ARBMA0QRANAEQTQBEEwDRBEA0ARDt8bNnz9oZN1xcXLQjdsjjdjCAT58+taP+HB4etqO+nZ6etqP+LJdL77/B0Ae4uAUimgCINsYtUONt1UE7u5Pzqn/aGdzLBCtA1w7uqmsHcF8TBPCl6rKdbXdZ9aWdwX1NEEBVnbeD7f7gV2CraQI4awfb/cGvwFbTBFC/eUPftQPox2QB/NYtzW/9MNzdZAHcfSts+8twJgug7nxj07UD6M2UAXyuWrWz1qrqczuD3kwZQN3h5n7rD8B9TBxA1w5aXTuAPk0cwNXGa/x51VU7gz5NHEBtvMZ37QB6Nn0AX36xFV759JPhTR9A/eJK37UD6N8sArh1G3DrEPo1iwCufrred7a/jGIWAdRP13uXf8YxlwBufjXIl38YzVwCqBtXfZd/RjOjAM6qVlUr//eFEU3wVIgNXPsZ2bwC6NoBDGteAfjok5HNaA8A4xMA0QRAtEfv379vZ9zgfIDdNsYm2PkAG4zwfP2H/v7tqFdugYgmAKIJgGgCIJoAiCYAogmAaAIgmgCIJgCiCYBoAiCaAIgmAKIJgGgCIJoAiCYAogmAaAIgmgCIJgCiCYBoAiCaAIgmAKIJgGgCIJoAiCYAojkfYAvnA+w25wNsN/Tz773/Bs4HgAGNsQLc0d5eLRa1WHz/42pV5+fVdXXl8FQGM5cAnj+v5bL299eT/f1aLOrgoE5ONMBQZnELtLfX/u2/tr9f7961Q+jLLAJYLG7/2//N/n69fNkOoRdzCeBa19XRUR0d1fn5enhwsH4NPZpFADf9++/3Fzc/W3v6dP0aejS7AGBMswvg7duqH9via5eX69fQo1l8DNp1623AwcEtd/w39wPQo1msAF1Xq1U7vLZa1dlZO4RezCKAq6s6Obm9gdWqTk7aIfRlFgHUjwa67n/D09N69co/AzOguQRQVVdX689Av3Hnw9BmFACMTwBEEwDRZvHvAB8/thMYhxWAaLNYAY6O1q+tBozJCkA0ARBNAEQTANFmsQm28WUqVgCizWIFuPkxKIzJCkA0ARBNAER78OcDHB8P+Oz1qnrz5u92xA4ZYxM86PkAx8ftpHdDP//e+28w9PkAYwQwgub/Uvbi9et2wu6xByCaAIgmAKIJgGgCIJoAiCYAogmAaAIgmgCIJgCiCYBoAiDajnwb9O6ePKkXL9phDfN9UubPCkC0uBXg61cXe9asAEQTANEEQDQBEE0ARBMA0QRANAEQTQBEEwDRBEC0HfkukOd48mesAER78OcDDO3i4qIdsUPGuAUa9HyAw8PDdtS3oZ9/7/03GPp8ALdARBMA0QRANAEQTQBEEwDRBEA0ARBNAEQTANEEQDQBEE0ARBMA0QRANAEQTQBEEwDRBEA0ARBNAEQTANEEQDQBEE0ARBMA0QRANAEQTQBEEwDRnA+whfMBNjv9MOCz0atq+WbYx6M7H2C7oZ9//6Dfvz60g4fFLRDRBEA0ARBNAEQTANEEQDQBEE0ARBMA0QRANAEQTQBEEwDRBEA0ARBNAEQTANEEQDQBEE0ARBMA0QRANAEQTQBEEwDRBEA0ARBNAEQTANEEQDTnA2zhfIDdZgUgmgCIJgCiCYBoAiCaAIgmAKIJgGgCIJoAiCYAogmAaAIgmgCIJgCiCYBoAiCaAIgmAKIJgGgCIJoAiCYAogmAaAIgmgCIJgCiCYBoAiCaAIgmAKL9B887845wx1XZAAAAAElFTkSuQmCC",
           "type": "image"
          }
         ],
         "layout": {
          "margin": {
           "t": 60
          }
         },
         "name": "3"
        },
        {
         "data": [
          {
           "name": "4",
           "source": "data:image/png;base64,iVBORw0KGgoAAAANSUhEUgAAAQAAAAEACAIAAADTED8xAAAFmElEQVR4Xu3dPVIUWxjH4ddbdwdMcFMz9yCRARnlbMESQzKqXMOtMjIV99CWmTFugEgjNzCzhxv4AfeIMwP0F/N/ngjfgimq5Nenuxn6PDo5OSlI9Vc7gCQCIJoAiCYAogmAaAIgmgCIJgCiCYBoAiCaAIgmAKIJgGgCIJoAiCYAogmAaAIgmgCIJgCiCYBoAiCaAIgmAKIJgGgCIJoAiCYAogmAaAIgmgCIJgCi/d0OBnB+ft6O+jPCBh9Df/9ef4Oh/3+tAEQTANEEQDQBEE0ARBMA0QRANAEQTQBEEwDRBEA0ARBNAEQTANEEQDQBEE0ARBMA0QRANAEQTQBEEwDRBEA0ARBNAEQTANEEQDQBEE0ARBMA0R69ffu2nXHN5eVlO2KPjLE/wKdPn9pRf46OjtpR34Z+/r3X38D+ADAgARBtjFOgxuuqw3a2k4uqf9sZ3MsEK0DXDnbVtQO4rwkC+Fr1pZ1t96XqazuD+5oggKq6aAfb3eFLYKtpAvjQDra7w5fAVtMEULc8oe/aAfRjsgBudUpzq0+G3U0WwO6Xwi5/Gc5kAdTOJzZdO4DeTBnA56pVO2utqj63M+jNlAHUDif3Wz8B7mPiALp20OraAfRp4gDWG4/xF1XrdgZ9mjiA2niM79oB9Gz6AL7+4VJ45e4nw5s+gPrDkb5rB9C/WQRw42XAjUPo1ywCWP92vO9c/jKKWQRQvx3vHf4Zx1wCuP7WIG/+YTRzCaCuHfUd/hnNjAL4ULWqWvnbF0Y0wVMhNnDsZ2TzCqBrBzCseQXg1icjm9E1AIxPAEQTANHsD7CF/QH22xgXwfYH2GCE5+s/9NdvR71yCkS0MVaAHR0c1HJZy+WPf65WdXFRXVdrN0cZzFwCePq0Tk5qsbiaLBa1XNbhYZ2daYChzOIU6OCg/en/ZbGoN2/aIfRlFgEslzf/9H+3WNTz5+0QejGXAH7pujo+ruPjurj2zrjDu+2pBNvMIoDr3r//8cH1e2tPnlx9DD2aXQAwptkF8Pp11c/L4l++7PgkdbilWdwG7bqry4DDwxvO+K9fD0CPZrECdF2tbnw6XFVVrVb1wV9JMoxZBLBe19nZzQ2sVnV21g6hL7MIoH420HX/G56f14sXfg3MgOYSQFWt11f3QL9z5sPQZhQAjE8ARBMA0Wbxe4CPH9sJjMMKQLRZrADHx1cfWw0YkxWAaAIgmgCIJgCizeIi2IUvU7ECEG0WK8D126AwJisA0QRANAEQ7cHvD3B6OuCz16vq1at/2hF7ZIyL4EH3Bzg9bSe9G/r5915/g6H3BxgjgBE0f0vZi5cv2wn7xzUA0QRANAEQTQBEEwDRBEA0ARBNAEQTANEEQDQBEE0ARBMA0fbk3aC7e/y4nj1rhzXM+0mZPysA0eJWgG/fHOy5YgUgmgCIJgCiCYBoAiCaAIgmAKIJgGgCIJoAiCYAou3Je4E8x5O7sQIQ7cHvDzC0y8vLdsQeGeMUaND9AY6OjtpR34Z+/r3X32Do/QGcAhFNAEQTANEEQDQBEE0ARBMA0QRANAEQTQBEEwDRBEA0ARBNAEQTANEEQDQBEE0ARBMA0QRANAEQTQBEEwDRBEA0ARBNAEQTANEEQDQBEE0ARLM/wBb2B9js/N2Az0avqpNXwz4e3f4A2w39/PsH/fr1rh08LE6BiCYAogmAaAIgmgCIJgCiCYBoAiCaAIgmAKIJgGgCIJoAiCYAogmAaAIgmgCIJgCiCYBoAiCaAIgmAKIJgGgCIJoAiCYAogmAaAIgmgCIJgCi2R9gC/sD7DcrANEEQDQBEE0ARBMA0QRANAEQTQBEEwDRBEA0ARBNAEQTANEEQDQBEE0ARBMA0QRANAEQTQBEEwDRBEA0ARBNAEQTANEEQDQBEE0ARBMA0QRANAEQ7T+iQ/CM2nVD5wAAAABJRU5ErkJggg==",
           "type": "image"
          }
         ],
         "layout": {
          "margin": {
           "t": 60
          }
         },
         "name": "4"
        },
        {
         "data": [
          {
           "name": "5",
           "source": "data:image/png;base64,iVBORw0KGgoAAAANSUhEUgAAAQAAAAEACAIAAADTED8xAAAEm0lEQVR4Xu3dPW4USRiA4WK1h9iUe2xE4ItgQsd7hk1JMXcYUmK4gCOIuIC5w4aLCpgxuH/G8z5P+MluWbLe6m5rXPXs+vp6QNUf8wBKBECaAEgTAGkCIE0ApAmANAGQJgDSBECaAEgTAGkCIE0ApAmANAGQJgDSBECaAEgTAGkCIE0ApAmANAGQJgDSBECaAEgTAGkCIE0ApAmANAGQ9uc8WMHt7e08Ws4GB3ys/fO7/hFr/37dAUgTAGkCIE0ApAmANAGQJgDSBECaAEgTAGkCIE0ApAmANAGQJgDSBECaAEgTAGkCIE0ApAmANAGQJgDSBECaAEgTAGkCIE0ApAmANAGQ9uz169fzjG/c3d3NIy7IFucDvH//fh4t5+rqah4tbe39713/COcDwIoEQNoWj0CTf8b4e549yIcx/p1n8Cg73AEO8+ChDvMAHmuHAD6P8WmenfZpjM/zDB5rhwDGGB/mwWm/8S1w0j4BvJsHp/3Gt8BJ+wQwfvGB/jAPYBm7BfBLjzS/9MXwcLsF8PBXYa+/rGe3AMaDH2wO8wAWs2cAH8e4n2ez+zE+zjNYzJ4BjAc83J/8AniMnQM4zIPZYR7AknYO4OvRNf7DGF/nGSxp5wDG0TX+MA9gYfsH8Pknr8L3/vrJ+vYPYPxkpT/MA1jeWQTww9eAHw5hWWcRwNfv1vuD1182cRYBjO/We8s/2ziXAL79aJAP/7CZcwlgfLPqW/7ZzBkF8G6M+zHu/e8LG9phV4gjrP1s7LwCOMwDWNd5BeBPn2zsjN4BYHsCIE0ApDkf4ATnA1y2LV6CnQ9wxAb76z/168+jRXkEIk0ApAmANAGQJgDSBECaAEgTAGkCIE0ApAmANAGQJgDSBECaAEgTAGkCIE0ApAmANAGQJgDSBECaAEgTAGkCIE0ApAmANAGQJgDSBEDakz8f4OZmxb3XxxivXv01j7ggT/58gJubebK4tfe/d/0j1j4fYIsANvD27Tx5vJcv5wmXxzsAaQIgTQCkCYA0AZAmANIEQJoASBMAaQIgTQCkCYA0AZB2IZ8Gfbjnz8eLF/NwrPN5Us6fOwBpuTvAly8We/7nDkCaAEgTAGkCIE0ApAmANAGQJgDSBECaAEgTAGkX8lkg+3jye9wBSHvy5wOs7e7ubh5xQbZ4BFr1fICrq6t5tLS19793/SPWPh/AIxBpAiBNAKQJgDQBkCYA0gRAmgBIEwBpAiBNAKQJgDQBkCYA0gRAmgBIEwBpAiBNAKQJgDQBkCYA0gRAmgBIEwBpAiBNAKQJgDQBkCYA0pwPcILzAY67fbPi3uhjjOtX626P7nyA09be//5JX3+8mQdPi0cg0gRAmgBIEwBpAiBNAKQJgDQBkCYA0gRAmgBIEwBpAiBNAKQJgDQBkCYA0gRAmgBIEwBpAiBNAKQJgDQBkCYA0gRAmgBIEwBpAiBNAKQ5H+AE5wNcNncA0gRAmgBIEwBpAiBNAKQJgDQBkCYA0gRAmgBIEwBpAiBNAKQJgDQBkCYA0gRAmgBIEwBpAiBNAKQJgDQBkCYA0gRAmgBIEwBpAiBNAKQJgLT/AEkOr5rIVmbcAAAAAElFTkSuQmCC",
           "type": "image"
          }
         ],
         "layout": {
          "margin": {
           "t": 60
          }
         },
         "name": "5"
        },
        {
         "data": [
          {
           "name": "6",
           "source": "data:image/png;base64,iVBORw0KGgoAAAANSUhEUgAAAQAAAAEACAIAAADTED8xAAAEmUlEQVR4Xu3dMW4USRiA0WK1h9iUe2xE4ItgQsd7hk1JMXcYUmK4gCOIuIC5w4aLCpgZ29Pd4/neC3/ZLUvWV91tjateXF9fD6j6Yx5AiQBIEwBpAiBNAKQJgDQBkCYA0gRAmgBIEwBpAiBNAKQJgDQBkCYA0gRAmgBIEwBpAiBNAKQJgDQBkCYA0gRAmgBIEwBpAiBNAKQJgDQBkCYA0v6cBwu4vb2dR6ezwgEfS//8rr/H0r9fdwDSBECaAEgTAGkCIE0ApAmANAGQJgDSBECaAEgTAGkCIE0ApAmANAGQJgDSBECaAEgTAGkCIE0ApAmANAGQJgDSBECaAEgTAGkCIE0ApL1YevtpOGfOBzhs6Z/f9fdY+vfrEYg0AZAmANIEQJoASBMAaQIgTQCkCYA0AZAmANIEQJoASBMAaQIgTQCkCYA0AZAmANIEQJoASBMAaQIgTQCkCYA0AZAmANIEQJoASBMAaS/evn07z/jB3d3dPOKCrHE+wMePH+fR6VxdXc2jU1t6/3vX38P5ALAgAZC2xiPQ5J8x/p5nR/k0xr/zDJ5kgzvAbh4cazcP4Kk2CODrGF/m2WFfxvg6z+CpNghgjPFpHhz2iG+Bg7YJ4MM8OOwR3wIHbRPAeOAD/W4ewGlsFsCDHmke9MVwvM0COP5V2Osvy9ksgHH0g81uHsDJbBnA5zHu59nsfozP8wxOZssAxhEP9we/AJ5i4wB282C2mwdwShsH8H3vGv9pjO/zDE5p4wDG3jV+Nw/gxLYP4OtvXoXv/fWT5W0fwPjNSr+bB3B6ZxHAL18DfjmE0zqLAL7/tN7vvP6yirMIYPy03lv+Wce5BPDjR4N8+IfVnEsA44dV3/LPas4ogA9j3I9x739fWNEGu0LsYe1nZecVwG4ewLLOKwB/+mRlZ/QOAOsTAGkCIO3Znw9wc7Pg3utjjDdv/ppHXJA1XoIXPR/g5maenNzS+9+7/h5Lnw+wRgAreP9+njzd69fzhMvjHYA0AZAmANIEQJoASBMAaQIgTQCkCYA0AZAmANIEQJoASLuQT4Me7+XL8erVPBzLfJ6U8+cOQFruDvDtm8We/7kDkCYA0gRAmgBIEwBpAiBNAKQJgDQBkCYA0gRA2oV8Fsg+njyOOwBpz/58gKXd3d3NIy7IGo9Ai54PcHV1NY9Oben9711/j6XPB/AIRJoASBMAaQIgTQCkCYA0AZAmANIEQJoASBMAaQIgTQCkCYA0AZAmANIEQJoASBMAaQIgTQCkCYA0AZAmANIEQJoASBMAaQIgTQCkCYA05wMc4HyA/W7fLbg3+hjj+s2y26M7H+Cwpfe/f9bXH+/mwfPiEYg0AZAmANIEQJoASBMAaQIgTQCkCYA0AZAmANIEQJoASBMAaQIgTQCkCYA0AZAmANIEQJoASBMAaQIgTQCkCYA0AZAmANIEQJoASBMAac4HOMD5AJfNHYA0AZAmANIEQJoASBMAaQIgTQCkCYA0AZAmANIEQJoASBMAaQIgTQCkCYA0AZAmANIEQJoASBMAaQIgTQCkCYA0AZAmANIEQJoASBMAaQIg7T/PAayaDu1qqgAAAABJRU5ErkJggg==",
           "type": "image"
          }
         ],
         "layout": {
          "margin": {
           "t": 60
          }
         },
         "name": "6"
        },
        {
         "data": [
          {
           "name": "7",
           "source": "data:image/png;base64,iVBORw0KGgoAAAANSUhEUgAAAQAAAAEACAIAAADTED8xAAAElElEQVR4Xu3dPXITWRhA0cfULGGCSdnHRATeCHboeNYwKSlmDyIlNhtwBBEbEHsgHNcDJNlWq2Xfc8KvrC5Vybd/5Ha/V5eXlwOq/pgHUCIA0gRAmgBIEwBpAiBNAKQJgDQBkCYA0gRAmgBIEwBpAiBNAKQJgDQBkCYA0gRAmgBIEwBpAiBNAKQJgDQBkCYA0gRAmgBIEwBpAiBNAKQJgLQ/58ECbm5u5tHxnGCBj6Xfv+3vsPTn6whAmgBIEwBpAiBNAKQJgDQBkCYA0gRAmgBIEwBpAiBNAKQJgDQBkCYA0gRAmgBIEwBpAiBNAKQJgDQBkCYA0gRAmgBIEwBpAiBNAKQJgLRXSz9+Gs6Z9QH2W/r92/4OS3++ToFIEwBpAiBNAKQJgDQBkCYA0gRAmgBIEwBpAiBNAKQJgDQBkCYA0gRAmgBIEwBpAiBNAKQJgDQBkCYA0gRAmgBIEwBpAiBNAKQJgDQBkGZ9ANKsD7Df0u/f9ndY+vN1CkSaAEgTAGkCIE0ApAmANAGQJgDSBECaAEgTAGkCIE0ApAmANAGQJgDSBECaAEgTAGkCIE0ApAmANAGQJgDSBECaAEgTAGkCIE0ApAmAtFfv3r2bZ8/K9fWneXRUV1d/zyNekFOsD/Dp04K/o9fX8+Toln7+ve3vsPT6AKcI4AQ+fJgnT/f27Tzh5XENQNoKR4B/x/hnnh3kdoz/5hk8yQpHgM08ONRmHsBTrRDA1zG+zLP9vozxdZ7BU60QwBjjdh7s94iXwF7rBPBxHuz3iJfAXusEMB54Qr+ZB3AcqwXwoFOaB/0wHG61AA6/FHb5y3JWC2AcfGKzmQdwNGsG8HmM7Tybbcf4PM/gaNYMYBxwcr/3B+ApVg5gMw9mm3kAx7TCvUD3fR/j9ve3Bt2O8X2ePdXr1+PNm3k4lrmflPO38hFg7NzHb+YBHNnKR4AxxtcxtmP8NY/HdplvP799s7Pnf+sfAcZv9vSbeQDHdxYB/PKrnl8O4bjOIoDvP+3vNwtc/sLPziKA8dP+3u6f0ziXAO7fGuTmH07mXAIY9/b6dv+czBkF8HGM7Rhb//vCCa3/d4D77Ps5sfMKYDMPYFnnFYCvPjmxM7oGgNM7ryPAo3mOJ4/jCEDas18fYGl3d3fziBfkFKdAi64PcHFxMY+Obenn39v+DkuvD+AUiDQBkCYA0gRAmgBIEwBpAiBNAKQJgDQBkCYA0gRAmgBIEwBpAiBNAKQJgDQBkCYA0gRAmgBIEwBpAiBNAKQJgDQBkCYA0gRAmgBIEwBp1gfYw/oAu928X/DZ6GOMy6tlH49ufYD9ln7+/bPe/ng/D54Xp0CkCYA0AZAmANIEQJoASBMAaQIgTQCkCYA0AZAmANIEQJoASBMAaQIgTQCkCYA0AZAmANIEQJoASBMAaQIgTQCkCYA0AZAmANIEQJoASLM+wB7WB3jZHAFIEwBpAiBNAKQJgDQBkCYA0gRAmgBIEwBpAiBNAKQJgDQBkCYA0gRAmgBIEwBpAiBNAKQJgDQBkCYA0gRAmgBIEwBpAiBNAKQJgDQBkCYA0n4ATRap6j8kXWYAAAAASUVORK5CYII=",
           "type": "image"
          }
         ],
         "layout": {
          "margin": {
           "t": 60
          }
         },
         "name": "7"
        },
        {
         "data": [
          {
           "name": "8",
           "source": "data:image/png;base64,iVBORw0KGgoAAAANSUhEUgAAAQAAAAEACAIAAADTED8xAAAEeklEQVR4Xu3dMW4bVxRA0ecgS3CR1lVUeQWuXKjWHkyVqpMtZA2WAS9BQTrXygZUOZU34OwhhRAEGAQU4nCGpO455SMwFe/8+QQx/8Vutxuo+m45gBIBkCYA0gRAmgBIEwBpAiBNAKQJgDQBkCYA0gRAmgBIEwBpAiBNAKQJgDQBkCYA0gRAmgBIEwBpAiBNAKQJgDQBkCYA0gRAmgBIEwBpAiDt++Xg0F6/fr0cnZWHh4fliGdk9QBm5tOnT8vR4VxeXi5Hh3Z7e7scHc5ut3P9PdY+wMUjEGkCIE0ApAmANAGQJgDSBECaAEgTAGkCIE0ApAmANAGQJgDSBECaAEgTAGkCIE0ApAmANAGQJgDSBECaAEgTAGkCIE0ApAmANAGQJgDSXqz9+mnnA3DKnA/wtLXff+/6e6x9g/YIRJoASBMAaQIgTQCkCYA0AZAmANIEQJoASBMAaQIgTQCkCYA0AZAmANIEQJoASBMAaQIgTQCkCYA0AZAmANIEQJoASBMAaQIgTQCkCYA05wM8wfkAz5vzAZ629vvvXX+PtW/QHoFIEwBpAiBNAKQJgDQBkCYA0gRAmgBIEwBpAiBNAKQJgDQBkCYA0gRAmgBIEwBpAiBNAKQJgDQBkCYA0gRAmgBIEwBpAiBNAKQJgDQBkHb25wPc3Kz47vWZub7+YTniGTn78wFubpaTg1v7/feuv8faN+gtAtjAhw/Lyf/37t1ywvNjD0CaAEgTAGmbBvDTzI/LGRzTppvgNzNvZj7P3M/8uvwQjmDTFeDRxcxu5reZdxYEjm3TFWDhauZq5vPM3czvi89gE8cM4NHFzM8zX2fuZ+5m/lx+Dis6wiPQv3o5czXz0UaZbR1/BVh43Ch/nbmbubcgsLJTWQEWXs7sZj7aKLOyk1sBFq7+3ij75ZQ1nHoAjy5mLmaubJQ5tPMI4IBevZq3b5fDWef/pJy+8wjAIxArOfUA7mbuZ/5Yjr/dly9u9vzjRAPwMyjbOLkAHre5B7zlwx6nEoC/QnAUxw/An+E4omMGcHfoDS78V0cIwG+anI5NA7DB5dRsGsAvywEc2Yn+GxS2IQDSBEDapnuA9XiPJ9/GCkDa2Z8PsLaHh4fliGdki0egVc8HuLy8XI4Obe3337v+HmvfoD0CkSYA0gRAmgBIEwBpAiBNAKQJgDQBkCYA0gRAmgBIEwBpAiBNAKQJgDQBkCYA0gRAmgBIEwBpAiBNAKQJgDQBkCYA0gRAmgBIEwBpAiDN+QBPcD7AfrfvV3w3+szsrtf9fjof4Glrv//+rK8/75eD8+IRiDQBkCYA0gRAmgBIEwBpAiBNAKQJgDQBkCYA0gRAmgBIEwBpAiBNAKQJgDQBkCYA0gRAmgBIEwBpAiBNAKQJgDQBkCYA0gRAmgBIEwBpzgd4gvMBnjcrAGkCIE0ApAmANAGQJgDSBECaAEgTAGkCIE0ApAmANAGQJgDSBECaAEgTAGkCIE0ApAmANAGQJgDSBECaAEgTAGkCIE0ApAmANAGQJgDSBEDaX1HUsNJpT78fAAAAAElFTkSuQmCC",
           "type": "image"
          }
         ],
         "layout": {
          "margin": {
           "t": 60
          }
         },
         "name": "8"
        },
        {
         "data": [
          {
           "name": "9",
           "source": "data:image/png;base64,iVBORw0KGgoAAAANSUhEUgAAAQAAAAEACAIAAADTED8xAAAEPElEQVR4Xu3dsW0jRxiA0f8Ml3A9WJEquFgxezBTxXYLjtXAlUDDmWK5B7mHcw8OhIONhSAF5u6S+t4Lh8BggcXH2SGInU/H43Gg6oflAJQIgDQBkCYA0gRAmgBIEwBpAiBNAKQJgDQBkCYA0gRAmgBIEwBpAiBNAKQJgDQBkCYA0gRAmgBIEwBpAiBNAKQJgDQBkCYA0gRAmgBIEwBpPy4Hzu329nY5BBdj9QBm5vHxcTl0Pnd3d8uhc1v7+s3/hrXvr0cg0gRAmgBIEwBpAiBNAKQJgDQBkCYA0gRAmgBIEwBpAiBNAKQJgDQBkCYA0gRAmgBIEwBpAiBNAKQJgDQBkCYA0gRAmgBIEwBpAiBNAKR9Oh6Py7Gzcj4Al8z5AO9b+/rN/4a1769HINIEQJoASBMAaQIgTQCkCYA0AZAmANIEQJoASBMAaQIgTQCkCYA0AZAmANIEQJoASBMAaQIgTQCkCYA0AZAmANIEQJoASBMAaQIgTQCkOR+ANOcDvG/t6zf/G9a+vx6BSBMAaQIgTQCkCYA0AZAmANIEQJoASBMAaQIgTQCkCYA0AZAmANIEQJoASBMAaQIgTQCkCYA0AZAmANIEQJoASBMAaQIgTQCkCYA0AZDmfIBX3N//+77vh4d1X8/Nvj7C+QBnn//+fk6nmZnDYeYKr/+/PsD8y6Gz2iKAa/T8vBzhQ7IHIE0ApAmAtE0D+GXmp+UY7GnTTfCXmS8zzzNPM78vP4QdbLoCvLiZOc78MfOzBYG9bboCLBxmDjPPM6eZPxefwSb2DODFzcyvM99mnmZOM38vP4cV7fAI9KrPM4eZrzbKbGv/FWDhZaP8beY082RBYGWXsgIsfJ45zny1UWZlF7cCLBy+b5T9csoaLj2AFzczNzMHG2XO7UIfgWAb17ECeARiJZcewGnmaeav5TCcx4UG4GdQtnFxAbxsc33ls41LCcBfIdjF/gH4Mxw72jOAkw0ue9shAL9pcjk2DcAGl0uzaQC/LQdgZ/4KQZoASBMAaZvuAa7Izc1yhA9JAK97eS80H57zAUjbYgW46vfHz/rXb/43rH1/bYJJEwBpAiBNAKQJgDQBkCYA0gRAmgBIEwBpAiBNAKQJgDQBkCYA0gRAmgBIEwBpAiBNAKQJgDQBkCYA0gRAmgBIEwBpAiBNAKQJgDQBkOZ8AP6Xx/sV340+M3cP674e3fkA71v7+q96/rlfDlwXj0CkCYA0AZAmANIEQJoASBMAaQIgTQCkCYA0AZAmANIEQJoASBMAaQIgTQCkCYA0AZAmANIEQJoASBMAaQIgTQCkCYA0AZAmANIEQJoASHM+AGlWANIEQJoASBMAaQIgTQCkCYA0AZAmANIEQJoASBMAaQIgTQCkCYA0AZAmANIEQJoASBMAaQIgTQCkCYA0AZAmANIEQJoASBMAaQIgTQCkCYC0fwC10aKmG1vsFwAAAABJRU5ErkJggg==",
           "type": "image"
          }
         ],
         "layout": {
          "margin": {
           "t": 60
          }
         },
         "name": "9"
        },
        {
         "data": [
          {
           "name": "10",
           "source": "data:image/png;base64,iVBORw0KGgoAAAANSUhEUgAAAQAAAAEACAIAAADTED8xAAAETElEQVR4Xu3dMW5jVRSA4TOIJcwecJUVTO3aeyCta9gCbdKmmCUY0aUOewh7GPZAYY3QPEUOCNvI7/++8lp63e/7rmXd8+H+/n6g6rvlApQIgDQBkCYA0gRAmgBIEwBpAiBNAKQJgDQBkCYA0gRAmgBIEwBpAiBNAKQJgDQBkCYA0gRAmgBIEwBpAiBNAKQJgDQBkCYA0gRAmgBIEwBp3y8X+Nbd3d1yiRW5RgBPT0/LpfO5woCP5+fn5dL5bLdbzz9hu90ul87KKxBpAiBNAKQJgDQBkCYA0gRAmgBIEwBpAiBNAKQJgDQBkCYA0gRAmgBIEwBpAiBNAKQJgDQBkCYA0gRAmgBIEwBpAiBNAKQJgDQBkCYA0j5c4Xrxm2Y+wLqZD/C+S99/7/knmA8AFyQA0gRAmgBIEwBpAiBNAKQJgDQBkCYA0gRAmgBIEwBpAiBNAKQJgDQBkCYA0gRAmgBIEwBpAiBNAKQJgDQBkCYA0gRAmgBIEwBpAiDt5ucDuL+f/+Lm5wM8PDwsl87t0vffe/4J5gPABQmANAGQJgDSBECaAEgTAGkCIE0ApAmANAGQJgDSBECaAEgTAGkCIE0ApAmANAGQJgDSBECaAEgTAGkCIE0ApAmANAGQJgDSBECaAEgzH+AN+/3f930/Pl72em7+X2uYD3D2++n3+zkcZmZ2uxnzAU66wvOXS2d1jQBu0evrcoVVcgYgTQCkCYC0VQXw08wPyzU4ZVWH4E8zn2ZeZ15mfl1+CG9Y1Q5wtJm5n/lt5kcbAu9Z1Q6wsJvZzbzOHGZ+X3wGM7PuAI42Mz/PfJl5mTnM/Ln8nLQVvgK96ePMbuazgzLfWv8OsHA8KH+ZOcy82BDyKjvAwseZ+5nPDsp5uR1gYff1oOyX06Z6AEebmc3M7utBmY7oKxAc2QFmvAKF1QM4zLzM/LFcpiIagJ9BOcoFcDzm+srnqBKAv0LwpvUH4M9wnLDmAA4OuLxnhQH4TZN/blUBOODyb60qgF+WC/AOf4UgTQCkCYC0VZ0BzmizWa6wSgJ42/FeaFbPfADSrrEDXHo+wHLp3C59/73nn3Dp+QAOwaQJgDQBkCYA0gRAmgBIEwBpAiBNAKQJgDQBkCYA0gRAmgBIEwBpAiBNAKQJgDQBkCYA0gRAmgBIEwBpAiBNAKQJgDQBkCYA0gRAmgBIu/n5AJdm/sBpz/sL3o0+M9vHy16PfvPzAa4Q8KXvv7/p589+uXBbvAKRJgDSBECaAEgTAGkCIE0ApAmANAGQJgDSBECaAEgTAGkCIE0ApAmANAGQJgDSBECaAEgTAGkCIE0ApAmANAGQJgDSBECaAEgTAGkCIM18gHeYD7BudgDSBECaAEgTAGkCIE0ApAmANAGQJgDSBECaAEgTAGkCIE0ApAmANAGQJgDSBECaAEgTAGkCIE0ApAmANAGQJgDSBECaAEgTAGkCIE0ApAmAtL8ALUWjVylXPxwAAAAASUVORK5CYII=",
           "type": "image"
          }
         ],
         "layout": {
          "margin": {
           "t": 60
          }
         },
         "name": "10"
        },
        {
         "data": [
          {
           "name": "11",
           "source": "data:image/png;base64,iVBORw0KGgoAAAANSUhEUgAAAQAAAAEACAIAAADTED8xAAAEUUlEQVR4Xu3dMW4bVxRA0ecgS/Aeokq1C9estYeodeMm2UIaF3EpF16CgnSqFcBLsPfg7CGFEMQZGCJkcwgO7znlJzDd5Z9PEP89u76+Hqj6YbkAJQIgTQCkCYA0AZAmANIEQJoASBMAaQIgTQCkCYA0AZAmANIEQJoASBMAaQIgTQCkCYA0AZAmANIEQJoASBMAaQIgTQCkCYA0AZAmANIEQNqPywX+7/LycrnEGTlGAO/evVsuHc4RBnzc3d0tlw5nt9t5/iN2u91y6aC8ApEmANIEQJoASBMAaQIgTQCkCYA0AZAmANIEQJoASBMAaQIgTQCkCYA0AZAmANIEQJoASBMAaQIgTQCkCYA0AZAmANIEQJoASBMAaQIg7dkRrhffNPMBzpv5APutff+95z/CfABYkQBIEwBpAiBNAKQJgDQBkCYA0gRAmgBIEwBpAiBNAKQJgDQBkCYA0gRAmgBIEwBpAiBNAKQJgDQBkCYA0gRAmgBIEwBpAiBNAKQJgDTzAfYwH+C8mQ+w39r333v+I8wHgBUJgDQBkCYA0gRAmgBIEwBpAiBNAKQJgDQBkCYA0gRAmgBIEwBpAiBNAKQJgDQBkCYA0gRAmgBIEwBpAiBNAKQJgDQBkCYA0gRAmgBIMx/gK25u/rvP/e3b37/4hHNzDvMBDv78m5t582Zm5vXrGfMBHnWE5y+XDuoYAWzRhw/LFc6SMwBpAiBNAKQJ4Al+mflpuca2OQQ/wcuZlzMfZ+5n/lh+yCbZAZ7sYuZ65s+Zn20I22cH+HZXM1czH2duZ/5afMZGCOB7Xcz8OvN55n7mdubv5eecNK9Ah/F85mrmvYPy1tgBDuzhoPx55nbm3oZw8uwAq3g+cz3z3kH55NkB1nX170HZL6enSQDHcDFzMXPloHx6vAKRZgc4Bq9AJ0sA67qduZ/5tFzmVAhgFX4G3QoBHNjDMddX/lYI4DD8FWKjBPC9/Blu0wTw7W4dcLdPAE/mN81zIoAncMA9PwJ4gt+WC2yev0KQJgDSBECaM8DXvXixXOEsCeDrHu6F5uyZD7DH5eXlcokzcowd4OD393/pCAGvff+95z9i7fkADsGkCYA0AZAmANIEQJoASBMAaQIgTQCkCYA0AZAmANIEQJoASBMAaQIgTQCkCYA0AZAmANIEQJoASBMAaQIgTQCkCYA0AZAmANIEQJoASDMfYA/zAR5392rFu9FnZvd23evRzQfYb+377zf9/Hm1XNgWr0CkCYA0AZAmANIEQJoASBMAaQIgTQCkCYA0AZAmANIEQJoASBMAaQIgTQCkCYA0AZAmANIEQJoASBMAaQIgTQCkCYA0AZAmANIEQJoASDMfYA/zAc6bHYA0AZAmANIEQJoASBMAaQIgTQCkCYA0AZAmANIEQJoASBMAaQIgTQCkCYA0AZAmANIEQJoASBMAaQIgTQCkCYA0AZAmANIEQJoASBMAaQIg7R9oP6LsAtZKBwAAAABJRU5ErkJggg==",
           "type": "image"
          }
         ],
         "layout": {
          "margin": {
           "t": 60
          }
         },
         "name": "11"
        },
        {
         "data": [
          {
           "name": "12",
           "source": "data:image/png;base64,iVBORw0KGgoAAAANSUhEUgAAAQAAAAEACAIAAADTED8xAAAEVklEQVR4Xu3dMU4cZxiA4c9RjuA7hIrahWtq7hBcunGTXCGNC1JC4SMQpaMmko/g3MG5QwoURRohSMzO7g7v85T/SqsR0ss//2g136uLi4uBqu+WC1AiANIEQJoASBMAaQIgTQCkCYA0AZAmANIEQJoASBMAaQIgTQCkCYA0AZAmANIEQJoASBMAaQIgTQCkCYA0AZAmANIEQJoASBMAaQIgTQCkfb9cYL9OT0+XS+zRPgK4vr5eLu3OHgZ8rHr9l5eXt7e3y9XdOTs72/r3L5d2yi0QaQIgTQCkCYA0AZAmANIEQJoASBMAaQIgTQCkCYA0AZAmANIEQJoASBMAaQIgTQCkCYA0AZAmANIEQJoASBMAaQIgTQCkCYA0AZAmANJe7eH14jzCfIDDMh/gaatev/kAjzMfAFYkANIEQJoASBMAaQIgTQCkCYA0AZAmANIEQJoASBMAaQIgTQCkCYA0AZAmANIEQJoASBMAaQIgTQCkCYA0AZAmANIEQJoASBMAaQIgzXyAAzMf4LDMB3jaqtdvPsDjzAeAFQmANAGQJgDSBECaAEgTAGkCIE0ApAmANAGQJgDSBECaAEgTAGkCIE0ApAmANAGQJgDSBECaAEgTAGkCIE0ApAmANAGQJgDSBECaAEgzH+ABV1f/vg/93bt1/z7mAxzWS5gPsPPvv7qajx9nZj58mFn5+s0HeNza8wH2EcAWff68XOFFcgYgTQCkCYA0ARyRn2Z+WK6xLofgI/J25u3Ml5m7md+WH7IKO8DROZm5mPl95kcbwvrsAMfrfOZ85svMzcwfi8/YEQEcu5OZn2e+ztzN3Mz8tfycZ3ELtA2vZ85nPjko75odYGPuD8pfZ25m7mwIz2YH2KTXMxcznxyUn80OsG3n/xyUPTn9NgJ4CU5mTmbOHZT/P7dApNkBXgK3QN9MANt2M3M38+dymf9KAJvkMeiuCGBj7o+5/uXvigC2wU8hViKAY+fHcKsSwPG6ccBdnwCOjmea+ySAI+KAu38COCK/LBdYnZ9CkCYA0gRAmjPAw968Wa7wIgngYffvhebFMx/gwMwHOKx97ACrvl9/DwGvev3mAzxu7fkADsGkCYA0AZAmANIEQJoASBMAaQIgTQCkCYA0AZAmANIEQJoASBMAaQIgTQCkCYA0AZAmANIEQJoASBMAaQIgTQCkCYA0AZAmANIEQJoASDMf4MC2Ph/g9v2K70afmbNf1309uvkAT1v1+rc+H2DeLxe2xS0QaQIgTQCkCYA0AZAmANIEQJoASBMAaQIgTQCkCYA0AZAmANIEQJoASBMAaQIgTQCkCYA0AZAmANIEQJoASBMAaQIgTQCkCYA0AZAmANLMBziwrc8H2Do7AGkCIE0ApAmANAGQJgDSBECaAEgTAGkCIE0ApAmANAGQJgDSBECaAEgTAGkCIE0ApAmANAGQJgDSBECaAEgTAGkCIE0ApAmANAGQJgDSBEDa3+2rpihtxxVlAAAAAElFTkSuQmCC",
           "type": "image"
          }
         ],
         "layout": {
          "margin": {
           "t": 60
          }
         },
         "name": "12"
        },
        {
         "data": [
          {
           "name": "13",
           "source": "data:image/png;base64,iVBORw0KGgoAAAANSUhEUgAAAQAAAAEACAIAAADTED8xAAAESUlEQVR4Xu3dMWocZxiA4c8hR/Adokq1C9eq9w5Zl27cJFdI40IppcJHUEinWgEfwbmDc4cUIsQell0TNBs07/OU/8IwCF798y/LfC/2+/1A1XfLBSgRAGkCIE0ApAmANAGQJgDSBECaAEgTAGkCIE0ApAmANAGQJgDSBECaAEgTAGkCIE0ApAmANAGQJgDSBECaAEgTAGkCIE0ApAmANAGQJgDSvl8usC2Xl5fLJb5wjgBub2+XS0/nDAM+1r7/Va9/fX19f3+/XH06V1dXa19/ufSkPAKRJgDSBECaAEgTAGkCIE0ApAmANAGQJgDSBECaAEgTAGkCIE0ApAmANAGQJgDSBECaAEgTAGkCIE0ApAmANAGQJgDSBECaAEgTAGkCIO3FGV4vzv/IfIDjzAc4be37X/X65gMc5xGINAGQJgDSBECaAEgTAGkCIE0ApAmANAGQJgDSBECaAEgTAGkCIE0ApAmANAGQJgDSBECaAEgTAGkCIE0ApAmANAGQJgDSBECaAEgTAGnmA2yc+QDHmQ9w2tr3v+r1zQc4ziMQaQIgTQCkCYA0AZAmANIEQJoASBMAaQIgTQCkCYA0AZAmANIEQJoASBMAaQIgTQCkCYA0AZAmANIEQJoASBMAaQIgTQCkCYA0AZAmANLMBzjg5ubf95W/efO8/z7mAxy3hfkAT379m5t5/35m5t27mWd4/18yH+C4cwTwHH38uFxhk5wBSBMAaQIgTQAhP838sFyrcwgOeT3zeubTzMPMb8sPo+wAORcz+5nfZ360IdgBynYzu5lPM3czfyw+yxBA3cXMzzOfZx5m7mb+Wn6+cR6BmJl5ObOb+dA7KNsB+MrjQfnzzN3MQ2BDsANwwMuZ/cyHwEHZDsAxu38Oylv95lQAnHYxczGz2+JB2SMQaXYATvMIRNTdzMPMn8vl7RAAB3S+BhUAX3k85m74X/6CAJgJ/xRCAHV+DEfU3dYPuN9CADkb/k7zPxBASO2A+y0EEPLLcgE/haBNAKQJgDRngMNevVqusEkCOOzxvdBsnvkAG2c+wHHn2AFWff/9GQJe+/5Xvb75AMc5BJMmANIEQJoASBMAaQIgTQCkCYA0AZAmANIEQJoASBMAaQIgTQCkCYA0AZAmANIEQJoASBMAaQIgTQCkCYA0AZAmANIEQJoASBMAaQIgzXyAjVt7PsD92xXfjT4zV7+u+3p08wFOW/v+V73+2vMB5u1y4XnxCESaAEgTAGkCIE0ApAmANAGQJgDSBECaAEgTAGkCIE0ApAmANAGQJgDSBECaAEgTAGkCIE0ApAmANAGQJgDSBECaAEgTAGkCIE0ApAmANPMBNm7t+QDPnR2ANAGQJgDSBECaAEgTAGkCIE0ApAmANAGQJgDSBECaAEgTAGkCIE0ApAmANAGQJgDSBECaAEgTAGkCIE0ApAmANAGQJgDSBECaAEgTAGkCIO1vcWSmKLrBtu4AAAAASUVORK5CYII=",
           "type": "image"
          }
         ],
         "layout": {
          "margin": {
           "t": 60
          }
         },
         "name": "13"
        },
        {
         "data": [
          {
           "name": "14",
           "source": "data:image/png;base64,iVBORw0KGgoAAAANSUhEUgAAAQAAAAEACAIAAADTED8xAAAEWElEQVR4Xu3dMW4dVRiA0T+IJWQPuHKdIrWrFN4DzgbSwBZoUpjSLrIEIzrXRsoSwg5ShD1QWAg0snDAb9574++c8j5pNLL0+c4dje59cXFxMVD1zXIASgRAmgBIEwBpAiBNAKQJgDQBkCYA0gRAmgBIEwBpAiBNAKQJgDQBkCYA0gRAmgBIEwBpAiBNAKQJgDQBkCYA0gRAmgBIEwBpAiBNAKQJgLRvlwPwX5yeni6HNmUfAVxfXy+HdmcPB3ysff+bvv7l5eXt7e1ydHfOzs6WQzvlEYg0AZAmANIEQJoASBMAaQIgTQCkCYA0AZAmANIEQJoASBMAaQIgTQCkCYA0AZAmANIEQJoASBMAaQIgTQCkCYA0AZAmANIEQJoASBMAaS/2sL04z5jzAR636v70ewh47fvf9PWdDwAbJgDSBECaAEgTAGkCIE0ApAmANAGQJgDSBECaAEgTAGkCIE0ApAmANAGQJgDSBECaAEgTAGkCIE0ApAmANAGQJgDSBECaAEgTAGkCIM35ADyJ8wEet+r+9HsIeO373/T1nQ8AGyYA0gRAmgBIEwBpAiBNAKQJgDQBkCYA0gRAmgBIEwBpAiBNAKQJgDQBkCYA0gRAmgBIEwBpAiBNAKQJgDQBkCYA0gRAmgBIEwBpAiDN+QAPuLr6ez/xt2/9ff6N8wEet+r+9Gvsf391Ne/fz8y8ezezwfv/p7Wvv/XzAfYRwBZ9/Lgc4VmyBiBNAKQJgDQBsDM/zHy3HDt2FsHszOuZ1zOfZu5mfln+eKTMAOzYyczFzK8z329hQjADsJbzmfOZTzM3M78tfjsaAmBdJzM/znyZuZu5mflj+fuBeQRiH17OnM98OL6FshmAvbpfKH+ZuZm5O4IJwQzAAbycuZj5cAQLZTMAh3T+10L5UG9OBcDhncyczJwfYqHsEYg0MwCH5xGIqJuZu5nfl8P7IwAO4HhegwqAvbpf5h7wX/6CANiHo/0UQgCsy8dwRN0ceoH7NQTAjh3wneb/IAB25tgWuF9DAOzMT8uBDfApBGkCIE0ApFkDPOzVq+UIz5IAHna/LzTPnvMBeBLnAzxu1f3p9xDw2ve/6etv/XwAi2DSBECaAEgTAGkCIE0ApAmANAGQJgDSBECaAEgTAGkCIE0ApAmANAGQJgDSBECaAEgTAGkCIE0ApAmANAGQJgDSBECaAEgTAGkCIE0ApDkfgCf5fPV5ObRTZz+vuz268wEet/b9b/r6b67eLIc2xSMQaQIgTQCkCYA0AZAmANIEQJoASBMAaQIgTQCkCYA0AZAmANIEQJoASBMAaQIgTQCkCYA0AZAmANIEQJoASBMAaQIgTQCkCYA0AZAmANKcD8CTnJ6eLoc2xQxAmgBIEwBpAiBNAKQJgDQBkCYA0gRAmgBIEwBpAiBNAKQJgDQBkCYA0gRAmgBIEwBpAiBNAKQJgDQBkCYA0gRAmgBIEwBpAiBNAKQJgDQBkPYnCi2mCkNlIdEAAAAASUVORK5CYII=",
           "type": "image"
          }
         ],
         "layout": {
          "margin": {
           "t": 60
          }
         },
         "name": "14"
        },
        {
         "data": [
          {
           "name": "15",
           "source": "data:image/png;base64,iVBORw0KGgoAAAANSUhEUgAAAQAAAAEACAIAAADTED8xAAAEdklEQVR4Xu3dPW5TWRiA4cNo1kNNMbVXkpaGZtYwDcVQhkWYNjVILAH2EPYwRSQIZ4wNyOcm8fs85ZfkypL13h/LOefZ1dXVgKo/5gGUCIA0AZAmANIEQJoASBMAaQIgTQCkCYA0AZAmANIEQJoASBMAaQIgTQCkCYA0AZAmANIEQJoASBMAaQIgTQCkCYA0AZAmANIEQJoASBMAaQIg7c95sMDbt2/n0flssMHH6tfv+Eesfn9dAUgTAGkCIE0ApAmANAGQJgDSBECaAEgTAGkCIE0ApAmANAGQJgDSBECaAEgTAGkCIE0ApAmANAGQJgDSBECaAEgTAGkCIE0ApAmANAGQ9mz18tPwmNkf4LTVr9/xj1j9/roFIk0ApAmANAGQJgDSBECaAEgTAGkCIE0ApAmANAGQJgDSBECaAEgTAGkCIE0ApAmANAGQJgDSBECaAEgTAGkCIE0ApAmANAGQJgDSBECa/QFIsz/Aaatfv+Mfsfr9dQtEmgBIEwBpAiBNAKQJgDQBkCYA0gRAmgBIEwBpAiBNAKQJgDQBkCYA0gRAmgBIEwBpAiBNAKQJgDQBkCYA0gRAmgBIEwBpAiBNAKQJgDT7Axxwff1tve83b/699xMuzSXsD3D2419fj9evxxjj1asxxri5ufn+5+e02+0c/4jdbjePzmqLAJ6ijx/nCRfJMwBprgCc2d9j/DXPfsr7Mf6ZZ8u5AnBm+3nws/bzYAsC4Mw+j/Fpnp32aYzP82wLAuD83s+D037jT85CAJzfu3lw2m/8yVkIgCX28+CY/TzYjgBY4pduaX7pl89LACzx84/CD/X4e0cArLKfB4ft58GmBMAqH8a4nWez2zE+zLNNCYCFTt7cn/yF1QTAQvt5MNvPg60JgIW+HD3Hvx/jyzzbmgBYaz8PvtnPgwcgANb6/INH4dsH/fTzKwGw3H4ejPGD4fYEwHIHHwMODrcnAJb78r/z/f4RPP7eEQBbmM73j+T0PwTANu5/Nehhv/wzEQAb+XrWfzyn/yEANvNujNsxbh/uf18OsioE23lU5/47AmA7+3nw8ATAdh7JR5/3eQYgzRXgsBcv5gkXSQCH3a0LzcWzP8AJz58/n0dckC2uAGdfv/++DQJevf694x+xen8AD8GkCYA0AZAmANIEQJoASBMAaQIgTQCkCYA0AZAmANIEQJoASBMAaQIgTQCkCYA0AZAmANIEQJoASBMAaQIgTQCkCYA0AZAmANIEQJoASLM/wAn2Bzju5uXCtdHHGLs3a5dHtz/AaavXv3/Sxx8v58HT4haINAGQJgDSBECaAEgTAGkCIE0ApAmANAGQJgDSBECaAEgTAGkCIE0ApAmANAGQJgDSBECaAEgTAGkCIE0ApAmANAGQJgDSBECaAEgTAGn2BzjB/gCXzRWANAGQJgDSBECaAEgTAGkCIE0ApAmANAGQJgDSBECaAEgTAGkCIE0ApAmANAGQJgDSBECaAEgTAGkCIE0ApAmANAGQJgDSBECaAEgTAGkCIO0/ZE6jFPqPLaEAAAAASUVORK5CYII=",
           "type": "image"
          }
         ],
         "layout": {
          "margin": {
           "t": 60
          }
         },
         "name": "15"
        },
        {
         "data": [
          {
           "name": "16",
           "source": "data:image/png;base64,iVBORw0KGgoAAAANSUhEUgAAAQAAAAEACAIAAADTED8xAAAEdklEQVR4Xu3dMW5TSRzA4WG156Gm2NongZKGZs+wDc2W4RCmTR0kjgB3CHfYIhJEs8YOyPOS+Pd95V/JkxXr9/wmSmZevH79ekDVH/MASgRAmgBIEwBpAiBNAKQJgDQBkCYA0gRAmgBIEwBpAiBNAKQJgDQBkCYA0gRAmgBIEwBpAiBNAKQJgDQBkCYA0gRAmgBIEwBpAiBNAKQJgDQBkPbnPFjgw4cP8+h8NjjgY/Xrd/0jVr+/PgFIEwBpAiBNAKQJgDQBkCYA0gRAmgBIEwBpAiBNAKQJgDQBkCYA0gRAmgBIEwBpAiBNAKQJgDQBkCYA0gRAmgBIEwBpAiBNAKQJgDQBkPZi9fbT8JQ5H+C01a/f9Y9Y/f56BCJNAKQJgDQBkCYA0gRAmgBIEwBpAiBNAKQJgDQBkCYA0gRAmgBIEwBpAiBNAKQJgDQBkCYA0gRAmgBIEwBpAiBNAKQJgDQBkCYA0gRAmvMBSHM+wGmrX7/rH7H6/fUIRJoASBMAaQIgTQCkCYA0AZAmANIEQJoASBMAaQIgTQCkCYA0AZAmANIEQJoASBMAaQIgTQCkCYA0AZAmANIEQJoASBMAaQIgTQCkCYA05wMccHX1Y7/vN2/8fC7ZJZwPcPbrX12N9+/HGOPduzGe4eu/7wKuP4/OaosAnqPPn+cJF8kagDQBkCYA0gRAmgBIEwBpAiBNAKQJgDQBkCYA0gRAmgBIEwBpAiBNAKQJgDQBkCYA0gRAmgBIEwBpAiBNAKQJgDQBkCYA0uwNetirV/OEiySAw+72hebiOR/ghJcvX84jLsgWnwDPev/4Mcb19fU8Op/dbuf6R+x2u3l0VhbBpAmAtC0egUj5e4y/5tmD3IzxzzxbzicAZ7afBw+1nwdbEABn9nWML/PstC9jfJ1nWxAA53czD077jW85CwFwfh/nwWm/8S1nIQCW2M+DY/bzYDsCYIlfeqT5pS8+LwGwxMOXwo+1/L0jAFbZz4PD9vNgUwJglU9j3M6z2e0Yn+bZpgTAQicf7k9+wWoCYKH9PJjt58HWBMBC347e42/G+DbPtiYA1trPgx/28+ARCIC1vv5kKXz7qL/9/E4ALLefB2P8ZLg9AbDcwWXAweH2BMBy3/53v98/geXvHQGwhel+/0Ru/0MAbOP+nwY97h//TATARr7f9Z/O7X8IgM18HON2jNvH+9+Xg+wKwXae1L3/jgDYzn4ePD4BsJ0n8qvP+6wBSBMAaQIgzfkAJzgf4Ljrtwv3Rh9j7P5duz36Fotg5wMcscH++kuvP97Og+fFIxBpAiBNAKQJgDQBkCYA0gRAmgBIEwBpAiBNAKQJgDQBkCYA0gRAmgBIEwBpAiBNAKQJgDQBkCYA0gRAmgBIEwBpAiBNAKQJgDQBkCYA0pwPcILzAS6bTwDSBECaAEgTAGkCIE0ApAmANAGQJgDSBECaAEgTAGkCIE0ApAmANAGQJgDSBECaAEgTAGkCIE0ApAmANAGQJgDSBECaAEgTAGkCIE0ApAmAtP8Ard6iiqwArucAAAAASUVORK5CYII=",
           "type": "image"
          }
         ],
         "layout": {
          "margin": {
           "t": 60
          }
         },
         "name": "16"
        },
        {
         "data": [
          {
           "name": "17",
           "source": "data:image/png;base64,iVBORw0KGgoAAAANSUhEUgAAAQAAAAEACAIAAADTED8xAAAEiklEQVR4Xu3dMW4UZxiA4SHKDcwdoKJGgtotHAJKGprkCElDk9IcAlrXtsQR4A7mDiksEevXateQ+cf2vs9TfuyORqze2ZnRev5Hb968WaDqt3EAJQIgTQCkCYA0AZAmANIEQJoASBMAaQIgTQCkCYA0AZAmANIEQJoASBMAaQIgTQCkCYA0AZAmANIEQJoASBMAaQIgTQCkCYA0AZAmANIEQJoASPt9HEzw8ePHcbSeDRb4mL3/tr/H7M/XNwBpAiBNAKQJgDQBkCYA0gRAmgBIEwBpAiBNAKQJgDQBkCYA0gRAmgBIEwBpAiBNAKQJgDQBkCYA0gRAmgBIEwBpAiBNAKQJgDQBkCYA0h7Nfvw03GfWBzhs9v7b/h6zP1+nQKQJgDQBkCYA0gRAmgBIEwBpAiBNAKQJgDQBkCYA0gRAmgBIEwBpAiBNAKQJgDQBkCYA0gRAmgBIEwBpAiBNAKQJgDQBkCYA0gRAmgBIsz4AadYHOGz2/tv+HrM/X6dApAmANAGQJgDSBECaAEgTAGkCIE0ApAmANAGQJgDSBECaAEgTAGkCIE0ApAmANAGQJgDSBECaAEgTAGkCIE0ApAmANAGQJgDSBECaAEizPsAOZ2f/Pe/77Vv/P8fsGNYHWH37Z2fLhw/Lsizv3y/LA9z/m45g++NoVVsE8BB9+TJOOEquAUgTAGkCIE0ApAmANAGQJgDSBECaAEgTAGkCIE0ApAmANAGQJgDSBECaAEgTAGkCIE0ApAmANAGQJgDSBECaAEgTAGkCIM2zQXd7/nyccJQEsNv1c6E5etYHIG2Lb4AH/fz4Zf7+2/4esz9fF8GkCYA0AZAmANIEQJoASBMAaQIgTQCkCYA0AZAmANIEQJoASBMAaQIgTQCkCYA0AZAmANIEQJoASBMAaQIgTQCkCYA0AZAmANIEQJoASLM+wAHPnj0bR9xw/u58HK3q9J/TcbQq6wMcdn4+8TM+PT190Ntf3o2Dh8UpEGkCIG2LUyBS/vhreXk5Dm/j4sXy95/jcDbfAKzs0+txcku//Mb/QwCs7NvT5euTcXjQ1yfLt6fjcAMCYH0XL8fJQb/wllUIgPV9fj1ODvqFt6xCAEzx6dU42eOnXrwuATDFT53S/NSL1yUAprj9pfBdXf5eEwCz3PK25i1fNokAmOXy5XJ1Mg4HVyfL5d2d/ywCYKqDJ/cHXzCbAJjo4OnNwRfMJgAm+v54uXgxDn+4eLF8fzwONyYA5tpzjN/zT5sRAHN9e7r7Uvjq5C7vfv4gAKbbeaTfOdyeAJhu562encPtCYDpvj8ef+3z6dXdX/5eEwBbGI739+TwvwiAbdz8adDd/vhnIAA28uOof38O/4sA2Mzn18vVyXJ1cmd/+7KTp0KwnXt17L8mALZzT+793yQAtnNPbn3e5BqANAGQJgDSrA9wgPUBjptvANIEQJoASBMAaQIgTQCkCYA0AZAmANIEQJoASBMAaQIgTQCkCYA0AZAmANIEQJoASBMAaQIgTQCkCYA0AZAmANIEQJoASBMAaQIgTQCkCYC0fwFOqrDmj0yYWwAAAABJRU5ErkJggg==",
           "type": "image"
          }
         ],
         "layout": {
          "margin": {
           "t": 60
          }
         },
         "name": "17"
        }
       ],
       "layout": {
        "margin": {
         "t": 60
        },
        "sliders": [
         {
          "active": 0,
          "currentvalue": {
           "prefix": "animation_frame="
          },
          "len": 0.9,
          "pad": {
           "b": 10,
           "t": 60
          },
          "steps": [
           {
            "args": [
             [
              "0"
             ],
             {
              "frame": {
               "duration": 0,
               "redraw": true
              },
              "fromcurrent": true,
              "mode": "immediate",
              "transition": {
               "duration": 0,
               "easing": "linear"
              }
             }
            ],
            "label": "0",
            "method": "animate"
           },
           {
            "args": [
             [
              "1"
             ],
             {
              "frame": {
               "duration": 0,
               "redraw": true
              },
              "fromcurrent": true,
              "mode": "immediate",
              "transition": {
               "duration": 0,
               "easing": "linear"
              }
             }
            ],
            "label": "1",
            "method": "animate"
           },
           {
            "args": [
             [
              "2"
             ],
             {
              "frame": {
               "duration": 0,
               "redraw": true
              },
              "fromcurrent": true,
              "mode": "immediate",
              "transition": {
               "duration": 0,
               "easing": "linear"
              }
             }
            ],
            "label": "2",
            "method": "animate"
           },
           {
            "args": [
             [
              "3"
             ],
             {
              "frame": {
               "duration": 0,
               "redraw": true
              },
              "fromcurrent": true,
              "mode": "immediate",
              "transition": {
               "duration": 0,
               "easing": "linear"
              }
             }
            ],
            "label": "3",
            "method": "animate"
           },
           {
            "args": [
             [
              "4"
             ],
             {
              "frame": {
               "duration": 0,
               "redraw": true
              },
              "fromcurrent": true,
              "mode": "immediate",
              "transition": {
               "duration": 0,
               "easing": "linear"
              }
             }
            ],
            "label": "4",
            "method": "animate"
           },
           {
            "args": [
             [
              "5"
             ],
             {
              "frame": {
               "duration": 0,
               "redraw": true
              },
              "fromcurrent": true,
              "mode": "immediate",
              "transition": {
               "duration": 0,
               "easing": "linear"
              }
             }
            ],
            "label": "5",
            "method": "animate"
           },
           {
            "args": [
             [
              "6"
             ],
             {
              "frame": {
               "duration": 0,
               "redraw": true
              },
              "fromcurrent": true,
              "mode": "immediate",
              "transition": {
               "duration": 0,
               "easing": "linear"
              }
             }
            ],
            "label": "6",
            "method": "animate"
           },
           {
            "args": [
             [
              "7"
             ],
             {
              "frame": {
               "duration": 0,
               "redraw": true
              },
              "fromcurrent": true,
              "mode": "immediate",
              "transition": {
               "duration": 0,
               "easing": "linear"
              }
             }
            ],
            "label": "7",
            "method": "animate"
           },
           {
            "args": [
             [
              "8"
             ],
             {
              "frame": {
               "duration": 0,
               "redraw": true
              },
              "fromcurrent": true,
              "mode": "immediate",
              "transition": {
               "duration": 0,
               "easing": "linear"
              }
             }
            ],
            "label": "8",
            "method": "animate"
           },
           {
            "args": [
             [
              "9"
             ],
             {
              "frame": {
               "duration": 0,
               "redraw": true
              },
              "fromcurrent": true,
              "mode": "immediate",
              "transition": {
               "duration": 0,
               "easing": "linear"
              }
             }
            ],
            "label": "9",
            "method": "animate"
           },
           {
            "args": [
             [
              "10"
             ],
             {
              "frame": {
               "duration": 0,
               "redraw": true
              },
              "fromcurrent": true,
              "mode": "immediate",
              "transition": {
               "duration": 0,
               "easing": "linear"
              }
             }
            ],
            "label": "10",
            "method": "animate"
           },
           {
            "args": [
             [
              "11"
             ],
             {
              "frame": {
               "duration": 0,
               "redraw": true
              },
              "fromcurrent": true,
              "mode": "immediate",
              "transition": {
               "duration": 0,
               "easing": "linear"
              }
             }
            ],
            "label": "11",
            "method": "animate"
           },
           {
            "args": [
             [
              "12"
             ],
             {
              "frame": {
               "duration": 0,
               "redraw": true
              },
              "fromcurrent": true,
              "mode": "immediate",
              "transition": {
               "duration": 0,
               "easing": "linear"
              }
             }
            ],
            "label": "12",
            "method": "animate"
           },
           {
            "args": [
             [
              "13"
             ],
             {
              "frame": {
               "duration": 0,
               "redraw": true
              },
              "fromcurrent": true,
              "mode": "immediate",
              "transition": {
               "duration": 0,
               "easing": "linear"
              }
             }
            ],
            "label": "13",
            "method": "animate"
           },
           {
            "args": [
             [
              "14"
             ],
             {
              "frame": {
               "duration": 0,
               "redraw": true
              },
              "fromcurrent": true,
              "mode": "immediate",
              "transition": {
               "duration": 0,
               "easing": "linear"
              }
             }
            ],
            "label": "14",
            "method": "animate"
           },
           {
            "args": [
             [
              "15"
             ],
             {
              "frame": {
               "duration": 0,
               "redraw": true
              },
              "fromcurrent": true,
              "mode": "immediate",
              "transition": {
               "duration": 0,
               "easing": "linear"
              }
             }
            ],
            "label": "15",
            "method": "animate"
           },
           {
            "args": [
             [
              "16"
             ],
             {
              "frame": {
               "duration": 0,
               "redraw": true
              },
              "fromcurrent": true,
              "mode": "immediate",
              "transition": {
               "duration": 0,
               "easing": "linear"
              }
             }
            ],
            "label": "16",
            "method": "animate"
           },
           {
            "args": [
             [
              "17"
             ],
             {
              "frame": {
               "duration": 0,
               "redraw": true
              },
              "fromcurrent": true,
              "mode": "immediate",
              "transition": {
               "duration": 0,
               "easing": "linear"
              }
             }
            ],
            "label": "17",
            "method": "animate"
           }
          ],
          "x": 0.1,
          "xanchor": "left",
          "y": 0,
          "yanchor": "top"
         }
        ],
        "template": {
         "data": {
          "bar": [
           {
            "error_x": {
             "color": "#2a3f5f"
            },
            "error_y": {
             "color": "#2a3f5f"
            },
            "marker": {
             "line": {
              "color": "#E5ECF6",
              "width": 0.5
             },
             "pattern": {
              "fillmode": "overlay",
              "size": 10,
              "solidity": 0.2
             }
            },
            "type": "bar"
           }
          ],
          "barpolar": [
           {
            "marker": {
             "line": {
              "color": "#E5ECF6",
              "width": 0.5
             },
             "pattern": {
              "fillmode": "overlay",
              "size": 10,
              "solidity": 0.2
             }
            },
            "type": "barpolar"
           }
          ],
          "carpet": [
           {
            "aaxis": {
             "endlinecolor": "#2a3f5f",
             "gridcolor": "white",
             "linecolor": "white",
             "minorgridcolor": "white",
             "startlinecolor": "#2a3f5f"
            },
            "baxis": {
             "endlinecolor": "#2a3f5f",
             "gridcolor": "white",
             "linecolor": "white",
             "minorgridcolor": "white",
             "startlinecolor": "#2a3f5f"
            },
            "type": "carpet"
           }
          ],
          "choropleth": [
           {
            "colorbar": {
             "outlinewidth": 0,
             "ticks": ""
            },
            "type": "choropleth"
           }
          ],
          "contour": [
           {
            "colorbar": {
             "outlinewidth": 0,
             "ticks": ""
            },
            "colorscale": [
             [
              0,
              "#0d0887"
             ],
             [
              0.1111111111111111,
              "#46039f"
             ],
             [
              0.2222222222222222,
              "#7201a8"
             ],
             [
              0.3333333333333333,
              "#9c179e"
             ],
             [
              0.4444444444444444,
              "#bd3786"
             ],
             [
              0.5555555555555556,
              "#d8576b"
             ],
             [
              0.6666666666666666,
              "#ed7953"
             ],
             [
              0.7777777777777778,
              "#fb9f3a"
             ],
             [
              0.8888888888888888,
              "#fdca26"
             ],
             [
              1,
              "#f0f921"
             ]
            ],
            "type": "contour"
           }
          ],
          "contourcarpet": [
           {
            "colorbar": {
             "outlinewidth": 0,
             "ticks": ""
            },
            "type": "contourcarpet"
           }
          ],
          "heatmap": [
           {
            "colorbar": {
             "outlinewidth": 0,
             "ticks": ""
            },
            "colorscale": [
             [
              0,
              "#0d0887"
             ],
             [
              0.1111111111111111,
              "#46039f"
             ],
             [
              0.2222222222222222,
              "#7201a8"
             ],
             [
              0.3333333333333333,
              "#9c179e"
             ],
             [
              0.4444444444444444,
              "#bd3786"
             ],
             [
              0.5555555555555556,
              "#d8576b"
             ],
             [
              0.6666666666666666,
              "#ed7953"
             ],
             [
              0.7777777777777778,
              "#fb9f3a"
             ],
             [
              0.8888888888888888,
              "#fdca26"
             ],
             [
              1,
              "#f0f921"
             ]
            ],
            "type": "heatmap"
           }
          ],
          "heatmapgl": [
           {
            "colorbar": {
             "outlinewidth": 0,
             "ticks": ""
            },
            "colorscale": [
             [
              0,
              "#0d0887"
             ],
             [
              0.1111111111111111,
              "#46039f"
             ],
             [
              0.2222222222222222,
              "#7201a8"
             ],
             [
              0.3333333333333333,
              "#9c179e"
             ],
             [
              0.4444444444444444,
              "#bd3786"
             ],
             [
              0.5555555555555556,
              "#d8576b"
             ],
             [
              0.6666666666666666,
              "#ed7953"
             ],
             [
              0.7777777777777778,
              "#fb9f3a"
             ],
             [
              0.8888888888888888,
              "#fdca26"
             ],
             [
              1,
              "#f0f921"
             ]
            ],
            "type": "heatmapgl"
           }
          ],
          "histogram": [
           {
            "marker": {
             "pattern": {
              "fillmode": "overlay",
              "size": 10,
              "solidity": 0.2
             }
            },
            "type": "histogram"
           }
          ],
          "histogram2d": [
           {
            "colorbar": {
             "outlinewidth": 0,
             "ticks": ""
            },
            "colorscale": [
             [
              0,
              "#0d0887"
             ],
             [
              0.1111111111111111,
              "#46039f"
             ],
             [
              0.2222222222222222,
              "#7201a8"
             ],
             [
              0.3333333333333333,
              "#9c179e"
             ],
             [
              0.4444444444444444,
              "#bd3786"
             ],
             [
              0.5555555555555556,
              "#d8576b"
             ],
             [
              0.6666666666666666,
              "#ed7953"
             ],
             [
              0.7777777777777778,
              "#fb9f3a"
             ],
             [
              0.8888888888888888,
              "#fdca26"
             ],
             [
              1,
              "#f0f921"
             ]
            ],
            "type": "histogram2d"
           }
          ],
          "histogram2dcontour": [
           {
            "colorbar": {
             "outlinewidth": 0,
             "ticks": ""
            },
            "colorscale": [
             [
              0,
              "#0d0887"
             ],
             [
              0.1111111111111111,
              "#46039f"
             ],
             [
              0.2222222222222222,
              "#7201a8"
             ],
             [
              0.3333333333333333,
              "#9c179e"
             ],
             [
              0.4444444444444444,
              "#bd3786"
             ],
             [
              0.5555555555555556,
              "#d8576b"
             ],
             [
              0.6666666666666666,
              "#ed7953"
             ],
             [
              0.7777777777777778,
              "#fb9f3a"
             ],
             [
              0.8888888888888888,
              "#fdca26"
             ],
             [
              1,
              "#f0f921"
             ]
            ],
            "type": "histogram2dcontour"
           }
          ],
          "mesh3d": [
           {
            "colorbar": {
             "outlinewidth": 0,
             "ticks": ""
            },
            "type": "mesh3d"
           }
          ],
          "parcoords": [
           {
            "line": {
             "colorbar": {
              "outlinewidth": 0,
              "ticks": ""
             }
            },
            "type": "parcoords"
           }
          ],
          "pie": [
           {
            "automargin": true,
            "type": "pie"
           }
          ],
          "scatter": [
           {
            "fillpattern": {
             "fillmode": "overlay",
             "size": 10,
             "solidity": 0.2
            },
            "type": "scatter"
           }
          ],
          "scatter3d": [
           {
            "line": {
             "colorbar": {
              "outlinewidth": 0,
              "ticks": ""
             }
            },
            "marker": {
             "colorbar": {
              "outlinewidth": 0,
              "ticks": ""
             }
            },
            "type": "scatter3d"
           }
          ],
          "scattercarpet": [
           {
            "marker": {
             "colorbar": {
              "outlinewidth": 0,
              "ticks": ""
             }
            },
            "type": "scattercarpet"
           }
          ],
          "scattergeo": [
           {
            "marker": {
             "colorbar": {
              "outlinewidth": 0,
              "ticks": ""
             }
            },
            "type": "scattergeo"
           }
          ],
          "scattergl": [
           {
            "marker": {
             "colorbar": {
              "outlinewidth": 0,
              "ticks": ""
             }
            },
            "type": "scattergl"
           }
          ],
          "scattermapbox": [
           {
            "marker": {
             "colorbar": {
              "outlinewidth": 0,
              "ticks": ""
             }
            },
            "type": "scattermapbox"
           }
          ],
          "scatterpolar": [
           {
            "marker": {
             "colorbar": {
              "outlinewidth": 0,
              "ticks": ""
             }
            },
            "type": "scatterpolar"
           }
          ],
          "scatterpolargl": [
           {
            "marker": {
             "colorbar": {
              "outlinewidth": 0,
              "ticks": ""
             }
            },
            "type": "scatterpolargl"
           }
          ],
          "scatterternary": [
           {
            "marker": {
             "colorbar": {
              "outlinewidth": 0,
              "ticks": ""
             }
            },
            "type": "scatterternary"
           }
          ],
          "surface": [
           {
            "colorbar": {
             "outlinewidth": 0,
             "ticks": ""
            },
            "colorscale": [
             [
              0,
              "#0d0887"
             ],
             [
              0.1111111111111111,
              "#46039f"
             ],
             [
              0.2222222222222222,
              "#7201a8"
             ],
             [
              0.3333333333333333,
              "#9c179e"
             ],
             [
              0.4444444444444444,
              "#bd3786"
             ],
             [
              0.5555555555555556,
              "#d8576b"
             ],
             [
              0.6666666666666666,
              "#ed7953"
             ],
             [
              0.7777777777777778,
              "#fb9f3a"
             ],
             [
              0.8888888888888888,
              "#fdca26"
             ],
             [
              1,
              "#f0f921"
             ]
            ],
            "type": "surface"
           }
          ],
          "table": [
           {
            "cells": {
             "fill": {
              "color": "#EBF0F8"
             },
             "line": {
              "color": "white"
             }
            },
            "header": {
             "fill": {
              "color": "#C8D4E3"
             },
             "line": {
              "color": "white"
             }
            },
            "type": "table"
           }
          ]
         },
         "layout": {
          "annotationdefaults": {
           "arrowcolor": "#2a3f5f",
           "arrowhead": 0,
           "arrowwidth": 1
          },
          "autotypenumbers": "strict",
          "coloraxis": {
           "colorbar": {
            "outlinewidth": 0,
            "ticks": ""
           }
          },
          "colorscale": {
           "diverging": [
            [
             0,
             "#8e0152"
            ],
            [
             0.1,
             "#c51b7d"
            ],
            [
             0.2,
             "#de77ae"
            ],
            [
             0.3,
             "#f1b6da"
            ],
            [
             0.4,
             "#fde0ef"
            ],
            [
             0.5,
             "#f7f7f7"
            ],
            [
             0.6,
             "#e6f5d0"
            ],
            [
             0.7,
             "#b8e186"
            ],
            [
             0.8,
             "#7fbc41"
            ],
            [
             0.9,
             "#4d9221"
            ],
            [
             1,
             "#276419"
            ]
           ],
           "sequential": [
            [
             0,
             "#0d0887"
            ],
            [
             0.1111111111111111,
             "#46039f"
            ],
            [
             0.2222222222222222,
             "#7201a8"
            ],
            [
             0.3333333333333333,
             "#9c179e"
            ],
            [
             0.4444444444444444,
             "#bd3786"
            ],
            [
             0.5555555555555556,
             "#d8576b"
            ],
            [
             0.6666666666666666,
             "#ed7953"
            ],
            [
             0.7777777777777778,
             "#fb9f3a"
            ],
            [
             0.8888888888888888,
             "#fdca26"
            ],
            [
             1,
             "#f0f921"
            ]
           ],
           "sequentialminus": [
            [
             0,
             "#0d0887"
            ],
            [
             0.1111111111111111,
             "#46039f"
            ],
            [
             0.2222222222222222,
             "#7201a8"
            ],
            [
             0.3333333333333333,
             "#9c179e"
            ],
            [
             0.4444444444444444,
             "#bd3786"
            ],
            [
             0.5555555555555556,
             "#d8576b"
            ],
            [
             0.6666666666666666,
             "#ed7953"
            ],
            [
             0.7777777777777778,
             "#fb9f3a"
            ],
            [
             0.8888888888888888,
             "#fdca26"
            ],
            [
             1,
             "#f0f921"
            ]
           ]
          },
          "colorway": [
           "#636efa",
           "#EF553B",
           "#00cc96",
           "#ab63fa",
           "#FFA15A",
           "#19d3f3",
           "#FF6692",
           "#B6E880",
           "#FF97FF",
           "#FECB52"
          ],
          "font": {
           "color": "#2a3f5f"
          },
          "geo": {
           "bgcolor": "white",
           "lakecolor": "white",
           "landcolor": "#E5ECF6",
           "showlakes": true,
           "showland": true,
           "subunitcolor": "white"
          },
          "hoverlabel": {
           "align": "left"
          },
          "hovermode": "closest",
          "mapbox": {
           "style": "light"
          },
          "paper_bgcolor": "white",
          "plot_bgcolor": "#E5ECF6",
          "polar": {
           "angularaxis": {
            "gridcolor": "white",
            "linecolor": "white",
            "ticks": ""
           },
           "bgcolor": "#E5ECF6",
           "radialaxis": {
            "gridcolor": "white",
            "linecolor": "white",
            "ticks": ""
           }
          },
          "scene": {
           "xaxis": {
            "backgroundcolor": "#E5ECF6",
            "gridcolor": "white",
            "gridwidth": 2,
            "linecolor": "white",
            "showbackground": true,
            "ticks": "",
            "zerolinecolor": "white"
           },
           "yaxis": {
            "backgroundcolor": "#E5ECF6",
            "gridcolor": "white",
            "gridwidth": 2,
            "linecolor": "white",
            "showbackground": true,
            "ticks": "",
            "zerolinecolor": "white"
           },
           "zaxis": {
            "backgroundcolor": "#E5ECF6",
            "gridcolor": "white",
            "gridwidth": 2,
            "linecolor": "white",
            "showbackground": true,
            "ticks": "",
            "zerolinecolor": "white"
           }
          },
          "shapedefaults": {
           "line": {
            "color": "#2a3f5f"
           }
          },
          "ternary": {
           "aaxis": {
            "gridcolor": "white",
            "linecolor": "white",
            "ticks": ""
           },
           "baxis": {
            "gridcolor": "white",
            "linecolor": "white",
            "ticks": ""
           },
           "bgcolor": "#E5ECF6",
           "caxis": {
            "gridcolor": "white",
            "linecolor": "white",
            "ticks": ""
           }
          },
          "title": {
           "x": 0.05
          },
          "xaxis": {
           "automargin": true,
           "gridcolor": "white",
           "linecolor": "white",
           "ticks": "",
           "title": {
            "standoff": 15
           },
           "zerolinecolor": "white",
           "zerolinewidth": 2
          },
          "yaxis": {
           "automargin": true,
           "gridcolor": "white",
           "linecolor": "white",
           "ticks": "",
           "title": {
            "standoff": 15
           },
           "zerolinecolor": "white",
           "zerolinewidth": 2
          }
         }
        },
        "updatemenus": [
         {
          "buttons": [
           {
            "args": [
             null,
             {
              "frame": {
               "duration": 500,
               "redraw": true
              },
              "fromcurrent": true,
              "mode": "immediate",
              "transition": {
               "duration": 500,
               "easing": "linear"
              }
             }
            ],
            "label": "&#9654;",
            "method": "animate"
           },
           {
            "args": [
             [
              null
             ],
             {
              "frame": {
               "duration": 0,
               "redraw": true
              },
              "fromcurrent": true,
              "mode": "immediate",
              "transition": {
               "duration": 0,
               "easing": "linear"
              }
             }
            ],
            "label": "&#9724;",
            "method": "animate"
           }
          ],
          "direction": "left",
          "pad": {
           "r": 10,
           "t": 70
          },
          "showactive": false,
          "type": "buttons",
          "x": 0.1,
          "xanchor": "right",
          "y": 0,
          "yanchor": "top"
         }
        ],
        "xaxis": {
         "anchor": "y",
         "domain": [
          0,
          1
         ]
        },
        "yaxis": {
         "anchor": "x",
         "domain": [
          0,
          1
         ]
        }
       }
      }
     },
     "metadata": {},
     "output_type": "display_data"
    }
   ],
   "source": [
    "# let's see if we can use the decision transformer to make a decision\n",
    "import plotly.express as px\n",
    "env_id = trajectory_data_set.metadata['args']['env_id']\n",
    "env = make_env(env_id, seed = 15, idx = 0, capture_video=False, run_name = \"dev\", fully_observed=False)\n",
    "env = env()\n",
    "\n",
    "frames = []\n",
    "\n",
    "obs, _ = env.reset()\n",
    "frames.append(env.render())\n",
    "\n",
    "\n",
    "obs = t.tensor(obs['image']).unsqueeze(0).unsqueeze(0)\n",
    "rtg = t.tensor([1]).unsqueeze(0).unsqueeze(0)\n",
    "a = t.tensor([6]).unsqueeze(0).unsqueeze(0)\n",
    "\n",
    "timesteps = t.tensor([0]).unsqueeze(0).unsqueeze(0)\n",
    "\n",
    "logits, loss = dt.forward(\n",
    "    states = obs,\n",
    "    actions = a,\n",
    "    rtgs = rtg,\n",
    "    timesteps = timesteps\n",
    ")\n",
    "\n",
    "new_action = t.argmax(logits, dim=-1)[0].item()\n",
    "print(\"taking action: \", new_action)\n",
    "new_obs, new_reward, terminated, truncated, info = env.step(new_action)\n",
    "print(\"reward: \", new_reward)\n",
    "frames.append(env.render())\n",
    "\n",
    "i = 1\n",
    "while not terminated:\n",
    "\n",
    "    # concat init obs to new obs\n",
    "    obs = t.cat([obs, t.tensor(new_obs['image']).unsqueeze(0).unsqueeze(0)], dim=1)\n",
    "\n",
    "    # add new reward to init reward\n",
    "    rtg = t.cat([rtg, t.tensor([rtg[-1][-1].item() - new_reward]).unsqueeze(0).unsqueeze(0)], dim=1)\n",
    "\n",
    "    # add new timesteps\n",
    "    timesteps = t.cat([timesteps, t.tensor([timesteps[-1][-1].item()+1]).unsqueeze(0).unsqueeze(0)], dim=1)\n",
    "    a = t.cat([a, t.tensor([new_action]).unsqueeze(0).unsqueeze(0)], dim=1)\n",
    "\n",
    "    logits, loss = dt.forward(\n",
    "        states = obs[:, -30:] if obs.shape[1] > 30 else obs,\n",
    "        actions = a[:, -30:] if a.shape[1] > 30 else a,\n",
    "        rtgs = rtg[:, -30:] if rtg.shape[1] > 30 else rtg,\n",
    "        timesteps = timesteps[:, -30:] if timesteps.shape[1] > 30 else timesteps\n",
    "    )\n",
    "    action = t.argmax(logits, dim=-1)[0][-1].item()\n",
    "    new_obs, new_reward, terminated, truncated, info = env.step(action)\n",
    "    frames.append(env.render())\n",
    "\n",
    "    # print(f\"took action  {action} at timestep {i} for reward {new_reward}\")\n",
    "    i = i + 1\n",
    "\n",
    "    if i > 40:\n",
    "        print(\"exceeded context window breaking\")\n",
    "        break\n",
    "\n",
    "frames = np.array(frames)\n",
    "\n",
    "px.imshow(frames, animation_frame=0, binary_string=True, binary_backend='jpg')"
   ]
  },
  {
   "cell_type": "code",
   "execution_count": 239,
   "metadata": {},
   "outputs": [
    {
     "name": "stderr",
     "output_type": "stream",
     "text": [
      "/Users/josephbloom/miniforge3/envs/decision_transformer_interpretability/lib/python3.9/site-packages/gymnasium/wrappers/record_video.py:79: UserWarning:\n",
      "\n",
      "\u001b[33mWARN: Overwriting existing videos at /Users/josephbloom/GithubRepositories/DecisionTransformerInterpretability/videos/dev folder (try specifying a different `video_folder` for the `RecordVideo` wrapper if this is not desired)\u001b[0m\n",
      "\n"
     ]
    },
    {
     "name": "stdout",
     "output_type": "stream",
     "text": [
      "completed 113 trajectories out of 300\n"
     ]
    },
    {
     "name": "stderr",
     "output_type": "stream",
     "text": [
      "/Users/josephbloom/miniforge3/envs/decision_transformer_interpretability/lib/python3.9/site-packages/plotly/io/_renderers.py:395: DeprecationWarning:\n",
      "\n",
      "distutils Version classes are deprecated. Use packaging.version instead.\n",
      "\n",
      "/Users/josephbloom/miniforge3/envs/decision_transformer_interpretability/lib/python3.9/site-packages/plotly/io/_renderers.py:395: DeprecationWarning:\n",
      "\n",
      "distutils Version classes are deprecated. Use packaging.version instead.\n",
      "\n"
     ]
    },
    {
     "data": {
      "application/vnd.plotly.v1+json": {
       "config": {
        "plotlyServerURL": "https://plot.ly"
       },
       "data": [
        {
         "hovertemplate": "x: %{x}<br>y: %{y}<br>color: %{z}<extra></extra>",
         "name": "0",
         "source": "data:image/png;base64,iVBORw0KGgoAAAANSUhEUgAAAQAAAAEACAIAAADTED8xAAAFj0lEQVR4Xu3dPW4TWxjH4Zeru4O4YAl0LIDUdBFZARKSWQGRWMOVoKFN2MMgOuqwAKhgD/YebsFHzCHYDpkv5/88VfIqsVLkN2dm4sy5t1wuC1L90w4giQCIJgCiCYBoAiCaAIgmAKIJgGgCIJoAiCYAogmAaAIgmgCIJgCiCYBoAiCaAIgmAKIJgGgCIJoAiCYAogmAaAIgmgCIJgCiCYBoAiCaAIgmAKIJgGj/toMBXFxctKP+LJdLr7/FCBugHPTPbwUgmgCIJgCiCYBoAiCaAIgmAKIJgGgCIJoAiCYAogmAaAIgmgCIJgCiCYBoAiCaAIgmAKIJgGgCIJoAiCYAogmAaAIgmgCIJgCiCYBoAiCaAIh2b+jHTzOt8/MBn11eVc+fH/bvj/0Bdjj01z8/bye9G/TnH/oAPUYATO7Fi3Zye69ft5ND5BqAaAIgmgCIJgCiCYBoAiCaAIgmAKIJgGgCIJoAiCYAogmAaN4Nyi8ePqynT9thDfN+0jmwAhDNCsAvPn26swf7a1kBiCYAogmAaAIgmgCIJgCiCYBoAiCaAIgmAKIJgGjeCxThbjzHcwhWAKLde/PmTTvjDvn8+XM7YsMYp0AfPnxoR/15/Pix19/i/v377ahvB70/gFMgogmAaGOcAjVeVh23s71cVv3XzuBWJlgBunawr64dwG1NEMDXqi/tbLcvVV/bGdzWBAFU1WU72O0vvgV2miaAd+1gt7/4FthpmgDqhif0XTuAfkwWwI1OaW70xbC/yQLY/1LY5S/DmSyA2vvEpmsH0JspA/hYtWpnrVXVx3YGvZkygNrj5H7nF8BtTBxA1w5aXTuAPk0cwHrrMf6yat3OoE8TB1Bbj/FdO4CeTR/A1z9cCq/c/WR40wdQfzjSd+0A+jeLAK69DLh2CP2aRQDr3473nctfRjGLAOq3473DP+OYSwCbbw3y5h9GM5cAauOo7/DPaGYUwLuqVdXK/74wogmeCrGFYz8jm1cAXTuAYc0rALc+GdmMrgFgfAIgmgCIZn+AO87+ANuNcRE86PPvh36+/qG/vv0BtnMKRLQxVoA9HR3V6Wmdnn7/dLWqy8vqulq7Ocpg5hLAo0e1XNZicTVZLOr0tI6P6+xMAwxlFqdAR0ftb/9Pi0W9etUOoS+zCOD09Prf/m8Wi3rypB1CL+YSwE9dVycndXJSlxvvjDv+uz2VYJdZBLDp7dvvH2zeW3vw4Opj6NHsAoAxzS6Aly+rflwW//Rlzyepww3N4jZo111dBhwfX3PGv3k9AD2axQrQdbW69ulwVVW1WtU7/yXJMGYRwHpdZ2fXN7Ba1dlZO4S+zCKA+tFA1/0yvLioZ8/8GZgBzSWAqlqvr+6BfuPMh6HNKAAYnwCIJgCizeLvAO/ftxMYhxWAaLNYAU5Orj62GjAmKwDRBEA0ARBNAESbxUWwC1+mYgUg2ixWgM3boDAmKwDRBEA0ARDN/gB3nP0BthvjInjQ598P/Xz9Q399+wNs5xSIaAIgmgCIJgCiCYBoAiCaAIgmAKIJgGgCIJoAiCYAogmAaAIgmgCIJgCiCYBoAiCaAIgmAKIJgGgCIJoAiCYAogmAaAIgmgCIJgCiCYBoAiCa/QHuuKH3B7g4H/DZ6FW1fD7s49HtD7DDob/+CPsDHDSnQEQTANEEQDQBEE0ARBMA0QRANAEQTQBEEwDRBEA0ARBNAEQTANEEQDQBEE0ARBMA0QRANAEQTQBEEwDRBEA0ARBNAEQTANEEQDQBEE0ARBMA0ewPcMcNvT/AobMCEE0ARBMA0QRANAEQTQBEEwDRBEA0ARBNAEQTANEEQDQBEE0ARBMA0QRANAEQTQBEEwDRBEA0ARBNAEQTANEEQDQBEE0ARBMA0QRANAEQTQBEEwDR/gf0Mu7b02w+bQAAAABJRU5ErkJggg==",
         "type": "image",
         "xaxis": "x",
         "yaxis": "y"
        }
       ],
       "frames": [
        {
         "data": [
          {
           "name": "0",
           "source": "data:image/png;base64,iVBORw0KGgoAAAANSUhEUgAAAQAAAAEACAIAAADTED8xAAAFj0lEQVR4Xu3dPW4TWxjH4Zeru4O4YAl0LIDUdBFZARKSWQGRWMOVoKFN2MMgOuqwAKhgD/YebsFHzCHYDpkv5/88VfIqsVLkN2dm4sy5t1wuC1L90w4giQCIJgCiCYBoAiCaAIgmAKIJgGgCIJoAiCYAogmAaAIgmgCIJgCiCYBoAiCaAIgmAKIJgGgCIJoAiCYAogmAaAIgmgCIJgCiCYBoAiCaAIgmAKIJgGj/toMBXFxctKP+LJdLr7/FCBugHPTPbwUgmgCIJgCiCYBoAiCaAIgmAKIJgGgCIJoAiCYAogmAaAIgmgCIJgCiCYBoAiCaAIgmAKIJgGgCIJoAiCYAogmAaAIgmgCIJgCiCYBoAiCaAIh2b+jHTzOt8/MBn11eVc+fH/bvj/0Bdjj01z8/bye9G/TnH/oAPUYATO7Fi3Zye69ft5ND5BqAaAIgmgCIJgCiCYBoAiCaAIgmAKIJgGgCIJoAiCYAogmAaN4Nyi8ePqynT9thDfN+0jmwAhDNCsAvPn26swf7a1kBiCYAogmAaAIgmgCIJgCiCYBoAiCaAIgmAKIJgGjeCxThbjzHcwhWAKLde/PmTTvjDvn8+XM7YsMYp0AfPnxoR/15/Pix19/i/v377ahvB70/gFMgogmAaGOcAjVeVh23s71cVv3XzuBWJlgBunawr64dwG1NEMDXqi/tbLcvVV/bGdzWBAFU1WU72O0vvgV2miaAd+1gt7/4FthpmgDqhif0XTuAfkwWwI1OaW70xbC/yQLY/1LY5S/DmSyA2vvEpmsH0JspA/hYtWpnrVXVx3YGvZkygNrj5H7nF8BtTBxA1w5aXTuAPk0cwHrrMf6yat3OoE8TB1Bbj/FdO4CeTR/A1z9cCq/c/WR40wdQfzjSd+0A+jeLAK69DLh2CP2aRQDr3473nctfRjGLAOq3473DP+OYSwCbbw3y5h9GM5cAauOo7/DPaGYUwLuqVdXK/74wogmeCrGFYz8jm1cAXTuAYc0rALc+GdmMrgFgfAIgmgCIZn+AO87+ANuNcRE86PPvh36+/qG/vv0BtnMKRLQxVoA9HR3V6Wmdnn7/dLWqy8vqulq7Ocpg5hLAo0e1XNZicTVZLOr0tI6P6+xMAwxlFqdAR0ftb/9Pi0W9etUOoS+zCOD09Prf/m8Wi3rypB1CL+YSwE9dVycndXJSlxvvjDv+uz2VYJdZBLDp7dvvH2zeW3vw4Opj6NHsAoAxzS6Aly+rflwW//Rlzyepww3N4jZo111dBhwfX3PGv3k9AD2axQrQdbW69ulwVVW1WtU7/yXJMGYRwHpdZ2fXN7Ba1dlZO4S+zCKA+tFA1/0yvLioZ8/8GZgBzSWAqlqvr+6BfuPMh6HNKAAYnwCIJgCizeLvAO/ftxMYhxWAaLNYAU5Orj62GjAmKwDRBEA0ARBNAESbxUWwC1+mYgUg2ixWgM3boDAmKwDRBEA0ARDN/gB3nP0BthvjInjQ598P/Xz9Q399+wNs5xSIaAIgmgCIJgCiCYBoAiCaAIgmAKIJgGgCIJoAiCYAogmAaAIgmgCIJgCiCYBoAiCaAIgmAKIJgGgCIJoAiCYAogmAaAIgmgCIJgCiCYBoAiCa/QHuuKH3B7g4H/DZ6FW1fD7s49HtD7DDob/+CPsDHDSnQEQTANEEQDQBEE0ARBMA0QRANAEQTQBEEwDRBEA0ARBNAEQTANEEQDQBEE0ARBMA0QRANAEQTQBEEwDRBEA0ARBNAEQTANEEQDQBEE0ARBMA0ewPcMcNvT/AobMCEE0ARBMA0QRANAEQTQBEEwDRBEA0ARBNAEQTANEEQDQBEE0ARBMA0QRANAEQTQBEEwDRBEA0ARBNAEQTANEEQDQBEE0ARBMA0QRANAEQTQBEEwDR/gf0Mu7b02w+bQAAAABJRU5ErkJggg==",
           "type": "image"
          }
         ],
         "layout": {
          "margin": {
           "t": 60
          }
         },
         "name": "0"
        },
        {
         "data": [
          {
           "name": "1",
           "source": "data:image/png;base64,iVBORw0KGgoAAAANSUhEUgAAAQAAAAEACAIAAADTED8xAAAEjElEQVR4Xu3dsXEUSRiA0ebqgiALEjibMLCWCDAuhjNwcKUgFlc2BAAW5CByOBca2JXQzszufu+Zf0lTMvT19KhW0892u92Aqr/mAZQIgDQBkCYA0gRAmgBIEwBpAiBNAKQJgDQBkCYA0gRAmgBIEwBpAiBNAKQJgDQBkCYA0gRAmgBIEwBpAiBNAKQJgDQBkCYA0gRAmgBIEwBpAiDt73mwgNvb23l0OrvdzvUPWOEAlIv++d0BSBMAaQIgTQCkCYA0AZAmANIEQJoASBMAaQIgTQCkCYA0AZAmANIEQJoASBMAaQIgTQCkCYA0AZAmANIEQJoASBMAaQIgTQCkCYA0AZD2bOnXT7Otm5sF310+xnj9+rJ/f5wPcMSlX//mZp6c3KI//9IL9BoBsLk3b+bJ0719O08ukWcA0gRAmgBIEwBpAiBNAKQJgDQBkCYA0gRAmgBIEwBpAiDNp0H5wYsX49WreTiW+TzpOXAHIM0dgB98+nS1i/0vuQOQJgDSBECaAEgTAGkCIE0ApAmANAGQJgDSBECazwIlXMd7PJfgDkDas3fv3s0zrsjnz5/nEd9ZYwt0d3c3j07n5cuXrn/A8+fP59GpXfT5ALZApAmAtDW2QJN/x/hnnj3IhzH+m2fwJBvcAfbz4KH28wCeaoMAvo7xZZ4d92WMr/MMnmqDAMYYH+bBcX/wLXDUNgG8nwfH/cG3wFHbBDAeuaHfzwM4jc0CeNSW5lFfDA+3WQAPfxT2+MtyNgtgPHhjs58HcDJbBvBxjPt5Nrsf4+M8g5PZMoDxgM390S+Ap9g4gP08mO3nAZzSxgF8O7jGfxjj2zyDU9o4gHFwjd/PAzix7QP4+ptH4Xt//WR52wcwfrPS7+cBnN5ZBPDLx4BfDuG0ziKAbz+t93uPv6ziLAIYP633ln/WcS4BfP/RIB/+YTXnEsD4btW3/LOaMwrg/Rj3Y9z73xdWtMFbIQ6w9rOy8wpgPw9gWecVgD99srIzegaA9QmANAGQ5nyAK+d8gMPWeAhe9P33S79f/9Kv73yAw2yBSBMAaQIgTQCkCYA0AZAmANIEQJoASBMAaQIgTQCkCYA0AZAmANIEQJoASBMAaQIgTQCkCYA0AZAmANIEQJoASBMAaQIgTQCkCYA0AZDmfIAr53yAw5wPcMSlX9/5AIfZApEmANIEQJoASBMAaQIgTQCkCYA0AZAmANIEQJoASBMAaQIgTQCkCYA0AZAmANIEQJoASBMAaQIgTQCkCYA0AZAmANIEQJoASBMAaQIgzfkAV27p8wFubxZ8N/oYY/d62dejOx/giEu//grnA1w0WyDSBECaAEgTAGkCIE0ApAmANAGQJgDSBECaAEgTAGkCIE0ApAmANAGQJgDSBECaAEgTAGkCIE0ApAmANAGQJgDSBECaAEgTAGkCIE0ApDkf4MotfT7ApXMHIE0ApAmANAGQJgDSBECaAEgTAGkCIE0ApAmANAGQJgDSBECaAEgTAGkCIE0ApAmANAGQJgDSBECaAEgTAGkCIE0ApAmANAGQJgDSBECaAEj7H+cZrenchj73AAAAAElFTkSuQmCC",
           "type": "image"
          }
         ],
         "layout": {
          "margin": {
           "t": 60
          }
         },
         "name": "1"
        },
        {
         "data": [
          {
           "name": "2",
           "source": "data:image/png;base64,iVBORw0KGgoAAAANSUhEUgAAAQAAAAEACAIAAADTED8xAAAEjElEQVR4Xu3dsXXUWBiA0ceeLcJd0MDGlEE0VECwNWxA4tQuYkiJoQAcQQ+mh03hYWYMHkkz/u4N/+PRmcDfk+Qj673Y7XYDqv6aB1AiANIEQJoASBMAaQIgTQCkCYA0AZAmANIEQJoASBMAaQIgTQCkCYA0AZAmANIEQJoASBMAaQIgTQCkCYA0AZAmANIEQJoASBMAaQIgTQCkCYC0v+fBAm5vb+fR6ex2O8c/YIUNUC76+zsDkCYA0gRAmgBIEwBpAiBNAKQJgDQBkCYA0gRAmgBIEwBpAiBNAKQJgDQBkCYA0gRAmgBIEwBpAiBNAKQJgDQBkCYA0gRAmgBIEwBpAiDtxdKvn2ZbNzcLvrt8jPHmzWX//tgf4IhLP/7NzTw5uUW//9IL9BoBsLm3b+fJ0717N08ukXsA0gRAmgBIEwBpAiBNAKQJgDQBkCYA0gRAmgBIEwBpAiDN06D84OXL8fr1PBzLPE96DpwBSHMG4AefPz/bxf5BzgCkCYA0AZAmANIEQJoASBMAaQIgTQCkCYA0AZDmWaCE5/EezyU4A5BmfwDS1rgEWvr98Y5/wAoL3EV/f5dApAmANAGQJgDSBECaAEgTAGkCIE0ApAmANAGQJgDSBECaAEgTAGkCIE0ApAmANAGQJgDSBECaAEgTAGkCIE0ApAmANAGQJgDSBECaAEh7cX19Pc94Ru7u7uYR31ljf4APHz7Mo9N59eqV4x9wdXU1j07N/gBwqQRA2hqXQJN/x/hnnj3KxzH+m2fwJBucAfbz4LH28wCeaoMAvo7xZZ4d92WMr/MMnmqDAMYYH+fBcX/wEThqmwDez4Pj/uAjcNQ2AYzfvKDfzwM4jc0C+K1Lmt/6YXi8zQJ4/K2w21+Ws1kA49EXNvt5ACezZQCfxrifZ7P7MT7NMziZLQMYj7i4P/oD8BQbB7CfB7P9PIBT2jiAbwfX+I9jfJtncEobBzAOrvH7eQAntn0AX39xK3zvr58sb/sAxi9W+v08gNM7iwAevA14cAindRYBfPtpvd+7/WUVZxHA+Gm9t/yzjnMJ4PtHgzz8w2rOJYDx3apv+Wc1ZxTA+zHux7j3vy+saIO3Qhxg7Wdl5xXAfh7Ass4rAH/6ZGVndA8A6xMAaQIgzf4Az5z9AQ5b4yZ40fffL/1+/Us/vv0BDnMJRJoASBMAaQIgTQCkCYA0AZAmANIEQJoASBMAaQIgTQCkCYA0AZAmANIEQJoASBMAaQIgTQCkCYA0AZAmANIEQJoASBMAaQIgTQCkCYA0+wM8c0vvD3B7s+C70ccYuzfLvh7d/gBHXPrxV9gf4KK5BCJNAKQJgDQBkCYA0gRAmgBIEwBpAiBNAKQJgDQBkCYA0gRAmgBIEwBpAiBNAKQJgDQBkCYA0gRAmgBIEwBpAiBNAKQJgDQBkCYA0gRAmv0Bnrml9we4dM4ApAmANAGQJgDSBECaAEgTAGkCIE0ApAmANAGQJgDSBECaAEgTAGkCIE0ApAmANAGQJgDSBECaAEgTAGkCIE0ApAmANAGQJgDSBECaAEgTAGn/A9dlq3PNz1noAAAAAElFTkSuQmCC",
           "type": "image"
          }
         ],
         "layout": {
          "margin": {
           "t": 60
          }
         },
         "name": "2"
        },
        {
         "data": [
          {
           "name": "3",
           "source": "data:image/png;base64,iVBORw0KGgoAAAANSUhEUgAAAQAAAAEACAIAAADTED8xAAAEiklEQVR4Xu3dvXEUWRhA0cfWBkEWJLA2YWANEWBsDGvg4EpBDK5sCAAsyEHksC48QCOh/pnRPcf8StM1hu7rblWr37PD4TCg6q95ACUCIE0ApAmANAGQJgDSBECaAEgTAGkCIE0ApAmANAGQJgDSBECaAEgTAGkCIE0ApAmANAGQJgDSBECaAEgTAGkCIE0ApAmANAGQJgDSBECaAEj7ex6s4Pr6eh4t53A4OP4dNtgA5aK/vzMAaQIgTQCkCYA0AZAmANIEQJoASBMAaQIgTQCkCYA0AZAmANIEQJoASBMAaQIgTQCkCYA0AZAmANIEQJoASBMAaQIgTQCkCYA0AZAmANKerf36afZ1dbXiu8vHGK9fX/bvj/0BTrj0419dzZPFrfr9116gtwiA3b15M08e7+3beXKJ3AOQJgDSBECaAEgTAGkCIE0ApAmANAGQJgDSBECaAEgTAGmeBuUHL16MV6/m4VjnedJz4AxAmjMAP/j06cku9r/kDECaAEgTAGkCIE0ApAmANAGQJgDSBECaAEgTAGmeBUp4Gu/xXIMzAGn2ByBti0ugtd8f7/h32GCBu+jv7xKINAGQJgDSBECaAEgTAGkCIE0ApAmANAGQJgDSBECaAEgTAGkCIE0ApAmANAGQJgDSBECaAEgTAGkCIE0ApAmANAGQJgDSBECaAEgTAGn2ByDN/gAnPIHjz6OlXfT3dwlEmgBIEwBpAiBNAKQJgDQBkCYA0gRAmgBIEwBpAiBNAKQJgDQBkCYA0gRAmgBIEwBpAiBNAKQJgDQBkCYA0gRAmgBIEwBpAiBNAKQJgLRn7969m2c8IZ8/f55HfGeL/QFubm7m0XJevnzp+Hd4/vz5PFqa/QHgUgmAtC0ugSb/jvHPPLuXD2P8N8/gUXY4AxznwX0d5wE81g4BfB3jyzw77csYX+cZPNYOAYwxPsyD0/7gI3DSPgG8nwen/cFH4KR9AhgPvKA/zgNYxm4BPOiS5kE/DPe3WwD3vxV2+8t6dgtg3PvC5jgPYDF7BvBxjNt5Nrsd4+M8g8XsGcC4x8X9yR+Ax9g5gOM8mB3nASxp5wC+3bnGfxjj2zyDJe0cwLhzjT/OA1jY/gF8/c2t8K2/frK+/QMYv1npj/MAlncWAfzyNuCXQ1jWWQTw7af1/uj2l02cRQDjp/Xe8s82ziWA7x8N8vAPmzmXAMZ3q77ln82cUQDvx7gd49b/vrChHd4KcQdrPxs7rwCO8wDWdV4B+NMnGzujewDYngBIEwBp9gd44tbeH+D6asV3o48xDq8P82hRW9wEr/r++7Xfr3/px99gf4CL5hKINAGQJgDSBECaAEgTAGkCIE0ApAmANAGQJgDSBECaAEgTAGkCIE0ApAmANAGQJgDSBECaAEgTAGkCIE0ApAmANAGQJgDSBECaAEgTAGn2B3ji1t4f4NI5A5AmANIEQJoASBMAaQIgTQCkCYA0AZAmANIEQJoASBMAaQIgTQCkCYA0AZAmANIEQJoASBMAaQIgTQCkCYA0AZAmANIEQJoASBMAaQIgTQCk/Q9kVKj9eFkljQAAAABJRU5ErkJggg==",
           "type": "image"
          }
         ],
         "layout": {
          "margin": {
           "t": 60
          }
         },
         "name": "3"
        },
        {
         "data": [
          {
           "name": "4",
           "source": "data:image/png;base64,iVBORw0KGgoAAAANSUhEUgAAAQAAAAEACAIAAADTED8xAAAEfklEQVR4Xu3dvXEUWRhA0cfWBkEWJLA2YWANEWBsDGvg4EpBDK5sCAAsyEHksC48QCOh/pnRPcf8Supqg/u6W9X0e3Y4HAZU/TUPoEQApAmANAGQJgDSBECaAEgTAGkCIE0ApAmANAGQJgDSBECaAEgTAGkCIE0ApAmANAGQJgDSBECaAEgTAGkCIE0ApAmANAGQJgDSBECaAEgTAGl/z4MVXF9fz6PlHA4Hx7/DBhugXPT5uwKQJgDSBECaAEgTAGkCIE0ApAmANAGQJgDSBECaAEgTAGkCIE0ApAmANAGQJgDSBECaAEgTAGkCIE0ApAmANAGQJgDSBECaAEgTAGkCIO3Z2p+fZl9XVyt+u3yM8fr1Zf/7sT/ACZd+/KurebK4Vc9/7QV6iwDY3Zs38+Tx3r6dJ5fIMwBpAiBNAKQJgDQBkCYA0gRAmgBIEwBpAiBNAKQJgDQBkOZtUH7w4sV49WoejnXeJz0HrgCkuQLwg0+fnuxi/0uuAKQJgDQBkCYA0gRAmgBIEwBpAiBNAKQJgDQBkOZdoISn8R3PNbgCkGZ/ANK2uAVa+/vxjn+HDRa4iz5/t0CkCYA0AZAmANIEQJoASBMAaQIgTQCkCYA0AZAmANIEQJoASBMAaQIgTQCkCYA0AZAmANIEQJoASBMAaQIgTQCkCYA0AZAmANIEQJoASLM/AGn2BzjhCRx/Hi3tos/fLRBpAiBNAKQJgDQBkCYA0gRAmgBIEwBpAiBNAKQJgDQBkCYA0gRAmgBIEwBpAiBNAKQJgDQBkCYA0gRAmgBIEwBpAiBNAKQJgDQBkCYA0uwPQJr9AU54AsefR0u76PN3C0SaAEgTAGkCIE0ApAmANAGQJgDSBECaAEgTAGkCIE0ApAmANAGQJgDSBECaAEgTAGkCIE0ApAmANAGQJgDSBECaAEgTAGkCIE0ApAmAtGfv3r2bZzwhnz9/nkeLur5a8dvoY4zD63U/j77F/gA3NzfzaDkvX750/Ds8f/58HvEdt0CkCYC0LW6BJv+O8c88u5cPY/w3z+BRdrgCHOfBfR3nATzWDgF8HePLPDvtyxhf5xk81g4BjDE+zIPT/uBX4KR9Ang/D077g1+Bk/YJYDzwhv44D2AZuwXwoFuaB/0w3N9uAdz/UdjjL+vZLYBx7xub4zyAxewZwMcxbufZ7HaMj/MMFrNnAOMeN/cnfwAeY+cAjvNgdpwHsKSdA/h25xr/YYxv8wyWtHMA4841/jgPYGH7B/D1N4/Ct/76yfr2D2D8ZqU/zgNY3lkE8MvHgF8OYVlnEcC3n9b7o8dfNnEWAYyf1nvLP9s4lwC+fzXIyz9s5lwCGN+t+pZ/NnNGAbwf43aMW//3hQ3t8FWIO1j72dh5BXCcB7Cu8wrAnz7Z2Bk9A8D2BECaAEizP8ATt/b+AJfOFYA0AZAmANIEQJoASBMAaQIgTQCkCYA0AZAmANIEQJoASBMAaQIgTQCkCYA0AZAmANIEQJoASBMAaQIgTQCkCYA0AZAmANIEQJoASBMAaQIg7X+N16aHlXyB0AAAAABJRU5ErkJggg==",
           "type": "image"
          }
         ],
         "layout": {
          "margin": {
           "t": 60
          }
         },
         "name": "4"
        },
        {
         "data": [
          {
           "name": "5",
           "source": "data:image/png;base64,iVBORw0KGgoAAAANSUhEUgAAAQAAAAEACAIAAADTED8xAAAEa0lEQVR4Xu3dsY0UVxzA4T+WO8ABHeCMAkwLlq8ChKW9CgjcgglISO/oAVJyCuAiXw+mBwcn0DGyOQt2Znf5fV/4VhpNsL9983ZX793b7XYDVT8sB6BEAKQJgDQBkCYA0gRAmgBIEwBpAiBNAKQJgDQBkCYA0gRAmgBIEwBpAiBNAKQJgDQBkCYA0gRAmgBIEwBpAiBNAKQJgDQBkCYA0gRAmgBIEwBpPy4HVnB5ebkc2p/dbuf6X7DBASgnff9mANIEQJoASBMAaQIgTQCkCYA0AZAmANIEQJoASBMAaQIgTQCkCYA0AZAmANIEQJoASBMAaQIgTQCkCYA0AZAmANIEQJoASBMAaQIgTQCk3Vt7+2kO6+Jixb3LZ+b8/LTfP84HuMOpX//iYjmyd6ve/9of0FsEwME9e7Yc+XYvXixHTpE1AGkCIE0ApAmANAGQJgDSBECaAEgTAGkCIE0ApAmANAGQ5t+gfObRo3nyZDk46/yf9BiYAUgzA/CZ9++/2w/7f2UGIE0ApAmANAGQJgDSBECaAEgTAGkCIE0ApAmANP8FSvg+9vFcgxmAtHsvX75cjp2Uq6ur5RD8b1s8Ar19+3Y5tD8PHjxYe3/6U7/+cmjfTvr+PQKRJgDSBECaAEgTAGkCIE0ApAmANAGQJgDSBECaAEgTAGkCIE0ApAmANAGQJgDSBECaAEgTAGkCIE0ApAmANAGQJgDSBECaAEgTAGkCIM35AKQ5H+AOG+zfv/b1l0P7dtL37xGINAGQJgDSBECaAEgTAGkCIE0ApAmANAGQJgDSBECaAEgTAGkCIE0ApAmANAGQJgDSBECaAEgTAGkCIE0ApAmANAGQJgDSBECaAEgTAGnOByDN+QB32GD//rWvvxzat5O+f49ApAmANAGQJgDSBECaAEgTAGkCIE0ApAmANAGQJgDSBECaAEgTAGkCIE0ApAmANAGQJgDSBECaAEgTAGkCIE0ApAmANAGQJgDSBECaAEhzPgDf5PJixb3RZ2Z3vu726M4HuMMG+/evff3lELd4BCJNAKQJgDQBkHZiATyc+WM5Bl9vi2+B9uK3mcczP8/MzPPFa/C1jj2AhzOPZ86Ww7AfxxvALzNnHz/yYSVHF8D9mbOZxzM/LV+B/TuiAB5+fOvDZg4fwP2PT/k+8tneIQOwwOXgDhPA7e804YA2DcACl2NzYr8Ew35tGsCHmVczv89czvy1fBEOYNNHoE/ezLyxCOYIHCaAG9cz1zOvfQ3K4RwygBsfbk0IZ34IY1ubrgG+7Hrm+czTmdczfy9fhFUcUQA3Pi2U/7RQZn2HfwT6L+9m3lkos7KjmwEWrmdezfzqm1PWcbwzwMLthTLsy7HPAAs3C2XYlxMLAPZLAKQJgDQBkCYA0pwPQJoZgDQBkCYA0gRAmgBIEwBpAiBNAKQJgDQBkCYA0gRAmgBIEwBpAiBNAKQJgDQBkCYA0gRAmgBIEwBpAiBNAKQJgDQBkCYA0gRAmgBIEwBpAiDtH5q8niTpXKmDAAAAAElFTkSuQmCC",
           "type": "image"
          }
         ],
         "layout": {
          "margin": {
           "t": 60
          }
         },
         "name": "5"
        },
        {
         "data": [
          {
           "name": "6",
           "source": "data:image/png;base64,iVBORw0KGgoAAAANSUhEUgAAAQAAAAEACAIAAADTED8xAAAEk0lEQVR4Xu3dMXYTVxiA0UdOdmAX3oHpWADUtGgFVKZ0GlZBQeM2Xgm7wCtKkZPEvBgJjEYj6bu38vltTffNm9EZz3txd3c3OF8PDw/ziEd+mwdQIgDSBECaAEgTAGkCIE0ApAmANAGQJgDSBECaAEgTAGkCIE0ApAmANAGQJgDSBECaAEgTAGkCIE0ApAmANAGQJgDSBECaAEgTAGkCIE0ApAmAtN/nwQK+fPkyj/bn7du3jr/F1dXVPNq3+/v7ebQ/Nzc382ivrACkCYA0AZAmANIEQJoASBMAaQIgTQCkCYA0AZAmANIEQJoASBMAaQIgTQCkCYA0AZAmANIEQJoASBMAaQIgTQCkCYA0AZAmANIEQJoASHtxd3c3zzgjt7d/zKO9+vBh2deXL83+ADuc+vFvb+fJ3p30/gCHCIDVffw4T37d58/z5BS5ByBNAKQJgDQBkCYA0gRAmgBIEwBpAiBNAKQJgDQBkCYA0jwNyjdevRrv38/DsczzpMfACkCaFYBvfP16tif7J1kBSBMAaQIgTQCkCYA0AZAmANIEQJoASBMAaQIgzbNACefxHs8lWAFIsz/AmXt4eJhHPHKIS6BF33+/9Pv1T/34V1dX82jfTnp/AJdApAmANAGQJgDSBECaAEgTAGkCIE0ApAmANAGQJgDSBECaAEgTAGkCIE0ApAmANAGQJgDSBECaAEgTAGkCIE0ApAmANAGQJgDSBECaAEizP8CZsz/AdvYH2OHUj29/gO1cApEmANIEQJoASBMAaQIgTQCkCYA0AZAmANIEQJoASBMAaQIgTQCkCYA0AZAmANIEQJoASBMAaQIgTQCkCYA0AZAmANIEQJoASBMAaQIgzf4AZ87+ANvZH2CHUz++/QG2cwlEmgBIEwBpAiBNAKQJgDQBkCYA0gRAmgBIEwBpAiBNAKQJgDQBkCYA0gRAmgBIEwBpAiBNAKQJgDQBkCYA0gRAmgBIEwBpAiBNAKQJgDT7A5y5pfcHuP9zwXejjzFuPiz7enT7A+xw6sc/wP4AJ80lEGkCIO24ArgY42KewYKOK4DNGJt5Bgs6rgDejPFmnsGCjiiAd2NcjnE5xrv5N7CUIwrg33O/RYCDOZYArsd4+c/PL8e4fvw7WMyxBDCd9S0CHMZRBHDxvy9/Nr4P5SCOIoAnz/dPDmG/jiKAzTwY4ztD2K/1A7ge43KejTHGpVthlrd+AJt58J/NPIA9WzmAi63X+m/cCrOwlQPYzIPZZh7APq0cwJbT/992/gH8ijUDeP2d29/HLsd4Pc9gb9YMYDMPnraZB7A3qwXw+OGf7TwaxHJWC+CnLu5/6o/hx60WwGYebLOZB7Af6wTwjH95ecZHYKd1AnjGJc0zPgI7rRDAj9/+PuZWmCWsEMBmHvyozTyAX3WIVyNOPo3xaZ7BOlZYAeB4CIA0AZD24uZm2fevwzGzApAmANIEQJoASBMAaQIgTQCkCYA0AZAmANIEQJoASBMAaQIgTQCkCYA0AZAmANIEQJoASBMAaQIgTQCkCYA0AZAmANIEQJoASBMAaQIgTQCk/QWGGYnSh5lWzwAAAABJRU5ErkJggg==",
           "type": "image"
          }
         ],
         "layout": {
          "margin": {
           "t": 60
          }
         },
         "name": "6"
        },
        {
         "data": [
          {
           "name": "7",
           "source": "data:image/png;base64,iVBORw0KGgoAAAANSUhEUgAAAQAAAAEACAIAAADTED8xAAAEjElEQVR4Xu3dMVbcVhiA0eec7AAKdoA7L8Cu3XpW4AqXpPEqXLihDSvxLsyKUuQkwS94sLGEZua7t+L8A6r49CSO0Htxc3MzOF13d3fziHt+mwdQIgDSBECaAEgTAGkCIE0ApAmANAGQJgDSBECaAEgTAGkCIE0ApAmANAGQJgDSBECaAEgTAGkCIE0ApAmANAGQJgDSBECaAEgTAGkCIE0ApAmAtN/nwQq+fPkyj5bz9u1bx9/j4uJiHi3t9vZ2Hi3n6upqHi3KCkCaAEgTAGkCIE0ApAmANAGQJgDSBECaAEgTAGkCIE0ApAmANAGQJgDSBECaAEgTAGkCIE0ApAmANAGQJgDSBECaAEgTAGkCIE0ApAmAtBc3NzfzjBNyff3HPFrUhw/rvr58bfYHeMSxH//6ep4s7qj3B3iOANjcx4/z5Nd9/jxPjpF7ANIEQJoASBMAaQIgTQCkCYA0AZAmANIEQJoASBMAaQIgzdOgfOPVq/H+/Twc6zxPegisAKRZAfjG168ne7J/kBWANAGQJgDSBECaAEgTAGkCIE0ApAmANAGQJgDSPAuUcBrv8VyDFYA0+wOcuLu7u3nEPc9xCbTq++/Xfr/+sR//4uJiHi3tqPcHcAlEmgBIEwBpAiBNAKQJgDQBkCYA0gRAmgBIEwBpAiBNAKQJgDQBkCYA0gRAmgBIEwBpAiBNAKQJgDQBkCYA0gRAmgBIEwBpAiBNAKQJgDT7A5w4+wPsZ3+ARxz78e0PsJ9LINIEQJoASBMAaQIgTQCkCYA0AZAmANIEQJoASBMAaQIgTQCkCYA0AZAmANIEQJoASBMAaQIgTQCkCYA0AZAmANIEQJoASBMAaQIgTQCk2R/gxNkfYD/7Azzi2I9vf4D9XAKRJgDSDiuAszHO5hms6LAC2I2xm2ewosMK4M0Yb+YZrOiAAng3xvkY52O8mz+BtRxQAP+e+y0CPJtDCeByjJf/fP1yjMv7n8FqDiWA6axvEeB5HEQAZ//748/O30N5FgcRwIPn+weHsKyDCGA3D8b4zhCWtX0Al2Ocz7Mxxjh3K8z6tg9gNw/+s5sHsLCNAzjbe63/xq0wK9s4gN08mO3mASxp4wD2nP7/9ug3wK/YMoDX37n9ve98jNfzDBazZQC7efCw3TyAxWwWwP2Hf/bzaBDr2SyAn7q4/6lvhh+3WQC7ebDPbh7AMrYJ4An/8vKEH4FHbRPAEy5pnvAj8KgNAvjx29/73Aqzhg0C2M2DH7WbB/CrnuPViJNPY3yaZ7CNDVYAOBwCIE0ApL1Y+/XTnLbbP2/n0aKuPqz7+/kcN8Frvz/e8fdwgtvPJRBpAiBNAKQJgDQBkCYA0gRAmgBIEwBpAiBNAKQJgDQBkCYA0gRAmgBIEwBpAiBNAKQJgDQBkCYA0gRAmgBIEwBpAiBNAKQJgDQBkCYA0uwPQJoVgDQBkCYA0gRAmgBIEwBpAiBNAKQJgDQBkCYA0gRAmgBIEwBpAiBNAKQJgDQBkCYA0gRAmgBIEwBpAiBNAKQJgDQBkCYA0gRAmgBIEwBpAiDtL/BAh1z2OAYoAAAAAElFTkSuQmCC",
           "type": "image"
          }
         ],
         "layout": {
          "margin": {
           "t": 60
          }
         },
         "name": "7"
        },
        {
         "data": [
          {
           "name": "8",
           "source": "data:image/png;base64,iVBORw0KGgoAAAANSUhEUgAAAQAAAAEACAIAAADTED8xAAAEj0lEQVR4Xu3dMVIcRxiA0ZbLN4CAG0iZDiDFSrUnUIRCnOgUCpSQmpPoFuJEDly2V220SLCzs7vfexH1A1MEfNMz1DD94vb2dnC+7u/v5xFbfpsHUCIA0gRAmgBIEwBpAiBNAKQJgDQBkCYA0gRAmgBIEwBpAiBNAKQJgDQBkCYA0gRAmgBIEwBpAiBNAKQJgDQBkCYA0gRAmgBIEwBpAiBNAKQJgLTf58ECvn79Oo/25927d46/w9XV1Tzat7u7u3m0P9fX1/Nor6wApAmANAGQJgDSBECaAEgTAGkCIE0ApAmANAGQJgDSBECaAEgTAGkCIE0ApAmANAGQJgDSBECaAEgTAGkCIE0ApAmANAGQJgDSBECaAEh7cXt7O884Izc3f8yjvfr4cdnXly/N/gCPOPXj39zMk7076f0BDhEAq/v0aZ4835cv8+QUuQcgTQCkCYA0AZAmANIEQJoASBMAaQIgTQCkCYA0AZAmANI8Dcp3Xr8eHz7Mw7HM86THwApAmhWA73z7drYn+wdZAUgTAGkCIE0ApAmANAGQJgDSBECaAEgTAGkCIM2zQAnn8R7PJVgBSLM/wJm7v7+fR2w5xCXQou+/X/r9+qd+/Kurq3m0bye9P4BLINIEQJoASBMAaQIgTQCkCYA0AZAmANIEQJoASBMAaQIgTQCkCYA0AZAmANIEQJoASBMAaQIgTQCkCYA0AZAmANIEQJoASBMAaQIgTQCk2R/gzNkfYDf7Azzi1I9vf4DdXAKRJgDSjiuAizEu5hks6LgC2IyxmWewoOMK4O0Yb+cZLOiIAng/xuUYl2O8nz8DSzmiAP4991sEOJhjCeDlGK/++fjVGC+3PweLOZYAprO+RYDDOIoALv73x5+Nv4dyEEcRwIPn+weHsF9HEcBmHozxgyHs1/oBvBzjcp6NMcalW2GWt34Am3nwn808gD1bOYCLndf6b90Ks7CVA9jMg9lmHsA+rRzAjtP/3x79AniONQN484Pb322XY7yZZ7A3awawmQcP28wD2JvVAth++Gc3jwaxnNUC+KWL+1/6Yvh5qwWwmQe7bOYB7Mc6ATzhX16e8C3wqHUCeMIlzRO+BR61QgA/f/u7za0wS1ghgM08+FmbeQDPdYhXI04+j/F5nsE6VlgB4HgIgDQBkPZi6ddPwzE7xE3w0u+Pd/wdDnCCO+mf3yUQaQIgTQCkCYA0AZAmANIEQJoASBMAaQIgTQCkCYA0AZAmANIEQJoASBMAaQIgTQCkCYA0AZAmANIEQJoASBMAaQIgTQCkCYA0AZAmANLsD8Cz3P254LvRxxjXH5f9/bQ/wCPO4PjziC0ugUgTAGkCIE0ApAmANAGQJgDSBECaAEgTAGkCIE0ApAmANAGQJgDSBECaAEgTAGkCIE0ApAmANAGQJgDSBECaAEgTAGkCIE0ApAmANAGQZn8A0qwApAmANAGQJgDSBECaAEgTAGkCIE0ApAmANAGQJgDSBECaAEgTAGkCIE0ApAmANAGQJgDSBECaAEgTAGkCIE0ApAmANAGQJgDSBECaAEgTAGl/Ab3ThOYIZqTgAAAAAElFTkSuQmCC",
           "type": "image"
          }
         ],
         "layout": {
          "margin": {
           "t": 60
          }
         },
         "name": "8"
        },
        {
         "data": [
          {
           "name": "9",
           "source": "data:image/png;base64,iVBORw0KGgoAAAANSUhEUgAAAQAAAAEACAIAAADTED8xAAAEjUlEQVR4Xu3dMVIcRxiA0ZbLN4CAG0iZDiDFSrUnUIRCnOgUCpSQmpPoFuJEDly2V20EEszs7PK9F1E/MEXANz1DDdMvrq+vB8/X7e3tPGLPb/MASgRAmgBIEwBpAiBNAKQJgDQBkCYA0gRAmgBIEwBpAiBNAKQJgDQBkCYA0gRAmgBIEwBpAiBNAKQJgDQBkCYA0gRAmgBIEwBpAiBNAKQJgDQBkPb7PFjB169f59Fy3r175/j3uLi4mEdLu7m5mUfLuby8nEeLsgKQJgDSBECaAEgTAGkCIE0ApAmANAGQJgDSBECaAEgTAGkCIE0ApAmANAGQJgDSBECaAEgTAGkCIE0ApAmANAGQJgDSBECaAEgTAGkCIO3F9fX1POMZubr6Yx4t6uPHdV9fvjb7Azzg1I9/dTVPFnfS+wMcIgA29+nTPHm6L1/mySlyD0CaAEgTAGkCIE0ApAmANAGQJgDSBECaAEgTAGkCIE0ApHkalO+8fj0+fJiHY53nSY+BFYA0KwDf+fbt2Z7s72QFIE0ApAmANAGQJgDSBECaAEgTAGkCIE0ApAmANM8CJTyP93iuwQpAmv0Bnrnb29t5xJ5DXAKt+v77td+vf+rHv7i4mEdLO+n9AVwCkSYA0o4rgLMxzuYZrOi4AtiNsZtnsKLjCuDtGG/nGazoiAJ4P8b5GOdjvJ8/A2s5ogD+PfdbBDiYYwng5Riv/vn41Rgv9z8HqzmWAKazvkWAwziKAM7+98efnb+HchBHEcCd5/s7h7CsowhgNw/G+MEQlrV9AC/HOJ9nY4xx7laY9W0fwG4e/Gc3D2BhGwdwdu+1/lu3wqxs4wB282C2mwewpI0DuOf0/7cHvwCeYssA3vzg9nff+Rhv5hksZssAdvPgbrt5AIvZLID9h3/u59Eg1rNZAL90cf9LXww/b7MAdvPgPrt5AMvYJoBH/MvLI74FHrRNAI+4pHnEt8CDNgjg529/97kVZg0bBLCbBz9rNw/gqQ7xasTJ5zE+zzPYxgYrABwPAZAmANJerP36aThmh7gJXvv98Y5/jwOc4E7653cJRJoASBMAaQIgTQCkCYA0AZAmANIEQJoASBMAaQIgTQCkCYA0AZAmANIEQJoASBMAaQIgTQCkCYA0AZAmANIEQJoASBMAaQIgTQCkCYA0+wOQZn+ABzyD48+jpZ30z+8SiDQBkCYA0gRAmgBIEwBpAiBNAKQJgDQBkCYA0gRAmgBIEwBpAiBNAKQJgDQBkCYA0gRAmgBIEwBpAiBNAKQJgDQBkCYA0gRAmgBIEwBp9gfgSW7+XPHd6GOMy4/r/n7aH+ABz+D484g9LoFIEwBpAiBNAKQJgDQBkCYA0gRAmgBIEwBpAiBNAKQJgDQBkCYA0gRAmgBIEwBpAiBNAKQJgDQBkCYA0gRAmgBIEwBpAiBNAKQJgDQBkGZ/ANKsAKQJgDQBkCYA0gRAmgBIEwBpAiBNAKQJgDQBkCYA0gRAmgBIEwBpAiBNAKQJgDQBkCYA0gRAmgBIEwBpAiBNAKQJgDQBkCYA0gRAmgBIEwBpfwHuw4JwRHXPOwAAAABJRU5ErkJggg==",
           "type": "image"
          }
         ],
         "layout": {
          "margin": {
           "t": 60
          }
         },
         "name": "9"
        },
        {
         "data": [
          {
           "name": "10",
           "source": "data:image/png;base64,iVBORw0KGgoAAAANSUhEUgAAAQAAAAEACAIAAADTED8xAAAEhUlEQVR4Xu3dMXIURxiA0cblG0gBN4CMA6CYlD0BkQjlhFMQkCi1fBFuAffwHQhctrfaQovFzM5qv/ci1S9pagN90zPSavrZ7e3t4Hx9/fp1HrHnl3kAJQIgTQCkCYA0AZAmANIEQJoASBMAaQIgTQCkCYA0AZAmANIEQJoASBMAaQIgTQCkCYA0AZAmANIEQJoASBMAaQIgTQCkCYA0AZAmANIEQJoASPt1Hqzg8+fP82g5b968cfwHPH/+fB4t7e7ubh4t5/r6eh4tygpAmgBIEwBpAiBNAKQJgDQBkCYA0gRAmgBIEwBpAiBNAKQJgDQBkCYA0gRAmgBIEwBpAiBNAKQJgDQBkCYA0gRAmgBIEwBpAiBNAKQJgLRnt7e384wzcnPz2zxa1Pv36z6+fG32BzjgqR//5maeLO5J7w9wjADY3IcP8+Tnffo0T54i9wCknVYAF2NczDNY0WkFsBtjN89gRacVwNUYV/MMVnRCAbwd43KMyzHezp+BtZxQAP+c+y0CHM2pBPBijJd/f/xyjBf7n4PVnEoA01nfIsBxnEQAF//55c/O70M5ipMI4N7z/b1DWNZJBLCbB2N8ZwjL2j6AF2NczrMxxrh0K8z6tg9gNw/+tZsHsLCN3w168eC1/tUYd2P8OY9Z0atX4927eTjWeT/pKdh4BdjNg9luHsCSNl4BHjj9/+VqjD/mGSv68uVsT/b32nIFeP2d2999l2O8nmewmC0D2M2D++3mASxmswD23/zzMG8NYj2bBXDw6n/f//pi+HGbBbCbBw/ZzQNYxjYBPOJfXh7xLXDQNgE84pLmEd8CB20QwI/f/u5zK8waNghgNw9+1G4ewM/a4C/BH8f4OM9gGxusAHA6NlgBOL7zeI7nGqwApD1b+/HTcMqOcQm09vPjHf8BRzjBPenX7xKINAGQJgDSBECaAEgTAGkCIE0ApAmANAGQJgDSBECaAEgTAGkCIE0ApAmANAGQJgDSBECaAEgTAGkCIE0ApAmANAGQJgDSBECaAEgTAGn2ByDN/gAHnMHx59HSnvTrdwlEmgBIEwBpAiBNAKQJgDQBkCYA0gRAmgBIEwBpAiBNAKQJgDQBkCYA0gRAmgBIEwBpAiBNAKQJgDQBkCYA0gRAmgBIEwBpAiBNAKQJgDT7A5Bmf4ADzuD482hpT/r1uwQiTQCkCYA0AZAmANIEQJoASBMAaQIgTQCkCYA0AZAmANIEQJoASBMAaQIgTQCkCYA0AZAmANIEQJoASBMAaQIgTQCkCYA0AZAmANIEQJr9Afgpd7+v+Gz0Mcb1+3V/Pu0PcMAZHH8escclEGkCIE0ApAmANAGQJgDSBECaAEgTAGkCIE0ApAmANAGQJgDSBECaAEgTAGkCIE0ApAmANAGQJgDSBECaAEgTAGkCIE0ApAmANAGQJgDS7A9AmhWANAGQJgDSBECaAEgTAGkCIE0ApAmANAGQJgDSBECaAEgTAGkCIE0ApAmANAGQJgDSBECaAEgTAGkCIE0ApAmANAGQJgDSBECaAEgTAGkCIO0bYHOCDcIJ1QMAAAAASUVORK5CYII=",
           "type": "image"
          }
         ],
         "layout": {
          "margin": {
           "t": 60
          }
         },
         "name": "10"
        },
        {
         "data": [
          {
           "name": "11",
           "source": "data:image/png;base64,iVBORw0KGgoAAAANSUhEUgAAAQAAAAEACAIAAADTED8xAAAEeUlEQVR4Xu3dsXXUWBiA0cee7cAO6AAyCoCYFFVAZCqgCgISp3YldAEVbbBnd81bMza2NBr7uzfy+cejM4E/PWmOLL24vLwcPF8/fvyYR9zwxzyAEgGQJgDSBECaAEgTAGkCIE0ApAmANAGQJgDSBECaAEgTAGkCIE0ApAmANAGQJgDSBECaAEgTAGkCIE0ApAmANAGQJgDSBECaAEgTAGkCIE0ApP05Dzbw7du3ebSe9+/f2/4BL1++nEdru76+nkfrubi4mEersgKQJgDSTiuAszHO5hls6LQCWMZY5hls6LQCeDfGu3kGGzqhAD6McT7G+Rgf5ldgKycUwL/7fosAR3MqAbwa4/U/P78e49XN12AzpxLAtNe3CHAcJxHA2f++/Fl8H8pRnEQAt+7vbx3Cuk4igGUejPGLIaxr/wBejXE+z8YY49ypMNvbP4BlHvxnmQewsp0DODt4rP/OqTAb2zmAZR7MlnkAa9o5gAO7/7/d+QvwGHsG8PYXp783nY/xdp7BavYMYJkHt1vmAaxmtwBuXvxzmEuD2M5uAfzWwf1v/TLc324BLPPgkGUewDr2CeAB//LygLfAnfYJ4AGHNA94C9xphwDuf/p7k1NhtrBDAMs8uK9lHsBjHePWiJMvY3yZZ7CPHVYAOB0CIE0ApL3Y+vbT7Ovq6noererTp6f993OMk+Ct7x9v+wdcXc2T1W36+bfeQR8jAHb3+fM8ebyvX+fJU+QcgDQBkCYA0gRAmgBIEwBpAiBNAKQJgDQBkCYA0gRAmgBIczUoP3nzZnz8OA/HNteTngIrAGlWAH7y/fuz3dnfygpAmgBIEwBpAiBNAKQJgDQBkCYA0gRAmgBIEwBprgVKeB738dyCFYA0zwcg7RiHQFvfP972DzjCDu5Jf36HQKQJgDQBkCYA0gRAmgBIEwBpAiBNAKQJgDQBkCYA0gRAmgBIEwBpAiBNAKQJgDQBkCYA0gRAmgBIEwBpAiBNAKQJgDQBkCYA0gRAmgBI83wA0jwf4A7PYPvzaG1P+vM7BCJNAKQJgDQBkCYA0gRAmgBIEwBpAiBNAKQJgDQBkCYA0gRAmgBIEwBpAiBNAKQJgDQBkCYA0gRAmgBIEwBpAiBNAKQJgDQBkCYA0gRAmucDkOb5AHd4BtufR2t70p/fIRBpAiBNAKQJgDQBkCYA0gRAmgBIEwBpAiBNAKQJgDQBkCYA0gRAmgBIEwBpAiBNAKQJgDQBkCYA0gRAmgBIEwBpAiBNAKQJgDQBkCYA0jwfgEe5vtrw3uhjjItP2/59ej7AHZ7B9ucRNzgEIk0ApAmANAGQJgDSBECaAEgTAGkCIE0ApAmANAGQJgDSBECaAEgTAGkCIE0ApAmANAGQJgDSBECaAEgTAGkCIE0ApAmANAGQJgDSBECa5wOQZgUgTQCkCYA0AZAmANIEQJoASBMAaQIgTQCkCYA0AZAmANIEQJoASBMAaQIgTQCkCYA0AZAmANIEQJoASBMAaQIgTQCkCYA0AZAmANIEQJoASPsLmuF//K/MsvEAAAAASUVORK5CYII=",
           "type": "image"
          }
         ],
         "layout": {
          "margin": {
           "t": 60
          }
         },
         "name": "11"
        },
        {
         "data": [
          {
           "name": "12",
           "source": "data:image/png;base64,iVBORw0KGgoAAAANSUhEUgAAAQAAAAEACAIAAADTED8xAAAEcElEQVR4Xu3dsW0cVxRA0SfDJShw6siMWIEiBYzZg6iQsd2CazAFqAQazhTTDTCSIzUg9+CAsGENBCrgzswu7znhW2DAgHf//MVg/ourq6tZ0/n5+XLEM3J/f78cnZTvlgMoEQBpAiBNAKQJgDQBkCYA0gRAmgBIEwBpAiBNAKQJgDQBkCYA0gRAmgBIEwBpAiBNAKQJgDQBkCYA0gRAmgBIEwBpAiBNAKQJgDQBkCYA0gRA2vfLwQo+fPiwHB3OxcWF6z/i4uJiOTq0m5ub5ehw1j7AxQpAmgBIEwBpAiBt0wB+nvlpOYM9bfEr0H9ezbya+ThzN/P78kPYwaYrwIOzmauZP2beWBDY26YrwMLlzOXMx5nbmT8Xn8Em9gzgwdnMLzOfZ+5mbmf+Xn4OK9rhFuirXs5czry3UWZb+68ACw8b5c8ztzN3FgRWdiwrwMLLmauZ9zbKrOzoVoCFy383yn45ZQ3HHsCDs5mzmUsbZQ7tSG+BYBunsQK4BWIlxx7A7czdzF/LMRzGkQbgZ1C2cXQBPGxzfeWzjWMJwKMQ7GL/ADwMx472DODWBpe97RCA3zQ5HpsGYIPLsdk0gF+XA9iZRyFIEwBpAiBNAKQJgLQXa79++vz8fDliQ9fXK757fWbevv1hOTopW/wMuvb7713/EdfXy8nBnfT5AFsEwO7evVtOnu7Nm+XkFNkDkCYA0gRAmgBIEwBpAiBNAKQJgDQBkCYA0gRAmgBIEwBpngblCz/+OK9fL4ezzvOkx8AKQJoVgC98+vRsv+y/ygpAmgBIEwBpAiBNAKQJgDQBkCYA0gRAmgBIEwBpngVKeB7v8VyDFYA05wPwJPf398vRSdniFmjV99+v/X79Z3D95ejQTvp8ALdApAmANAGQJgDSBECaAEgTAGkCIE0ApAmANAGQJgDSBECaAEgTAGkCIE0ApAmANAGQJgDSBECaAEgTAGkCIE0ApAmANAGQJgDSBECaAEhzPgBP4nyAb1v7/feu/wjnAzzOLRBpAiBNAKQJgDQBkCYA0gRAmgBIEwBpAiBNAKQJgDQBkCYA0gRAmgBIEwBpAiBNAKQJgDQBkCYA0gRAmgBIEwBpAiBNAKQJgDQBkCYA0lY/HwCO2RbnA6z9/njXf8QGX3An/fe7BSJNAKQJgDQBkCYA0gRAmgBIEwBpAiBNAKQJgDQBkCYA0gRAmgBIEwBpAiBNAKQJgDQBkCYA0gRAmgBIEwBpAiBNAKQJgDQBkCYA0gRAmvMBeJKb31Z8N/rMXL1d9//T+QDf8AyuvxzxP26BSBMAaQIgTQCkCYA0AZAmANIEQJoASBMAaQIgTQCkCYA0AZAmANIEQJoASBMAaQIgTQCkCYA0AZAmANIEQJoASBMAaQIgTQCkCYA0AZDmfADSrACkCYA0AZAmANIEQJoASBMAaQIgTQCkCYA0AZAmANIEQJoASBMAaQIgTQCkCYA0AZAmANIEQJoASBMAaQIgTQCkCYA0AZAmANIEQJoASBMAaf8Aj+moYzVY7KsAAAAASUVORK5CYII=",
           "type": "image"
          }
         ],
         "layout": {
          "margin": {
           "t": 60
          }
         },
         "name": "12"
        },
        {
         "data": [
          {
           "name": "13",
           "source": "data:image/png;base64,iVBORw0KGgoAAAANSUhEUgAAAQAAAAEACAIAAADTED8xAAAEcUlEQVR4Xu3dMW4cZRiA4S+II6SgTYUrnyBVCte+Qzala7gCbVocKUcwokvtXMBVqHKBcAeKFVIystYgexZ23ucpv5VWltbv/DOj0fzPdrvdnLLz8/PliCO6u7tbjk7Kd8sBlAiANAGQJgDSBECaAEgTAGkCIE0ApAmANAGQJgDSBECaAEgTAGkCIE0ApAmANAGQJgDSBECaAEgTAGkCIE0ApAmANAGQJgDSBECaAEgTAGkCIO375WAF19fXy9HTefv27YcPH5bTp3NxcXHq378cPbVVf9+1N3CxApAmANIEQJoASNtUAD/N/LicwSHHuAt0NC9nXs58mrmd+W35IdxjUyvA3tnMbub3mdcWBB6yqRVg4XLmcubTzM3Mx8VnMDPbDmDvbObnmS8ztzM3M38uPydtg6dA93o+cznz3oUy39r+CrCwv1D+MnMzc2tByKusAAvPZ3Yz710o5+VWgIXLvy+U3TltqgewdzZzNnPpQrknegoEe1aAGadAYfUAbmZuZ/5YjqmIBuA2KHu5APaXuQ757FUC8CgE99p+AB6G44AtB3DjApeHbDAA9zT55zYVgAtc/q1NBfDLcgAP8CgEaQIgTQCkCYA0AZD2bO3XT6/t/Px8OeIrV1crvnt9Zt68+WE5OinHuA266vvj7Q9w2NXVcvLkVv191z5AHyMA/nPv3i0nj/f69XJyilwDkCYA0gRAmgBIEwBpAiBNAKQJgDQBkCYA0gRAmgBIEwBpngblGy9ezKtXy+Gs8zzp/4EVgDQrAN/4/HmzB/t7WQFIEwBpAiBNAKQJgDQBkCYA0gRAmgBIEwBpAiDNs0AJ23iP5xqsAKTZH4BHubu7W45OyjFOgVZ9f7z9AQ67uLhYjp7aqr/v2gdop0CkCYA0AZAmANIEQJoASBMAaQIgTQCkCYA0AZAmANIEQJoASBMAaQIgTQCkCYA0AZAmANIEQJoASBMAaQIgTQCkCYA0AZAmANIEQJoASLM/AI9if4CHrfr+ePsDHGZ/gMOcApEmANIEQJoASBMAaQIgTQCkCYA0AZAmANIEQJoASBMAaQIgTQCkCYA0AZAmANIEQJoASBMAaQIgTQCkCYA0AZAmANIEQJoASBMAaQIg7eT3B4DHOPn9AXa7ne8/4AgHuJP++50CkSYA0gRAmgBIEwBpAiBNAKQJgDQBkCYA0gRAmgBIEwBpAiBNAKQJgDQBkCYA0gRAmgBIEwBpAiBNAKQJgDQBkCYA0gRAmgBIEwBpAiDN/gA8yvWvK74bfWZ2b9b9/7Q/wAM28P3LEV9xCkSaAEgTAGkCIE0ApAmANAGQJgDSBECaAEgTAGkCIE0ApAmANAGQJgDSBECaAEgTAGkCIE0ApAmANAGQJgDSBECaAEgTAGkCIE0ApAmANPsDkGYFIE0ApAmANAGQJgDSBECaAEgTAGkCIE0ApAmANAGQJgDSBECaAEgTAGkCIE0ApAmANAGQJgDSBECaAEgTAGkCIE0ApAmANAGQJgDSBECaAEj7C0hAqosrdoeDAAAAAElFTkSuQmCC",
           "type": "image"
          }
         ],
         "layout": {
          "margin": {
           "t": 60
          }
         },
         "name": "13"
        },
        {
         "data": [
          {
           "name": "14",
           "source": "data:image/png;base64,iVBORw0KGgoAAAANSUhEUgAAAQAAAAEACAIAAADTED8xAAAEhklEQVR4Xu3dMW4cZRiA4S+II6SgTYUrnyBVCte+gzela7gCbVocKUcwonPtXMBVqHKBcAeKCCkZAZbjHbOz7/OU30oja+V3/pnVaP5nu91u+Henp6fLEV+4u7tbjjblu+UASgRAmgBIEwBpAiBNAKQJgDQBkCYA0gRAmgBIEwBpAiBNAKQJgDQBkCYA0gRAmgBIEwBpAiBNAKQJgDQBkCYA0gRAmgBIEwBpAiBNAKQJgDQBkPb9crCCq6ur5Wh/drvdqsd/8+bNzc3Ncro/Z2dnax9/Odq3Vb//tTdwsQKQJgDSBECaAEgTwAP8NPPjcsa2PcWvQEfj5czLmQ8ztzO/LT9kk6wAD3Yys5v5febCgrB9VoBvdz5zPvNh5nrm/eIzNkIAj3Uy8/PMp5nbmeuZP5efc9BcAu3H85nzmXdulLfGCrBnn2+UP81cz9xaEA6eFWAVz2d2M+/cKB88K8C6zv++UfbL6WESwFM4mTmZOXejfHhcApFmBXgKLoEOlgDWdT1zO/PHcsyhEMAq/Ay6FQLYs8+3uU75WyGA/fAoxEYJ4LE8DLdpAvh2125wt08AD+Y3zWMigAdwg3t8BPAAvywHbJ5HIUgTAGkCIE0ApAmAtGdrv356605PT5ejTbm8XPHd6zPz+vUPy9GmPMXPoGu/P37V4299f4DLy+Vk71b9/tc+QT9FAPzv3r5dTh7v4mI52SL3AKQJgDQBkCYA0gRAmgBIEwBpAiBNAKQJgDQBkCYA0gRAmqdB+cqLF/Pq1XI46zxPegisAKRZAfjKx49He7L/R1YA0gRAmgBIEwBpAiBNAKQJgDQBkCYA0gRAmgBI8yxQwnG8x3MNVgDS7A9wj63vD7C2u7u75WhTnuISaO33x696/K3vD3B2drYc7duq3//aJ2iXQKQJgDQBkCYA0gRAmgBIEwBpAiBNAKQJgDQBkCYA0gRAmgBIEwBpAiBNAKQJgDQBkCYA0gRAmgBIEwBpAiBNAKQJgDQBkCYA0gRAmgBIsz/APewP8N/sD3C/td8fv+rx7Q9wr1W//7VP0C6BSBMAaQIgTQCkCYA0AZAmANIEQJoASBMAaQIgTQCkCYA0AZAmANIEQJoASBMAaQIgTQCkCYA0AZAmANIEQJoASBMAaQIgTQCkCYA0AZBmfwDS7A9wjyM4/nK0b5v++10CkSYA0gRAmgBIEwBpAiBNAKQJgDQBkCYA0gRAmgBIEwBpAiBNAKQJgDQBkCYA0gRAmgBIEwBpAiBNAKQJgDQBkCYA0gRAmgBIEwBpAiDN/gA8ytWvK74bfWZ2r9f9/7Q/wD2O4PjLEV9wCUSaAEgTAGkCIE0ApAmANAGQJgDSBECaAEgTAGkCIE0ApAmANAGQJgDSBECaAEgTAGkCIE0ApAmANAGQJgDSBECaAEgTAGkCIE0ApAmANPsDkGYFIE0ApAmANAGQJgDSBECaAEgTAGkCIE0ApAmANAGQJgDSBECaAEgTAGkCIE0ApAmANAGQJgDSBECaAEgTAGkCIE0ApAmANAGQJgDSBECaAEj7CxAsqovFvcGxAAAAAElFTkSuQmCC",
           "type": "image"
          }
         ],
         "layout": {
          "margin": {
           "t": 60
          }
         },
         "name": "14"
        },
        {
         "data": [
          {
           "name": "15",
           "source": "data:image/png;base64,iVBORw0KGgoAAAANSUhEUgAAAQAAAAEACAIAAADTED8xAAAEfUlEQVR4Xu3dMW4UZxiA4Y8oR6BISxUqn4CKwrXvwFK6Tq6QljYgcQRH6ajJBVyRiguQO6RAkcIoAoL3t3f8Pk/5rTSyVn7nn1mN5n9wOByGu3N2drYd7cr19fV2tCvfbQdQIgDSBECaAEgTAGkCIE0ApAmANAGQJgDSBECaAEgTAGkCIE0ApAmANAGQJgDSBECaAEgTAGkCIE0ApAmANAGQJgDSBECaAEgTAGkCIE0ApAmAtO+3gwVevny5HR3P4XDY9fFfvHjx5s2b7fR4zs/Pt6NjW/r9rN7AxQpAmgBIEwBpAiBNACfkp5kftzPWuo1fgfhKT2aezLybeTvz2/ZDlrACnJzHM4eZ32eeWRDWswKcrouZi5l3M1czf2w+40gEcOoez/w882Hm7czVzF/bz7kRl0D78HDmYua1G+VjswLszMcb5Q8zVzNvLQg3ZgXYpYczh5nXbpRvzAqwbxf/3Cj75fTbCOA+eDzzeObCjfL/5xKINCvAfeAS6JsJYN+uZt7O/Lkd87UEsEt+Bj0WAezMx9tcp/xjEcA+eBRiEQGcOg/DLSWA03XlBnc9AZwcv2neJgGcEDe4t08AJ+SX7YDlPApBmgBIEwBpAiBNAKQ9WP36aT7v7OxsOzqqy8uF716fmefPf9iOduU2fgZd/f74XR9/9f4Al5fbydEt/X5Wn6BvIwDu3KtX28nNPXu2neyRewDSBECaAEgTAGkCIE0ApAmANAGQJgDSBECaAEgTAGkCIM3ToHzi0aN5+nQ7nDXPk54CKwBpVgA+8f79vT3Z/ycrAGkCIE0ApAmANAGQJgDSBECaAEgTAGkCIE0ApHkWKOF+vMdzBSsAafYHuGOr9wdY7fr6ejvaldu4BFr9/vhdH3/1/gDn5+fb0bEt/X5Wn6BdApEmANIEQJoASBMAaQIgTQCkCYA0AZAmANIEQJoASBMAaQIgTQCkCYA0AZAmANIEQJoASBMAaQIgTQCkCYA0AZAmANIEQJoASBMAaQIgzf4Ad8z+AHfL/gBfsPr49gf4vNUnaJdApAmANAGQJgDSBECaAEgTAGkCIE0ApAmANAGQJgDSBECaAEgTAGkCIE0ApAmANAGQJgDSBECaAEgTAGkCIE0ApAmANAGQJgDSBECaAEizPwBp9gf4gntw/O3o2Hb997sEIk0ApAmANAGQJgDSBECaAEgTAGkCIE0ApAmANAGQJgDSBECaAEgTAGkCIE0ApAmANAGQJgDSBECaAEgTAGkCIE0ApAmANAGQJgDSBECa/QG4kZe/Lnw3+swcnq/9/7Q/wBfcg+NvR/yLSyDSBECaAEgTAGkCIE0ApAmANAGQJgDSBECaAEgTAGkCIE0ApAmANAGQJgDSBECaAEgTAGkCIE0ApAmANAGQJgDSBECaAEgTAGkCIE0ApNkfgDQrAGkCIE0ApAmANAGQJgDSBECaAEgTAGkCIE0ApAmANAGQJgDSBECaAEgTAGkCIE0ApAmANAGQJgDSBECaAEgTAGkCIE0ApAmANAGQJgDSBEDa39gJqouftMT2AAAAAElFTkSuQmCC",
           "type": "image"
          }
         ],
         "layout": {
          "margin": {
           "t": 60
          }
         },
         "name": "15"
        },
        {
         "data": [
          {
           "name": "16",
           "source": "data:image/png;base64,iVBORw0KGgoAAAANSUhEUgAAAQAAAAEACAIAAADTED8xAAAEiUlEQVR4Xu3dsXUUVxiA0YePi3BKA1TgiECNIEKRugb3AD0sKTE0sBFENCB6cGaLZ7GrZWfFjL57w/9IE/HNvNEZ3nt2fX09oOq3eQAlAiBNAKQJgDQBkCYA0gRAmgBIEwBpAiBNAKQJgDQBkCYA0gRAmgBIEwBpAiBNAKQJgDQBkCYA0gRAmgBIEwBpAiBNAKQJgDQBkCYA0gRA2u/zYGkvXryYRzwh+/1+Hm3KxQMYY3z48GEeLefq6sr1D7i6uppHS3v79u08Ws6lD3CxBCJNAKQ9xhKIk/w1xp/z7EE+jvH3POMIT4DV2c2Dh9rNA44TwOp8GePzPDvu8xhf5hnHCWCNPs6D437iVxgCWKf38+C4n/gVhgBWazcPDtnNAx5KACt10pLmpB/mLgGs1MNfhb3+nkMA67WbB/fbzQNOIID1+jTG7Tyb3Y7xaZ5xAgGs2tHF/dEf4DABrNpuHsx284DTCGDVvh28x38c49s84zQCWLvdPPjPbh5wMgGs3ZcfvArf+uvnEgSwAbt5MMYPhpxKABtw72vAvUNOJYAN+Pa/+/3O6+9CBLAN0/3e7X8pAtiGu58G+fhnQQLYjH/v+m7/CxLAZrwf43aMW//3ZVF2hdgS9/7FCWBLdvOAcwlgS/zpc3HeAUgTAGkCIO3Zpbefdj7Ar3Vzc8G918cYr1//MY825TFegi+9/73rH3BzM08Wt+nzAR4jAH65d+/myflevZonW+QdgDQBkCYA0gRAmgBIEwBpAiBNAKQJgDQBkCYA0gRAmgBI8zUo33n+fLx8OQ/HZb4nXQNPANI8AfjO169P9mZ/L08A0gRAmgBIEwBpAiBNAKQJgDQBkCYA0gRAmgBI8y1QwtPYx/MSPAFIcz4AZ9nv9/NoUx5jCXTR/e8vvb/+E7j+PFraps8HsAQiTQCkCYA0AZAmANIEQJoASBMAaQIgTQCkCYA0AZAmANIEQJoASBMAaQIgTQCkCYA0AZAmANIEQJoASBMAaQIgTQCkCYA0AZAmANIEQJrzATiL8wGOu/T+965/gPMBDrMEIk0ApAmANAGQJgDSBECaAEgTAGkCIE0ApAmANAGQJgDSBECaAEgTAGkCIE0ApAmANAGQJgDSBECaAEgTAGkCIE0ApAmANAGQJgDSBECa8wE4i/MBjrv0/veuf4DzAQ6zBCJNAKQJgDQBkCYA0gRAmgBIEwBpAiBNAKQJgDQBkCYA0gRAmgBIEwBpAiBNAKQJgDQBkCYA0gRAmgBIEwBpAiBNAKQJgDQBkCYA0gRAmvMBOMubmzfzaFHXry/779P5AEc8gevPI+6wBCJNAKQJgDQBkCYA0gRAmgBIEwBpAiBNAKQJgDQBkCYA0gRAmgBIEwBpAiBNAKQJgDQBkCYA0gRAmgBIEwBpAiBNAKQJgDQBkCYA0gRAmvMBOMt+v59Hm+IJQJoASBMAaQIgTQCkCYA0AZAmANIEQJoASBMAaQIgTQCkCYA0AZAmANIEQJoASBMAaQIgTQCkCYA0AZAmANIEQJoASBMAaQIgTQCkCYA0AZD2D7W6sC1MRLIJAAAAAElFTkSuQmCC",
           "type": "image"
          }
         ],
         "layout": {
          "margin": {
           "t": 60
          }
         },
         "name": "16"
        },
        {
         "data": [
          {
           "name": "17",
           "source": "data:image/png;base64,iVBORw0KGgoAAAANSUhEUgAAAQAAAAEACAIAAADTED8xAAAEgElEQVR4Xu3dsXEUVxzA4YfHJThwSgNU4IiARjhCkboG9wA9LKli0YAiFNGA6MGZzTyLOx13J+/q933hf6QdzaDfvt1jte/FbrcbUPXLPIASAZAmANIEQJoASBMAaQIgTQCkCYA0AZAmANIEQJoASBMAaQIgTQCkCYA0AZAmANIEQJoASBMAaQIgTQCkCYA0AZAmANIEQJoASBMAaQIgTQCk/ToPLuDDhw/z6Hx2u53j7/EEG6Bs+ue3ApAmANIEQJoASBMAaQIgTQCkCYA0AZAmANIEQJoASBMAaQIgTQCkCYA0AZAmANIEQJoASBMAaQIgTQCkCYA0AZAmANIEQJoASBMAaQIg7cWlXz/96tWrecQTurq6nkdn9e7d7/NoU55if4Dr6wv+G7x588bx97i6midnt+n9AZ4iAP53Hz/Ok9O9fTtPtsg9AGlWgNX5c4w/5tmj3Izx1zzjACvA6izz4LGWecBhAliduzG+zLPDvoxxN884TABrdDMPDvuJb2EIYJ0+zYPDfuJbGAJYrWUe7LPMAx5LACt11CXNUV/M9wSwUo+/FXb7ewoBrNcyDx62zAOOIID1+jzG/Tyb3Y/xeZ5xBAGs2sGL+4NfwH4CWLVlHsyWecBxPAu0at/GuPnxo0E3Y3ybZ6d6+XK8fj0Px2WeJ10DK8DaLfPgX8s84GhWgLW7G+N+jN/m8bi/zKefX78+25P9g6wAG7DMgzF+MORYAtiABz/qeXDIsQSwAd/+c75fLnD72ySAbZjO907/5yKAbfj+0SAP/5yRADbjn7O+0/8ZCWAzPo1xP8a9v305K/8PsCXO/WcngC1Z5gGnEsCW+Ojz7NwDkGYFSHge7/G8BCsAafYH4CS3t7fzaFOe4hLoou+/v/T79Z/B8efRuW16fwCXQKQJgDQBkCYA0gRAmgBIEwBpAiBNAKQJgDQBkCYA0gRAmgBIEwBpAiBNAKQJgDQBkCYA0gRAmgBIEwBpAiBNAKQJgDQBkCYA0gRAmgBIsz8AJ7E/wGGXfv+94+9hf4D9XAKRJgDSBECaAEgTAGkCIE0ApAmANAGQJgDSBECaAEgTAGkCIE0ApAmANAGQJgDSBECaAEgTAGkCIE0ApAmANAGQJgDSBECaAEgTAGkCIM3+AJzE/gCHXfr9946/h/0B9nMJRJoASBMAaQIgTQCkCYA0AZAmANIEQJoASBMAaQIgTQCkCYA0AZAmANIEQJoASBMAaQIgTQCkCYA0AZAmANIEQJoASBMAaQIgTQCkCYA0+wNwkvdX7+fRWe3eXfb30/4ABzyD488jvuMSiDQBkCYA0gRAmgBIEwBpAiBNAKQJgDQBkCYA0gRAmgBIEwBpAiBNAKQJgDQBkCYA0gRAmgBIEwBpAiBNAKQJgDQBkCYA0gRAmgBIEwBp9gfgJLe3t/NoU6wApAmANAGQJgDSBECaAEgTAGkCIE0ApAmANAGQJgDSBECaAEgTAGkCIE0ApAmANAGQJgDSBECaAEgTAGkCIE0ApAmANAGQJgDSBECaAEgTAGl/A2QBrXvagyfvAAAAAElFTkSuQmCC",
           "type": "image"
          }
         ],
         "layout": {
          "margin": {
           "t": 60
          }
         },
         "name": "17"
        },
        {
         "data": [
          {
           "name": "18",
           "source": "data:image/png;base64,iVBORw0KGgoAAAANSUhEUgAAAQAAAAEACAIAAADTED8xAAAEeUlEQVR4Xu3dMXbUVhiA0UdO1gMbSO1lUA1laCiyhhSswCxCtK5hAbiCPZg9pEvgxcx4mBkj+bu3/I+tM8V8T5KPrPdst9sNqPptHkCJAEgTAGkCIE0ApAmANAGQJgDSBECaAEgTAGkCIE0ApAmANAGQJgDSBECaAEgTAGkCIE0ApAmANAGQJgDSBECaAEgTAGkCIE0ApAmANAGQJgDSfp8HF/Du3bt5dD673c7x93iEDVA2/fmdAUgTAGkCIE0ApAmANAGQJgDSBECaAEgTAGkCIE0ApAmANAGQJgDSBECaAEgTAGkCIE0ApAmANAGQJgDSBECaAEgTAGkCIE0ApAmANAGQ9uzSr5/m17q+vuC7y8cYr15t+/tjf4ADtn786+t5cnYX/fyXXqAfIwB+uTdv5snp3r6dJ1vkHoA0AZAmANIEQJoASBMAaQIgTQCkCYA0AZAmANIEQJoASPM0KN958WK8fDkPx2WeJ10DZwDSnAH4zqdPT3axv5czAGkCIE0ApAmANAGQJgDSBECaAEgTAGkCIE0ApHkWKOFpvMfzEpwBSLv4/gDPnz+fRzwht7e382hTHuMS6ObmZh6dz9XVlePvcXV1NY/ObdP7A7gEIk0ApD3GJRBH+WuMP+bZg3wY4+95xgHOAKuzzIOHWuYBhwlgdb6M8XmeHfZ5jC/zjMMEsEYf5sFhP/ErDAGs0/t5cNhP/ApDAKu1zIN9lnnAQwlgpY66pDnqh/mWAFbq4bfCbn9PIYD1WubB/ZZ5wBEEsF4fx7ibZ7O7MT7OM44ggFU7eHF/8AfYTwCrtsyD2TIPOI4AVu3r3jX+wxhf5xnHEcDaLfPgP8s84GgCWLsvP7gVvvPXz3MQwAYs82CMHww5lgA24N7bgHuHHEsAG/D1f+v94vb3TASwDdN6b/k/FwFsw7ePBnn454wEsBn/rvqW/zMSwGa8H+NujDv/+3JW3gqxJdb+sxPAlizzgFMJYEv86fPs3AOQJgDSBECa/QE4if0BDrv0++8dfw/7A+znEog0AZAmANIEQJoASBMAaQIgTQCkCYA0AZAmANIEQJoASBMAaQIgTQCkCYA0AZAmANIEQJoASBMAaQIgTQCkCYA0AZAmANIEQJoASBMAafYH4CT2Bzjs0u+/d/w97A+wn0sg0gRAmgBIEwBpAiBNAKQJgDQBkCYA0gRAmgBIEwBpAiBNAKQJgDQBkCYA0gRAmgBIEwBpAiBNAKQJgDQBkCYA0gRAmgBIEwBpAiBNAKTZH4CTvP7z9Tw6q92ry34/7Q9wwBM4/jziGy6BSBMAaQIgTQCkCYA0AZAmANIEQJoASBMAaQIgTQCkCYA0AZAmANIEQJoASBMAaQIgTQCkCYA0AZAmANIEQJoASBMAaQIgTQCkCYA0AZBmfwBOcnt7O482xRmANAGQJgDSBECaAEgTAGkCIE0ApAmANAGQJgDSBECaAEgTAGkCIE0ApAmANAGQJgDSBECaAEgTAGkCIE0ApAmANAGQJgDSBECaAEgTAGkCIO0f256tEZkhjEIAAAAASUVORK5CYII=",
           "type": "image"
          }
         ],
         "layout": {
          "margin": {
           "t": 60
          }
         },
         "name": "18"
        },
        {
         "data": [
          {
           "name": "19",
           "source": "data:image/png;base64,iVBORw0KGgoAAAANSUhEUgAAAQAAAAEACAIAAADTED8xAAAEdklEQVR4Xu3dMW4UVxzA4T9RbkAK34B0HCDUdFF8AkQkUzoNRa4QChq3MXeAlp4D4Cq+Q7hDiojIjBKDzM5mZ3/fV76Rptrfvnmzq/fuXVxcDMfr6upqOcQN3ywHoEQApAmANAGQJgDSBECaAEgTAGkCIE0ApAmANAGQJgDSBECaAEgTAGkCIE0ApAmANAGQJgDSBECaAEgTAGkCIE0ApAmANAGQJgDSBECaAEgTAGnfLgdW8Pbt2+XQ7jx+/Nj9b3FycrIc2rXLy8vl0O6cnZ0th3bKDECaAEgTAGkCIE0ApAmANAGQJgDSBECaAEgTAGkCIE0ApAmANAGQJgDSBECaAEgTAGkCIE0ApAmANAGQJgDSBECaAEgTAGkCIE0ApAmAtHsXFxfLMY7I+fkvy6GdevZs3e3L1+Z8gM/Y+v3Pz5cjO7fp8wH2EQD/u+fPlyNf7+XL5cgWWQOQJgDSBECaAEgTAGkCIE0ApAmANAGQJgDSBECaAEgTAGn+DconHj6cJ0+Wg7PO/0kPgRmANDMAn3j//mi/7P+VGYA0AZAmANIEQJoASBMAaQIgTQCkCYA0AZAmANL8FyjhOPbxXIMZgDTnAxy5q6ur5RA37OMRaNX979feX3/r9z85OVkO7dqmzwfwCESaAEgTAGkCIE0AR+XBzK/LMW6zj7dA7MFPM49mvp+ZmReLa/w3AWzbg5lHM6fLYb6UALbqh5nTj1/53JkANub+zOnMo5nvlle4CwFsxoOPH312SACH7v7Hp3xf+WsQwOGywN0DARyim+80WZUADogF7v75JZg0ARyQDzOvZn6euZz5Y3mRVXgEOkRvZt5YBO+FAA7X9cz1zGuvQdckgEP34caEcOqHsF2zBtiM65kXM09nXs/8ubzIHQlgY/5ZKP9mobwLHoG26t3MOwvlr2YG2LbrmVczP3pzeldmgCNxc6HMlzMDHJW/F8p8OQGQJgDSBECaAEgTAGnOBzhyzge43T5+B1h1//u199ff+v2dD3A7j0CkCYA0AZAmANIEQJoASBMAaQIgTQCkCYA0AZAmANIEQJoASBMAaQIgTQCkCYA0AZAmANIEQJoASBMAaQIgTQCkCYA0AZAmANIEQJoASHM+wJFzPsDtnA/wGVu/v/MBbucRiDQBkCYA0gRAmgBIEwBpAiBNAKQJgDQBkCYA0gRAmgBIEwBpAiBNAKQJgDQBkCYA0gRAmgBIEwBpAiBNAKQJgDQBkCYA0gRAmgBIEwBpzgc4cmufD3D5+4p7o8/M2bN1t0d3PsBnbP3+ezgfYNM8ApEmANIEQJoASBMAaQIgTQCkCYA0AZAmANIEQJoASBMAaQIgTQCkCYA0AZAmANIEQJoASBMAaQIgTQCkCYA0AZAmANIEQJoASBMAaQIg7d7Z2br7r8MhMwOQJgDSBECaAEgTAGkCIE0ApAmANAGQJgDSBECaAEgTAGkCIE0ApAmANAGQJgDSBECaAEgTAGkCIE0ApAmANAGQJgDSBECaAEgTAGkCIE0ApP0FjmmdmDyMyLkAAAAASUVORK5CYII=",
           "type": "image"
          }
         ],
         "layout": {
          "margin": {
           "t": 60
          }
         },
         "name": "19"
        },
        {
         "data": [
          {
           "name": "20",
           "source": "data:image/png;base64,iVBORw0KGgoAAAANSUhEUgAAAQAAAAEACAIAAADTED8xAAAEg0lEQVR4Xu3dPY5URxhA0Q/LO8ABO8AZCzAxmeVZAbKlYQUE3oIJSCadYQ8mJWcBTOTZg9mDAwsLniwQQ1f/zD0nrJaeXtC361V3q+rexcXFcDjX19fbIfbou+0AlAiANAGQJgDSBECaAEgTAGkCIE0ApAmANAGQJgDSBECaAEgTAGkCIE0ApAmANAGQJgDSBECaAEgTAGkCIE0ApAmANAGQJgDSBECaAEgTAGkCIO377cACb9682Q7tzpMnT076+g8ePLi6utqO7s75+fl2aNdO+v7NAKQJgDQBkCYA0gRAmgBIEwBpAiBNAKQJgDQBkCYA0gRAmgBIEwBpAiBNAKQJgDQBkCYA0gRAmgBIEwBpAiBNAKQJgDQBkCYA0gRAmgBIu3dxcbEdY4+ur6+3Qzt1eblw7/KZefZs7fblqzkf4AtWX3/1+QCXl9uRnVt6/6vPB9hHABzc8+fbkW/38uV25BRZA5AmANIEQJoASBMAaQIgTQCkCYA0AZAmANIEQJoASBMAaf4NyicePZqnT7eDs+b/pMfADECaGYBPvHt3Zz/s/5cZgDQBkCYA0gRAmgBIEwBpAiBNAKQJgDQBkCYA0vwXKOFu7OO5ghmANOcDHNjq8wH4vH08Ai3dX3/1/v2rr7/6fIDV++vPiZ8P4BGINAGQJgDSBECaAPbq4czv2zEOaR/fAjEzv8w8nvlxZmZebF7jcASw1sOZxzNn22GOhQBW+Wnm7MNHPkdLADt2f+Zs5vHMD9tXOEYC2JmHH976nBABfKv7H57yfeSfIgHcngXuHSCA2/j4O01OmgC+ggXu3eOXYNIE8BXez7ya+W3mauav7YucJI9At/F65rVF8J0ggNu7mbmZ+dPXoKdMAN/q/UcTwpkfwk6NNcDO3My8mPl15s+Zv7cvcqQEsGP/LZT/sFA+BR6BVnk789ZC+eiZAda6mXk187NvTo+VGWBPPl4oczzMAHv170KZ4yEA0gRAmgBIEwBpAiDN+QAH5nyAw9rH7wBL99dfvX//6us7H+DzVt+/RyDSBECaAEgTAGkCIE0ApAmANAGQJgDSBECaAEgTAGkCIE0ApAmANAGQJgDSBECaAEgTAGkCIE0ApAmANAGQJgDSBECaAEgTAGkCIE0ApDkf4MCcD3BYzgf4gtXXdz7A562+f49ApAmANAGQJgDSBECaAEgTAGkCIE0ApAmANAGQJgDSBECaAEgTAGkCIE0ApAmANAGQJgDSBECaAEgTAGkCIE0ApAmANAGQJgDSBECaAEhzPsCBnfr5AFeXC/dGn5nzZ2u3R3c+wBesvv4dOB/gpHkEIk0ApAmANAGQJgDSBECaAEgTAGkCIE0ApAmANAGQJgDSBECaAEgTAGkCIE0ApAmANAGQJgDSBECaAEgTAGkCIE0ApAmANAGQJgDSBEDaPdtnU2YGIE0ApAmANAGQJgDSBECaAEgTAGkCIE0ApAmANAGQJgDSBECaAEgTAGkCIE0ApAmANAGQJgDSBECaAEgTAGkCIE0ApAmANAGQJgDSBECaAEj7BxcFoBCuI8lWAAAAAElFTkSuQmCC",
           "type": "image"
          }
         ],
         "layout": {
          "margin": {
           "t": 60
          }
         },
         "name": "20"
        },
        {
         "data": [
          {
           "name": "21",
           "source": "data:image/png;base64,iVBORw0KGgoAAAANSUhEUgAAAQAAAAEACAIAAADTED8xAAAEbUlEQVR4Xu3dMU4cZxiA4c9RbuAUvgHpfIC4povCCaxEwidwkSvEhRta8B3slt4HMFW4Q3yHFAgLJoZNFIZk532e8l8JbcG7//yzq/menJycDHe7uLhYLrEh3ywXoEQApAmANAGQJgDSBECaAEgTAGkCIE0ApAmANAGQJgDSBECaAEgTAGkCIE0ApAmANAGQJgDSBECaAEgTAGkCIE0ApAmANAGQJgDSBECaAEgTAGnfLhdWcH5+vlx6OIeHh6v+/WfPnp2dnS1XH87x8fHaf3+59ND2+v3bAUgTAGkCIE0ApAmANAGQJgDSBECaAEgTAGkCIE0ApAmANAGQJgDSBECaAEgTAGkCIE0ApAmANAGQJgDSBECaAEgTAGkCIE0ApAmANAGQ9uTk5GS5xg0XFxfLpb1yerris8tn5tWrdR9fvjbzAXbY9/kAp6fLlQe36vtfez7AYwTAf+716+XKv/f27XJlHzkDkCYA0gRAmgBIEwBpAiBNAKQJgDQBkCYA0gRAmgBIEwBpfg3KLc+fz8uXy8VZ5/ek/wd2ANLsANzy6dNmP+y/yg5AmgBIEwBpAiBNAKQJgDQBkCYA0gRAmgBIEwBpfguUsI3neK7BDkCa+QA77Pt8AO73GJdAqz6/33yA+639fP3Z8/kALoFIEwBpAiBNAKQJ4JaDmV+Xa2zZY9wF2gs/zbyY+X5mZt4sXmO76gEczLyYOVouU9EN4IeZo+uPfLJyATydOZp5MfPd8hWKQgEcXP/rwxfbD+Dp9VW+j3z+assBOOCy0zYDuHlPE+6xqQAccPmnfBNM2qYC+DzzbuaXmbOZ35cvwlds6hLoiw8zHxyC+Ru2GcCVy5nLmfdug3K3LQdw5fONDeHIF2HctqkzwP0uZ97M/DzzfuaP5YtEhQK48uWg/JuDMoVLoLt8nPnooJyX2wEWLmfezfzozmlVdwdYuHlQpqO+AyxcHZTpEABpAiBNAKQJgDQBkGY+wA7mA2zbY3wPsOrz+80HuN/az9cf8wFgfwmANAGQJgDSBECaAEgTAGkCIE0ApAmANAGQJgDSBECaAEgTAGkCIE0ApAmANAGQJgDSBECaAEgTAGkCIE0ApAmANAGQJgDSBECaAEgzH2AH8wG2zXyAHcwH2Gmv379LINIEQJoASBMAaQIgTQCkCYA0AZAmANIEQJoASBMAaQIgTQCkCYA0AZAmANIEQJoASBMAaQIgTQCkCYA0AZAmANIEQJoASBMAaQIgTQCkmQ+wg/kA9zs7XfHZ6DNz/Grdx6ObD7CD+QDb5hKINAGQJgDSBECaAEgTAGkCIE0ApAmANAGQJgDSBECaAEgTAGkCIE0ApAmANAGQJgDSBECaAEgTAGkCIE0ApAmANAGQJgDSBECaAEgTAGlPPD6bMjsAaQIgTQCkCYA0AZAmANIEQJoASBMAaQIgTQCkCYA0AZAmANIEQJoASBMAaQIgTQCkCYA0AZAmANIEQJoASBMAaQIgTQCkCYA0AZAmANIEQNqff4mgEOSasgEAAAAASUVORK5CYII=",
           "type": "image"
          }
         ],
         "layout": {
          "margin": {
           "t": 60
          }
         },
         "name": "21"
        },
        {
         "data": [
          {
           "name": "22",
           "source": "data:image/png;base64,iVBORw0KGgoAAAANSUhEUgAAAQAAAAEACAIAAADTED8xAAAEdUlEQVR4Xu3dsY0UVxzA4T+WO8ABHeCMAkwLlq8CZEtHBQRuwQQkl97RA07JKYCLfD2YHhycQMfIBgtmZnf5fV/4VhpNsL9983ZX7927uLiYU3Z9fb0cgv/tu+UAlAiANAGQJgDSBECaAEgTAGkCIE0ApAmANAGQJgDSBECaAEgTAGkCIE0ApAmANAGQJgDSBECaAEgTAGkCIE0ApAmANAGQJgDSBECaAEgTAGkCIO375cAGXr9+vRxaz4MHD66urpaj6zk/Pz/16y+H1nbS928GIE0ApAmANAGQJgDSBECaAEgTAGkCIE0ApAmANAGQJgDSBECaAEgTAGkCIE0ApAmANAGQJgDSBECaAEgTAGkCIE0ApAmANAGQJgDSBEDavYuLi+XYSbm+vl4Occfl5YZ7l8/M06fbbl++NecDfMYO+/dvev3Ly+XI6ja9/63PB9gjAA7u2bPlyNd78WI5coqsAUgTAGkCIE0ApAmANAGQJgDSBECaAEgTAGkCIE0ApAmANP8G5SOPHs2TJ8vB2eb/pMfADECaGYCPvH37zX7Y/yszAGkCIE0ApAmANAGQJgDSBECaAEgTAGkCIE0ApPkvUMK3sY/nFswApDkfgLQ9HoGcD/AJO1x/ObS2k75/j0CkCYA0AZAmANJOLICHM78vx+DL7fEt0Cp+mXk88+PMzDxfvAZf6tgDeDjzeOZsOQzrON4Afpo5e/+RDxs5ugDuz5zNPJ75YfkKrO+IAnj4/q0Puzl8APffP+X7yGd/hwzAApeDO0wAd7/ThAPaNQALXI7Nif0SDOvaNYB3My9nfpu5mvlr+SIcwK6PQB/8OfOnRTBH4DAB3LqZuZl55WtQDueQAdx6d2dCOPNDGPvadQ3waTczz2d+nXk18/fyRdjEEQVw68NC+Q8LZbZ3+Eeg//Jm5o2FMhs7uhlg4Wbm5czPvjllG8c7AyzcXSjDWo59Bli4XSjDWk4sAFiXAEgTAGkCIE0ApDkfgLQ9fgdwPsAn7HD95dDaTvr+PQKRJgDSBECaAEgTAGkCIE0ApAmANAGQJgDSBECaAEgTAGkCIE0ApAmANAGQJgDSBECaAEgTAGkCIE0ApAmANAGQJgDSBECaAEgTAGkCIM35AKQ5H+Azdti/f+vrL4fWdtL37xGINAGQJgDSBECaAEgTAGkCIE0ApAmANAGQJgDSBECaAEgTAGkCIE0ApAmANAGQJgDSBECaAEgTAGkCIE0ApAmANAGQJgDSBECaAEgTAGnOB+CrXF1uuDf6zJw/3XZ7dOcDfMYO+/dvff3lEHd4BCJNAKQJgDQBkCYA0gRAmgBIEwBpAiBNAKQJgDQBkCYA0gRAmgBIEwBpAiBNAKQJgDQBkCYA0gRAmgBIEwBpAiBNAKQJgDQBkCYA0gRA2j3bZ1NmBiBNAKQJgDQBkCYA0gRAmgBIEwBpAiBNAKQJgDQBkCYA0gRAmgBIEwBpAiBNAKQJgDQBkCYA0gRAmgBIEwBpAiBNAKQJgDQBkCYA0gRAmgBI+wfoDaAQYWI91QAAAABJRU5ErkJggg==",
           "type": "image"
          }
         ],
         "layout": {
          "margin": {
           "t": 60
          }
         },
         "name": "22"
        },
        {
         "data": [
          {
           "name": "23",
           "source": "data:image/png;base64,iVBORw0KGgoAAAANSUhEUgAAAQAAAAEACAIAAADTED8xAAAEjUlEQVR4Xu3dMVIcRxiA0ZbLN4CAG0iZDiDFSrUnUIRCnOgUCpSQmpPoFuJEDly2V20EEszs7PK9F1E/MEXANz1DDdMvrq+vB8/X7e3tPGLPb/MASgRAmgBIEwBpAiBNAKQJgDQBkCYA0gRAmgBIEwBpAiBNAKQJgDQBkCYA0gRAmgBIEwBpAiBNAKQJgDQBkCYA0gRAmgBIEwBpAiBNAKQJgDQBkPb7PFjB169f59Fy3r175/j3uLi4mEdLu7m5mUfLuby8nEeLsgKQJgDSBECaAEgTAGkCIE0ApAmANAGQJgDSBECaAEgTAGkCIE0ApAmANAGQJgDSBECaAEgTAGkCIE0ApAmANAGQJgDSBECaAEgTAGkCIO3F9fX1POMZubr6Yx4t6uPHdV9fvjb7Azzg1I9/dTVPFnfS+wMcIgA29+nTPHm6L1/mySlyD0CaAEgTAGkCIE0ApAmANAGQJgDSBECaAEgTAGkCIE0ApHkalO+8fj0+fJiHY53nSY+BFYA0KwDf+fbt2Z7s72QFIE0ApAmANAGQJgDSBECaAEgTAGkCIE0ApAmANM8CJTyP93iuwQpAmv0Bnrnb29t5xJ5DXAKt+v77td+vf+rHv7i4mEdLO+n9AVwCkSYA0o4rgLMxzuYZrOi4AtiNsZtnsKLjCuDtGG/nGazoiAJ4P8b5GOdjvJ8/A2s5ogD+PfdbBDiYYwng5Riv/vn41Rgv9z8HqzmWAKazvkWAwziKAM7+98efnb+HchBHEcCd5/s7h7CsowhgNw/G+MEQlrV9AC/HOJ9nY4xx7laY9W0fwG4e/Gc3D2BhGwdwdu+1/lu3wqxs4wB282C2mwewpI0DuOf0/7cHvwCeYssA3vzg9nff+Rhv5hksZssAdvPgbrt5AIvZLID9h3/u59Eg1rNZAL90cf9LXww/b7MAdvPgPrt5AMvYJoBH/MvLI74FHrRNAI+4pHnEt8CDNgjg529/97kVZg0bBLCbBz9rNw/gqQ7xasTJ5zE+zzPYxgYrABwPAZAmANJerP36aThmh7gJXvv98Y5/jwOc4E7653cJRJoASBMAaQIgTQCkCYA0AZAmANIEQJoASBMAaQIgTQCkCYA0AZAmANIEQJoASBMAaQIgTQCkCYA0AZAmANIEQJoASBMAaQIgTQCkCYA0+wOQZn+ABzyD48+jpZ30z+8SiDQBkCYA0gRAmgBIEwBpAiBNAKQJgDQBkCYA0gRAmgBIEwBpAiBNAKQJgDQBkCYA0gRAmgBIEwBpAiBNAKQJgDQBkCYA0gRAmgBIEwBp9gfgSW7+XPHd6GOMy4/r/n7aH+ABz+D484g9LoFIEwBpAiBNAKQJgDQBkCYA0gRAmgBIEwBpAiBNAKQJgDQBkCYA0gRAmgBIEwBpAiBNAKQJgDQBkCYA0gRAmgBIEwBpAiBNAKQJgDQBkGZ/ANKsAKQJgDQBkCYA0gRAmgBIEwBpAiBNAKQJgDQBkCYA0gRAmgBIEwBpAiBNAKQJgDQBkCYA0gRAmgBIEwBpAiBNAKQJgDQBkCYA0gRAmgBIEwBpfwHuw4JwRHXPOwAAAABJRU5ErkJggg==",
           "type": "image"
          }
         ],
         "layout": {
          "margin": {
           "t": 60
          }
         },
         "name": "23"
        },
        {
         "data": [
          {
           "name": "24",
           "source": "data:image/png;base64,iVBORw0KGgoAAAANSUhEUgAAAQAAAAEACAIAAADTED8xAAAEaUlEQVR4Xu3dsW3dVhSA4eMgI7hI6yqqNIErF6q1g+VSbpMVsoMNeAQF6Vw7C6hyKi/g7JBCSBAThlTokXxP//eV5wGs9OvyEgTvs6urq1nT+fn5csQTcnt7uxydlB+WAygRAGkCIE0ApAmANAGQJgDSBECaAEgTAGkCIE0ApAmANAGQJgDSBECaAEgTAGkCIE0ApAmANAGQJgDSBECaAEgTAGkCIE0ApAmANAGQJgDSBEDaj8vBCj5+/LgcHc7FxYXr3+Pi4mI5OrR3794tR4ez9gEuVgDSBECaAEgTAGkCIE0ApAmANAGQJgDSBECaAEgTAGkCIE0ApAmANAGQJgDSBECaAEgTAGkCIE0ApAmANAGQJgDSBECaAEgTAGkCIE0ApD1b+/PT5+fnyxEbur5e8dvrM/PmzU/L0UlxPsADTv3619fLycGd9PkAWwTA7t6/X04e7/Xr5eQU2QOQJgDSBECaAEgTAGkCIE0ApAmANAGQJgDSBECaAEgTAGneBuUbL17Mq1fL4azzPukxsAKQZgXgG1++PNl/9t9lBSBNAKQJgDQBkCYA0gRAmgBIEwBpAiBNAKQJgDTvAiU8je94rsEKQJrzAXiU29vb5eikbHELtOr379f+vv4TuP5ydGgnfT6AWyDSBECaAEgTAGmbBvDLzM/LGexpi6dA/3k583Lm88ynmd+XP8IONl0B7pzNXM38MfPagsDeNl0BFi5nLmc+z9zM/Ln4DTaxZwB3zmZ+nfk682nmZubv5e+woh1ugb7r+czlzAcbZba1/wqwcLdR/jpzM/PJgsDKjmUFWHg+czXzwUaZlR3dCrBw+e9G2ZNT1nDsAdw5mzmbubRR5tCO9BYItnEaK4BbIFZy7AHczHya+Ws5hsM40gA8BmUbRxfA3TbXv3y2cSwBeBWCXewfgJfh2NGeAdzY4LK3HQLwTJPjsWkANrgcm00D+G05gJ15FYI0AZAmANIEQJoASHM+AI/ifICHrf39e9e/h/MB7ucWiDQBkCYA0gRAmgBIEwBpAiBNAKQJgDQBkCYA0gRAmgBIEwBpAiBNAKQJgDQBkCYA0gRAmgBIEwBpAiBNAKQJgDQBkCYA0gRAmgBIEwBpzgfgUZwP8LC1v3/v+vdwPsD93AKRJgDSBECaAEgTAGkCIE0ApAmANAGQJgDSBECaAEgTAGkCIE0ApAmANAGQJgDSBECaAEgTAGkCIE0ApAmANAGQJgDSBECaAEgTAGkCIM35ADzK2+u3y9FBXb1Z9+/T+QAPeALXX474H7dApAmANAGQJgDSBECaAEgTAGkCIE0ApAmANAGQJgDSBECaAEgTAGkCIE0ApAmANAGQJgDSBECaAEgTAGkCIE0ApAmANAGQJgDSBECaAEhb/XwAOGZWANIEQJoASBMAaQIgTQCkCYA0AZAmANIEQJoASBMAaQIgTQCkCYA0AZAmANIEQJoASBMAaQIgTQCkCYA0AZAmANIEQJoASBMAaQIgTQCkCYC0fwCv3qtjWIjf6wAAAABJRU5ErkJggg==",
           "type": "image"
          }
         ],
         "layout": {
          "margin": {
           "t": 60
          }
         },
         "name": "24"
        },
        {
         "data": [
          {
           "name": "25",
           "source": "data:image/png;base64,iVBORw0KGgoAAAANSUhEUgAAAQAAAAEACAIAAADTED8xAAAEcklEQVR4Xu3dMW4bVxRA0ecgS3CR1lVUaQWuXKjWHiyVcptsIa1rG/ASFKRzrWxAlVN5A84eUhAB7IFAJpCGCeeeUz4CbMjLP58YzH92dXU1p+z8/Hw54oju7++Xo5Py3XIAJQIgTQCkCYA0AZAmANIEQJoASBMAaQIgTQCkCYA0AZAmANIEQJoASBMAaQIgTQCkCYA0AZAmANIEQJoASBMAaQIgTQCkCYA0AZAmANIEQJoASPt+OVjBu3fvlqOn8/bt248fPy6nT+fi4uLU3385emqrfr5rH+BiBSBNAKQJgDQBkCYA0gRAmgBIEwBpAiBNAKQJgDQBkCYA0gRAmgBIEwBpAiBNAKQJgDQBkCYA0gRAmgBIEwBpAiBNAKQJgDQBkCYA0gRA2rO1Hz+9tvPz8+WIr9zcrPjs9Zm5vv5hOTopzgc44AjP71/1/W9ulpMnt+rnu/YP9DEC4D/3/v1y8nivXy8np8gegDQBkCYA0gRAmgBIEwBpAiBNAKQJgDQBkCYA0gRAmgBIczco33jxYl69Wg5nnftJ/w+sAKRZAfjG58+b/bF/kBWANAGQJgDSBECaAEgTAGkCIE0ApAmANAGQJgDS3AuUsI3neK7BCkCa8wF4lPv7++XopBzjEmjV58c7H2C/i4uL5eiprfr5rv0D7RKINAGQJgDSBEDapgL4aebH5Qz2Oca/QEfzcublzKeZu5lfly/CAza1AuyczVzN/Dbz2oLAIZtaARYuZy5nPs3czvy+eA1mZtsB7JzN/DzzZeZu5nbmz+XrpG3wEuhBz2cuZz7YKPOt7a8AC7uN8peZ25k7C0JeZQVYeD5zNfPBRjkvtwIsXP69UfbPaVM9gJ2zmbOZSxvlnuglEOxYAWZcAoXVA7iduZv5YzmmIhqAv0HZyQWw2+b6yWenEoBbIXjQ9gNwMxx7bDmAWxtcDtlgAP7T5J/bVAA2uPxbmwrgl+UADnArBGkCIE0ApAmANAGQ5nwAHsX5AIet+vx45wPs53yA/VwCkSYA0gRAmgBIEwBpAiBNAKQJgDQBkCYA0gRAmgBIEwBpAiBNAKQJgDQBkCYA0gRAmgBIEwBpAiBNAKQJgDQBkCYA0gRAmgBIEwBpAiDN+QA8ivMBDlv1+fHOB9jP+QD7uQQiTQCkCYA0AZAmANIEQJoASBMAaQIgTQCkCYA0AZAmANIEQJoASBMAaQIgTQCkCYA0AZAmANIEQJoASBMAaQIgTQCkCYA0AZAmANIEQJrzAXiUNzdvlqMndXW97vfT+QAHHOH5/Wu//3LEV1wCkSYA0gRAmgBIEwBpAiBNAKQJgDQBkCYA0gRAmgBIEwBpAiBNAKQJgDQBkCYA0gRAmgBIEwBpAiBNAKQJgDQBkCYA0gRAmgBIEwBpAiDt5M8HgMewApAmANIEQJoASBMAaQIgTQCkCYA0AZAmANIEQJoASBMAaQIgTQCkCYA0AZAmANIEQJoASBMAaQIgTQCkCYA0AZAmANIEQJoASBMAaQIgTQCk/QXWN66fo2OfzwAAAABJRU5ErkJggg==",
           "type": "image"
          }
         ],
         "layout": {
          "margin": {
           "t": 60
          }
         },
         "name": "25"
        },
        {
         "data": [
          {
           "name": "26",
           "source": "data:image/png;base64,iVBORw0KGgoAAAANSUhEUgAAAQAAAAEACAIAAADTED8xAAAEiUlEQVR4Xu3dMW4VVxSA4UOUJVCkpQqVV0BF4dp74FGaNtlCWmqQWIKjdNRkA65IxQbIHlKgSGGU8GR41/H4/77yWJpi5H/uzNNo7oPD4TD8t7Ozs+2If7i+vt6OduW77QBKBECaAEgTAGkCIE0ApAmANAGQJgDSBECaAEgTAGkCIE0ApAmANAGQJgDSBECaAEgTAGkCIE0ApAmANAGQJgDSBECaAEgTAGkCIE0ApAmANAGQ9v12sMCrV6+2o9M5HA5Lj//y5cu3b99up6dzfn6++vjb0aktPf+rN3CxApAmANIEQJoASBMAaQIgTQCkCYA0AZAmANIEQJoASBMAaQIgTQCkCYA0AZAmANIEQJoASBMAaQIgTQCkCYA0AZAmANIEQJoASBMAaQIg7cHqz0/v3dnZ2Xa0K5eXC7+9PjPPn/+wHe2K/QGO2Pv+AJeX28nJLT3/qy/QtxEA/7vXr7eTb/fs2XayR54BSBMAaQIgTQCkCYA0AZAmANIEQJoASBMAaQIgTQCkCYA0b4PymUeP5unT7XDWvE96F1gBSLMC8JkPH+7txf5fWQFIEwBpAiBNAKQJgDQBkCYA0gRAmgBIEwBpAiDNu0AJ9+M7nitYAUizP8ARe98fYLXr6+vtaFdu4xZo9ffjlx5/7/sDnJ+fb0entvT8r75AuwUiTQCkCYA0AZAmgBv4aebH7Yx9u41fge6NJzNPZt7PvJv5dftHdskKcGOPZw4zv808syDsnxXg613MXMy8n7ma+X3zN3ZCAN/q8czPMx9n3s1czfy5/Tt3mlug03g4czHzxoPy3lgBTuzTg/LHmauZdxaEO88KsMTDmcPMGw/Kd54VYK2Lvx+U/XJ6NwngNjyeeTxz4UH57nELRJoV4Da4BbqzBLDW1cy7mT+2Y+4KASzhZ9C9EMCJfXrMdcnfCwGchlchdkoA38rLcLsmgK935QF3/wRwY37TvE8EcAMecO8fAdzAL9sBu+dVCNIEQJoASBMAaQIgzf4AR9gf4MvsD3Dc6u/HLz2+/QGOWnr+V1+g3QKRJgDSBECaAEgTAGkCIE0ApAmANAGQJgDSBECaAEgTAGkCIE0ApAmANAGQJgDSBECaAEgTAGkCIE0ApAmANAGQJgDSBECaAEgTAGkCIM3+AEfYH+DL7A9w3Orvxy89vv0Bjlp6/ldfoN0CkSYA0gRAmgBIEwBpAiBNAKQJgDQBkCYA0gRAmgBIEwBpAiBNAKQJgDQBkCYA0gRAmgBIEwBpAiBNAKQJgDQBkCYA0gRAmgBIEwBpAiDN/gBH2B/gy15cvtiOTurwfO3/p/0BjrA/wP3mFog0AZAmANIEQJoASBMAaQIgTQCkCYA0AZAmANIEQJoASBMAaQIgTQCkCYA0AZAmANIEQJoASBMAaQIgTQCkCYA0AZAmANIEQJoASBMAafYHIM0KQJoASBMAaQIgTQCkCYA0AZAmANIEQJoASBMAaQIgTQCkCYA0AZAmANIEQJoASBMAaQIgTQCkCYA0AZAmANIEQJoASBMAaQIgTQCkCYA0AZD2F42wrp9SsvfnAAAAAElFTkSuQmCC",
           "type": "image"
          }
         ],
         "layout": {
          "margin": {
           "t": 60
          }
         },
         "name": "26"
        },
        {
         "data": [
          {
           "name": "27",
           "source": "data:image/png;base64,iVBORw0KGgoAAAANSUhEUgAAAQAAAAEACAIAAADTED8xAAAEhElEQVR4Xu3dMW4VVxSA4UOUJVCkpYorr4CKwrX3wKM0bbKFtNQgsQRH6ajJBlyRig2QPaRAKRhFQOBd+43/7yuPpSme/M+dGY3mPjgcDsPdOT8/34525ebmZjvalR+2AygRAGkCIE0ApAmANAGQJgDSBECaAEgTAGkCIE0ApAmANAGQJgDSBECaAEgTAGkCIE0ApAmANAGQJgDSBECaAEgTAGkCIE0ApAmANAGQJgDSBEDaj9vBAi9fvtyOjudwOOz6+C9evHjz5s12ejwXFxfb0bEt/X1Wb+BiBSBNAKQJgDQBkCYA0gRAmgBIEwBpAiBNAKQJgDQBkCYA0gRAmgBIEwBpAiBNAKQJgDQBkCYA0gRAmgBIEwBpAiBNAKQJgDQBkCYA0gRA2oPVn5/m887Pz7ejo7q6Wvjt9Zl59uyn7WhX7A/wBauPv3p/gKur7eTolv4+q0/QtxEAd+7Vq+3k+z19up3skXsA0gRAmgBIEwBpAiBNAKQJgDQBkCYA0gRAmgBIEwBpAiDN26B84tGjefJkO5w175OeAisAaVYAPvH+/b092f8nKwBpAiBNAKQJgDQBkCYA0gRAmgBIEwBpAiBNAKR5FyjhfnzHcwUrAGn2B7hjq/cHWO3m5mY72pXbuARa/f34XR9/9f4AFxcX29GxLf19Vp+gXQKRJgDSBECaAEgTwAn5Zebn7Yy1buMpEF/p8czjmXczb2d+3/6RJawAJ+ds5jDzx8xTC8J6VoDTdTlzOfNu5nrmz83fOBIBnLqzmV9nPsy8nbme+Xv7d76LS6B9eDhzOfPajfKxWQF25uON8oeZ65m3FoTvZgXYpYczh5nXbpS/mxVg3y7/vVH25PTbCOA+OJs5m7l0o/z/uQQizQpwH7gE+mYC2Lfrmbczf23HfC0B7JLHoMcigJ35eJvrlH8sAtgHr0IsIoBT52W4pQRwuq7d4K4ngJPjmeZtEsAJcYN7+wRwQn7bDljOqxCkCYA0AZAmANIEQJr9Ae6Y/QHu1m08Bl39/fhdH9/+AJ+3+gTtEog0AZAmANIEQJoASBMAaQIgTQCkCYA0AZAmANIEQJoASBMAaQIgTQCkCYA0AZAmANIEQJoASBMAaQIgTQCkCYA0AZAmANIEQJoASBMAafYHuGP2B7hb9gf4gtXHtz/A560+QbsEIk0ApAmANAGQJgDSBECaAEgTAGkCIE0ApAmANAGQJgDSBECaAEgTAGkCIE0ApAmANAGQJgDSBECaAEgTAGkCIE0ApAmANAGQJgDSBECa/QHu2N73B3h+9Xw7OqrDs7X/n/YH+ILVx78H+wPsmksg0gRAmgBIEwBpAiBNAKQJgDQBkCYA0gRAmgBIEwBpAiBNAKQJgDQBkCYA0gRAmgBIEwBpAiBNAKQJgDQBkCYA0gRAmgBIEwBpAiBNAKTZH4A0KwBpAiBNAKQJgDQBkCYA0gRAmgBIEwBpAiBNAKQJgDQBkCYA0gRAmgBIEwBpAiBNAKQJgDQBkCYA0gRAmgBIEwBpAiBNAKQJgDQBkCYA0gRA2j9FKa6f9NBPGQAAAABJRU5ErkJggg==",
           "type": "image"
          }
         ],
         "layout": {
          "margin": {
           "t": 60
          }
         },
         "name": "27"
        },
        {
         "data": [
          {
           "name": "28",
           "source": "data:image/png;base64,iVBORw0KGgoAAAANSUhEUgAAAQAAAAEACAIAAADTED8xAAAEhElEQVR4Xu3dMW4VVxSA4UOUJVCkpYorr4CKwrX3wKM0bbKFtNQgsQRH6ajJBlyRig2QPaRAKRhFQOBd+43/7yuPpSme/M+dGY3mPjgcDsPdOT8/34525ebmZjvalR+2AygRAGkCIE0ApAmANAGQJgDSBECaAEgTAGkCIE0ApAmANAGQJgDSBECaAEgTAGkCIE0ApAmANAGQJgDSBECaAEgTAGkCIE0ApAmANAGQJgDSBEDaj9vBAi9fvtyOjudwOOz6+C9evHjz5s12ejwXFxfb0bEt/X1Wb+BiBSBNAKQJgDQBkCYA0gRAmgBIEwBpAiBNAKQJgDQBkCYA0gRAmgBIEwBpAiBNAKQJgDQBkCYA0gRAmgBIEwBpAiBNAKQJgDQBkCYA0gRA2oPVn5/m887Pz7ejo7q6Wvjt9Zl59uyn7WhX7A/wBauPv3p/gKur7eTolv4+q0/QtxEAd+7Vq+3k+z19up3skXsA0gRAmgBIEwBpAiBNAKQJgDQBkCYA0gRAmgBIEwBpAiDN26B84tGjefJkO5w175OeAisAaVYAPvH+/b092f8nKwBpAiBNAKQJgDQBkCYA0gRAmgBIEwBpAiBNAKR5FyjhfnzHcwUrAGn2B7hjq/cHWO3m5mY72pXbuARa/f34XR9/9f4AFxcX29GxLf19Vp+gXQKRJgDSBECaAEgTwAn5Zebn7Yy1buMpEF/p8czjmXczb2d+3/6RJawAJ+ds5jDzx8xTC8J6VoDTdTlzOfNu5nrmz83fOBIBnLqzmV9nPsy8nbme+Xv7d76LS6B9eDhzOfPajfKxWQF25uON8oeZ65m3FoTvZgXYpYczh5nXbpS/mxVg3y7/vVH25PTbCOA+OJs5m7l0o/z/uQQizQpwH7gE+mYC2Lfrmbczf23HfC0B7JLHoMcigJ35eJvrlH8sAtgHr0IsIoBT52W4pQRwuq7d4K4ngJPjmeZtEsAJcYN7+wRwQn7bDljOqxCkCYA0AZAmANIEQJr9Ae6Y/QHu1m08Bl39/fhdH9/+AJ+3+gTtEog0AZAmANIEQJoASBMAaQIgTQCkCYA0AZAmANIEQJoASBMAaQIgTQCkCYA0AZAmANIEQJoASBMAaQIgTQCkCYA0AZAmANIEQJoASBMAafYHuGP2B7hb9gf4gtXHtz/A560+QbsEIk0ApAmANAGQJgDSBECaAEgTAGkCIE0ApAmANAGQJgDSBECaAEgTAGkCIE0ApAmANAGQJgDSBECaAEgTAGkCIE0ApAmANAGQJgDSBECa/QHu2N73B3h+9Xw7OqrDs7X/n/YH+ILVx78H+wPsmksg0gRAmgBIEwBpAiBNAKQJgDQBkCYA0gRAmgBIEwBpAiBNAKQJgDQBkCYA0gRAmgBIEwBpAiBNAKQJgDQBkCYA0gRAmgBIEwBpAiBNAKTZH4A0KwBpAiBNAKQJgDQBkCYA0gRAmgBIEwBpAiBNAKQJgDQBkCYA0gRAmgBIEwBpAiBNAKQJgDQBkCYA0gRAmgBIEwBpAiBNAKQJgDQBkCYA0gRA2j9FKa6f9NBPGQAAAABJRU5ErkJggg==",
           "type": "image"
          }
         ],
         "layout": {
          "margin": {
           "t": 60
          }
         },
         "name": "28"
        },
        {
         "data": [
          {
           "name": "29",
           "source": "data:image/png;base64,iVBORw0KGgoAAAANSUhEUgAAAQAAAAEACAIAAADTED8xAAAEeUlEQVR4Xu3dMXbUVhiA0UdO1gMbSO1lUA1laCiyhhSswCxCtK5hAbiCPZg9pEvgxcx4mBkj+bu3/I+tM8V8T5KPrPdst9sNqPptHkCJAEgTAGkCIE0ApAmANAGQJgDSBECaAEgTAGkCIE0ApAmANAGQJgDSBECaAEgTAGkCIE0ApAmANAGQJgDSBECaAEgTAGkCIE0ApAmANAGQJgDSfp8HF/Du3bt5dD673c7x93iEDVA2/fmdAUgTAGkCIE0ApAmANAGQJgDSBECaAEgTAGkCIE0ApAmANAGQJgDSBECaAEgTAGkCIE0ApAmANAGQJgDSBECaAEgTAGkCIE0ApAmANAGQ9uzSr5/m17q+vuC7y8cYr15t+/tjf4ADtn786+t5cnYX/fyXXqAfIwB+uTdv5snp3r6dJ1vkHoA0AZAmANIEQJoASBMAaQIgTQCkCYA0AZAmANIEQJoASPM0KN958WK8fDkPx2WeJ10DZwDSnAH4zqdPT3axv5czAGkCIE0ApAmANAGQJgDSBECaAEgTAGkCIE0ApHkWKOFpvMfzEpwBSLv4/gDPnz+fRzwht7e382hTHuMS6ObmZh6dz9XVlePvcXV1NY/ObdP7A7gEIk0ApD3GJRBH+WuMP+bZg3wY4+95xgHOAKuzzIOHWuYBhwlgdb6M8XmeHfZ5jC/zjMMEsEYf5sFhP/ErDAGs0/t5cNhP/ApDAKu1zIN9lnnAQwlgpY66pDnqh/mWAFbq4bfCbn9PIYD1WubB/ZZ5wBEEsF4fx7ibZ7O7MT7OM44ggFU7eHF/8AfYTwCrtsyD2TIPOI4AVu3r3jX+wxhf5xnHEcDaLfPgP8s84GgCWLsvP7gVvvPXz3MQwAYs82CMHww5lgA24N7bgHuHHEsAG/D1f+v94vb3TASwDdN6b/k/FwFsw7ePBnn454wEsBn/rvqW/zMSwGa8H+NujDv/+3JW3gqxJdb+sxPAlizzgFMJYEv86fPs3AOQJgDSBECa/QE4if0BDrv0++8dfw/7A+znEog0AZAmANIEQJoASBMAaQIgTQCkCYA0AZAmANIEQJoASBMAaQIgTQCkCYA0AZAmANIEQJoASBMAaQIgTQCkCYA0AZAmANIEQJoASBMAafYH4CT2Bzjs0u+/d/w97A+wn0sg0gRAmgBIEwBpAiBNAKQJgDQBkCYA0gRAmgBIEwBpAiBNAKQJgDQBkCYA0gRAmgBIEwBpAiBNAKQJgDQBkCYA0gRAmgBIEwBpAiBNAKTZH4CTvP7z9Tw6q92ry34/7Q9wwBM4/jziGy6BSBMAaQIgTQCkCYA0AZAmANIEQJoASBMAaQIgTQCkCYA0AZAmANIEQJoASBMAaQIgTQCkCYA0AZAmANIEQJoASBMAaQIgTQCkCYA0AZBmfwBOcnt7O482xRmANAGQJgDSBECaAEgTAGkCIE0ApAmANAGQJgDSBECaAEgTAGkCIE0ApAmANAGQJgDSBECaAEgTAGkCIE0ApAmANAGQJgDSBECaAEgTAGkCIO0f256tEZkhjEIAAAAASUVORK5CYII=",
           "type": "image"
          }
         ],
         "layout": {
          "margin": {
           "t": 60
          }
         },
         "name": "29"
        },
        {
         "data": [
          {
           "name": "30",
           "source": "data:image/png;base64,iVBORw0KGgoAAAANSUhEUgAAAQAAAAEACAIAAADTED8xAAAEeUlEQVR4Xu3dMXbUVhiA0UdO1gMbSO1lUI3L0FBkDSlYgVnE0Lo2C8AV7MHsIV0CL2bGgzVG8ndv+R+PzhT+niQfWe/FbrcbUPXbPIASAZAmANIEQJoASBMAaQIgTQCkCYA0AZAmANIEQJoASBMAaQIgTQCkCYA0AZAmANIEQJoASBMAaQIgTQCkCYA0AZAmANIEQJoASBMAaQIgTQCk/T4PzuD9+/fzaDm73c7xD3iCDVA2/f2dAUgTAGkCIE0ApAmANAGQJgDSBECaAEgTAGkCIE0ApAmANAGQJgDSBECaAEgTAGkCIE0ApAmANAGQJgDSBECaAEgTAGkCIE0ApAmANAGQ9uLcr5/m17q6OuO7y8cYl5fb/v2xP8ARWz/+1dU8WdxZv/+5F+inCIBf7u3befJ4797Nky1yD0CaAEgTAGkCIE0ApAmANAGQJgDSBECaAEgTAGkCIE0ApHkalO+8ejVev56H4zzPk66BMwBpzgB859OnZ7vY38sZgDQBkCYA0gRAmgBIEwBpAiBNAKQJgDQBkCYA0jwLlPA83uN5Ds4ApNkfgLSnuAQ69/vjHf+AJ1jgNv39XQKRJgDSBECaAEgTAGkCIE0ApAmANAGQJgDSBECaAEgTAGkCIE0ApAmANAGQJgDSBECaAEgTAGkCIE0ApAmANAGQJgDSBECaAEgTAGkCIO3s+wO8fPlyHvGM3N7ezqNNeYr9Aa6vr+fRci4uLhz/gIuLi3m0NPsDwFYJgLSnuATiJH+N8cc8e5CbMf6eZxzhDLA6+3nwUPt5wHECWJ0vY3yeZ8d9HuPLPOM4AazRzTw47ic+whDAOn2YB8f9xEcYAlit/Tw4ZD8PeCgBrNRJlzQn/TDfEsBKPfxW2O3vYwhgvfbz4H77ecAJBLBeH8e4m2ezuzE+zjNOIIBVO3pxf/QHOEwAq7afB7P9POA0Ali1rwfX+Jsxvs4zTiOAtdvPg//s5wEnE8DaffnBrfCdv34uQQAbsJ8HY/xgyKkEsAH33gbcO+RUAtiAr/9b7/dufxcigG2Y1nvL/1IEsA3fPhrk4Z8FCWAz/l31Lf8LEsBmfBjjbow7//uyKG+F2BJr/+IEsCX7ecBjCWBL/Olzce4BSBMAaQIgzf4APIr9AY479/vvHf8A+wMc5hKINAGQJgDSBECaAEgTAGkCIE0ApAmANAGQJgDSBECaAEgTAGkCIE0ApAmANAGQJgDSBECaAEgTAGkCIE0ApAmANAGQJgDSBECaAEgTAGn2B+BR3vz5Zh4tand53t9P+wMc8QyOP4/4hksg0gRAmgBIEwBpAiBNAKQJgDQBkCYA0gRAmgBIEwBpAiBNAKQJgDQBkCYA0gRAmgBIEwBpAiBNAKQJgDQBkCYA0gRAmgBIEwBpAiBNAKTZH4BHub29nUeb4gxAmgBIEwBpAiBNAKQJgDQBkCYA0gRAmgBIEwBpAiBNAKQJgDQBkCYA0gRAmgBIEwBpAiBNAKQJgDQBkCYA0gRAmgBIEwBpAiBNAKQJgDQBkPYPaReqEV5KR8sAAAAASUVORK5CYII=",
           "type": "image"
          }
         ],
         "layout": {
          "margin": {
           "t": 60
          }
         },
         "name": "30"
        },
        {
         "data": [
          {
           "name": "31",
           "source": "data:image/png;base64,iVBORw0KGgoAAAANSUhEUgAAAQAAAAEACAIAAADTED8xAAAEfUlEQVR4Xu3dMXbUVhiA0UdO1gMbSO1lUA1laCiyhhSswCxiaF3DAnAFezB7SJfAi5nxYM0g+bu3/I9HZwp/T5KPrPdst9sNqPptHkCJAEgTAGkCIE0ApAmANAGQJgDSBECaAEgTAGkCIE0ApAmANAGQJgDSBECaAEgTAGkCIE0ApAmANAGQJgDSBECaAEgTAGkCIE0ApAmANAGQJgDSfp8HZ/Du3bt5tJzdbuf4B1xgA5RNf39nANIEQJoASBMAaQIgTQCkCYA0AZAmANIEQJoASBMAaQIgTQCkCYA0AZAmANIEQJoASBMAaQIgTQCkCYA0AZAmANIEQJoASBMAaQIgTQCkPTv366f5ta6vz/ju8jHGq1fb/v2xP8ARWz/+9fU8WdxZv/+5F+hLBMAv9+bNPHm8t2/nyRa5ByBNAKQJgDQBkCYA0gRAmgBIEwBpAiBNAKQJgDQBkCYA0jwNyndevBgvX87DcZ7nSdfAGYA0ZwC+8+nTk13s7+UMQJoASBMAaQIgTQCkCYA0AZAmANIEQJoASBMAaZ4FSnga7/E8B2cA0uwPQNolLoHO/f54xz/gAgvcpr+/SyDSBECaAEgTAGkCIE0ApAmANAGQJgDSBECaAEgTAGkCIE0ApAmANAGQJgDSBECaAEgTAGkCIE0ApAmANAGQJgDSBECaAEgTAGkCIE0ApNkfgDT7AxzxBI4/j5a26e/vEog0AZAmANIEQJoASBMAaQIgTQCkCYA0AZAmANIEQJoASBMAaQIgTQCkCYA0AZAmANIEQJoASBMAaQIgTQCkCYA0AZAmANIEQJoASBMAaWffH+D58+fziCfk9vZ2Hm3KJfYHuLm5mUfLubq6cvwDrq6u5tHS7A8AWyUA0i5xCcRJ/hrjj3n2IB/G+HuecYQzwOrs58FD7ecBxwlgdb6M8XmeHfd5jC/zjOMEsEYf5sFxP/ERhgDW6f08OO4nPsIQwGrt58Eh+3nAQwlgpU66pDnph/mWAFbq4bfCbn8fQwDrtZ8H99vPA04ggPX6OMbdPJvdjfFxnnECAaza0Yv7oz/AYQJYtf08mO3nAacRwKp9PbjGfxjj6zzjNAJYu/08+M9+HnAyAazdlx/cCt/56+cSBLAB+3kwxg+GnEoAG3DvbcC9Q04lgA34+r/1fu/2dyEC2IZpvbf8L0UA2/Dto0Ee/lmQADbj31Xf8r8gAWzG+zHuxrjzvy+L8laILbH2L04AW7KfBzyWALbEnz4X5x6ANAGQJgDS7A/Ao7z+8/U8WtTu1Xl/Py9xE3zu9987/gEX2B9g01wCkSYA0gRAmgBIEwBpAiBNAKQJgDQBkCYA0gRAmgBIEwBpAiBNAKQJgDQBkCYA0gRAmgBIEwBpAiBNAKQJgDQBkCYA0gRAmgBIEwBpAiDN/gA8yu3t7TzaFGcA0gRAmgBIEwBpAiBNAKQJgDQBkCYA0gRAmgBIEwBpAiBNAKQJgDQBkCYA0gRAmgBIEwBpAiBNAKQJgDQBkCYA0gRAmgBIEwBpAiBNAKQJgLR/AGdwpxGIdhWpAAAAAElFTkSuQmCC",
           "type": "image"
          }
         ],
         "layout": {
          "margin": {
           "t": 60
          }
         },
         "name": "31"
        }
       ],
       "layout": {
        "margin": {
         "t": 60
        },
        "sliders": [
         {
          "active": 0,
          "currentvalue": {
           "prefix": "animation_frame="
          },
          "len": 0.9,
          "pad": {
           "b": 10,
           "t": 60
          },
          "steps": [
           {
            "args": [
             [
              "0"
             ],
             {
              "frame": {
               "duration": 0,
               "redraw": true
              },
              "fromcurrent": true,
              "mode": "immediate",
              "transition": {
               "duration": 0,
               "easing": "linear"
              }
             }
            ],
            "label": "0",
            "method": "animate"
           },
           {
            "args": [
             [
              "1"
             ],
             {
              "frame": {
               "duration": 0,
               "redraw": true
              },
              "fromcurrent": true,
              "mode": "immediate",
              "transition": {
               "duration": 0,
               "easing": "linear"
              }
             }
            ],
            "label": "1",
            "method": "animate"
           },
           {
            "args": [
             [
              "2"
             ],
             {
              "frame": {
               "duration": 0,
               "redraw": true
              },
              "fromcurrent": true,
              "mode": "immediate",
              "transition": {
               "duration": 0,
               "easing": "linear"
              }
             }
            ],
            "label": "2",
            "method": "animate"
           },
           {
            "args": [
             [
              "3"
             ],
             {
              "frame": {
               "duration": 0,
               "redraw": true
              },
              "fromcurrent": true,
              "mode": "immediate",
              "transition": {
               "duration": 0,
               "easing": "linear"
              }
             }
            ],
            "label": "3",
            "method": "animate"
           },
           {
            "args": [
             [
              "4"
             ],
             {
              "frame": {
               "duration": 0,
               "redraw": true
              },
              "fromcurrent": true,
              "mode": "immediate",
              "transition": {
               "duration": 0,
               "easing": "linear"
              }
             }
            ],
            "label": "4",
            "method": "animate"
           },
           {
            "args": [
             [
              "5"
             ],
             {
              "frame": {
               "duration": 0,
               "redraw": true
              },
              "fromcurrent": true,
              "mode": "immediate",
              "transition": {
               "duration": 0,
               "easing": "linear"
              }
             }
            ],
            "label": "5",
            "method": "animate"
           },
           {
            "args": [
             [
              "6"
             ],
             {
              "frame": {
               "duration": 0,
               "redraw": true
              },
              "fromcurrent": true,
              "mode": "immediate",
              "transition": {
               "duration": 0,
               "easing": "linear"
              }
             }
            ],
            "label": "6",
            "method": "animate"
           },
           {
            "args": [
             [
              "7"
             ],
             {
              "frame": {
               "duration": 0,
               "redraw": true
              },
              "fromcurrent": true,
              "mode": "immediate",
              "transition": {
               "duration": 0,
               "easing": "linear"
              }
             }
            ],
            "label": "7",
            "method": "animate"
           },
           {
            "args": [
             [
              "8"
             ],
             {
              "frame": {
               "duration": 0,
               "redraw": true
              },
              "fromcurrent": true,
              "mode": "immediate",
              "transition": {
               "duration": 0,
               "easing": "linear"
              }
             }
            ],
            "label": "8",
            "method": "animate"
           },
           {
            "args": [
             [
              "9"
             ],
             {
              "frame": {
               "duration": 0,
               "redraw": true
              },
              "fromcurrent": true,
              "mode": "immediate",
              "transition": {
               "duration": 0,
               "easing": "linear"
              }
             }
            ],
            "label": "9",
            "method": "animate"
           },
           {
            "args": [
             [
              "10"
             ],
             {
              "frame": {
               "duration": 0,
               "redraw": true
              },
              "fromcurrent": true,
              "mode": "immediate",
              "transition": {
               "duration": 0,
               "easing": "linear"
              }
             }
            ],
            "label": "10",
            "method": "animate"
           },
           {
            "args": [
             [
              "11"
             ],
             {
              "frame": {
               "duration": 0,
               "redraw": true
              },
              "fromcurrent": true,
              "mode": "immediate",
              "transition": {
               "duration": 0,
               "easing": "linear"
              }
             }
            ],
            "label": "11",
            "method": "animate"
           },
           {
            "args": [
             [
              "12"
             ],
             {
              "frame": {
               "duration": 0,
               "redraw": true
              },
              "fromcurrent": true,
              "mode": "immediate",
              "transition": {
               "duration": 0,
               "easing": "linear"
              }
             }
            ],
            "label": "12",
            "method": "animate"
           },
           {
            "args": [
             [
              "13"
             ],
             {
              "frame": {
               "duration": 0,
               "redraw": true
              },
              "fromcurrent": true,
              "mode": "immediate",
              "transition": {
               "duration": 0,
               "easing": "linear"
              }
             }
            ],
            "label": "13",
            "method": "animate"
           },
           {
            "args": [
             [
              "14"
             ],
             {
              "frame": {
               "duration": 0,
               "redraw": true
              },
              "fromcurrent": true,
              "mode": "immediate",
              "transition": {
               "duration": 0,
               "easing": "linear"
              }
             }
            ],
            "label": "14",
            "method": "animate"
           },
           {
            "args": [
             [
              "15"
             ],
             {
              "frame": {
               "duration": 0,
               "redraw": true
              },
              "fromcurrent": true,
              "mode": "immediate",
              "transition": {
               "duration": 0,
               "easing": "linear"
              }
             }
            ],
            "label": "15",
            "method": "animate"
           },
           {
            "args": [
             [
              "16"
             ],
             {
              "frame": {
               "duration": 0,
               "redraw": true
              },
              "fromcurrent": true,
              "mode": "immediate",
              "transition": {
               "duration": 0,
               "easing": "linear"
              }
             }
            ],
            "label": "16",
            "method": "animate"
           },
           {
            "args": [
             [
              "17"
             ],
             {
              "frame": {
               "duration": 0,
               "redraw": true
              },
              "fromcurrent": true,
              "mode": "immediate",
              "transition": {
               "duration": 0,
               "easing": "linear"
              }
             }
            ],
            "label": "17",
            "method": "animate"
           },
           {
            "args": [
             [
              "18"
             ],
             {
              "frame": {
               "duration": 0,
               "redraw": true
              },
              "fromcurrent": true,
              "mode": "immediate",
              "transition": {
               "duration": 0,
               "easing": "linear"
              }
             }
            ],
            "label": "18",
            "method": "animate"
           },
           {
            "args": [
             [
              "19"
             ],
             {
              "frame": {
               "duration": 0,
               "redraw": true
              },
              "fromcurrent": true,
              "mode": "immediate",
              "transition": {
               "duration": 0,
               "easing": "linear"
              }
             }
            ],
            "label": "19",
            "method": "animate"
           },
           {
            "args": [
             [
              "20"
             ],
             {
              "frame": {
               "duration": 0,
               "redraw": true
              },
              "fromcurrent": true,
              "mode": "immediate",
              "transition": {
               "duration": 0,
               "easing": "linear"
              }
             }
            ],
            "label": "20",
            "method": "animate"
           },
           {
            "args": [
             [
              "21"
             ],
             {
              "frame": {
               "duration": 0,
               "redraw": true
              },
              "fromcurrent": true,
              "mode": "immediate",
              "transition": {
               "duration": 0,
               "easing": "linear"
              }
             }
            ],
            "label": "21",
            "method": "animate"
           },
           {
            "args": [
             [
              "22"
             ],
             {
              "frame": {
               "duration": 0,
               "redraw": true
              },
              "fromcurrent": true,
              "mode": "immediate",
              "transition": {
               "duration": 0,
               "easing": "linear"
              }
             }
            ],
            "label": "22",
            "method": "animate"
           },
           {
            "args": [
             [
              "23"
             ],
             {
              "frame": {
               "duration": 0,
               "redraw": true
              },
              "fromcurrent": true,
              "mode": "immediate",
              "transition": {
               "duration": 0,
               "easing": "linear"
              }
             }
            ],
            "label": "23",
            "method": "animate"
           },
           {
            "args": [
             [
              "24"
             ],
             {
              "frame": {
               "duration": 0,
               "redraw": true
              },
              "fromcurrent": true,
              "mode": "immediate",
              "transition": {
               "duration": 0,
               "easing": "linear"
              }
             }
            ],
            "label": "24",
            "method": "animate"
           },
           {
            "args": [
             [
              "25"
             ],
             {
              "frame": {
               "duration": 0,
               "redraw": true
              },
              "fromcurrent": true,
              "mode": "immediate",
              "transition": {
               "duration": 0,
               "easing": "linear"
              }
             }
            ],
            "label": "25",
            "method": "animate"
           },
           {
            "args": [
             [
              "26"
             ],
             {
              "frame": {
               "duration": 0,
               "redraw": true
              },
              "fromcurrent": true,
              "mode": "immediate",
              "transition": {
               "duration": 0,
               "easing": "linear"
              }
             }
            ],
            "label": "26",
            "method": "animate"
           },
           {
            "args": [
             [
              "27"
             ],
             {
              "frame": {
               "duration": 0,
               "redraw": true
              },
              "fromcurrent": true,
              "mode": "immediate",
              "transition": {
               "duration": 0,
               "easing": "linear"
              }
             }
            ],
            "label": "27",
            "method": "animate"
           },
           {
            "args": [
             [
              "28"
             ],
             {
              "frame": {
               "duration": 0,
               "redraw": true
              },
              "fromcurrent": true,
              "mode": "immediate",
              "transition": {
               "duration": 0,
               "easing": "linear"
              }
             }
            ],
            "label": "28",
            "method": "animate"
           },
           {
            "args": [
             [
              "29"
             ],
             {
              "frame": {
               "duration": 0,
               "redraw": true
              },
              "fromcurrent": true,
              "mode": "immediate",
              "transition": {
               "duration": 0,
               "easing": "linear"
              }
             }
            ],
            "label": "29",
            "method": "animate"
           },
           {
            "args": [
             [
              "30"
             ],
             {
              "frame": {
               "duration": 0,
               "redraw": true
              },
              "fromcurrent": true,
              "mode": "immediate",
              "transition": {
               "duration": 0,
               "easing": "linear"
              }
             }
            ],
            "label": "30",
            "method": "animate"
           },
           {
            "args": [
             [
              "31"
             ],
             {
              "frame": {
               "duration": 0,
               "redraw": true
              },
              "fromcurrent": true,
              "mode": "immediate",
              "transition": {
               "duration": 0,
               "easing": "linear"
              }
             }
            ],
            "label": "31",
            "method": "animate"
           }
          ],
          "x": 0.1,
          "xanchor": "left",
          "y": 0,
          "yanchor": "top"
         }
        ],
        "template": {
         "data": {
          "bar": [
           {
            "error_x": {
             "color": "#2a3f5f"
            },
            "error_y": {
             "color": "#2a3f5f"
            },
            "marker": {
             "line": {
              "color": "#E5ECF6",
              "width": 0.5
             },
             "pattern": {
              "fillmode": "overlay",
              "size": 10,
              "solidity": 0.2
             }
            },
            "type": "bar"
           }
          ],
          "barpolar": [
           {
            "marker": {
             "line": {
              "color": "#E5ECF6",
              "width": 0.5
             },
             "pattern": {
              "fillmode": "overlay",
              "size": 10,
              "solidity": 0.2
             }
            },
            "type": "barpolar"
           }
          ],
          "carpet": [
           {
            "aaxis": {
             "endlinecolor": "#2a3f5f",
             "gridcolor": "white",
             "linecolor": "white",
             "minorgridcolor": "white",
             "startlinecolor": "#2a3f5f"
            },
            "baxis": {
             "endlinecolor": "#2a3f5f",
             "gridcolor": "white",
             "linecolor": "white",
             "minorgridcolor": "white",
             "startlinecolor": "#2a3f5f"
            },
            "type": "carpet"
           }
          ],
          "choropleth": [
           {
            "colorbar": {
             "outlinewidth": 0,
             "ticks": ""
            },
            "type": "choropleth"
           }
          ],
          "contour": [
           {
            "colorbar": {
             "outlinewidth": 0,
             "ticks": ""
            },
            "colorscale": [
             [
              0,
              "#0d0887"
             ],
             [
              0.1111111111111111,
              "#46039f"
             ],
             [
              0.2222222222222222,
              "#7201a8"
             ],
             [
              0.3333333333333333,
              "#9c179e"
             ],
             [
              0.4444444444444444,
              "#bd3786"
             ],
             [
              0.5555555555555556,
              "#d8576b"
             ],
             [
              0.6666666666666666,
              "#ed7953"
             ],
             [
              0.7777777777777778,
              "#fb9f3a"
             ],
             [
              0.8888888888888888,
              "#fdca26"
             ],
             [
              1,
              "#f0f921"
             ]
            ],
            "type": "contour"
           }
          ],
          "contourcarpet": [
           {
            "colorbar": {
             "outlinewidth": 0,
             "ticks": ""
            },
            "type": "contourcarpet"
           }
          ],
          "heatmap": [
           {
            "colorbar": {
             "outlinewidth": 0,
             "ticks": ""
            },
            "colorscale": [
             [
              0,
              "#0d0887"
             ],
             [
              0.1111111111111111,
              "#46039f"
             ],
             [
              0.2222222222222222,
              "#7201a8"
             ],
             [
              0.3333333333333333,
              "#9c179e"
             ],
             [
              0.4444444444444444,
              "#bd3786"
             ],
             [
              0.5555555555555556,
              "#d8576b"
             ],
             [
              0.6666666666666666,
              "#ed7953"
             ],
             [
              0.7777777777777778,
              "#fb9f3a"
             ],
             [
              0.8888888888888888,
              "#fdca26"
             ],
             [
              1,
              "#f0f921"
             ]
            ],
            "type": "heatmap"
           }
          ],
          "heatmapgl": [
           {
            "colorbar": {
             "outlinewidth": 0,
             "ticks": ""
            },
            "colorscale": [
             [
              0,
              "#0d0887"
             ],
             [
              0.1111111111111111,
              "#46039f"
             ],
             [
              0.2222222222222222,
              "#7201a8"
             ],
             [
              0.3333333333333333,
              "#9c179e"
             ],
             [
              0.4444444444444444,
              "#bd3786"
             ],
             [
              0.5555555555555556,
              "#d8576b"
             ],
             [
              0.6666666666666666,
              "#ed7953"
             ],
             [
              0.7777777777777778,
              "#fb9f3a"
             ],
             [
              0.8888888888888888,
              "#fdca26"
             ],
             [
              1,
              "#f0f921"
             ]
            ],
            "type": "heatmapgl"
           }
          ],
          "histogram": [
           {
            "marker": {
             "pattern": {
              "fillmode": "overlay",
              "size": 10,
              "solidity": 0.2
             }
            },
            "type": "histogram"
           }
          ],
          "histogram2d": [
           {
            "colorbar": {
             "outlinewidth": 0,
             "ticks": ""
            },
            "colorscale": [
             [
              0,
              "#0d0887"
             ],
             [
              0.1111111111111111,
              "#46039f"
             ],
             [
              0.2222222222222222,
              "#7201a8"
             ],
             [
              0.3333333333333333,
              "#9c179e"
             ],
             [
              0.4444444444444444,
              "#bd3786"
             ],
             [
              0.5555555555555556,
              "#d8576b"
             ],
             [
              0.6666666666666666,
              "#ed7953"
             ],
             [
              0.7777777777777778,
              "#fb9f3a"
             ],
             [
              0.8888888888888888,
              "#fdca26"
             ],
             [
              1,
              "#f0f921"
             ]
            ],
            "type": "histogram2d"
           }
          ],
          "histogram2dcontour": [
           {
            "colorbar": {
             "outlinewidth": 0,
             "ticks": ""
            },
            "colorscale": [
             [
              0,
              "#0d0887"
             ],
             [
              0.1111111111111111,
              "#46039f"
             ],
             [
              0.2222222222222222,
              "#7201a8"
             ],
             [
              0.3333333333333333,
              "#9c179e"
             ],
             [
              0.4444444444444444,
              "#bd3786"
             ],
             [
              0.5555555555555556,
              "#d8576b"
             ],
             [
              0.6666666666666666,
              "#ed7953"
             ],
             [
              0.7777777777777778,
              "#fb9f3a"
             ],
             [
              0.8888888888888888,
              "#fdca26"
             ],
             [
              1,
              "#f0f921"
             ]
            ],
            "type": "histogram2dcontour"
           }
          ],
          "mesh3d": [
           {
            "colorbar": {
             "outlinewidth": 0,
             "ticks": ""
            },
            "type": "mesh3d"
           }
          ],
          "parcoords": [
           {
            "line": {
             "colorbar": {
              "outlinewidth": 0,
              "ticks": ""
             }
            },
            "type": "parcoords"
           }
          ],
          "pie": [
           {
            "automargin": true,
            "type": "pie"
           }
          ],
          "scatter": [
           {
            "fillpattern": {
             "fillmode": "overlay",
             "size": 10,
             "solidity": 0.2
            },
            "type": "scatter"
           }
          ],
          "scatter3d": [
           {
            "line": {
             "colorbar": {
              "outlinewidth": 0,
              "ticks": ""
             }
            },
            "marker": {
             "colorbar": {
              "outlinewidth": 0,
              "ticks": ""
             }
            },
            "type": "scatter3d"
           }
          ],
          "scattercarpet": [
           {
            "marker": {
             "colorbar": {
              "outlinewidth": 0,
              "ticks": ""
             }
            },
            "type": "scattercarpet"
           }
          ],
          "scattergeo": [
           {
            "marker": {
             "colorbar": {
              "outlinewidth": 0,
              "ticks": ""
             }
            },
            "type": "scattergeo"
           }
          ],
          "scattergl": [
           {
            "marker": {
             "colorbar": {
              "outlinewidth": 0,
              "ticks": ""
             }
            },
            "type": "scattergl"
           }
          ],
          "scattermapbox": [
           {
            "marker": {
             "colorbar": {
              "outlinewidth": 0,
              "ticks": ""
             }
            },
            "type": "scattermapbox"
           }
          ],
          "scatterpolar": [
           {
            "marker": {
             "colorbar": {
              "outlinewidth": 0,
              "ticks": ""
             }
            },
            "type": "scatterpolar"
           }
          ],
          "scatterpolargl": [
           {
            "marker": {
             "colorbar": {
              "outlinewidth": 0,
              "ticks": ""
             }
            },
            "type": "scatterpolargl"
           }
          ],
          "scatterternary": [
           {
            "marker": {
             "colorbar": {
              "outlinewidth": 0,
              "ticks": ""
             }
            },
            "type": "scatterternary"
           }
          ],
          "surface": [
           {
            "colorbar": {
             "outlinewidth": 0,
             "ticks": ""
            },
            "colorscale": [
             [
              0,
              "#0d0887"
             ],
             [
              0.1111111111111111,
              "#46039f"
             ],
             [
              0.2222222222222222,
              "#7201a8"
             ],
             [
              0.3333333333333333,
              "#9c179e"
             ],
             [
              0.4444444444444444,
              "#bd3786"
             ],
             [
              0.5555555555555556,
              "#d8576b"
             ],
             [
              0.6666666666666666,
              "#ed7953"
             ],
             [
              0.7777777777777778,
              "#fb9f3a"
             ],
             [
              0.8888888888888888,
              "#fdca26"
             ],
             [
              1,
              "#f0f921"
             ]
            ],
            "type": "surface"
           }
          ],
          "table": [
           {
            "cells": {
             "fill": {
              "color": "#EBF0F8"
             },
             "line": {
              "color": "white"
             }
            },
            "header": {
             "fill": {
              "color": "#C8D4E3"
             },
             "line": {
              "color": "white"
             }
            },
            "type": "table"
           }
          ]
         },
         "layout": {
          "annotationdefaults": {
           "arrowcolor": "#2a3f5f",
           "arrowhead": 0,
           "arrowwidth": 1
          },
          "autotypenumbers": "strict",
          "coloraxis": {
           "colorbar": {
            "outlinewidth": 0,
            "ticks": ""
           }
          },
          "colorscale": {
           "diverging": [
            [
             0,
             "#8e0152"
            ],
            [
             0.1,
             "#c51b7d"
            ],
            [
             0.2,
             "#de77ae"
            ],
            [
             0.3,
             "#f1b6da"
            ],
            [
             0.4,
             "#fde0ef"
            ],
            [
             0.5,
             "#f7f7f7"
            ],
            [
             0.6,
             "#e6f5d0"
            ],
            [
             0.7,
             "#b8e186"
            ],
            [
             0.8,
             "#7fbc41"
            ],
            [
             0.9,
             "#4d9221"
            ],
            [
             1,
             "#276419"
            ]
           ],
           "sequential": [
            [
             0,
             "#0d0887"
            ],
            [
             0.1111111111111111,
             "#46039f"
            ],
            [
             0.2222222222222222,
             "#7201a8"
            ],
            [
             0.3333333333333333,
             "#9c179e"
            ],
            [
             0.4444444444444444,
             "#bd3786"
            ],
            [
             0.5555555555555556,
             "#d8576b"
            ],
            [
             0.6666666666666666,
             "#ed7953"
            ],
            [
             0.7777777777777778,
             "#fb9f3a"
            ],
            [
             0.8888888888888888,
             "#fdca26"
            ],
            [
             1,
             "#f0f921"
            ]
           ],
           "sequentialminus": [
            [
             0,
             "#0d0887"
            ],
            [
             0.1111111111111111,
             "#46039f"
            ],
            [
             0.2222222222222222,
             "#7201a8"
            ],
            [
             0.3333333333333333,
             "#9c179e"
            ],
            [
             0.4444444444444444,
             "#bd3786"
            ],
            [
             0.5555555555555556,
             "#d8576b"
            ],
            [
             0.6666666666666666,
             "#ed7953"
            ],
            [
             0.7777777777777778,
             "#fb9f3a"
            ],
            [
             0.8888888888888888,
             "#fdca26"
            ],
            [
             1,
             "#f0f921"
            ]
           ]
          },
          "colorway": [
           "#636efa",
           "#EF553B",
           "#00cc96",
           "#ab63fa",
           "#FFA15A",
           "#19d3f3",
           "#FF6692",
           "#B6E880",
           "#FF97FF",
           "#FECB52"
          ],
          "font": {
           "color": "#2a3f5f"
          },
          "geo": {
           "bgcolor": "white",
           "lakecolor": "white",
           "landcolor": "#E5ECF6",
           "showlakes": true,
           "showland": true,
           "subunitcolor": "white"
          },
          "hoverlabel": {
           "align": "left"
          },
          "hovermode": "closest",
          "mapbox": {
           "style": "light"
          },
          "paper_bgcolor": "white",
          "plot_bgcolor": "#E5ECF6",
          "polar": {
           "angularaxis": {
            "gridcolor": "white",
            "linecolor": "white",
            "ticks": ""
           },
           "bgcolor": "#E5ECF6",
           "radialaxis": {
            "gridcolor": "white",
            "linecolor": "white",
            "ticks": ""
           }
          },
          "scene": {
           "xaxis": {
            "backgroundcolor": "#E5ECF6",
            "gridcolor": "white",
            "gridwidth": 2,
            "linecolor": "white",
            "showbackground": true,
            "ticks": "",
            "zerolinecolor": "white"
           },
           "yaxis": {
            "backgroundcolor": "#E5ECF6",
            "gridcolor": "white",
            "gridwidth": 2,
            "linecolor": "white",
            "showbackground": true,
            "ticks": "",
            "zerolinecolor": "white"
           },
           "zaxis": {
            "backgroundcolor": "#E5ECF6",
            "gridcolor": "white",
            "gridwidth": 2,
            "linecolor": "white",
            "showbackground": true,
            "ticks": "",
            "zerolinecolor": "white"
           }
          },
          "shapedefaults": {
           "line": {
            "color": "#2a3f5f"
           }
          },
          "ternary": {
           "aaxis": {
            "gridcolor": "white",
            "linecolor": "white",
            "ticks": ""
           },
           "baxis": {
            "gridcolor": "white",
            "linecolor": "white",
            "ticks": ""
           },
           "bgcolor": "#E5ECF6",
           "caxis": {
            "gridcolor": "white",
            "linecolor": "white",
            "ticks": ""
           }
          },
          "title": {
           "x": 0.05
          },
          "xaxis": {
           "automargin": true,
           "gridcolor": "white",
           "linecolor": "white",
           "ticks": "",
           "title": {
            "standoff": 15
           },
           "zerolinecolor": "white",
           "zerolinewidth": 2
          },
          "yaxis": {
           "automargin": true,
           "gridcolor": "white",
           "linecolor": "white",
           "ticks": "",
           "title": {
            "standoff": 15
           },
           "zerolinecolor": "white",
           "zerolinewidth": 2
          }
         }
        },
        "updatemenus": [
         {
          "buttons": [
           {
            "args": [
             null,
             {
              "frame": {
               "duration": 500,
               "redraw": true
              },
              "fromcurrent": true,
              "mode": "immediate",
              "transition": {
               "duration": 500,
               "easing": "linear"
              }
             }
            ],
            "label": "&#9654;",
            "method": "animate"
           },
           {
            "args": [
             [
              null
             ],
             {
              "frame": {
               "duration": 0,
               "redraw": true
              },
              "fromcurrent": true,
              "mode": "immediate",
              "transition": {
               "duration": 0,
               "easing": "linear"
              }
             }
            ],
            "label": "&#9724;",
            "method": "animate"
           }
          ],
          "direction": "left",
          "pad": {
           "r": 10,
           "t": 70
          },
          "showactive": false,
          "type": "buttons",
          "x": 0.1,
          "xanchor": "right",
          "y": 0,
          "yanchor": "top"
         }
        ],
        "xaxis": {
         "anchor": "y",
         "domain": [
          0,
          1
         ]
        },
        "yaxis": {
         "anchor": "x",
         "domain": [
          0,
          1
         ]
        }
       }
      }
     },
     "metadata": {},
     "output_type": "display_data"
    }
   ],
   "source": [
    "def evaluate_dt_agent(trajectory_data_set: TrajectoryLoader, dt: DecisionTransformer, device = \"cpu\", max_len = 30, trajectories = 300):\n",
    "\n",
    "    env_id = trajectory_data_set.metadata['args']['env_id']\n",
    "    env = make_env(env_id, seed = 15, idx = 0, capture_video=True, run_name = \"dev\", fully_observed=False)\n",
    "    env = env()\n",
    "\n",
    "\n",
    "    all_frames = []\n",
    "    n_completed = 0\n",
    "    for seed in range(trajectories):\n",
    "\n",
    "        frames = []\n",
    "        obs, _ = env.reset()\n",
    "        frames.append(env.render())\n",
    "\n",
    "        obs = t.tensor(obs['image']).unsqueeze(0).unsqueeze(0)\n",
    "        rtg = t.tensor([1]).unsqueeze(0).unsqueeze(0)\n",
    "        a = t.tensor([6]).unsqueeze(0).unsqueeze(0)\n",
    "        timesteps = t.tensor([0]).unsqueeze(0).unsqueeze(0)\n",
    "\n",
    "        # get first action\n",
    "        logits, loss = dt.forward(states = obs, actions = a, rtgs = rtg, timesteps = timesteps)\n",
    "        new_action = t.argmax(logits, dim=-1)[0].item()\n",
    "        new_obs, new_reward, terminated, truncated, info = env.step(new_action)\n",
    "        frames.append(env.render())\n",
    "\n",
    "        i = 1\n",
    "        while not terminated:\n",
    "\n",
    "            # concat init obs to new obs\n",
    "            obs = t.cat([obs, t.tensor(new_obs['image']).unsqueeze(0).unsqueeze(0)], dim=1)\n",
    "\n",
    "            # add new reward to init reward\n",
    "            rtg = t.cat([rtg, t.tensor([rtg[-1][-1].item() - new_reward]).unsqueeze(0).unsqueeze(0)], dim=1)\n",
    "\n",
    "            # add new timesteps\n",
    "            timesteps = t.cat([timesteps, t.tensor([timesteps[-1][-1].item()+1]).unsqueeze(0).unsqueeze(0)], dim=1)\n",
    "            a = t.cat([a, t.tensor([new_action]).unsqueeze(0).unsqueeze(0)], dim=1)\n",
    "\n",
    "            logits, loss = dt.forward(\n",
    "                states = obs[:, -max_len:] if obs.shape[1] > max_len else obs,\n",
    "                actions = a[:, -max_len:] if a.shape[1] > max_len else a,\n",
    "                rtgs = rtg[:, -max_len:] if rtg.shape[1] > max_len else rtg,\n",
    "                timesteps = timesteps[:, -max_len:] if timesteps.shape[1] > max_len else timesteps\n",
    "            )\n",
    "            action = t.argmax(logits, dim=-1)[0][-1].item()\n",
    "            new_obs, new_reward, terminated, truncated, info = env.step(action)\n",
    "            frames.append(env.render())\n",
    "\n",
    "            # print(f\"took action  {action} at timestep {i} for reward {new_reward}\")\n",
    "            i = i + 1\n",
    "\n",
    "            if i > max_len:\n",
    "                # print(\"exceeded context window breaking\")\n",
    "                break\n",
    "\n",
    "            if terminated:\n",
    "                n_completed = n_completed + 1\n",
    "                \n",
    "\n",
    "        frames = np.array(frames)\n",
    "        all_frames.append(frames)\n",
    "\n",
    "    print(f\"completed {n_completed} trajectories out of {trajectories}\")\n",
    "\n",
    "    return n_completed/ trajectories, all_frames\n",
    "        # px.imshow(frames, animation_frame=0, binary_string=True, binary_backend='jpg')\n",
    "\n",
    "frames = evaluate_dt_agent(trajectory_data_set, dt, device = \"cpu\", max_len = 30, trajectories = 300)\n",
    "px.imshow(frames[2], animation_frame=0, binary_string=True, binary_backend='jpg')"
   ]
  },
  {
   "cell_type": "code",
   "execution_count": 1,
   "metadata": {},
   "outputs": [
    {
     "name": "stdout",
     "output_type": "stream",
     "text": [
      "{'args': {'exp_name': 'MiniGrid-DoorKey-8x8-v0', 'seed': 1, 'cuda': False, 'track': True, 'wandb_project_name': 'PPO-MiniGrid', 'wandb_entity': None, 'capture_video': True, 'env_id': 'MiniGrid-DoorKey-8x8-v0', 'total_timesteps': 1000000, 'learning_rate': 0.00025, 'num_envs': 4, 'num_steps': 128, 'gamma': 0.99, 'gae_lambda': 0.95, 'num_minibatches': 4, 'update_epochs': 4, 'clip_coef': 0.2, 'ent_coef': 0.01, 'vf_coef': 0.5, 'max_grad_norm': 0.5, 'max_steps': 1000, 'trajectory_path': 'trajectories/MiniGrid-DoorKey-8x8-v0.pkl', 'fully_observed': False}, 'time': 1672685622.659515}\n"
     ]
    },
    {
     "data": {
      "application/vnd.jupyter.widget-view+json": {
       "model_id": "74f871ad819b465a9beca19a63a70a87",
       "version_major": 2,
       "version_minor": 0
      },
      "text/plain": [
       "A Jupyter Widget"
      ]
     },
     "metadata": {},
     "output_type": "display_data"
    },
    {
     "data": {
      "application/vnd.jupyter.widget-view+json": {
       "model_id": "bf6f11f406de43a8ab272a03294ad468",
       "version_major": 2,
       "version_minor": 0
      },
      "text/plain": [
       "A Jupyter Widget"
      ]
     },
     "metadata": {},
     "output_type": "display_data"
    },
    {
     "name": "stdout",
     "output_type": "stream",
     "text": [
      "loss: 0.01077028140425682, accuracy: 0.9979166666666667\n"
     ]
    },
    {
     "name": "stderr",
     "output_type": "stream",
     "text": [
      "/Users/josephbloom/miniforge3/envs/decision_transformer_interpretability/lib/python3.9/site-packages/gymnasium/wrappers/record_video.py:79: UserWarning: \u001b[33mWARN: Overwriting existing videos at /Users/josephbloom/GithubRepositories/DecisionTransformerInterpretability/videos/dev folder (try specifying a different `video_folder` for the `RecordVideo` wrapper if this is not desired)\u001b[0m\n",
      "  logger.warn(\n"
     ]
    },
    {
     "name": "stdout",
     "output_type": "stream",
     "text": [
      "completed 188 trajectories out of 300\n"
     ]
    }
   ],
   "source": [
    "# pull it all together\n",
    "\n",
    "from src.decision_transformer.offline_dataset import TrajectoryLoader\n",
    "from src.decision_transformer.train import train, test, evaluate_dt_agent\n",
    "\n",
    "path = \"/Users/josephbloom/GithubRepositories/DecisionTransformerInterpretability/trajectories/MiniGrid-DoorKey-8x8-v0.pkl\"\n",
    "trajectory_data_set = TrajectoryLoader(path, pct_traj=0.1, device=\"cpu\")\n",
    "\n",
    "dt = train(trajectory_data_set, device = \"cpu\", max_len = 33, batches = 1000, lr = 0.001, batch_size = 128)\n",
    "\n",
    "loss, accuracy = test(dt, trajectory_data_set, device = \"cpu\", max_len = 33, batch_size = 32)\n",
    "\n",
    "print(f\"loss: {loss}, accuracy: {accuracy}\")\n",
    "\n",
    "prop_completed, all_frames = evaluate_dt_agent(trajectory_data_set, dt, device = \"cpu\", max_len = 33, trajectories = 300)"
   ]
  },
  {
   "cell_type": "code",
   "execution_count": null,
   "metadata": {},
   "outputs": [],
   "source": []
  },
  {
   "attachments": {},
   "cell_type": "markdown",
   "metadata": {},
   "source": [
    "# Look at Downloaded Trajectories"
   ]
  },
  {
   "cell_type": "code",
   "execution_count": 5,
   "metadata": {},
   "outputs": [
    {
     "name": "stderr",
     "output_type": "stream",
     "text": [
      "/Users/josephbloom/miniforge3/envs/decision_transformer_interpretability/lib/python3.9/site-packages/gym/utils/seeding.py:38: DeprecationWarning: \u001b[33mWARN: Function `rng.randn(*size)` is marked as deprecated and will be removed in the future. Please use `rng.standard_normal(size)` instead.\u001b[0m\n",
      "  deprecation(\n"
     ]
    },
    {
     "name": "stdout",
     "output_type": "stream",
     "text": [
      "Downloading dataset: http://rail.eecs.berkeley.edu/datasets/offline_rl/maze2d/maze2d-umaze-sparse-v1.hdf5 to /Users/josephbloom/.d4rl/datasets/maze2d-umaze-sparse-v1.hdf5\n"
     ]
    },
    {
     "name": "stderr",
     "output_type": "stream",
     "text": [
      "load datafile: 100%|██████████| 8/8 [00:00<00:00, 17.95it/s]\n"
     ]
    }
   ],
   "source": [
    "import gym \n",
    "import minigrid\n",
    "import d4rl \n",
    "\n",
    "env = gym.make('maze2d-umaze-v1')\n",
    "env.reset()\n",
    "env.step(env.action_space.sample())\n",
    "dataset = env.get_dataset()"
   ]
  },
  {
   "cell_type": "code",
   "execution_count": 7,
   "metadata": {},
   "outputs": [
    {
     "data": {
      "text/plain": [
       "dict_keys(['actions', 'infos/goal', 'infos/qpos', 'infos/qvel', 'observations', 'rewards', 'terminals', 'timeouts'])"
      ]
     },
     "execution_count": 7,
     "metadata": {},
     "output_type": "execute_result"
    }
   ],
   "source": [
    "dataset.keys()"
   ]
  },
  {
   "cell_type": "code",
   "execution_count": 9,
   "metadata": {},
   "outputs": [
    {
     "data": {
      "text/plain": [
       "array([[ 1.0856489 ,  1.9745734 ,  0.00981035,  0.02174424],\n",
       "       [ 1.0843927 ,  1.97413   , -0.12562364, -0.04433781],\n",
       "       [ 1.0807577 ,  1.9752754 , -0.3634883 ,  0.11453988],\n",
       "       ...,\n",
       "       [ 1.1328583 ,  2.8062387 , -4.484303  ,  0.09555068],\n",
       "       [ 1.0883482 ,  2.8068895 , -4.4510083 ,  0.06509537],\n",
       "       [ 1.0463258 ,  2.8074222 , -4.202244  ,  0.05324839]],\n",
       "      dtype=float32)"
      ]
     },
     "execution_count": 9,
     "metadata": {},
     "output_type": "execute_result"
    }
   ],
   "source": [
    "dataset['observations']"
   ]
  },
  {
   "cell_type": "code",
   "execution_count": 17,
   "metadata": {},
   "outputs": [
    {
     "data": {
      "text/plain": [
       "(100, 4)"
      ]
     },
     "execution_count": 17,
     "metadata": {},
     "output_type": "execute_result"
    }
   ],
   "source": [
    "dataset['observations'][:100].shape"
   ]
  },
  {
   "cell_type": "code",
   "execution_count": 11,
   "metadata": {},
   "outputs": [
    {
     "data": {
      "text/plain": [
       "array([False, False, False, False, False, False, False, False, False,\n",
       "       False, False, False, False, False, False, False, False, False,\n",
       "       False, False, False, False, False, False, False, False, False,\n",
       "       False, False, False, False, False, False, False, False, False,\n",
       "       False, False, False, False, False, False, False, False, False,\n",
       "       False, False, False, False, False, False, False, False, False,\n",
       "       False, False, False, False, False, False, False, False, False,\n",
       "       False, False, False, False, False, False, False, False, False,\n",
       "       False, False, False, False, False, False, False, False, False,\n",
       "       False, False, False, False, False, False, False, False, False,\n",
       "       False,  True, False, False, False, False, False, False, False,\n",
       "       False])"
      ]
     },
     "execution_count": 11,
     "metadata": {},
     "output_type": "execute_result"
    }
   ],
   "source": [
    "dataset['timeouts'][:100]"
   ]
  },
  {
   "cell_type": "code",
   "execution_count": null,
   "metadata": {},
   "outputs": [],
   "source": []
  }
 ],
 "metadata": {
  "kernelspec": {
   "display_name": "decision_transformer_interpretability",
   "language": "python",
   "name": "python3"
  },
  "language_info": {
   "codemirror_mode": {
    "name": "ipython",
    "version": 3
   },
   "file_extension": ".py",
   "mimetype": "text/x-python",
   "name": "python",
   "nbconvert_exporter": "python",
   "pygments_lexer": "ipython3",
   "version": "3.9.15"
  },
  "orig_nbformat": 4,
  "vscode": {
   "interpreter": {
    "hash": "0be95f1efa079bcf597630754731f3dc2b2137553763cb34bfd5652600bd2735"
   }
  }
 },
 "nbformat": 4,
 "nbformat_minor": 2
}
