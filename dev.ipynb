{
 "cells": [
  {
   "attachments": {},
   "cell_type": "markdown",
   "metadata": {},
   "source": [
    "# MiniGrid Environment"
   ]
  },
  {
   "attachments": {},
   "cell_type": "markdown",
   "metadata": {},
   "source": [
    "Try out the environment by running the following command:\n",
    "\n",
    "\n",
    "```bash\n",
    "python -m minigrid.manual_control\n",
    "```\n",
    "\n",
    "Later we can benchmark against torch-rl \n"
   ]
  },
  {
   "cell_type": "code",
   "execution_count": 271,
   "metadata": {},
   "outputs": [],
   "source": [
    "import gymnasium as gym\n",
    "from minigrid.wrappers import RGBImgPartialObsWrapper, ImgObsWrapper\n",
    "\n",
    "env = gym.make('MiniGrid-Empty-8x8-v0')\n",
    "env = RGBImgPartialObsWrapper(env) # Get pixel observations\n",
    "env = ImgObsWrapper(env) # Get rid of the 'mission' field\n",
    "obs, _ = env.reset() # This now produces an RGB tensor only"
   ]
  },
  {
   "cell_type": "code",
   "execution_count": 274,
   "metadata": {},
   "outputs": [
    {
     "name": "stderr",
     "output_type": "stream",
     "text": [
      "/var/folders/qd/04zj2h4n2pvc87x_7w1z97_r0000gn/T/ipykernel_7120/3898589671.py:3: UserWarning:\n",
      "\n",
      "To copy construct from a tensor, it is recommended to use sourceTensor.clone().detach() or sourceTensor.clone().detach().requires_grad_(True), rather than torch.tensor(sourceTensor).\n",
      "\n"
     ]
    },
    {
     "data": {
      "application/vnd.plotly.v1+json": {
       "config": {
        "plotlyServerURL": "https://plot.ly"
       },
       "data": [
        {
         "hovertemplate": "x: %{x}<br>y: %{y}<br>color: [%{z[0]}, %{z[1]}, %{z[2]}]<extra></extra>",
         "name": "0",
         "source": "data:image/png;base64,iVBORw0KGgoAAAANSUhEUgAAADgAAAA4CAIAAAAn5KxJAAAA6ElEQVR4Xu2UsQ3CMBQFH4jeTXZgCVZAZLZsly5tSm9A40TwgwvQFXzpXWWdm5MSv9M0TcrAOYp/xaE0DqVxKM0lil9ZlqXWGq1USkE8FlprXdc1WkkS4tN8eofSOJQmTSg2T6WUqCRxHgv1jjYcSuNQmjSh2Dz19o/yWKh3tOFQGofSpAnF5qm3f5THQr2jDYfSOJQmTSg2T739ozwW6h1tOJTGoTRpQrF56u0f5bHQfUevkqT55erjLupLj4Xu3CS9hyLw/+gojdEBwKGPw4ECDh0PBwoy9CoN23nYXhUF+Zhm6R4dxhNf5mxCBimltAAAAABJRU5ErkJggg==",
         "type": "image",
         "xaxis": "x",
         "yaxis": "y"
        }
       ],
       "layout": {
        "margin": {
         "t": 60
        },
        "template": {
         "data": {
          "bar": [
           {
            "error_x": {
             "color": "#2a3f5f"
            },
            "error_y": {
             "color": "#2a3f5f"
            },
            "marker": {
             "line": {
              "color": "#E5ECF6",
              "width": 0.5
             },
             "pattern": {
              "fillmode": "overlay",
              "size": 10,
              "solidity": 0.2
             }
            },
            "type": "bar"
           }
          ],
          "barpolar": [
           {
            "marker": {
             "line": {
              "color": "#E5ECF6",
              "width": 0.5
             },
             "pattern": {
              "fillmode": "overlay",
              "size": 10,
              "solidity": 0.2
             }
            },
            "type": "barpolar"
           }
          ],
          "carpet": [
           {
            "aaxis": {
             "endlinecolor": "#2a3f5f",
             "gridcolor": "white",
             "linecolor": "white",
             "minorgridcolor": "white",
             "startlinecolor": "#2a3f5f"
            },
            "baxis": {
             "endlinecolor": "#2a3f5f",
             "gridcolor": "white",
             "linecolor": "white",
             "minorgridcolor": "white",
             "startlinecolor": "#2a3f5f"
            },
            "type": "carpet"
           }
          ],
          "choropleth": [
           {
            "colorbar": {
             "outlinewidth": 0,
             "ticks": ""
            },
            "type": "choropleth"
           }
          ],
          "contour": [
           {
            "colorbar": {
             "outlinewidth": 0,
             "ticks": ""
            },
            "colorscale": [
             [
              0,
              "#0d0887"
             ],
             [
              0.1111111111111111,
              "#46039f"
             ],
             [
              0.2222222222222222,
              "#7201a8"
             ],
             [
              0.3333333333333333,
              "#9c179e"
             ],
             [
              0.4444444444444444,
              "#bd3786"
             ],
             [
              0.5555555555555556,
              "#d8576b"
             ],
             [
              0.6666666666666666,
              "#ed7953"
             ],
             [
              0.7777777777777778,
              "#fb9f3a"
             ],
             [
              0.8888888888888888,
              "#fdca26"
             ],
             [
              1,
              "#f0f921"
             ]
            ],
            "type": "contour"
           }
          ],
          "contourcarpet": [
           {
            "colorbar": {
             "outlinewidth": 0,
             "ticks": ""
            },
            "type": "contourcarpet"
           }
          ],
          "heatmap": [
           {
            "colorbar": {
             "outlinewidth": 0,
             "ticks": ""
            },
            "colorscale": [
             [
              0,
              "#0d0887"
             ],
             [
              0.1111111111111111,
              "#46039f"
             ],
             [
              0.2222222222222222,
              "#7201a8"
             ],
             [
              0.3333333333333333,
              "#9c179e"
             ],
             [
              0.4444444444444444,
              "#bd3786"
             ],
             [
              0.5555555555555556,
              "#d8576b"
             ],
             [
              0.6666666666666666,
              "#ed7953"
             ],
             [
              0.7777777777777778,
              "#fb9f3a"
             ],
             [
              0.8888888888888888,
              "#fdca26"
             ],
             [
              1,
              "#f0f921"
             ]
            ],
            "type": "heatmap"
           }
          ],
          "heatmapgl": [
           {
            "colorbar": {
             "outlinewidth": 0,
             "ticks": ""
            },
            "colorscale": [
             [
              0,
              "#0d0887"
             ],
             [
              0.1111111111111111,
              "#46039f"
             ],
             [
              0.2222222222222222,
              "#7201a8"
             ],
             [
              0.3333333333333333,
              "#9c179e"
             ],
             [
              0.4444444444444444,
              "#bd3786"
             ],
             [
              0.5555555555555556,
              "#d8576b"
             ],
             [
              0.6666666666666666,
              "#ed7953"
             ],
             [
              0.7777777777777778,
              "#fb9f3a"
             ],
             [
              0.8888888888888888,
              "#fdca26"
             ],
             [
              1,
              "#f0f921"
             ]
            ],
            "type": "heatmapgl"
           }
          ],
          "histogram": [
           {
            "marker": {
             "pattern": {
              "fillmode": "overlay",
              "size": 10,
              "solidity": 0.2
             }
            },
            "type": "histogram"
           }
          ],
          "histogram2d": [
           {
            "colorbar": {
             "outlinewidth": 0,
             "ticks": ""
            },
            "colorscale": [
             [
              0,
              "#0d0887"
             ],
             [
              0.1111111111111111,
              "#46039f"
             ],
             [
              0.2222222222222222,
              "#7201a8"
             ],
             [
              0.3333333333333333,
              "#9c179e"
             ],
             [
              0.4444444444444444,
              "#bd3786"
             ],
             [
              0.5555555555555556,
              "#d8576b"
             ],
             [
              0.6666666666666666,
              "#ed7953"
             ],
             [
              0.7777777777777778,
              "#fb9f3a"
             ],
             [
              0.8888888888888888,
              "#fdca26"
             ],
             [
              1,
              "#f0f921"
             ]
            ],
            "type": "histogram2d"
           }
          ],
          "histogram2dcontour": [
           {
            "colorbar": {
             "outlinewidth": 0,
             "ticks": ""
            },
            "colorscale": [
             [
              0,
              "#0d0887"
             ],
             [
              0.1111111111111111,
              "#46039f"
             ],
             [
              0.2222222222222222,
              "#7201a8"
             ],
             [
              0.3333333333333333,
              "#9c179e"
             ],
             [
              0.4444444444444444,
              "#bd3786"
             ],
             [
              0.5555555555555556,
              "#d8576b"
             ],
             [
              0.6666666666666666,
              "#ed7953"
             ],
             [
              0.7777777777777778,
              "#fb9f3a"
             ],
             [
              0.8888888888888888,
              "#fdca26"
             ],
             [
              1,
              "#f0f921"
             ]
            ],
            "type": "histogram2dcontour"
           }
          ],
          "mesh3d": [
           {
            "colorbar": {
             "outlinewidth": 0,
             "ticks": ""
            },
            "type": "mesh3d"
           }
          ],
          "parcoords": [
           {
            "line": {
             "colorbar": {
              "outlinewidth": 0,
              "ticks": ""
             }
            },
            "type": "parcoords"
           }
          ],
          "pie": [
           {
            "automargin": true,
            "type": "pie"
           }
          ],
          "scatter": [
           {
            "fillpattern": {
             "fillmode": "overlay",
             "size": 10,
             "solidity": 0.2
            },
            "type": "scatter"
           }
          ],
          "scatter3d": [
           {
            "line": {
             "colorbar": {
              "outlinewidth": 0,
              "ticks": ""
             }
            },
            "marker": {
             "colorbar": {
              "outlinewidth": 0,
              "ticks": ""
             }
            },
            "type": "scatter3d"
           }
          ],
          "scattercarpet": [
           {
            "marker": {
             "colorbar": {
              "outlinewidth": 0,
              "ticks": ""
             }
            },
            "type": "scattercarpet"
           }
          ],
          "scattergeo": [
           {
            "marker": {
             "colorbar": {
              "outlinewidth": 0,
              "ticks": ""
             }
            },
            "type": "scattergeo"
           }
          ],
          "scattergl": [
           {
            "marker": {
             "colorbar": {
              "outlinewidth": 0,
              "ticks": ""
             }
            },
            "type": "scattergl"
           }
          ],
          "scattermapbox": [
           {
            "marker": {
             "colorbar": {
              "outlinewidth": 0,
              "ticks": ""
             }
            },
            "type": "scattermapbox"
           }
          ],
          "scatterpolar": [
           {
            "marker": {
             "colorbar": {
              "outlinewidth": 0,
              "ticks": ""
             }
            },
            "type": "scatterpolar"
           }
          ],
          "scatterpolargl": [
           {
            "marker": {
             "colorbar": {
              "outlinewidth": 0,
              "ticks": ""
             }
            },
            "type": "scatterpolargl"
           }
          ],
          "scatterternary": [
           {
            "marker": {
             "colorbar": {
              "outlinewidth": 0,
              "ticks": ""
             }
            },
            "type": "scatterternary"
           }
          ],
          "surface": [
           {
            "colorbar": {
             "outlinewidth": 0,
             "ticks": ""
            },
            "colorscale": [
             [
              0,
              "#0d0887"
             ],
             [
              0.1111111111111111,
              "#46039f"
             ],
             [
              0.2222222222222222,
              "#7201a8"
             ],
             [
              0.3333333333333333,
              "#9c179e"
             ],
             [
              0.4444444444444444,
              "#bd3786"
             ],
             [
              0.5555555555555556,
              "#d8576b"
             ],
             [
              0.6666666666666666,
              "#ed7953"
             ],
             [
              0.7777777777777778,
              "#fb9f3a"
             ],
             [
              0.8888888888888888,
              "#fdca26"
             ],
             [
              1,
              "#f0f921"
             ]
            ],
            "type": "surface"
           }
          ],
          "table": [
           {
            "cells": {
             "fill": {
              "color": "#EBF0F8"
             },
             "line": {
              "color": "white"
             }
            },
            "header": {
             "fill": {
              "color": "#C8D4E3"
             },
             "line": {
              "color": "white"
             }
            },
            "type": "table"
           }
          ]
         },
         "layout": {
          "annotationdefaults": {
           "arrowcolor": "#2a3f5f",
           "arrowhead": 0,
           "arrowwidth": 1
          },
          "autotypenumbers": "strict",
          "coloraxis": {
           "colorbar": {
            "outlinewidth": 0,
            "ticks": ""
           }
          },
          "colorscale": {
           "diverging": [
            [
             0,
             "#8e0152"
            ],
            [
             0.1,
             "#c51b7d"
            ],
            [
             0.2,
             "#de77ae"
            ],
            [
             0.3,
             "#f1b6da"
            ],
            [
             0.4,
             "#fde0ef"
            ],
            [
             0.5,
             "#f7f7f7"
            ],
            [
             0.6,
             "#e6f5d0"
            ],
            [
             0.7,
             "#b8e186"
            ],
            [
             0.8,
             "#7fbc41"
            ],
            [
             0.9,
             "#4d9221"
            ],
            [
             1,
             "#276419"
            ]
           ],
           "sequential": [
            [
             0,
             "#0d0887"
            ],
            [
             0.1111111111111111,
             "#46039f"
            ],
            [
             0.2222222222222222,
             "#7201a8"
            ],
            [
             0.3333333333333333,
             "#9c179e"
            ],
            [
             0.4444444444444444,
             "#bd3786"
            ],
            [
             0.5555555555555556,
             "#d8576b"
            ],
            [
             0.6666666666666666,
             "#ed7953"
            ],
            [
             0.7777777777777778,
             "#fb9f3a"
            ],
            [
             0.8888888888888888,
             "#fdca26"
            ],
            [
             1,
             "#f0f921"
            ]
           ],
           "sequentialminus": [
            [
             0,
             "#0d0887"
            ],
            [
             0.1111111111111111,
             "#46039f"
            ],
            [
             0.2222222222222222,
             "#7201a8"
            ],
            [
             0.3333333333333333,
             "#9c179e"
            ],
            [
             0.4444444444444444,
             "#bd3786"
            ],
            [
             0.5555555555555556,
             "#d8576b"
            ],
            [
             0.6666666666666666,
             "#ed7953"
            ],
            [
             0.7777777777777778,
             "#fb9f3a"
            ],
            [
             0.8888888888888888,
             "#fdca26"
            ],
            [
             1,
             "#f0f921"
            ]
           ]
          },
          "colorway": [
           "#636efa",
           "#EF553B",
           "#00cc96",
           "#ab63fa",
           "#FFA15A",
           "#19d3f3",
           "#FF6692",
           "#B6E880",
           "#FF97FF",
           "#FECB52"
          ],
          "font": {
           "color": "#2a3f5f"
          },
          "geo": {
           "bgcolor": "white",
           "lakecolor": "white",
           "landcolor": "#E5ECF6",
           "showlakes": true,
           "showland": true,
           "subunitcolor": "white"
          },
          "hoverlabel": {
           "align": "left"
          },
          "hovermode": "closest",
          "mapbox": {
           "style": "light"
          },
          "paper_bgcolor": "white",
          "plot_bgcolor": "#E5ECF6",
          "polar": {
           "angularaxis": {
            "gridcolor": "white",
            "linecolor": "white",
            "ticks": ""
           },
           "bgcolor": "#E5ECF6",
           "radialaxis": {
            "gridcolor": "white",
            "linecolor": "white",
            "ticks": ""
           }
          },
          "scene": {
           "xaxis": {
            "backgroundcolor": "#E5ECF6",
            "gridcolor": "white",
            "gridwidth": 2,
            "linecolor": "white",
            "showbackground": true,
            "ticks": "",
            "zerolinecolor": "white"
           },
           "yaxis": {
            "backgroundcolor": "#E5ECF6",
            "gridcolor": "white",
            "gridwidth": 2,
            "linecolor": "white",
            "showbackground": true,
            "ticks": "",
            "zerolinecolor": "white"
           },
           "zaxis": {
            "backgroundcolor": "#E5ECF6",
            "gridcolor": "white",
            "gridwidth": 2,
            "linecolor": "white",
            "showbackground": true,
            "ticks": "",
            "zerolinecolor": "white"
           }
          },
          "shapedefaults": {
           "line": {
            "color": "#2a3f5f"
           }
          },
          "ternary": {
           "aaxis": {
            "gridcolor": "white",
            "linecolor": "white",
            "ticks": ""
           },
           "baxis": {
            "gridcolor": "white",
            "linecolor": "white",
            "ticks": ""
           },
           "bgcolor": "#E5ECF6",
           "caxis": {
            "gridcolor": "white",
            "linecolor": "white",
            "ticks": ""
           }
          },
          "title": {
           "x": 0.05
          },
          "xaxis": {
           "automargin": true,
           "gridcolor": "white",
           "linecolor": "white",
           "ticks": "",
           "title": {
            "standoff": 15
           },
           "zerolinecolor": "white",
           "zerolinewidth": 2
          },
          "yaxis": {
           "automargin": true,
           "gridcolor": "white",
           "linecolor": "white",
           "ticks": "",
           "title": {
            "standoff": 15
           },
           "zerolinecolor": "white",
           "zerolinewidth": 2
          }
         }
        },
        "xaxis": {
         "anchor": "y",
         "domain": [
          0,
          1
         ]
        },
        "yaxis": {
         "anchor": "x",
         "domain": [
          0,
          1
         ]
        }
       }
      }
     },
     "metadata": {},
     "output_type": "display_data"
    }
   ],
   "source": [
    "import torch as t \n",
    "import plotly.express as px\n",
    "obs = t.tensor(obs)\n",
    "obs.shape\n",
    "px.imshow(obs)"
   ]
  },
  {
   "cell_type": "code",
   "execution_count": 275,
   "metadata": {},
   "outputs": [],
   "source": [
    "env = gym.make('MiniGrid-Empty-8x8-v0')\n",
    "env = RGBImgPartialObsWrapper(env) # Get pixel observations\n",
    "env = ImgObsWrapper(env) # Get rid of the 'mission' field\n",
    "obs, _ = env.reset() # This now produces an RGB tensor only\n",
    "\n",
    "# take several actions, store the observations, actions, returns and timesteps\n",
    "all_obs = []\n",
    "all_actions = []\n",
    "all_returns = []\n",
    "all_timesteps = []\n",
    "\n",
    "\n",
    "for i in range(10):\n",
    "    action = env.action_space.sample()\n",
    "    obs, reward, terminated, truncated, info = env.step(action)\n",
    "    all_obs.append(obs)\n",
    "    all_actions.append(action)\n",
    "    all_returns.append(reward)\n",
    "    all_timesteps.append(i)\n",
    "\n",
    "# convert to tensors.unsqueeze(0)\n",
    "all_obs = t.tensor(all_obs)\n",
    "all_actions = t.tensor(all_actions).reshape(-1, 1)\n",
    "all_returns = t.tensor(all_returns)\n",
    "all_returns = t.randn((10, 1))\n",
    "all_returns_to_go = all_returns.flip(0).cumsum(0).flip(0).reshape(-1, 1)\n",
    "all_timesteps = t.tensor(all_timesteps).reshape(-1, 1)"
   ]
  },
  {
   "cell_type": "code",
   "execution_count": 276,
   "metadata": {},
   "outputs": [
    {
     "name": "stdout",
     "output_type": "stream",
     "text": [
      "torch.Size([10, 1])\n"
     ]
    }
   ],
   "source": [
    "print(all_returns.shape)"
   ]
  },
  {
   "cell_type": "code",
   "execution_count": 277,
   "metadata": {},
   "outputs": [
    {
     "name": "stdout",
     "output_type": "stream",
     "text": [
      "torch.Size([10, 1])\n"
     ]
    }
   ],
   "source": [
    "print(all_returns_to_go.shape)"
   ]
  },
  {
   "attachments": {},
   "cell_type": "markdown",
   "metadata": {},
   "source": [
    "# Getting a basic architecture\n"
   ]
  },
  {
   "cell_type": "code",
   "execution_count": 278,
   "metadata": {},
   "outputs": [
    {
     "data": {
      "text/plain": [
       "tensor([[ 0.0000,  9.9623,  0.0000,  1.3285,  0.0000,  0.0000,  8.6895,  0.0000,\n",
       "          0.0000, 14.3877,  6.6269,  0.0000,  0.0000, 10.2458,  9.8999,  0.0000,\n",
       "          5.6620,  0.0000, 17.3232,  8.7777,  0.0000,  0.0000,  1.6546, 10.5847,\n",
       "          0.0000,  0.0000,  7.8607,  0.0000, 12.7252,  1.4921,  5.1477,  0.0000,\n",
       "          0.0000,  6.2238,  0.0000,  0.0000,  0.0000,  6.8364,  3.2929,  0.0000,\n",
       "          2.7457,  4.7237,  0.0000, 10.5503,  2.5434,  0.0000,  0.1653,  9.5687,\n",
       "          6.8229, 13.4620,  6.4368,  0.0000,  0.0000, 11.4811,  0.0000,  0.0000,\n",
       "          0.0000, 11.6980,  0.0000, 11.9936, 12.6789,  0.0000,  9.6849,  0.0000]],\n",
       "       grad_fn=<ReluBackward0>)"
      ]
     },
     "execution_count": 278,
     "metadata": {},
     "output_type": "execute_result"
    }
   ],
   "source": [
    "# for the grid world environment we will a small CNN to extract features from the image\n",
    "# we will use the same CNN as in the original paper\n",
    "\n",
    "obs, _, _, _, _ = env.step(2)\n",
    "obs = t.tensor(obs)\n",
    "\n",
    "import torch as t\n",
    "import torch.nn as nn\n",
    "import torch.nn.functional as F\n",
    "from einops import rearrange\n",
    "\n",
    "# to do: make this a custom class with hooks from transformer lense\n",
    "# to do: work out how to feature visualize this\n",
    "\n",
    "class StateEncoder(nn.Module):\n",
    "    def __init__(self, n_embed):\n",
    "        super(StateEncoder, self).__init__()\n",
    "        self.n_embed = n_embed\n",
    "        # input has shape 56 x 56 x 3\n",
    "        # output has shape 1 x 1 x 512\n",
    "        self.conv1 = nn.Conv2d(3, 32, 8, stride=4, padding=0) # 56 -> 13\n",
    "        self.conv2 = nn.Conv2d(32, 64, 4, stride=2, padding=0) # 13 -> 5\n",
    "        self.conv3 = nn.Conv2d(64, 64, 3, stride=1, padding=0) # 5 -> 3\n",
    "        self.flatten = nn.Flatten()\n",
    "        self.fc = nn.Linear(576, n_embed)\n",
    "\n",
    "    def forward(self, x):\n",
    "        x = F.relu(self.conv1(x))\n",
    "        x = F.relu(self.conv2(x))\n",
    "        x = F.relu(self.conv3(x))\n",
    "        x = self.flatten(x)\n",
    "        x = self.fc(x)\n",
    "        x = F.relu(x)\n",
    "        return x\n",
    "\n",
    "# we will use the same CNN as in the original paper\n",
    "cnn = StateEncoder(64).to(\"cpu\")\n",
    "x = obs.unsqueeze(0).to(t.float32)\n",
    "x = rearrange(x, 'b h w c-> b c h w')\n",
    "cnn(x)"
   ]
  },
  {
   "attachments": {},
   "cell_type": "markdown",
   "metadata": {},
   "source": [
    "For reference: https://github.com/kzl/decision-transformer/blob/master/atari/mingpt/model_atari.py"
   ]
  },
  {
   "cell_type": "code",
   "execution_count": 280,
   "metadata": {},
   "outputs": [],
   "source": [
    "\n",
    "    # def forward(self, R: t.tensor, s: t.tensor, a: t.tensor, t: t.tensor):\n",
    "    #     '''\n",
    "    #     R: return\n",
    "    #     s: state\n",
    "    #     a: action\n",
    "    #     t: timestep\n",
    "    #     '''\n",
    "    #     s = s.to(torch.float32)\n",
    "    #     s = rearrange(s, 'b h w c-> b c h w')\n",
    "\n",
    "    #     pos_emb = self.pos_embedding(t)\n",
    "    #     state_emb = self.state_embedding(s) + pos_emb\n",
    "    #     action_emb = self.action_embeddings(a) + pos_emb\n",
    "    #     ret_emb = self.ret_emb(R) + pos_emb\n",
    "\n",
    "    #     input_embeds = torch.stack([state_emb, action_emb, ret_emb], dim=1)\n",
    "    #     print(input_embeds.shape)\n",
    "    #     print(input_embeds.dtype)\n",
    "    #     input_embeds = rearrange(input_embeds, 'batch sar block_size d_model -> batch sar block_size d_model')\n",
    "        \n",
    "    #     x = self.transformer(input_embeds)\n",
    "        \n",
    "    #     return x\n"
   ]
  },
  {
   "cell_type": "code",
   "execution_count": null,
   "metadata": {},
   "outputs": [],
   "source": [
    "print(\"------------------\")\n",
    "\n",
    "decision_transformer = DecisionTransformer(env, model_type='reward_conditioned')\n",
    "print(all_obs.unsqueeze(0).shape)\n",
    "logits, _ = decision_transformer(\n",
    "    states = all_obs.repeat(3,1, 1, 1, 1), \n",
    "    actions = all_actions.repeat(3,1, 1),\n",
    "    rtgs = all_returns_to_go.repeat(3,1, 1),\n",
    "    timesteps = all_timesteps.repeat(3,1, 1)\n",
    ")\n",
    "print(all_obs.repeat(3,1, 1, 1, 1).shape)\n",
    "print(logits.shape)\n",
    "print(logits[0].softmax(-1).argmax(-1))\n",
    "\n",
    "\n",
    "print(\"------------------\")\n",
    "\n",
    "decision_transformer = DecisionTransformer(env, model_type='reward_conditioned')\n",
    "print(all_obs.unsqueeze(0).shape)\n",
    "logits, _ = decision_transformer(\n",
    "    states = all_obs.repeat(3,1, 1, 1, 1), \n",
    "    actions = None,#all_actions.repeat(3,1, 1),\n",
    "    rtgs = all_returns_to_go.repeat(3,1, 1),\n",
    "    timesteps = all_timesteps.repeat(3,1, 1)\n",
    ")\n",
    "print(all_obs.repeat(3,1, 1, 1, 1).shape)\n",
    "print(logits.shape)\n",
    "print(logits[0].softmax(-1).argmax(-1))"
   ]
  },
  {
   "attachments": {},
   "cell_type": "markdown",
   "metadata": {},
   "source": [
    "Notes:\n",
    "- This turned out to be really complicated. \n",
    "- Specifically:\n",
    "    - it seems like the model has very different formulations during reward_conditioned vs naive. And also changes size if targets are used.\n",
    "    - This includes things like the token embeddings for actions not going through in naive mode, but going through in reward_conditioned mode.\n",
    "        - This is fine because a model is only ever of one type\n",
    "    - However, the model isn't using padding of any kind? I should look for evidence of this. "
   ]
  },
  {
   "cell_type": "code",
   "execution_count": 233,
   "metadata": {},
   "outputs": [
    {
     "data": {
      "text/plain": [
       "torch.Size([10, 1, 1])"
      ]
     },
     "execution_count": 233,
     "metadata": {},
     "output_type": "execute_result"
    }
   ],
   "source": [
    "all_timesteps.unsqueeze(1).shape"
   ]
  },
  {
   "cell_type": "code",
   "execution_count": 228,
   "metadata": {},
   "outputs": [
    {
     "data": {
      "text/plain": [
       "torch.Size([3, 10, 1])"
      ]
     },
     "execution_count": 228,
     "metadata": {},
     "output_type": "execute_result"
    }
   ],
   "source": [
    "all_timesteps.repeat(3,1, 1).shape"
   ]
  },
  {
   "cell_type": "code",
   "execution_count": 203,
   "metadata": {},
   "outputs": [
    {
     "name": "stdout",
     "output_type": "stream",
     "text": [
      "torch.Size([3, 10, 1])\n",
      "torch.Size([3, 10, 1])\n",
      "torch.Size([3, 10, 1])\n",
      "torch.Size([3, 10, 56, 56, 3])\n"
     ]
    }
   ],
   "source": [
    "print(all_actions.repeat(3,1, 1).shape)\n",
    "print(all_returns_to_go.repeat(3,1, 1).shape)\n",
    "print(all_timesteps.repeat(3,1, 1).shape)\n",
    "print(all_obs.repeat(3,1, 1, 1, 1).shape)"
   ]
  },
  {
   "cell_type": "code",
   "execution_count": 117,
   "metadata": {},
   "outputs": [],
   "source": [
    "\n",
    "cfg = EasyTransformerConfig(\n",
    "    n_layers=2,\n",
    "    d_model=64,\n",
    "    d_head=32,\n",
    "    n_heads=2,\n",
    "    d_mlp=128,\n",
    "    d_vocab= 64,\n",
    "    n_ctx= 30,\n",
    "    act_fn=\"relu\",\n",
    "    normalization_type=None,\n",
    "    attention_dir=\"causal\",\n",
    "    positional_embedding_type=\"learned\",\n",
    "    d_vocab_out=env.action_space.n, #\n",
    ")\n",
    "\n",
    "\n",
    "transformer = EasyTransformer(cfg)"
   ]
  },
  {
   "cell_type": "markdown",
   "metadata": {},
   "source": []
  },
  {
   "cell_type": "code",
   "execution_count": 136,
   "metadata": {},
   "outputs": [
    {
     "data": {
      "text/plain": [
       "tensor([[[1, 2]],\n",
       "\n",
       "        [[4, 5]],\n",
       "\n",
       "        [[7, 8]]])"
      ]
     },
     "execution_count": 136,
     "metadata": {},
     "output_type": "execute_result"
    }
   ],
   "source": [
    "rearrange(t.tensor([[1,2],[4,5],[7,8]]), 'b (n d) -> b n d', n=1, d=2)"
   ]
  },
  {
   "cell_type": "code",
   "execution_count": null,
   "metadata": {},
   "outputs": [],
   "source": [
    "\n",
    "# reference code:\n",
    "\n",
    "# all_global_pos_emb = torch.repeat_interleave(self.global_pos_emb, batch_size, dim=0) # batch_size, traj_length, n_embd\n",
    "# position_embeddings = torch.gather(all_global_pos_emb, 1, torch.repeat_interleave(timesteps, self.config.n_embd, dim=-1)) + self.pos_emb[:, :token_embeddings.shape[1], :]\n",
    "# x = self.drop(token_embeddings + position_embeddings)"
   ]
  },
  {
   "cell_type": "code",
   "execution_count": 2,
   "metadata": {},
   "outputs": [
    {
     "name": "stderr",
     "output_type": "stream",
     "text": [
      "/var/folders/qd/04zj2h4n2pvc87x_7w1z97_r0000gn/T/ipykernel_91131/2540173800.py:26: UserWarning: Creating a tensor from a list of numpy.ndarrays is extremely slow. Please consider converting the list to a single numpy.ndarray with numpy.array() before converting to a tensor. (Triggered internally at /Users/runner/work/pytorch/pytorch/pytorch/torch/csrc/utils/tensor_new.cpp:233.)\n",
      "  all_obs = t.tensor(all_obs).to(t.float32).unsqueeze(0)\n"
     ]
    }
   ],
   "source": [
    "import torch as t \n",
    "import gymnasium as gym\n",
    "from minigrid.wrappers import RGBImgPartialObsWrapper, ImgObsWrapper\n",
    "\n",
    "env = gym.make('MiniGrid-Empty-8x8-v0')\n",
    "env = RGBImgPartialObsWrapper(env) # Get pixel observations\n",
    "env = ImgObsWrapper(env) # Get rid of the 'mission' field\n",
    "obs, _ = env.reset() # This now produces an RGB tensor only\n",
    "\n",
    "# take several actions, store the observations, actions, returns and timesteps\n",
    "all_obs = []\n",
    "all_actions = []\n",
    "all_returns = []\n",
    "all_timesteps = []\n",
    "\n",
    "\n",
    "for i in range(10):\n",
    "    action = env.action_space.sample()\n",
    "    obs, reward, terminated, truncated, info = env.step(action)\n",
    "    all_obs.append(obs)\n",
    "    all_actions.append(action)\n",
    "    all_returns.append(reward)\n",
    "    all_timesteps.append(i)\n",
    "\n",
    "# convert to tensors.unsqueeze(0)\n",
    "all_obs = t.tensor(all_obs).to(t.float32).unsqueeze(0)\n",
    "all_actions = t.tensor(all_actions).reshape(-1, 1).unsqueeze(0)\n",
    "all_returns = t.randn((10, 1))\n",
    "all_returns_to_go = all_returns.flip(0).cumsum(0).flip(0).reshape(-1, 1).unsqueeze(0)\n",
    "all_timesteps = t.tensor(all_timesteps).reshape(-1, 1).unsqueeze(0)\n"
   ]
  },
  {
   "cell_type": "code",
   "execution_count": 6,
   "metadata": {},
   "outputs": [],
   "source": [
    "from typing import Union, Dict\n",
    "import einops \n",
    "from torchtyping import TensorType as TT\n",
    "from transformer_lens.HookedTransformerConfig import HookedTransformerConfig\n",
    "import torch \n",
    "\n",
    "import torch.nn as nn\n",
    "from src.model import DecisionTransformer\n",
    "\n",
    "# Positional Embeddings\n",
    "class PosEmbedTokens(nn.Module):\n",
    "    def __init__(self, cfg: Union[Dict, HookedTransformerConfig]):\n",
    "        super().__init__()\n",
    "        if isinstance(cfg, Dict):\n",
    "            cfg = HookedTransformerConfig.from_dict(cfg)\n",
    "        self.cfg = cfg\n",
    "        self.W_pos = nn.Parameter(torch.empty(self.cfg.n_ctx, self.cfg.d_model))\n",
    "\n",
    "    def forward(\n",
    "        self, tokens: TT[\"batch\", \"position\"], past_kv_pos_offset: int = 0\n",
    "    ) -> TT[\"batch\", \"position\", \"d_model\"]:\n",
    "        \"\"\"Tokens have shape [batch, pos]\n",
    "        Output shape [pos, d_model] - will be broadcast along batch dim\"\"\"\n",
    "\n",
    "        tokens_length = tokens.size(-2)\n",
    "        pos_embed = self.W_pos[:tokens_length, :]  # [pos, d_model]\n",
    "        broadcast_pos_embed = einops.repeat(\n",
    "            pos_embed, \"pos d_model -> batch pos d_model\", batch=tokens.size(0)\n",
    "        )  # [batch, pos, d_model]\n",
    "        return broadcast_pos_embed\n",
    "\n",
    "\n",
    "decision_transformer = DecisionTransformer(env)\n",
    "cfg = decision_transformer.transformer.cfg\n",
    "decision_transformer.transformer.pos_embed = PosEmbedTokens(cfg)\n",
    "\n",
    "\n",
    "logits, _ = decision_transformer(\n",
    "    states = all_obs,\n",
    "    actions = all_actions,\n",
    "    rtgs = all_returns_to_go,\n",
    "    timesteps = all_timesteps\n",
    ")"
   ]
  }
 ],
 "metadata": {
  "kernelspec": {
   "display_name": "decision_transformer_interpretability",
   "language": "python",
   "name": "python3"
  },
  "language_info": {
   "codemirror_mode": {
    "name": "ipython",
    "version": 3
   },
   "file_extension": ".py",
   "mimetype": "text/x-python",
   "name": "python",
   "nbconvert_exporter": "python",
   "pygments_lexer": "ipython3",
   "version": "3.9.15"
  },
  "orig_nbformat": 4,
  "vscode": {
   "interpreter": {
    "hash": "0be95f1efa079bcf597630754731f3dc2b2137553763cb34bfd5652600bd2735"
   }
  }
 },
 "nbformat": 4,
 "nbformat_minor": 2
}
