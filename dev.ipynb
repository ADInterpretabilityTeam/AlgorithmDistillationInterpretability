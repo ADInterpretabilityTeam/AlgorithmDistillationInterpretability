{
 "cells": [
  {
   "attachments": {},
   "cell_type": "markdown",
   "metadata": {},
   "source": [
    "# MiniGrid Environment\n",
    "\n",
    "The minigrid environments provide a number of \"simple\" environments available as both gridworlds and pixelated images. They enable us to avoid doing CNN feature visualisation analysis while still studying problems that might involve search like notions. \n",
    "\n",
    "Try out the environment by running the following command:\n",
    "\n",
    "\n",
    "```bash\n",
    "python -m minigrid.manual_control\n",
    "```\n",
    "\n",
    "Later we can benchmark against torch-rl "
   ]
  },
  {
   "cell_type": "code",
   "execution_count": 290,
   "metadata": {},
   "outputs": [],
   "source": [
    "import gymnasium as gym\n",
    "from minigrid.wrappers import RGBImgPartialObsWrapper, ImgObsWrapper\n",
    "\n",
    "env = gym.make('MiniGrid-Empty-8x8-v0')\n",
    "env = RGBImgPartialObsWrapper(env) # Get pixel observations\n",
    "env = ImgObsWrapper(env) # Get rid of the 'mission' field\n",
    "obs, _ = env.reset() # This now produces an RGB tensor only\n",
    "# obs"
   ]
  },
  {
   "cell_type": "code",
   "execution_count": 291,
   "metadata": {},
   "outputs": [
    {
     "name": "stderr",
     "output_type": "stream",
     "text": [
      "/Users/josephbloom/miniforge3/envs/decision_transformer_interpretability/lib/python3.9/site-packages/plotly/io/_renderers.py:395: DeprecationWarning:\n",
      "\n",
      "distutils Version classes are deprecated. Use packaging.version instead.\n",
      "\n",
      "/Users/josephbloom/miniforge3/envs/decision_transformer_interpretability/lib/python3.9/site-packages/plotly/io/_renderers.py:395: DeprecationWarning:\n",
      "\n",
      "distutils Version classes are deprecated. Use packaging.version instead.\n",
      "\n"
     ]
    },
    {
     "data": {
      "application/vnd.plotly.v1+json": {
       "config": {
        "plotlyServerURL": "https://plot.ly"
       },
       "data": [
        {
         "hovertemplate": "x: %{x}<br>y: %{y}<br>color: [%{z[0]}, %{z[1]}, %{z[2]}]<extra></extra>",
         "name": "0",
         "source": "data:image/png;base64,iVBORw0KGgoAAAANSUhEUgAAADgAAAA4CAIAAAAn5KxJAAAA6ElEQVR4Xu2UsQ3CMBQFH4jeTXZgCVZAZLZsly5tSm9A40TwgwvQFXzpXWWdm5MSv9M0TcrAOYp/xaE0DqVxKM0lil9ZlqXWGq1USkE8FlprXdc1WkkS4tN8eofSOJQmTSg2T6WUqCRxHgv1jjYcSuNQmjSh2Dz19o/yWKh3tOFQGofSpAnF5qm3f5THQr2jDYfSOJQmTSg2T739ozwW6h1tOJTGoTRpQrF56u0f5bHQfUevkqT55erjLupLj4Xu3CS9hyLw/+gojdEBwKGPw4ECDh0PBwoy9CoN23nYXhUF+Zhm6R4dxhNf5mxCBimltAAAAABJRU5ErkJggg==",
         "type": "image",
         "xaxis": "x",
         "yaxis": "y"
        }
       ],
       "layout": {
        "margin": {
         "t": 60
        },
        "template": {
         "data": {
          "bar": [
           {
            "error_x": {
             "color": "#2a3f5f"
            },
            "error_y": {
             "color": "#2a3f5f"
            },
            "marker": {
             "line": {
              "color": "#E5ECF6",
              "width": 0.5
             },
             "pattern": {
              "fillmode": "overlay",
              "size": 10,
              "solidity": 0.2
             }
            },
            "type": "bar"
           }
          ],
          "barpolar": [
           {
            "marker": {
             "line": {
              "color": "#E5ECF6",
              "width": 0.5
             },
             "pattern": {
              "fillmode": "overlay",
              "size": 10,
              "solidity": 0.2
             }
            },
            "type": "barpolar"
           }
          ],
          "carpet": [
           {
            "aaxis": {
             "endlinecolor": "#2a3f5f",
             "gridcolor": "white",
             "linecolor": "white",
             "minorgridcolor": "white",
             "startlinecolor": "#2a3f5f"
            },
            "baxis": {
             "endlinecolor": "#2a3f5f",
             "gridcolor": "white",
             "linecolor": "white",
             "minorgridcolor": "white",
             "startlinecolor": "#2a3f5f"
            },
            "type": "carpet"
           }
          ],
          "choropleth": [
           {
            "colorbar": {
             "outlinewidth": 0,
             "ticks": ""
            },
            "type": "choropleth"
           }
          ],
          "contour": [
           {
            "colorbar": {
             "outlinewidth": 0,
             "ticks": ""
            },
            "colorscale": [
             [
              0,
              "#0d0887"
             ],
             [
              0.1111111111111111,
              "#46039f"
             ],
             [
              0.2222222222222222,
              "#7201a8"
             ],
             [
              0.3333333333333333,
              "#9c179e"
             ],
             [
              0.4444444444444444,
              "#bd3786"
             ],
             [
              0.5555555555555556,
              "#d8576b"
             ],
             [
              0.6666666666666666,
              "#ed7953"
             ],
             [
              0.7777777777777778,
              "#fb9f3a"
             ],
             [
              0.8888888888888888,
              "#fdca26"
             ],
             [
              1,
              "#f0f921"
             ]
            ],
            "type": "contour"
           }
          ],
          "contourcarpet": [
           {
            "colorbar": {
             "outlinewidth": 0,
             "ticks": ""
            },
            "type": "contourcarpet"
           }
          ],
          "heatmap": [
           {
            "colorbar": {
             "outlinewidth": 0,
             "ticks": ""
            },
            "colorscale": [
             [
              0,
              "#0d0887"
             ],
             [
              0.1111111111111111,
              "#46039f"
             ],
             [
              0.2222222222222222,
              "#7201a8"
             ],
             [
              0.3333333333333333,
              "#9c179e"
             ],
             [
              0.4444444444444444,
              "#bd3786"
             ],
             [
              0.5555555555555556,
              "#d8576b"
             ],
             [
              0.6666666666666666,
              "#ed7953"
             ],
             [
              0.7777777777777778,
              "#fb9f3a"
             ],
             [
              0.8888888888888888,
              "#fdca26"
             ],
             [
              1,
              "#f0f921"
             ]
            ],
            "type": "heatmap"
           }
          ],
          "heatmapgl": [
           {
            "colorbar": {
             "outlinewidth": 0,
             "ticks": ""
            },
            "colorscale": [
             [
              0,
              "#0d0887"
             ],
             [
              0.1111111111111111,
              "#46039f"
             ],
             [
              0.2222222222222222,
              "#7201a8"
             ],
             [
              0.3333333333333333,
              "#9c179e"
             ],
             [
              0.4444444444444444,
              "#bd3786"
             ],
             [
              0.5555555555555556,
              "#d8576b"
             ],
             [
              0.6666666666666666,
              "#ed7953"
             ],
             [
              0.7777777777777778,
              "#fb9f3a"
             ],
             [
              0.8888888888888888,
              "#fdca26"
             ],
             [
              1,
              "#f0f921"
             ]
            ],
            "type": "heatmapgl"
           }
          ],
          "histogram": [
           {
            "marker": {
             "pattern": {
              "fillmode": "overlay",
              "size": 10,
              "solidity": 0.2
             }
            },
            "type": "histogram"
           }
          ],
          "histogram2d": [
           {
            "colorbar": {
             "outlinewidth": 0,
             "ticks": ""
            },
            "colorscale": [
             [
              0,
              "#0d0887"
             ],
             [
              0.1111111111111111,
              "#46039f"
             ],
             [
              0.2222222222222222,
              "#7201a8"
             ],
             [
              0.3333333333333333,
              "#9c179e"
             ],
             [
              0.4444444444444444,
              "#bd3786"
             ],
             [
              0.5555555555555556,
              "#d8576b"
             ],
             [
              0.6666666666666666,
              "#ed7953"
             ],
             [
              0.7777777777777778,
              "#fb9f3a"
             ],
             [
              0.8888888888888888,
              "#fdca26"
             ],
             [
              1,
              "#f0f921"
             ]
            ],
            "type": "histogram2d"
           }
          ],
          "histogram2dcontour": [
           {
            "colorbar": {
             "outlinewidth": 0,
             "ticks": ""
            },
            "colorscale": [
             [
              0,
              "#0d0887"
             ],
             [
              0.1111111111111111,
              "#46039f"
             ],
             [
              0.2222222222222222,
              "#7201a8"
             ],
             [
              0.3333333333333333,
              "#9c179e"
             ],
             [
              0.4444444444444444,
              "#bd3786"
             ],
             [
              0.5555555555555556,
              "#d8576b"
             ],
             [
              0.6666666666666666,
              "#ed7953"
             ],
             [
              0.7777777777777778,
              "#fb9f3a"
             ],
             [
              0.8888888888888888,
              "#fdca26"
             ],
             [
              1,
              "#f0f921"
             ]
            ],
            "type": "histogram2dcontour"
           }
          ],
          "mesh3d": [
           {
            "colorbar": {
             "outlinewidth": 0,
             "ticks": ""
            },
            "type": "mesh3d"
           }
          ],
          "parcoords": [
           {
            "line": {
             "colorbar": {
              "outlinewidth": 0,
              "ticks": ""
             }
            },
            "type": "parcoords"
           }
          ],
          "pie": [
           {
            "automargin": true,
            "type": "pie"
           }
          ],
          "scatter": [
           {
            "fillpattern": {
             "fillmode": "overlay",
             "size": 10,
             "solidity": 0.2
            },
            "type": "scatter"
           }
          ],
          "scatter3d": [
           {
            "line": {
             "colorbar": {
              "outlinewidth": 0,
              "ticks": ""
             }
            },
            "marker": {
             "colorbar": {
              "outlinewidth": 0,
              "ticks": ""
             }
            },
            "type": "scatter3d"
           }
          ],
          "scattercarpet": [
           {
            "marker": {
             "colorbar": {
              "outlinewidth": 0,
              "ticks": ""
             }
            },
            "type": "scattercarpet"
           }
          ],
          "scattergeo": [
           {
            "marker": {
             "colorbar": {
              "outlinewidth": 0,
              "ticks": ""
             }
            },
            "type": "scattergeo"
           }
          ],
          "scattergl": [
           {
            "marker": {
             "colorbar": {
              "outlinewidth": 0,
              "ticks": ""
             }
            },
            "type": "scattergl"
           }
          ],
          "scattermapbox": [
           {
            "marker": {
             "colorbar": {
              "outlinewidth": 0,
              "ticks": ""
             }
            },
            "type": "scattermapbox"
           }
          ],
          "scatterpolar": [
           {
            "marker": {
             "colorbar": {
              "outlinewidth": 0,
              "ticks": ""
             }
            },
            "type": "scatterpolar"
           }
          ],
          "scatterpolargl": [
           {
            "marker": {
             "colorbar": {
              "outlinewidth": 0,
              "ticks": ""
             }
            },
            "type": "scatterpolargl"
           }
          ],
          "scatterternary": [
           {
            "marker": {
             "colorbar": {
              "outlinewidth": 0,
              "ticks": ""
             }
            },
            "type": "scatterternary"
           }
          ],
          "surface": [
           {
            "colorbar": {
             "outlinewidth": 0,
             "ticks": ""
            },
            "colorscale": [
             [
              0,
              "#0d0887"
             ],
             [
              0.1111111111111111,
              "#46039f"
             ],
             [
              0.2222222222222222,
              "#7201a8"
             ],
             [
              0.3333333333333333,
              "#9c179e"
             ],
             [
              0.4444444444444444,
              "#bd3786"
             ],
             [
              0.5555555555555556,
              "#d8576b"
             ],
             [
              0.6666666666666666,
              "#ed7953"
             ],
             [
              0.7777777777777778,
              "#fb9f3a"
             ],
             [
              0.8888888888888888,
              "#fdca26"
             ],
             [
              1,
              "#f0f921"
             ]
            ],
            "type": "surface"
           }
          ],
          "table": [
           {
            "cells": {
             "fill": {
              "color": "#EBF0F8"
             },
             "line": {
              "color": "white"
             }
            },
            "header": {
             "fill": {
              "color": "#C8D4E3"
             },
             "line": {
              "color": "white"
             }
            },
            "type": "table"
           }
          ]
         },
         "layout": {
          "annotationdefaults": {
           "arrowcolor": "#2a3f5f",
           "arrowhead": 0,
           "arrowwidth": 1
          },
          "autotypenumbers": "strict",
          "coloraxis": {
           "colorbar": {
            "outlinewidth": 0,
            "ticks": ""
           }
          },
          "colorscale": {
           "diverging": [
            [
             0,
             "#8e0152"
            ],
            [
             0.1,
             "#c51b7d"
            ],
            [
             0.2,
             "#de77ae"
            ],
            [
             0.3,
             "#f1b6da"
            ],
            [
             0.4,
             "#fde0ef"
            ],
            [
             0.5,
             "#f7f7f7"
            ],
            [
             0.6,
             "#e6f5d0"
            ],
            [
             0.7,
             "#b8e186"
            ],
            [
             0.8,
             "#7fbc41"
            ],
            [
             0.9,
             "#4d9221"
            ],
            [
             1,
             "#276419"
            ]
           ],
           "sequential": [
            [
             0,
             "#0d0887"
            ],
            [
             0.1111111111111111,
             "#46039f"
            ],
            [
             0.2222222222222222,
             "#7201a8"
            ],
            [
             0.3333333333333333,
             "#9c179e"
            ],
            [
             0.4444444444444444,
             "#bd3786"
            ],
            [
             0.5555555555555556,
             "#d8576b"
            ],
            [
             0.6666666666666666,
             "#ed7953"
            ],
            [
             0.7777777777777778,
             "#fb9f3a"
            ],
            [
             0.8888888888888888,
             "#fdca26"
            ],
            [
             1,
             "#f0f921"
            ]
           ],
           "sequentialminus": [
            [
             0,
             "#0d0887"
            ],
            [
             0.1111111111111111,
             "#46039f"
            ],
            [
             0.2222222222222222,
             "#7201a8"
            ],
            [
             0.3333333333333333,
             "#9c179e"
            ],
            [
             0.4444444444444444,
             "#bd3786"
            ],
            [
             0.5555555555555556,
             "#d8576b"
            ],
            [
             0.6666666666666666,
             "#ed7953"
            ],
            [
             0.7777777777777778,
             "#fb9f3a"
            ],
            [
             0.8888888888888888,
             "#fdca26"
            ],
            [
             1,
             "#f0f921"
            ]
           ]
          },
          "colorway": [
           "#636efa",
           "#EF553B",
           "#00cc96",
           "#ab63fa",
           "#FFA15A",
           "#19d3f3",
           "#FF6692",
           "#B6E880",
           "#FF97FF",
           "#FECB52"
          ],
          "font": {
           "color": "#2a3f5f"
          },
          "geo": {
           "bgcolor": "white",
           "lakecolor": "white",
           "landcolor": "#E5ECF6",
           "showlakes": true,
           "showland": true,
           "subunitcolor": "white"
          },
          "hoverlabel": {
           "align": "left"
          },
          "hovermode": "closest",
          "mapbox": {
           "style": "light"
          },
          "paper_bgcolor": "white",
          "plot_bgcolor": "#E5ECF6",
          "polar": {
           "angularaxis": {
            "gridcolor": "white",
            "linecolor": "white",
            "ticks": ""
           },
           "bgcolor": "#E5ECF6",
           "radialaxis": {
            "gridcolor": "white",
            "linecolor": "white",
            "ticks": ""
           }
          },
          "scene": {
           "xaxis": {
            "backgroundcolor": "#E5ECF6",
            "gridcolor": "white",
            "gridwidth": 2,
            "linecolor": "white",
            "showbackground": true,
            "ticks": "",
            "zerolinecolor": "white"
           },
           "yaxis": {
            "backgroundcolor": "#E5ECF6",
            "gridcolor": "white",
            "gridwidth": 2,
            "linecolor": "white",
            "showbackground": true,
            "ticks": "",
            "zerolinecolor": "white"
           },
           "zaxis": {
            "backgroundcolor": "#E5ECF6",
            "gridcolor": "white",
            "gridwidth": 2,
            "linecolor": "white",
            "showbackground": true,
            "ticks": "",
            "zerolinecolor": "white"
           }
          },
          "shapedefaults": {
           "line": {
            "color": "#2a3f5f"
           }
          },
          "ternary": {
           "aaxis": {
            "gridcolor": "white",
            "linecolor": "white",
            "ticks": ""
           },
           "baxis": {
            "gridcolor": "white",
            "linecolor": "white",
            "ticks": ""
           },
           "bgcolor": "#E5ECF6",
           "caxis": {
            "gridcolor": "white",
            "linecolor": "white",
            "ticks": ""
           }
          },
          "title": {
           "x": 0.05
          },
          "xaxis": {
           "automargin": true,
           "gridcolor": "white",
           "linecolor": "white",
           "ticks": "",
           "title": {
            "standoff": 15
           },
           "zerolinecolor": "white",
           "zerolinewidth": 2
          },
          "yaxis": {
           "automargin": true,
           "gridcolor": "white",
           "linecolor": "white",
           "ticks": "",
           "title": {
            "standoff": 15
           },
           "zerolinecolor": "white",
           "zerolinewidth": 2
          }
         }
        },
        "xaxis": {
         "anchor": "y",
         "domain": [
          0,
          1
         ]
        },
        "yaxis": {
         "anchor": "x",
         "domain": [
          0,
          1
         ]
        }
       }
      }
     },
     "metadata": {},
     "output_type": "display_data"
    }
   ],
   "source": [
    "import torch as t \n",
    "import plotly.express as px\n",
    "obs = t.tensor(obs)\n",
    "obs.shape\n",
    "px.imshow(obs)"
   ]
  },
  {
   "cell_type": "code",
   "execution_count": 292,
   "metadata": {},
   "outputs": [
    {
     "name": "stderr",
     "output_type": "stream",
     "text": [
      "/var/folders/qd/04zj2h4n2pvc87x_7w1z97_r0000gn/T/ipykernel_66398/941578228.py:22: UserWarning:\n",
      "\n",
      "Creating a tensor from a list of numpy.ndarrays is extremely slow. Please consider converting the list to a single numpy.ndarray with numpy.array() before converting to a tensor. (Triggered internally at /Users/runner/work/pytorch/pytorch/pytorch/torch/csrc/utils/tensor_new.cpp:233.)\n",
      "\n"
     ]
    }
   ],
   "source": [
    "env = gym.make('MiniGrid-Empty-8x8-v0')\n",
    "env = RGBImgPartialObsWrapper(env) # Get pixel observations\n",
    "env = ImgObsWrapper(env) # Get rid of the 'mission' field\n",
    "obs, _ = env.reset() # This now produces an RGB tensor only\n",
    "\n",
    "# take several actions, store the observations, actions, returns and timesteps\n",
    "all_obs = []\n",
    "all_actions = []\n",
    "all_returns = []\n",
    "all_timesteps = []\n",
    "\n",
    "\n",
    "for i in range(10):\n",
    "    action = env.action_space.sample()\n",
    "    obs, reward, terminated, truncated, info = env.step(action)\n",
    "    all_obs.append(obs)\n",
    "    all_actions.append(action)\n",
    "    all_returns.append(reward)\n",
    "    all_timesteps.append(i)\n",
    "\n",
    "# convert to tensors.unsqueeze(0)\n",
    "all_obs = t.tensor(all_obs)\n",
    "all_actions = t.tensor(all_actions).reshape(-1, 1)\n",
    "all_returns = t.tensor(all_returns)\n",
    "all_returns = t.randn((10, 1))\n",
    "all_returns_to_go = all_returns.flip(0).cumsum(0).flip(0).reshape(-1, 1)\n",
    "all_timesteps = t.tensor(all_timesteps).reshape(-1, 1)"
   ]
  },
  {
   "attachments": {},
   "cell_type": "markdown",
   "metadata": {},
   "source": [
    "# CNN "
   ]
  },
  {
   "cell_type": "code",
   "execution_count": 294,
   "metadata": {},
   "outputs": [
    {
     "data": {
      "text/plain": [
       "tensor([[ 2.2918,  2.3031,  0.0000,  0.0000,  0.0000,  0.0000,  4.8692,  0.0000,\n",
       "          0.0000,  0.0000,  1.3046,  3.2425,  0.0000,  2.4428,  0.0000,  5.8740,\n",
       "          0.9391,  5.1203,  2.1983,  0.0000,  0.0000,  0.0000,  1.6969,  7.1444,\n",
       "          0.0000,  1.0069,  1.9155,  0.0000,  1.5764,  2.6883,  0.0000,  5.2671,\n",
       "          0.0000,  0.0000,  3.8132,  0.0000,  0.0000,  4.7259,  0.5788,  0.0000,\n",
       "          0.8931,  0.0000,  0.0000,  3.6706,  0.0000,  0.7813,  3.8906,  0.0000,\n",
       "          0.9702,  2.0933,  0.0000, 12.0165,  2.1961,  0.0000,  4.0366,  2.6068,\n",
       "          7.6517,  0.0000,  0.7258,  5.9120,  0.0000,  0.0000,  0.0000,  0.0000]],\n",
       "       grad_fn=<ReluBackward0>)"
      ]
     },
     "execution_count": 294,
     "metadata": {},
     "output_type": "execute_result"
    }
   ],
   "source": [
    "# for the grid world environment we will a small CNN to extract features from the image\n",
    "# we will use the same CNN as in the original paper\n",
    "\n",
    "import torch as t\n",
    "import torch.nn as nn\n",
    "import torch.nn.functional as F\n",
    "from einops import rearrange\n",
    "\n",
    "\n",
    "class StateEncoder(nn.Module):\n",
    "    def __init__(self, n_embed):\n",
    "        super(StateEncoder, self).__init__()\n",
    "        self.n_embed = n_embed\n",
    "        # input has shape 56 x 56 x 3\n",
    "        # output has shape 1 x 1 x 512\n",
    "        self.conv1 = nn.Conv2d(3, 32, 8, stride=4, padding=0) # 56 -> 13\n",
    "        self.conv2 = nn.Conv2d(32, 64, 4, stride=2, padding=0) # 13 -> 5\n",
    "        self.conv3 = nn.Conv2d(64, 64, 3, stride=1, padding=0) # 5 -> 3\n",
    "        self.flatten = nn.Flatten()\n",
    "        self.fc = nn.Linear(576, n_embed)\n",
    "\n",
    "    def forward(self, x):\n",
    "        x = F.relu(self.conv1(x))\n",
    "        x = F.relu(self.conv2(x))\n",
    "        x = F.relu(self.conv3(x))\n",
    "        x = self.flatten(x)\n",
    "        x = self.fc(x)\n",
    "        x = F.relu(x)\n",
    "        return x\n",
    "\n",
    "# we will use the same CNN as in the original paper\n",
    "cnn = StateEncoder(64).to(\"cpu\")\n",
    "x = obs.unsqueeze(0).to(t.float32)\n",
    "x = rearrange(x, 'b h w c-> b c h w')\n",
    "cnn(x)"
   ]
  },
  {
   "attachments": {},
   "cell_type": "markdown",
   "metadata": {},
   "source": [
    "For reference: https://github.com/kzl/decision-transformer/blob/master/atari/mingpt/model_atari.py"
   ]
  },
  {
   "cell_type": "code",
   "execution_count": 296,
   "metadata": {},
   "outputs": [],
   "source": [
    "import torch as t \n",
    "import gymnasium as gym\n",
    "from minigrid.wrappers import RGBImgPartialObsWrapper, ImgObsWrapper\n",
    "\n",
    "env = gym.make('MiniGrid-Empty-8x8-v0')\n",
    "env = RGBImgPartialObsWrapper(env) # Get pixel observations\n",
    "env = ImgObsWrapper(env) # Get rid of the 'mission' field\n",
    "obs, _ = env.reset() # This now produces an RGB tensor only\n",
    "\n",
    "# take several actions, store the observations, actions, returns and timesteps\n",
    "all_obs = []\n",
    "all_actions = []\n",
    "all_returns = []\n",
    "all_timesteps = []\n",
    "\n",
    "\n",
    "for i in range(10):\n",
    "    action = env.action_space.sample()\n",
    "    obs, reward, terminated, truncated, info = env.step(action)\n",
    "    all_obs.append(obs)\n",
    "    all_actions.append(action)\n",
    "    all_returns.append(reward)\n",
    "    all_timesteps.append(i)\n",
    "\n",
    "# convert to tensors.unsqueeze(0)\n",
    "all_obs = t.tensor(all_obs).to(t.float32).unsqueeze(0)\n",
    "all_actions = t.tensor(all_actions).reshape(-1, 1).unsqueeze(0)\n",
    "all_returns = t.randn((10, 1))\n",
    "all_returns_to_go = all_returns.flip(0).cumsum(0).flip(0).reshape(-1, 1).unsqueeze(0)\n",
    "all_timesteps = t.tensor(all_timesteps).reshape(-1, 1).unsqueeze(0)\n"
   ]
  },
  {
   "attachments": {},
   "cell_type": "markdown",
   "metadata": {},
   "source": [
    "# Train a decision transformer on minigrid\n",
    "\n",
    "I thought it might be easy to sample trajectories from a random agent on minigrid and train on these. \n",
    "\n",
    "The problem with this approach is that it's just massively too slow. We code that does parallelized environments and agents which sample from \"solution trajectories\" more often than random agents."
   ]
  },
  {
   "cell_type": "code",
   "execution_count": 307,
   "metadata": {},
   "outputs": [
    {
     "name": "stderr",
     "output_type": "stream",
     "text": [
      "/var/folders/qd/04zj2h4n2pvc87x_7w1z97_r0000gn/T/ipykernel_66398/3137470864.py:68: VisibleDeprecationWarning:\n",
      "\n",
      "Creating an ndarray from ragged nested sequences (which is a list-or-tuple of lists-or-tuples-or ndarrays with different lengths or shapes) is deprecated. If you meant to do this, you must specify 'dtype=object' when creating the ndarray.\n",
      "\n",
      "/var/folders/qd/04zj2h4n2pvc87x_7w1z97_r0000gn/T/ipykernel_66398/3137470864.py:69: VisibleDeprecationWarning:\n",
      "\n",
      "Creating an ndarray from ragged nested sequences (which is a list-or-tuple of lists-or-tuples-or ndarrays with different lengths or shapes) is deprecated. If you meant to do this, you must specify 'dtype=object' when creating the ndarray.\n",
      "\n",
      "/var/folders/qd/04zj2h4n2pvc87x_7w1z97_r0000gn/T/ipykernel_66398/3137470864.py:70: VisibleDeprecationWarning:\n",
      "\n",
      "Creating an ndarray from ragged nested sequences (which is a list-or-tuple of lists-or-tuples-or ndarrays with different lengths or shapes) is deprecated. If you meant to do this, you must specify 'dtype=object' when creating the ndarray.\n",
      "\n"
     ]
    }
   ],
   "source": [
    "import numpy as np \n",
    "from typing import Union\n",
    "ActType = Union[int, np.ndarray]\n",
    "\n",
    "class Agent:\n",
    "    '''Base class for agents in a multi-armed bandit environment (you do not need to add any implementation here)'''\n",
    "\n",
    "    rng: np.random.Generator\n",
    "\n",
    "    def __init__(self, num_arms: int, seed: int):\n",
    "        self.num_arms = num_arms\n",
    "        self.reset(seed)\n",
    "\n",
    "    def get_action(self) -> ActType:\n",
    "        raise NotImplementedError()\n",
    "\n",
    "    def observe(self, action: ActType, reward: float, info: dict) -> None:\n",
    "        pass\n",
    "\n",
    "    def reset(self, seed: int) -> None:\n",
    "        self.rng = np.random.default_rng(seed)\n",
    "\n",
    "class RandomAgent(Agent):\n",
    "    def __init__(self, env):\n",
    "        self.env = env\n",
    "    def get_action(self):\n",
    "        return self.env.action_space.sample()\n",
    "\n",
    "def run_episode(env: gym.Env, agent: Agent, seed: int):\n",
    "    rewards = []\n",
    "    actions = []\n",
    "    states = []\n",
    "    env.reset(seed=seed)\n",
    "    agent.reset(seed=seed)\n",
    "    done = False\n",
    "    truncated = False\n",
    "    while ((not done) and (not truncated)):\n",
    "        arm = agent.get_action()\n",
    "        actions.append(arm)\n",
    "        (obs, reward, done, truncated, info) = env.step(arm)\n",
    "        agent.observe(arm, reward, info)\n",
    "        states.append(obs)\n",
    "        rewards.append(reward)\n",
    "    rewards = np.array(rewards, dtype=float)\n",
    "    actions = np.array(actions, dtype=int)\n",
    "\n",
    "    return rewards, np.array(states), actions\n",
    "\n",
    "env = gym.make('MiniGrid-Empty-5x5-v0')\n",
    "env = RGBImgPartialObsWrapper(env) # Get pixel observations\n",
    "env = ImgObsWrapper(env) # Get rid of the 'mission' field\n",
    "# add a truncation wrapper\n",
    "agent = RandomAgent(env)\n",
    "\n",
    "reward_trajs = []\n",
    "states_trajs = []\n",
    "actions_trajs = []\n",
    "for event in range(100):\n",
    "    reward_traj, states_traj, actions_traj = run_episode(env, agent, seed=i)\n",
    "    reward_trajs.append(reward_traj)\n",
    "    states_trajs.append(states_traj)\n",
    "    actions_trajs.append(actions_traj)\n",
    "\n",
    "# gym.vector.SyncVectorEnv(\n",
    "#     env_fns=[lambda: gym.make('MiniGrid-Empty-5x5-v0') for _ in range(10)],\n",
    "# )\n",
    "\n",
    "reward_trajs = np.array(reward_trajs)\n",
    "states_trajs = np.array(states_trajs)\n",
    "actions_trajs = np.array(actions_trajs)\n"
   ]
  },
  {
   "cell_type": "code",
   "execution_count": 308,
   "metadata": {},
   "outputs": [
    {
     "data": {
      "application/vnd.plotly.v1+json": {
       "config": {
        "plotlyServerURL": "https://plot.ly"
       },
       "data": [
        {
         "alignmentgroup": "True",
         "bingroup": "x",
         "hovertemplate": "variable=0<br>value=%{x}<br>count=%{y}<extra></extra>",
         "legendgroup": "0",
         "marker": {
          "color": "#636efa",
          "pattern": {
           "shape": ""
          }
         },
         "name": "0",
         "offsetgroup": "0",
         "orientation": "v",
         "showlegend": true,
         "type": "histogram",
         "x": [
          100,
          78,
          63,
          14,
          41,
          21,
          100,
          70,
          39,
          100,
          100,
          100,
          52,
          100,
          100,
          100,
          81,
          100,
          100,
          100,
          25,
          76,
          100,
          26,
          100,
          100,
          37,
          100,
          15,
          100,
          44,
          94,
          85,
          100,
          75,
          61,
          100,
          100,
          100,
          100,
          34,
          100,
          100,
          100,
          90,
          100,
          100,
          100,
          100,
          100,
          100,
          43,
          60,
          100,
          87,
          100,
          100,
          100,
          100,
          100,
          49,
          100,
          100,
          100,
          92,
          71,
          40,
          68,
          100,
          5,
          100,
          100,
          100,
          100,
          100,
          100,
          100,
          100,
          100,
          56,
          33,
          100,
          100,
          100,
          20,
          96,
          86,
          33,
          55,
          100,
          48,
          100,
          100,
          100,
          26,
          100,
          100,
          99,
          100,
          100
         ],
         "xaxis": "x",
         "yaxis": "y"
        }
       ],
       "layout": {
        "barmode": "relative",
        "legend": {
         "title": {
          "text": "variable"
         },
         "tracegroupgap": 0
        },
        "margin": {
         "t": 60
        },
        "template": {
         "data": {
          "bar": [
           {
            "error_x": {
             "color": "#2a3f5f"
            },
            "error_y": {
             "color": "#2a3f5f"
            },
            "marker": {
             "line": {
              "color": "#E5ECF6",
              "width": 0.5
             },
             "pattern": {
              "fillmode": "overlay",
              "size": 10,
              "solidity": 0.2
             }
            },
            "type": "bar"
           }
          ],
          "barpolar": [
           {
            "marker": {
             "line": {
              "color": "#E5ECF6",
              "width": 0.5
             },
             "pattern": {
              "fillmode": "overlay",
              "size": 10,
              "solidity": 0.2
             }
            },
            "type": "barpolar"
           }
          ],
          "carpet": [
           {
            "aaxis": {
             "endlinecolor": "#2a3f5f",
             "gridcolor": "white",
             "linecolor": "white",
             "minorgridcolor": "white",
             "startlinecolor": "#2a3f5f"
            },
            "baxis": {
             "endlinecolor": "#2a3f5f",
             "gridcolor": "white",
             "linecolor": "white",
             "minorgridcolor": "white",
             "startlinecolor": "#2a3f5f"
            },
            "type": "carpet"
           }
          ],
          "choropleth": [
           {
            "colorbar": {
             "outlinewidth": 0,
             "ticks": ""
            },
            "type": "choropleth"
           }
          ],
          "contour": [
           {
            "colorbar": {
             "outlinewidth": 0,
             "ticks": ""
            },
            "colorscale": [
             [
              0,
              "#0d0887"
             ],
             [
              0.1111111111111111,
              "#46039f"
             ],
             [
              0.2222222222222222,
              "#7201a8"
             ],
             [
              0.3333333333333333,
              "#9c179e"
             ],
             [
              0.4444444444444444,
              "#bd3786"
             ],
             [
              0.5555555555555556,
              "#d8576b"
             ],
             [
              0.6666666666666666,
              "#ed7953"
             ],
             [
              0.7777777777777778,
              "#fb9f3a"
             ],
             [
              0.8888888888888888,
              "#fdca26"
             ],
             [
              1,
              "#f0f921"
             ]
            ],
            "type": "contour"
           }
          ],
          "contourcarpet": [
           {
            "colorbar": {
             "outlinewidth": 0,
             "ticks": ""
            },
            "type": "contourcarpet"
           }
          ],
          "heatmap": [
           {
            "colorbar": {
             "outlinewidth": 0,
             "ticks": ""
            },
            "colorscale": [
             [
              0,
              "#0d0887"
             ],
             [
              0.1111111111111111,
              "#46039f"
             ],
             [
              0.2222222222222222,
              "#7201a8"
             ],
             [
              0.3333333333333333,
              "#9c179e"
             ],
             [
              0.4444444444444444,
              "#bd3786"
             ],
             [
              0.5555555555555556,
              "#d8576b"
             ],
             [
              0.6666666666666666,
              "#ed7953"
             ],
             [
              0.7777777777777778,
              "#fb9f3a"
             ],
             [
              0.8888888888888888,
              "#fdca26"
             ],
             [
              1,
              "#f0f921"
             ]
            ],
            "type": "heatmap"
           }
          ],
          "heatmapgl": [
           {
            "colorbar": {
             "outlinewidth": 0,
             "ticks": ""
            },
            "colorscale": [
             [
              0,
              "#0d0887"
             ],
             [
              0.1111111111111111,
              "#46039f"
             ],
             [
              0.2222222222222222,
              "#7201a8"
             ],
             [
              0.3333333333333333,
              "#9c179e"
             ],
             [
              0.4444444444444444,
              "#bd3786"
             ],
             [
              0.5555555555555556,
              "#d8576b"
             ],
             [
              0.6666666666666666,
              "#ed7953"
             ],
             [
              0.7777777777777778,
              "#fb9f3a"
             ],
             [
              0.8888888888888888,
              "#fdca26"
             ],
             [
              1,
              "#f0f921"
             ]
            ],
            "type": "heatmapgl"
           }
          ],
          "histogram": [
           {
            "marker": {
             "pattern": {
              "fillmode": "overlay",
              "size": 10,
              "solidity": 0.2
             }
            },
            "type": "histogram"
           }
          ],
          "histogram2d": [
           {
            "colorbar": {
             "outlinewidth": 0,
             "ticks": ""
            },
            "colorscale": [
             [
              0,
              "#0d0887"
             ],
             [
              0.1111111111111111,
              "#46039f"
             ],
             [
              0.2222222222222222,
              "#7201a8"
             ],
             [
              0.3333333333333333,
              "#9c179e"
             ],
             [
              0.4444444444444444,
              "#bd3786"
             ],
             [
              0.5555555555555556,
              "#d8576b"
             ],
             [
              0.6666666666666666,
              "#ed7953"
             ],
             [
              0.7777777777777778,
              "#fb9f3a"
             ],
             [
              0.8888888888888888,
              "#fdca26"
             ],
             [
              1,
              "#f0f921"
             ]
            ],
            "type": "histogram2d"
           }
          ],
          "histogram2dcontour": [
           {
            "colorbar": {
             "outlinewidth": 0,
             "ticks": ""
            },
            "colorscale": [
             [
              0,
              "#0d0887"
             ],
             [
              0.1111111111111111,
              "#46039f"
             ],
             [
              0.2222222222222222,
              "#7201a8"
             ],
             [
              0.3333333333333333,
              "#9c179e"
             ],
             [
              0.4444444444444444,
              "#bd3786"
             ],
             [
              0.5555555555555556,
              "#d8576b"
             ],
             [
              0.6666666666666666,
              "#ed7953"
             ],
             [
              0.7777777777777778,
              "#fb9f3a"
             ],
             [
              0.8888888888888888,
              "#fdca26"
             ],
             [
              1,
              "#f0f921"
             ]
            ],
            "type": "histogram2dcontour"
           }
          ],
          "mesh3d": [
           {
            "colorbar": {
             "outlinewidth": 0,
             "ticks": ""
            },
            "type": "mesh3d"
           }
          ],
          "parcoords": [
           {
            "line": {
             "colorbar": {
              "outlinewidth": 0,
              "ticks": ""
             }
            },
            "type": "parcoords"
           }
          ],
          "pie": [
           {
            "automargin": true,
            "type": "pie"
           }
          ],
          "scatter": [
           {
            "fillpattern": {
             "fillmode": "overlay",
             "size": 10,
             "solidity": 0.2
            },
            "type": "scatter"
           }
          ],
          "scatter3d": [
           {
            "line": {
             "colorbar": {
              "outlinewidth": 0,
              "ticks": ""
             }
            },
            "marker": {
             "colorbar": {
              "outlinewidth": 0,
              "ticks": ""
             }
            },
            "type": "scatter3d"
           }
          ],
          "scattercarpet": [
           {
            "marker": {
             "colorbar": {
              "outlinewidth": 0,
              "ticks": ""
             }
            },
            "type": "scattercarpet"
           }
          ],
          "scattergeo": [
           {
            "marker": {
             "colorbar": {
              "outlinewidth": 0,
              "ticks": ""
             }
            },
            "type": "scattergeo"
           }
          ],
          "scattergl": [
           {
            "marker": {
             "colorbar": {
              "outlinewidth": 0,
              "ticks": ""
             }
            },
            "type": "scattergl"
           }
          ],
          "scattermapbox": [
           {
            "marker": {
             "colorbar": {
              "outlinewidth": 0,
              "ticks": ""
             }
            },
            "type": "scattermapbox"
           }
          ],
          "scatterpolar": [
           {
            "marker": {
             "colorbar": {
              "outlinewidth": 0,
              "ticks": ""
             }
            },
            "type": "scatterpolar"
           }
          ],
          "scatterpolargl": [
           {
            "marker": {
             "colorbar": {
              "outlinewidth": 0,
              "ticks": ""
             }
            },
            "type": "scatterpolargl"
           }
          ],
          "scatterternary": [
           {
            "marker": {
             "colorbar": {
              "outlinewidth": 0,
              "ticks": ""
             }
            },
            "type": "scatterternary"
           }
          ],
          "surface": [
           {
            "colorbar": {
             "outlinewidth": 0,
             "ticks": ""
            },
            "colorscale": [
             [
              0,
              "#0d0887"
             ],
             [
              0.1111111111111111,
              "#46039f"
             ],
             [
              0.2222222222222222,
              "#7201a8"
             ],
             [
              0.3333333333333333,
              "#9c179e"
             ],
             [
              0.4444444444444444,
              "#bd3786"
             ],
             [
              0.5555555555555556,
              "#d8576b"
             ],
             [
              0.6666666666666666,
              "#ed7953"
             ],
             [
              0.7777777777777778,
              "#fb9f3a"
             ],
             [
              0.8888888888888888,
              "#fdca26"
             ],
             [
              1,
              "#f0f921"
             ]
            ],
            "type": "surface"
           }
          ],
          "table": [
           {
            "cells": {
             "fill": {
              "color": "#EBF0F8"
             },
             "line": {
              "color": "white"
             }
            },
            "header": {
             "fill": {
              "color": "#C8D4E3"
             },
             "line": {
              "color": "white"
             }
            },
            "type": "table"
           }
          ]
         },
         "layout": {
          "annotationdefaults": {
           "arrowcolor": "#2a3f5f",
           "arrowhead": 0,
           "arrowwidth": 1
          },
          "autotypenumbers": "strict",
          "coloraxis": {
           "colorbar": {
            "outlinewidth": 0,
            "ticks": ""
           }
          },
          "colorscale": {
           "diverging": [
            [
             0,
             "#8e0152"
            ],
            [
             0.1,
             "#c51b7d"
            ],
            [
             0.2,
             "#de77ae"
            ],
            [
             0.3,
             "#f1b6da"
            ],
            [
             0.4,
             "#fde0ef"
            ],
            [
             0.5,
             "#f7f7f7"
            ],
            [
             0.6,
             "#e6f5d0"
            ],
            [
             0.7,
             "#b8e186"
            ],
            [
             0.8,
             "#7fbc41"
            ],
            [
             0.9,
             "#4d9221"
            ],
            [
             1,
             "#276419"
            ]
           ],
           "sequential": [
            [
             0,
             "#0d0887"
            ],
            [
             0.1111111111111111,
             "#46039f"
            ],
            [
             0.2222222222222222,
             "#7201a8"
            ],
            [
             0.3333333333333333,
             "#9c179e"
            ],
            [
             0.4444444444444444,
             "#bd3786"
            ],
            [
             0.5555555555555556,
             "#d8576b"
            ],
            [
             0.6666666666666666,
             "#ed7953"
            ],
            [
             0.7777777777777778,
             "#fb9f3a"
            ],
            [
             0.8888888888888888,
             "#fdca26"
            ],
            [
             1,
             "#f0f921"
            ]
           ],
           "sequentialminus": [
            [
             0,
             "#0d0887"
            ],
            [
             0.1111111111111111,
             "#46039f"
            ],
            [
             0.2222222222222222,
             "#7201a8"
            ],
            [
             0.3333333333333333,
             "#9c179e"
            ],
            [
             0.4444444444444444,
             "#bd3786"
            ],
            [
             0.5555555555555556,
             "#d8576b"
            ],
            [
             0.6666666666666666,
             "#ed7953"
            ],
            [
             0.7777777777777778,
             "#fb9f3a"
            ],
            [
             0.8888888888888888,
             "#fdca26"
            ],
            [
             1,
             "#f0f921"
            ]
           ]
          },
          "colorway": [
           "#636efa",
           "#EF553B",
           "#00cc96",
           "#ab63fa",
           "#FFA15A",
           "#19d3f3",
           "#FF6692",
           "#B6E880",
           "#FF97FF",
           "#FECB52"
          ],
          "font": {
           "color": "#2a3f5f"
          },
          "geo": {
           "bgcolor": "white",
           "lakecolor": "white",
           "landcolor": "#E5ECF6",
           "showlakes": true,
           "showland": true,
           "subunitcolor": "white"
          },
          "hoverlabel": {
           "align": "left"
          },
          "hovermode": "closest",
          "mapbox": {
           "style": "light"
          },
          "paper_bgcolor": "white",
          "plot_bgcolor": "#E5ECF6",
          "polar": {
           "angularaxis": {
            "gridcolor": "white",
            "linecolor": "white",
            "ticks": ""
           },
           "bgcolor": "#E5ECF6",
           "radialaxis": {
            "gridcolor": "white",
            "linecolor": "white",
            "ticks": ""
           }
          },
          "scene": {
           "xaxis": {
            "backgroundcolor": "#E5ECF6",
            "gridcolor": "white",
            "gridwidth": 2,
            "linecolor": "white",
            "showbackground": true,
            "ticks": "",
            "zerolinecolor": "white"
           },
           "yaxis": {
            "backgroundcolor": "#E5ECF6",
            "gridcolor": "white",
            "gridwidth": 2,
            "linecolor": "white",
            "showbackground": true,
            "ticks": "",
            "zerolinecolor": "white"
           },
           "zaxis": {
            "backgroundcolor": "#E5ECF6",
            "gridcolor": "white",
            "gridwidth": 2,
            "linecolor": "white",
            "showbackground": true,
            "ticks": "",
            "zerolinecolor": "white"
           }
          },
          "shapedefaults": {
           "line": {
            "color": "#2a3f5f"
           }
          },
          "ternary": {
           "aaxis": {
            "gridcolor": "white",
            "linecolor": "white",
            "ticks": ""
           },
           "baxis": {
            "gridcolor": "white",
            "linecolor": "white",
            "ticks": ""
           },
           "bgcolor": "#E5ECF6",
           "caxis": {
            "gridcolor": "white",
            "linecolor": "white",
            "ticks": ""
           }
          },
          "title": {
           "x": 0.05
          },
          "xaxis": {
           "automargin": true,
           "gridcolor": "white",
           "linecolor": "white",
           "ticks": "",
           "title": {
            "standoff": 15
           },
           "zerolinecolor": "white",
           "zerolinewidth": 2
          },
          "yaxis": {
           "automargin": true,
           "gridcolor": "white",
           "linecolor": "white",
           "ticks": "",
           "title": {
            "standoff": 15
           },
           "zerolinecolor": "white",
           "zerolinewidth": 2
          }
         }
        },
        "xaxis": {
         "anchor": "y",
         "domain": [
          0,
          1
         ],
         "title": {
          "text": "value"
         }
        },
        "yaxis": {
         "anchor": "x",
         "domain": [
          0,
          1
         ],
         "title": {
          "text": "count"
         }
        }
       }
      }
     },
     "metadata": {},
     "output_type": "display_data"
    }
   ],
   "source": [
    "import plotly.express as px \n",
    "lengths = [len(traj) for traj in reward_trajs]\n",
    "px.histogram(lengths)"
   ]
  },
  {
   "cell_type": "code",
   "execution_count": 311,
   "metadata": {},
   "outputs": [
    {
     "ename": "IndexError",
     "evalue": "index out of range in self",
     "output_type": "error",
     "traceback": [
      "\u001b[0;31m---------------------------------------------------------------------------\u001b[0m",
      "\u001b[0;31mIndexError\u001b[0m                                Traceback (most recent call last)",
      "Cell \u001b[0;32mIn[311], line 15\u001b[0m\n\u001b[1;32m     11\u001b[0m rtg \u001b[39m=\u001b[39m np\u001b[39m.\u001b[39mflip(reward_traj)\u001b[39m.\u001b[39mcumsum(\u001b[39m0\u001b[39m)\n\u001b[1;32m     13\u001b[0m decision_transformer \u001b[39m=\u001b[39m DecisionTransformer(env, max_game_length\u001b[39m=\u001b[39m \u001b[39m10\u001b[39m\u001b[39m*\u001b[39m\u001b[39m5\u001b[39m)\n\u001b[0;32m---> 15\u001b[0m logits, _ \u001b[39m=\u001b[39m decision_transformer(\n\u001b[1;32m     16\u001b[0m     states \u001b[39m=\u001b[39;49m t\u001b[39m.\u001b[39;49mtensor(states_traj)\u001b[39m.\u001b[39;49mto(t\u001b[39m.\u001b[39;49mfloat32)\u001b[39m.\u001b[39;49munsqueeze(\u001b[39m0\u001b[39;49m),\n\u001b[1;32m     17\u001b[0m     actions \u001b[39m=\u001b[39;49m t\u001b[39m.\u001b[39;49mtensor(actions_traj)\u001b[39m.\u001b[39;49munsqueeze(\u001b[39m0\u001b[39;49m)\u001b[39m.\u001b[39;49munsqueeze(\u001b[39m-\u001b[39;49m\u001b[39m1\u001b[39;49m),\n\u001b[1;32m     18\u001b[0m     rtgs \u001b[39m=\u001b[39;49m t\u001b[39m.\u001b[39;49mtensor(rtg)\u001b[39m.\u001b[39;49munsqueeze(\u001b[39m0\u001b[39;49m)\u001b[39m.\u001b[39;49munsqueeze(\u001b[39m-\u001b[39;49m\u001b[39m1\u001b[39;49m),\n\u001b[1;32m     19\u001b[0m     timesteps \u001b[39m=\u001b[39;49m t\u001b[39m.\u001b[39;49mtensor(np\u001b[39m.\u001b[39;49marange(\u001b[39mlen\u001b[39;49m(reward_traj)))\u001b[39m.\u001b[39;49munsqueeze(\u001b[39m0\u001b[39;49m)\u001b[39m.\u001b[39;49munsqueeze(\u001b[39m-\u001b[39;49m\u001b[39m1\u001b[39;49m)\n\u001b[1;32m     20\u001b[0m )\n",
      "File \u001b[0;32m~/miniforge3/envs/decision_transformer_interpretability/lib/python3.9/site-packages/torch/nn/modules/module.py:1194\u001b[0m, in \u001b[0;36mModule._call_impl\u001b[0;34m(self, *input, **kwargs)\u001b[0m\n\u001b[1;32m   1190\u001b[0m \u001b[39m# If we don't have any hooks, we want to skip the rest of the logic in\u001b[39;00m\n\u001b[1;32m   1191\u001b[0m \u001b[39m# this function, and just call forward.\u001b[39;00m\n\u001b[1;32m   1192\u001b[0m \u001b[39mif\u001b[39;00m \u001b[39mnot\u001b[39;00m (\u001b[39mself\u001b[39m\u001b[39m.\u001b[39m_backward_hooks \u001b[39mor\u001b[39;00m \u001b[39mself\u001b[39m\u001b[39m.\u001b[39m_forward_hooks \u001b[39mor\u001b[39;00m \u001b[39mself\u001b[39m\u001b[39m.\u001b[39m_forward_pre_hooks \u001b[39mor\u001b[39;00m _global_backward_hooks\n\u001b[1;32m   1193\u001b[0m         \u001b[39mor\u001b[39;00m _global_forward_hooks \u001b[39mor\u001b[39;00m _global_forward_pre_hooks):\n\u001b[0;32m-> 1194\u001b[0m     \u001b[39mreturn\u001b[39;00m forward_call(\u001b[39m*\u001b[39;49m\u001b[39minput\u001b[39;49m, \u001b[39m*\u001b[39;49m\u001b[39m*\u001b[39;49mkwargs)\n\u001b[1;32m   1195\u001b[0m \u001b[39m# Do not call functions when jit is used\u001b[39;00m\n\u001b[1;32m   1196\u001b[0m full_backward_hooks, non_full_backward_hooks \u001b[39m=\u001b[39m [], []\n",
      "File \u001b[0;32m~/GithubRepositories/DecisionTransformerInterpretability/src/decision_transformer.py:118\u001b[0m, in \u001b[0;36mDecisionTransformer.forward\u001b[0;34m(self, states, actions, targets, rtgs, timesteps)\u001b[0m\n\u001b[1;32m    116\u001b[0m action_embeddings \u001b[39m=\u001b[39m \u001b[39mself\u001b[39m\u001b[39m.\u001b[39mget_action_embeddings(actions) \u001b[39mif\u001b[39;00m actions \u001b[39mis\u001b[39;00m \u001b[39mnot\u001b[39;00m \u001b[39mNone\u001b[39;00m \u001b[39melse\u001b[39;00m \u001b[39mNone\u001b[39;00m \u001b[39m# batch_size, block_size, n_embd or None\u001b[39;00m\n\u001b[1;32m    117\u001b[0m reward_embeddings \u001b[39m=\u001b[39m \u001b[39mself\u001b[39m\u001b[39m.\u001b[39mget_reward_embeddings(rtgs) \u001b[39m# batch_size, block_size, n_embd\u001b[39;00m\n\u001b[0;32m--> 118\u001b[0m time_embeddings \u001b[39m=\u001b[39m \u001b[39mself\u001b[39;49m\u001b[39m.\u001b[39;49mget_time_embeddings(timesteps) \u001b[39m# batch_size, block_size, n_embd\u001b[39;00m\n\u001b[1;32m    120\u001b[0m \u001b[39m# use state_embeddings, actions, rewards to go and \u001b[39;00m\n\u001b[1;32m    121\u001b[0m token_embeddings \u001b[39m=\u001b[39m \u001b[39mself\u001b[39m\u001b[39m.\u001b[39mget_token_embeddings(\n\u001b[1;32m    122\u001b[0m     state_embeddings \u001b[39m=\u001b[39m state_embeddings, \n\u001b[1;32m    123\u001b[0m     action_embeddings \u001b[39m=\u001b[39m action_embeddings,\n\u001b[1;32m    124\u001b[0m     reward_embeddings \u001b[39m=\u001b[39m reward_embeddings,\n\u001b[1;32m    125\u001b[0m     time_embeddings \u001b[39m=\u001b[39m time_embeddings\n\u001b[1;32m    126\u001b[0m )\n",
      "File \u001b[0;32m~/GithubRepositories/DecisionTransformerInterpretability/src/decision_transformer.py:162\u001b[0m, in \u001b[0;36mDecisionTransformer.get_time_embeddings\u001b[0;34m(self, timesteps)\u001b[0m\n\u001b[1;32m    160\u001b[0m block_size \u001b[39m=\u001b[39m timesteps\u001b[39m.\u001b[39mshape[\u001b[39m1\u001b[39m]\n\u001b[1;32m    161\u001b[0m timesteps \u001b[39m=\u001b[39m rearrange(timesteps, \u001b[39m'\u001b[39m\u001b[39mbatch block time-> (batch block) time\u001b[39m\u001b[39m'\u001b[39m)\n\u001b[0;32m--> 162\u001b[0m time_embeddings \u001b[39m=\u001b[39m \u001b[39mself\u001b[39;49m\u001b[39m.\u001b[39;49mtime_embedding(timesteps)\u001b[39m.\u001b[39msqueeze(\u001b[39m-\u001b[39m\u001b[39m2\u001b[39m)\n\u001b[1;32m    163\u001b[0m time_embeddings \u001b[39m=\u001b[39m rearrange(time_embeddings, \u001b[39m'\u001b[39m\u001b[39m(batch block) n_embd -> batch block n_embd\u001b[39m\u001b[39m'\u001b[39m, block\u001b[39m=\u001b[39mblock_size)\n\u001b[1;32m    164\u001b[0m \u001b[39mreturn\u001b[39;00m time_embeddings\n",
      "File \u001b[0;32m~/miniforge3/envs/decision_transformer_interpretability/lib/python3.9/site-packages/torch/nn/modules/module.py:1194\u001b[0m, in \u001b[0;36mModule._call_impl\u001b[0;34m(self, *input, **kwargs)\u001b[0m\n\u001b[1;32m   1190\u001b[0m \u001b[39m# If we don't have any hooks, we want to skip the rest of the logic in\u001b[39;00m\n\u001b[1;32m   1191\u001b[0m \u001b[39m# this function, and just call forward.\u001b[39;00m\n\u001b[1;32m   1192\u001b[0m \u001b[39mif\u001b[39;00m \u001b[39mnot\u001b[39;00m (\u001b[39mself\u001b[39m\u001b[39m.\u001b[39m_backward_hooks \u001b[39mor\u001b[39;00m \u001b[39mself\u001b[39m\u001b[39m.\u001b[39m_forward_hooks \u001b[39mor\u001b[39;00m \u001b[39mself\u001b[39m\u001b[39m.\u001b[39m_forward_pre_hooks \u001b[39mor\u001b[39;00m _global_backward_hooks\n\u001b[1;32m   1193\u001b[0m         \u001b[39mor\u001b[39;00m _global_forward_hooks \u001b[39mor\u001b[39;00m _global_forward_pre_hooks):\n\u001b[0;32m-> 1194\u001b[0m     \u001b[39mreturn\u001b[39;00m forward_call(\u001b[39m*\u001b[39;49m\u001b[39minput\u001b[39;49m, \u001b[39m*\u001b[39;49m\u001b[39m*\u001b[39;49mkwargs)\n\u001b[1;32m   1195\u001b[0m \u001b[39m# Do not call functions when jit is used\u001b[39;00m\n\u001b[1;32m   1196\u001b[0m full_backward_hooks, non_full_backward_hooks \u001b[39m=\u001b[39m [], []\n",
      "File \u001b[0;32m~/miniforge3/envs/decision_transformer_interpretability/lib/python3.9/site-packages/torch/nn/modules/sparse.py:160\u001b[0m, in \u001b[0;36mEmbedding.forward\u001b[0;34m(self, input)\u001b[0m\n\u001b[1;32m    159\u001b[0m \u001b[39mdef\u001b[39;00m \u001b[39mforward\u001b[39m(\u001b[39mself\u001b[39m, \u001b[39minput\u001b[39m: Tensor) \u001b[39m-\u001b[39m\u001b[39m>\u001b[39m Tensor:\n\u001b[0;32m--> 160\u001b[0m     \u001b[39mreturn\u001b[39;00m F\u001b[39m.\u001b[39;49membedding(\n\u001b[1;32m    161\u001b[0m         \u001b[39minput\u001b[39;49m, \u001b[39mself\u001b[39;49m\u001b[39m.\u001b[39;49mweight, \u001b[39mself\u001b[39;49m\u001b[39m.\u001b[39;49mpadding_idx, \u001b[39mself\u001b[39;49m\u001b[39m.\u001b[39;49mmax_norm,\n\u001b[1;32m    162\u001b[0m         \u001b[39mself\u001b[39;49m\u001b[39m.\u001b[39;49mnorm_type, \u001b[39mself\u001b[39;49m\u001b[39m.\u001b[39;49mscale_grad_by_freq, \u001b[39mself\u001b[39;49m\u001b[39m.\u001b[39;49msparse)\n",
      "File \u001b[0;32m~/miniforge3/envs/decision_transformer_interpretability/lib/python3.9/site-packages/torch/nn/functional.py:2210\u001b[0m, in \u001b[0;36membedding\u001b[0;34m(input, weight, padding_idx, max_norm, norm_type, scale_grad_by_freq, sparse)\u001b[0m\n\u001b[1;32m   2204\u001b[0m     \u001b[39m# Note [embedding_renorm set_grad_enabled]\u001b[39;00m\n\u001b[1;32m   2205\u001b[0m     \u001b[39m# XXX: equivalent to\u001b[39;00m\n\u001b[1;32m   2206\u001b[0m     \u001b[39m# with torch.no_grad():\u001b[39;00m\n\u001b[1;32m   2207\u001b[0m     \u001b[39m#   torch.embedding_renorm_\u001b[39;00m\n\u001b[1;32m   2208\u001b[0m     \u001b[39m# remove once script supports set_grad_enabled\u001b[39;00m\n\u001b[1;32m   2209\u001b[0m     _no_grad_embedding_renorm_(weight, \u001b[39minput\u001b[39m, max_norm, norm_type)\n\u001b[0;32m-> 2210\u001b[0m \u001b[39mreturn\u001b[39;00m torch\u001b[39m.\u001b[39;49membedding(weight, \u001b[39minput\u001b[39;49m, padding_idx, scale_grad_by_freq, sparse)\n",
      "\u001b[0;31mIndexError\u001b[0m: index out of range in self"
     ]
    }
   ],
   "source": [
    "# import decision transformer\n",
    "from src.decision_transformer import DecisionTransformer\n",
    "\n",
    "# let's try an example with a single trajectory\n",
    "reward_traj = reward_trajs[0]\n",
    "states_traj = states_trajs[0]\n",
    "actions_traj = actions_trajs[0]\n",
    "\n",
    "reward_traj\n",
    "\n",
    "rtg = np.flip(reward_traj).cumsum(0)\n",
    "\n",
    "decision_transformer = DecisionTransformer(env, max_game_length= 10*5)\n",
    "\n",
    "logits, _ = decision_transformer(\n",
    "    states = t.tensor(states_traj).to(t.float32).unsqueeze(0),\n",
    "    actions = t.tensor(actions_traj).unsqueeze(0).unsqueeze(-1),\n",
    "    rtgs = t.tensor(rtg).unsqueeze(0).unsqueeze(-1),\n",
    "    timesteps = t.tensor(np.arange(len(reward_traj))).unsqueeze(0).unsqueeze(-1)\n",
    ")"
   ]
  },
  {
   "attachments": {},
   "cell_type": "markdown",
   "metadata": {},
   "source": [
    "# See if I can load a replay buffer from D4RL\n",
    "\n",
    "The original paper appears to use loaded trajectories from d4rl. We can look at these trajectories, their format and structure for reference when storing our own trajectories"
   ]
  },
  {
   "cell_type": "code",
   "execution_count": 312,
   "metadata": {},
   "outputs": [
    {
     "ename": "NameNotFound",
     "evalue": "Environment maze2d-eval-medium doesn't exist. ",
     "output_type": "error",
     "traceback": [
      "\u001b[0;31m---------------------------------------------------------------------------\u001b[0m",
      "\u001b[0;31mNameNotFound\u001b[0m                              Traceback (most recent call last)",
      "Cell \u001b[0;32mIn[312], line 7\u001b[0m\n\u001b[1;32m      5\u001b[0m \u001b[39mfrom\u001b[39;00m \u001b[39mwarnings\u001b[39;00m \u001b[39mimport\u001b[39;00m simplefilter\n\u001b[1;32m      6\u001b[0m simplefilter(action\u001b[39m=\u001b[39m\u001b[39m'\u001b[39m\u001b[39mignore\u001b[39m\u001b[39m'\u001b[39m, category\u001b[39m=\u001b[39m\u001b[39mDeprecationWarning\u001b[39;00m)\n\u001b[0;32m----> 7\u001b[0m env \u001b[39m=\u001b[39m gym\u001b[39m.\u001b[39;49mmake(\u001b[39m'\u001b[39;49m\u001b[39mmaze2d-eval-medium-v1\u001b[39;49m\u001b[39m'\u001b[39;49m)\n\u001b[1;32m      8\u001b[0m \u001b[39m# _ = env.reset() # This now produces an RGB tensor only\u001b[39;00m\n\u001b[1;32m      9\u001b[0m env\u001b[39m.\u001b[39mget_dataset()\n",
      "File \u001b[0;32m~/miniforge3/envs/decision_transformer_interpretability/lib/python3.9/site-packages/gymnasium/envs/registration.py:591\u001b[0m, in \u001b[0;36mmake\u001b[0;34m(id, max_episode_steps, autoreset, apply_api_compatibility, disable_env_checker, **kwargs)\u001b[0m\n\u001b[1;32m    585\u001b[0m         logger\u001b[39m.\u001b[39mwarn(\n\u001b[1;32m    586\u001b[0m             \u001b[39mf\u001b[39m\u001b[39m\"\u001b[39m\u001b[39mUsing the latest versioned environment `\u001b[39m\u001b[39m{\u001b[39;00mnew_env_id\u001b[39m}\u001b[39;00m\u001b[39m` \u001b[39m\u001b[39m\"\u001b[39m\n\u001b[1;32m    587\u001b[0m             \u001b[39mf\u001b[39m\u001b[39m\"\u001b[39m\u001b[39minstead of the unversioned environment `\u001b[39m\u001b[39m{\u001b[39;00m\u001b[39mid\u001b[39m\u001b[39m}\u001b[39;00m\u001b[39m`.\u001b[39m\u001b[39m\"\u001b[39m\n\u001b[1;32m    588\u001b[0m         )\n\u001b[1;32m    590\u001b[0m     \u001b[39mif\u001b[39;00m spec_ \u001b[39mis\u001b[39;00m \u001b[39mNone\u001b[39;00m:\n\u001b[0;32m--> 591\u001b[0m         _check_version_exists(ns, name, version)\n\u001b[1;32m    592\u001b[0m         \u001b[39mraise\u001b[39;00m error\u001b[39m.\u001b[39mError(\u001b[39mf\u001b[39m\u001b[39m\"\u001b[39m\u001b[39mNo registered env with id: \u001b[39m\u001b[39m{\u001b[39;00m\u001b[39mid\u001b[39m\u001b[39m}\u001b[39;00m\u001b[39m\"\u001b[39m)\n\u001b[1;32m    594\u001b[0m _kwargs \u001b[39m=\u001b[39m spec_\u001b[39m.\u001b[39mkwargs\u001b[39m.\u001b[39mcopy()\n",
      "File \u001b[0;32m~/miniforge3/envs/decision_transformer_interpretability/lib/python3.9/site-packages/gymnasium/envs/registration.py:217\u001b[0m, in \u001b[0;36m_check_version_exists\u001b[0;34m(ns, name, version)\u001b[0m\n\u001b[1;32m    214\u001b[0m \u001b[39mif\u001b[39;00m get_env_id(ns, name, version) \u001b[39min\u001b[39;00m registry:\n\u001b[1;32m    215\u001b[0m     \u001b[39mreturn\u001b[39;00m\n\u001b[0;32m--> 217\u001b[0m _check_name_exists(ns, name)\n\u001b[1;32m    218\u001b[0m \u001b[39mif\u001b[39;00m version \u001b[39mis\u001b[39;00m \u001b[39mNone\u001b[39;00m:\n\u001b[1;32m    219\u001b[0m     \u001b[39mreturn\u001b[39;00m\n",
      "File \u001b[0;32m~/miniforge3/envs/decision_transformer_interpretability/lib/python3.9/site-packages/gymnasium/envs/registration.py:194\u001b[0m, in \u001b[0;36m_check_name_exists\u001b[0;34m(ns, name)\u001b[0m\n\u001b[1;32m    191\u001b[0m namespace_msg \u001b[39m=\u001b[39m \u001b[39mf\u001b[39m\u001b[39m\"\u001b[39m\u001b[39m in namespace \u001b[39m\u001b[39m{\u001b[39;00mns\u001b[39m}\u001b[39;00m\u001b[39m\"\u001b[39m \u001b[39mif\u001b[39;00m ns \u001b[39melse\u001b[39;00m \u001b[39m\"\u001b[39m\u001b[39m\"\u001b[39m\n\u001b[1;32m    192\u001b[0m suggestion_msg \u001b[39m=\u001b[39m \u001b[39mf\u001b[39m\u001b[39m\"\u001b[39m\u001b[39mDid you mean: `\u001b[39m\u001b[39m{\u001b[39;00msuggestion[\u001b[39m0\u001b[39m]\u001b[39m}\u001b[39;00m\u001b[39m`?\u001b[39m\u001b[39m\"\u001b[39m \u001b[39mif\u001b[39;00m suggestion \u001b[39melse\u001b[39;00m \u001b[39m\"\u001b[39m\u001b[39m\"\u001b[39m\n\u001b[0;32m--> 194\u001b[0m \u001b[39mraise\u001b[39;00m error\u001b[39m.\u001b[39mNameNotFound(\n\u001b[1;32m    195\u001b[0m     \u001b[39mf\u001b[39m\u001b[39m\"\u001b[39m\u001b[39mEnvironment \u001b[39m\u001b[39m{\u001b[39;00mname\u001b[39m}\u001b[39;00m\u001b[39m doesn\u001b[39m\u001b[39m'\u001b[39m\u001b[39mt exist\u001b[39m\u001b[39m{\u001b[39;00mnamespace_msg\u001b[39m}\u001b[39;00m\u001b[39m. \u001b[39m\u001b[39m{\u001b[39;00msuggestion_msg\u001b[39m}\u001b[39;00m\u001b[39m\"\u001b[39m\n\u001b[1;32m    196\u001b[0m )\n",
      "\u001b[0;31mNameNotFound\u001b[0m: Environment maze2d-eval-medium doesn't exist. "
     ]
    }
   ],
   "source": [
    "import gymnasium as gym\n",
    "import d4rl\n",
    "import minigrid\n",
    "from minigrid.wrappers import RGBImgPartialObsWrapper, ImgObsWrapper\n",
    "from warnings import simplefilter\n",
    "simplefilter(action='ignore', category=DeprecationWarning)\n",
    "env = gym.make('maze2d-eval-medium-v1')\n",
    "# _ = env.reset() # This now produces an RGB tensor only\n",
    "env.get_dataset()"
   ]
  },
  {
   "attachments": {},
   "cell_type": "markdown",
   "metadata": {},
   "source": [
    "After a huge amount of work this seems not good. I will need to train my own agent."
   ]
  },
  {
   "attachments": {},
   "cell_type": "markdown",
   "metadata": {},
   "source": [
    "# Training on PPO and Storing Trajectories\n"
   ]
  },
  {
   "attachments": {},
   "cell_type": "markdown",
   "metadata": {},
   "source": [
    "### Trying Torch-RL\n",
    "\n",
    "```bash\n",
    "python3 -m scripts.train --algo ppo --env MiniGrid-DoorKey-5x5-v0 --model DoorKey --save-interval 10 --frames 80000\n",
    "python3 -m scripts.visualize --env MiniGrid-DoorKey-5x5-v0 --model DoorKey\n",
    "python3 -m scripts.evaluate --env MiniGrid-DoorKey-5x5-v0 --model DoorKey\n",
    "```\n",
    "\n",
    "Unfortunately, it doesn't appear super simple to use these models because we need to actually load all their classes and stuff. Let's use Callums."
   ]
  },
  {
   "attachments": {},
   "cell_type": "markdown",
   "metadata": {},
   "source": [
    "## CartPole"
   ]
  },
  {
   "cell_type": "code",
   "execution_count": 1,
   "metadata": {},
   "outputs": [
    {
     "name": "stderr",
     "output_type": "stream",
     "text": [
      "/Users/josephbloom/miniforge3/envs/decision_transformer_interpretability/lib/python3.9/site-packages/traitlets/traitlets.py:1016: DeprecationWarning: Widget._active_widgets is deprecated.\n",
      "  value = getattr(cls, name)\n",
      "/Users/josephbloom/miniforge3/envs/decision_transformer_interpretability/lib/python3.9/site-packages/traitlets/traitlets.py:1016: DeprecationWarning: Widget._widget_types is deprecated.\n",
      "  value = getattr(cls, name)\n",
      "/Users/josephbloom/miniforge3/envs/decision_transformer_interpretability/lib/python3.9/site-packages/traitlets/traitlets.py:1016: DeprecationWarning: Widget.widget_types is deprecated.\n",
      "  value = getattr(cls, name)\n",
      "/Users/josephbloom/miniforge3/envs/decision_transformer_interpretability/lib/python3.9/site-packages/traitlets/traitlets.py:1016: DeprecationWarning: Widget.widgets is deprecated.\n",
      "  value = getattr(cls, name)\n",
      "/Users/josephbloom/miniforge3/envs/decision_transformer_interpretability/lib/python3.9/site-packages/traitlets/traitlets.py:1016: DeprecationWarning: Widget._active_widgets is deprecated.\n",
      "  value = getattr(cls, name)\n",
      "/Users/josephbloom/miniforge3/envs/decision_transformer_interpretability/lib/python3.9/site-packages/traitlets/traitlets.py:1016: DeprecationWarning: Widget._widget_types is deprecated.\n",
      "  value = getattr(cls, name)\n",
      "/Users/josephbloom/miniforge3/envs/decision_transformer_interpretability/lib/python3.9/site-packages/traitlets/traitlets.py:1016: DeprecationWarning: Widget.widget_types is deprecated.\n",
      "  value = getattr(cls, name)\n",
      "/Users/josephbloom/miniforge3/envs/decision_transformer_interpretability/lib/python3.9/site-packages/traitlets/traitlets.py:1016: DeprecationWarning: Widget.widgets is deprecated.\n",
      "  value = getattr(cls, name)\n",
      "/Users/josephbloom/miniforge3/envs/decision_transformer_interpretability/lib/python3.9/site-packages/traitlets/traitlets.py:1016: DeprecationWarning: Widget._active_widgets is deprecated.\n",
      "  value = getattr(cls, name)\n",
      "/Users/josephbloom/miniforge3/envs/decision_transformer_interpretability/lib/python3.9/site-packages/traitlets/traitlets.py:1016: DeprecationWarning: Widget._widget_types is deprecated.\n",
      "  value = getattr(cls, name)\n",
      "/Users/josephbloom/miniforge3/envs/decision_transformer_interpretability/lib/python3.9/site-packages/traitlets/traitlets.py:1016: DeprecationWarning: Widget.widget_types is deprecated.\n",
      "  value = getattr(cls, name)\n",
      "/Users/josephbloom/miniforge3/envs/decision_transformer_interpretability/lib/python3.9/site-packages/traitlets/traitlets.py:1016: DeprecationWarning: Widget.widgets is deprecated.\n",
      "  value = getattr(cls, name)\n",
      "/Users/josephbloom/miniforge3/envs/decision_transformer_interpretability/lib/python3.9/site-packages/traitlets/traitlets.py:1016: DeprecationWarning: Widget._active_widgets is deprecated.\n",
      "  value = getattr(cls, name)\n",
      "/Users/josephbloom/miniforge3/envs/decision_transformer_interpretability/lib/python3.9/site-packages/traitlets/traitlets.py:1016: DeprecationWarning: Widget._widget_types is deprecated.\n",
      "  value = getattr(cls, name)\n",
      "/Users/josephbloom/miniforge3/envs/decision_transformer_interpretability/lib/python3.9/site-packages/traitlets/traitlets.py:1016: DeprecationWarning: Widget.widget_types is deprecated.\n",
      "  value = getattr(cls, name)\n",
      "/Users/josephbloom/miniforge3/envs/decision_transformer_interpretability/lib/python3.9/site-packages/traitlets/traitlets.py:1016: DeprecationWarning: Widget.widgets is deprecated.\n",
      "  value = getattr(cls, name)\n",
      "/Users/josephbloom/miniforge3/envs/decision_transformer_interpretability/lib/python3.9/site-packages/traitlets/traitlets.py:1016: DeprecationWarning: Widget._active_widgets is deprecated.\n",
      "  value = getattr(cls, name)\n",
      "/Users/josephbloom/miniforge3/envs/decision_transformer_interpretability/lib/python3.9/site-packages/traitlets/traitlets.py:1016: DeprecationWarning: Widget._widget_types is deprecated.\n",
      "  value = getattr(cls, name)\n",
      "/Users/josephbloom/miniforge3/envs/decision_transformer_interpretability/lib/python3.9/site-packages/traitlets/traitlets.py:1016: DeprecationWarning: Widget.widget_types is deprecated.\n",
      "  value = getattr(cls, name)\n",
      "/Users/josephbloom/miniforge3/envs/decision_transformer_interpretability/lib/python3.9/site-packages/traitlets/traitlets.py:1016: DeprecationWarning: Widget.widgets is deprecated.\n",
      "  value = getattr(cls, name)\n",
      "/Users/josephbloom/miniforge3/envs/decision_transformer_interpretability/lib/python3.9/site-packages/traitlets/traitlets.py:1016: DeprecationWarning: Widget._active_widgets is deprecated.\n",
      "  value = getattr(cls, name)\n",
      "/Users/josephbloom/miniforge3/envs/decision_transformer_interpretability/lib/python3.9/site-packages/traitlets/traitlets.py:1016: DeprecationWarning: Widget._widget_types is deprecated.\n",
      "  value = getattr(cls, name)\n",
      "/Users/josephbloom/miniforge3/envs/decision_transformer_interpretability/lib/python3.9/site-packages/traitlets/traitlets.py:1016: DeprecationWarning: Widget.widget_types is deprecated.\n",
      "  value = getattr(cls, name)\n",
      "/Users/josephbloom/miniforge3/envs/decision_transformer_interpretability/lib/python3.9/site-packages/traitlets/traitlets.py:1016: DeprecationWarning: Widget.widgets is deprecated.\n",
      "  value = getattr(cls, name)\n",
      "/Users/josephbloom/miniforge3/envs/decision_transformer_interpretability/lib/python3.9/site-packages/traitlets/traitlets.py:1016: DeprecationWarning: Widget._active_widgets is deprecated.\n",
      "  value = getattr(cls, name)\n",
      "/Users/josephbloom/miniforge3/envs/decision_transformer_interpretability/lib/python3.9/site-packages/traitlets/traitlets.py:1016: DeprecationWarning: Widget._widget_types is deprecated.\n",
      "  value = getattr(cls, name)\n",
      "/Users/josephbloom/miniforge3/envs/decision_transformer_interpretability/lib/python3.9/site-packages/traitlets/traitlets.py:1016: DeprecationWarning: Widget.widget_types is deprecated.\n",
      "  value = getattr(cls, name)\n",
      "/Users/josephbloom/miniforge3/envs/decision_transformer_interpretability/lib/python3.9/site-packages/traitlets/traitlets.py:1016: DeprecationWarning: Widget.widgets is deprecated.\n",
      "  value = getattr(cls, name)\n",
      "/Users/josephbloom/miniforge3/envs/decision_transformer_interpretability/lib/python3.9/site-packages/traitlets/traitlets.py:1016: DeprecationWarning: Widget._active_widgets is deprecated.\n",
      "  value = getattr(cls, name)\n",
      "/Users/josephbloom/miniforge3/envs/decision_transformer_interpretability/lib/python3.9/site-packages/traitlets/traitlets.py:1016: DeprecationWarning: Widget._widget_types is deprecated.\n",
      "  value = getattr(cls, name)\n",
      "/Users/josephbloom/miniforge3/envs/decision_transformer_interpretability/lib/python3.9/site-packages/traitlets/traitlets.py:1016: DeprecationWarning: Widget.widget_types is deprecated.\n",
      "  value = getattr(cls, name)\n",
      "/Users/josephbloom/miniforge3/envs/decision_transformer_interpretability/lib/python3.9/site-packages/traitlets/traitlets.py:1016: DeprecationWarning: Widget.widgets is deprecated.\n",
      "  value = getattr(cls, name)\n",
      "/Users/josephbloom/miniforge3/envs/decision_transformer_interpretability/lib/python3.9/site-packages/traitlets/traitlets.py:1016: DeprecationWarning: Widget._active_widgets is deprecated.\n",
      "  value = getattr(cls, name)\n",
      "/Users/josephbloom/miniforge3/envs/decision_transformer_interpretability/lib/python3.9/site-packages/traitlets/traitlets.py:1016: DeprecationWarning: Widget._widget_types is deprecated.\n",
      "  value = getattr(cls, name)\n",
      "/Users/josephbloom/miniforge3/envs/decision_transformer_interpretability/lib/python3.9/site-packages/traitlets/traitlets.py:1016: DeprecationWarning: Widget.widget_types is deprecated.\n",
      "  value = getattr(cls, name)\n",
      "/Users/josephbloom/miniforge3/envs/decision_transformer_interpretability/lib/python3.9/site-packages/traitlets/traitlets.py:1016: DeprecationWarning: Widget.widgets is deprecated.\n",
      "  value = getattr(cls, name)\n",
      "/Users/josephbloom/miniforge3/envs/decision_transformer_interpretability/lib/python3.9/site-packages/traitlets/traitlets.py:1016: DeprecationWarning: Widget._active_widgets is deprecated.\n",
      "  value = getattr(cls, name)\n",
      "/Users/josephbloom/miniforge3/envs/decision_transformer_interpretability/lib/python3.9/site-packages/traitlets/traitlets.py:1016: DeprecationWarning: Widget._widget_types is deprecated.\n",
      "  value = getattr(cls, name)\n",
      "/Users/josephbloom/miniforge3/envs/decision_transformer_interpretability/lib/python3.9/site-packages/traitlets/traitlets.py:1016: DeprecationWarning: Widget.widget_types is deprecated.\n",
      "  value = getattr(cls, name)\n",
      "/Users/josephbloom/miniforge3/envs/decision_transformer_interpretability/lib/python3.9/site-packages/traitlets/traitlets.py:1016: DeprecationWarning: Widget.widgets is deprecated.\n",
      "  value = getattr(cls, name)\n",
      "/Users/josephbloom/miniforge3/envs/decision_transformer_interpretability/lib/python3.9/site-packages/traitlets/traitlets.py:1016: DeprecationWarning: Widget._active_widgets is deprecated.\n",
      "  value = getattr(cls, name)\n",
      "/Users/josephbloom/miniforge3/envs/decision_transformer_interpretability/lib/python3.9/site-packages/traitlets/traitlets.py:1016: DeprecationWarning: Widget._widget_types is deprecated.\n",
      "  value = getattr(cls, name)\n",
      "/Users/josephbloom/miniforge3/envs/decision_transformer_interpretability/lib/python3.9/site-packages/traitlets/traitlets.py:1016: DeprecationWarning: Widget.widget_types is deprecated.\n",
      "  value = getattr(cls, name)\n",
      "/Users/josephbloom/miniforge3/envs/decision_transformer_interpretability/lib/python3.9/site-packages/traitlets/traitlets.py:1016: DeprecationWarning: Widget.widgets is deprecated.\n",
      "  value = getattr(cls, name)\n",
      "/Users/josephbloom/miniforge3/envs/decision_transformer_interpretability/lib/python3.9/site-packages/traitlets/traitlets.py:1016: DeprecationWarning: Widget._active_widgets is deprecated.\n",
      "  value = getattr(cls, name)\n",
      "/Users/josephbloom/miniforge3/envs/decision_transformer_interpretability/lib/python3.9/site-packages/traitlets/traitlets.py:1016: DeprecationWarning: Widget._widget_types is deprecated.\n",
      "  value = getattr(cls, name)\n",
      "/Users/josephbloom/miniforge3/envs/decision_transformer_interpretability/lib/python3.9/site-packages/traitlets/traitlets.py:1016: DeprecationWarning: Widget.widget_types is deprecated.\n",
      "  value = getattr(cls, name)\n",
      "/Users/josephbloom/miniforge3/envs/decision_transformer_interpretability/lib/python3.9/site-packages/traitlets/traitlets.py:1016: DeprecationWarning: Widget.widgets is deprecated.\n",
      "  value = getattr(cls, name)\n",
      "/Users/josephbloom/miniforge3/envs/decision_transformer_interpretability/lib/python3.9/site-packages/traitlets/traitlets.py:1016: DeprecationWarning: Widget._active_widgets is deprecated.\n",
      "  value = getattr(cls, name)\n",
      "/Users/josephbloom/miniforge3/envs/decision_transformer_interpretability/lib/python3.9/site-packages/traitlets/traitlets.py:1016: DeprecationWarning: Widget._widget_types is deprecated.\n",
      "  value = getattr(cls, name)\n",
      "/Users/josephbloom/miniforge3/envs/decision_transformer_interpretability/lib/python3.9/site-packages/traitlets/traitlets.py:1016: DeprecationWarning: Widget.widget_types is deprecated.\n",
      "  value = getattr(cls, name)\n",
      "/Users/josephbloom/miniforge3/envs/decision_transformer_interpretability/lib/python3.9/site-packages/traitlets/traitlets.py:1016: DeprecationWarning: Widget.widgets is deprecated.\n",
      "  value = getattr(cls, name)\n",
      "/Users/josephbloom/miniforge3/envs/decision_transformer_interpretability/lib/python3.9/site-packages/traitlets/traitlets.py:1016: DeprecationWarning: Widget._active_widgets is deprecated.\n",
      "  value = getattr(cls, name)\n",
      "/Users/josephbloom/miniforge3/envs/decision_transformer_interpretability/lib/python3.9/site-packages/traitlets/traitlets.py:1016: DeprecationWarning: Widget._widget_types is deprecated.\n",
      "  value = getattr(cls, name)\n",
      "/Users/josephbloom/miniforge3/envs/decision_transformer_interpretability/lib/python3.9/site-packages/traitlets/traitlets.py:1016: DeprecationWarning: Widget.widget_types is deprecated.\n",
      "  value = getattr(cls, name)\n",
      "/Users/josephbloom/miniforge3/envs/decision_transformer_interpretability/lib/python3.9/site-packages/traitlets/traitlets.py:1016: DeprecationWarning: Widget.widgets is deprecated.\n",
      "  value = getattr(cls, name)\n",
      "/Users/josephbloom/miniforge3/envs/decision_transformer_interpretability/lib/python3.9/site-packages/traitlets/traitlets.py:1016: DeprecationWarning: Widget._active_widgets is deprecated.\n",
      "  value = getattr(cls, name)\n",
      "/Users/josephbloom/miniforge3/envs/decision_transformer_interpretability/lib/python3.9/site-packages/traitlets/traitlets.py:1016: DeprecationWarning: Widget._widget_types is deprecated.\n",
      "  value = getattr(cls, name)\n",
      "/Users/josephbloom/miniforge3/envs/decision_transformer_interpretability/lib/python3.9/site-packages/traitlets/traitlets.py:1016: DeprecationWarning: Widget.widget_types is deprecated.\n",
      "  value = getattr(cls, name)\n",
      "/Users/josephbloom/miniforge3/envs/decision_transformer_interpretability/lib/python3.9/site-packages/traitlets/traitlets.py:1016: DeprecationWarning: Widget.widgets is deprecated.\n",
      "  value = getattr(cls, name)\n",
      "/Users/josephbloom/miniforge3/envs/decision_transformer_interpretability/lib/python3.9/site-packages/traitlets/traitlets.py:1016: DeprecationWarning: Widget._active_widgets is deprecated.\n",
      "  value = getattr(cls, name)\n",
      "/Users/josephbloom/miniforge3/envs/decision_transformer_interpretability/lib/python3.9/site-packages/traitlets/traitlets.py:1016: DeprecationWarning: Widget._widget_types is deprecated.\n",
      "  value = getattr(cls, name)\n",
      "/Users/josephbloom/miniforge3/envs/decision_transformer_interpretability/lib/python3.9/site-packages/traitlets/traitlets.py:1016: DeprecationWarning: Widget.widget_types is deprecated.\n",
      "  value = getattr(cls, name)\n",
      "/Users/josephbloom/miniforge3/envs/decision_transformer_interpretability/lib/python3.9/site-packages/traitlets/traitlets.py:1016: DeprecationWarning: Widget.widgets is deprecated.\n",
      "  value = getattr(cls, name)\n",
      "/Users/josephbloom/miniforge3/envs/decision_transformer_interpretability/lib/python3.9/site-packages/traitlets/traitlets.py:1016: DeprecationWarning: Widget._active_widgets is deprecated.\n",
      "  value = getattr(cls, name)\n",
      "/Users/josephbloom/miniforge3/envs/decision_transformer_interpretability/lib/python3.9/site-packages/traitlets/traitlets.py:1016: DeprecationWarning: Widget._widget_types is deprecated.\n",
      "  value = getattr(cls, name)\n",
      "/Users/josephbloom/miniforge3/envs/decision_transformer_interpretability/lib/python3.9/site-packages/traitlets/traitlets.py:1016: DeprecationWarning: Widget.widget_types is deprecated.\n",
      "  value = getattr(cls, name)\n",
      "/Users/josephbloom/miniforge3/envs/decision_transformer_interpretability/lib/python3.9/site-packages/traitlets/traitlets.py:1016: DeprecationWarning: Widget.widgets is deprecated.\n",
      "  value = getattr(cls, name)\n",
      "/Users/josephbloom/miniforge3/envs/decision_transformer_interpretability/lib/python3.9/site-packages/traitlets/traitlets.py:1016: DeprecationWarning: Widget._active_widgets is deprecated.\n",
      "  value = getattr(cls, name)\n",
      "/Users/josephbloom/miniforge3/envs/decision_transformer_interpretability/lib/python3.9/site-packages/traitlets/traitlets.py:1016: DeprecationWarning: Widget._widget_types is deprecated.\n",
      "  value = getattr(cls, name)\n",
      "/Users/josephbloom/miniforge3/envs/decision_transformer_interpretability/lib/python3.9/site-packages/traitlets/traitlets.py:1016: DeprecationWarning: Widget.widget_types is deprecated.\n",
      "  value = getattr(cls, name)\n",
      "/Users/josephbloom/miniforge3/envs/decision_transformer_interpretability/lib/python3.9/site-packages/traitlets/traitlets.py:1016: DeprecationWarning: Widget.widgets is deprecated.\n",
      "  value = getattr(cls, name)\n",
      "/Users/josephbloom/miniforge3/envs/decision_transformer_interpretability/lib/python3.9/site-packages/traitlets/traitlets.py:1016: DeprecationWarning: Widget._active_widgets is deprecated.\n",
      "  value = getattr(cls, name)\n",
      "/Users/josephbloom/miniforge3/envs/decision_transformer_interpretability/lib/python3.9/site-packages/traitlets/traitlets.py:1016: DeprecationWarning: Widget._widget_types is deprecated.\n",
      "  value = getattr(cls, name)\n",
      "/Users/josephbloom/miniforge3/envs/decision_transformer_interpretability/lib/python3.9/site-packages/traitlets/traitlets.py:1016: DeprecationWarning: Widget.widget_types is deprecated.\n",
      "  value = getattr(cls, name)\n",
      "/Users/josephbloom/miniforge3/envs/decision_transformer_interpretability/lib/python3.9/site-packages/traitlets/traitlets.py:1016: DeprecationWarning: Widget.widgets is deprecated.\n",
      "  value = getattr(cls, name)\n",
      "/Users/josephbloom/miniforge3/envs/decision_transformer_interpretability/lib/python3.9/site-packages/traitlets/traitlets.py:1016: DeprecationWarning: Widget._active_widgets is deprecated.\n",
      "  value = getattr(cls, name)\n",
      "/Users/josephbloom/miniforge3/envs/decision_transformer_interpretability/lib/python3.9/site-packages/traitlets/traitlets.py:1016: DeprecationWarning: Widget._widget_types is deprecated.\n",
      "  value = getattr(cls, name)\n",
      "/Users/josephbloom/miniforge3/envs/decision_transformer_interpretability/lib/python3.9/site-packages/traitlets/traitlets.py:1016: DeprecationWarning: Widget.widget_types is deprecated.\n",
      "  value = getattr(cls, name)\n",
      "/Users/josephbloom/miniforge3/envs/decision_transformer_interpretability/lib/python3.9/site-packages/traitlets/traitlets.py:1016: DeprecationWarning: Widget.widgets is deprecated.\n",
      "  value = getattr(cls, name)\n",
      "/Users/josephbloom/miniforge3/envs/decision_transformer_interpretability/lib/python3.9/site-packages/traitlets/traitlets.py:1016: DeprecationWarning: Widget._active_widgets is deprecated.\n",
      "  value = getattr(cls, name)\n",
      "/Users/josephbloom/miniforge3/envs/decision_transformer_interpretability/lib/python3.9/site-packages/traitlets/traitlets.py:1016: DeprecationWarning: Widget._widget_types is deprecated.\n",
      "  value = getattr(cls, name)\n",
      "/Users/josephbloom/miniforge3/envs/decision_transformer_interpretability/lib/python3.9/site-packages/traitlets/traitlets.py:1016: DeprecationWarning: Widget.widget_types is deprecated.\n",
      "  value = getattr(cls, name)\n",
      "/Users/josephbloom/miniforge3/envs/decision_transformer_interpretability/lib/python3.9/site-packages/traitlets/traitlets.py:1016: DeprecationWarning: Widget.widgets is deprecated.\n",
      "  value = getattr(cls, name)\n",
      "/Users/josephbloom/miniforge3/envs/decision_transformer_interpretability/lib/python3.9/site-packages/traitlets/traitlets.py:1016: DeprecationWarning: Widget._active_widgets is deprecated.\n",
      "  value = getattr(cls, name)\n",
      "/Users/josephbloom/miniforge3/envs/decision_transformer_interpretability/lib/python3.9/site-packages/traitlets/traitlets.py:1016: DeprecationWarning: Widget._widget_types is deprecated.\n",
      "  value = getattr(cls, name)\n",
      "/Users/josephbloom/miniforge3/envs/decision_transformer_interpretability/lib/python3.9/site-packages/traitlets/traitlets.py:1016: DeprecationWarning: Widget.widget_types is deprecated.\n",
      "  value = getattr(cls, name)\n",
      "/Users/josephbloom/miniforge3/envs/decision_transformer_interpretability/lib/python3.9/site-packages/traitlets/traitlets.py:1016: DeprecationWarning: Widget.widgets is deprecated.\n",
      "  value = getattr(cls, name)\n",
      "/Users/josephbloom/miniforge3/envs/decision_transformer_interpretability/lib/python3.9/site-packages/traitlets/traitlets.py:1016: DeprecationWarning: Widget._active_widgets is deprecated.\n",
      "  value = getattr(cls, name)\n",
      "/Users/josephbloom/miniforge3/envs/decision_transformer_interpretability/lib/python3.9/site-packages/traitlets/traitlets.py:1016: DeprecationWarning: Widget._widget_types is deprecated.\n",
      "  value = getattr(cls, name)\n",
      "/Users/josephbloom/miniforge3/envs/decision_transformer_interpretability/lib/python3.9/site-packages/traitlets/traitlets.py:1016: DeprecationWarning: Widget.widget_types is deprecated.\n",
      "  value = getattr(cls, name)\n",
      "/Users/josephbloom/miniforge3/envs/decision_transformer_interpretability/lib/python3.9/site-packages/traitlets/traitlets.py:1016: DeprecationWarning: Widget.widgets is deprecated.\n",
      "  value = getattr(cls, name)\n",
      "/Users/josephbloom/miniforge3/envs/decision_transformer_interpretability/lib/python3.9/site-packages/traitlets/traitlets.py:1016: DeprecationWarning: Widget._active_widgets is deprecated.\n",
      "  value = getattr(cls, name)\n",
      "/Users/josephbloom/miniforge3/envs/decision_transformer_interpretability/lib/python3.9/site-packages/traitlets/traitlets.py:1016: DeprecationWarning: Widget._widget_types is deprecated.\n",
      "  value = getattr(cls, name)\n",
      "/Users/josephbloom/miniforge3/envs/decision_transformer_interpretability/lib/python3.9/site-packages/traitlets/traitlets.py:1016: DeprecationWarning: Widget.widget_types is deprecated.\n",
      "  value = getattr(cls, name)\n",
      "/Users/josephbloom/miniforge3/envs/decision_transformer_interpretability/lib/python3.9/site-packages/traitlets/traitlets.py:1016: DeprecationWarning: Widget.widgets is deprecated.\n",
      "  value = getattr(cls, name)\n",
      "/Users/josephbloom/miniforge3/envs/decision_transformer_interpretability/lib/python3.9/site-packages/traitlets/traitlets.py:1016: DeprecationWarning: Widget._active_widgets is deprecated.\n",
      "  value = getattr(cls, name)\n",
      "/Users/josephbloom/miniforge3/envs/decision_transformer_interpretability/lib/python3.9/site-packages/traitlets/traitlets.py:1016: DeprecationWarning: Widget._widget_types is deprecated.\n",
      "  value = getattr(cls, name)\n",
      "/Users/josephbloom/miniforge3/envs/decision_transformer_interpretability/lib/python3.9/site-packages/traitlets/traitlets.py:1016: DeprecationWarning: Widget.widget_types is deprecated.\n",
      "  value = getattr(cls, name)\n",
      "/Users/josephbloom/miniforge3/envs/decision_transformer_interpretability/lib/python3.9/site-packages/traitlets/traitlets.py:1016: DeprecationWarning: Widget.widgets is deprecated.\n",
      "  value = getattr(cls, name)\n",
      "/Users/josephbloom/miniforge3/envs/decision_transformer_interpretability/lib/python3.9/site-packages/traitlets/traitlets.py:1016: DeprecationWarning: Widget._active_widgets is deprecated.\n",
      "  value = getattr(cls, name)\n",
      "/Users/josephbloom/miniforge3/envs/decision_transformer_interpretability/lib/python3.9/site-packages/traitlets/traitlets.py:1016: DeprecationWarning: Widget._widget_types is deprecated.\n",
      "  value = getattr(cls, name)\n",
      "/Users/josephbloom/miniforge3/envs/decision_transformer_interpretability/lib/python3.9/site-packages/traitlets/traitlets.py:1016: DeprecationWarning: Widget.widget_types is deprecated.\n",
      "  value = getattr(cls, name)\n",
      "/Users/josephbloom/miniforge3/envs/decision_transformer_interpretability/lib/python3.9/site-packages/traitlets/traitlets.py:1016: DeprecationWarning: Widget.widgets is deprecated.\n",
      "  value = getattr(cls, name)\n",
      "/Users/josephbloom/miniforge3/envs/decision_transformer_interpretability/lib/python3.9/site-packages/traitlets/traitlets.py:1016: DeprecationWarning: Widget._active_widgets is deprecated.\n",
      "  value = getattr(cls, name)\n",
      "/Users/josephbloom/miniforge3/envs/decision_transformer_interpretability/lib/python3.9/site-packages/traitlets/traitlets.py:1016: DeprecationWarning: Widget._widget_types is deprecated.\n",
      "  value = getattr(cls, name)\n",
      "/Users/josephbloom/miniforge3/envs/decision_transformer_interpretability/lib/python3.9/site-packages/traitlets/traitlets.py:1016: DeprecationWarning: Widget.widget_types is deprecated.\n",
      "  value = getattr(cls, name)\n",
      "/Users/josephbloom/miniforge3/envs/decision_transformer_interpretability/lib/python3.9/site-packages/traitlets/traitlets.py:1016: DeprecationWarning: Widget.widgets is deprecated.\n",
      "  value = getattr(cls, name)\n",
      "/Users/josephbloom/miniforge3/envs/decision_transformer_interpretability/lib/python3.9/site-packages/traitlets/traitlets.py:1016: DeprecationWarning: Widget._active_widgets is deprecated.\n",
      "  value = getattr(cls, name)\n",
      "/Users/josephbloom/miniforge3/envs/decision_transformer_interpretability/lib/python3.9/site-packages/traitlets/traitlets.py:1016: DeprecationWarning: Widget._widget_types is deprecated.\n",
      "  value = getattr(cls, name)\n",
      "/Users/josephbloom/miniforge3/envs/decision_transformer_interpretability/lib/python3.9/site-packages/traitlets/traitlets.py:1016: DeprecationWarning: Widget.widget_types is deprecated.\n",
      "  value = getattr(cls, name)\n",
      "/Users/josephbloom/miniforge3/envs/decision_transformer_interpretability/lib/python3.9/site-packages/traitlets/traitlets.py:1016: DeprecationWarning: Widget.widgets is deprecated.\n",
      "  value = getattr(cls, name)\n",
      "/Users/josephbloom/miniforge3/envs/decision_transformer_interpretability/lib/python3.9/site-packages/traitlets/traitlets.py:1016: DeprecationWarning: Widget._active_widgets is deprecated.\n",
      "  value = getattr(cls, name)\n",
      "/Users/josephbloom/miniforge3/envs/decision_transformer_interpretability/lib/python3.9/site-packages/traitlets/traitlets.py:1016: DeprecationWarning: Widget._widget_types is deprecated.\n",
      "  value = getattr(cls, name)\n",
      "/Users/josephbloom/miniforge3/envs/decision_transformer_interpretability/lib/python3.9/site-packages/traitlets/traitlets.py:1016: DeprecationWarning: Widget.widget_types is deprecated.\n",
      "  value = getattr(cls, name)\n",
      "/Users/josephbloom/miniforge3/envs/decision_transformer_interpretability/lib/python3.9/site-packages/traitlets/traitlets.py:1016: DeprecationWarning: Widget.widgets is deprecated.\n",
      "  value = getattr(cls, name)\n",
      "/Users/josephbloom/miniforge3/envs/decision_transformer_interpretability/lib/python3.9/site-packages/traitlets/traitlets.py:1016: DeprecationWarning: Widget._active_widgets is deprecated.\n",
      "  value = getattr(cls, name)\n",
      "/Users/josephbloom/miniforge3/envs/decision_transformer_interpretability/lib/python3.9/site-packages/traitlets/traitlets.py:1016: DeprecationWarning: Widget._widget_types is deprecated.\n",
      "  value = getattr(cls, name)\n",
      "/Users/josephbloom/miniforge3/envs/decision_transformer_interpretability/lib/python3.9/site-packages/traitlets/traitlets.py:1016: DeprecationWarning: Widget.widget_types is deprecated.\n",
      "  value = getattr(cls, name)\n",
      "/Users/josephbloom/miniforge3/envs/decision_transformer_interpretability/lib/python3.9/site-packages/traitlets/traitlets.py:1016: DeprecationWarning: Widget.widgets is deprecated.\n",
      "  value = getattr(cls, name)\n",
      "/Users/josephbloom/miniforge3/envs/decision_transformer_interpretability/lib/python3.9/site-packages/traitlets/traitlets.py:1016: DeprecationWarning: Widget._active_widgets is deprecated.\n",
      "  value = getattr(cls, name)\n",
      "/Users/josephbloom/miniforge3/envs/decision_transformer_interpretability/lib/python3.9/site-packages/traitlets/traitlets.py:1016: DeprecationWarning: Widget._widget_types is deprecated.\n",
      "  value = getattr(cls, name)\n",
      "/Users/josephbloom/miniforge3/envs/decision_transformer_interpretability/lib/python3.9/site-packages/traitlets/traitlets.py:1016: DeprecationWarning: Widget.widget_types is deprecated.\n",
      "  value = getattr(cls, name)\n",
      "/Users/josephbloom/miniforge3/envs/decision_transformer_interpretability/lib/python3.9/site-packages/traitlets/traitlets.py:1016: DeprecationWarning: Widget.widgets is deprecated.\n",
      "  value = getattr(cls, name)\n",
      "/Users/josephbloom/miniforge3/envs/decision_transformer_interpretability/lib/python3.9/site-packages/traitlets/traitlets.py:1016: DeprecationWarning: Widget._active_widgets is deprecated.\n",
      "  value = getattr(cls, name)\n",
      "/Users/josephbloom/miniforge3/envs/decision_transformer_interpretability/lib/python3.9/site-packages/traitlets/traitlets.py:1016: DeprecationWarning: Widget._widget_types is deprecated.\n",
      "  value = getattr(cls, name)\n",
      "/Users/josephbloom/miniforge3/envs/decision_transformer_interpretability/lib/python3.9/site-packages/traitlets/traitlets.py:1016: DeprecationWarning: Widget.widget_types is deprecated.\n",
      "  value = getattr(cls, name)\n",
      "/Users/josephbloom/miniforge3/envs/decision_transformer_interpretability/lib/python3.9/site-packages/traitlets/traitlets.py:1016: DeprecationWarning: Widget.widgets is deprecated.\n",
      "  value = getattr(cls, name)\n",
      "/Users/josephbloom/miniforge3/envs/decision_transformer_interpretability/lib/python3.9/site-packages/traitlets/traitlets.py:1016: DeprecationWarning: Widget._active_widgets is deprecated.\n",
      "  value = getattr(cls, name)\n",
      "/Users/josephbloom/miniforge3/envs/decision_transformer_interpretability/lib/python3.9/site-packages/traitlets/traitlets.py:1016: DeprecationWarning: Widget._widget_types is deprecated.\n",
      "  value = getattr(cls, name)\n",
      "/Users/josephbloom/miniforge3/envs/decision_transformer_interpretability/lib/python3.9/site-packages/traitlets/traitlets.py:1016: DeprecationWarning: Widget.widget_types is deprecated.\n",
      "  value = getattr(cls, name)\n",
      "/Users/josephbloom/miniforge3/envs/decision_transformer_interpretability/lib/python3.9/site-packages/traitlets/traitlets.py:1016: DeprecationWarning: Widget.widgets is deprecated.\n",
      "  value = getattr(cls, name)\n",
      "/Users/josephbloom/miniforge3/envs/decision_transformer_interpretability/lib/python3.9/site-packages/traitlets/traitlets.py:1016: DeprecationWarning: Widget._active_widgets is deprecated.\n",
      "  value = getattr(cls, name)\n",
      "/Users/josephbloom/miniforge3/envs/decision_transformer_interpretability/lib/python3.9/site-packages/traitlets/traitlets.py:1016: DeprecationWarning: Widget._widget_types is deprecated.\n",
      "  value = getattr(cls, name)\n",
      "/Users/josephbloom/miniforge3/envs/decision_transformer_interpretability/lib/python3.9/site-packages/traitlets/traitlets.py:1016: DeprecationWarning: Widget.widget_types is deprecated.\n",
      "  value = getattr(cls, name)\n",
      "/Users/josephbloom/miniforge3/envs/decision_transformer_interpretability/lib/python3.9/site-packages/traitlets/traitlets.py:1016: DeprecationWarning: Widget.widgets is deprecated.\n",
      "  value = getattr(cls, name)\n",
      "/Users/josephbloom/miniforge3/envs/decision_transformer_interpretability/lib/python3.9/site-packages/traitlets/traitlets.py:1016: DeprecationWarning: Widget._active_widgets is deprecated.\n",
      "  value = getattr(cls, name)\n",
      "/Users/josephbloom/miniforge3/envs/decision_transformer_interpretability/lib/python3.9/site-packages/traitlets/traitlets.py:1016: DeprecationWarning: Widget._widget_types is deprecated.\n",
      "  value = getattr(cls, name)\n",
      "/Users/josephbloom/miniforge3/envs/decision_transformer_interpretability/lib/python3.9/site-packages/traitlets/traitlets.py:1016: DeprecationWarning: Widget.widget_types is deprecated.\n",
      "  value = getattr(cls, name)\n",
      "/Users/josephbloom/miniforge3/envs/decision_transformer_interpretability/lib/python3.9/site-packages/traitlets/traitlets.py:1016: DeprecationWarning: Widget.widgets is deprecated.\n",
      "  value = getattr(cls, name)\n",
      "/Users/josephbloom/miniforge3/envs/decision_transformer_interpretability/lib/python3.9/site-packages/traitlets/traitlets.py:1016: DeprecationWarning: Widget._active_widgets is deprecated.\n",
      "  value = getattr(cls, name)\n",
      "/Users/josephbloom/miniforge3/envs/decision_transformer_interpretability/lib/python3.9/site-packages/traitlets/traitlets.py:1016: DeprecationWarning: Widget._widget_types is deprecated.\n",
      "  value = getattr(cls, name)\n",
      "/Users/josephbloom/miniforge3/envs/decision_transformer_interpretability/lib/python3.9/site-packages/traitlets/traitlets.py:1016: DeprecationWarning: Widget.widget_types is deprecated.\n",
      "  value = getattr(cls, name)\n",
      "/Users/josephbloom/miniforge3/envs/decision_transformer_interpretability/lib/python3.9/site-packages/traitlets/traitlets.py:1016: DeprecationWarning: Widget.widgets is deprecated.\n",
      "  value = getattr(cls, name)\n",
      "/Users/josephbloom/miniforge3/envs/decision_transformer_interpretability/lib/python3.9/site-packages/traitlets/traitlets.py:1016: DeprecationWarning: Widget._active_widgets is deprecated.\n",
      "  value = getattr(cls, name)\n",
      "/Users/josephbloom/miniforge3/envs/decision_transformer_interpretability/lib/python3.9/site-packages/traitlets/traitlets.py:1016: DeprecationWarning: Widget._widget_types is deprecated.\n",
      "  value = getattr(cls, name)\n",
      "/Users/josephbloom/miniforge3/envs/decision_transformer_interpretability/lib/python3.9/site-packages/traitlets/traitlets.py:1016: DeprecationWarning: Widget.widget_types is deprecated.\n",
      "  value = getattr(cls, name)\n",
      "/Users/josephbloom/miniforge3/envs/decision_transformer_interpretability/lib/python3.9/site-packages/traitlets/traitlets.py:1016: DeprecationWarning: Widget.widgets is deprecated.\n",
      "  value = getattr(cls, name)\n",
      "/Users/josephbloom/miniforge3/envs/decision_transformer_interpretability/lib/python3.9/site-packages/traitlets/traitlets.py:1016: DeprecationWarning: Widget._active_widgets is deprecated.\n",
      "  value = getattr(cls, name)\n",
      "/Users/josephbloom/miniforge3/envs/decision_transformer_interpretability/lib/python3.9/site-packages/traitlets/traitlets.py:1016: DeprecationWarning: Widget._widget_types is deprecated.\n",
      "  value = getattr(cls, name)\n",
      "/Users/josephbloom/miniforge3/envs/decision_transformer_interpretability/lib/python3.9/site-packages/traitlets/traitlets.py:1016: DeprecationWarning: Widget.widget_types is deprecated.\n",
      "  value = getattr(cls, name)\n",
      "/Users/josephbloom/miniforge3/envs/decision_transformer_interpretability/lib/python3.9/site-packages/traitlets/traitlets.py:1016: DeprecationWarning: Widget.widgets is deprecated.\n",
      "  value = getattr(cls, name)\n",
      "/Users/josephbloom/miniforge3/envs/decision_transformer_interpretability/lib/python3.9/site-packages/traitlets/traitlets.py:1016: DeprecationWarning: Widget._active_widgets is deprecated.\n",
      "  value = getattr(cls, name)\n",
      "/Users/josephbloom/miniforge3/envs/decision_transformer_interpretability/lib/python3.9/site-packages/traitlets/traitlets.py:1016: DeprecationWarning: Widget._widget_types is deprecated.\n",
      "  value = getattr(cls, name)\n",
      "/Users/josephbloom/miniforge3/envs/decision_transformer_interpretability/lib/python3.9/site-packages/traitlets/traitlets.py:1016: DeprecationWarning: Widget.widget_types is deprecated.\n",
      "  value = getattr(cls, name)\n",
      "/Users/josephbloom/miniforge3/envs/decision_transformer_interpretability/lib/python3.9/site-packages/traitlets/traitlets.py:1016: DeprecationWarning: Widget.widgets is deprecated.\n",
      "  value = getattr(cls, name)\n",
      "/Users/josephbloom/miniforge3/envs/decision_transformer_interpretability/lib/python3.9/site-packages/traitlets/traitlets.py:1016: DeprecationWarning: Widget._active_widgets is deprecated.\n",
      "  value = getattr(cls, name)\n",
      "/Users/josephbloom/miniforge3/envs/decision_transformer_interpretability/lib/python3.9/site-packages/traitlets/traitlets.py:1016: DeprecationWarning: Widget._widget_types is deprecated.\n",
      "  value = getattr(cls, name)\n",
      "/Users/josephbloom/miniforge3/envs/decision_transformer_interpretability/lib/python3.9/site-packages/traitlets/traitlets.py:1016: DeprecationWarning: Widget.widget_types is deprecated.\n",
      "  value = getattr(cls, name)\n",
      "/Users/josephbloom/miniforge3/envs/decision_transformer_interpretability/lib/python3.9/site-packages/traitlets/traitlets.py:1016: DeprecationWarning: Widget.widgets is deprecated.\n",
      "  value = getattr(cls, name)\n",
      "/Users/josephbloom/miniforge3/envs/decision_transformer_interpretability/lib/python3.9/site-packages/traitlets/traitlets.py:1016: DeprecationWarning: Widget._active_widgets is deprecated.\n",
      "  value = getattr(cls, name)\n",
      "/Users/josephbloom/miniforge3/envs/decision_transformer_interpretability/lib/python3.9/site-packages/traitlets/traitlets.py:1016: DeprecationWarning: Widget._widget_types is deprecated.\n",
      "  value = getattr(cls, name)\n",
      "/Users/josephbloom/miniforge3/envs/decision_transformer_interpretability/lib/python3.9/site-packages/traitlets/traitlets.py:1016: DeprecationWarning: Widget.widget_types is deprecated.\n",
      "  value = getattr(cls, name)\n",
      "/Users/josephbloom/miniforge3/envs/decision_transformer_interpretability/lib/python3.9/site-packages/traitlets/traitlets.py:1016: DeprecationWarning: Widget.widgets is deprecated.\n",
      "  value = getattr(cls, name)\n",
      "/Users/josephbloom/miniforge3/envs/decision_transformer_interpretability/lib/python3.9/site-packages/traitlets/traitlets.py:1016: DeprecationWarning: Widget._active_widgets is deprecated.\n",
      "  value = getattr(cls, name)\n",
      "/Users/josephbloom/miniforge3/envs/decision_transformer_interpretability/lib/python3.9/site-packages/traitlets/traitlets.py:1016: DeprecationWarning: Widget._widget_types is deprecated.\n",
      "  value = getattr(cls, name)\n",
      "/Users/josephbloom/miniforge3/envs/decision_transformer_interpretability/lib/python3.9/site-packages/traitlets/traitlets.py:1016: DeprecationWarning: Widget.widget_types is deprecated.\n",
      "  value = getattr(cls, name)\n",
      "/Users/josephbloom/miniforge3/envs/decision_transformer_interpretability/lib/python3.9/site-packages/traitlets/traitlets.py:1016: DeprecationWarning: Widget.widgets is deprecated.\n",
      "  value = getattr(cls, name)\n",
      "/Users/josephbloom/miniforge3/envs/decision_transformer_interpretability/lib/python3.9/site-packages/traitlets/traitlets.py:1016: DeprecationWarning: Widget._active_widgets is deprecated.\n",
      "  value = getattr(cls, name)\n",
      "/Users/josephbloom/miniforge3/envs/decision_transformer_interpretability/lib/python3.9/site-packages/traitlets/traitlets.py:1016: DeprecationWarning: Widget._widget_types is deprecated.\n",
      "  value = getattr(cls, name)\n",
      "/Users/josephbloom/miniforge3/envs/decision_transformer_interpretability/lib/python3.9/site-packages/traitlets/traitlets.py:1016: DeprecationWarning: Widget.widget_types is deprecated.\n",
      "  value = getattr(cls, name)\n",
      "/Users/josephbloom/miniforge3/envs/decision_transformer_interpretability/lib/python3.9/site-packages/traitlets/traitlets.py:1016: DeprecationWarning: Widget.widgets is deprecated.\n",
      "  value = getattr(cls, name)\n",
      "/Users/josephbloom/miniforge3/envs/decision_transformer_interpretability/lib/python3.9/site-packages/traitlets/traitlets.py:1016: DeprecationWarning: Widget._active_widgets is deprecated.\n",
      "  value = getattr(cls, name)\n",
      "/Users/josephbloom/miniforge3/envs/decision_transformer_interpretability/lib/python3.9/site-packages/traitlets/traitlets.py:1016: DeprecationWarning: Widget._widget_types is deprecated.\n",
      "  value = getattr(cls, name)\n",
      "/Users/josephbloom/miniforge3/envs/decision_transformer_interpretability/lib/python3.9/site-packages/traitlets/traitlets.py:1016: DeprecationWarning: Widget.widget_types is deprecated.\n",
      "  value = getattr(cls, name)\n",
      "/Users/josephbloom/miniforge3/envs/decision_transformer_interpretability/lib/python3.9/site-packages/traitlets/traitlets.py:1016: DeprecationWarning: Widget.widgets is deprecated.\n",
      "  value = getattr(cls, name)\n",
      "/Users/josephbloom/miniforge3/envs/decision_transformer_interpretability/lib/python3.9/site-packages/traitlets/traitlets.py:1016: DeprecationWarning: Widget._active_widgets is deprecated.\n",
      "  value = getattr(cls, name)\n",
      "/Users/josephbloom/miniforge3/envs/decision_transformer_interpretability/lib/python3.9/site-packages/traitlets/traitlets.py:1016: DeprecationWarning: Widget._widget_types is deprecated.\n",
      "  value = getattr(cls, name)\n",
      "/Users/josephbloom/miniforge3/envs/decision_transformer_interpretability/lib/python3.9/site-packages/traitlets/traitlets.py:1016: DeprecationWarning: Widget.widget_types is deprecated.\n",
      "  value = getattr(cls, name)\n",
      "/Users/josephbloom/miniforge3/envs/decision_transformer_interpretability/lib/python3.9/site-packages/traitlets/traitlets.py:1016: DeprecationWarning: Widget.widgets is deprecated.\n",
      "  value = getattr(cls, name)\n",
      "/Users/josephbloom/miniforge3/envs/decision_transformer_interpretability/lib/python3.9/site-packages/traitlets/traitlets.py:1016: DeprecationWarning: Widget._active_widgets is deprecated.\n",
      "  value = getattr(cls, name)\n",
      "/Users/josephbloom/miniforge3/envs/decision_transformer_interpretability/lib/python3.9/site-packages/traitlets/traitlets.py:1016: DeprecationWarning: Widget._widget_types is deprecated.\n",
      "  value = getattr(cls, name)\n",
      "/Users/josephbloom/miniforge3/envs/decision_transformer_interpretability/lib/python3.9/site-packages/traitlets/traitlets.py:1016: DeprecationWarning: Widget.widget_types is deprecated.\n",
      "  value = getattr(cls, name)\n",
      "/Users/josephbloom/miniforge3/envs/decision_transformer_interpretability/lib/python3.9/site-packages/traitlets/traitlets.py:1016: DeprecationWarning: Widget.widgets is deprecated.\n",
      "  value = getattr(cls, name)\n",
      "/Users/josephbloom/miniforge3/envs/decision_transformer_interpretability/lib/python3.9/site-packages/traitlets/traitlets.py:1016: DeprecationWarning: Widget._active_widgets is deprecated.\n",
      "  value = getattr(cls, name)\n",
      "/Users/josephbloom/miniforge3/envs/decision_transformer_interpretability/lib/python3.9/site-packages/traitlets/traitlets.py:1016: DeprecationWarning: Widget._widget_types is deprecated.\n",
      "  value = getattr(cls, name)\n",
      "/Users/josephbloom/miniforge3/envs/decision_transformer_interpretability/lib/python3.9/site-packages/traitlets/traitlets.py:1016: DeprecationWarning: Widget.widget_types is deprecated.\n",
      "  value = getattr(cls, name)\n",
      "/Users/josephbloom/miniforge3/envs/decision_transformer_interpretability/lib/python3.9/site-packages/traitlets/traitlets.py:1016: DeprecationWarning: Widget.widgets is deprecated.\n",
      "  value = getattr(cls, name)\n",
      "/Users/josephbloom/miniforge3/envs/decision_transformer_interpretability/lib/python3.9/site-packages/traitlets/traitlets.py:1016: DeprecationWarning: Widget._active_widgets is deprecated.\n",
      "  value = getattr(cls, name)\n",
      "/Users/josephbloom/miniforge3/envs/decision_transformer_interpretability/lib/python3.9/site-packages/traitlets/traitlets.py:1016: DeprecationWarning: Widget._widget_types is deprecated.\n",
      "  value = getattr(cls, name)\n",
      "/Users/josephbloom/miniforge3/envs/decision_transformer_interpretability/lib/python3.9/site-packages/traitlets/traitlets.py:1016: DeprecationWarning: Widget.widget_types is deprecated.\n",
      "  value = getattr(cls, name)\n",
      "/Users/josephbloom/miniforge3/envs/decision_transformer_interpretability/lib/python3.9/site-packages/traitlets/traitlets.py:1016: DeprecationWarning: Widget.widgets is deprecated.\n",
      "  value = getattr(cls, name)\n",
      "/Users/josephbloom/miniforge3/envs/decision_transformer_interpretability/lib/python3.9/site-packages/traitlets/traitlets.py:1016: DeprecationWarning: Widget._active_widgets is deprecated.\n",
      "  value = getattr(cls, name)\n",
      "/Users/josephbloom/miniforge3/envs/decision_transformer_interpretability/lib/python3.9/site-packages/traitlets/traitlets.py:1016: DeprecationWarning: Widget._widget_types is deprecated.\n",
      "  value = getattr(cls, name)\n",
      "/Users/josephbloom/miniforge3/envs/decision_transformer_interpretability/lib/python3.9/site-packages/traitlets/traitlets.py:1016: DeprecationWarning: Widget.widget_types is deprecated.\n",
      "  value = getattr(cls, name)\n",
      "/Users/josephbloom/miniforge3/envs/decision_transformer_interpretability/lib/python3.9/site-packages/traitlets/traitlets.py:1016: DeprecationWarning: Widget.widgets is deprecated.\n",
      "  value = getattr(cls, name)\n",
      "/Users/josephbloom/miniforge3/envs/decision_transformer_interpretability/lib/python3.9/site-packages/traitlets/traitlets.py:1016: DeprecationWarning: Widget._active_widgets is deprecated.\n",
      "  value = getattr(cls, name)\n",
      "/Users/josephbloom/miniforge3/envs/decision_transformer_interpretability/lib/python3.9/site-packages/traitlets/traitlets.py:1016: DeprecationWarning: Widget._widget_types is deprecated.\n",
      "  value = getattr(cls, name)\n",
      "/Users/josephbloom/miniforge3/envs/decision_transformer_interpretability/lib/python3.9/site-packages/traitlets/traitlets.py:1016: DeprecationWarning: Widget.widget_types is deprecated.\n",
      "  value = getattr(cls, name)\n",
      "/Users/josephbloom/miniforge3/envs/decision_transformer_interpretability/lib/python3.9/site-packages/traitlets/traitlets.py:1016: DeprecationWarning: Widget.widgets is deprecated.\n",
      "  value = getattr(cls, name)\n",
      "/Users/josephbloom/miniforge3/envs/decision_transformer_interpretability/lib/python3.9/site-packages/traitlets/traitlets.py:1016: DeprecationWarning: Widget._active_widgets is deprecated.\n",
      "  value = getattr(cls, name)\n",
      "/Users/josephbloom/miniforge3/envs/decision_transformer_interpretability/lib/python3.9/site-packages/traitlets/traitlets.py:1016: DeprecationWarning: Widget._widget_types is deprecated.\n",
      "  value = getattr(cls, name)\n",
      "/Users/josephbloom/miniforge3/envs/decision_transformer_interpretability/lib/python3.9/site-packages/traitlets/traitlets.py:1016: DeprecationWarning: Widget.widget_types is deprecated.\n",
      "  value = getattr(cls, name)\n",
      "/Users/josephbloom/miniforge3/envs/decision_transformer_interpretability/lib/python3.9/site-packages/traitlets/traitlets.py:1016: DeprecationWarning: Widget.widgets is deprecated.\n",
      "  value = getattr(cls, name)\n",
      "/Users/josephbloom/miniforge3/envs/decision_transformer_interpretability/lib/python3.9/site-packages/traitlets/traitlets.py:1016: DeprecationWarning: Widget._active_widgets is deprecated.\n",
      "  value = getattr(cls, name)\n",
      "/Users/josephbloom/miniforge3/envs/decision_transformer_interpretability/lib/python3.9/site-packages/traitlets/traitlets.py:1016: DeprecationWarning: Widget._widget_types is deprecated.\n",
      "  value = getattr(cls, name)\n",
      "/Users/josephbloom/miniforge3/envs/decision_transformer_interpretability/lib/python3.9/site-packages/traitlets/traitlets.py:1016: DeprecationWarning: Widget.widget_types is deprecated.\n",
      "  value = getattr(cls, name)\n",
      "/Users/josephbloom/miniforge3/envs/decision_transformer_interpretability/lib/python3.9/site-packages/traitlets/traitlets.py:1016: DeprecationWarning: Widget.widgets is deprecated.\n",
      "  value = getattr(cls, name)\n",
      "/Users/josephbloom/miniforge3/envs/decision_transformer_interpretability/lib/python3.9/site-packages/traitlets/traitlets.py:1016: DeprecationWarning: Widget._active_widgets is deprecated.\n",
      "  value = getattr(cls, name)\n",
      "/Users/josephbloom/miniforge3/envs/decision_transformer_interpretability/lib/python3.9/site-packages/traitlets/traitlets.py:1016: DeprecationWarning: Widget._widget_types is deprecated.\n",
      "  value = getattr(cls, name)\n",
      "/Users/josephbloom/miniforge3/envs/decision_transformer_interpretability/lib/python3.9/site-packages/traitlets/traitlets.py:1016: DeprecationWarning: Widget.widget_types is deprecated.\n",
      "  value = getattr(cls, name)\n",
      "/Users/josephbloom/miniforge3/envs/decision_transformer_interpretability/lib/python3.9/site-packages/traitlets/traitlets.py:1016: DeprecationWarning: Widget.widgets is deprecated.\n",
      "  value = getattr(cls, name)\n",
      "/Users/josephbloom/miniforge3/envs/decision_transformer_interpretability/lib/python3.9/site-packages/traitlets/traitlets.py:1016: DeprecationWarning: Widget._active_widgets is deprecated.\n",
      "  value = getattr(cls, name)\n",
      "/Users/josephbloom/miniforge3/envs/decision_transformer_interpretability/lib/python3.9/site-packages/traitlets/traitlets.py:1016: DeprecationWarning: Widget._widget_types is deprecated.\n",
      "  value = getattr(cls, name)\n",
      "/Users/josephbloom/miniforge3/envs/decision_transformer_interpretability/lib/python3.9/site-packages/traitlets/traitlets.py:1016: DeprecationWarning: Widget.widget_types is deprecated.\n",
      "  value = getattr(cls, name)\n",
      "/Users/josephbloom/miniforge3/envs/decision_transformer_interpretability/lib/python3.9/site-packages/traitlets/traitlets.py:1016: DeprecationWarning: Widget.widgets is deprecated.\n",
      "  value = getattr(cls, name)\n",
      "/Users/josephbloom/miniforge3/envs/decision_transformer_interpretability/lib/python3.9/site-packages/traitlets/traitlets.py:1016: DeprecationWarning: Widget._active_widgets is deprecated.\n",
      "  value = getattr(cls, name)\n",
      "/Users/josephbloom/miniforge3/envs/decision_transformer_interpretability/lib/python3.9/site-packages/traitlets/traitlets.py:1016: DeprecationWarning: Widget._widget_types is deprecated.\n",
      "  value = getattr(cls, name)\n",
      "/Users/josephbloom/miniforge3/envs/decision_transformer_interpretability/lib/python3.9/site-packages/traitlets/traitlets.py:1016: DeprecationWarning: Widget.widget_types is deprecated.\n",
      "  value = getattr(cls, name)\n",
      "/Users/josephbloom/miniforge3/envs/decision_transformer_interpretability/lib/python3.9/site-packages/traitlets/traitlets.py:1016: DeprecationWarning: Widget.widgets is deprecated.\n",
      "  value = getattr(cls, name)\n",
      "/Users/josephbloom/miniforge3/envs/decision_transformer_interpretability/lib/python3.9/site-packages/traitlets/traitlets.py:1016: DeprecationWarning: Widget._active_widgets is deprecated.\n",
      "  value = getattr(cls, name)\n",
      "/Users/josephbloom/miniforge3/envs/decision_transformer_interpretability/lib/python3.9/site-packages/traitlets/traitlets.py:1016: DeprecationWarning: Widget._widget_types is deprecated.\n",
      "  value = getattr(cls, name)\n",
      "/Users/josephbloom/miniforge3/envs/decision_transformer_interpretability/lib/python3.9/site-packages/traitlets/traitlets.py:1016: DeprecationWarning: Widget.widget_types is deprecated.\n",
      "  value = getattr(cls, name)\n",
      "/Users/josephbloom/miniforge3/envs/decision_transformer_interpretability/lib/python3.9/site-packages/traitlets/traitlets.py:1016: DeprecationWarning: Widget.widgets is deprecated.\n",
      "  value = getattr(cls, name)\n",
      "/Users/josephbloom/miniforge3/envs/decision_transformer_interpretability/lib/python3.9/site-packages/traitlets/traitlets.py:1016: DeprecationWarning: Widget._active_widgets is deprecated.\n",
      "  value = getattr(cls, name)\n",
      "/Users/josephbloom/miniforge3/envs/decision_transformer_interpretability/lib/python3.9/site-packages/traitlets/traitlets.py:1016: DeprecationWarning: Widget._widget_types is deprecated.\n",
      "  value = getattr(cls, name)\n",
      "/Users/josephbloom/miniforge3/envs/decision_transformer_interpretability/lib/python3.9/site-packages/traitlets/traitlets.py:1016: DeprecationWarning: Widget.widget_types is deprecated.\n",
      "  value = getattr(cls, name)\n",
      "/Users/josephbloom/miniforge3/envs/decision_transformer_interpretability/lib/python3.9/site-packages/traitlets/traitlets.py:1016: DeprecationWarning: Widget.widgets is deprecated.\n",
      "  value = getattr(cls, name)\n",
      "/Users/josephbloom/miniforge3/envs/decision_transformer_interpretability/lib/python3.9/site-packages/traitlets/traitlets.py:1016: DeprecationWarning: Widget._active_widgets is deprecated.\n",
      "  value = getattr(cls, name)\n",
      "/Users/josephbloom/miniforge3/envs/decision_transformer_interpretability/lib/python3.9/site-packages/traitlets/traitlets.py:1016: DeprecationWarning: Widget._widget_types is deprecated.\n",
      "  value = getattr(cls, name)\n",
      "/Users/josephbloom/miniforge3/envs/decision_transformer_interpretability/lib/python3.9/site-packages/traitlets/traitlets.py:1016: DeprecationWarning: Widget.widget_types is deprecated.\n",
      "  value = getattr(cls, name)\n",
      "/Users/josephbloom/miniforge3/envs/decision_transformer_interpretability/lib/python3.9/site-packages/traitlets/traitlets.py:1016: DeprecationWarning: Widget.widgets is deprecated.\n",
      "  value = getattr(cls, name)\n",
      "/Users/josephbloom/miniforge3/envs/decision_transformer_interpretability/lib/python3.9/site-packages/traitlets/traitlets.py:1016: DeprecationWarning: Widget._active_widgets is deprecated.\n",
      "  value = getattr(cls, name)\n",
      "/Users/josephbloom/miniforge3/envs/decision_transformer_interpretability/lib/python3.9/site-packages/traitlets/traitlets.py:1016: DeprecationWarning: Widget._widget_types is deprecated.\n",
      "  value = getattr(cls, name)\n",
      "/Users/josephbloom/miniforge3/envs/decision_transformer_interpretability/lib/python3.9/site-packages/traitlets/traitlets.py:1016: DeprecationWarning: Widget.widget_types is deprecated.\n",
      "  value = getattr(cls, name)\n",
      "/Users/josephbloom/miniforge3/envs/decision_transformer_interpretability/lib/python3.9/site-packages/traitlets/traitlets.py:1016: DeprecationWarning: Widget.widgets is deprecated.\n",
      "  value = getattr(cls, name)\n",
      "/Users/josephbloom/miniforge3/envs/decision_transformer_interpretability/lib/python3.9/site-packages/traitlets/traitlets.py:1016: DeprecationWarning: Widget._active_widgets is deprecated.\n",
      "  value = getattr(cls, name)\n",
      "/Users/josephbloom/miniforge3/envs/decision_transformer_interpretability/lib/python3.9/site-packages/traitlets/traitlets.py:1016: DeprecationWarning: Widget._widget_types is deprecated.\n",
      "  value = getattr(cls, name)\n",
      "/Users/josephbloom/miniforge3/envs/decision_transformer_interpretability/lib/python3.9/site-packages/traitlets/traitlets.py:1016: DeprecationWarning: Widget.widget_types is deprecated.\n",
      "  value = getattr(cls, name)\n",
      "/Users/josephbloom/miniforge3/envs/decision_transformer_interpretability/lib/python3.9/site-packages/traitlets/traitlets.py:1016: DeprecationWarning: Widget.widgets is deprecated.\n",
      "  value = getattr(cls, name)\n",
      "/Users/josephbloom/miniforge3/envs/decision_transformer_interpretability/lib/python3.9/site-packages/traitlets/traitlets.py:1016: DeprecationWarning: Widget._active_widgets is deprecated.\n",
      "  value = getattr(cls, name)\n",
      "/Users/josephbloom/miniforge3/envs/decision_transformer_interpretability/lib/python3.9/site-packages/traitlets/traitlets.py:1016: DeprecationWarning: Widget._widget_types is deprecated.\n",
      "  value = getattr(cls, name)\n",
      "/Users/josephbloom/miniforge3/envs/decision_transformer_interpretability/lib/python3.9/site-packages/traitlets/traitlets.py:1016: DeprecationWarning: Widget.widget_types is deprecated.\n",
      "  value = getattr(cls, name)\n",
      "/Users/josephbloom/miniforge3/envs/decision_transformer_interpretability/lib/python3.9/site-packages/traitlets/traitlets.py:1016: DeprecationWarning: Widget.widgets is deprecated.\n",
      "  value = getattr(cls, name)\n",
      "/Users/josephbloom/miniforge3/envs/decision_transformer_interpretability/lib/python3.9/site-packages/traitlets/traitlets.py:1016: DeprecationWarning: Widget._active_widgets is deprecated.\n",
      "  value = getattr(cls, name)\n",
      "/Users/josephbloom/miniforge3/envs/decision_transformer_interpretability/lib/python3.9/site-packages/traitlets/traitlets.py:1016: DeprecationWarning: Widget._widget_types is deprecated.\n",
      "  value = getattr(cls, name)\n",
      "/Users/josephbloom/miniforge3/envs/decision_transformer_interpretability/lib/python3.9/site-packages/traitlets/traitlets.py:1016: DeprecationWarning: Widget.widget_types is deprecated.\n",
      "  value = getattr(cls, name)\n",
      "/Users/josephbloom/miniforge3/envs/decision_transformer_interpretability/lib/python3.9/site-packages/traitlets/traitlets.py:1016: DeprecationWarning: Widget.widgets is deprecated.\n",
      "  value = getattr(cls, name)\n",
      "/Users/josephbloom/miniforge3/envs/decision_transformer_interpretability/lib/python3.9/site-packages/traitlets/traitlets.py:1016: DeprecationWarning: Widget._active_widgets is deprecated.\n",
      "  value = getattr(cls, name)\n",
      "/Users/josephbloom/miniforge3/envs/decision_transformer_interpretability/lib/python3.9/site-packages/traitlets/traitlets.py:1016: DeprecationWarning: Widget._widget_types is deprecated.\n",
      "  value = getattr(cls, name)\n",
      "/Users/josephbloom/miniforge3/envs/decision_transformer_interpretability/lib/python3.9/site-packages/traitlets/traitlets.py:1016: DeprecationWarning: Widget.widget_types is deprecated.\n",
      "  value = getattr(cls, name)\n",
      "/Users/josephbloom/miniforge3/envs/decision_transformer_interpretability/lib/python3.9/site-packages/traitlets/traitlets.py:1016: DeprecationWarning: Widget.widgets is deprecated.\n",
      "  value = getattr(cls, name)\n",
      "/Users/josephbloom/miniforge3/envs/decision_transformer_interpretability/lib/python3.9/site-packages/traitlets/traitlets.py:1016: DeprecationWarning: Widget._active_widgets is deprecated.\n",
      "  value = getattr(cls, name)\n",
      "/Users/josephbloom/miniforge3/envs/decision_transformer_interpretability/lib/python3.9/site-packages/traitlets/traitlets.py:1016: DeprecationWarning: Widget._widget_types is deprecated.\n",
      "  value = getattr(cls, name)\n",
      "/Users/josephbloom/miniforge3/envs/decision_transformer_interpretability/lib/python3.9/site-packages/traitlets/traitlets.py:1016: DeprecationWarning: Widget.widget_types is deprecated.\n",
      "  value = getattr(cls, name)\n",
      "/Users/josephbloom/miniforge3/envs/decision_transformer_interpretability/lib/python3.9/site-packages/traitlets/traitlets.py:1016: DeprecationWarning: Widget.widgets is deprecated.\n",
      "  value = getattr(cls, name)\n",
      "/Users/josephbloom/miniforge3/envs/decision_transformer_interpretability/lib/python3.9/site-packages/traitlets/traitlets.py:1016: DeprecationWarning: Widget._active_widgets is deprecated.\n",
      "  value = getattr(cls, name)\n",
      "/Users/josephbloom/miniforge3/envs/decision_transformer_interpretability/lib/python3.9/site-packages/traitlets/traitlets.py:1016: DeprecationWarning: Widget._widget_types is deprecated.\n",
      "  value = getattr(cls, name)\n",
      "/Users/josephbloom/miniforge3/envs/decision_transformer_interpretability/lib/python3.9/site-packages/traitlets/traitlets.py:1016: DeprecationWarning: Widget.widget_types is deprecated.\n",
      "  value = getattr(cls, name)\n",
      "/Users/josephbloom/miniforge3/envs/decision_transformer_interpretability/lib/python3.9/site-packages/traitlets/traitlets.py:1016: DeprecationWarning: Widget.widgets is deprecated.\n",
      "  value = getattr(cls, name)\n",
      "/Users/josephbloom/miniforge3/envs/decision_transformer_interpretability/lib/python3.9/site-packages/traitlets/traitlets.py:1016: DeprecationWarning: Widget._active_widgets is deprecated.\n",
      "  value = getattr(cls, name)\n",
      "/Users/josephbloom/miniforge3/envs/decision_transformer_interpretability/lib/python3.9/site-packages/traitlets/traitlets.py:1016: DeprecationWarning: Widget._widget_types is deprecated.\n",
      "  value = getattr(cls, name)\n",
      "/Users/josephbloom/miniforge3/envs/decision_transformer_interpretability/lib/python3.9/site-packages/traitlets/traitlets.py:1016: DeprecationWarning: Widget.widget_types is deprecated.\n",
      "  value = getattr(cls, name)\n",
      "/Users/josephbloom/miniforge3/envs/decision_transformer_interpretability/lib/python3.9/site-packages/traitlets/traitlets.py:1016: DeprecationWarning: Widget.widgets is deprecated.\n",
      "  value = getattr(cls, name)\n",
      "/Users/josephbloom/miniforge3/envs/decision_transformer_interpretability/lib/python3.9/site-packages/traitlets/traitlets.py:1016: DeprecationWarning: Widget._active_widgets is deprecated.\n",
      "  value = getattr(cls, name)\n",
      "/Users/josephbloom/miniforge3/envs/decision_transformer_interpretability/lib/python3.9/site-packages/traitlets/traitlets.py:1016: DeprecationWarning: Widget._widget_types is deprecated.\n",
      "  value = getattr(cls, name)\n",
      "/Users/josephbloom/miniforge3/envs/decision_transformer_interpretability/lib/python3.9/site-packages/traitlets/traitlets.py:1016: DeprecationWarning: Widget.widget_types is deprecated.\n",
      "  value = getattr(cls, name)\n",
      "/Users/josephbloom/miniforge3/envs/decision_transformer_interpretability/lib/python3.9/site-packages/traitlets/traitlets.py:1016: DeprecationWarning: Widget.widgets is deprecated.\n",
      "  value = getattr(cls, name)\n",
      "/Users/josephbloom/miniforge3/envs/decision_transformer_interpretability/lib/python3.9/site-packages/traitlets/traitlets.py:1016: DeprecationWarning: Widget._active_widgets is deprecated.\n",
      "  value = getattr(cls, name)\n",
      "/Users/josephbloom/miniforge3/envs/decision_transformer_interpretability/lib/python3.9/site-packages/traitlets/traitlets.py:1016: DeprecationWarning: Widget._widget_types is deprecated.\n",
      "  value = getattr(cls, name)\n",
      "/Users/josephbloom/miniforge3/envs/decision_transformer_interpretability/lib/python3.9/site-packages/traitlets/traitlets.py:1016: DeprecationWarning: Widget.widget_types is deprecated.\n",
      "  value = getattr(cls, name)\n",
      "/Users/josephbloom/miniforge3/envs/decision_transformer_interpretability/lib/python3.9/site-packages/traitlets/traitlets.py:1016: DeprecationWarning: Widget.widgets is deprecated.\n",
      "  value = getattr(cls, name)\n",
      "/Users/josephbloom/miniforge3/envs/decision_transformer_interpretability/lib/python3.9/site-packages/traitlets/traitlets.py:1016: DeprecationWarning: Widget._active_widgets is deprecated.\n",
      "  value = getattr(cls, name)\n",
      "/Users/josephbloom/miniforge3/envs/decision_transformer_interpretability/lib/python3.9/site-packages/traitlets/traitlets.py:1016: DeprecationWarning: Widget._widget_types is deprecated.\n",
      "  value = getattr(cls, name)\n",
      "/Users/josephbloom/miniforge3/envs/decision_transformer_interpretability/lib/python3.9/site-packages/traitlets/traitlets.py:1016: DeprecationWarning: Widget.widget_types is deprecated.\n",
      "  value = getattr(cls, name)\n",
      "/Users/josephbloom/miniforge3/envs/decision_transformer_interpretability/lib/python3.9/site-packages/traitlets/traitlets.py:1016: DeprecationWarning: Widget.widgets is deprecated.\n",
      "  value = getattr(cls, name)\n",
      "/Users/josephbloom/miniforge3/envs/decision_transformer_interpretability/lib/python3.9/site-packages/traitlets/traitlets.py:1016: DeprecationWarning: Widget._active_widgets is deprecated.\n",
      "  value = getattr(cls, name)\n",
      "/Users/josephbloom/miniforge3/envs/decision_transformer_interpretability/lib/python3.9/site-packages/traitlets/traitlets.py:1016: DeprecationWarning: Widget._widget_types is deprecated.\n",
      "  value = getattr(cls, name)\n",
      "/Users/josephbloom/miniforge3/envs/decision_transformer_interpretability/lib/python3.9/site-packages/traitlets/traitlets.py:1016: DeprecationWarning: Widget.widget_types is deprecated.\n",
      "  value = getattr(cls, name)\n",
      "/Users/josephbloom/miniforge3/envs/decision_transformer_interpretability/lib/python3.9/site-packages/traitlets/traitlets.py:1016: DeprecationWarning: Widget.widgets is deprecated.\n",
      "  value = getattr(cls, name)\n",
      "/Users/josephbloom/miniforge3/envs/decision_transformer_interpretability/lib/python3.9/site-packages/traitlets/traitlets.py:1016: DeprecationWarning: Widget._active_widgets is deprecated.\n",
      "  value = getattr(cls, name)\n",
      "/Users/josephbloom/miniforge3/envs/decision_transformer_interpretability/lib/python3.9/site-packages/traitlets/traitlets.py:1016: DeprecationWarning: Widget._widget_types is deprecated.\n",
      "  value = getattr(cls, name)\n",
      "/Users/josephbloom/miniforge3/envs/decision_transformer_interpretability/lib/python3.9/site-packages/traitlets/traitlets.py:1016: DeprecationWarning: Widget.widget_types is deprecated.\n",
      "  value = getattr(cls, name)\n",
      "/Users/josephbloom/miniforge3/envs/decision_transformer_interpretability/lib/python3.9/site-packages/traitlets/traitlets.py:1016: DeprecationWarning: Widget.widgets is deprecated.\n",
      "  value = getattr(cls, name)\n",
      "/Users/josephbloom/miniforge3/envs/decision_transformer_interpretability/lib/python3.9/site-packages/traitlets/traitlets.py:1016: DeprecationWarning: Widget._active_widgets is deprecated.\n",
      "  value = getattr(cls, name)\n",
      "/Users/josephbloom/miniforge3/envs/decision_transformer_interpretability/lib/python3.9/site-packages/traitlets/traitlets.py:1016: DeprecationWarning: Widget._widget_types is deprecated.\n",
      "  value = getattr(cls, name)\n",
      "/Users/josephbloom/miniforge3/envs/decision_transformer_interpretability/lib/python3.9/site-packages/traitlets/traitlets.py:1016: DeprecationWarning: Widget.widget_types is deprecated.\n",
      "  value = getattr(cls, name)\n",
      "/Users/josephbloom/miniforge3/envs/decision_transformer_interpretability/lib/python3.9/site-packages/traitlets/traitlets.py:1016: DeprecationWarning: Widget.widgets is deprecated.\n",
      "  value = getattr(cls, name)\n",
      "/Users/josephbloom/miniforge3/envs/decision_transformer_interpretability/lib/python3.9/site-packages/traitlets/traitlets.py:1016: DeprecationWarning: Widget._active_widgets is deprecated.\n",
      "  value = getattr(cls, name)\n",
      "/Users/josephbloom/miniforge3/envs/decision_transformer_interpretability/lib/python3.9/site-packages/traitlets/traitlets.py:1016: DeprecationWarning: Widget._widget_types is deprecated.\n",
      "  value = getattr(cls, name)\n",
      "/Users/josephbloom/miniforge3/envs/decision_transformer_interpretability/lib/python3.9/site-packages/traitlets/traitlets.py:1016: DeprecationWarning: Widget.widget_types is deprecated.\n",
      "  value = getattr(cls, name)\n",
      "/Users/josephbloom/miniforge3/envs/decision_transformer_interpretability/lib/python3.9/site-packages/traitlets/traitlets.py:1016: DeprecationWarning: Widget.widgets is deprecated.\n",
      "  value = getattr(cls, name)\n",
      "/Users/josephbloom/miniforge3/envs/decision_transformer_interpretability/lib/python3.9/site-packages/traitlets/traitlets.py:1016: DeprecationWarning: Widget._active_widgets is deprecated.\n",
      "  value = getattr(cls, name)\n",
      "/Users/josephbloom/miniforge3/envs/decision_transformer_interpretability/lib/python3.9/site-packages/traitlets/traitlets.py:1016: DeprecationWarning: Widget._widget_types is deprecated.\n",
      "  value = getattr(cls, name)\n",
      "/Users/josephbloom/miniforge3/envs/decision_transformer_interpretability/lib/python3.9/site-packages/traitlets/traitlets.py:1016: DeprecationWarning: Widget.widget_types is deprecated.\n",
      "  value = getattr(cls, name)\n",
      "/Users/josephbloom/miniforge3/envs/decision_transformer_interpretability/lib/python3.9/site-packages/traitlets/traitlets.py:1016: DeprecationWarning: Widget.widgets is deprecated.\n",
      "  value = getattr(cls, name)\n",
      "/Users/josephbloom/miniforge3/envs/decision_transformer_interpretability/lib/python3.9/site-packages/traitlets/traitlets.py:1016: DeprecationWarning: Widget._active_widgets is deprecated.\n",
      "  value = getattr(cls, name)\n",
      "/Users/josephbloom/miniforge3/envs/decision_transformer_interpretability/lib/python3.9/site-packages/traitlets/traitlets.py:1016: DeprecationWarning: Widget._widget_types is deprecated.\n",
      "  value = getattr(cls, name)\n",
      "/Users/josephbloom/miniforge3/envs/decision_transformer_interpretability/lib/python3.9/site-packages/traitlets/traitlets.py:1016: DeprecationWarning: Widget.widget_types is deprecated.\n",
      "  value = getattr(cls, name)\n",
      "/Users/josephbloom/miniforge3/envs/decision_transformer_interpretability/lib/python3.9/site-packages/traitlets/traitlets.py:1016: DeprecationWarning: Widget.widgets is deprecated.\n",
      "  value = getattr(cls, name)\n",
      "/Users/josephbloom/miniforge3/envs/decision_transformer_interpretability/lib/python3.9/site-packages/traitlets/traitlets.py:1016: DeprecationWarning: Widget._active_widgets is deprecated.\n",
      "  value = getattr(cls, name)\n",
      "/Users/josephbloom/miniforge3/envs/decision_transformer_interpretability/lib/python3.9/site-packages/traitlets/traitlets.py:1016: DeprecationWarning: Widget._widget_types is deprecated.\n",
      "  value = getattr(cls, name)\n",
      "/Users/josephbloom/miniforge3/envs/decision_transformer_interpretability/lib/python3.9/site-packages/traitlets/traitlets.py:1016: DeprecationWarning: Widget.widget_types is deprecated.\n",
      "  value = getattr(cls, name)\n",
      "/Users/josephbloom/miniforge3/envs/decision_transformer_interpretability/lib/python3.9/site-packages/traitlets/traitlets.py:1016: DeprecationWarning: Widget.widgets is deprecated.\n",
      "  value = getattr(cls, name)\n",
      "/Users/josephbloom/miniforge3/envs/decision_transformer_interpretability/lib/python3.9/site-packages/traitlets/traitlets.py:1016: DeprecationWarning: Widget._active_widgets is deprecated.\n",
      "  value = getattr(cls, name)\n",
      "/Users/josephbloom/miniforge3/envs/decision_transformer_interpretability/lib/python3.9/site-packages/traitlets/traitlets.py:1016: DeprecationWarning: Widget._widget_types is deprecated.\n",
      "  value = getattr(cls, name)\n",
      "/Users/josephbloom/miniforge3/envs/decision_transformer_interpretability/lib/python3.9/site-packages/traitlets/traitlets.py:1016: DeprecationWarning: Widget.widget_types is deprecated.\n",
      "  value = getattr(cls, name)\n",
      "/Users/josephbloom/miniforge3/envs/decision_transformer_interpretability/lib/python3.9/site-packages/traitlets/traitlets.py:1016: DeprecationWarning: Widget.widgets is deprecated.\n",
      "  value = getattr(cls, name)\n",
      "/Users/josephbloom/miniforge3/envs/decision_transformer_interpretability/lib/python3.9/site-packages/traitlets/traitlets.py:1016: DeprecationWarning: Widget._active_widgets is deprecated.\n",
      "  value = getattr(cls, name)\n",
      "/Users/josephbloom/miniforge3/envs/decision_transformer_interpretability/lib/python3.9/site-packages/traitlets/traitlets.py:1016: DeprecationWarning: Widget._widget_types is deprecated.\n",
      "  value = getattr(cls, name)\n",
      "/Users/josephbloom/miniforge3/envs/decision_transformer_interpretability/lib/python3.9/site-packages/traitlets/traitlets.py:1016: DeprecationWarning: Widget.widget_types is deprecated.\n",
      "  value = getattr(cls, name)\n",
      "/Users/josephbloom/miniforge3/envs/decision_transformer_interpretability/lib/python3.9/site-packages/traitlets/traitlets.py:1016: DeprecationWarning: Widget.widgets is deprecated.\n",
      "  value = getattr(cls, name)\n",
      "/Users/josephbloom/miniforge3/envs/decision_transformer_interpretability/lib/python3.9/site-packages/traitlets/traitlets.py:1016: DeprecationWarning: Widget._active_widgets is deprecated.\n",
      "  value = getattr(cls, name)\n",
      "/Users/josephbloom/miniforge3/envs/decision_transformer_interpretability/lib/python3.9/site-packages/traitlets/traitlets.py:1016: DeprecationWarning: Widget._widget_types is deprecated.\n",
      "  value = getattr(cls, name)\n",
      "/Users/josephbloom/miniforge3/envs/decision_transformer_interpretability/lib/python3.9/site-packages/traitlets/traitlets.py:1016: DeprecationWarning: Widget.widget_types is deprecated.\n",
      "  value = getattr(cls, name)\n",
      "/Users/josephbloom/miniforge3/envs/decision_transformer_interpretability/lib/python3.9/site-packages/traitlets/traitlets.py:1016: DeprecationWarning: Widget.widgets is deprecated.\n",
      "  value = getattr(cls, name)\n",
      "/Users/josephbloom/miniforge3/envs/decision_transformer_interpretability/lib/python3.9/site-packages/traitlets/traitlets.py:1016: DeprecationWarning: Widget._active_widgets is deprecated.\n",
      "  value = getattr(cls, name)\n",
      "/Users/josephbloom/miniforge3/envs/decision_transformer_interpretability/lib/python3.9/site-packages/traitlets/traitlets.py:1016: DeprecationWarning: Widget._widget_types is deprecated.\n",
      "  value = getattr(cls, name)\n",
      "/Users/josephbloom/miniforge3/envs/decision_transformer_interpretability/lib/python3.9/site-packages/traitlets/traitlets.py:1016: DeprecationWarning: Widget.widget_types is deprecated.\n",
      "  value = getattr(cls, name)\n",
      "/Users/josephbloom/miniforge3/envs/decision_transformer_interpretability/lib/python3.9/site-packages/traitlets/traitlets.py:1016: DeprecationWarning: Widget.widgets is deprecated.\n",
      "  value = getattr(cls, name)\n",
      "/Users/josephbloom/miniforge3/envs/decision_transformer_interpretability/lib/python3.9/site-packages/traitlets/traitlets.py:1016: DeprecationWarning: Widget._active_widgets is deprecated.\n",
      "  value = getattr(cls, name)\n",
      "/Users/josephbloom/miniforge3/envs/decision_transformer_interpretability/lib/python3.9/site-packages/traitlets/traitlets.py:1016: DeprecationWarning: Widget._widget_types is deprecated.\n",
      "  value = getattr(cls, name)\n",
      "/Users/josephbloom/miniforge3/envs/decision_transformer_interpretability/lib/python3.9/site-packages/traitlets/traitlets.py:1016: DeprecationWarning: Widget.widget_types is deprecated.\n",
      "  value = getattr(cls, name)\n",
      "/Users/josephbloom/miniforge3/envs/decision_transformer_interpretability/lib/python3.9/site-packages/traitlets/traitlets.py:1016: DeprecationWarning: Widget.widgets is deprecated.\n",
      "  value = getattr(cls, name)\n",
      "/Users/josephbloom/miniforge3/envs/decision_transformer_interpretability/lib/python3.9/site-packages/traitlets/traitlets.py:1016: DeprecationWarning: Widget._active_widgets is deprecated.\n",
      "  value = getattr(cls, name)\n",
      "/Users/josephbloom/miniforge3/envs/decision_transformer_interpretability/lib/python3.9/site-packages/traitlets/traitlets.py:1016: DeprecationWarning: Widget._widget_types is deprecated.\n",
      "  value = getattr(cls, name)\n",
      "/Users/josephbloom/miniforge3/envs/decision_transformer_interpretability/lib/python3.9/site-packages/traitlets/traitlets.py:1016: DeprecationWarning: Widget.widget_types is deprecated.\n",
      "  value = getattr(cls, name)\n",
      "/Users/josephbloom/miniforge3/envs/decision_transformer_interpretability/lib/python3.9/site-packages/traitlets/traitlets.py:1016: DeprecationWarning: Widget.widgets is deprecated.\n",
      "  value = getattr(cls, name)\n",
      "/Users/josephbloom/miniforge3/envs/decision_transformer_interpretability/lib/python3.9/site-packages/traitlets/traitlets.py:1016: DeprecationWarning: Widget._active_widgets is deprecated.\n",
      "  value = getattr(cls, name)\n",
      "/Users/josephbloom/miniforge3/envs/decision_transformer_interpretability/lib/python3.9/site-packages/traitlets/traitlets.py:1016: DeprecationWarning: Widget._widget_types is deprecated.\n",
      "  value = getattr(cls, name)\n",
      "/Users/josephbloom/miniforge3/envs/decision_transformer_interpretability/lib/python3.9/site-packages/traitlets/traitlets.py:1016: DeprecationWarning: Widget.widget_types is deprecated.\n",
      "  value = getattr(cls, name)\n",
      "/Users/josephbloom/miniforge3/envs/decision_transformer_interpretability/lib/python3.9/site-packages/traitlets/traitlets.py:1016: DeprecationWarning: Widget.widgets is deprecated.\n",
      "  value = getattr(cls, name)\n",
      "/Users/josephbloom/miniforge3/envs/decision_transformer_interpretability/lib/python3.9/site-packages/traitlets/traitlets.py:1016: DeprecationWarning: Widget._active_widgets is deprecated.\n",
      "  value = getattr(cls, name)\n",
      "/Users/josephbloom/miniforge3/envs/decision_transformer_interpretability/lib/python3.9/site-packages/traitlets/traitlets.py:1016: DeprecationWarning: Widget._widget_types is deprecated.\n",
      "  value = getattr(cls, name)\n",
      "/Users/josephbloom/miniforge3/envs/decision_transformer_interpretability/lib/python3.9/site-packages/traitlets/traitlets.py:1016: DeprecationWarning: Widget.widget_types is deprecated.\n",
      "  value = getattr(cls, name)\n",
      "/Users/josephbloom/miniforge3/envs/decision_transformer_interpretability/lib/python3.9/site-packages/traitlets/traitlets.py:1016: DeprecationWarning: Widget.widgets is deprecated.\n",
      "  value = getattr(cls, name)\n",
      "/Users/josephbloom/miniforge3/envs/decision_transformer_interpretability/lib/python3.9/site-packages/traitlets/traitlets.py:1016: DeprecationWarning: Widget._active_widgets is deprecated.\n",
      "  value = getattr(cls, name)\n",
      "/Users/josephbloom/miniforge3/envs/decision_transformer_interpretability/lib/python3.9/site-packages/traitlets/traitlets.py:1016: DeprecationWarning: Widget._widget_types is deprecated.\n",
      "  value = getattr(cls, name)\n",
      "/Users/josephbloom/miniforge3/envs/decision_transformer_interpretability/lib/python3.9/site-packages/traitlets/traitlets.py:1016: DeprecationWarning: Widget.widget_types is deprecated.\n",
      "  value = getattr(cls, name)\n",
      "/Users/josephbloom/miniforge3/envs/decision_transformer_interpretability/lib/python3.9/site-packages/traitlets/traitlets.py:1016: DeprecationWarning: Widget.widgets is deprecated.\n",
      "  value = getattr(cls, name)\n",
      "/Users/josephbloom/miniforge3/envs/decision_transformer_interpretability/lib/python3.9/site-packages/traitlets/traitlets.py:1016: DeprecationWarning: Widget._active_widgets is deprecated.\n",
      "  value = getattr(cls, name)\n",
      "/Users/josephbloom/miniforge3/envs/decision_transformer_interpretability/lib/python3.9/site-packages/traitlets/traitlets.py:1016: DeprecationWarning: Widget._widget_types is deprecated.\n",
      "  value = getattr(cls, name)\n",
      "/Users/josephbloom/miniforge3/envs/decision_transformer_interpretability/lib/python3.9/site-packages/traitlets/traitlets.py:1016: DeprecationWarning: Widget.widget_types is deprecated.\n",
      "  value = getattr(cls, name)\n",
      "/Users/josephbloom/miniforge3/envs/decision_transformer_interpretability/lib/python3.9/site-packages/traitlets/traitlets.py:1016: DeprecationWarning: Widget.widgets is deprecated.\n",
      "  value = getattr(cls, name)\n",
      "/Users/josephbloom/miniforge3/envs/decision_transformer_interpretability/lib/python3.9/site-packages/traitlets/traitlets.py:1016: DeprecationWarning: Widget._active_widgets is deprecated.\n",
      "  value = getattr(cls, name)\n",
      "/Users/josephbloom/miniforge3/envs/decision_transformer_interpretability/lib/python3.9/site-packages/traitlets/traitlets.py:1016: DeprecationWarning: Widget._widget_types is deprecated.\n",
      "  value = getattr(cls, name)\n",
      "/Users/josephbloom/miniforge3/envs/decision_transformer_interpretability/lib/python3.9/site-packages/traitlets/traitlets.py:1016: DeprecationWarning: Widget.widget_types is deprecated.\n",
      "  value = getattr(cls, name)\n",
      "/Users/josephbloom/miniforge3/envs/decision_transformer_interpretability/lib/python3.9/site-packages/traitlets/traitlets.py:1016: DeprecationWarning: Widget.widgets is deprecated.\n",
      "  value = getattr(cls, name)\n",
      "/Users/josephbloom/miniforge3/envs/decision_transformer_interpretability/lib/python3.9/site-packages/traitlets/traitlets.py:1016: DeprecationWarning: Widget._active_widgets is deprecated.\n",
      "  value = getattr(cls, name)\n",
      "/Users/josephbloom/miniforge3/envs/decision_transformer_interpretability/lib/python3.9/site-packages/traitlets/traitlets.py:1016: DeprecationWarning: Widget._widget_types is deprecated.\n",
      "  value = getattr(cls, name)\n",
      "/Users/josephbloom/miniforge3/envs/decision_transformer_interpretability/lib/python3.9/site-packages/traitlets/traitlets.py:1016: DeprecationWarning: Widget.widget_types is deprecated.\n",
      "  value = getattr(cls, name)\n",
      "/Users/josephbloom/miniforge3/envs/decision_transformer_interpretability/lib/python3.9/site-packages/traitlets/traitlets.py:1016: DeprecationWarning: Widget.widgets is deprecated.\n",
      "  value = getattr(cls, name)\n",
      "/Users/josephbloom/miniforge3/envs/decision_transformer_interpretability/lib/python3.9/site-packages/traitlets/traitlets.py:1016: DeprecationWarning: Widget._active_widgets is deprecated.\n",
      "  value = getattr(cls, name)\n",
      "/Users/josephbloom/miniforge3/envs/decision_transformer_interpretability/lib/python3.9/site-packages/traitlets/traitlets.py:1016: DeprecationWarning: Widget._widget_types is deprecated.\n",
      "  value = getattr(cls, name)\n",
      "/Users/josephbloom/miniforge3/envs/decision_transformer_interpretability/lib/python3.9/site-packages/traitlets/traitlets.py:1016: DeprecationWarning: Widget.widget_types is deprecated.\n",
      "  value = getattr(cls, name)\n",
      "/Users/josephbloom/miniforge3/envs/decision_transformer_interpretability/lib/python3.9/site-packages/traitlets/traitlets.py:1016: DeprecationWarning: Widget.widgets is deprecated.\n",
      "  value = getattr(cls, name)\n",
      "/Users/josephbloom/miniforge3/envs/decision_transformer_interpretability/lib/python3.9/site-packages/traitlets/traitlets.py:1016: DeprecationWarning: Widget._active_widgets is deprecated.\n",
      "  value = getattr(cls, name)\n",
      "/Users/josephbloom/miniforge3/envs/decision_transformer_interpretability/lib/python3.9/site-packages/traitlets/traitlets.py:1016: DeprecationWarning: Widget._widget_types is deprecated.\n",
      "  value = getattr(cls, name)\n",
      "/Users/josephbloom/miniforge3/envs/decision_transformer_interpretability/lib/python3.9/site-packages/traitlets/traitlets.py:1016: DeprecationWarning: Widget.widget_types is deprecated.\n",
      "  value = getattr(cls, name)\n",
      "/Users/josephbloom/miniforge3/envs/decision_transformer_interpretability/lib/python3.9/site-packages/traitlets/traitlets.py:1016: DeprecationWarning: Widget.widgets is deprecated.\n",
      "  value = getattr(cls, name)\n",
      "/Users/josephbloom/miniforge3/envs/decision_transformer_interpretability/lib/python3.9/site-packages/traitlets/traitlets.py:1016: DeprecationWarning: Widget._active_widgets is deprecated.\n",
      "  value = getattr(cls, name)\n",
      "/Users/josephbloom/miniforge3/envs/decision_transformer_interpretability/lib/python3.9/site-packages/traitlets/traitlets.py:1016: DeprecationWarning: Widget._widget_types is deprecated.\n",
      "  value = getattr(cls, name)\n",
      "/Users/josephbloom/miniforge3/envs/decision_transformer_interpretability/lib/python3.9/site-packages/traitlets/traitlets.py:1016: DeprecationWarning: Widget.widget_types is deprecated.\n",
      "  value = getattr(cls, name)\n",
      "/Users/josephbloom/miniforge3/envs/decision_transformer_interpretability/lib/python3.9/site-packages/traitlets/traitlets.py:1016: DeprecationWarning: Widget.widgets is deprecated.\n",
      "  value = getattr(cls, name)\n",
      "/Users/josephbloom/miniforge3/envs/decision_transformer_interpretability/lib/python3.9/site-packages/traitlets/traitlets.py:1016: DeprecationWarning: Widget._active_widgets is deprecated.\n",
      "  value = getattr(cls, name)\n",
      "/Users/josephbloom/miniforge3/envs/decision_transformer_interpretability/lib/python3.9/site-packages/traitlets/traitlets.py:1016: DeprecationWarning: Widget._widget_types is deprecated.\n",
      "  value = getattr(cls, name)\n",
      "/Users/josephbloom/miniforge3/envs/decision_transformer_interpretability/lib/python3.9/site-packages/traitlets/traitlets.py:1016: DeprecationWarning: Widget.widget_types is deprecated.\n",
      "  value = getattr(cls, name)\n",
      "/Users/josephbloom/miniforge3/envs/decision_transformer_interpretability/lib/python3.9/site-packages/traitlets/traitlets.py:1016: DeprecationWarning: Widget.widgets is deprecated.\n",
      "  value = getattr(cls, name)\n",
      "/Users/josephbloom/miniforge3/envs/decision_transformer_interpretability/lib/python3.9/site-packages/traitlets/traitlets.py:1016: DeprecationWarning: Widget._active_widgets is deprecated.\n",
      "  value = getattr(cls, name)\n",
      "/Users/josephbloom/miniforge3/envs/decision_transformer_interpretability/lib/python3.9/site-packages/traitlets/traitlets.py:1016: DeprecationWarning: Widget._widget_types is deprecated.\n",
      "  value = getattr(cls, name)\n",
      "/Users/josephbloom/miniforge3/envs/decision_transformer_interpretability/lib/python3.9/site-packages/traitlets/traitlets.py:1016: DeprecationWarning: Widget.widget_types is deprecated.\n",
      "  value = getattr(cls, name)\n",
      "/Users/josephbloom/miniforge3/envs/decision_transformer_interpretability/lib/python3.9/site-packages/traitlets/traitlets.py:1016: DeprecationWarning: Widget.widgets is deprecated.\n",
      "  value = getattr(cls, name)\n",
      "/Users/josephbloom/miniforge3/envs/decision_transformer_interpretability/lib/python3.9/site-packages/traitlets/traitlets.py:1016: DeprecationWarning: Widget._active_widgets is deprecated.\n",
      "  value = getattr(cls, name)\n",
      "/Users/josephbloom/miniforge3/envs/decision_transformer_interpretability/lib/python3.9/site-packages/traitlets/traitlets.py:1016: DeprecationWarning: Widget._widget_types is deprecated.\n",
      "  value = getattr(cls, name)\n",
      "/Users/josephbloom/miniforge3/envs/decision_transformer_interpretability/lib/python3.9/site-packages/traitlets/traitlets.py:1016: DeprecationWarning: Widget.widget_types is deprecated.\n",
      "  value = getattr(cls, name)\n",
      "/Users/josephbloom/miniforge3/envs/decision_transformer_interpretability/lib/python3.9/site-packages/traitlets/traitlets.py:1016: DeprecationWarning: Widget.widgets is deprecated.\n",
      "  value = getattr(cls, name)\n",
      "/Users/josephbloom/miniforge3/envs/decision_transformer_interpretability/lib/python3.9/site-packages/traitlets/traitlets.py:1016: DeprecationWarning: Widget._active_widgets is deprecated.\n",
      "  value = getattr(cls, name)\n",
      "/Users/josephbloom/miniforge3/envs/decision_transformer_interpretability/lib/python3.9/site-packages/traitlets/traitlets.py:1016: DeprecationWarning: Widget._widget_types is deprecated.\n",
      "  value = getattr(cls, name)\n",
      "/Users/josephbloom/miniforge3/envs/decision_transformer_interpretability/lib/python3.9/site-packages/traitlets/traitlets.py:1016: DeprecationWarning: Widget.widget_types is deprecated.\n",
      "  value = getattr(cls, name)\n",
      "/Users/josephbloom/miniforge3/envs/decision_transformer_interpretability/lib/python3.9/site-packages/traitlets/traitlets.py:1016: DeprecationWarning: Widget.widgets is deprecated.\n",
      "  value = getattr(cls, name)\n",
      "/Users/josephbloom/miniforge3/envs/decision_transformer_interpretability/lib/python3.9/site-packages/traitlets/traitlets.py:1016: DeprecationWarning: Widget._active_widgets is deprecated.\n",
      "  value = getattr(cls, name)\n",
      "/Users/josephbloom/miniforge3/envs/decision_transformer_interpretability/lib/python3.9/site-packages/traitlets/traitlets.py:1016: DeprecationWarning: Widget._widget_types is deprecated.\n",
      "  value = getattr(cls, name)\n",
      "/Users/josephbloom/miniforge3/envs/decision_transformer_interpretability/lib/python3.9/site-packages/traitlets/traitlets.py:1016: DeprecationWarning: Widget.widget_types is deprecated.\n",
      "  value = getattr(cls, name)\n",
      "/Users/josephbloom/miniforge3/envs/decision_transformer_interpretability/lib/python3.9/site-packages/traitlets/traitlets.py:1016: DeprecationWarning: Widget.widgets is deprecated.\n",
      "  value = getattr(cls, name)\n",
      "/Users/josephbloom/miniforge3/envs/decision_transformer_interpretability/lib/python3.9/site-packages/traitlets/traitlets.py:1016: DeprecationWarning: Widget._active_widgets is deprecated.\n",
      "  value = getattr(cls, name)\n",
      "/Users/josephbloom/miniforge3/envs/decision_transformer_interpretability/lib/python3.9/site-packages/traitlets/traitlets.py:1016: DeprecationWarning: Widget._widget_types is deprecated.\n",
      "  value = getattr(cls, name)\n",
      "/Users/josephbloom/miniforge3/envs/decision_transformer_interpretability/lib/python3.9/site-packages/traitlets/traitlets.py:1016: DeprecationWarning: Widget.widget_types is deprecated.\n",
      "  value = getattr(cls, name)\n",
      "/Users/josephbloom/miniforge3/envs/decision_transformer_interpretability/lib/python3.9/site-packages/traitlets/traitlets.py:1016: DeprecationWarning: Widget.widgets is deprecated.\n",
      "  value = getattr(cls, name)\n",
      "/Users/josephbloom/miniforge3/envs/decision_transformer_interpretability/lib/python3.9/site-packages/traitlets/traitlets.py:1016: DeprecationWarning: Widget._active_widgets is deprecated.\n",
      "  value = getattr(cls, name)\n",
      "/Users/josephbloom/miniforge3/envs/decision_transformer_interpretability/lib/python3.9/site-packages/traitlets/traitlets.py:1016: DeprecationWarning: Widget._widget_types is deprecated.\n",
      "  value = getattr(cls, name)\n",
      "/Users/josephbloom/miniforge3/envs/decision_transformer_interpretability/lib/python3.9/site-packages/traitlets/traitlets.py:1016: DeprecationWarning: Widget.widget_types is deprecated.\n",
      "  value = getattr(cls, name)\n",
      "/Users/josephbloom/miniforge3/envs/decision_transformer_interpretability/lib/python3.9/site-packages/traitlets/traitlets.py:1016: DeprecationWarning: Widget.widgets is deprecated.\n",
      "  value = getattr(cls, name)\n",
      "/Users/josephbloom/miniforge3/envs/decision_transformer_interpretability/lib/python3.9/site-packages/traitlets/traitlets.py:1016: DeprecationWarning: Widget._active_widgets is deprecated.\n",
      "  value = getattr(cls, name)\n",
      "/Users/josephbloom/miniforge3/envs/decision_transformer_interpretability/lib/python3.9/site-packages/traitlets/traitlets.py:1016: DeprecationWarning: Widget._widget_types is deprecated.\n",
      "  value = getattr(cls, name)\n",
      "/Users/josephbloom/miniforge3/envs/decision_transformer_interpretability/lib/python3.9/site-packages/traitlets/traitlets.py:1016: DeprecationWarning: Widget.widget_types is deprecated.\n",
      "  value = getattr(cls, name)\n",
      "/Users/josephbloom/miniforge3/envs/decision_transformer_interpretability/lib/python3.9/site-packages/traitlets/traitlets.py:1016: DeprecationWarning: Widget.widgets is deprecated.\n",
      "  value = getattr(cls, name)\n"
     ]
    },
    {
     "data": {
      "application/vnd.jupyter.widget-view+json": {
       "model_id": "978776abde94465292ab2efd0171cbb7",
       "version_major": 2,
       "version_minor": 0
      },
      "text/plain": [
       "Output(layout=Layout(padding='15px'))"
      ]
     },
     "metadata": {},
     "output_type": "display_data"
    },
    {
     "name": "stderr",
     "output_type": "stream",
     "text": [
      "100%|██████████| 78/78 [00:08<00:00,  8.83it/s]"
     ]
    },
    {
     "name": "stdout",
     "output_type": "stream",
     "text": [
      "Trajectory written to trajectories/CartPole-v1.pkl\n"
     ]
    },
    {
     "name": "stderr",
     "output_type": "stream",
     "text": [
      "\n"
     ]
    }
   ],
   "source": [
    "from src.ppo.train import train_ppo\n",
    "from src.ppo.utils import PPOArgs\n",
    "from src.utils import TrajectoryWriter\n",
    "import warnings \n",
    "with warnings.catch_warnings():\n",
    "    warnings.filterwarnings(\"ignore\", category= DeprecationWarning)\n",
    "\n",
    "    args = PPOArgs(\n",
    "        exp_name = 'CartPole-v1',\n",
    "        env_id = 'CartPole-v1',\n",
    "        num_envs = 10,\n",
    "        track = False,\n",
    "        wandb_project_name=\"PPO-MiniGrid-test with cartpole\",\n",
    "        capture_video=True,\n",
    "        cuda = False,\n",
    "        total_timesteps=100000,\n",
    "        max_steps=None)\n",
    "\n",
    "    trajectory_writer = TrajectoryWriter(args.trajectory_path, args)\n",
    "\n",
    "    ppo = train_ppo(args, trajectory_writer)"
   ]
  },
  {
   "attachments": {},
   "cell_type": "markdown",
   "metadata": {},
   "source": [
    "## Minigrid Env"
   ]
  },
  {
   "cell_type": "code",
   "execution_count": 21,
   "metadata": {},
   "outputs": [
    {
     "data": {
      "text/html": [
       "Tracking run with wandb version 0.13.7"
      ],
      "text/plain": [
       "<IPython.core.display.HTML object>"
      ]
     },
     "metadata": {},
     "output_type": "display_data"
    },
    {
     "data": {
      "text/html": [
       "Run data is saved locally in <code>/Users/josephbloom/GithubRepositories/DecisionTransformerInterpretability/wandb/run-20221222_152602-2mia2fuv</code>"
      ],
      "text/plain": [
       "<IPython.core.display.HTML object>"
      ]
     },
     "metadata": {},
     "output_type": "display_data"
    },
    {
     "data": {
      "text/html": [
       "Syncing run <strong><a href=\"https://wandb.ai/arena-ldn/PPO-MiniGrid/runs/2mia2fuv\" target=\"_blank\">MiniGrid-DistShift1-v0__MiniGrid-DistShift1-v0__1__1671722762</a></strong> to <a href=\"https://wandb.ai/arena-ldn/PPO-MiniGrid\" target=\"_blank\">Weights & Biases</a> (<a href=\"https://wandb.me/run\" target=\"_blank\">docs</a>)<br/>"
      ],
      "text/plain": [
       "<IPython.core.display.HTML object>"
      ]
     },
     "metadata": {},
     "output_type": "display_data"
    },
    {
     "data": {
      "application/vnd.jupyter.widget-view+json": {
       "model_id": "05f77e0c283e4f209a7f8a244fd4cbd0",
       "version_major": 2,
       "version_minor": 0
      },
      "text/plain": [
       "Output(layout=Layout(padding='15px'))"
      ]
     },
     "metadata": {},
     "output_type": "display_data"
    },
    {
     "name": "stderr",
     "output_type": "stream",
     "text": [
      "100%|██████████| 1562/1562 [05:11<00:00,  5.01it/s]\n"
     ]
    },
    {
     "name": "stdout",
     "output_type": "stream",
     "text": [
      "Trajectory written to trajectories/MiniGrid-DistShift1-v0.pkl\n"
     ]
    },
    {
     "data": {
      "text/html": [
       "Waiting for W&B process to finish... <strong style=\"color:green\">(success).</strong>"
      ],
      "text/plain": [
       "<IPython.core.display.HTML object>"
      ]
     },
     "metadata": {},
     "output_type": "display_data"
    },
    {
     "data": {
      "application/vnd.jupyter.widget-view+json": {
       "model_id": "bf62136dd8174386ad2c8ddff84acee1",
       "version_major": 2,
       "version_minor": 0
      },
      "text/plain": [
       "VBox(children=(Label(value='1.391 MB of 1.600 MB uploaded (0.000 MB deduped)\\r'), FloatProgress(value=0.869298…"
      ]
     },
     "metadata": {},
     "output_type": "display_data"
    },
    {
     "data": {
      "text/html": [
       "<style>\n",
       "    table.wandb td:nth-child(1) { padding: 0 10px; text-align: left ; width: auto;} td:nth-child(2) {text-align: left ; width: 100%}\n",
       "    .wandb-row { display: flex; flex-direction: row; flex-wrap: wrap; justify-content: flex-start; width: 100% }\n",
       "    .wandb-col { display: flex; flex-direction: column; flex-basis: 100%; flex: 1; padding: 10px; }\n",
       "    </style>\n",
       "<div class=\"wandb-row\"><div class=\"wandb-col\"><h3>Run history:</h3><br/><table class=\"wandb\"><tr><td>approx_kl</td><td>▁▁▁▁▁▁▁▁▁▂▁▁▁▁▁▁▁▁▂▁▂▁▁▂▁▁▁▁▁▁▁█▁▁▁▁▁▁▁▁</td></tr><tr><td>avg_value</td><td>▁▁▂▃▄▅▆▇▇▇▇▇▇███████▇████████▆█▇███████▇</td></tr><tr><td>clipfrac</td><td>▁▂▁▁▂▂▁▂▁▆▁▂▄▁▂▂▃▂▃▁▃▁▁▂▁▁▂▁▁▂▁█▂▁▂▁▁▁▁▁</td></tr><tr><td>clipped_surrogate_objective</td><td>▃▄▃▃▄▄▄▄▄▁▄▄▅▃▅▄▄▄▂▃▆▄▄▃▂▃▆▃▅▄▃█▄▄▅▃▄▃▃▃</td></tr><tr><td>entropy</td><td>██▇▇▅▆▅▄▃▃▃▃▂▂▂▂▂▂▁▁▁▁▁▁▁▁▁▁▁▁▁▂▁▁▁▁▁▁▁▁</td></tr><tr><td>episode_length</td><td>█▇█▅▃▄▃▃▃▃▃▃▃▂▃▃▃▂▂▂▂▂▂▂▂▂▁▃▂▂▂▂▂▂▂▂▂▂▂▂</td></tr><tr><td>episode_return</td><td>▇█▇███████████████████████▁█████████████</td></tr><tr><td>learning_rate</td><td>███▇▇▇▇▇▇▆▆▆▆▆▅▅▅▅▅▅▄▄▄▄▄▄▃▃▃▃▃▂▂▂▂▂▂▁▁▁</td></tr><tr><td>value_loss</td><td>▁▁▂█▅▅▆▂▂▅▆▂▁▁▅▁▁▁▁▁▁▁▁▁▁▁▁▁▁▃▁▂▁▁▁▁▁▁▁▁</td></tr></table><br/></div><div class=\"wandb-col\"><h3>Run summary:</h3><br/><table class=\"wandb\"><tr><td>approx_kl</td><td>0.0</td></tr><tr><td>avg_value</td><td>0.92495</td></tr><tr><td>clipfrac</td><td>0.0</td></tr><tr><td>clipped_surrogate_objective</td><td>0.0</td></tr><tr><td>entropy</td><td>0.00011</td></tr><tr><td>episode_length</td><td>13</td></tr><tr><td>episode_return</td><td>0.9766</td></tr><tr><td>learning_rate</td><td>0.0</td></tr><tr><td>value_loss</td><td>2e-05</td></tr></table><br/></div></div>"
      ],
      "text/plain": [
       "<IPython.core.display.HTML object>"
      ]
     },
     "metadata": {},
     "output_type": "display_data"
    },
    {
     "data": {
      "text/html": [
       "Synced <strong style=\"color:#cdcd00\">MiniGrid-DistShift1-v0__MiniGrid-DistShift1-v0__1__1671722762</strong>: <a href=\"https://wandb.ai/arena-ldn/PPO-MiniGrid/runs/2mia2fuv\" target=\"_blank\">https://wandb.ai/arena-ldn/PPO-MiniGrid/runs/2mia2fuv</a><br/>Synced 7 W&B file(s), 0 media file(s), 0 artifact file(s) and 2 other file(s)"
      ],
      "text/plain": [
       "<IPython.core.display.HTML object>"
      ]
     },
     "metadata": {},
     "output_type": "display_data"
    },
    {
     "data": {
      "text/html": [
       "Find logs at: <code>./wandb/run-20221222_152602-2mia2fuv/logs</code>"
      ],
      "text/plain": [
       "<IPython.core.display.HTML object>"
      ]
     },
     "metadata": {},
     "output_type": "display_data"
    }
   ],
   "source": [
    "from src.ppo.train import train_ppo\n",
    "from src.ppo.utils import PPOArgs\n",
    "from src.utils import TrajectoryWriter\n",
    "import warnings \n",
    "\n",
    "with warnings.catch_warnings():\n",
    "    warnings.filterwarnings(\"ignore\", category= DeprecationWarning)\n",
    "\n",
    "    args = PPOArgs(\n",
    "        exp_name = 'MiniGrid-DistShift1-v0',\n",
    "        env_id = 'MiniGrid-DistShift1-v0',\n",
    "        num_envs = 4,\n",
    "        num_steps=128,\n",
    "        track = True,\n",
    "        wandb_project_name=\"PPO-MiniGrid\",\n",
    "        capture_video=True,\n",
    "        cuda = False,\n",
    "        total_timesteps=80*10000,\n",
    "        max_steps=200)\n",
    "\n",
    "    trajectory_writer = TrajectoryWriter(args.trajectory_path, args)\n",
    "\n",
    "    ppo = train_ppo(args, trajectory_writer=trajectory_writer)"
   ]
  },
  {
   "attachments": {},
   "cell_type": "markdown",
   "metadata": {},
   "source": [
    "# Turning the stored trajectories into a dataset"
   ]
  },
  {
   "cell_type": "code",
   "execution_count": 258,
   "metadata": {},
   "outputs": [
    {
     "name": "stdout",
     "output_type": "stream",
     "text": [
      "{'args': {'exp_name': 'MiniGrid-DistShift1-v0', 'seed': 1, 'cuda': False, 'track': True, 'wandb_project_name': 'PPO-MiniGrid', 'wandb_entity': None, 'capture_video': True, 'env_id': 'MiniGrid-DistShift1-v0', 'total_timesteps': 800000, 'learning_rate': 0.00025, 'num_envs': 4, 'num_steps': 128, 'gamma': 0.99, 'gae_lambda': 0.95, 'num_minibatches': 4, 'update_epochs': 4, 'clip_coef': 0.2, 'ent_coef': 0.01, 'vf_coef': 0.5, 'max_grad_norm': 0.5, 'max_steps': 500, 'trajectory_path': 'trajectories/MiniGrid-DistShift1-v0.pkl'}, 'time': 1671723079.665403}\n"
     ]
    }
   ],
   "source": [
    "from torch.utils.data import Dataset, DataLoader\n",
    "from src.utils import TrajectoryReader\n",
    "import numpy as np\n",
    "import torch as t \n",
    "from einops import rearrange\n",
    "import random\n",
    "\n",
    "# not technically a data loader, rework later to work as one.\n",
    "class TrajectoryLoader():\n",
    "\n",
    "    def __init__(self, trajectory_path, pct_traj=1.0, rtg_scale = 1, normalize_state = False, device = 'cpu'):\n",
    "        self.trajectory_path = trajectory_path\n",
    "        self.pct_traj = pct_traj\n",
    "        self.load_trajectories()\n",
    "        self.device = device\n",
    "        self.normalize_state = normalize_state\n",
    "        self.rtg_scale = rtg_scale\n",
    "\n",
    "    def load_trajectories(self) -> None:\n",
    "        \n",
    "        traj_reader = TrajectoryReader(self.trajectory_path)\n",
    "        data= traj_reader.read()\n",
    "\n",
    "        print(data['metadata'])\n",
    "\n",
    "        observations = data['data'].get('observations')\n",
    "        actions = data['data'].get('actions')\n",
    "        rewards = data['data'].get('rewards')\n",
    "        dones = data['data'].get('dones')\n",
    "        infos = data['data'].get('infos')\n",
    "\n",
    "        observations = np.array(observations)\n",
    "        actions = np.array(actions)\n",
    "        rewards = np.array(rewards)\n",
    "        dones = np.array(dones)\n",
    "        infos = np.array(infos, dtype=np.ndarray)\n",
    "\n",
    "        t_observations = rearrange(t.tensor(observations), \"t b h w c -> (b t) h w c\")\n",
    "        t_actions = rearrange(t.tensor(actions), \"t b -> (b t)\")\n",
    "        t_rewards = rearrange(t.tensor(rewards), \"t b -> (b t)\")\n",
    "        t_dones = rearrange(t.tensor(dones), \"t b -> (b t)\")\n",
    "\n",
    "        done_indices = t.where(t_dones)[0]\n",
    "\n",
    "        self.actions = t.tensor_split(t_actions, done_indices+1)\n",
    "        self.rewards = t.tensor_split(t_rewards, done_indices+1)\n",
    "        self.dones = t.tensor_split(t_dones, done_indices+1)\n",
    "        self.returns = [r.sum() for r in self.rewards]\n",
    "        self.states = t.tensor_split(t_observations, done_indices)\n",
    "        self.timesteps = [t.arange(len(i)) for i in self.states]\n",
    "        self.traj_lens = np.array([len(i) for i in self.states])\n",
    "        self.num_timesteps = sum(self.traj_lens)\n",
    "        self.num_trajectories = len(self.states)\n",
    "\n",
    "        self.state_dim = list(self.states[0][0].shape)\n",
    "        self.act_dim = list(self.actions[0][0].shape)\n",
    "        self.max_ep_len = max([len(i) for i in self.states])\n",
    "\n",
    "    def get_indices_of_top_p_trajectories(self, pct_traj):\n",
    "        num_timesteps = max(int(pct_traj*self.num_timesteps), 1)\n",
    "        sorted_inds = np.argsort(self.returns) \n",
    "\n",
    "        num_trajectories = 1\n",
    "        timesteps = self.traj_lens[sorted_inds[-1]]\n",
    "        ind = num_trajectories - 2\n",
    "        while timesteps < num_timesteps:\n",
    "            timesteps += self.traj_lens[sorted_inds[ind]]\n",
    "            ind -= 1\n",
    "            num_trajectories += 1\n",
    "\n",
    "        sorted_inds = sorted_inds[-num_trajectories:]\n",
    "\n",
    "        return sorted_inds\n",
    "\n",
    "    def get_sampling_probabilities(self):\n",
    "        sorted_inds = self.get_indices_of_top_p_trajectories(self.pct_traj)\n",
    "        p_sample = self.traj_lens[sorted_inds] / sum(self.traj_lens[sorted_inds])\n",
    "        return p_sample\n",
    "\n",
    "    def discount_cumsum(self, x, gamma):\n",
    "        discount_cumsum = np.zeros_like(x)\n",
    "        discount_cumsum[-1] = x[-1]\n",
    "        for t in reversed(range(x.shape[0]-1)):\n",
    "            discount_cumsum[t] = x[t] + gamma * discount_cumsum[t+1]\n",
    "        return discount_cumsum\n",
    "\n",
    "    def get_state_mean_std(self):\n",
    "        # used for input normalization\n",
    "        all_states = np.concatenate(self.states, axis=0)\n",
    "        state_mean, state_std = np.mean(all_states, axis=0), np.std(all_states, axis=0) + 1e-6\n",
    "        return state_mean, state_std\n",
    "\n",
    "    def get_batch(self, batch_size=256, max_len=100):\n",
    "\n",
    "        rewards = self.rewards\n",
    "        states = self.states\n",
    "        actions = self.actions\n",
    "        dones = self.dones\n",
    "\n",
    "        # asset first dim is same for all inputs\n",
    "        assert len(rewards) == len(states) == len(actions) == len(dones), f\"shapes are not the same: {len(rewards)} {len(states)} {len(actions)} {len(dones)}\"\n",
    "        num_trajectories = self.num_trajectories\n",
    "        p_sample = self.get_sampling_probabilities()\n",
    "        sorted_inds = self.get_indices_of_top_p_trajectories(self.pct_traj)\n",
    "        state_mean, state_std = self.get_state_mean_std()\n",
    "\n",
    "        batch_inds = np.random.choice(\n",
    "            np.arange(num_trajectories),\n",
    "            size=batch_size,\n",
    "            replace=True,\n",
    "            p=p_sample,  # reweights so we sample according to timesteps\n",
    "        )\n",
    "\n",
    "        # initialize lists\n",
    "        s, a, r, d, rtg, timesteps, mask = [], [], [], [], [], [], []\n",
    "        for i in range(batch_size):\n",
    "\n",
    "            # get the trajectory\n",
    "            traj_rewards = rewards[sorted_inds[batch_inds[i]]]\n",
    "            traj_states = states[sorted_inds[batch_inds[i]]]\n",
    "            traj_actions = actions[sorted_inds[batch_inds[i]]]\n",
    "            traj_dones = dones[sorted_inds[batch_inds[i]]]\n",
    "\n",
    "            # start index\n",
    "            si = random.randint(0, traj_rewards.shape[0] - 1)\n",
    "\n",
    "            # get sequences from dataset\n",
    "            s.append(traj_states[si:si + max_len].reshape(1, -1, *self.state_dim))\n",
    "            a.append(traj_actions[si:si + max_len].reshape(1, -1, *self.act_dim))\n",
    "            r.append(traj_rewards[si:si + max_len].reshape(1, -1, 1))\n",
    "            d.append(traj_dones[si:si + max_len].reshape(1, -1))\n",
    "            \n",
    "            # get timesteps\n",
    "            timesteps.append(np.arange(si, si + s[-1].shape[1]).reshape(1, -1))\n",
    "            timesteps[-1][timesteps[-1] >= self.max_ep_len] = self.max_ep_len-1  # padding cutoff\n",
    "\n",
    "            # get rewards to go\n",
    "            rtg.append(self.discount_cumsum(traj_rewards[si:], gamma=1.)[:s[-1].shape[1] + 1].reshape(1, -1, 1))\n",
    "\n",
    "            # if the trajectory is shorter than max_len, pad it\n",
    "            if rtg[-1].shape[1] <= s[-1].shape[1]:\n",
    "                rtg[-1] = np.concatenate([rtg[-1], np.zeros((1, 1, 1))], axis=1)\n",
    "\n",
    "            # padding and state + reward normalization\n",
    "            tlen = s[-1].shape[1]\n",
    "            s[-1] = np.concatenate([np.zeros((1, max_len - tlen, *self.state_dim)), s[-1]], axis=1)\n",
    "\n",
    "\n",
    "            if self.normalize_state:\n",
    "                s[-1] = (s[-1] - state_mean) / state_std\n",
    "\n",
    "            a[-1] = np.concatenate([np.ones((1, max_len - tlen, *self.act_dim)) * -10., a[-1]], axis=1)\n",
    "            r[-1] = np.concatenate([np.zeros((1, max_len - tlen, 1)), r[-1]], axis=1)\n",
    "            d[-1] = np.concatenate([np.ones((1, max_len - tlen)) * 2, d[-1]], axis=1)\n",
    "            rtg[-1] = np.concatenate([np.zeros((1, max_len - tlen, 1)), rtg[-1]], axis=1) / self.rtg_scale\n",
    "            timesteps[-1] = np.concatenate([np.zeros((1, max_len - tlen)), timesteps[-1]], axis=1)\n",
    "            mask.append(np.concatenate([np.zeros((1, max_len - tlen)), np.ones((1, tlen))], axis=1))\n",
    "\n",
    "        s = t.from_numpy(np.concatenate(s, axis=0)).to(dtype=t.float32, device=self.device)\n",
    "        a = t.from_numpy(np.concatenate(a, axis=0)).to(dtype=t.float32, device=self.device)\n",
    "        r = t.from_numpy(np.concatenate(r, axis=0)).to(dtype=t.float32, device=self.device)\n",
    "        d = t.from_numpy(np.concatenate(d, axis=0)).to(dtype=t.long,    device=self.device)\n",
    "        rtg = t.from_numpy(np.concatenate(rtg, axis=0)).to(dtype=t.float32, device= self.device)\n",
    "        timesteps = t.from_numpy(np.concatenate(timesteps, axis=0)).to(dtype=t.long, device=self.device)\n",
    "        mask = t.from_numpy(np.concatenate(mask, axis=0)).to(device=self.device)\n",
    "\n",
    "        return s, a, r, d, rtg, timesteps, mask\n",
    "\n",
    "\n",
    "path = \"/Users/josephbloom/GithubRepositories/DecisionTransformerInterpretability/trajectories/MiniGrid-DistShift1-v0.pkl\"\n",
    "trajectory_data_set = TrajectoryLoader(path, pct_traj=1.0, device=\"cpu\")"
   ]
  },
  {
   "cell_type": "code",
   "execution_count": 259,
   "metadata": {},
   "outputs": [
    {
     "name": "stdout",
     "output_type": "stream",
     "text": [
      "9.0\n",
      "0.0\n",
      "3.8235957623816814\n",
      "1e-06\n"
     ]
    }
   ],
   "source": [
    "state_mean, state_std = trajectory_data_set.get_state_mean_std()\n",
    "print(state_mean.max())\n",
    "print(state_mean.min())\n",
    "print(state_std.max())\n",
    "print(state_std.min())"
   ]
  },
  {
   "cell_type": "code",
   "execution_count": 260,
   "metadata": {},
   "outputs": [],
   "source": [
    "s, a, r, d, rtg, timesteps, mask = trajectory_data_set.get_batch()"
   ]
  },
  {
   "attachments": {},
   "cell_type": "markdown",
   "metadata": {},
   "source": [
    "## Visualizing a Trajector"
   ]
  },
  {
   "cell_type": "code",
   "execution_count": 270,
   "metadata": {},
   "outputs": [
    {
     "name": "stdout",
     "output_type": "stream",
     "text": [
      "MiniGrid-DistShift1-v0\n",
      "[<Actions.forward: 2>, <Actions.forward: 2>, <Actions.left: 0>, <Actions.forward: 2>, <Actions.forward: 2>]\n",
      "tensor([[0.0000],\n",
      "        [0.0000],\n",
      "        [0.0000],\n",
      "        [0.0000],\n",
      "        [0.9766]])\n"
     ]
    },
    {
     "name": "stderr",
     "output_type": "stream",
     "text": [
      "/Users/josephbloom/miniforge3/envs/decision_transformer_interpretability/lib/python3.9/site-packages/plotly/io/_renderers.py:395: DeprecationWarning:\n",
      "\n",
      "distutils Version classes are deprecated. Use packaging.version instead.\n",
      "\n",
      "/Users/josephbloom/miniforge3/envs/decision_transformer_interpretability/lib/python3.9/site-packages/plotly/io/_renderers.py:395: DeprecationWarning:\n",
      "\n",
      "distutils Version classes are deprecated. Use packaging.version instead.\n",
      "\n"
     ]
    },
    {
     "data": {
      "application/vnd.plotly.v1+json": {
       "config": {
        "plotlyServerURL": "https://plot.ly"
       },
       "data": [
        {
         "hovertemplate": "x: %{x}<br>y: %{y}<br>color: %{z}<extra></extra>",
         "name": "0",
         "source": "data:image/png;base64,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",
         "type": "image",
         "xaxis": "x",
         "yaxis": "y"
        }
       ],
       "frames": [
        {
         "data": [
          {
           "name": "0",
           "source": "data:image/png;base64,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",
           "type": "image"
          }
         ],
         "layout": {
          "margin": {
           "t": 60
          }
         },
         "name": "0"
        },
        {
         "data": [
          {
           "name": "1",
           "source": "data:image/png;base64,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",
           "type": "image"
          }
         ],
         "layout": {
          "margin": {
           "t": 60
          }
         },
         "name": "1"
        },
        {
         "data": [
          {
           "name": "2",
           "source": "data:image/png;base64,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",
           "type": "image"
          }
         ],
         "layout": {
          "margin": {
           "t": 60
          }
         },
         "name": "2"
        },
        {
         "data": [
          {
           "name": "3",
           "source": "data:image/png;base64,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",
           "type": "image"
          }
         ],
         "layout": {
          "margin": {
           "t": 60
          }
         },
         "name": "3"
        },
        {
         "data": [
          {
           "name": "4",
           "source": "data:image/png;base64,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",
           "type": "image"
          }
         ],
         "layout": {
          "margin": {
           "t": 60
          }
         },
         "name": "4"
        }
       ],
       "layout": {
        "margin": {
         "t": 60
        },
        "sliders": [
         {
          "active": 0,
          "currentvalue": {
           "prefix": "animation_frame="
          },
          "len": 0.9,
          "pad": {
           "b": 10,
           "t": 60
          },
          "steps": [
           {
            "args": [
             [
              "0"
             ],
             {
              "frame": {
               "duration": 0,
               "redraw": true
              },
              "fromcurrent": true,
              "mode": "immediate",
              "transition": {
               "duration": 0,
               "easing": "linear"
              }
             }
            ],
            "label": "0",
            "method": "animate"
           },
           {
            "args": [
             [
              "1"
             ],
             {
              "frame": {
               "duration": 0,
               "redraw": true
              },
              "fromcurrent": true,
              "mode": "immediate",
              "transition": {
               "duration": 0,
               "easing": "linear"
              }
             }
            ],
            "label": "1",
            "method": "animate"
           },
           {
            "args": [
             [
              "2"
             ],
             {
              "frame": {
               "duration": 0,
               "redraw": true
              },
              "fromcurrent": true,
              "mode": "immediate",
              "transition": {
               "duration": 0,
               "easing": "linear"
              }
             }
            ],
            "label": "2",
            "method": "animate"
           },
           {
            "args": [
             [
              "3"
             ],
             {
              "frame": {
               "duration": 0,
               "redraw": true
              },
              "fromcurrent": true,
              "mode": "immediate",
              "transition": {
               "duration": 0,
               "easing": "linear"
              }
             }
            ],
            "label": "3",
            "method": "animate"
           },
           {
            "args": [
             [
              "4"
             ],
             {
              "frame": {
               "duration": 0,
               "redraw": true
              },
              "fromcurrent": true,
              "mode": "immediate",
              "transition": {
               "duration": 0,
               "easing": "linear"
              }
             }
            ],
            "label": "4",
            "method": "animate"
           }
          ],
          "x": 0.1,
          "xanchor": "left",
          "y": 0,
          "yanchor": "top"
         }
        ],
        "template": {
         "data": {
          "bar": [
           {
            "error_x": {
             "color": "#2a3f5f"
            },
            "error_y": {
             "color": "#2a3f5f"
            },
            "marker": {
             "line": {
              "color": "#E5ECF6",
              "width": 0.5
             },
             "pattern": {
              "fillmode": "overlay",
              "size": 10,
              "solidity": 0.2
             }
            },
            "type": "bar"
           }
          ],
          "barpolar": [
           {
            "marker": {
             "line": {
              "color": "#E5ECF6",
              "width": 0.5
             },
             "pattern": {
              "fillmode": "overlay",
              "size": 10,
              "solidity": 0.2
             }
            },
            "type": "barpolar"
           }
          ],
          "carpet": [
           {
            "aaxis": {
             "endlinecolor": "#2a3f5f",
             "gridcolor": "white",
             "linecolor": "white",
             "minorgridcolor": "white",
             "startlinecolor": "#2a3f5f"
            },
            "baxis": {
             "endlinecolor": "#2a3f5f",
             "gridcolor": "white",
             "linecolor": "white",
             "minorgridcolor": "white",
             "startlinecolor": "#2a3f5f"
            },
            "type": "carpet"
           }
          ],
          "choropleth": [
           {
            "colorbar": {
             "outlinewidth": 0,
             "ticks": ""
            },
            "type": "choropleth"
           }
          ],
          "contour": [
           {
            "colorbar": {
             "outlinewidth": 0,
             "ticks": ""
            },
            "colorscale": [
             [
              0,
              "#0d0887"
             ],
             [
              0.1111111111111111,
              "#46039f"
             ],
             [
              0.2222222222222222,
              "#7201a8"
             ],
             [
              0.3333333333333333,
              "#9c179e"
             ],
             [
              0.4444444444444444,
              "#bd3786"
             ],
             [
              0.5555555555555556,
              "#d8576b"
             ],
             [
              0.6666666666666666,
              "#ed7953"
             ],
             [
              0.7777777777777778,
              "#fb9f3a"
             ],
             [
              0.8888888888888888,
              "#fdca26"
             ],
             [
              1,
              "#f0f921"
             ]
            ],
            "type": "contour"
           }
          ],
          "contourcarpet": [
           {
            "colorbar": {
             "outlinewidth": 0,
             "ticks": ""
            },
            "type": "contourcarpet"
           }
          ],
          "heatmap": [
           {
            "colorbar": {
             "outlinewidth": 0,
             "ticks": ""
            },
            "colorscale": [
             [
              0,
              "#0d0887"
             ],
             [
              0.1111111111111111,
              "#46039f"
             ],
             [
              0.2222222222222222,
              "#7201a8"
             ],
             [
              0.3333333333333333,
              "#9c179e"
             ],
             [
              0.4444444444444444,
              "#bd3786"
             ],
             [
              0.5555555555555556,
              "#d8576b"
             ],
             [
              0.6666666666666666,
              "#ed7953"
             ],
             [
              0.7777777777777778,
              "#fb9f3a"
             ],
             [
              0.8888888888888888,
              "#fdca26"
             ],
             [
              1,
              "#f0f921"
             ]
            ],
            "type": "heatmap"
           }
          ],
          "heatmapgl": [
           {
            "colorbar": {
             "outlinewidth": 0,
             "ticks": ""
            },
            "colorscale": [
             [
              0,
              "#0d0887"
             ],
             [
              0.1111111111111111,
              "#46039f"
             ],
             [
              0.2222222222222222,
              "#7201a8"
             ],
             [
              0.3333333333333333,
              "#9c179e"
             ],
             [
              0.4444444444444444,
              "#bd3786"
             ],
             [
              0.5555555555555556,
              "#d8576b"
             ],
             [
              0.6666666666666666,
              "#ed7953"
             ],
             [
              0.7777777777777778,
              "#fb9f3a"
             ],
             [
              0.8888888888888888,
              "#fdca26"
             ],
             [
              1,
              "#f0f921"
             ]
            ],
            "type": "heatmapgl"
           }
          ],
          "histogram": [
           {
            "marker": {
             "pattern": {
              "fillmode": "overlay",
              "size": 10,
              "solidity": 0.2
             }
            },
            "type": "histogram"
           }
          ],
          "histogram2d": [
           {
            "colorbar": {
             "outlinewidth": 0,
             "ticks": ""
            },
            "colorscale": [
             [
              0,
              "#0d0887"
             ],
             [
              0.1111111111111111,
              "#46039f"
             ],
             [
              0.2222222222222222,
              "#7201a8"
             ],
             [
              0.3333333333333333,
              "#9c179e"
             ],
             [
              0.4444444444444444,
              "#bd3786"
             ],
             [
              0.5555555555555556,
              "#d8576b"
             ],
             [
              0.6666666666666666,
              "#ed7953"
             ],
             [
              0.7777777777777778,
              "#fb9f3a"
             ],
             [
              0.8888888888888888,
              "#fdca26"
             ],
             [
              1,
              "#f0f921"
             ]
            ],
            "type": "histogram2d"
           }
          ],
          "histogram2dcontour": [
           {
            "colorbar": {
             "outlinewidth": 0,
             "ticks": ""
            },
            "colorscale": [
             [
              0,
              "#0d0887"
             ],
             [
              0.1111111111111111,
              "#46039f"
             ],
             [
              0.2222222222222222,
              "#7201a8"
             ],
             [
              0.3333333333333333,
              "#9c179e"
             ],
             [
              0.4444444444444444,
              "#bd3786"
             ],
             [
              0.5555555555555556,
              "#d8576b"
             ],
             [
              0.6666666666666666,
              "#ed7953"
             ],
             [
              0.7777777777777778,
              "#fb9f3a"
             ],
             [
              0.8888888888888888,
              "#fdca26"
             ],
             [
              1,
              "#f0f921"
             ]
            ],
            "type": "histogram2dcontour"
           }
          ],
          "mesh3d": [
           {
            "colorbar": {
             "outlinewidth": 0,
             "ticks": ""
            },
            "type": "mesh3d"
           }
          ],
          "parcoords": [
           {
            "line": {
             "colorbar": {
              "outlinewidth": 0,
              "ticks": ""
             }
            },
            "type": "parcoords"
           }
          ],
          "pie": [
           {
            "automargin": true,
            "type": "pie"
           }
          ],
          "scatter": [
           {
            "fillpattern": {
             "fillmode": "overlay",
             "size": 10,
             "solidity": 0.2
            },
            "type": "scatter"
           }
          ],
          "scatter3d": [
           {
            "line": {
             "colorbar": {
              "outlinewidth": 0,
              "ticks": ""
             }
            },
            "marker": {
             "colorbar": {
              "outlinewidth": 0,
              "ticks": ""
             }
            },
            "type": "scatter3d"
           }
          ],
          "scattercarpet": [
           {
            "marker": {
             "colorbar": {
              "outlinewidth": 0,
              "ticks": ""
             }
            },
            "type": "scattercarpet"
           }
          ],
          "scattergeo": [
           {
            "marker": {
             "colorbar": {
              "outlinewidth": 0,
              "ticks": ""
             }
            },
            "type": "scattergeo"
           }
          ],
          "scattergl": [
           {
            "marker": {
             "colorbar": {
              "outlinewidth": 0,
              "ticks": ""
             }
            },
            "type": "scattergl"
           }
          ],
          "scattermapbox": [
           {
            "marker": {
             "colorbar": {
              "outlinewidth": 0,
              "ticks": ""
             }
            },
            "type": "scattermapbox"
           }
          ],
          "scatterpolar": [
           {
            "marker": {
             "colorbar": {
              "outlinewidth": 0,
              "ticks": ""
             }
            },
            "type": "scatterpolar"
           }
          ],
          "scatterpolargl": [
           {
            "marker": {
             "colorbar": {
              "outlinewidth": 0,
              "ticks": ""
             }
            },
            "type": "scatterpolargl"
           }
          ],
          "scatterternary": [
           {
            "marker": {
             "colorbar": {
              "outlinewidth": 0,
              "ticks": ""
             }
            },
            "type": "scatterternary"
           }
          ],
          "surface": [
           {
            "colorbar": {
             "outlinewidth": 0,
             "ticks": ""
            },
            "colorscale": [
             [
              0,
              "#0d0887"
             ],
             [
              0.1111111111111111,
              "#46039f"
             ],
             [
              0.2222222222222222,
              "#7201a8"
             ],
             [
              0.3333333333333333,
              "#9c179e"
             ],
             [
              0.4444444444444444,
              "#bd3786"
             ],
             [
              0.5555555555555556,
              "#d8576b"
             ],
             [
              0.6666666666666666,
              "#ed7953"
             ],
             [
              0.7777777777777778,
              "#fb9f3a"
             ],
             [
              0.8888888888888888,
              "#fdca26"
             ],
             [
              1,
              "#f0f921"
             ]
            ],
            "type": "surface"
           }
          ],
          "table": [
           {
            "cells": {
             "fill": {
              "color": "#EBF0F8"
             },
             "line": {
              "color": "white"
             }
            },
            "header": {
             "fill": {
              "color": "#C8D4E3"
             },
             "line": {
              "color": "white"
             }
            },
            "type": "table"
           }
          ]
         },
         "layout": {
          "annotationdefaults": {
           "arrowcolor": "#2a3f5f",
           "arrowhead": 0,
           "arrowwidth": 1
          },
          "autotypenumbers": "strict",
          "coloraxis": {
           "colorbar": {
            "outlinewidth": 0,
            "ticks": ""
           }
          },
          "colorscale": {
           "diverging": [
            [
             0,
             "#8e0152"
            ],
            [
             0.1,
             "#c51b7d"
            ],
            [
             0.2,
             "#de77ae"
            ],
            [
             0.3,
             "#f1b6da"
            ],
            [
             0.4,
             "#fde0ef"
            ],
            [
             0.5,
             "#f7f7f7"
            ],
            [
             0.6,
             "#e6f5d0"
            ],
            [
             0.7,
             "#b8e186"
            ],
            [
             0.8,
             "#7fbc41"
            ],
            [
             0.9,
             "#4d9221"
            ],
            [
             1,
             "#276419"
            ]
           ],
           "sequential": [
            [
             0,
             "#0d0887"
            ],
            [
             0.1111111111111111,
             "#46039f"
            ],
            [
             0.2222222222222222,
             "#7201a8"
            ],
            [
             0.3333333333333333,
             "#9c179e"
            ],
            [
             0.4444444444444444,
             "#bd3786"
            ],
            [
             0.5555555555555556,
             "#d8576b"
            ],
            [
             0.6666666666666666,
             "#ed7953"
            ],
            [
             0.7777777777777778,
             "#fb9f3a"
            ],
            [
             0.8888888888888888,
             "#fdca26"
            ],
            [
             1,
             "#f0f921"
            ]
           ],
           "sequentialminus": [
            [
             0,
             "#0d0887"
            ],
            [
             0.1111111111111111,
             "#46039f"
            ],
            [
             0.2222222222222222,
             "#7201a8"
            ],
            [
             0.3333333333333333,
             "#9c179e"
            ],
            [
             0.4444444444444444,
             "#bd3786"
            ],
            [
             0.5555555555555556,
             "#d8576b"
            ],
            [
             0.6666666666666666,
             "#ed7953"
            ],
            [
             0.7777777777777778,
             "#fb9f3a"
            ],
            [
             0.8888888888888888,
             "#fdca26"
            ],
            [
             1,
             "#f0f921"
            ]
           ]
          },
          "colorway": [
           "#636efa",
           "#EF553B",
           "#00cc96",
           "#ab63fa",
           "#FFA15A",
           "#19d3f3",
           "#FF6692",
           "#B6E880",
           "#FF97FF",
           "#FECB52"
          ],
          "font": {
           "color": "#2a3f5f"
          },
          "geo": {
           "bgcolor": "white",
           "lakecolor": "white",
           "landcolor": "#E5ECF6",
           "showlakes": true,
           "showland": true,
           "subunitcolor": "white"
          },
          "hoverlabel": {
           "align": "left"
          },
          "hovermode": "closest",
          "mapbox": {
           "style": "light"
          },
          "paper_bgcolor": "white",
          "plot_bgcolor": "#E5ECF6",
          "polar": {
           "angularaxis": {
            "gridcolor": "white",
            "linecolor": "white",
            "ticks": ""
           },
           "bgcolor": "#E5ECF6",
           "radialaxis": {
            "gridcolor": "white",
            "linecolor": "white",
            "ticks": ""
           }
          },
          "scene": {
           "xaxis": {
            "backgroundcolor": "#E5ECF6",
            "gridcolor": "white",
            "gridwidth": 2,
            "linecolor": "white",
            "showbackground": true,
            "ticks": "",
            "zerolinecolor": "white"
           },
           "yaxis": {
            "backgroundcolor": "#E5ECF6",
            "gridcolor": "white",
            "gridwidth": 2,
            "linecolor": "white",
            "showbackground": true,
            "ticks": "",
            "zerolinecolor": "white"
           },
           "zaxis": {
            "backgroundcolor": "#E5ECF6",
            "gridcolor": "white",
            "gridwidth": 2,
            "linecolor": "white",
            "showbackground": true,
            "ticks": "",
            "zerolinecolor": "white"
           }
          },
          "shapedefaults": {
           "line": {
            "color": "#2a3f5f"
           }
          },
          "ternary": {
           "aaxis": {
            "gridcolor": "white",
            "linecolor": "white",
            "ticks": ""
           },
           "baxis": {
            "gridcolor": "white",
            "linecolor": "white",
            "ticks": ""
           },
           "bgcolor": "#E5ECF6",
           "caxis": {
            "gridcolor": "white",
            "linecolor": "white",
            "ticks": ""
           }
          },
          "title": {
           "x": 0.05
          },
          "xaxis": {
           "automargin": true,
           "gridcolor": "white",
           "linecolor": "white",
           "ticks": "",
           "title": {
            "standoff": 15
           },
           "zerolinecolor": "white",
           "zerolinewidth": 2
          },
          "yaxis": {
           "automargin": true,
           "gridcolor": "white",
           "linecolor": "white",
           "ticks": "",
           "title": {
            "standoff": 15
           },
           "zerolinecolor": "white",
           "zerolinewidth": 2
          }
         }
        },
        "updatemenus": [
         {
          "buttons": [
           {
            "args": [
             null,
             {
              "frame": {
               "duration": 500,
               "redraw": true
              },
              "fromcurrent": true,
              "mode": "immediate",
              "transition": {
               "duration": 500,
               "easing": "linear"
              }
             }
            ],
            "label": "&#9654;",
            "method": "animate"
           },
           {
            "args": [
             [
              null
             ],
             {
              "frame": {
               "duration": 0,
               "redraw": true
              },
              "fromcurrent": true,
              "mode": "immediate",
              "transition": {
               "duration": 0,
               "easing": "linear"
              }
             }
            ],
            "label": "&#9724;",
            "method": "animate"
           }
          ],
          "direction": "left",
          "pad": {
           "r": 10,
           "t": 70
          },
          "showactive": false,
          "type": "buttons",
          "x": 0.1,
          "xanchor": "right",
          "y": 0,
          "yanchor": "top"
         }
        ],
        "xaxis": {
         "anchor": "y",
         "domain": [
          0,
          1
         ]
        },
        "yaxis": {
         "anchor": "x",
         "domain": [
          0,
          1
         ]
        }
       }
      }
     },
     "metadata": {},
     "output_type": "display_data"
    }
   ],
   "source": [
    "import gymnasium as gym\n",
    "import plotly.express as px\n",
    "from src.visualization import render_minigrid_observations, render_minigrid_observation\n",
    "\n",
    "from minigrid.core.constants import IDX_TO_OBJECT\n",
    "import numpy as np\n",
    "import torch\n",
    "\n",
    "def find_agent(observation):\n",
    "    height = observation.shape[0]\n",
    "    width = observation.shape[1]\n",
    "    for i in range(width):\n",
    "        for j in range(height):\n",
    "            object = IDX_TO_OBJECT[int(observation[j,i][0])]\n",
    "            if object == 'agent':\n",
    "                return j, i\n",
    "    \n",
    "    raise Exception(\"Agent not found\")\n",
    "\n",
    "\n",
    "def render_minigrid_observation(env, observation):\n",
    "    if isinstance(observation, np.ndarray):\n",
    "        observation = observation.copy() # so we don't edit the original object\n",
    "    elif isinstance(observation, torch.Tensor):\n",
    "        observation = observation.numpy().copy()\n",
    "\n",
    "    agent_pos = find_agent(observation)\n",
    "    agent_dir = observation[agent_pos[0], agent_pos[1]][2]\n",
    "\n",
    "    observation[agent_pos[0], agent_pos[1]] = [0,0,0]\n",
    "\n",
    "    grid, _ = env.grid.decode(observation.astype(np.uint8))\n",
    "    \n",
    "    i = agent_pos[0]\n",
    "    j = agent_pos[1]\n",
    "    \n",
    "    return grid.render(32, (i,j), agent_dir=agent_dir)\n",
    "\n",
    "def render_minigrid_observations(env, observations):\n",
    "    return np.array([render_minigrid_observation(env, observation) for observation in observations])\n",
    "\n",
    "\n",
    "env = gym.make(data['metadata']['args']['env_id'], render_mode = 'rgb_array')\n",
    "print(data['metadata']['args']['env_id'])\n",
    "_, _ = env.reset()\n",
    "\n",
    "from minigrid.core.actions import Actions\n",
    "\n",
    "event = 200\n",
    "print([Actions(int(i)) for i in a[event][mask[event].to(t.bool)]])\n",
    "print(r[event][mask[event].to(t.bool)])\n",
    "# print(rtg[event][t.tensor([0])+mask[event].to(t.bool)])\n",
    "imgs = render_minigrid_observations(env, s[event][mask[event].to(t.bool)])\n",
    "fig = px.imshow(imgs, animation_frame=0)\n",
    "fig.show()"
   ]
  },
  {
   "attachments": {},
   "cell_type": "markdown",
   "metadata": {},
   "source": [
    "We can see that the actions/states/rewards are now indexed so that action[0] is taken after state[0] and generates reward[0]. ie: SAR, SAR, SAR"
   ]
  },
  {
   "cell_type": "code",
   "execution_count": 284,
   "metadata": {},
   "outputs": [
    {
     "data": {
      "text/plain": [
       "torch.Size([256, 100])"
      ]
     },
     "execution_count": 284,
     "metadata": {},
     "output_type": "execute_result"
    }
   ],
   "source": [
    "a.shape"
   ]
  },
  {
   "cell_type": "code",
   "execution_count": 285,
   "metadata": {},
   "outputs": [
    {
     "data": {
      "text/plain": [
       "torch.Size([256, 101, 1])"
      ]
     },
     "execution_count": 285,
     "metadata": {},
     "output_type": "execute_result"
    }
   ],
   "source": [
    "rtg.shape"
   ]
  },
  {
   "cell_type": "code",
   "execution_count": 277,
   "metadata": {},
   "outputs": [
    {
     "name": "stderr",
     "output_type": "stream",
     "text": [
      "/Users/josephbloom/miniforge3/envs/decision_transformer_interpretability/lib/python3.9/site-packages/plotly/io/_renderers.py:395: DeprecationWarning:\n",
      "\n",
      "distutils Version classes are deprecated. Use packaging.version instead.\n",
      "\n",
      "/Users/josephbloom/miniforge3/envs/decision_transformer_interpretability/lib/python3.9/site-packages/plotly/io/_renderers.py:395: DeprecationWarning:\n",
      "\n",
      "distutils Version classes are deprecated. Use packaging.version instead.\n",
      "\n"
     ]
    },
    {
     "data": {
      "application/vnd.plotly.v1+json": {
       "config": {
        "plotlyServerURL": "https://plot.ly"
       },
       "data": [
        {
         "hovertemplate": "variable=0<br>index=%{x}<br>value=%{y}<extra></extra>",
         "legendgroup": "0",
         "line": {
          "color": "#636efa",
          "dash": "solid"
         },
         "marker": {
          "symbol": "circle"
         },
         "mode": "lines",
         "name": "0",
         "orientation": "v",
         "showlegend": true,
         "type": "scatter",
         "x": [
          0,
          1,
          2,
          3,
          4,
          5,
          6,
          7,
          8,
          9,
          10,
          11,
          12,
          13,
          14,
          15,
          16,
          17,
          18,
          19,
          20,
          21,
          22,
          23,
          24,
          25,
          26,
          27,
          28,
          29,
          30,
          31,
          32,
          33,
          34,
          35,
          36,
          37,
          38,
          39,
          40,
          41,
          42,
          43,
          44,
          45,
          46,
          47,
          48,
          49,
          50,
          51,
          52,
          53,
          54,
          55,
          56,
          57,
          58,
          59,
          60,
          61,
          62,
          63,
          64,
          65,
          66,
          67,
          68,
          69,
          70,
          71,
          72,
          73,
          74,
          75,
          76,
          77,
          78,
          79,
          80,
          81,
          82,
          83,
          84,
          85,
          86,
          87,
          88,
          89,
          90,
          91,
          92,
          93,
          94,
          95,
          96,
          97,
          98,
          99,
          100
         ],
         "xaxis": "x",
         "y": [
          0,
          0,
          0,
          0,
          0,
          0,
          0,
          0,
          0,
          0,
          0,
          0,
          0,
          0,
          0,
          0,
          0,
          0,
          0,
          0,
          0,
          0,
          0,
          0,
          0,
          0,
          0,
          0,
          0,
          0,
          0,
          0,
          0,
          0,
          0,
          0,
          0,
          0,
          0,
          0,
          0,
          0,
          0,
          0,
          0,
          0,
          0,
          0,
          0,
          0,
          0,
          0,
          0,
          0,
          0,
          0,
          0,
          0,
          0,
          0,
          0,
          0,
          0,
          0,
          0,
          0,
          0,
          0,
          0,
          0,
          0,
          0,
          0,
          0,
          0,
          0,
          0,
          0,
          0,
          0,
          0,
          0,
          0,
          0,
          0,
          0,
          0,
          0,
          0,
          0,
          0,
          0,
          0,
          0,
          0,
          0.9765999913215637,
          0.9765999913215637,
          0.9765999913215637,
          0.9765999913215637,
          0.9765999913215637,
          0
         ],
         "yaxis": "y"
        }
       ],
       "layout": {
        "legend": {
         "title": {
          "text": "variable"
         },
         "tracegroupgap": 0
        },
        "margin": {
         "t": 60
        },
        "template": {
         "data": {
          "bar": [
           {
            "error_x": {
             "color": "#2a3f5f"
            },
            "error_y": {
             "color": "#2a3f5f"
            },
            "marker": {
             "line": {
              "color": "#E5ECF6",
              "width": 0.5
             },
             "pattern": {
              "fillmode": "overlay",
              "size": 10,
              "solidity": 0.2
             }
            },
            "type": "bar"
           }
          ],
          "barpolar": [
           {
            "marker": {
             "line": {
              "color": "#E5ECF6",
              "width": 0.5
             },
             "pattern": {
              "fillmode": "overlay",
              "size": 10,
              "solidity": 0.2
             }
            },
            "type": "barpolar"
           }
          ],
          "carpet": [
           {
            "aaxis": {
             "endlinecolor": "#2a3f5f",
             "gridcolor": "white",
             "linecolor": "white",
             "minorgridcolor": "white",
             "startlinecolor": "#2a3f5f"
            },
            "baxis": {
             "endlinecolor": "#2a3f5f",
             "gridcolor": "white",
             "linecolor": "white",
             "minorgridcolor": "white",
             "startlinecolor": "#2a3f5f"
            },
            "type": "carpet"
           }
          ],
          "choropleth": [
           {
            "colorbar": {
             "outlinewidth": 0,
             "ticks": ""
            },
            "type": "choropleth"
           }
          ],
          "contour": [
           {
            "colorbar": {
             "outlinewidth": 0,
             "ticks": ""
            },
            "colorscale": [
             [
              0,
              "#0d0887"
             ],
             [
              0.1111111111111111,
              "#46039f"
             ],
             [
              0.2222222222222222,
              "#7201a8"
             ],
             [
              0.3333333333333333,
              "#9c179e"
             ],
             [
              0.4444444444444444,
              "#bd3786"
             ],
             [
              0.5555555555555556,
              "#d8576b"
             ],
             [
              0.6666666666666666,
              "#ed7953"
             ],
             [
              0.7777777777777778,
              "#fb9f3a"
             ],
             [
              0.8888888888888888,
              "#fdca26"
             ],
             [
              1,
              "#f0f921"
             ]
            ],
            "type": "contour"
           }
          ],
          "contourcarpet": [
           {
            "colorbar": {
             "outlinewidth": 0,
             "ticks": ""
            },
            "type": "contourcarpet"
           }
          ],
          "heatmap": [
           {
            "colorbar": {
             "outlinewidth": 0,
             "ticks": ""
            },
            "colorscale": [
             [
              0,
              "#0d0887"
             ],
             [
              0.1111111111111111,
              "#46039f"
             ],
             [
              0.2222222222222222,
              "#7201a8"
             ],
             [
              0.3333333333333333,
              "#9c179e"
             ],
             [
              0.4444444444444444,
              "#bd3786"
             ],
             [
              0.5555555555555556,
              "#d8576b"
             ],
             [
              0.6666666666666666,
              "#ed7953"
             ],
             [
              0.7777777777777778,
              "#fb9f3a"
             ],
             [
              0.8888888888888888,
              "#fdca26"
             ],
             [
              1,
              "#f0f921"
             ]
            ],
            "type": "heatmap"
           }
          ],
          "heatmapgl": [
           {
            "colorbar": {
             "outlinewidth": 0,
             "ticks": ""
            },
            "colorscale": [
             [
              0,
              "#0d0887"
             ],
             [
              0.1111111111111111,
              "#46039f"
             ],
             [
              0.2222222222222222,
              "#7201a8"
             ],
             [
              0.3333333333333333,
              "#9c179e"
             ],
             [
              0.4444444444444444,
              "#bd3786"
             ],
             [
              0.5555555555555556,
              "#d8576b"
             ],
             [
              0.6666666666666666,
              "#ed7953"
             ],
             [
              0.7777777777777778,
              "#fb9f3a"
             ],
             [
              0.8888888888888888,
              "#fdca26"
             ],
             [
              1,
              "#f0f921"
             ]
            ],
            "type": "heatmapgl"
           }
          ],
          "histogram": [
           {
            "marker": {
             "pattern": {
              "fillmode": "overlay",
              "size": 10,
              "solidity": 0.2
             }
            },
            "type": "histogram"
           }
          ],
          "histogram2d": [
           {
            "colorbar": {
             "outlinewidth": 0,
             "ticks": ""
            },
            "colorscale": [
             [
              0,
              "#0d0887"
             ],
             [
              0.1111111111111111,
              "#46039f"
             ],
             [
              0.2222222222222222,
              "#7201a8"
             ],
             [
              0.3333333333333333,
              "#9c179e"
             ],
             [
              0.4444444444444444,
              "#bd3786"
             ],
             [
              0.5555555555555556,
              "#d8576b"
             ],
             [
              0.6666666666666666,
              "#ed7953"
             ],
             [
              0.7777777777777778,
              "#fb9f3a"
             ],
             [
              0.8888888888888888,
              "#fdca26"
             ],
             [
              1,
              "#f0f921"
             ]
            ],
            "type": "histogram2d"
           }
          ],
          "histogram2dcontour": [
           {
            "colorbar": {
             "outlinewidth": 0,
             "ticks": ""
            },
            "colorscale": [
             [
              0,
              "#0d0887"
             ],
             [
              0.1111111111111111,
              "#46039f"
             ],
             [
              0.2222222222222222,
              "#7201a8"
             ],
             [
              0.3333333333333333,
              "#9c179e"
             ],
             [
              0.4444444444444444,
              "#bd3786"
             ],
             [
              0.5555555555555556,
              "#d8576b"
             ],
             [
              0.6666666666666666,
              "#ed7953"
             ],
             [
              0.7777777777777778,
              "#fb9f3a"
             ],
             [
              0.8888888888888888,
              "#fdca26"
             ],
             [
              1,
              "#f0f921"
             ]
            ],
            "type": "histogram2dcontour"
           }
          ],
          "mesh3d": [
           {
            "colorbar": {
             "outlinewidth": 0,
             "ticks": ""
            },
            "type": "mesh3d"
           }
          ],
          "parcoords": [
           {
            "line": {
             "colorbar": {
              "outlinewidth": 0,
              "ticks": ""
             }
            },
            "type": "parcoords"
           }
          ],
          "pie": [
           {
            "automargin": true,
            "type": "pie"
           }
          ],
          "scatter": [
           {
            "fillpattern": {
             "fillmode": "overlay",
             "size": 10,
             "solidity": 0.2
            },
            "type": "scatter"
           }
          ],
          "scatter3d": [
           {
            "line": {
             "colorbar": {
              "outlinewidth": 0,
              "ticks": ""
             }
            },
            "marker": {
             "colorbar": {
              "outlinewidth": 0,
              "ticks": ""
             }
            },
            "type": "scatter3d"
           }
          ],
          "scattercarpet": [
           {
            "marker": {
             "colorbar": {
              "outlinewidth": 0,
              "ticks": ""
             }
            },
            "type": "scattercarpet"
           }
          ],
          "scattergeo": [
           {
            "marker": {
             "colorbar": {
              "outlinewidth": 0,
              "ticks": ""
             }
            },
            "type": "scattergeo"
           }
          ],
          "scattergl": [
           {
            "marker": {
             "colorbar": {
              "outlinewidth": 0,
              "ticks": ""
             }
            },
            "type": "scattergl"
           }
          ],
          "scattermapbox": [
           {
            "marker": {
             "colorbar": {
              "outlinewidth": 0,
              "ticks": ""
             }
            },
            "type": "scattermapbox"
           }
          ],
          "scatterpolar": [
           {
            "marker": {
             "colorbar": {
              "outlinewidth": 0,
              "ticks": ""
             }
            },
            "type": "scatterpolar"
           }
          ],
          "scatterpolargl": [
           {
            "marker": {
             "colorbar": {
              "outlinewidth": 0,
              "ticks": ""
             }
            },
            "type": "scatterpolargl"
           }
          ],
          "scatterternary": [
           {
            "marker": {
             "colorbar": {
              "outlinewidth": 0,
              "ticks": ""
             }
            },
            "type": "scatterternary"
           }
          ],
          "surface": [
           {
            "colorbar": {
             "outlinewidth": 0,
             "ticks": ""
            },
            "colorscale": [
             [
              0,
              "#0d0887"
             ],
             [
              0.1111111111111111,
              "#46039f"
             ],
             [
              0.2222222222222222,
              "#7201a8"
             ],
             [
              0.3333333333333333,
              "#9c179e"
             ],
             [
              0.4444444444444444,
              "#bd3786"
             ],
             [
              0.5555555555555556,
              "#d8576b"
             ],
             [
              0.6666666666666666,
              "#ed7953"
             ],
             [
              0.7777777777777778,
              "#fb9f3a"
             ],
             [
              0.8888888888888888,
              "#fdca26"
             ],
             [
              1,
              "#f0f921"
             ]
            ],
            "type": "surface"
           }
          ],
          "table": [
           {
            "cells": {
             "fill": {
              "color": "#EBF0F8"
             },
             "line": {
              "color": "white"
             }
            },
            "header": {
             "fill": {
              "color": "#C8D4E3"
             },
             "line": {
              "color": "white"
             }
            },
            "type": "table"
           }
          ]
         },
         "layout": {
          "annotationdefaults": {
           "arrowcolor": "#2a3f5f",
           "arrowhead": 0,
           "arrowwidth": 1
          },
          "autotypenumbers": "strict",
          "coloraxis": {
           "colorbar": {
            "outlinewidth": 0,
            "ticks": ""
           }
          },
          "colorscale": {
           "diverging": [
            [
             0,
             "#8e0152"
            ],
            [
             0.1,
             "#c51b7d"
            ],
            [
             0.2,
             "#de77ae"
            ],
            [
             0.3,
             "#f1b6da"
            ],
            [
             0.4,
             "#fde0ef"
            ],
            [
             0.5,
             "#f7f7f7"
            ],
            [
             0.6,
             "#e6f5d0"
            ],
            [
             0.7,
             "#b8e186"
            ],
            [
             0.8,
             "#7fbc41"
            ],
            [
             0.9,
             "#4d9221"
            ],
            [
             1,
             "#276419"
            ]
           ],
           "sequential": [
            [
             0,
             "#0d0887"
            ],
            [
             0.1111111111111111,
             "#46039f"
            ],
            [
             0.2222222222222222,
             "#7201a8"
            ],
            [
             0.3333333333333333,
             "#9c179e"
            ],
            [
             0.4444444444444444,
             "#bd3786"
            ],
            [
             0.5555555555555556,
             "#d8576b"
            ],
            [
             0.6666666666666666,
             "#ed7953"
            ],
            [
             0.7777777777777778,
             "#fb9f3a"
            ],
            [
             0.8888888888888888,
             "#fdca26"
            ],
            [
             1,
             "#f0f921"
            ]
           ],
           "sequentialminus": [
            [
             0,
             "#0d0887"
            ],
            [
             0.1111111111111111,
             "#46039f"
            ],
            [
             0.2222222222222222,
             "#7201a8"
            ],
            [
             0.3333333333333333,
             "#9c179e"
            ],
            [
             0.4444444444444444,
             "#bd3786"
            ],
            [
             0.5555555555555556,
             "#d8576b"
            ],
            [
             0.6666666666666666,
             "#ed7953"
            ],
            [
             0.7777777777777778,
             "#fb9f3a"
            ],
            [
             0.8888888888888888,
             "#fdca26"
            ],
            [
             1,
             "#f0f921"
            ]
           ]
          },
          "colorway": [
           "#636efa",
           "#EF553B",
           "#00cc96",
           "#ab63fa",
           "#FFA15A",
           "#19d3f3",
           "#FF6692",
           "#B6E880",
           "#FF97FF",
           "#FECB52"
          ],
          "font": {
           "color": "#2a3f5f"
          },
          "geo": {
           "bgcolor": "white",
           "lakecolor": "white",
           "landcolor": "#E5ECF6",
           "showlakes": true,
           "showland": true,
           "subunitcolor": "white"
          },
          "hoverlabel": {
           "align": "left"
          },
          "hovermode": "closest",
          "mapbox": {
           "style": "light"
          },
          "paper_bgcolor": "white",
          "plot_bgcolor": "#E5ECF6",
          "polar": {
           "angularaxis": {
            "gridcolor": "white",
            "linecolor": "white",
            "ticks": ""
           },
           "bgcolor": "#E5ECF6",
           "radialaxis": {
            "gridcolor": "white",
            "linecolor": "white",
            "ticks": ""
           }
          },
          "scene": {
           "xaxis": {
            "backgroundcolor": "#E5ECF6",
            "gridcolor": "white",
            "gridwidth": 2,
            "linecolor": "white",
            "showbackground": true,
            "ticks": "",
            "zerolinecolor": "white"
           },
           "yaxis": {
            "backgroundcolor": "#E5ECF6",
            "gridcolor": "white",
            "gridwidth": 2,
            "linecolor": "white",
            "showbackground": true,
            "ticks": "",
            "zerolinecolor": "white"
           },
           "zaxis": {
            "backgroundcolor": "#E5ECF6",
            "gridcolor": "white",
            "gridwidth": 2,
            "linecolor": "white",
            "showbackground": true,
            "ticks": "",
            "zerolinecolor": "white"
           }
          },
          "shapedefaults": {
           "line": {
            "color": "#2a3f5f"
           }
          },
          "ternary": {
           "aaxis": {
            "gridcolor": "white",
            "linecolor": "white",
            "ticks": ""
           },
           "baxis": {
            "gridcolor": "white",
            "linecolor": "white",
            "ticks": ""
           },
           "bgcolor": "#E5ECF6",
           "caxis": {
            "gridcolor": "white",
            "linecolor": "white",
            "ticks": ""
           }
          },
          "title": {
           "x": 0.05
          },
          "xaxis": {
           "automargin": true,
           "gridcolor": "white",
           "linecolor": "white",
           "ticks": "",
           "title": {
            "standoff": 15
           },
           "zerolinecolor": "white",
           "zerolinewidth": 2
          },
          "yaxis": {
           "automargin": true,
           "gridcolor": "white",
           "linecolor": "white",
           "ticks": "",
           "title": {
            "standoff": 15
           },
           "zerolinecolor": "white",
           "zerolinewidth": 2
          }
         }
        },
        "xaxis": {
         "anchor": "y",
         "domain": [
          0,
          1
         ],
         "title": {
          "text": "index"
         }
        },
        "yaxis": {
         "anchor": "x",
         "domain": [
          0,
          1
         ],
         "title": {
          "text": "value"
         }
        }
       }
      }
     },
     "metadata": {},
     "output_type": "display_data"
    }
   ],
   "source": [
    "px.line(rtg[event])"
   ]
  },
  {
   "cell_type": "code",
   "execution_count": null,
   "metadata": {},
   "outputs": [],
   "source": []
  }
 ],
 "metadata": {
  "kernelspec": {
   "display_name": "decision_transformer_interpretability",
   "language": "python",
   "name": "python3"
  },
  "language_info": {
   "codemirror_mode": {
    "name": "ipython",
    "version": 3
   },
   "file_extension": ".py",
   "mimetype": "text/x-python",
   "name": "python",
   "nbconvert_exporter": "python",
   "pygments_lexer": "ipython3",
   "version": "3.9.15"
  },
  "orig_nbformat": 4,
  "vscode": {
   "interpreter": {
    "hash": "0be95f1efa079bcf597630754731f3dc2b2137553763cb34bfd5652600bd2735"
   }
  }
 },
 "nbformat": 4,
 "nbformat_minor": 2
}
