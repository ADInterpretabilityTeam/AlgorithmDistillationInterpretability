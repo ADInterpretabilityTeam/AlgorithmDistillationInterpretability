{
 "cells": [
  {
   "attachments": {},
   "cell_type": "markdown",
   "metadata": {},
   "source": [
    "# MiniGrid Environment"
   ]
  },
  {
   "attachments": {},
   "cell_type": "markdown",
   "metadata": {},
   "source": [
    "Try out the environment by running the following command:\n",
    "\n",
    "\n",
    "```bash\n",
    "python -m minigrid.manual_control\n",
    "```\n",
    "\n",
    "Later we can benchmark against torch-rl \n"
   ]
  },
  {
   "cell_type": "code",
   "execution_count": 68,
   "metadata": {},
   "outputs": [],
   "source": [
    "import gymnasium as gym\n",
    "from minigrid.wrappers import RGBImgPartialObsWrapper, ImgObsWrapper\n",
    "\n",
    "env = gym.make('MiniGrid-Empty-8x8-v0')\n",
    "env = RGBImgPartialObsWrapper(env) # Get pixel observations\n",
    "env = ImgObsWrapper(env) # Get rid of the 'mission' field\n",
    "obs, _ = env.reset() # This now produces an RGB tensor only"
   ]
  },
  {
   "cell_type": "code",
   "execution_count": null,
   "metadata": {},
   "outputs": [],
   "source": [
    "env"
   ]
  },
  {
   "cell_type": "code",
   "execution_count": 64,
   "metadata": {},
   "outputs": [
    {
     "data": {
      "application/vnd.plotly.v1+json": {
       "config": {
        "plotlyServerURL": "https://plot.ly"
       },
       "data": [
        {
         "hovertemplate": "x: %{x}<br>y: %{y}<br>color: [%{z[0]}, %{z[1]}, %{z[2]}]<extra></extra>",
         "name": "0",
         "source": "data:image/png;base64,iVBORw0KGgoAAAANSUhEUgAAADgAAAA4CAIAAAAn5KxJAAAA6ElEQVR4Xu2UsQ3CMBQFH4jeTXZgCVZAZLZsly5tSm9A40TwgwvQFXzpXWWdm5MSv9M0TcrAOYp/xaE0DqVxKM0lil9ZlqXWGq1USkE8FlprXdc1WkkS4tN8eofSOJQmTSg2T6WUqCRxHgv1jjYcSuNQmjSh2Dz19o/yWKh3tOFQGofSpAnF5qm3f5THQr2jDYfSOJQmTSg2T739ozwW6h1tOJTGoTRpQrF56u0f5bHQfUevkqT55erjLupLj4Xu3CS9hyLw/+gojdEBwKGPw4ECDh0PBwoy9CoN23nYXhUF+Zhm6R4dxhNf5mxCBimltAAAAABJRU5ErkJggg==",
         "type": "image",
         "xaxis": "x",
         "yaxis": "y"
        }
       ],
       "layout": {
        "margin": {
         "t": 60
        },
        "template": {
         "data": {
          "bar": [
           {
            "error_x": {
             "color": "#2a3f5f"
            },
            "error_y": {
             "color": "#2a3f5f"
            },
            "marker": {
             "line": {
              "color": "#E5ECF6",
              "width": 0.5
             },
             "pattern": {
              "fillmode": "overlay",
              "size": 10,
              "solidity": 0.2
             }
            },
            "type": "bar"
           }
          ],
          "barpolar": [
           {
            "marker": {
             "line": {
              "color": "#E5ECF6",
              "width": 0.5
             },
             "pattern": {
              "fillmode": "overlay",
              "size": 10,
              "solidity": 0.2
             }
            },
            "type": "barpolar"
           }
          ],
          "carpet": [
           {
            "aaxis": {
             "endlinecolor": "#2a3f5f",
             "gridcolor": "white",
             "linecolor": "white",
             "minorgridcolor": "white",
             "startlinecolor": "#2a3f5f"
            },
            "baxis": {
             "endlinecolor": "#2a3f5f",
             "gridcolor": "white",
             "linecolor": "white",
             "minorgridcolor": "white",
             "startlinecolor": "#2a3f5f"
            },
            "type": "carpet"
           }
          ],
          "choropleth": [
           {
            "colorbar": {
             "outlinewidth": 0,
             "ticks": ""
            },
            "type": "choropleth"
           }
          ],
          "contour": [
           {
            "colorbar": {
             "outlinewidth": 0,
             "ticks": ""
            },
            "colorscale": [
             [
              0,
              "#0d0887"
             ],
             [
              0.1111111111111111,
              "#46039f"
             ],
             [
              0.2222222222222222,
              "#7201a8"
             ],
             [
              0.3333333333333333,
              "#9c179e"
             ],
             [
              0.4444444444444444,
              "#bd3786"
             ],
             [
              0.5555555555555556,
              "#d8576b"
             ],
             [
              0.6666666666666666,
              "#ed7953"
             ],
             [
              0.7777777777777778,
              "#fb9f3a"
             ],
             [
              0.8888888888888888,
              "#fdca26"
             ],
             [
              1,
              "#f0f921"
             ]
            ],
            "type": "contour"
           }
          ],
          "contourcarpet": [
           {
            "colorbar": {
             "outlinewidth": 0,
             "ticks": ""
            },
            "type": "contourcarpet"
           }
          ],
          "heatmap": [
           {
            "colorbar": {
             "outlinewidth": 0,
             "ticks": ""
            },
            "colorscale": [
             [
              0,
              "#0d0887"
             ],
             [
              0.1111111111111111,
              "#46039f"
             ],
             [
              0.2222222222222222,
              "#7201a8"
             ],
             [
              0.3333333333333333,
              "#9c179e"
             ],
             [
              0.4444444444444444,
              "#bd3786"
             ],
             [
              0.5555555555555556,
              "#d8576b"
             ],
             [
              0.6666666666666666,
              "#ed7953"
             ],
             [
              0.7777777777777778,
              "#fb9f3a"
             ],
             [
              0.8888888888888888,
              "#fdca26"
             ],
             [
              1,
              "#f0f921"
             ]
            ],
            "type": "heatmap"
           }
          ],
          "heatmapgl": [
           {
            "colorbar": {
             "outlinewidth": 0,
             "ticks": ""
            },
            "colorscale": [
             [
              0,
              "#0d0887"
             ],
             [
              0.1111111111111111,
              "#46039f"
             ],
             [
              0.2222222222222222,
              "#7201a8"
             ],
             [
              0.3333333333333333,
              "#9c179e"
             ],
             [
              0.4444444444444444,
              "#bd3786"
             ],
             [
              0.5555555555555556,
              "#d8576b"
             ],
             [
              0.6666666666666666,
              "#ed7953"
             ],
             [
              0.7777777777777778,
              "#fb9f3a"
             ],
             [
              0.8888888888888888,
              "#fdca26"
             ],
             [
              1,
              "#f0f921"
             ]
            ],
            "type": "heatmapgl"
           }
          ],
          "histogram": [
           {
            "marker": {
             "pattern": {
              "fillmode": "overlay",
              "size": 10,
              "solidity": 0.2
             }
            },
            "type": "histogram"
           }
          ],
          "histogram2d": [
           {
            "colorbar": {
             "outlinewidth": 0,
             "ticks": ""
            },
            "colorscale": [
             [
              0,
              "#0d0887"
             ],
             [
              0.1111111111111111,
              "#46039f"
             ],
             [
              0.2222222222222222,
              "#7201a8"
             ],
             [
              0.3333333333333333,
              "#9c179e"
             ],
             [
              0.4444444444444444,
              "#bd3786"
             ],
             [
              0.5555555555555556,
              "#d8576b"
             ],
             [
              0.6666666666666666,
              "#ed7953"
             ],
             [
              0.7777777777777778,
              "#fb9f3a"
             ],
             [
              0.8888888888888888,
              "#fdca26"
             ],
             [
              1,
              "#f0f921"
             ]
            ],
            "type": "histogram2d"
           }
          ],
          "histogram2dcontour": [
           {
            "colorbar": {
             "outlinewidth": 0,
             "ticks": ""
            },
            "colorscale": [
             [
              0,
              "#0d0887"
             ],
             [
              0.1111111111111111,
              "#46039f"
             ],
             [
              0.2222222222222222,
              "#7201a8"
             ],
             [
              0.3333333333333333,
              "#9c179e"
             ],
             [
              0.4444444444444444,
              "#bd3786"
             ],
             [
              0.5555555555555556,
              "#d8576b"
             ],
             [
              0.6666666666666666,
              "#ed7953"
             ],
             [
              0.7777777777777778,
              "#fb9f3a"
             ],
             [
              0.8888888888888888,
              "#fdca26"
             ],
             [
              1,
              "#f0f921"
             ]
            ],
            "type": "histogram2dcontour"
           }
          ],
          "mesh3d": [
           {
            "colorbar": {
             "outlinewidth": 0,
             "ticks": ""
            },
            "type": "mesh3d"
           }
          ],
          "parcoords": [
           {
            "line": {
             "colorbar": {
              "outlinewidth": 0,
              "ticks": ""
             }
            },
            "type": "parcoords"
           }
          ],
          "pie": [
           {
            "automargin": true,
            "type": "pie"
           }
          ],
          "scatter": [
           {
            "fillpattern": {
             "fillmode": "overlay",
             "size": 10,
             "solidity": 0.2
            },
            "type": "scatter"
           }
          ],
          "scatter3d": [
           {
            "line": {
             "colorbar": {
              "outlinewidth": 0,
              "ticks": ""
             }
            },
            "marker": {
             "colorbar": {
              "outlinewidth": 0,
              "ticks": ""
             }
            },
            "type": "scatter3d"
           }
          ],
          "scattercarpet": [
           {
            "marker": {
             "colorbar": {
              "outlinewidth": 0,
              "ticks": ""
             }
            },
            "type": "scattercarpet"
           }
          ],
          "scattergeo": [
           {
            "marker": {
             "colorbar": {
              "outlinewidth": 0,
              "ticks": ""
             }
            },
            "type": "scattergeo"
           }
          ],
          "scattergl": [
           {
            "marker": {
             "colorbar": {
              "outlinewidth": 0,
              "ticks": ""
             }
            },
            "type": "scattergl"
           }
          ],
          "scattermapbox": [
           {
            "marker": {
             "colorbar": {
              "outlinewidth": 0,
              "ticks": ""
             }
            },
            "type": "scattermapbox"
           }
          ],
          "scatterpolar": [
           {
            "marker": {
             "colorbar": {
              "outlinewidth": 0,
              "ticks": ""
             }
            },
            "type": "scatterpolar"
           }
          ],
          "scatterpolargl": [
           {
            "marker": {
             "colorbar": {
              "outlinewidth": 0,
              "ticks": ""
             }
            },
            "type": "scatterpolargl"
           }
          ],
          "scatterternary": [
           {
            "marker": {
             "colorbar": {
              "outlinewidth": 0,
              "ticks": ""
             }
            },
            "type": "scatterternary"
           }
          ],
          "surface": [
           {
            "colorbar": {
             "outlinewidth": 0,
             "ticks": ""
            },
            "colorscale": [
             [
              0,
              "#0d0887"
             ],
             [
              0.1111111111111111,
              "#46039f"
             ],
             [
              0.2222222222222222,
              "#7201a8"
             ],
             [
              0.3333333333333333,
              "#9c179e"
             ],
             [
              0.4444444444444444,
              "#bd3786"
             ],
             [
              0.5555555555555556,
              "#d8576b"
             ],
             [
              0.6666666666666666,
              "#ed7953"
             ],
             [
              0.7777777777777778,
              "#fb9f3a"
             ],
             [
              0.8888888888888888,
              "#fdca26"
             ],
             [
              1,
              "#f0f921"
             ]
            ],
            "type": "surface"
           }
          ],
          "table": [
           {
            "cells": {
             "fill": {
              "color": "#EBF0F8"
             },
             "line": {
              "color": "white"
             }
            },
            "header": {
             "fill": {
              "color": "#C8D4E3"
             },
             "line": {
              "color": "white"
             }
            },
            "type": "table"
           }
          ]
         },
         "layout": {
          "annotationdefaults": {
           "arrowcolor": "#2a3f5f",
           "arrowhead": 0,
           "arrowwidth": 1
          },
          "autotypenumbers": "strict",
          "coloraxis": {
           "colorbar": {
            "outlinewidth": 0,
            "ticks": ""
           }
          },
          "colorscale": {
           "diverging": [
            [
             0,
             "#8e0152"
            ],
            [
             0.1,
             "#c51b7d"
            ],
            [
             0.2,
             "#de77ae"
            ],
            [
             0.3,
             "#f1b6da"
            ],
            [
             0.4,
             "#fde0ef"
            ],
            [
             0.5,
             "#f7f7f7"
            ],
            [
             0.6,
             "#e6f5d0"
            ],
            [
             0.7,
             "#b8e186"
            ],
            [
             0.8,
             "#7fbc41"
            ],
            [
             0.9,
             "#4d9221"
            ],
            [
             1,
             "#276419"
            ]
           ],
           "sequential": [
            [
             0,
             "#0d0887"
            ],
            [
             0.1111111111111111,
             "#46039f"
            ],
            [
             0.2222222222222222,
             "#7201a8"
            ],
            [
             0.3333333333333333,
             "#9c179e"
            ],
            [
             0.4444444444444444,
             "#bd3786"
            ],
            [
             0.5555555555555556,
             "#d8576b"
            ],
            [
             0.6666666666666666,
             "#ed7953"
            ],
            [
             0.7777777777777778,
             "#fb9f3a"
            ],
            [
             0.8888888888888888,
             "#fdca26"
            ],
            [
             1,
             "#f0f921"
            ]
           ],
           "sequentialminus": [
            [
             0,
             "#0d0887"
            ],
            [
             0.1111111111111111,
             "#46039f"
            ],
            [
             0.2222222222222222,
             "#7201a8"
            ],
            [
             0.3333333333333333,
             "#9c179e"
            ],
            [
             0.4444444444444444,
             "#bd3786"
            ],
            [
             0.5555555555555556,
             "#d8576b"
            ],
            [
             0.6666666666666666,
             "#ed7953"
            ],
            [
             0.7777777777777778,
             "#fb9f3a"
            ],
            [
             0.8888888888888888,
             "#fdca26"
            ],
            [
             1,
             "#f0f921"
            ]
           ]
          },
          "colorway": [
           "#636efa",
           "#EF553B",
           "#00cc96",
           "#ab63fa",
           "#FFA15A",
           "#19d3f3",
           "#FF6692",
           "#B6E880",
           "#FF97FF",
           "#FECB52"
          ],
          "font": {
           "color": "#2a3f5f"
          },
          "geo": {
           "bgcolor": "white",
           "lakecolor": "white",
           "landcolor": "#E5ECF6",
           "showlakes": true,
           "showland": true,
           "subunitcolor": "white"
          },
          "hoverlabel": {
           "align": "left"
          },
          "hovermode": "closest",
          "mapbox": {
           "style": "light"
          },
          "paper_bgcolor": "white",
          "plot_bgcolor": "#E5ECF6",
          "polar": {
           "angularaxis": {
            "gridcolor": "white",
            "linecolor": "white",
            "ticks": ""
           },
           "bgcolor": "#E5ECF6",
           "radialaxis": {
            "gridcolor": "white",
            "linecolor": "white",
            "ticks": ""
           }
          },
          "scene": {
           "xaxis": {
            "backgroundcolor": "#E5ECF6",
            "gridcolor": "white",
            "gridwidth": 2,
            "linecolor": "white",
            "showbackground": true,
            "ticks": "",
            "zerolinecolor": "white"
           },
           "yaxis": {
            "backgroundcolor": "#E5ECF6",
            "gridcolor": "white",
            "gridwidth": 2,
            "linecolor": "white",
            "showbackground": true,
            "ticks": "",
            "zerolinecolor": "white"
           },
           "zaxis": {
            "backgroundcolor": "#E5ECF6",
            "gridcolor": "white",
            "gridwidth": 2,
            "linecolor": "white",
            "showbackground": true,
            "ticks": "",
            "zerolinecolor": "white"
           }
          },
          "shapedefaults": {
           "line": {
            "color": "#2a3f5f"
           }
          },
          "ternary": {
           "aaxis": {
            "gridcolor": "white",
            "linecolor": "white",
            "ticks": ""
           },
           "baxis": {
            "gridcolor": "white",
            "linecolor": "white",
            "ticks": ""
           },
           "bgcolor": "#E5ECF6",
           "caxis": {
            "gridcolor": "white",
            "linecolor": "white",
            "ticks": ""
           }
          },
          "title": {
           "x": 0.05
          },
          "xaxis": {
           "automargin": true,
           "gridcolor": "white",
           "linecolor": "white",
           "ticks": "",
           "title": {
            "standoff": 15
           },
           "zerolinecolor": "white",
           "zerolinewidth": 2
          },
          "yaxis": {
           "automargin": true,
           "gridcolor": "white",
           "linecolor": "white",
           "ticks": "",
           "title": {
            "standoff": 15
           },
           "zerolinecolor": "white",
           "zerolinewidth": 2
          }
         }
        },
        "xaxis": {
         "anchor": "y",
         "domain": [
          0,
          1
         ]
        },
        "yaxis": {
         "anchor": "x",
         "domain": [
          0,
          1
         ]
        }
       }
      }
     },
     "metadata": {},
     "output_type": "display_data"
    }
   ],
   "source": [
    "import torch as t \n",
    "import plotly.express as px\n",
    "obs = t.tensor(obs)\n",
    "obs.shape\n",
    "px.imshow(obs)"
   ]
  },
  {
   "cell_type": "code",
   "execution_count": 198,
   "metadata": {},
   "outputs": [],
   "source": [
    "env = gym.make('MiniGrid-Empty-8x8-v0')\n",
    "env = RGBImgPartialObsWrapper(env) # Get pixel observations\n",
    "env = ImgObsWrapper(env) # Get rid of the 'mission' field\n",
    "obs, _ = env.reset() # This now produces an RGB tensor only\n",
    "\n",
    "# take several actions, store the observations, actions, returns and timesteps\n",
    "all_obs = []\n",
    "all_actions = []\n",
    "all_returns = []\n",
    "all_timesteps = []\n",
    "\n",
    "\n",
    "for i in range(10):\n",
    "    action = env.action_space.sample()\n",
    "    obs, reward, terminated, truncated, info = env.step(action)\n",
    "    all_obs.append(obs)\n",
    "    all_actions.append(action)\n",
    "    all_returns.append(reward)\n",
    "    all_timesteps.append(i)\n",
    "\n",
    "# convert to tensors.unsqueeze(0)\n",
    "all_obs = t.tensor(all_obs)\n",
    "all_actions = t.tensor(all_actions).reshape(-1, 1)\n",
    "all_returns = t.tensor(all_returns)\n",
    "all_returns = t.randn((10, 1))\n",
    "all_returns_to_go = all_returns.flip(0).cumsum(0).flip(0).reshape(-1, 1)\n",
    "all_timesteps = t.tensor(all_timesteps).reshape(-1, 1)"
   ]
  },
  {
   "cell_type": "code",
   "execution_count": 199,
   "metadata": {},
   "outputs": [
    {
     "name": "stdout",
     "output_type": "stream",
     "text": [
      "torch.Size([10, 1])\n"
     ]
    }
   ],
   "source": [
    "print(all_returns.shape)"
   ]
  },
  {
   "cell_type": "code",
   "execution_count": 200,
   "metadata": {},
   "outputs": [
    {
     "name": "stdout",
     "output_type": "stream",
     "text": [
      "torch.Size([10, 1])\n"
     ]
    }
   ],
   "source": [
    "print(all_returns_to_go.shape)"
   ]
  },
  {
   "attachments": {},
   "cell_type": "markdown",
   "metadata": {},
   "source": [
    "# Getting a basic architecture\n"
   ]
  },
  {
   "cell_type": "code",
   "execution_count": 174,
   "metadata": {},
   "outputs": [
    {
     "data": {
      "text/plain": [
       "tensor([[ 3.1732,  0.0000,  8.5591,  9.1271,  0.0000,  9.6672,  8.2926,  0.0000,\n",
       "          0.0000,  3.4197,  0.0000,  0.0000,  0.0000,  0.0000, 13.0668,  0.6257,\n",
       "          3.3617,  0.8560,  0.0000,  0.0000, 10.8386,  1.3225, 13.4223,  4.6092,\n",
       "          8.5116,  3.6104,  6.0747,  2.2926,  0.0000, 14.3694,  0.0000, 14.2668,\n",
       "          0.0000,  5.7248,  7.7609,  0.0000,  2.8358,  0.0000,  3.1188, 11.4423,\n",
       "          0.0000,  0.8637,  0.0000,  0.0000,  0.0000,  0.0000,  0.4379,  6.3394,\n",
       "         12.1237,  0.0000,  0.0000,  0.0000,  0.2780,  0.0000, 11.5842,  0.0000,\n",
       "          0.0000, 10.4421,  0.0000,  5.0201,  1.7064,  6.3745,  5.3732,  9.4602]],\n",
       "       grad_fn=<ReluBackward0>)"
      ]
     },
     "execution_count": 174,
     "metadata": {},
     "output_type": "execute_result"
    }
   ],
   "source": [
    "# for the grid world environment we will a small CNN to extract features from the image\n",
    "# we will use the same CNN as in the original paper\n",
    "\n",
    "obs, _, _, _, _ = env.step(2)\n",
    "obs = t.tensor(obs)\n",
    "\n",
    "import torch as t\n",
    "import torch.nn as nn\n",
    "import torch.nn.functional as F\n",
    "from einops import rearrange\n",
    "\n",
    "# to do: make this a custom class with hooks from transformer lense\n",
    "# to do: work out how to feature visualize this\n",
    "\n",
    "class StateEncoder(nn.Module):\n",
    "    def __init__(self, n_embed):\n",
    "        super(StateEncoder, self).__init__()\n",
    "        self.n_embed = n_embed\n",
    "        # input has shape 56 x 56 x 3\n",
    "        # output has shape 1 x 1 x 512\n",
    "        self.conv1 = nn.Conv2d(3, 32, 8, stride=4, padding=0) # 56 -> 13\n",
    "        self.conv2 = nn.Conv2d(32, 64, 4, stride=2, padding=0) # 13 -> 5\n",
    "        self.conv3 = nn.Conv2d(64, 64, 3, stride=1, padding=0) # 5 -> 3\n",
    "        self.flatten = nn.Flatten()\n",
    "        self.fc = nn.Linear(576, n_embed)\n",
    "\n",
    "    def forward(self, x):\n",
    "        x = F.relu(self.conv1(x))\n",
    "        x = F.relu(self.conv2(x))\n",
    "        x = F.relu(self.conv3(x))\n",
    "        x = self.flatten(x)\n",
    "        x = self.fc(x)\n",
    "        x = F.relu(x)\n",
    "        return x\n",
    "\n",
    "# we will use the same CNN as in the original paper\n",
    "cnn = StateEncoder(64).to(\"cpu\")\n",
    "x = obs.unsqueeze(0).to(t.float32)\n",
    "x = rearrange(x, 'b h w c-> b c h w')\n",
    "cnn(x)"
   ]
  },
  {
   "attachments": {},
   "cell_type": "markdown",
   "metadata": {},
   "source": [
    "For reference: https://github.com/kzl/decision-transformer/blob/master/atari/mingpt/model_atari.py"
   ]
  },
  {
   "cell_type": "code",
   "execution_count": 262,
   "metadata": {},
   "outputs": [
    {
     "name": "stdout",
     "output_type": "stream",
     "text": [
      "torch.Size([1, 10, 56, 56, 3])\n",
      "logits shape is:  torch.Size([3, 10, 7])\n",
      "torch.Size([3, 10, 56, 56, 3])\n",
      "torch.Size([3, 5, 7])\n",
      "tensor([1, 1, 1, 1, 1])\n",
      "------------------\n",
      "torch.Size([1, 10, 56, 56, 3])\n",
      "logits shape is:  torch.Size([3, 10, 7])\n",
      "torch.Size([3, 10, 56, 56, 3])\n",
      "torch.Size([3, 10, 7])\n",
      "tensor([5, 5, 5, 5, 5, 5, 5, 5, 5, 5])\n",
      "------------------\n",
      "torch.Size([1, 10, 56, 56, 3])\n"
     ]
    }
   ],
   "source": [
    "import torch\n",
    "import torch.nn as nn\n",
    "from transformer_lens import EasyTransformer, EasyTransformerConfig\n",
    "\n",
    "class DecisionTransformer(torch.nn.Module):\n",
    "    def __init__(self, env, max_game_length: int = 1000, model_type = \"naive\"):\n",
    "        '''\n",
    "        model = Classifier(cfg)\n",
    "        '''\n",
    "        super().__init__()\n",
    "\n",
    "        self.model_type = model_type\n",
    "        self.d_model = 64\n",
    "        self.block_size = 10\n",
    "        vocab_size = env.action_space.n\n",
    "        self.max_timestep = max_game_length\n",
    "        self.ctx_size = self.block_size \n",
    "\n",
    "        if self.model_type == \"transformer\":\n",
    "            self.ctx_size = self.block_size\n",
    "\n",
    "        # Embedding layers\n",
    "        self.pos_emb = nn.Parameter(torch.zeros(1, self.block_size + 1, self.d_model))\n",
    "        self.global_pos_emb = nn.Parameter(torch.zeros(1, self.max_timestep+1, self.d_model))\n",
    "        self.state_encoder = StateEncoder(self.d_model)\n",
    "        \n",
    "        self.action_embeddings = nn.Sequential(nn.Embedding(env.action_space.n, self.d_model), nn.Tanh())\n",
    "        nn.init.normal_(self.action_embeddings[0].weight, mean=0.0, std=0.02)\n",
    "\n",
    "        self.ret_emb = nn.Sequential(nn.Linear(1, self.d_model), nn.Tanh())\n",
    "\n",
    "        # Transformer\n",
    "\n",
    "        cfg = EasyTransformerConfig(\n",
    "            n_layers=2,\n",
    "            d_model=self.d_model,\n",
    "            d_head=32,\n",
    "            n_heads=2,\n",
    "            d_mlp=128,\n",
    "            d_vocab= 64,\n",
    "            n_ctx= self.ctx_size,\n",
    "            act_fn=\"relu\",\n",
    "            normalization_type=None,\n",
    "            attention_dir=\"causal\",\n",
    "            d_vocab_out=env.action_space.n, #\n",
    "        )\n",
    "\n",
    "        assert cfg.attention_dir == \"causal\", \"Attention direction must be causal\"\n",
    "        assert cfg.normalization_type is None, \"Normalization type must be None\"\n",
    "\n",
    "\n",
    "        self.transformer = EasyTransformer(cfg)\n",
    "        self.transformer.embed = nn.Identity()\n",
    "        self.transformer.pos_embed.W_pos.data[:] = 0.0\n",
    "        self.transformer.pos_embed.W_pos.requires_grad = False\n",
    "\n",
    "\n",
    "        \n",
    "    # def forward(self, R: t.tensor, s: t.tensor, a: t.tensor, t: t.tensor):\n",
    "    #     '''\n",
    "    #     R: return\n",
    "    #     s: state\n",
    "    #     a: action\n",
    "    #     t: timestep\n",
    "    #     '''\n",
    "    #     s = s.to(torch.float32)\n",
    "    #     s = rearrange(s, 'b h w c-> b c h w')\n",
    "\n",
    "    #     pos_emb = self.pos_embedding(t)\n",
    "    #     state_emb = self.state_embedding(s) + pos_emb\n",
    "    #     action_emb = self.action_embeddings(a) + pos_emb\n",
    "    #     ret_emb = self.ret_emb(R) + pos_emb\n",
    "\n",
    "    #     input_embeds = torch.stack([state_emb, action_emb, ret_emb], dim=1)\n",
    "    #     print(input_embeds.shape)\n",
    "    #     print(input_embeds.dtype)\n",
    "    #     input_embeds = rearrange(input_embeds, 'batch sar block_size d_model -> batch sar block_size d_model')\n",
    "        \n",
    "    #     x = self.transformer(input_embeds)\n",
    "        \n",
    "    #     return x\n",
    "\n",
    "    # state, action, and return\n",
    "    def forward(self, states, actions, targets=None, rtgs=None, timesteps=None):\n",
    "        # states: (batch, block_size, 56, 56, 3)\n",
    "        # actions: (batch, block_size, 1)\n",
    "        # targets: (batch, block_size, 1)\n",
    "        # rtgs: (batch, block_size, 1)\n",
    "        # timesteps: (batch, 1, 1) # this seems wrong because the time should be different for each element in the each block (incrememnting by 1)\n",
    "\n",
    "        # asset all batch sizes are the same\n",
    "        if actions is not None:\n",
    "            assert states.shape[0] == actions.shape[0] == rtgs.shape[0] == timesteps.shape[0], \"batch sizes must be the same\"\n",
    "        if targets is not None:\n",
    "            assert states.shape[0] == targets.shape[0]\n",
    "\n",
    "        \n",
    "        # assert all block sizes are the same\n",
    "        if actions is not None:\n",
    "            assert states.shape[1] == actions.shape[1] == rtgs.shape[1], \"block sizes must be the same\"\n",
    "        if targets is not None:\n",
    "            assert states.shape[1] == targets.shape[1]\n",
    "\n",
    "        batches = states.shape[0]\n",
    "        block_size = states.shape[1]\n",
    "        assert batches == 3 \n",
    "        assert block_size == 10\n",
    "\n",
    "        # embed states and recast back to (batch, block_size, n_embd)\n",
    "        states = rearrange(states, 'batch block height width channel -> (batch block) channel height width')\n",
    "        state_embeddings = self.state_encoder(states.type(torch.float32).contiguous()) # (batch * block_size, n_embd)\n",
    "        state_embeddings = rearrange(state_embeddings, '(batch block) n_embd -> batch block n_embd', block=block_size)\n",
    "        \n",
    "        # generate time embeddings\n",
    "        all_global_pos_emb = torch.repeat_interleave(self.global_pos_emb, batches, dim=0) # batch_size, trajectory_length, n_embd\n",
    "        specific_global_pos_emb = torch.gather(all_global_pos_emb, 1, torch.repeat_interleave(timesteps, self.d_model, dim=-1)) # batch_size, block_size, n_embd\n",
    "\n",
    "        # reward conditioned in for evaluation\n",
    "        if actions is not None and self.model_type == 'reward_conditioned': \n",
    "            rtg_embeddings = self.ret_emb(rtgs.type(torch.float32))\n",
    "            action_embeddings = self.action_embeddings(actions.type(torch.long).squeeze(-1)) # (batch, block_size, n_embd)\n",
    "\n",
    "            trajectory_length = block_size*3 - int(targets is None)\n",
    "\n",
    "            token_embeddings = torch.zeros((batches, trajectory_length, self.d_model), dtype=torch.float32, device=state_embeddings.device)\n",
    "            token_embeddings[:,::3,:] = rtg_embeddings\n",
    "            token_embeddings[:,1::3,:] = state_embeddings\n",
    "            token_embeddings[:,2::3,:] = action_embeddings[:,-block_size + int(targets is None):,:]\n",
    "        # eval at the first time step\n",
    "        elif actions is None and self.model_type == 'reward_conditioned': # only happens at very first timestep of evaluation\n",
    "            rtg_embeddings = self.ret_emb(rtgs.type(torch.float32))\n",
    "\n",
    "            trajectory_length = block_size*2 \n",
    "            token_embeddings = torch.zeros((batches, trajectory_length, self.d_model), dtype=torch.float32, device=state_embeddings.device)\n",
    "\n",
    "            # really just [:,0,:]\n",
    "            token_embeddings[:,::2,:] = rtg_embeddings - int(targets is None)\n",
    "            # really just [:,1,:]\n",
    "            token_embeddings[:,1::2,:] = state_embeddings  #+ specific_global_pos_emb[:, -block_size:, :]\n",
    "\n",
    "        elif actions is not None and self.model_type == 'naive':\n",
    "            action_embeddings = self.action_embeddings(actions.type(torch.long).squeeze(-1)) # (batch, block_size, n_embd)\n",
    "\n",
    "            trajectory_length = block_size*2 - int(targets is None)\n",
    "            token_embeddings = torch.zeros((batches, trajectory_length, self.d_model), dtype=torch.float32, device=state_embeddings.device)\n",
    "\n",
    "\n",
    "            # it might make more sense to add the position embedding for time in here.\n",
    "            token_embeddings[:,::2,:] = state_embeddings + specific_global_pos_emb # this line breaks if batch_size = 1!\n",
    "            token_embeddings[:,1::2,:] = action_embeddings[:,-block_size + int(targets is None):,:] + specific_global_pos_emb[:, -block_size + int(targets is None):, :]\n",
    "        elif actions is None and self.model_type == 'naive': # only happens at very first timestep of evaluation\n",
    "            token_embeddings = state_embeddings + specific_global_pos_emb\n",
    "        else:\n",
    "            raise NotImplementedError()\n",
    "\n",
    "        # position embeddings for transformer logic\n",
    "        # position_embeddings = self.pos_emb[:, :trajectory_length, :]\n",
    "\n",
    "        # no dropout \n",
    "\n",
    "        # x has shape \n",
    "\n",
    "        # let's just let easy transfomer add the position embeddings\n",
    "        x = token_embeddings[:,-block_size:,:] # truncate to block size which should be less that trajectory_length (which varies depending on model type) \n",
    "        \n",
    "        #+ position_embeddings # batch, trajectory_size, n_embd\n",
    "\n",
    "\n",
    "        logits = self.transformer(x)\n",
    "\n",
    "        print(\"logits shape is: \", logits.shape)\n",
    "\n",
    "        if actions is not None and self.model_type == 'reward_conditioned':\n",
    "            logits = logits[:, 1::3, :] # only keep predictions from state_embeddings (predictions over actions)\n",
    "        elif actions is None and self.model_type == 'reward_conditioned':\n",
    "            logits = logits[:, 1:, :]\n",
    "        elif actions is not None and self.model_type == 'naive':\n",
    "            logits = logits[:, ::2, :] # only keep predictions from state_embeddings (predictions over actions)\n",
    "        elif actions is None and self.model_type == 'naive':\n",
    "            logits = logits # for completeness\n",
    "        else:\n",
    "            raise NotImplementedError()\n",
    "\n",
    "        # if we are given some desired targets also calculate the loss\n",
    "        loss = None\n",
    "        if targets is not None:\n",
    "            loss = F.cross_entropy(logits.reshape(-1, logits.size(-1)), targets.reshape(-1))\n",
    "\n",
    "        return logits, loss\n",
    "\n",
    "\n",
    "decision_transformer = DecisionTransformer(env)\n",
    "print(all_obs.unsqueeze(0).shape)\n",
    "logits, _ = decision_transformer(\n",
    "    states = all_obs.repeat(3,1, 1, 1, 1), \n",
    "    actions = all_actions.repeat(3,1, 1),\n",
    "    rtgs = all_returns_to_go.repeat(3,1, 1),\n",
    "    timesteps = all_timesteps.repeat(3,1, 1)\n",
    ")\n",
    "print(all_obs.repeat(3,1, 1, 1, 1).shape)\n",
    "print(logits.shape)\n",
    "print(logits[0].softmax(-1).argmax(-1))\n",
    "\n",
    "print(\"------------------\")\n",
    "\n",
    "decision_transformer = DecisionTransformer(env)\n",
    "print(all_obs.unsqueeze(0).shape)\n",
    "logits, _ = decision_transformer(\n",
    "    states = all_obs.repeat(3,1, 1, 1, 1), \n",
    "    actions = None,#all_actions.repeat(3,1, 1),\n",
    "    rtgs = all_returns_to_go.repeat(3,1, 1),\n",
    "    timesteps = all_timesteps.repeat(3,1, 1)\n",
    ")\n",
    "print(all_obs.repeat(3,1, 1, 1, 1).shape)\n",
    "print(logits.shape)\n",
    "print(logits[0].softmax(-1).argmax(-1))\n",
    "\n",
    "print(\"------------------\")\n",
    "\n",
    "decision_transformer = DecisionTransformer(env, model_type='reward_conditioned')\n",
    "print(all_obs.unsqueeze(0).shape)\n",
    "logits, _ = decision_transformer(\n",
    "    states = all_obs.repeat(3,1, 1, 1, 1), \n",
    "    actions = all_actions.repeat(3,1, 1),\n",
    "    rtgs = all_returns_to_go.repeat(3,1, 1),\n",
    "    timesteps = all_timesteps.repeat(3,1, 1)\n",
    ")\n",
    "print(all_obs.repeat(3,1, 1, 1, 1).shape)\n",
    "print(logits.shape)\n",
    "print(logits[0].softmax(-1).argmax(-1))"
   ]
  },
  {
   "attachments": {},
   "cell_type": "markdown",
   "metadata": {},
   "source": [
    "Notes:\n",
    "- This turned out to be really complicated. \n",
    "- Specifically:\n",
    "    - it seems like the model has very different formulations during reward_conditioned vs naive. And also changes size if targets are used.\n",
    "    - This includes things like the token embeddings for actions not going through in naive mode, but going through in reward_conditioned mode.\n",
    "        - This is fine because a model is only ever of one type\n",
    "    - However, the model isn't using padding of any kind? I should look for evidence of this. "
   ]
  },
  {
   "cell_type": "markdown",
   "metadata": {},
   "source": []
  },
  {
   "cell_type": "markdown",
   "metadata": {},
   "source": []
  },
  {
   "cell_type": "code",
   "execution_count": 233,
   "metadata": {},
   "outputs": [
    {
     "data": {
      "text/plain": [
       "torch.Size([10, 1, 1])"
      ]
     },
     "execution_count": 233,
     "metadata": {},
     "output_type": "execute_result"
    }
   ],
   "source": [
    "all_timesteps.unsqueeze(1).shape"
   ]
  },
  {
   "cell_type": "code",
   "execution_count": null,
   "metadata": {},
   "outputs": [],
   "source": []
  },
  {
   "cell_type": "code",
   "execution_count": 228,
   "metadata": {},
   "outputs": [
    {
     "data": {
      "text/plain": [
       "torch.Size([3, 10, 1])"
      ]
     },
     "execution_count": 228,
     "metadata": {},
     "output_type": "execute_result"
    }
   ],
   "source": [
    "all_timesteps.repeat(3,1, 1).shape"
   ]
  },
  {
   "cell_type": "code",
   "execution_count": 203,
   "metadata": {},
   "outputs": [
    {
     "name": "stdout",
     "output_type": "stream",
     "text": [
      "torch.Size([3, 10, 1])\n",
      "torch.Size([3, 10, 1])\n",
      "torch.Size([3, 10, 1])\n",
      "torch.Size([3, 10, 56, 56, 3])\n"
     ]
    }
   ],
   "source": [
    "print(all_actions.repeat(3,1, 1).shape)\n",
    "print(all_returns_to_go.repeat(3,1, 1).shape)\n",
    "print(all_timesteps.repeat(3,1, 1).shape)\n",
    "print(all_obs.repeat(3,1, 1, 1, 1).shape)"
   ]
  },
  {
   "cell_type": "code",
   "execution_count": 117,
   "metadata": {},
   "outputs": [],
   "source": [
    "\n",
    "cfg = EasyTransformerConfig(\n",
    "    n_layers=2,\n",
    "    d_model=64,\n",
    "    d_head=32,\n",
    "    n_heads=2,\n",
    "    d_mlp=128,\n",
    "    d_vocab= 64,\n",
    "    n_ctx= 30,\n",
    "    act_fn=\"relu\",\n",
    "    normalization_type=None,\n",
    "    attention_dir=\"causal\",\n",
    "    positional_embedding_type=\"learned\",\n",
    "    d_vocab_out=env.action_space.n, #\n",
    ")\n",
    "\n",
    "\n",
    "transformer = EasyTransformer(cfg)"
   ]
  },
  {
   "cell_type": "code",
   "execution_count": 119,
   "metadata": {},
   "outputs": [
    {
     "data": {
      "text/plain": [
       "Embed()"
      ]
     },
     "execution_count": 119,
     "metadata": {},
     "output_type": "execute_result"
    }
   ],
   "source": [
    "transformer.embed"
   ]
  },
  {
   "cell_type": "code",
   "execution_count": 136,
   "metadata": {},
   "outputs": [
    {
     "data": {
      "text/plain": [
       "tensor([[[1, 2]],\n",
       "\n",
       "        [[4, 5]],\n",
       "\n",
       "        [[7, 8]]])"
      ]
     },
     "execution_count": 136,
     "metadata": {},
     "output_type": "execute_result"
    }
   ],
   "source": [
    "rearrange(t.tensor([[1,2],[4,5],[7,8]]), 'b (n d) -> b n d', n=1, d=2)"
   ]
  },
  {
   "cell_type": "code",
   "execution_count": null,
   "metadata": {},
   "outputs": [],
   "source": [
    "\n",
    "# reference code:\n",
    "\n",
    "# all_global_pos_emb = torch.repeat_interleave(self.global_pos_emb, batch_size, dim=0) # batch_size, traj_length, n_embd\n",
    "# position_embeddings = torch.gather(all_global_pos_emb, 1, torch.repeat_interleave(timesteps, self.config.n_embd, dim=-1)) + self.pos_emb[:, :token_embeddings.shape[1], :]\n",
    "# x = self.drop(token_embeddings + position_embeddings)"
   ]
  }
 ],
 "metadata": {
  "kernelspec": {
   "display_name": "decision_transformer_interpretability",
   "language": "python",
   "name": "python3"
  },
  "language_info": {
   "codemirror_mode": {
    "name": "ipython",
    "version": 3
   },
   "file_extension": ".py",
   "mimetype": "text/x-python",
   "name": "python",
   "nbconvert_exporter": "python",
   "pygments_lexer": "ipython3",
   "version": "3.9.15"
  },
  "orig_nbformat": 4,
  "vscode": {
   "interpreter": {
    "hash": "0be95f1efa079bcf597630754731f3dc2b2137553763cb34bfd5652600bd2735"
   }
  }
 },
 "nbformat": 4,
 "nbformat_minor": 2
}
