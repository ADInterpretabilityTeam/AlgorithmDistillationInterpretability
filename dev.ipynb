{
 "cells": [
  {
   "attachments": {},
   "cell_type": "markdown",
   "metadata": {},
   "source": [
    "# MiniGrid Environment"
   ]
  },
  {
   "attachments": {},
   "cell_type": "markdown",
   "metadata": {},
   "source": [
    "Try out the environment by running the following command:\n",
    "\n",
    "\n",
    "```bash\n",
    "python -m minigrid.manual_control\n",
    "```\n",
    "\n",
    "Later we can benchmark against torch-rl \n"
   ]
  },
  {
   "cell_type": "code",
   "execution_count": 23,
   "metadata": {},
   "outputs": [
    {
     "data": {
      "text/plain": [
       "Box(0, 255, (7, 7, 3), uint8)"
      ]
     },
     "execution_count": 23,
     "metadata": {},
     "output_type": "execute_result"
    }
   ],
   "source": [
    "env.observation_space"
   ]
  },
  {
   "cell_type": "code",
   "execution_count": 22,
   "metadata": {},
   "outputs": [
    {
     "data": {
      "text/plain": [
       "array([[[2, 5, 0],\n",
       "        [2, 5, 0],\n",
       "        [2, 5, 0],\n",
       "        [2, 5, 0],\n",
       "        [2, 5, 0],\n",
       "        [2, 5, 0],\n",
       "        [2, 5, 0]],\n",
       "\n",
       "       [[2, 5, 0],\n",
       "        [2, 5, 0],\n",
       "        [2, 5, 0],\n",
       "        [2, 5, 0],\n",
       "        [2, 5, 0],\n",
       "        [2, 5, 0],\n",
       "        [2, 5, 0]],\n",
       "\n",
       "       [[2, 5, 0],\n",
       "        [2, 5, 0],\n",
       "        [2, 5, 0],\n",
       "        [2, 5, 0],\n",
       "        [2, 5, 0],\n",
       "        [2, 5, 0],\n",
       "        [2, 5, 0]],\n",
       "\n",
       "       [[2, 5, 0],\n",
       "        [1, 0, 0],\n",
       "        [1, 0, 0],\n",
       "        [1, 0, 0],\n",
       "        [1, 0, 0],\n",
       "        [1, 0, 0],\n",
       "        [1, 0, 0]],\n",
       "\n",
       "       [[2, 5, 0],\n",
       "        [1, 0, 0],\n",
       "        [1, 0, 0],\n",
       "        [1, 0, 0],\n",
       "        [1, 0, 0],\n",
       "        [1, 0, 0],\n",
       "        [1, 0, 0]],\n",
       "\n",
       "       [[2, 5, 0],\n",
       "        [1, 0, 0],\n",
       "        [1, 0, 0],\n",
       "        [1, 0, 0],\n",
       "        [1, 0, 0],\n",
       "        [1, 0, 0],\n",
       "        [1, 0, 0]],\n",
       "\n",
       "       [[2, 5, 0],\n",
       "        [1, 0, 0],\n",
       "        [1, 0, 0],\n",
       "        [1, 0, 0],\n",
       "        [1, 0, 0],\n",
       "        [1, 0, 0],\n",
       "        [1, 0, 0]]], dtype=uint8)"
      ]
     },
     "execution_count": 22,
     "metadata": {},
     "output_type": "execute_result"
    }
   ],
   "source": [
    "import gymnasium as gym\n",
    "from minigrid.wrappers import RGBImgPartialObsWrapper, ImgObsWrapper\n",
    "\n",
    "env = gym.make('MiniGrid-Empty-8x8-v0')\n",
    "# env = RGBImgPartialObsWrapper(env) # Get pixel observations\n",
    "env = ImgObsWrapper(env) # Get rid of the 'mission' field\n",
    "obs, _ = env.reset() # This now produces an RGB tensor only\n",
    "obs"
   ]
  },
  {
   "cell_type": "code",
   "execution_count": 12,
   "metadata": {},
   "outputs": [
    {
     "name": "stderr",
     "output_type": "stream",
     "text": [
      "/Users/josephbloom/miniforge3/envs/decision_transformer_interpretability/lib/python3.9/site-packages/plotly/io/_renderers.py:395: DeprecationWarning:\n",
      "\n",
      "distutils Version classes are deprecated. Use packaging.version instead.\n",
      "\n",
      "/Users/josephbloom/miniforge3/envs/decision_transformer_interpretability/lib/python3.9/site-packages/plotly/io/_renderers.py:395: DeprecationWarning:\n",
      "\n",
      "distutils Version classes are deprecated. Use packaging.version instead.\n",
      "\n"
     ]
    },
    {
     "data": {
      "application/vnd.plotly.v1+json": {
       "config": {
        "plotlyServerURL": "https://plot.ly"
       },
       "data": [
        {
         "hovertemplate": "x: %{x}<br>y: %{y}<br>color: [%{z[0]}, %{z[1]}, %{z[2]}]<extra></extra>",
         "name": "0",
         "source": "data:image/png;base64,iVBORw0KGgoAAAANSUhEUgAAAAcAAAAHCAIAAABLMMCEAAAAIklEQVR4XmNkYmXABEzoAgwMDLhEWRgYGP7/RhfFrpYUUQCutwIR7o3yPwAAAABJRU5ErkJggg==",
         "type": "image",
         "xaxis": "x",
         "yaxis": "y"
        }
       ],
       "layout": {
        "margin": {
         "t": 60
        },
        "template": {
         "data": {
          "bar": [
           {
            "error_x": {
             "color": "#2a3f5f"
            },
            "error_y": {
             "color": "#2a3f5f"
            },
            "marker": {
             "line": {
              "color": "#E5ECF6",
              "width": 0.5
             },
             "pattern": {
              "fillmode": "overlay",
              "size": 10,
              "solidity": 0.2
             }
            },
            "type": "bar"
           }
          ],
          "barpolar": [
           {
            "marker": {
             "line": {
              "color": "#E5ECF6",
              "width": 0.5
             },
             "pattern": {
              "fillmode": "overlay",
              "size": 10,
              "solidity": 0.2
             }
            },
            "type": "barpolar"
           }
          ],
          "carpet": [
           {
            "aaxis": {
             "endlinecolor": "#2a3f5f",
             "gridcolor": "white",
             "linecolor": "white",
             "minorgridcolor": "white",
             "startlinecolor": "#2a3f5f"
            },
            "baxis": {
             "endlinecolor": "#2a3f5f",
             "gridcolor": "white",
             "linecolor": "white",
             "minorgridcolor": "white",
             "startlinecolor": "#2a3f5f"
            },
            "type": "carpet"
           }
          ],
          "choropleth": [
           {
            "colorbar": {
             "outlinewidth": 0,
             "ticks": ""
            },
            "type": "choropleth"
           }
          ],
          "contour": [
           {
            "colorbar": {
             "outlinewidth": 0,
             "ticks": ""
            },
            "colorscale": [
             [
              0,
              "#0d0887"
             ],
             [
              0.1111111111111111,
              "#46039f"
             ],
             [
              0.2222222222222222,
              "#7201a8"
             ],
             [
              0.3333333333333333,
              "#9c179e"
             ],
             [
              0.4444444444444444,
              "#bd3786"
             ],
             [
              0.5555555555555556,
              "#d8576b"
             ],
             [
              0.6666666666666666,
              "#ed7953"
             ],
             [
              0.7777777777777778,
              "#fb9f3a"
             ],
             [
              0.8888888888888888,
              "#fdca26"
             ],
             [
              1,
              "#f0f921"
             ]
            ],
            "type": "contour"
           }
          ],
          "contourcarpet": [
           {
            "colorbar": {
             "outlinewidth": 0,
             "ticks": ""
            },
            "type": "contourcarpet"
           }
          ],
          "heatmap": [
           {
            "colorbar": {
             "outlinewidth": 0,
             "ticks": ""
            },
            "colorscale": [
             [
              0,
              "#0d0887"
             ],
             [
              0.1111111111111111,
              "#46039f"
             ],
             [
              0.2222222222222222,
              "#7201a8"
             ],
             [
              0.3333333333333333,
              "#9c179e"
             ],
             [
              0.4444444444444444,
              "#bd3786"
             ],
             [
              0.5555555555555556,
              "#d8576b"
             ],
             [
              0.6666666666666666,
              "#ed7953"
             ],
             [
              0.7777777777777778,
              "#fb9f3a"
             ],
             [
              0.8888888888888888,
              "#fdca26"
             ],
             [
              1,
              "#f0f921"
             ]
            ],
            "type": "heatmap"
           }
          ],
          "heatmapgl": [
           {
            "colorbar": {
             "outlinewidth": 0,
             "ticks": ""
            },
            "colorscale": [
             [
              0,
              "#0d0887"
             ],
             [
              0.1111111111111111,
              "#46039f"
             ],
             [
              0.2222222222222222,
              "#7201a8"
             ],
             [
              0.3333333333333333,
              "#9c179e"
             ],
             [
              0.4444444444444444,
              "#bd3786"
             ],
             [
              0.5555555555555556,
              "#d8576b"
             ],
             [
              0.6666666666666666,
              "#ed7953"
             ],
             [
              0.7777777777777778,
              "#fb9f3a"
             ],
             [
              0.8888888888888888,
              "#fdca26"
             ],
             [
              1,
              "#f0f921"
             ]
            ],
            "type": "heatmapgl"
           }
          ],
          "histogram": [
           {
            "marker": {
             "pattern": {
              "fillmode": "overlay",
              "size": 10,
              "solidity": 0.2
             }
            },
            "type": "histogram"
           }
          ],
          "histogram2d": [
           {
            "colorbar": {
             "outlinewidth": 0,
             "ticks": ""
            },
            "colorscale": [
             [
              0,
              "#0d0887"
             ],
             [
              0.1111111111111111,
              "#46039f"
             ],
             [
              0.2222222222222222,
              "#7201a8"
             ],
             [
              0.3333333333333333,
              "#9c179e"
             ],
             [
              0.4444444444444444,
              "#bd3786"
             ],
             [
              0.5555555555555556,
              "#d8576b"
             ],
             [
              0.6666666666666666,
              "#ed7953"
             ],
             [
              0.7777777777777778,
              "#fb9f3a"
             ],
             [
              0.8888888888888888,
              "#fdca26"
             ],
             [
              1,
              "#f0f921"
             ]
            ],
            "type": "histogram2d"
           }
          ],
          "histogram2dcontour": [
           {
            "colorbar": {
             "outlinewidth": 0,
             "ticks": ""
            },
            "colorscale": [
             [
              0,
              "#0d0887"
             ],
             [
              0.1111111111111111,
              "#46039f"
             ],
             [
              0.2222222222222222,
              "#7201a8"
             ],
             [
              0.3333333333333333,
              "#9c179e"
             ],
             [
              0.4444444444444444,
              "#bd3786"
             ],
             [
              0.5555555555555556,
              "#d8576b"
             ],
             [
              0.6666666666666666,
              "#ed7953"
             ],
             [
              0.7777777777777778,
              "#fb9f3a"
             ],
             [
              0.8888888888888888,
              "#fdca26"
             ],
             [
              1,
              "#f0f921"
             ]
            ],
            "type": "histogram2dcontour"
           }
          ],
          "mesh3d": [
           {
            "colorbar": {
             "outlinewidth": 0,
             "ticks": ""
            },
            "type": "mesh3d"
           }
          ],
          "parcoords": [
           {
            "line": {
             "colorbar": {
              "outlinewidth": 0,
              "ticks": ""
             }
            },
            "type": "parcoords"
           }
          ],
          "pie": [
           {
            "automargin": true,
            "type": "pie"
           }
          ],
          "scatter": [
           {
            "fillpattern": {
             "fillmode": "overlay",
             "size": 10,
             "solidity": 0.2
            },
            "type": "scatter"
           }
          ],
          "scatter3d": [
           {
            "line": {
             "colorbar": {
              "outlinewidth": 0,
              "ticks": ""
             }
            },
            "marker": {
             "colorbar": {
              "outlinewidth": 0,
              "ticks": ""
             }
            },
            "type": "scatter3d"
           }
          ],
          "scattercarpet": [
           {
            "marker": {
             "colorbar": {
              "outlinewidth": 0,
              "ticks": ""
             }
            },
            "type": "scattercarpet"
           }
          ],
          "scattergeo": [
           {
            "marker": {
             "colorbar": {
              "outlinewidth": 0,
              "ticks": ""
             }
            },
            "type": "scattergeo"
           }
          ],
          "scattergl": [
           {
            "marker": {
             "colorbar": {
              "outlinewidth": 0,
              "ticks": ""
             }
            },
            "type": "scattergl"
           }
          ],
          "scattermapbox": [
           {
            "marker": {
             "colorbar": {
              "outlinewidth": 0,
              "ticks": ""
             }
            },
            "type": "scattermapbox"
           }
          ],
          "scatterpolar": [
           {
            "marker": {
             "colorbar": {
              "outlinewidth": 0,
              "ticks": ""
             }
            },
            "type": "scatterpolar"
           }
          ],
          "scatterpolargl": [
           {
            "marker": {
             "colorbar": {
              "outlinewidth": 0,
              "ticks": ""
             }
            },
            "type": "scatterpolargl"
           }
          ],
          "scatterternary": [
           {
            "marker": {
             "colorbar": {
              "outlinewidth": 0,
              "ticks": ""
             }
            },
            "type": "scatterternary"
           }
          ],
          "surface": [
           {
            "colorbar": {
             "outlinewidth": 0,
             "ticks": ""
            },
            "colorscale": [
             [
              0,
              "#0d0887"
             ],
             [
              0.1111111111111111,
              "#46039f"
             ],
             [
              0.2222222222222222,
              "#7201a8"
             ],
             [
              0.3333333333333333,
              "#9c179e"
             ],
             [
              0.4444444444444444,
              "#bd3786"
             ],
             [
              0.5555555555555556,
              "#d8576b"
             ],
             [
              0.6666666666666666,
              "#ed7953"
             ],
             [
              0.7777777777777778,
              "#fb9f3a"
             ],
             [
              0.8888888888888888,
              "#fdca26"
             ],
             [
              1,
              "#f0f921"
             ]
            ],
            "type": "surface"
           }
          ],
          "table": [
           {
            "cells": {
             "fill": {
              "color": "#EBF0F8"
             },
             "line": {
              "color": "white"
             }
            },
            "header": {
             "fill": {
              "color": "#C8D4E3"
             },
             "line": {
              "color": "white"
             }
            },
            "type": "table"
           }
          ]
         },
         "layout": {
          "annotationdefaults": {
           "arrowcolor": "#2a3f5f",
           "arrowhead": 0,
           "arrowwidth": 1
          },
          "autotypenumbers": "strict",
          "coloraxis": {
           "colorbar": {
            "outlinewidth": 0,
            "ticks": ""
           }
          },
          "colorscale": {
           "diverging": [
            [
             0,
             "#8e0152"
            ],
            [
             0.1,
             "#c51b7d"
            ],
            [
             0.2,
             "#de77ae"
            ],
            [
             0.3,
             "#f1b6da"
            ],
            [
             0.4,
             "#fde0ef"
            ],
            [
             0.5,
             "#f7f7f7"
            ],
            [
             0.6,
             "#e6f5d0"
            ],
            [
             0.7,
             "#b8e186"
            ],
            [
             0.8,
             "#7fbc41"
            ],
            [
             0.9,
             "#4d9221"
            ],
            [
             1,
             "#276419"
            ]
           ],
           "sequential": [
            [
             0,
             "#0d0887"
            ],
            [
             0.1111111111111111,
             "#46039f"
            ],
            [
             0.2222222222222222,
             "#7201a8"
            ],
            [
             0.3333333333333333,
             "#9c179e"
            ],
            [
             0.4444444444444444,
             "#bd3786"
            ],
            [
             0.5555555555555556,
             "#d8576b"
            ],
            [
             0.6666666666666666,
             "#ed7953"
            ],
            [
             0.7777777777777778,
             "#fb9f3a"
            ],
            [
             0.8888888888888888,
             "#fdca26"
            ],
            [
             1,
             "#f0f921"
            ]
           ],
           "sequentialminus": [
            [
             0,
             "#0d0887"
            ],
            [
             0.1111111111111111,
             "#46039f"
            ],
            [
             0.2222222222222222,
             "#7201a8"
            ],
            [
             0.3333333333333333,
             "#9c179e"
            ],
            [
             0.4444444444444444,
             "#bd3786"
            ],
            [
             0.5555555555555556,
             "#d8576b"
            ],
            [
             0.6666666666666666,
             "#ed7953"
            ],
            [
             0.7777777777777778,
             "#fb9f3a"
            ],
            [
             0.8888888888888888,
             "#fdca26"
            ],
            [
             1,
             "#f0f921"
            ]
           ]
          },
          "colorway": [
           "#636efa",
           "#EF553B",
           "#00cc96",
           "#ab63fa",
           "#FFA15A",
           "#19d3f3",
           "#FF6692",
           "#B6E880",
           "#FF97FF",
           "#FECB52"
          ],
          "font": {
           "color": "#2a3f5f"
          },
          "geo": {
           "bgcolor": "white",
           "lakecolor": "white",
           "landcolor": "#E5ECF6",
           "showlakes": true,
           "showland": true,
           "subunitcolor": "white"
          },
          "hoverlabel": {
           "align": "left"
          },
          "hovermode": "closest",
          "mapbox": {
           "style": "light"
          },
          "paper_bgcolor": "white",
          "plot_bgcolor": "#E5ECF6",
          "polar": {
           "angularaxis": {
            "gridcolor": "white",
            "linecolor": "white",
            "ticks": ""
           },
           "bgcolor": "#E5ECF6",
           "radialaxis": {
            "gridcolor": "white",
            "linecolor": "white",
            "ticks": ""
           }
          },
          "scene": {
           "xaxis": {
            "backgroundcolor": "#E5ECF6",
            "gridcolor": "white",
            "gridwidth": 2,
            "linecolor": "white",
            "showbackground": true,
            "ticks": "",
            "zerolinecolor": "white"
           },
           "yaxis": {
            "backgroundcolor": "#E5ECF6",
            "gridcolor": "white",
            "gridwidth": 2,
            "linecolor": "white",
            "showbackground": true,
            "ticks": "",
            "zerolinecolor": "white"
           },
           "zaxis": {
            "backgroundcolor": "#E5ECF6",
            "gridcolor": "white",
            "gridwidth": 2,
            "linecolor": "white",
            "showbackground": true,
            "ticks": "",
            "zerolinecolor": "white"
           }
          },
          "shapedefaults": {
           "line": {
            "color": "#2a3f5f"
           }
          },
          "ternary": {
           "aaxis": {
            "gridcolor": "white",
            "linecolor": "white",
            "ticks": ""
           },
           "baxis": {
            "gridcolor": "white",
            "linecolor": "white",
            "ticks": ""
           },
           "bgcolor": "#E5ECF6",
           "caxis": {
            "gridcolor": "white",
            "linecolor": "white",
            "ticks": ""
           }
          },
          "title": {
           "x": 0.05
          },
          "xaxis": {
           "automargin": true,
           "gridcolor": "white",
           "linecolor": "white",
           "ticks": "",
           "title": {
            "standoff": 15
           },
           "zerolinecolor": "white",
           "zerolinewidth": 2
          },
          "yaxis": {
           "automargin": true,
           "gridcolor": "white",
           "linecolor": "white",
           "ticks": "",
           "title": {
            "standoff": 15
           },
           "zerolinecolor": "white",
           "zerolinewidth": 2
          }
         }
        },
        "xaxis": {
         "anchor": "y",
         "domain": [
          0,
          1
         ]
        },
        "yaxis": {
         "anchor": "x",
         "domain": [
          0,
          1
         ]
        }
       }
      }
     },
     "metadata": {},
     "output_type": "display_data"
    }
   ],
   "source": [
    "import torch as t \n",
    "import plotly.express as px\n",
    "obs = t.tensor(obs)\n",
    "obs.shape\n",
    "px.imshow(obs)"
   ]
  },
  {
   "cell_type": "code",
   "execution_count": 13,
   "metadata": {},
   "outputs": [
    {
     "name": "stderr",
     "output_type": "stream",
     "text": [
      "/var/folders/qd/04zj2h4n2pvc87x_7w1z97_r0000gn/T/ipykernel_93543/941578228.py:22: UserWarning:\n",
      "\n",
      "Creating a tensor from a list of numpy.ndarrays is extremely slow. Please consider converting the list to a single numpy.ndarray with numpy.array() before converting to a tensor. (Triggered internally at /Users/runner/work/pytorch/pytorch/pytorch/torch/csrc/utils/tensor_new.cpp:233.)\n",
      "\n"
     ]
    }
   ],
   "source": [
    "env = gym.make('MiniGrid-Empty-8x8-v0')\n",
    "env = RGBImgPartialObsWrapper(env) # Get pixel observations\n",
    "env = ImgObsWrapper(env) # Get rid of the 'mission' field\n",
    "obs, _ = env.reset() # This now produces an RGB tensor only\n",
    "\n",
    "# take several actions, store the observations, actions, returns and timesteps\n",
    "all_obs = []\n",
    "all_actions = []\n",
    "all_returns = []\n",
    "all_timesteps = []\n",
    "\n",
    "\n",
    "for i in range(10):\n",
    "    action = env.action_space.sample()\n",
    "    obs, reward, terminated, truncated, info = env.step(action)\n",
    "    all_obs.append(obs)\n",
    "    all_actions.append(action)\n",
    "    all_returns.append(reward)\n",
    "    all_timesteps.append(i)\n",
    "\n",
    "# convert to tensors.unsqueeze(0)\n",
    "all_obs = t.tensor(all_obs)\n",
    "all_actions = t.tensor(all_actions).reshape(-1, 1)\n",
    "all_returns = t.tensor(all_returns)\n",
    "all_returns = t.randn((10, 1))\n",
    "all_returns_to_go = all_returns.flip(0).cumsum(0).flip(0).reshape(-1, 1)\n",
    "all_timesteps = t.tensor(all_timesteps).reshape(-1, 1)"
   ]
  },
  {
   "cell_type": "code",
   "execution_count": 124,
   "metadata": {},
   "outputs": [
    {
     "name": "stdout",
     "output_type": "stream",
     "text": [
      "torch.Size([10, 1])\n"
     ]
    }
   ],
   "source": [
    "print(all_returns.shape)"
   ]
  },
  {
   "cell_type": "code",
   "execution_count": 125,
   "metadata": {},
   "outputs": [
    {
     "name": "stdout",
     "output_type": "stream",
     "text": [
      "torch.Size([10, 1])\n"
     ]
    }
   ],
   "source": [
    "print(all_returns_to_go.shape)"
   ]
  },
  {
   "attachments": {},
   "cell_type": "markdown",
   "metadata": {},
   "source": [
    "# Getting a basic architecture\n"
   ]
  },
  {
   "cell_type": "code",
   "execution_count": 126,
   "metadata": {},
   "outputs": [
    {
     "data": {
      "text/plain": [
       "tensor([[ 0.0000,  0.0000,  4.6144,  1.2588,  0.1821,  0.0000,  0.0000,  0.0000,\n",
       "          0.0000, 10.2853,  5.1550,  0.0000,  0.0000,  0.0000,  0.0777,  0.8252,\n",
       "          1.6667,  3.1823,  1.6241,  0.0000,  2.2314,  1.1757,  1.5849,  0.0000,\n",
       "          0.0000,  0.0000,  0.0000,  0.0000,  0.0000,  0.0000,  0.0000,  8.0670,\n",
       "          2.2828,  0.0000,  0.0000,  4.6453,  0.0000,  7.2832,  0.0000,  1.5017,\n",
       "          0.0000,  1.6794,  0.0000,  0.0000,  0.0000,  0.0000,  6.0537,  0.0000,\n",
       "          9.3869,  3.8999,  0.0000,  1.0585,  0.0000,  0.0000,  0.0000,  4.4552,\n",
       "          0.0000,  0.0000,  3.5174,  0.0000,  0.0000,  2.0047,  0.5330,  0.0000]],\n",
       "       grad_fn=<ReluBackward0>)"
      ]
     },
     "execution_count": 126,
     "metadata": {},
     "output_type": "execute_result"
    }
   ],
   "source": [
    "# for the grid world environment we will a small CNN to extract features from the image\n",
    "# we will use the same CNN as in the original paper\n",
    "\n",
    "obs, _, _, _, _ = env.step(2)\n",
    "obs = t.tensor(obs)\n",
    "\n",
    "import torch as t\n",
    "import torch.nn as nn\n",
    "import torch.nn.functional as F\n",
    "from einops import rearrange\n",
    "\n",
    "# to do: make this a custom class with hooks from transformer lense\n",
    "# to do: work out how to feature visualize this\n",
    "\n",
    "class StateEncoder(nn.Module):\n",
    "    def __init__(self, n_embed):\n",
    "        super(StateEncoder, self).__init__()\n",
    "        self.n_embed = n_embed\n",
    "        # input has shape 56 x 56 x 3\n",
    "        # output has shape 1 x 1 x 512\n",
    "        self.conv1 = nn.Conv2d(3, 32, 8, stride=4, padding=0) # 56 -> 13\n",
    "        self.conv2 = nn.Conv2d(32, 64, 4, stride=2, padding=0) # 13 -> 5\n",
    "        self.conv3 = nn.Conv2d(64, 64, 3, stride=1, padding=0) # 5 -> 3\n",
    "        self.flatten = nn.Flatten()\n",
    "        self.fc = nn.Linear(576, n_embed)\n",
    "\n",
    "    def forward(self, x):\n",
    "        x = F.relu(self.conv1(x))\n",
    "        x = F.relu(self.conv2(x))\n",
    "        x = F.relu(self.conv3(x))\n",
    "        x = self.flatten(x)\n",
    "        x = self.fc(x)\n",
    "        x = F.relu(x)\n",
    "        return x\n",
    "\n",
    "# we will use the same CNN as in the original paper\n",
    "cnn = StateEncoder(64).to(\"cpu\")\n",
    "x = obs.unsqueeze(0).to(t.float32)\n",
    "x = rearrange(x, 'b h w c-> b c h w')\n",
    "cnn(x)"
   ]
  },
  {
   "attachments": {},
   "cell_type": "markdown",
   "metadata": {},
   "source": [
    "For reference: https://github.com/kzl/decision-transformer/blob/master/atari/mingpt/model_atari.py"
   ]
  },
  {
   "cell_type": "code",
   "execution_count": 127,
   "metadata": {},
   "outputs": [],
   "source": [
    "\n",
    "    # def forward(self, R: t.tensor, s: t.tensor, a: t.tensor, t: t.tensor):\n",
    "    #     '''\n",
    "    #     R: return\n",
    "    #     s: state\n",
    "    #     a: action\n",
    "    #     t: timestep\n",
    "    #     '''\n",
    "    #     s = s.to(torch.float32)\n",
    "    #     s = rearrange(s, 'b h w c-> b c h w')\n",
    "\n",
    "    #     pos_emb = self.pos_embedding(t)\n",
    "    #     state_emb = self.state_embedding(s) + pos_emb\n",
    "    #     action_emb = self.action_embeddings(a) + pos_emb\n",
    "    #     ret_emb = self.ret_emb(R) + pos_emb\n",
    "\n",
    "    #     input_embeds = torch.stack([state_emb, action_emb, ret_emb], dim=1)\n",
    "    #     print(input_embeds.shape)\n",
    "    #     print(input_embeds.dtype)\n",
    "    #     input_embeds = rearrange(input_embeds, 'batch sar block_size d_model -> batch sar block_size d_model')\n",
    "        \n",
    "    #     x = self.transformer(input_embeds)\n",
    "        \n",
    "    #     return x\n"
   ]
  },
  {
   "attachments": {},
   "cell_type": "markdown",
   "metadata": {},
   "source": [
    "Notes:\n",
    "- This turned out to be really complicated. \n",
    "- Specifically:\n",
    "    - it seems like the model has very different formulations during reward_conditioned vs naive. And also changes size if targets are used.\n",
    "    - This includes things like the token embeddings for actions not going through in naive mode, but going through in reward_conditioned mode.\n",
    "        - This is fine because a model is only ever of one type\n",
    "    - However, the model isn't using padding of any kind? I should look for evidence of this. "
   ]
  },
  {
   "cell_type": "code",
   "execution_count": 128,
   "metadata": {},
   "outputs": [
    {
     "data": {
      "text/plain": [
       "torch.Size([10, 1, 1])"
      ]
     },
     "execution_count": 128,
     "metadata": {},
     "output_type": "execute_result"
    }
   ],
   "source": [
    "all_timesteps.unsqueeze(1).shape"
   ]
  },
  {
   "cell_type": "code",
   "execution_count": 129,
   "metadata": {},
   "outputs": [
    {
     "data": {
      "text/plain": [
       "torch.Size([3, 10, 1])"
      ]
     },
     "execution_count": 129,
     "metadata": {},
     "output_type": "execute_result"
    }
   ],
   "source": [
    "all_timesteps.repeat(3,1, 1).shape"
   ]
  },
  {
   "cell_type": "code",
   "execution_count": 130,
   "metadata": {},
   "outputs": [
    {
     "name": "stdout",
     "output_type": "stream",
     "text": [
      "torch.Size([3, 10, 1])\n",
      "torch.Size([3, 10, 1])\n",
      "torch.Size([3, 10, 1])\n",
      "torch.Size([3, 10, 56, 56, 3])\n"
     ]
    }
   ],
   "source": [
    "print(all_actions.repeat(3,1, 1).shape)\n",
    "print(all_returns_to_go.repeat(3,1, 1).shape)\n",
    "print(all_timesteps.repeat(3,1, 1).shape)\n",
    "print(all_obs.repeat(3,1, 1, 1, 1).shape)"
   ]
  },
  {
   "cell_type": "markdown",
   "metadata": {},
   "source": []
  },
  {
   "cell_type": "code",
   "execution_count": 131,
   "metadata": {},
   "outputs": [
    {
     "data": {
      "text/plain": [
       "tensor([[[1, 2]],\n",
       "\n",
       "        [[4, 5]],\n",
       "\n",
       "        [[7, 8]]])"
      ]
     },
     "execution_count": 131,
     "metadata": {},
     "output_type": "execute_result"
    }
   ],
   "source": [
    "rearrange(t.tensor([[1,2],[4,5],[7,8]]), 'b (n d) -> b n d', n=1, d=2)"
   ]
  },
  {
   "cell_type": "code",
   "execution_count": 132,
   "metadata": {},
   "outputs": [],
   "source": [
    "\n",
    "# reference code:\n",
    "\n",
    "# all_global_pos_emb = torch.repeat_interleave(self.global_pos_emb, batch_size, dim=0) # batch_size, traj_length, n_embd\n",
    "# position_embeddings = torch.gather(all_global_pos_emb, 1, torch.repeat_interleave(timesteps, self.config.n_embd, dim=-1)) + self.pos_emb[:, :token_embeddings.shape[1], :]\n",
    "# x = self.drop(token_embeddings + position_embeddings)"
   ]
  },
  {
   "cell_type": "code",
   "execution_count": 133,
   "metadata": {},
   "outputs": [],
   "source": [
    "import torch as t \n",
    "import gymnasium as gym\n",
    "from minigrid.wrappers import RGBImgPartialObsWrapper, ImgObsWrapper\n",
    "\n",
    "env = gym.make('MiniGrid-Empty-8x8-v0')\n",
    "env = RGBImgPartialObsWrapper(env) # Get pixel observations\n",
    "env = ImgObsWrapper(env) # Get rid of the 'mission' field\n",
    "obs, _ = env.reset() # This now produces an RGB tensor only\n",
    "\n",
    "# take several actions, store the observations, actions, returns and timesteps\n",
    "all_obs = []\n",
    "all_actions = []\n",
    "all_returns = []\n",
    "all_timesteps = []\n",
    "\n",
    "\n",
    "for i in range(10):\n",
    "    action = env.action_space.sample()\n",
    "    obs, reward, terminated, truncated, info = env.step(action)\n",
    "    all_obs.append(obs)\n",
    "    all_actions.append(action)\n",
    "    all_returns.append(reward)\n",
    "    all_timesteps.append(i)\n",
    "\n",
    "# convert to tensors.unsqueeze(0)\n",
    "all_obs = t.tensor(all_obs).to(t.float32).unsqueeze(0)\n",
    "all_actions = t.tensor(all_actions).reshape(-1, 1).unsqueeze(0)\n",
    "all_returns = t.randn((10, 1))\n",
    "all_returns_to_go = all_returns.flip(0).cumsum(0).flip(0).reshape(-1, 1).unsqueeze(0)\n",
    "all_timesteps = t.tensor(all_timesteps).reshape(-1, 1).unsqueeze(0)\n"
   ]
  },
  {
   "attachments": {},
   "cell_type": "markdown",
   "metadata": {},
   "source": [
    "# Train a decision transformer on minigrid\n",
    "\n",
    "To do this we will need:\n",
    "- example trajectories (offline learning)\n",
    "- a training loop\n",
    "\n",
    "To make the sample trajectories we need:\n",
    "- an agent which can traverse those maps (better if it's something good like PPO) (Agent class)\n",
    "- a way to sample trajectories from that agent (preferably parallelizable)"
   ]
  },
  {
   "cell_type": "code",
   "execution_count": 134,
   "metadata": {},
   "outputs": [
    {
     "name": "stderr",
     "output_type": "stream",
     "text": [
      "/var/folders/qd/04zj2h4n2pvc87x_7w1z97_r0000gn/T/ipykernel_91131/4066994141.py:65: VisibleDeprecationWarning:\n",
      "\n",
      "Creating an ndarray from ragged nested sequences (which is a list-or-tuple of lists-or-tuples-or ndarrays with different lengths or shapes) is deprecated. If you meant to do this, you must specify 'dtype=object' when creating the ndarray.\n",
      "\n",
      "/var/folders/qd/04zj2h4n2pvc87x_7w1z97_r0000gn/T/ipykernel_91131/4066994141.py:66: VisibleDeprecationWarning:\n",
      "\n",
      "Creating an ndarray from ragged nested sequences (which is a list-or-tuple of lists-or-tuples-or ndarrays with different lengths or shapes) is deprecated. If you meant to do this, you must specify 'dtype=object' when creating the ndarray.\n",
      "\n",
      "/var/folders/qd/04zj2h4n2pvc87x_7w1z97_r0000gn/T/ipykernel_91131/4066994141.py:67: VisibleDeprecationWarning:\n",
      "\n",
      "Creating an ndarray from ragged nested sequences (which is a list-or-tuple of lists-or-tuples-or ndarrays with different lengths or shapes) is deprecated. If you meant to do this, you must specify 'dtype=object' when creating the ndarray.\n",
      "\n"
     ]
    }
   ],
   "source": [
    "import numpy as np \n",
    "ActType = Union[int, np.ndarray]\n",
    "\n",
    "class Agent:\n",
    "    '''Base class for agents in a multi-armed bandit environment (you do not need to add any implementation here)'''\n",
    "\n",
    "    rng: np.random.Generator\n",
    "\n",
    "    def __init__(self, num_arms: int, seed: int):\n",
    "        self.num_arms = num_arms\n",
    "        self.reset(seed)\n",
    "\n",
    "    def get_action(self) -> ActType:\n",
    "        raise NotImplementedError()\n",
    "\n",
    "    def observe(self, action: ActType, reward: float, info: dict) -> None:\n",
    "        pass\n",
    "\n",
    "    def reset(self, seed: int) -> None:\n",
    "        self.rng = np.random.default_rng(seed)\n",
    "\n",
    "class RandomAgent(Agent):\n",
    "    def __init__(self, env):\n",
    "        self.env = env\n",
    "    def get_action(self):\n",
    "        return self.env.action_space.sample()\n",
    "\n",
    "def run_episode(env: gym.Env, agent: Agent, seed: int):\n",
    "    rewards = []\n",
    "    actions = []\n",
    "    states = []\n",
    "    env.reset(seed=seed)\n",
    "    agent.reset(seed=seed)\n",
    "    done = False\n",
    "    while not done:\n",
    "        arm = agent.get_action()\n",
    "        actions.append(arm)\n",
    "        (obs, reward, done, truncated, info) = env.step(arm)\n",
    "        agent.observe(arm, reward, info)\n",
    "        states.append(obs)\n",
    "        rewards.append(reward)\n",
    "    rewards = np.array(rewards, dtype=float)\n",
    "    actions = np.array(actions, dtype=int)\n",
    "\n",
    "    return rewards, np.array(states), actions\n",
    "\n",
    "env = gym.make('MiniGrid-Empty-5x5-v0')\n",
    "env = RGBImgPartialObsWrapper(env) # Get pixel observations\n",
    "env = ImgObsWrapper(env) # Get rid of the 'mission' field\n",
    "agent = RandomAgent(env)\n",
    "\n",
    "reward_trajs = []\n",
    "states_trajs = []\n",
    "actions_trajs = []\n",
    "for event in range(1000):\n",
    "    reward_traj, states_traj, actions_traj = run_episode(env, agent, seed=i)\n",
    "    reward_trajs.append(reward_traj)\n",
    "    states_trajs.append(states_traj)\n",
    "    actions_trajs.append(actions_traj)\n",
    "\n",
    "# gym.vector.SyncVectorEnv(\n",
    "#     env_fns=[lambda: gym.make('MiniGrid-Empty-5x5-v0') for _ in range(10)],\n",
    "# )\n",
    "\n",
    "reward_trajs = np.array(reward_trajs)\n",
    "states_trajs = np.array(states_trajs)\n",
    "actions_trajs = np.array(actions_trajs)\n"
   ]
  },
  {
   "cell_type": "code",
   "execution_count": 135,
   "metadata": {},
   "outputs": [
    {
     "name": "stdout",
     "output_type": "stream",
     "text": [
      "(1000,)\n",
      "(1000,)\n",
      "(1000,)\n"
     ]
    }
   ],
   "source": [
    "print(reward_trajs.shape)\n",
    "print(states_trajs.shape)\n",
    "print(actions_trajs.shape)"
   ]
  },
  {
   "cell_type": "code",
   "execution_count": 136,
   "metadata": {},
   "outputs": [
    {
     "name": "stdout",
     "output_type": "stream",
     "text": [
      "(1000,)\n"
     ]
    }
   ],
   "source": [
    "lengths = np.array([len(reward_traj) for reward_traj in reward_trajs])\n",
    "print(lengths.shape)"
   ]
  },
  {
   "cell_type": "code",
   "execution_count": 137,
   "metadata": {},
   "outputs": [
    {
     "data": {
      "application/vnd.plotly.v1+json": {
       "config": {
        "plotlyServerURL": "https://plot.ly"
       },
       "data": [
        {
         "alignmentgroup": "True",
         "bingroup": "x",
         "hovertemplate": "variable=0<br>value=%{x}<br>count=%{y}<extra></extra>",
         "legendgroup": "0",
         "marker": {
          "color": "#636efa",
          "pattern": {
           "shape": ""
          }
         },
         "name": "0",
         "offsetgroup": "0",
         "orientation": "v",
         "showlegend": true,
         "type": "histogram",
         "x": [
          135,
          18,
          247,
          88,
          448,
          452,
          33,
          93,
          85,
          216,
          203,
          570,
          102,
          101,
          310,
          25,
          45,
          423,
          45,
          380,
          387,
          65,
          42,
          81,
          168,
          72,
          172,
          211,
          156,
          78,
          165,
          184,
          46,
          260,
          232,
          140,
          165,
          165,
          242,
          263,
          258,
          113,
          41,
          101,
          199,
          120,
          41,
          30,
          28,
          436,
          55,
          541,
          32,
          103,
          16,
          33,
          626,
          79,
          44,
          147,
          598,
          271,
          298,
          189,
          115,
          344,
          121,
          143,
          110,
          71,
          173,
          336,
          289,
          72,
          261,
          24,
          216,
          188,
          83,
          366,
          211,
          61,
          338,
          138,
          386,
          87,
          264,
          251,
          43,
          23,
          56,
          42,
          139,
          178,
          155,
          342,
          366,
          250,
          147,
          58,
          37,
          138,
          156,
          37,
          118,
          170,
          357,
          80,
          160,
          646,
          30,
          223,
          99,
          78,
          105,
          27,
          500,
          78,
          466,
          137,
          57,
          72,
          183,
          96,
          114,
          163,
          107,
          245,
          144,
          106,
          14,
          69,
          491,
          298,
          278,
          47,
          193,
          251,
          83,
          84,
          158,
          44,
          35,
          149,
          89,
          151,
          230,
          444,
          63,
          83,
          470,
          25,
          95,
          147,
          47,
          276,
          96,
          129,
          208,
          41,
          73,
          78,
          53,
          145,
          107,
          160,
          133,
          143,
          92,
          64,
          431,
          146,
          533,
          122,
          174,
          100,
          497,
          151,
          145,
          308,
          72,
          66,
          83,
          137,
          86,
          19,
          194,
          75,
          9,
          386,
          20,
          354,
          314,
          137,
          70,
          35,
          75,
          119,
          261,
          34,
          180,
          44,
          93,
          105,
          75,
          490,
          96,
          41,
          34,
          162,
          340,
          82,
          152,
          234,
          170,
          125,
          91,
          323,
          49,
          84,
          67,
          12,
          218,
          189,
          203,
          46,
          86,
          25,
          608,
          127,
          133,
          54,
          89,
          179,
          195,
          54,
          65,
          272,
          153,
          104,
          42,
          176,
          77,
          57,
          78,
          288,
          105,
          78,
          37,
          243,
          88,
          15,
          45,
          259,
          145,
          213,
          469,
          210,
          638,
          61,
          62,
          119,
          269,
          209,
          28,
          129,
          30,
          103,
          221,
          82,
          278,
          61,
          15,
          211,
          281,
          158,
          355,
          137,
          67,
          128,
          34,
          125,
          164,
          358,
          385,
          88,
          103,
          113,
          245,
          130,
          27,
          107,
          440,
          40,
          138,
          162,
          702,
          74,
          36,
          76,
          186,
          96,
          127,
          246,
          131,
          97,
          261,
          22,
          11,
          56,
          355,
          162,
          30,
          52,
          259,
          112,
          144,
          211,
          103,
          143,
          161,
          488,
          31,
          756,
          85,
          399,
          319,
          335,
          309,
          186,
          53,
          47,
          92,
          447,
          64,
          139,
          122,
          169,
          126,
          547,
          44,
          29,
          48,
          39,
          113,
          316,
          71,
          122,
          161,
          80,
          144,
          372,
          90,
          223,
          78,
          79,
          77,
          117,
          102,
          60,
          242,
          91,
          151,
          90,
          44,
          236,
          155,
          24,
          52,
          77,
          129,
          118,
          115,
          144,
          150,
          123,
          111,
          70,
          30,
          80,
          170,
          149,
          56,
          113,
          39,
          16,
          72,
          34,
          295,
          98,
          20,
          649,
          137,
          446,
          28,
          321,
          149,
          45,
          445,
          167,
          390,
          199,
          35,
          651,
          157,
          358,
          57,
          208,
          77,
          282,
          274,
          83,
          232,
          145,
          247,
          33,
          54,
          115,
          131,
          714,
          323,
          332,
          88,
          44,
          256,
          81,
          128,
          297,
          200,
          54,
          402,
          47,
          455,
          53,
          81,
          51,
          409,
          47,
          153,
          183,
          66,
          275,
          118,
          141,
          84,
          191,
          52,
          13,
          66,
          58,
          168,
          260,
          310,
          140,
          133,
          367,
          192,
          58,
          237,
          22,
          183,
          305,
          117,
          139,
          851,
          140,
          860,
          41,
          147,
          54,
          36,
          93,
          16,
          329,
          208,
          249,
          191,
          51,
          157,
          769,
          71,
          187,
          132,
          406,
          240,
          124,
          123,
          284,
          29,
          19,
          57,
          119,
          195,
          133,
          196,
          52,
          393,
          88,
          113,
          190,
          72,
          89,
          62,
          378,
          26,
          558,
          93,
          29,
          302,
          115,
          236,
          106,
          11,
          85,
          24,
          942,
          100,
          154,
          200,
          266,
          243,
          102,
          62,
          137,
          39,
          82,
          468,
          132,
          255,
          125,
          21,
          334,
          127,
          255,
          205,
          188,
          99,
          51,
          39,
          148,
          363,
          326,
          69,
          98,
          82,
          187,
          57,
          70,
          83,
          24,
          49,
          71,
          31,
          34,
          98,
          35,
          442,
          302,
          122,
          99,
          176,
          160,
          117,
          90,
          128,
          193,
          306,
          403,
          208,
          98,
          308,
          147,
          151,
          37,
          190,
          174,
          127,
          115,
          88,
          103,
          187,
          77,
          65,
          456,
          1003,
          131,
          316,
          26,
          294,
          89,
          88,
          60,
          17,
          417,
          561,
          95,
          176,
          126,
          64,
          49,
          25,
          161,
          436,
          18,
          61,
          75,
          57,
          158,
          158,
          72,
          183,
          164,
          357,
          379,
          737,
          38,
          359,
          214,
          100,
          166,
          34,
          18,
          126,
          51,
          265,
          35,
          45,
          34,
          72,
          187,
          59,
          238,
          22,
          267,
          218,
          90,
          130,
          32,
          152,
          334,
          68,
          262,
          20,
          98,
          105,
          59,
          121,
          113,
          24,
          277,
          146,
          34,
          92,
          168,
          195,
          582,
          37,
          223,
          63,
          258,
          20,
          328,
          126,
          28,
          17,
          50,
          49,
          362,
          172,
          155,
          23,
          123,
          39,
          320,
          173,
          85,
          108,
          109,
          81,
          130,
          116,
          66,
          58,
          830,
          12,
          249,
          258,
          105,
          56,
          130,
          232,
          33,
          62,
          18,
          193,
          68,
          86,
          152,
          246,
          165,
          77,
          85,
          260,
          13,
          89,
          164,
          121,
          46,
          39,
          427,
          31,
          131,
          184,
          335,
          25,
          188,
          159,
          124,
          152,
          39,
          49,
          249,
          689,
          16,
          205,
          334,
          355,
          338,
          48,
          149,
          389,
          521,
          81,
          135,
          119,
          293,
          214,
          771,
          87,
          37,
          408,
          455,
          182,
          114,
          33,
          32,
          89,
          39,
          112,
          148,
          126,
          60,
          85,
          186,
          355,
          31,
          79,
          276,
          34,
          154,
          63,
          234,
          162,
          257,
          420,
          48,
          298,
          129,
          24,
          208,
          160,
          73,
          67,
          63,
          239,
          101,
          316,
          225,
          385,
          99,
          157,
          59,
          68,
          228,
          102,
          212,
          48,
          362,
          88,
          107,
          201,
          407,
          216,
          58,
          83,
          44,
          110,
          79,
          60,
          29,
          132,
          19,
          182,
          43,
          144,
          216,
          25,
          273,
          127,
          48,
          77,
          266,
          265,
          102,
          53,
          134,
          266,
          286,
          167,
          26,
          55,
          259,
          137,
          52,
          179,
          519,
          229,
          167,
          44,
          270,
          31,
          50,
          53,
          37,
          50,
          185,
          316,
          200,
          98,
          22,
          121,
          80,
          124,
          64,
          267,
          51,
          224,
          42,
          158,
          101,
          547,
          140,
          171,
          134,
          124,
          24,
          80,
          98,
          69,
          386,
          139,
          210,
          215,
          256,
          99,
          179,
          134,
          521,
          396,
          54,
          36,
          117,
          284,
          109,
          308,
          82,
          71,
          90,
          305,
          34,
          366,
          66,
          341,
          94,
          71,
          171,
          250,
          37,
          93,
          46,
          201,
          93,
          97,
          52,
          43,
          170,
          107,
          424,
          55,
          300,
          194,
          109,
          44,
          493,
          98,
          63,
          22,
          65,
          38,
          125,
          337,
          129,
          13,
          16,
          104,
          100,
          274,
          42,
          126,
          57,
          115,
          10,
          37,
          271,
          426,
          169,
          151,
          176,
          196,
          110,
          206,
          16,
          80,
          407,
          71,
          78,
          143,
          203,
          231,
          72,
          486,
          78,
          29,
          266,
          113,
          97,
          414,
          109,
          749,
          217,
          141,
          331,
          137,
          101,
          246,
          73,
          222,
          78,
          114,
          316,
          325,
          499,
          39,
          246,
          26,
          180,
          14,
          37,
          84,
          257,
          163,
          29,
          142,
          123,
          95,
          393,
          106,
          71,
          75,
          252,
          15,
          37,
          31,
          33,
          25,
          32,
          123,
          151,
          421,
          92,
          12,
          73,
          197,
          42,
          209,
          43,
          86,
          347,
          628,
          457
         ],
         "xaxis": "x",
         "yaxis": "y"
        }
       ],
       "layout": {
        "barmode": "relative",
        "legend": {
         "title": {
          "text": "variable"
         },
         "tracegroupgap": 0
        },
        "margin": {
         "t": 60
        },
        "template": {
         "data": {
          "bar": [
           {
            "error_x": {
             "color": "#2a3f5f"
            },
            "error_y": {
             "color": "#2a3f5f"
            },
            "marker": {
             "line": {
              "color": "#E5ECF6",
              "width": 0.5
             },
             "pattern": {
              "fillmode": "overlay",
              "size": 10,
              "solidity": 0.2
             }
            },
            "type": "bar"
           }
          ],
          "barpolar": [
           {
            "marker": {
             "line": {
              "color": "#E5ECF6",
              "width": 0.5
             },
             "pattern": {
              "fillmode": "overlay",
              "size": 10,
              "solidity": 0.2
             }
            },
            "type": "barpolar"
           }
          ],
          "carpet": [
           {
            "aaxis": {
             "endlinecolor": "#2a3f5f",
             "gridcolor": "white",
             "linecolor": "white",
             "minorgridcolor": "white",
             "startlinecolor": "#2a3f5f"
            },
            "baxis": {
             "endlinecolor": "#2a3f5f",
             "gridcolor": "white",
             "linecolor": "white",
             "minorgridcolor": "white",
             "startlinecolor": "#2a3f5f"
            },
            "type": "carpet"
           }
          ],
          "choropleth": [
           {
            "colorbar": {
             "outlinewidth": 0,
             "ticks": ""
            },
            "type": "choropleth"
           }
          ],
          "contour": [
           {
            "colorbar": {
             "outlinewidth": 0,
             "ticks": ""
            },
            "colorscale": [
             [
              0,
              "#0d0887"
             ],
             [
              0.1111111111111111,
              "#46039f"
             ],
             [
              0.2222222222222222,
              "#7201a8"
             ],
             [
              0.3333333333333333,
              "#9c179e"
             ],
             [
              0.4444444444444444,
              "#bd3786"
             ],
             [
              0.5555555555555556,
              "#d8576b"
             ],
             [
              0.6666666666666666,
              "#ed7953"
             ],
             [
              0.7777777777777778,
              "#fb9f3a"
             ],
             [
              0.8888888888888888,
              "#fdca26"
             ],
             [
              1,
              "#f0f921"
             ]
            ],
            "type": "contour"
           }
          ],
          "contourcarpet": [
           {
            "colorbar": {
             "outlinewidth": 0,
             "ticks": ""
            },
            "type": "contourcarpet"
           }
          ],
          "heatmap": [
           {
            "colorbar": {
             "outlinewidth": 0,
             "ticks": ""
            },
            "colorscale": [
             [
              0,
              "#0d0887"
             ],
             [
              0.1111111111111111,
              "#46039f"
             ],
             [
              0.2222222222222222,
              "#7201a8"
             ],
             [
              0.3333333333333333,
              "#9c179e"
             ],
             [
              0.4444444444444444,
              "#bd3786"
             ],
             [
              0.5555555555555556,
              "#d8576b"
             ],
             [
              0.6666666666666666,
              "#ed7953"
             ],
             [
              0.7777777777777778,
              "#fb9f3a"
             ],
             [
              0.8888888888888888,
              "#fdca26"
             ],
             [
              1,
              "#f0f921"
             ]
            ],
            "type": "heatmap"
           }
          ],
          "heatmapgl": [
           {
            "colorbar": {
             "outlinewidth": 0,
             "ticks": ""
            },
            "colorscale": [
             [
              0,
              "#0d0887"
             ],
             [
              0.1111111111111111,
              "#46039f"
             ],
             [
              0.2222222222222222,
              "#7201a8"
             ],
             [
              0.3333333333333333,
              "#9c179e"
             ],
             [
              0.4444444444444444,
              "#bd3786"
             ],
             [
              0.5555555555555556,
              "#d8576b"
             ],
             [
              0.6666666666666666,
              "#ed7953"
             ],
             [
              0.7777777777777778,
              "#fb9f3a"
             ],
             [
              0.8888888888888888,
              "#fdca26"
             ],
             [
              1,
              "#f0f921"
             ]
            ],
            "type": "heatmapgl"
           }
          ],
          "histogram": [
           {
            "marker": {
             "pattern": {
              "fillmode": "overlay",
              "size": 10,
              "solidity": 0.2
             }
            },
            "type": "histogram"
           }
          ],
          "histogram2d": [
           {
            "colorbar": {
             "outlinewidth": 0,
             "ticks": ""
            },
            "colorscale": [
             [
              0,
              "#0d0887"
             ],
             [
              0.1111111111111111,
              "#46039f"
             ],
             [
              0.2222222222222222,
              "#7201a8"
             ],
             [
              0.3333333333333333,
              "#9c179e"
             ],
             [
              0.4444444444444444,
              "#bd3786"
             ],
             [
              0.5555555555555556,
              "#d8576b"
             ],
             [
              0.6666666666666666,
              "#ed7953"
             ],
             [
              0.7777777777777778,
              "#fb9f3a"
             ],
             [
              0.8888888888888888,
              "#fdca26"
             ],
             [
              1,
              "#f0f921"
             ]
            ],
            "type": "histogram2d"
           }
          ],
          "histogram2dcontour": [
           {
            "colorbar": {
             "outlinewidth": 0,
             "ticks": ""
            },
            "colorscale": [
             [
              0,
              "#0d0887"
             ],
             [
              0.1111111111111111,
              "#46039f"
             ],
             [
              0.2222222222222222,
              "#7201a8"
             ],
             [
              0.3333333333333333,
              "#9c179e"
             ],
             [
              0.4444444444444444,
              "#bd3786"
             ],
             [
              0.5555555555555556,
              "#d8576b"
             ],
             [
              0.6666666666666666,
              "#ed7953"
             ],
             [
              0.7777777777777778,
              "#fb9f3a"
             ],
             [
              0.8888888888888888,
              "#fdca26"
             ],
             [
              1,
              "#f0f921"
             ]
            ],
            "type": "histogram2dcontour"
           }
          ],
          "mesh3d": [
           {
            "colorbar": {
             "outlinewidth": 0,
             "ticks": ""
            },
            "type": "mesh3d"
           }
          ],
          "parcoords": [
           {
            "line": {
             "colorbar": {
              "outlinewidth": 0,
              "ticks": ""
             }
            },
            "type": "parcoords"
           }
          ],
          "pie": [
           {
            "automargin": true,
            "type": "pie"
           }
          ],
          "scatter": [
           {
            "fillpattern": {
             "fillmode": "overlay",
             "size": 10,
             "solidity": 0.2
            },
            "type": "scatter"
           }
          ],
          "scatter3d": [
           {
            "line": {
             "colorbar": {
              "outlinewidth": 0,
              "ticks": ""
             }
            },
            "marker": {
             "colorbar": {
              "outlinewidth": 0,
              "ticks": ""
             }
            },
            "type": "scatter3d"
           }
          ],
          "scattercarpet": [
           {
            "marker": {
             "colorbar": {
              "outlinewidth": 0,
              "ticks": ""
             }
            },
            "type": "scattercarpet"
           }
          ],
          "scattergeo": [
           {
            "marker": {
             "colorbar": {
              "outlinewidth": 0,
              "ticks": ""
             }
            },
            "type": "scattergeo"
           }
          ],
          "scattergl": [
           {
            "marker": {
             "colorbar": {
              "outlinewidth": 0,
              "ticks": ""
             }
            },
            "type": "scattergl"
           }
          ],
          "scattermapbox": [
           {
            "marker": {
             "colorbar": {
              "outlinewidth": 0,
              "ticks": ""
             }
            },
            "type": "scattermapbox"
           }
          ],
          "scatterpolar": [
           {
            "marker": {
             "colorbar": {
              "outlinewidth": 0,
              "ticks": ""
             }
            },
            "type": "scatterpolar"
           }
          ],
          "scatterpolargl": [
           {
            "marker": {
             "colorbar": {
              "outlinewidth": 0,
              "ticks": ""
             }
            },
            "type": "scatterpolargl"
           }
          ],
          "scatterternary": [
           {
            "marker": {
             "colorbar": {
              "outlinewidth": 0,
              "ticks": ""
             }
            },
            "type": "scatterternary"
           }
          ],
          "surface": [
           {
            "colorbar": {
             "outlinewidth": 0,
             "ticks": ""
            },
            "colorscale": [
             [
              0,
              "#0d0887"
             ],
             [
              0.1111111111111111,
              "#46039f"
             ],
             [
              0.2222222222222222,
              "#7201a8"
             ],
             [
              0.3333333333333333,
              "#9c179e"
             ],
             [
              0.4444444444444444,
              "#bd3786"
             ],
             [
              0.5555555555555556,
              "#d8576b"
             ],
             [
              0.6666666666666666,
              "#ed7953"
             ],
             [
              0.7777777777777778,
              "#fb9f3a"
             ],
             [
              0.8888888888888888,
              "#fdca26"
             ],
             [
              1,
              "#f0f921"
             ]
            ],
            "type": "surface"
           }
          ],
          "table": [
           {
            "cells": {
             "fill": {
              "color": "#EBF0F8"
             },
             "line": {
              "color": "white"
             }
            },
            "header": {
             "fill": {
              "color": "#C8D4E3"
             },
             "line": {
              "color": "white"
             }
            },
            "type": "table"
           }
          ]
         },
         "layout": {
          "annotationdefaults": {
           "arrowcolor": "#2a3f5f",
           "arrowhead": 0,
           "arrowwidth": 1
          },
          "autotypenumbers": "strict",
          "coloraxis": {
           "colorbar": {
            "outlinewidth": 0,
            "ticks": ""
           }
          },
          "colorscale": {
           "diverging": [
            [
             0,
             "#8e0152"
            ],
            [
             0.1,
             "#c51b7d"
            ],
            [
             0.2,
             "#de77ae"
            ],
            [
             0.3,
             "#f1b6da"
            ],
            [
             0.4,
             "#fde0ef"
            ],
            [
             0.5,
             "#f7f7f7"
            ],
            [
             0.6,
             "#e6f5d0"
            ],
            [
             0.7,
             "#b8e186"
            ],
            [
             0.8,
             "#7fbc41"
            ],
            [
             0.9,
             "#4d9221"
            ],
            [
             1,
             "#276419"
            ]
           ],
           "sequential": [
            [
             0,
             "#0d0887"
            ],
            [
             0.1111111111111111,
             "#46039f"
            ],
            [
             0.2222222222222222,
             "#7201a8"
            ],
            [
             0.3333333333333333,
             "#9c179e"
            ],
            [
             0.4444444444444444,
             "#bd3786"
            ],
            [
             0.5555555555555556,
             "#d8576b"
            ],
            [
             0.6666666666666666,
             "#ed7953"
            ],
            [
             0.7777777777777778,
             "#fb9f3a"
            ],
            [
             0.8888888888888888,
             "#fdca26"
            ],
            [
             1,
             "#f0f921"
            ]
           ],
           "sequentialminus": [
            [
             0,
             "#0d0887"
            ],
            [
             0.1111111111111111,
             "#46039f"
            ],
            [
             0.2222222222222222,
             "#7201a8"
            ],
            [
             0.3333333333333333,
             "#9c179e"
            ],
            [
             0.4444444444444444,
             "#bd3786"
            ],
            [
             0.5555555555555556,
             "#d8576b"
            ],
            [
             0.6666666666666666,
             "#ed7953"
            ],
            [
             0.7777777777777778,
             "#fb9f3a"
            ],
            [
             0.8888888888888888,
             "#fdca26"
            ],
            [
             1,
             "#f0f921"
            ]
           ]
          },
          "colorway": [
           "#636efa",
           "#EF553B",
           "#00cc96",
           "#ab63fa",
           "#FFA15A",
           "#19d3f3",
           "#FF6692",
           "#B6E880",
           "#FF97FF",
           "#FECB52"
          ],
          "font": {
           "color": "#2a3f5f"
          },
          "geo": {
           "bgcolor": "white",
           "lakecolor": "white",
           "landcolor": "#E5ECF6",
           "showlakes": true,
           "showland": true,
           "subunitcolor": "white"
          },
          "hoverlabel": {
           "align": "left"
          },
          "hovermode": "closest",
          "mapbox": {
           "style": "light"
          },
          "paper_bgcolor": "white",
          "plot_bgcolor": "#E5ECF6",
          "polar": {
           "angularaxis": {
            "gridcolor": "white",
            "linecolor": "white",
            "ticks": ""
           },
           "bgcolor": "#E5ECF6",
           "radialaxis": {
            "gridcolor": "white",
            "linecolor": "white",
            "ticks": ""
           }
          },
          "scene": {
           "xaxis": {
            "backgroundcolor": "#E5ECF6",
            "gridcolor": "white",
            "gridwidth": 2,
            "linecolor": "white",
            "showbackground": true,
            "ticks": "",
            "zerolinecolor": "white"
           },
           "yaxis": {
            "backgroundcolor": "#E5ECF6",
            "gridcolor": "white",
            "gridwidth": 2,
            "linecolor": "white",
            "showbackground": true,
            "ticks": "",
            "zerolinecolor": "white"
           },
           "zaxis": {
            "backgroundcolor": "#E5ECF6",
            "gridcolor": "white",
            "gridwidth": 2,
            "linecolor": "white",
            "showbackground": true,
            "ticks": "",
            "zerolinecolor": "white"
           }
          },
          "shapedefaults": {
           "line": {
            "color": "#2a3f5f"
           }
          },
          "ternary": {
           "aaxis": {
            "gridcolor": "white",
            "linecolor": "white",
            "ticks": ""
           },
           "baxis": {
            "gridcolor": "white",
            "linecolor": "white",
            "ticks": ""
           },
           "bgcolor": "#E5ECF6",
           "caxis": {
            "gridcolor": "white",
            "linecolor": "white",
            "ticks": ""
           }
          },
          "title": {
           "x": 0.05
          },
          "xaxis": {
           "automargin": true,
           "gridcolor": "white",
           "linecolor": "white",
           "ticks": "",
           "title": {
            "standoff": 15
           },
           "zerolinecolor": "white",
           "zerolinewidth": 2
          },
          "yaxis": {
           "automargin": true,
           "gridcolor": "white",
           "linecolor": "white",
           "ticks": "",
           "title": {
            "standoff": 15
           },
           "zerolinecolor": "white",
           "zerolinewidth": 2
          }
         }
        },
        "xaxis": {
         "anchor": "y",
         "domain": [
          0,
          1
         ],
         "title": {
          "text": "value"
         }
        },
        "yaxis": {
         "anchor": "x",
         "domain": [
          0,
          1
         ],
         "title": {
          "text": "count"
         }
        }
       }
      }
     },
     "metadata": {},
     "output_type": "display_data"
    }
   ],
   "source": [
    "import plotly.express as px \n",
    "px.histogram(lengths)"
   ]
  },
  {
   "cell_type": "code",
   "execution_count": 138,
   "metadata": {},
   "outputs": [
    {
     "ename": "ValueError",
     "evalue": "Trajectory length is greater than the maximum sequence length for this model",
     "output_type": "error",
     "traceback": [
      "\u001b[0;31m---------------------------------------------------------------------------\u001b[0m",
      "\u001b[0;31mValueError\u001b[0m                                Traceback (most recent call last)",
      "Cell \u001b[0;32mIn[138], line 14\u001b[0m\n\u001b[1;32m      8\u001b[0m rtg \u001b[39m=\u001b[39m np\u001b[39m.\u001b[39mflip(reward_traj)\u001b[39m.\u001b[39mcumsum(\u001b[39m0\u001b[39m)\n\u001b[1;32m     12\u001b[0m decision_transformer \u001b[39m=\u001b[39m DecisionTransformer(env, max_game_length\u001b[39m=\u001b[39m \u001b[39m10\u001b[39m\u001b[39m*\u001b[39m\u001b[39m*\u001b[39m\u001b[39m4\u001b[39m)\n\u001b[0;32m---> 14\u001b[0m logits, _ \u001b[39m=\u001b[39m decision_transformer(\n\u001b[1;32m     15\u001b[0m     states \u001b[39m=\u001b[39;49m t\u001b[39m.\u001b[39;49mtensor(states_traj)\u001b[39m.\u001b[39;49mto(t\u001b[39m.\u001b[39;49mfloat32)\u001b[39m.\u001b[39;49munsqueeze(\u001b[39m0\u001b[39;49m),\n\u001b[1;32m     16\u001b[0m     actions \u001b[39m=\u001b[39;49m t\u001b[39m.\u001b[39;49mtensor(actions_traj)\u001b[39m.\u001b[39;49munsqueeze(\u001b[39m0\u001b[39;49m)\u001b[39m.\u001b[39;49munsqueeze(\u001b[39m-\u001b[39;49m\u001b[39m1\u001b[39;49m),\n\u001b[1;32m     17\u001b[0m     rtgs \u001b[39m=\u001b[39;49m t\u001b[39m.\u001b[39;49mtensor(rtg)\u001b[39m.\u001b[39;49munsqueeze(\u001b[39m0\u001b[39;49m)\u001b[39m.\u001b[39;49munsqueeze(\u001b[39m-\u001b[39;49m\u001b[39m1\u001b[39;49m),\n\u001b[1;32m     18\u001b[0m     timesteps \u001b[39m=\u001b[39;49m t\u001b[39m.\u001b[39;49mtensor(np\u001b[39m.\u001b[39;49marange(\u001b[39mlen\u001b[39;49m(reward_traj)))\u001b[39m.\u001b[39;49munsqueeze(\u001b[39m0\u001b[39;49m)\u001b[39m.\u001b[39;49munsqueeze(\u001b[39m-\u001b[39;49m\u001b[39m1\u001b[39;49m)\n\u001b[1;32m     19\u001b[0m )\n",
      "File \u001b[0;32m~/miniforge3/envs/decision_transformer_interpretability/lib/python3.9/site-packages/torch/nn/modules/module.py:1194\u001b[0m, in \u001b[0;36mModule._call_impl\u001b[0;34m(self, *input, **kwargs)\u001b[0m\n\u001b[1;32m   1190\u001b[0m \u001b[39m# If we don't have any hooks, we want to skip the rest of the logic in\u001b[39;00m\n\u001b[1;32m   1191\u001b[0m \u001b[39m# this function, and just call forward.\u001b[39;00m\n\u001b[1;32m   1192\u001b[0m \u001b[39mif\u001b[39;00m \u001b[39mnot\u001b[39;00m (\u001b[39mself\u001b[39m\u001b[39m.\u001b[39m_backward_hooks \u001b[39mor\u001b[39;00m \u001b[39mself\u001b[39m\u001b[39m.\u001b[39m_forward_hooks \u001b[39mor\u001b[39;00m \u001b[39mself\u001b[39m\u001b[39m.\u001b[39m_forward_pre_hooks \u001b[39mor\u001b[39;00m _global_backward_hooks\n\u001b[1;32m   1193\u001b[0m         \u001b[39mor\u001b[39;00m _global_forward_hooks \u001b[39mor\u001b[39;00m _global_forward_pre_hooks):\n\u001b[0;32m-> 1194\u001b[0m     \u001b[39mreturn\u001b[39;00m forward_call(\u001b[39m*\u001b[39;49m\u001b[39minput\u001b[39;49m, \u001b[39m*\u001b[39;49m\u001b[39m*\u001b[39;49mkwargs)\n\u001b[1;32m   1195\u001b[0m \u001b[39m# Do not call functions when jit is used\u001b[39;00m\n\u001b[1;32m   1196\u001b[0m full_backward_hooks, non_full_backward_hooks \u001b[39m=\u001b[39m [], []\n",
      "File \u001b[0;32m~/GithubRepositories/DecisionTransformerInterpretability/src/model.py:93\u001b[0m, in \u001b[0;36mforward\u001b[0;34m(self, states, actions, targets, rtgs, timesteps)\u001b[0m\n\u001b[1;32m     80\u001b[0m nn\u001b[39m.\u001b[39minit\u001b[39m.\u001b[39mnormal_(\u001b[39mself\u001b[39m\u001b[39m.\u001b[39maction_embedding[\u001b[39m0\u001b[39m]\u001b[39m.\u001b[39mweight, mean\u001b[39m=\u001b[39m\u001b[39m0.0\u001b[39m, std\u001b[39m=\u001b[39m\u001b[39m0.02\u001b[39m)\n\u001b[1;32m     82\u001b[0m \u001b[39m# Transformer\u001b[39;00m\n\u001b[1;32m     83\u001b[0m cfg \u001b[39m=\u001b[39m EasyTransformerConfig(\n\u001b[1;32m     84\u001b[0m     n_layers\u001b[39m=\u001b[39m\u001b[39m2\u001b[39m,\n\u001b[1;32m     85\u001b[0m     d_model\u001b[39m=\u001b[39m\u001b[39mself\u001b[39m\u001b[39m.\u001b[39md_model,\n\u001b[1;32m     86\u001b[0m     d_head\u001b[39m=\u001b[39m\u001b[39m32\u001b[39m,\n\u001b[1;32m     87\u001b[0m     n_heads\u001b[39m=\u001b[39m\u001b[39m2\u001b[39m,\n\u001b[1;32m     88\u001b[0m     d_mlp\u001b[39m=\u001b[39m\u001b[39m128\u001b[39m,\n\u001b[1;32m     89\u001b[0m     d_vocab\u001b[39m=\u001b[39m \u001b[39m64\u001b[39m,\n\u001b[1;32m     90\u001b[0m     n_ctx\u001b[39m=\u001b[39m \u001b[39mself\u001b[39m\u001b[39m.\u001b[39mctx_size,\n\u001b[1;32m     91\u001b[0m     act_fn\u001b[39m=\u001b[39m\u001b[39m\"\u001b[39m\u001b[39mrelu\u001b[39m\u001b[39m\"\u001b[39m,\n\u001b[1;32m     92\u001b[0m     normalization_type\u001b[39m=\u001b[39m\u001b[39mNone\u001b[39;00m,\n\u001b[0;32m---> 93\u001b[0m     attention_dir\u001b[39m=\u001b[39m\u001b[39m\"\u001b[39m\u001b[39mcausal\u001b[39m\u001b[39m\"\u001b[39m,\n\u001b[1;32m     94\u001b[0m     d_vocab_out\u001b[39m=\u001b[39menv\u001b[39m.\u001b[39maction_space\u001b[39m.\u001b[39mn, \u001b[39m#\u001b[39;00m\n\u001b[1;32m     95\u001b[0m )\n\u001b[1;32m     97\u001b[0m \u001b[39massert\u001b[39;00m cfg\u001b[39m.\u001b[39mattention_dir \u001b[39m==\u001b[39m \u001b[39m\"\u001b[39m\u001b[39mcausal\u001b[39m\u001b[39m\"\u001b[39m, \u001b[39m\"\u001b[39m\u001b[39mAttention direction must be causal\u001b[39m\u001b[39m\"\u001b[39m\n\u001b[1;32m     98\u001b[0m \u001b[39massert\u001b[39;00m cfg\u001b[39m.\u001b[39mnormalization_type \u001b[39mis\u001b[39;00m \u001b[39mNone\u001b[39;00m, \u001b[39m\"\u001b[39m\u001b[39mNormalization type must be None\u001b[39m\u001b[39m\"\u001b[39m\n",
      "File \u001b[0;32m~/GithubRepositories/DecisionTransformerInterpretability/src/model.py:221\u001b[0m, in \u001b[0;36mget_token_embeddings\u001b[0;34m(self, state_embeddings, time_embeddings, action_embeddings, reward_embeddings, targets)\u001b[0m\n\u001b[1;32m    219\u001b[0m     action_embeddings \u001b[39m=\u001b[39m action_embeddings \u001b[39m+\u001b[39m time_embeddings\n\u001b[1;32m    220\u001b[0m \u001b[39mif\u001b[39;00m targets:\n\u001b[0;32m--> 221\u001b[0m     targets \u001b[39m=\u001b[39m targets \u001b[39m+\u001b[39m time_embeddings\n\u001b[1;32m    223\u001b[0m \u001b[39m# estimate the trajectory length:\u001b[39;00m\n\u001b[1;32m    224\u001b[0m \u001b[39m# 1. if we have actions, we have 3 tokens per timestep\u001b[39;00m\n\u001b[1;32m    225\u001b[0m \u001b[39m# 2. if we don't have actions, we have 2 tokens per timestep (and one time step)\u001b[39;00m\n\u001b[1;32m    226\u001b[0m timesteps \u001b[39m=\u001b[39m time_embeddings\u001b[39m.\u001b[39mshape[\u001b[39m1\u001b[39m] \u001b[39m# number of timesteps\u001b[39;00m\n",
      "\u001b[0;31mValueError\u001b[0m: Trajectory length is greater than the maximum sequence length for this model"
     ]
    }
   ],
   "source": [
    "# let's try an example with a single trajectory\n",
    "reward_traj = reward_trajs[0]\n",
    "states_traj = states_trajs[0]\n",
    "actions_traj = actions_trajs[0]\n",
    "\n",
    "reward_traj\n",
    "\n",
    "rtg = np.flip(reward_traj).cumsum(0)\n",
    "\n",
    "\n",
    "\n",
    "decision_transformer = DecisionTransformer(env, max_game_length= 10**4)\n",
    "\n",
    "logits, _ = decision_transformer(\n",
    "    states = t.tensor(states_traj).to(t.float32).unsqueeze(0),\n",
    "    actions = t.tensor(actions_traj).unsqueeze(0).unsqueeze(-1),\n",
    "    rtgs = t.tensor(rtg).unsqueeze(0).unsqueeze(-1),\n",
    "    timesteps = t.tensor(np.arange(len(reward_traj))).unsqueeze(0).unsqueeze(-1)\n",
    ")"
   ]
  },
  {
   "cell_type": "code",
   "execution_count": null,
   "metadata": {},
   "outputs": [
    {
     "data": {
      "text/plain": [
       "torch.Size([1, 180, 1])"
      ]
     },
     "execution_count": 65,
     "metadata": {},
     "output_type": "execute_result"
    }
   ],
   "source": [
    "t.tensor(reward_traj).unsqueeze(-1).unsqueeze(0).shape"
   ]
  },
  {
   "cell_type": "code",
   "execution_count": null,
   "metadata": {},
   "outputs": [
    {
     "data": {
      "text/plain": [
       "torch.Size([1, 180, 1])"
      ]
     },
     "execution_count": 70,
     "metadata": {},
     "output_type": "execute_result"
    }
   ],
   "source": [
    "t.tensor(np.arange(len(reward_traj))).unsqueeze(0).unsqueeze(-1).shape"
   ]
  },
  {
   "cell_type": "code",
   "execution_count": null,
   "metadata": {},
   "outputs": [
    {
     "data": {
      "text/plain": [
       "'0.27.0'"
      ]
     },
     "execution_count": 73,
     "metadata": {},
     "output_type": "execute_result"
    }
   ],
   "source": [
    "gym.__version__"
   ]
  },
  {
   "attachments": {},
   "cell_type": "markdown",
   "metadata": {},
   "source": [
    "# See if I can load a replay buffer from D4RL\n"
   ]
  },
  {
   "cell_type": "code",
   "execution_count": 3,
   "metadata": {},
   "outputs": [
    {
     "name": "stderr",
     "output_type": "stream",
     "text": [
      "load datafile: 100%|██████████| 8/8 [00:00<00:00,  8.50it/s]\n"
     ]
    },
    {
     "data": {
      "text/plain": [
       "{'actions': array([[ 0.12521252, -0.6819198 ],\n",
       "        [-1.        , -1.        ],\n",
       "        [-0.24480188, -0.59214544],\n",
       "        ...,\n",
       "        [-0.86986226, -1.        ],\n",
       "        [-1.        , -0.36177555],\n",
       "        [-1.        , -0.15718542]], dtype=float32),\n",
       " 'infos/goal': array([[5.995181 , 0.912286 ],\n",
       "        [5.995181 , 0.912286 ],\n",
       "        [5.995181 , 0.912286 ],\n",
       "        ...,\n",
       "        [0.9864979, 6.004362 ],\n",
       "        [0.9864979, 6.004362 ],\n",
       "        [0.9864979, 6.004362 ]], dtype=float32),\n",
       " 'infos/qpos': array([[4.944978 , 4.084466 ],\n",
       "        [4.945365 , 4.083295 ],\n",
       "        [4.943369 , 4.0797443],\n",
       "        ...,\n",
       "        [3.6793704, 2.89519  ],\n",
       "        [3.6387599, 2.9047458],\n",
       "        [3.5958643, 2.9134173]], dtype=float32),\n",
       " 'infos/qvel': array([[ 0.0088652 ,  0.04536624],\n",
       "        [ 0.03866518, -0.11715045],\n",
       "        [-0.19959074, -0.35503528],\n",
       "        ...,\n",
       "        [-3.8630888 ,  1.19659   ],\n",
       "        [-4.061058  ,  0.95557624],\n",
       "        [-4.28955   ,  0.86713856]], dtype=float32),\n",
       " 'observations': array([[ 4.944978  ,  4.084466  ,  0.0088652 ,  0.04536624],\n",
       "        [ 4.945365  ,  4.083295  ,  0.03866518, -0.11715045],\n",
       "        [ 4.943369  ,  4.0797443 , -0.19959074, -0.35503528],\n",
       "        ...,\n",
       "        [ 3.6793704 ,  2.89519   , -3.8630888 ,  1.19659   ],\n",
       "        [ 3.6387599 ,  2.9047458 , -4.061058  ,  0.95557624],\n",
       "        [ 3.5958643 ,  2.9134173 , -4.28955   ,  0.86713856]],\n",
       "       dtype=float32),\n",
       " 'rewards': array([0., 0., 0., ..., 0., 0., 0.], dtype=float32),\n",
       " 'terminals': array([False, False, False, ..., False, False, False]),\n",
       " 'timeouts': array([False, False, False, ..., False, False, False])}"
      ]
     },
     "execution_count": 3,
     "metadata": {},
     "output_type": "execute_result"
    }
   ],
   "source": [
    "import d4rl\n",
    "import gym \n",
    "import minigrid\n",
    "from minigrid.wrappers import RGBImgPartialObsWrapper, ImgObsWrapper\n",
    "from warnings import simplefilter\n",
    "simplefilter(action='ignore', category=DeprecationWarning)\n",
    "env = gym.make('maze2d-eval-medium-v1')\n",
    "# _ = env.reset() # This now produces an RGB tensor only\n",
    "env.get_dataset()"
   ]
  },
  {
   "cell_type": "code",
   "execution_count": 4,
   "metadata": {},
   "outputs": [
    {
     "name": "stdout",
     "output_type": "stream",
     "text": [
      "['Acrobot-v1', 'Ant-v2', 'Ant-v3', 'AntBulletEnv-v0', 'BipedalWalker-v3', 'BipedalWalkerHardcore-v3', 'Blackjack-v1', 'CarRacing-v1', 'CartPole-v0', 'CartPole-v1', 'CartPoleBulletEnv-v1', 'CartPoleContinuousBulletEnv-v0', 'CliffWalking-v0', 'FrozenLake-v1', 'FrozenLake8x8-v1', 'HalfCheetah-v2', 'HalfCheetah-v3', 'HalfCheetahBulletEnv-v0', 'Hopper-v2', 'Hopper-v3', 'HopperBulletEnv-v0', 'Humanoid-v2', 'Humanoid-v3', 'HumanoidBulletEnv-v0', 'HumanoidDeepMimicBackflipBulletEnv-v1', 'HumanoidDeepMimicWalkBulletEnv-v1', 'HumanoidFlagrunBulletEnv-v0', 'HumanoidFlagrunHarderBulletEnv-v0', 'HumanoidStandup-v2', 'InvertedDoublePendulum-v2', 'InvertedDoublePendulumBulletEnv-v0', 'InvertedPendulum-v2', 'InvertedPendulumBulletEnv-v0', 'InvertedPendulumSwingupBulletEnv-v0', 'KukaBulletEnv-v0', 'KukaCamBulletEnv-v0', 'KukaDiverseObjectGrasping-v0', 'LunarLander-v2', 'LunarLanderContinuous-v2', 'MinitaurAlternatingLegsEnv-v0', 'MinitaurBallGymEnv-v0', 'MinitaurBulletDuckEnv-v0', 'MinitaurBulletEnv-v0', 'MinitaurExtendedEnv-v0', 'MinitaurFourLegStandEnv-v0', 'MinitaurReactiveEnv-v0', 'MinitaurStandGymEnv-v0', 'MinitaurTrottingEnv-v0', 'MountainCar-v0', 'MountainCarContinuous-v0', 'Pendulum-v1', 'Pusher-v2', 'PusherBulletEnv-v0', 'RacecarBulletEnv-v0', 'RacecarZedBulletEnv-v0', 'Reacher-v2', 'ReacherBulletEnv-v0', 'Swimmer-v2', 'Swimmer-v3', 'Taxi-v3', 'ThrowerBulletEnv-v0', 'Walker2DBulletEnv-v0', 'Walker2d-v2', 'Walker2d-v3', 'antmaze-eval-large-diverse-v0', 'antmaze-eval-large-play-v0', 'antmaze-eval-medium-diverse-v0', 'antmaze-eval-medium-play-v0', 'antmaze-eval-umaze-diverse-v0', 'antmaze-eval-umaze-v0', 'antmaze-large-diverse-v0', 'antmaze-large-diverse-v1', 'antmaze-large-diverse-v2', 'antmaze-large-play-v0', 'antmaze-large-play-v1', 'antmaze-large-play-v2', 'antmaze-medium-diverse-v0', 'antmaze-medium-diverse-v1', 'antmaze-medium-diverse-v2', 'antmaze-medium-play-v0', 'antmaze-medium-play-v1', 'antmaze-medium-play-v2', 'antmaze-umaze-diverse-v0', 'antmaze-umaze-diverse-v1', 'antmaze-umaze-diverse-v2', 'antmaze-umaze-v0', 'antmaze-umaze-v1', 'antmaze-umaze-v2', 'bullet-ant-expert-v0', 'bullet-ant-medium-expert-v0', 'bullet-ant-medium-replay-v0', 'bullet-ant-medium-v0', 'bullet-ant-random-v0', 'bullet-ant-v0', 'bullet-halfcheetah-expert-v0', 'bullet-halfcheetah-medium-expert-v0', 'bullet-halfcheetah-medium-replay-v0', 'bullet-halfcheetah-medium-v0', 'bullet-halfcheetah-random-v0', 'bullet-halfcheetah-v0', 'bullet-hopper-expert-v0', 'bullet-hopper-medium-expert-v0', 'bullet-hopper-medium-replay-v0', 'bullet-hopper-medium-v0', 'bullet-hopper-random-v0', 'bullet-hopper-v0', 'bullet-maze2d-large-v0', 'bullet-maze2d-medium-v0', 'bullet-maze2d-open-v0', 'bullet-maze2d-umaze-v0', 'bullet-walker2d-expert-v0', 'bullet-walker2d-medium-expert-v0', 'bullet-walker2d-medium-replay-v0', 'bullet-walker2d-medium-v0', 'bullet-walker2d-random-v0', 'bullet-walker2d-v0', 'kitchen-complete-v0', 'kitchen-mixed-v0', 'kitchen-partial-v0', 'kitchen_relax-v1', 'maze2d-eval-large-dense-v1', 'maze2d-eval-large-v1', 'maze2d-eval-medium-dense-v1', 'maze2d-eval-medium-v1', 'maze2d-eval-umaze-dense-v1', 'maze2d-eval-umaze-v1', 'maze2d-large-dense-v0', 'maze2d-large-dense-v1', 'maze2d-large-v0', 'maze2d-large-v1', 'maze2d-medium-dense-v0', 'maze2d-medium-dense-v1', 'maze2d-medium-v0', 'maze2d-medium-v1', 'maze2d-open-dense-v0', 'maze2d-open-v0', 'maze2d-umaze-dense-v0', 'maze2d-umaze-dense-v1', 'maze2d-umaze-v0', 'maze2d-umaze-v1', 'minigrid-fourrooms-random-v0', 'minigrid-fourrooms-v0']\n"
     ]
    }
   ],
   "source": [
    "from gym import envs\n",
    "import d4rl.gym_minigrid\n",
    "all_envs = envs.registry.all()\n",
    "env_ids = [env_spec.id for env_spec in all_envs]\n",
    "print(sorted(env_ids))"
   ]
  },
  {
   "cell_type": "code",
   "execution_count": 5,
   "metadata": {},
   "outputs": [
    {
     "name": "stderr",
     "output_type": "stream",
     "text": [
      "load datafile: 100%|██████████| 8/8 [00:00<00:00, 29.12it/s]\n"
     ]
    }
   ],
   "source": [
    "import gym \n",
    "env = gym.make('minigrid-fourrooms-v0')\n",
    "# _ = env.reset() # This now produces an RGB tensor only\n",
    "dataset = env.get_dataset()"
   ]
  },
  {
   "cell_type": "code",
   "execution_count": 6,
   "metadata": {},
   "outputs": [
    {
     "data": {
      "text/plain": [
       "dict_keys(['actions', 'infos/goal', 'infos/orientation', 'infos/pos', 'observations', 'rewards', 'terminals', 'timeouts'])"
      ]
     },
     "execution_count": 6,
     "metadata": {},
     "output_type": "execute_result"
    }
   ],
   "source": [
    "dataset.keys()"
   ]
  },
  {
   "cell_type": "code",
   "execution_count": 30,
   "metadata": {},
   "outputs": [
    {
     "data": {
      "text/plain": [
       "array([0.], dtype=float32)"
      ]
     },
     "execution_count": 30,
     "metadata": {},
     "output_type": "execute_result"
    }
   ],
   "source": [
    "# count all the unique values of rewards\n",
    "np.unique(dataset['rewards'])"
   ]
  },
  {
   "cell_type": "code",
   "execution_count": 9,
   "metadata": {},
   "outputs": [
    {
     "data": {
      "text/plain": [
       "array([[[0., 0., 0.],\n",
       "        [0., 0., 0.],\n",
       "        [0., 0., 0.],\n",
       "        [0., 0., 0.],\n",
       "        [0., 0., 0.],\n",
       "        [0., 0., 0.],\n",
       "        [0., 0., 0.]],\n",
       "\n",
       "       [[0., 0., 0.],\n",
       "        [0., 0., 0.],\n",
       "        [0., 0., 0.],\n",
       "        [0., 0., 0.],\n",
       "        [0., 0., 0.],\n",
       "        [0., 0., 0.],\n",
       "        [0., 0., 0.]],\n",
       "\n",
       "       [[0., 0., 0.],\n",
       "        [0., 0., 0.],\n",
       "        [0., 0., 0.],\n",
       "        [0., 0., 0.],\n",
       "        [0., 0., 0.],\n",
       "        [2., 5., 0.],\n",
       "        [2., 5., 0.]],\n",
       "\n",
       "       [[0., 0., 0.],\n",
       "        [0., 0., 0.],\n",
       "        [0., 0., 0.],\n",
       "        [0., 0., 0.],\n",
       "        [0., 0., 0.],\n",
       "        [2., 5., 0.],\n",
       "        [1., 0., 0.]],\n",
       "\n",
       "       [[0., 0., 0.],\n",
       "        [0., 0., 0.],\n",
       "        [0., 0., 0.],\n",
       "        [0., 0., 0.],\n",
       "        [0., 0., 0.],\n",
       "        [2., 5., 0.],\n",
       "        [1., 0., 0.]],\n",
       "\n",
       "       [[0., 0., 0.],\n",
       "        [0., 0., 0.],\n",
       "        [0., 0., 0.],\n",
       "        [0., 0., 0.],\n",
       "        [0., 0., 0.],\n",
       "        [2., 5., 0.],\n",
       "        [1., 0., 0.]],\n",
       "\n",
       "       [[0., 0., 0.],\n",
       "        [0., 0., 0.],\n",
       "        [0., 0., 0.],\n",
       "        [0., 0., 0.],\n",
       "        [0., 0., 0.],\n",
       "        [2., 5., 0.],\n",
       "        [1., 0., 0.]]], dtype=float32)"
      ]
     },
     "execution_count": 9,
     "metadata": {},
     "output_type": "execute_result"
    }
   ],
   "source": [
    "dataset[\"observations\"][0]"
   ]
  },
  {
   "cell_type": "code",
   "execution_count": null,
   "metadata": {},
   "outputs": [],
   "source": []
  }
 ],
 "metadata": {
  "kernelspec": {
   "display_name": "decision_transformer_interpretability",
   "language": "python",
   "name": "python3"
  },
  "language_info": {
   "codemirror_mode": {
    "name": "ipython",
    "version": 3
   },
   "file_extension": ".py",
   "mimetype": "text/x-python",
   "name": "python",
   "nbconvert_exporter": "python",
   "pygments_lexer": "ipython3",
   "version": "3.9.15"
  },
  "orig_nbformat": 4,
  "vscode": {
   "interpreter": {
    "hash": "0be95f1efa079bcf597630754731f3dc2b2137553763cb34bfd5652600bd2735"
   }
  }
 },
 "nbformat": 4,
 "nbformat_minor": 2
}
