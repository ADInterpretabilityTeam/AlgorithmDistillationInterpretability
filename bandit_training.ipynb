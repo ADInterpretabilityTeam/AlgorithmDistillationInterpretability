{
 "cells": [
  {
   "attachments": {},
   "cell_type": "markdown",
   "metadata": {},
   "source": [
    "Make sure you create a dataset first\n",
    "\n",
    "python -m src.run_history_gen --env_id ArmedBandit --n_steps 100 --n_actions 8 --n_states 1 --max_env_len 1 --path bandit_hists_train --n_seeds 40000\n",
    "python -m src.run_history_gen --env_id ArmedBandit --n_steps 100 --n_actions 8 --n_states 1 --max_env_len 1 --path bandit_hists_test --n_seeds 500 --seed_start 40000"
   ]
  },
  {
   "cell_type": "code",
   "execution_count": null,
   "metadata": {},
   "outputs": [],
   "source": [
    "\n",
    "import numpy as np\n",
    "import torch\n",
    "import glob\n",
    "import os\n",
    "\n",
    "from src.config import EnvironmentConfig, TransformerModelConfig\n",
    "from src.models.trajectory_transformer import AlgorithmDistillationTransformer\n",
    "from src.generation import *\n",
    "from src.sar_transformer.trainer import train\n",
    "from src.sar_transformer.dataset import HistoryDataset, create_history_dataloader"
   ]
  },
  {
   "cell_type": "code",
   "execution_count": null,
   "metadata": {},
   "outputs": [],
   "source": [
    "train_dataset = HistoryDataset(\n",
    "    history_dir=\"bandit_hists_train\",\n",
    "    n_episodes_per_seq=100 # There should be \n",
    ")\n",
    "\n",
    "train_dataloader = create_history_dataloader(\n",
    "    dataset=train_dataset,\n",
    "    batch_size=64,\n",
    "    n_samples=64*512\n",
    ")"
   ]
  },
  {
   "cell_type": "code",
   "execution_count": null,
   "metadata": {},
   "outputs": [],
   "source": [
    "test_dataset = HistoryDataset(\n",
    "    history_dir=\"bandit_hists_test\",\n",
    "    n_episodes_per_seq=100 # There should be \n",
    ")\n",
    "\n",
    "test_dataloader = create_history_dataloader(\n",
    "    dataset=test_dataset,\n",
    "    batch_size=64,\n",
    "    n_samples=64*256\n",
    ")"
   ]
  },
  {
   "cell_type": "code",
   "execution_count": null,
   "metadata": {},
   "outputs": [],
   "source": [
    "context_len = train_dataset.n_episodes_per_seq * train_dataset.episode_length * 3 - 2\n",
    "print(context_len)\n",
    "env = MultiArmedBandit(8, seed=50_000)\n",
    "\n",
    "environment_config = EnvironmentConfig(\n",
    "    env_id=\"Graph_ArmedBandit\",\n",
    "    env=env,\n",
    "    device=\"cuda\")\n",
    "\n",
    "transformer_model_config = TransformerModelConfig(\n",
    "    d_model=128,\n",
    "    n_heads=8,\n",
    "    d_mlp=128*4,\n",
    "    n_layers=1,\n",
    "    attn_only=False,\n",
    "    layer_norm=True,\n",
    "    time_embedding_type=\"embedding\",\n",
    "    state_embedding_type=\"linear\",\n",
    "    n_ctx=context_len,\n",
    "    device=\"cuda\",\n",
    ")\n",
    "\n",
    "model = AlgorithmDistillationTransformer(environment_config, transformer_model_config)"
   ]
  },
  {
   "cell_type": "code",
   "execution_count": null,
   "metadata": {},
   "outputs": [],
   "source": [
    "model"
   ]
  },
  {
   "cell_type": "code",
   "execution_count": null,
   "metadata": {},
   "outputs": [],
   "source": [
    "model = train(model, train_dataloader, test_dataloader, environment_config, lr=4e-3)"
   ]
  }
 ],
 "metadata": {
  "kernelspec": {
   "display_name": "base",
   "language": "python",
   "name": "python3"
  },
  "language_info": {
   "codemirror_mode": {
    "name": "ipython",
    "version": 3
   },
   "file_extension": ".py",
   "mimetype": "text/x-python",
   "name": "python",
   "nbconvert_exporter": "python",
   "pygments_lexer": "ipython3",
   "version": "3.8.8"
  },
  "orig_nbformat": 4
 },
 "nbformat": 4,
 "nbformat_minor": 2
}
