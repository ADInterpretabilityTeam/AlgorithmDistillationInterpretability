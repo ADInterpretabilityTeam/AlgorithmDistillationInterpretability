{
 "cells": [
  {
   "cell_type": "code",
   "execution_count": 1,
   "metadata": {},
   "outputs": [
    {
     "name": "stdout",
     "output_type": "stream",
     "text": [
      "pygame 2.3.0 (SDL 2.24.2, Python 3.8.8)\n",
      "Hello from the pygame community. https://www.pygame.org/contribute.html\n"
     ]
    }
   ],
   "source": [
    "import numpy as np\n",
    "import torch\n",
    "import glob\n",
    "import os\n",
    "\n",
    "from sar_transformer.dataset import *\n",
    "from config import EnvironmentConfig, TransformerModelConfig\n",
    "from models.trajectory_transformer import AlgorithmDistillationTransformer\n",
    "from generation import *"
   ]
  },
  {
   "cell_type": "code",
   "execution_count": 2,
   "metadata": {},
   "outputs": [],
   "source": [
    "dataset = HistoryDataset(\"histories\")\n",
    "train_loader = create_history_dataloader(dataset, 128, 512*128)"
   ]
  },
  {
   "cell_type": "code",
   "execution_count": 3,
   "metadata": {},
   "outputs": [],
   "source": [
    "context_len = dataset.n_episodes_per_seq * dataset.episode_length * 3 - 2\n",
    "env = DarkKeyDoor(12, 2, 12, seed=500)"
   ]
  },
  {
   "cell_type": "code",
   "execution_count": 4,
   "metadata": {},
   "outputs": [],
   "source": [
    "environment_config = EnvironmentConfig(\n",
    "    env_id=\"Graph_DarkKeyDoor\",\n",
    "    env=env,\n",
    "    device=\"cuda\")\n",
    "\n",
    "transformer_model_config = TransformerModelConfig(\n",
    "    d_model=64,\n",
    "    n_heads=4,\n",
    "    d_mlp=256,\n",
    "    n_layers=4,\n",
    "    layer_norm=True,\n",
    "    time_embedding_type=\"embedding\",\n",
    "    state_embedding_type=\"linear\",\n",
    "    n_ctx=context_len,\n",
    "    device=\"cuda\",\n",
    ")\n",
    "\n",
    "model = AlgorithmDistillationTransformer(environment_config, transformer_model_config)"
   ]
  },
  {
   "cell_type": "code",
   "execution_count": 5,
   "metadata": {},
   "outputs": [
    {
     "data": {
      "text/plain": [
       "AlgorithmDistillationTransformer(\n",
       "  (action_embedding): Sequential(\n",
       "    (0): Embedding(3, 64)\n",
       "  )\n",
       "  (time_embedding): Embedding(13, 64)\n",
       "  (state_embedding): Linear(in_features=12, out_features=64, bias=False)\n",
       "  (transformer): HookedTransformer(\n",
       "    (embed): Identity()\n",
       "    (hook_embed): HookPoint()\n",
       "    (pos_embed): PosEmbedTokens()\n",
       "    (hook_pos_embed): HookPoint()\n",
       "    (blocks): ModuleList(\n",
       "      (0-3): 4 x TransformerBlock(\n",
       "        (ln1): LayerNorm(\n",
       "          (hook_scale): HookPoint()\n",
       "          (hook_normalized): HookPoint()\n",
       "        )\n",
       "        (ln2): LayerNorm(\n",
       "          (hook_scale): HookPoint()\n",
       "          (hook_normalized): HookPoint()\n",
       "        )\n",
       "        (attn): Attention(\n",
       "          (hook_k): HookPoint()\n",
       "          (hook_q): HookPoint()\n",
       "          (hook_v): HookPoint()\n",
       "          (hook_z): HookPoint()\n",
       "          (hook_attn_scores): HookPoint()\n",
       "          (hook_pattern): HookPoint()\n",
       "          (hook_result): HookPoint()\n",
       "        )\n",
       "        (mlp): MLP(\n",
       "          (hook_pre): HookPoint()\n",
       "          (hook_post): HookPoint()\n",
       "        )\n",
       "        (hook_q_input): HookPoint()\n",
       "        (hook_k_input): HookPoint()\n",
       "        (hook_v_input): HookPoint()\n",
       "        (hook_attn_out): HookPoint()\n",
       "        (hook_mlp_out): HookPoint()\n",
       "        (hook_resid_pre): HookPoint()\n",
       "        (hook_resid_mid): HookPoint()\n",
       "        (hook_resid_post): HookPoint()\n",
       "      )\n",
       "    )\n",
       "    (ln_final): LayerNorm(\n",
       "      (hook_scale): HookPoint()\n",
       "      (hook_normalized): HookPoint()\n",
       "    )\n",
       "    (unembed): Identity()\n",
       "  )\n",
       "  (action_predictor): Linear(in_features=64, out_features=2, bias=True)\n",
       "  (state_predictor): Linear(in_features=64, out_features=12, bias=True)\n",
       "  (reward_embedding): Sequential(\n",
       "    (0): Linear(in_features=1, out_features=64, bias=False)\n",
       "  )\n",
       "  (reward_predictor): Linear(in_features=64, out_features=1, bias=True)\n",
       ")"
      ]
     },
     "execution_count": 5,
     "metadata": {},
     "output_type": "execute_result"
    }
   ],
   "source": [
    "model"
   ]
  },
  {
   "cell_type": "code",
   "execution_count": 6,
   "metadata": {},
   "outputs": [
    {
     "name": "stderr",
     "output_type": "stream",
     "text": [
      "Training AD, Epoch 1: 0.5623: 100%|██████████| 512/512 [01:17<00:00,  6.57it/s]\n",
      "Training AD, Epoch 2: 0.5368: 100%|██████████| 512/512 [01:21<00:00,  6.26it/s]\n",
      "Training AD, Epoch 3: 0.5267: 100%|██████████| 512/512 [01:21<00:00,  6.31it/s]\n",
      "Training AD, Epoch 4: 0.5222: 100%|██████████| 512/512 [01:22<00:00,  6.17it/s]\n",
      "Training AD, Epoch 5: 0.5574: 100%|██████████| 512/512 [01:23<00:00,  6.10it/s]\n",
      "Training AD, Epoch 6: 0.5407: 100%|██████████| 512/512 [01:24<00:00,  6.09it/s]\n",
      "Training AD, Epoch 7: 0.5246: 100%|██████████| 512/512 [01:24<00:00,  6.07it/s]\n",
      "Training AD, Epoch 8: 0.5254: 100%|██████████| 512/512 [01:24<00:00,  6.05it/s]\n",
      "Training AD, Epoch 9: 0.4671: 100%|██████████| 512/512 [01:28<00:00,  5.77it/s]\n",
      "Training AD, Epoch 10: 0.4350: 100%|██████████| 512/512 [01:31<00:00,  5.61it/s]\n",
      "Training AD, Epoch 11: 0.4706: 100%|██████████| 512/512 [01:27<00:00,  5.85it/s]\n",
      "Training AD, Epoch 12: 0.4111: 100%|██████████| 512/512 [01:27<00:00,  5.87it/s]\n",
      "Training AD, Epoch 13: 0.4002: 100%|██████████| 512/512 [01:24<00:00,  6.03it/s]\n",
      "Training AD, Epoch 14: 0.4159: 100%|██████████| 512/512 [01:26<00:00,  5.92it/s]\n",
      "Training AD, Epoch 15: 0.4260: 100%|██████████| 512/512 [01:27<00:00,  5.84it/s]\n",
      "Training AD, Epoch 16: 0.4165: 100%|██████████| 512/512 [01:26<00:00,  5.90it/s]\n",
      "Training AD, Epoch 17: 0.3958: 100%|██████████| 512/512 [01:29<00:00,  5.70it/s]\n",
      "Training AD, Epoch 18: 0.4043: 100%|██████████| 512/512 [01:37<00:00,  5.28it/s]\n",
      "Training AD, Epoch 19: 0.4257: 100%|██████████| 512/512 [01:30<00:00,  5.67it/s]\n",
      "Training AD, Epoch 20: 0.3889: 100%|██████████| 512/512 [01:24<00:00,  6.04it/s]\n",
      "Training AD, Epoch 21: 0.3957: 100%|██████████| 512/512 [01:25<00:00,  6.02it/s]\n",
      "Training AD, Epoch 22: 0.4100: 100%|██████████| 512/512 [01:25<00:00,  5.99it/s]\n",
      "Training AD, Epoch 23: 0.3696: 100%|██████████| 512/512 [01:25<00:00,  6.00it/s]\n",
      "Training AD, Epoch 24: 0.4210: 100%|██████████| 512/512 [01:25<00:00,  6.02it/s]\n",
      "Training AD, Epoch 25: 0.4237: 100%|██████████| 512/512 [01:25<00:00,  5.97it/s]\n",
      "Training AD, Epoch 26: 0.3704: 100%|██████████| 512/512 [01:27<00:00,  5.86it/s]\n",
      "Training AD, Epoch 27: 0.4079: 100%|██████████| 512/512 [01:28<00:00,  5.78it/s]\n",
      "Training AD, Epoch 28: 0.3802: 100%|██████████| 512/512 [01:26<00:00,  5.94it/s]\n",
      "Training AD, Epoch 29: 0.4050: 100%|██████████| 512/512 [01:27<00:00,  5.87it/s]\n",
      "Training AD, Epoch 30: 0.3659: 100%|██████████| 512/512 [01:28<00:00,  5.81it/s]\n",
      "Training AD, Epoch 31: 0.3740: 100%|██████████| 512/512 [01:28<00:00,  5.77it/s]\n",
      "Training AD, Epoch 32: 0.3499: 100%|██████████| 512/512 [01:25<00:00,  5.96it/s]\n",
      "Training AD, Epoch 33: 0.3180: 100%|██████████| 512/512 [01:26<00:00,  5.95it/s]\n",
      "Training AD, Epoch 34: 0.3070: 100%|██████████| 512/512 [01:24<00:00,  6.05it/s]\n",
      "Training AD, Epoch 35: 0.2801: 100%|██████████| 512/512 [01:24<00:00,  6.05it/s]\n",
      "Training AD, Epoch 36: 0.2844: 100%|██████████| 512/512 [01:24<00:00,  6.02it/s]\n",
      "Training AD, Epoch 37: 0.2813: 100%|██████████| 512/512 [01:24<00:00,  6.05it/s]\n",
      "Training AD, Epoch 38: 0.3207: 100%|██████████| 512/512 [01:24<00:00,  6.05it/s]\n",
      "Training AD, Epoch 39: 0.2659: 100%|██████████| 512/512 [01:25<00:00,  5.99it/s]\n",
      "Training AD, Epoch 40: 0.2843: 100%|██████████| 512/512 [01:26<00:00,  5.93it/s]\n",
      "Training AD, Epoch 41: 0.2642: 100%|██████████| 512/512 [01:28<00:00,  5.76it/s]\n",
      "Training AD, Epoch 42: 0.2926: 100%|██████████| 512/512 [01:29<00:00,  5.72it/s]\n",
      "Training AD, Epoch 43: 0.2846: 100%|██████████| 512/512 [01:26<00:00,  5.94it/s]\n",
      "Training AD, Epoch 44: 0.2777: 100%|██████████| 512/512 [01:26<00:00,  5.92it/s]\n",
      "Training AD, Epoch 45: 0.2725: 100%|██████████| 512/512 [01:25<00:00,  5.97it/s]\n",
      "Training AD, Epoch 46: 0.2730:  97%|█████████▋| 498/512 [01:22<00:02,  5.90it/s]"
     ]
    }
   ],
   "source": [
    "from sar_transformer.trainer import train\n",
    "train(model, train_loader, env)"
   ]
  }
 ],
 "metadata": {
  "kernelspec": {
   "display_name": "base",
   "language": "python",
   "name": "python3"
  },
  "language_info": {
   "codemirror_mode": {
    "name": "ipython",
    "version": 3
   },
   "file_extension": ".py",
   "mimetype": "text/x-python",
   "name": "python",
   "nbconvert_exporter": "python",
   "pygments_lexer": "ipython3",
   "version": "3.8.8"
  },
  "orig_nbformat": 4
 },
 "nbformat": 4,
 "nbformat_minor": 2
}
