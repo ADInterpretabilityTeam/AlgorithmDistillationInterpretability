{
 "cells": [
  {
   "cell_type": "code",
   "execution_count": 1,
   "metadata": {},
   "outputs": [
    {
     "name": "stdout",
     "output_type": "stream",
     "text": [
      "pygame 2.3.0 (SDL 2.24.2, Python 3.8.8)\n",
      "Hello from the pygame community. https://www.pygame.org/contribute.html\n"
     ]
    }
   ],
   "source": [
    "import numpy as np\n",
    "import torch\n",
    "import glob\n",
    "import os\n",
    "\n",
    "from sar_transformer.dataset import *\n",
    "from config import EnvironmentConfig, TransformerModelConfig\n",
    "from models.trajectory_transformer import AlgorithmDistillationTransformer\n",
    "from generation import *"
   ]
  },
  {
   "cell_type": "code",
   "execution_count": 2,
   "metadata": {},
   "outputs": [],
   "source": [
    "dataset = HistoryDataset(\"histories\")\n",
    "train_loader = create_history_dataloader(dataset, 128, 256*128)"
   ]
  },
  {
   "cell_type": "code",
   "execution_count": 3,
   "metadata": {},
   "outputs": [],
   "source": [
    "context_len = dataset.n_episodes_per_seq * dataset.episode_length * 3 - 2\n",
    "env = DarkKeyDoor(12, 2, 12, seed=500)"
   ]
  },
  {
   "cell_type": "code",
   "execution_count": 4,
   "metadata": {},
   "outputs": [],
   "source": [
    "environment_config = EnvironmentConfig(\n",
    "    env_id=\"Graph_DarkKeyDoor\",\n",
    "    env=env,\n",
    "    device=\"cuda\")\n",
    "\n",
    "transformer_model_config = TransformerModelConfig(\n",
    "    d_model=64,\n",
    "    n_heads=4,\n",
    "    d_mlp=256,\n",
    "    n_layers=4,\n",
    "    layer_norm=True,\n",
    "    time_embedding_type=\"embedding\",\n",
    "    state_embedding_type=\"linear\",\n",
    "    n_ctx=context_len,\n",
    "    device=\"cuda\",\n",
    ")\n",
    "\n",
    "model = AlgorithmDistillationTransformer(environment_config, transformer_model_config)"
   ]
  },
  {
   "cell_type": "code",
   "execution_count": 5,
   "metadata": {},
   "outputs": [
    {
     "data": {
      "text/plain": [
       "AlgorithmDistillationTransformer(\n",
       "  (action_embedding): Sequential(\n",
       "    (0): Embedding(3, 64)\n",
       "  )\n",
       "  (time_embedding): Embedding(13, 64)\n",
       "  (state_embedding): Linear(in_features=12, out_features=64, bias=False)\n",
       "  (transformer): HookedTransformer(\n",
       "    (embed): Identity()\n",
       "    (hook_embed): HookPoint()\n",
       "    (pos_embed): PosEmbedTokens()\n",
       "    (hook_pos_embed): HookPoint()\n",
       "    (blocks): ModuleList(\n",
       "      (0-3): 4 x TransformerBlock(\n",
       "        (ln1): LayerNorm(\n",
       "          (hook_scale): HookPoint()\n",
       "          (hook_normalized): HookPoint()\n",
       "        )\n",
       "        (ln2): LayerNorm(\n",
       "          (hook_scale): HookPoint()\n",
       "          (hook_normalized): HookPoint()\n",
       "        )\n",
       "        (attn): Attention(\n",
       "          (hook_k): HookPoint()\n",
       "          (hook_q): HookPoint()\n",
       "          (hook_v): HookPoint()\n",
       "          (hook_z): HookPoint()\n",
       "          (hook_attn_scores): HookPoint()\n",
       "          (hook_pattern): HookPoint()\n",
       "          (hook_result): HookPoint()\n",
       "        )\n",
       "        (mlp): MLP(\n",
       "          (hook_pre): HookPoint()\n",
       "          (hook_post): HookPoint()\n",
       "        )\n",
       "        (hook_q_input): HookPoint()\n",
       "        (hook_k_input): HookPoint()\n",
       "        (hook_v_input): HookPoint()\n",
       "        (hook_attn_out): HookPoint()\n",
       "        (hook_mlp_out): HookPoint()\n",
       "        (hook_resid_pre): HookPoint()\n",
       "        (hook_resid_mid): HookPoint()\n",
       "        (hook_resid_post): HookPoint()\n",
       "      )\n",
       "    )\n",
       "    (ln_final): LayerNorm(\n",
       "      (hook_scale): HookPoint()\n",
       "      (hook_normalized): HookPoint()\n",
       "    )\n",
       "    (unembed): Identity()\n",
       "  )\n",
       "  (action_predictor): Linear(in_features=64, out_features=2, bias=True)\n",
       "  (state_predictor): Linear(in_features=64, out_features=12, bias=True)\n",
       "  (reward_embedding): Sequential(\n",
       "    (0): Linear(in_features=1, out_features=64, bias=False)\n",
       "  )\n",
       "  (reward_predictor): Linear(in_features=64, out_features=1, bias=True)\n",
       ")"
      ]
     },
     "execution_count": 5,
     "metadata": {},
     "output_type": "execute_result"
    }
   ],
   "source": [
    "model"
   ]
  },
  {
   "cell_type": "code",
   "execution_count": 6,
   "metadata": {},
   "outputs": [
    {
     "name": "stderr",
     "output_type": "stream",
     "text": [
      "Training AD, Epoch 1: 0.5911: 100%|██████████| 256/256 [00:36<00:00,  7.02it/s]\n",
      "Training AD, Epoch 2: 0.5750: 100%|██████████| 256/256 [00:36<00:00,  6.97it/s]\n",
      "Training AD, Epoch 3: 0.5477: 100%|██████████| 256/256 [00:38<00:00,  6.68it/s]\n",
      "Training AD, Epoch 4: 0.5683: 100%|██████████| 256/256 [00:39<00:00,  6.56it/s]\n",
      "Training AD, Epoch 5: 0.5312: 100%|██████████| 256/256 [00:39<00:00,  6.48it/s]\n",
      "Evaluating AD, Reward: 0.0: 100%|██████████| 100/100 [00:12<00:00,  8.01it/s]             \n",
      "Training AD, Epoch 6: 0.5062:  31%|███▏      | 80/256 [00:11<00:27,  6.49it/s]"
     ]
    }
   ],
   "source": [
    "from sar_transformer.trainer import train\n",
    "model = train(model, train_loader, environment_config)"
   ]
  },
  {
   "cell_type": "code",
   "execution_count": null,
   "metadata": {},
   "outputs": [],
   "source": [
    "torch.save(model.state_dict(), \"checkpoint.pt\")"
   ]
  }
 ],
 "metadata": {
  "kernelspec": {
   "display_name": "base",
   "language": "python",
   "name": "python3"
  },
  "language_info": {
   "codemirror_mode": {
    "name": "ipython",
    "version": 3
   },
   "file_extension": ".py",
   "mimetype": "text/x-python",
   "name": "python",
   "nbconvert_exporter": "python",
   "pygments_lexer": "ipython3",
   "version": "3.8.8"
  },
  "orig_nbformat": 4
 },
 "nbformat": 4,
 "nbformat_minor": 2
}
