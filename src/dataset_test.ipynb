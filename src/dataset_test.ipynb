{
 "cells": [
  {
   "cell_type": "code",
   "execution_count": 1,
   "metadata": {},
   "outputs": [
    {
     "name": "stdout",
     "output_type": "stream",
     "text": [
      "pygame 2.3.0 (SDL 2.24.2, Python 3.8.8)\n",
      "Hello from the pygame community. https://www.pygame.org/contribute.html\n"
     ]
    }
   ],
   "source": [
    "import numpy as np\n",
    "import torch\n",
    "import glob\n",
    "import os\n",
    "\n",
    "from sar_transformer.dataset import *\n",
    "from config import EnvironmentConfig, TransformerModelConfig\n",
    "from models.trajectory_transformer import AlgorithmDistillationTransformer\n",
    "from generation import *"
   ]
  },
  {
   "cell_type": "code",
   "execution_count": 2,
   "metadata": {},
   "outputs": [],
   "source": [
    "dataset = HistoryDataset(\"test_histories\", n_episodes_per_seq=15)\n",
    "train_loader = create_history_dataloader(dataset, 64, 512*64)"
   ]
  },
  {
   "cell_type": "code",
   "execution_count": 3,
   "metadata": {},
   "outputs": [],
   "source": [
    "context_len = dataset.n_episodes_per_seq * dataset.episode_length * 3 - 2\n",
    "env = DarkRoom(12, 2, 12, seed=500)"
   ]
  },
  {
   "cell_type": "code",
   "execution_count": 4,
   "metadata": {},
   "outputs": [],
   "source": [
    "environment_config = EnvironmentConfig(\n",
    "    env_id=\"Graph_DarkRoom\",\n",
    "    env=env,\n",
    "    device=\"cuda\")\n",
    "\n",
    "transformer_model_config = TransformerModelConfig(\n",
    "    d_model=64,\n",
    "    n_heads=4,\n",
    "    d_mlp=2048,\n",
    "    n_layers=4,\n",
    "    layer_norm=True,\n",
    "    time_embedding_type=\"embedding\",\n",
    "    state_embedding_type=\"linear\",\n",
    "    n_ctx=context_len,\n",
    "    device=\"cuda\",\n",
    ")\n",
    "\n",
    "model = AlgorithmDistillationTransformer(environment_config, transformer_model_config)"
   ]
  },
  {
   "cell_type": "code",
   "execution_count": 5,
   "metadata": {},
   "outputs": [
    {
     "data": {
      "text/plain": [
       "AlgorithmDistillationTransformer(\n",
       "  (action_embedding): Sequential(\n",
       "    (0): Embedding(3, 64)\n",
       "  )\n",
       "  (time_embedding): Embedding(13, 64)\n",
       "  (state_embedding): Linear(in_features=12, out_features=64, bias=False)\n",
       "  (transformer): HookedTransformer(\n",
       "    (embed): Identity()\n",
       "    (hook_embed): HookPoint()\n",
       "    (pos_embed): PosEmbedTokens()\n",
       "    (hook_pos_embed): HookPoint()\n",
       "    (blocks): ModuleList(\n",
       "      (0-3): 4 x TransformerBlock(\n",
       "        (ln1): LayerNorm(\n",
       "          (hook_scale): HookPoint()\n",
       "          (hook_normalized): HookPoint()\n",
       "        )\n",
       "        (ln2): LayerNorm(\n",
       "          (hook_scale): HookPoint()\n",
       "          (hook_normalized): HookPoint()\n",
       "        )\n",
       "        (attn): Attention(\n",
       "          (hook_k): HookPoint()\n",
       "          (hook_q): HookPoint()\n",
       "          (hook_v): HookPoint()\n",
       "          (hook_z): HookPoint()\n",
       "          (hook_attn_scores): HookPoint()\n",
       "          (hook_pattern): HookPoint()\n",
       "          (hook_result): HookPoint()\n",
       "        )\n",
       "        (mlp): MLP(\n",
       "          (hook_pre): HookPoint()\n",
       "          (hook_post): HookPoint()\n",
       "        )\n",
       "        (hook_q_input): HookPoint()\n",
       "        (hook_k_input): HookPoint()\n",
       "        (hook_v_input): HookPoint()\n",
       "        (hook_attn_out): HookPoint()\n",
       "        (hook_mlp_out): HookPoint()\n",
       "        (hook_resid_pre): HookPoint()\n",
       "        (hook_resid_mid): HookPoint()\n",
       "        (hook_resid_post): HookPoint()\n",
       "      )\n",
       "    )\n",
       "    (ln_final): LayerNorm(\n",
       "      (hook_scale): HookPoint()\n",
       "      (hook_normalized): HookPoint()\n",
       "    )\n",
       "    (unembed): Identity()\n",
       "  )\n",
       "  (action_predictor): Linear(in_features=64, out_features=2, bias=True)\n",
       "  (state_predictor): Linear(in_features=64, out_features=12, bias=True)\n",
       "  (reward_embedding): Sequential(\n",
       "    (0): Linear(in_features=1, out_features=64, bias=False)\n",
       "  )\n",
       "  (reward_predictor): Linear(in_features=64, out_features=1, bias=True)\n",
       ")"
      ]
     },
     "execution_count": 5,
     "metadata": {},
     "output_type": "execute_result"
    }
   ],
   "source": [
    "model"
   ]
  },
  {
   "cell_type": "code",
   "execution_count": 6,
   "metadata": {},
   "outputs": [
    {
     "name": "stderr",
     "output_type": "stream",
     "text": [
      "TRAIN - Epoch 1: 0.5171: 100%|██████████| 512/512 [01:46<00:00,  4.83it/s]\n",
      "TRAIN - Epoch 2: 0.5188: 100%|██████████| 512/512 [01:51<00:00,  4.61it/s]\n",
      "TRAIN - Epoch 3: 0.4298: 100%|██████████| 512/512 [01:54<00:00,  4.47it/s]\n",
      "TRAIN - Epoch 4: 0.2515: 100%|██████████| 512/512 [02:00<00:00,  4.24it/s]\n",
      "TRAIN - Epoch 5: 0.2674: 100%|██████████| 512/512 [02:01<00:00,  4.22it/s]\n",
      "EVAL - Random walk score: 0.8704, AD high score: 1.0000, AD final score: 0.2667: 100%|██████████| 100/100 [00:13<00:00,  7.62it/s]\n",
      "TRAIN - Epoch 6: 0.1703: 100%|██████████| 512/512 [01:50<00:00,  4.64it/s]\n",
      "TRAIN - Epoch 7: 0.1332: 100%|██████████| 512/512 [01:57<00:00,  4.35it/s]\n",
      "TRAIN - Epoch 8: 0.1388: 100%|██████████| 512/512 [01:59<00:00,  4.28it/s]\n",
      "TRAIN - Epoch 9: 0.1278: 100%|██████████| 512/512 [02:03<00:00,  4.16it/s]\n",
      "TRAIN - Epoch 10: 0.1671: 100%|██████████| 512/512 [02:02<00:00,  4.18it/s]\n",
      "EVAL - Random walk score: 0.8701, AD high score: 0.4000, AD final score: 0.0667: 100%|██████████| 100/100 [00:13<00:00,  7.27it/s]\n",
      "TRAIN - Epoch 11: 0.1559: 100%|██████████| 512/512 [01:54<00:00,  4.47it/s]\n",
      "TRAIN - Epoch 12: 0.1524: 100%|██████████| 512/512 [02:04<00:00,  4.12it/s]\n",
      "TRAIN - Epoch 13: 0.0739: 100%|██████████| 512/512 [02:06<00:00,  4.05it/s]\n",
      "TRAIN - Epoch 14: 0.0986: 100%|██████████| 512/512 [02:06<00:00,  4.05it/s]\n",
      "TRAIN - Epoch 15: 0.0933: 100%|██████████| 512/512 [02:13<00:00,  3.84it/s]\n",
      "EVAL - Random walk score: 0.8683, AD high score: 1.2000, AD final score: 0.9333: 100%|██████████| 100/100 [00:13<00:00,  7.45it/s]\n",
      "TRAIN - Epoch 16: 0.1093: 100%|██████████| 512/512 [01:52<00:00,  4.54it/s]\n",
      "TRAIN - Epoch 17: 0.0847:  11%|█         | 56/512 [00:13<01:48,  4.19it/s]"
     ]
    }
   ],
   "source": [
    "from sar_transformer.trainer import train\n",
    "model = train(model, train_loader, environment_config, lr=1e-3)"
   ]
  },
  {
   "cell_type": "code",
   "execution_count": null,
   "metadata": {},
   "outputs": [
    {
     "name": "stderr",
     "output_type": "stream",
     "text": [
      "Evaluating AD, Reward: 0.25: 100%|██████████| 499/499 [00:58<00:00,  8.48it/s]\n"
     ]
    }
   ],
   "source": [
    "rewards = evaluate_ad_agent(model, environment_config, 499, temp=0.1)"
   ]
  },
  {
   "cell_type": "code",
   "execution_count": null,
   "metadata": {},
   "outputs": [],
   "source": [
    "import matplotlib\n",
    "import matplotlib.pyplot as plt\n",
    "plt.cla()\n",
    "out = np.array(rewards).reshape(-1, 10).mean(axis=-1)\n",
    "plt.plot(out)\n",
    "plt.savefig(\"lmao.png\")"
   ]
  },
  {
   "cell_type": "code",
   "execution_count": null,
   "metadata": {},
   "outputs": [],
   "source": [
    "torch.save(model.state_dict(), \"checkpoint.pt\")"
   ]
  },
  {
   "cell_type": "code",
   "execution_count": null,
   "metadata": {},
   "outputs": [
    {
     "name": "stdout",
     "output_type": "stream",
     "text": [
      "0.885\n"
     ]
    }
   ],
   "source": [
    "# Measure random agent success\n",
    "total_reward = []\n",
    "\n",
    "for i in range(10000):\n",
    "    total_reward.append(0)\n",
    "    obs, _ = env.reset()\n",
    "    done = False\n",
    "    while not done:\n",
    "        action = env.action_space.sample()\n",
    "        obs, reward, done, _, info = env.step(action)\n",
    "        total_reward[-1] += reward\n",
    "\n",
    "avg_reward = sum(total_reward) / len(total_reward)\n",
    "print(avg_reward)"
   ]
  },
  {
   "cell_type": "code",
   "execution_count": null,
   "metadata": {},
   "outputs": [],
   "source": []
  }
 ],
 "metadata": {
  "kernelspec": {
   "display_name": "base",
   "language": "python",
   "name": "python3"
  },
  "language_info": {
   "codemirror_mode": {
    "name": "ipython",
    "version": 3
   },
   "file_extension": ".py",
   "mimetype": "text/x-python",
   "name": "python",
   "nbconvert_exporter": "python",
   "pygments_lexer": "ipython3",
   "version": "3.8.8"
  },
  "orig_nbformat": 4
 },
 "nbformat": 4,
 "nbformat_minor": 2
}
