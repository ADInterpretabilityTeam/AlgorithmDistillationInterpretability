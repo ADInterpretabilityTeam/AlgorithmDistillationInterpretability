{
 "cells": [
  {
   "attachments": {},
   "cell_type": "markdown",
   "metadata": {},
   "source": [
    "# Dev 2\n",
    "\n",
    "We've come along way with this project. Now we are thoroughly in the weeds. \n",
    "\n",
    "Our major goasls are to:\n",
    "- make various updates to make it easier to scale with this project. Mainly storing artifacts (trajectories/models) on wandb. Once this is working, we can train on a lambda labs gpu on harder problems while having a complete record of events and results.\n",
    "- next, I'd like to write more complicated analysis code to characterise various models. For starter, I'd like to get a calibration curve to evaluate DT's on their ability to \"simulate\" different qualities of agents. \n",
    "\n",
    "Side goals which I may do in parallel:\n",
    "- abstract away from the DT to also have a BC model. \n",
    "- train the DT on predicting rewards, states and actions (this may improve sample efficiency and is fine from the perspective of the interpretability project). \n",
    "\n"
   ]
  },
  {
   "attachments": {},
   "cell_type": "markdown",
   "metadata": {},
   "source": [
    "## Downloading artifacts from wandb"
   ]
  },
  {
   "cell_type": "code",
   "execution_count": 1,
   "metadata": {},
   "outputs": [
    {
     "name": "stderr",
     "output_type": "stream",
     "text": [
      "\u001b[34m\u001b[1mwandb\u001b[0m: Currently logged in as: \u001b[33mjbloomaus\u001b[0m (\u001b[33marena-ldn\u001b[0m). Use \u001b[1m`wandb login --relogin`\u001b[0m to force relogin\n"
     ]
    },
    {
     "data": {
      "text/html": [
       "Tracking run with wandb version 0.13.7"
      ],
      "text/plain": [
       "<IPython.core.display.HTML object>"
      ]
     },
     "metadata": {},
     "output_type": "display_data"
    },
    {
     "data": {
      "text/html": [
       "Run data is saved locally in <code>/Users/josephbloom/GithubRepositories/DecisionTransformerInterpretability/wandb/run-20230105_193556-sgpvlob0</code>"
      ],
      "text/plain": [
       "<IPython.core.display.HTML object>"
      ]
     },
     "metadata": {},
     "output_type": "display_data"
    },
    {
     "data": {
      "text/html": [
       "Syncing run <strong><a href=\"https://wandb.ai/arena-ldn/DecisionTransformerInterpretability/runs/sgpvlob0\" target=\"_blank\">autumn-forest-61</a></strong> to <a href=\"https://wandb.ai/arena-ldn/DecisionTransformerInterpretability\" target=\"_blank\">Weights & Biases</a> (<a href=\"https://wandb.me/run\" target=\"_blank\">docs</a>)<br/>"
      ],
      "text/plain": [
       "<IPython.core.display.HTML object>"
      ]
     },
     "metadata": {},
     "output_type": "display_data"
    },
    {
     "name": "stderr",
     "output_type": "stream",
     "text": [
      "\u001b[34m\u001b[1mwandb\u001b[0m:   1 of 1 files downloaded.  \n"
     ]
    }
   ],
   "source": [
    "import wandb\n",
    "run = wandb.init()\n",
    "artifact = run.use_artifact('arena-ldn/PPO-MiniGrid/MiniGrid-LavaGapS7-v0016df0e6-b5e6-40ed-a598-e75f228f45a8.pkl:v0', type='trajectory')\n",
    "artifact_dir = artifact.download()"
   ]
  },
  {
   "attachments": {},
   "cell_type": "markdown",
   "metadata": {},
   "source": [
    "now I'll trigger the DT training script with this path."
   ]
  },
  {
   "attachments": {},
   "cell_type": "markdown",
   "metadata": {},
   "source": [
    "It seems like the upload to wandb takes ages... possibly due to an unresolved issue. \n",
    "\n",
    "I will hold off on scaling up/using lambda while I try to improve on the DT, mainly by making it predict RTG and States as well."
   ]
  },
  {
   "attachments": {},
   "cell_type": "markdown",
   "metadata": {},
   "source": [
    "# Investigate Trajectories\n",
    "\n",
    "Things it would be good to control:\n",
    "- train test split\n",
    "- the reward per trajectory\n",
    "- epochs\n",
    "- batch size\n",
    "- mask -> should we mask the padding tokens?"
   ]
  },
  {
   "cell_type": "code",
   "execution_count": 1,
   "metadata": {},
   "outputs": [
    {
     "name": "stdout",
     "output_type": "stream",
     "text": [
      "{'args': {'exp_name': 'MiniGrid-DoorKey-8x8-v0', 'seed': 1, 'cuda': True, 'track': True, 'wandb_project_name': 'PPO-MiniGrid', 'wandb_entity': None, 'capture_video': True, 'env_id': 'MiniGrid-DoorKey-8x8-v0', 'total_timesteps': 1000000, 'learning_rate': 0.00025, 'num_envs': 4, 'num_steps': 128, 'gamma': 0.99, 'gae_lambda': 0.95, 'num_minibatches': 4, 'update_epochs': 4, 'clip_coef': 0.2, 'ent_coef': 0.01, 'vf_coef': 0.5, 'max_grad_norm': 0.5, 'max_steps': 1000, 'trajectory_path': 'trajectories/MiniGrid-DoorKey-8x8-v0c96fb2f4-23b1-4d9e-af06-906fd108c700.pkl', 'fully_observed': False}, 'time': 1673097011.91648}\n"
     ]
    }
   ],
   "source": [
    "# let's load some trajectories \n",
    "from src.decision_transformer.offline_dataset import TrajectoryLoader\n",
    "from src.decision_transformer.decision_transformer import DecisionTransformer\n",
    "from src.environments import make_env\n",
    "\n",
    "trajectory_path = \"trajectories/MiniGrid-DoorKey-8x8-v0c96fb2f4-23b1-4d9e-af06-906fd108c700.pkl\"\n",
    "# trajectory_path = \"trajectories/MiniGrid-Dynamic-Obstacles-8x8-v0579f73fd-a62e-4239-a679-55fd341c23c7.pkl\"\n",
    "trajectory_data_set = TrajectoryLoader(trajectory_path, pct_traj=1, device=\"cpu\")\n",
    "\n",
    "env_id = trajectory_data_set.metadata['args']['env_id']\n",
    "env = make_env(env_id, seed = 1, idx = 0, capture_video=False, run_name = \"dev\", fully_observed=False)\n",
    "env = env()\n",
    "\n",
    "# dt = DecisionTransformer(\n",
    "#     env = env, \n",
    "#     d_model = 32,\n",
    "#     n_heads = 2,\n",
    "#     d_mlp = 64,\n",
    "#     n_layers = 2,\n",
    "#     state_embedding_type=\"grid\", # hard-coded for now to minigrid.\n",
    "#     max_timestep=trajectory_data_set.metadata.get(\"args\").get(\"max_steps\") # Our DT must have a context window large enough\n",
    "# )\n",
    "\n"
   ]
  },
  {
   "cell_type": "code",
   "execution_count": 10,
   "metadata": {},
   "outputs": [],
   "source": [
    "state, action, reward, d, rtg, timesteps, mask = trajectory_data_set.get_batch(256, 100)\n"
   ]
  },
  {
   "cell_type": "code",
   "execution_count": 41,
   "metadata": {},
   "outputs": [
    {
     "data": {
      "text/plain": [
       "tensor([1., 5., 2., 2., 2., 2., 1., 2., 2., 2.])"
      ]
     },
     "execution_count": 41,
     "metadata": {},
     "output_type": "execute_result"
    }
   ],
   "source": [
    "action[0][mask[0].to(bool)]"
   ]
  },
  {
   "cell_type": "code",
   "execution_count": 42,
   "metadata": {},
   "outputs": [
    {
     "data": {
      "text/plain": [
       "tensor([[0.0000],\n",
       "        [0.0000],\n",
       "        [0.0000],\n",
       "        [0.0000],\n",
       "        [0.0000],\n",
       "        [0.0000],\n",
       "        [0.0000],\n",
       "        [0.0000],\n",
       "        [0.0000],\n",
       "        [0.9856]])"
      ]
     },
     "execution_count": 42,
     "metadata": {},
     "output_type": "execute_result"
    }
   ],
   "source": [
    "reward[0][mask[0].to(bool)]"
   ]
  },
  {
   "cell_type": "code",
   "execution_count": 39,
   "metadata": {},
   "outputs": [
    {
     "name": "stdout",
     "output_type": "stream",
     "text": [
      "Moviepy - Building video test.mp4.\n",
      "Moviepy - Writing video test.mp4\n",
      "\n"
     ]
    },
    {
     "name": "stderr",
     "output_type": "stream",
     "text": [
      "                                                   "
     ]
    },
    {
     "name": "stdout",
     "output_type": "stream",
     "text": [
      "Moviepy - Done !\n",
      "Moviepy - video ready test.mp4\n"
     ]
    },
    {
     "name": "stderr",
     "output_type": "stream",
     "text": [
      "\r"
     ]
    }
   ],
   "source": [
    "from minigrid.core.constants import IDX_TO_OBJECT\n",
    "import numpy as np\n",
    "import torch\n",
    "\n",
    "def find_agent(observation):\n",
    "    height = observation.shape[0]\n",
    "    width = observation.shape[1]\n",
    "    for i in range(width):\n",
    "        for j in range(height):\n",
    "            object = IDX_TO_OBJECT[int(observation[i,j][0])]\n",
    "            if object == 'agent':\n",
    "                return i, j\n",
    "\n",
    "    else:\n",
    "        return -1,-1\n",
    "\n",
    "\n",
    "def render_minigrid_observation(env, observation):\n",
    "    if isinstance(observation, np.ndarray):\n",
    "        observation = observation.copy() # so we don't edit the original object\n",
    "    elif isinstance(observation, torch.Tensor):\n",
    "        observation = observation.numpy().copy()\n",
    "\n",
    "    agent_pos = find_agent(observation)\n",
    "    agent_dir = observation[agent_pos[0], agent_pos[1]][2]\n",
    "\n",
    "    observation[agent_pos[0], agent_pos[1]] = [0,0,0]\n",
    "\n",
    "    grid, _ = env.grid.decode(observation.astype(np.uint8))\n",
    "    \n",
    "    i = agent_pos[0]\n",
    "    j = agent_pos[1]\n",
    "    \n",
    "    return grid.render(32, (i,j), agent_dir=agent_dir)\n",
    "\n",
    "def render_minigrid_observations(env, observations):\n",
    "    return np.array([render_minigrid_observation(env, observation) for observation in observations])\n",
    "\n",
    "\n",
    "\n",
    "frames = render_minigrid_observations(env, state[0][mask[0].to(bool)])\n",
    "import moviepy.editor as    mpy\n",
    "import numpy as np\n",
    " \n",
    " # write an mp4 file\n",
    "clip = mpy.ImageSequenceClip(list(frames), fps=10)\n",
    "clip.write_videofile(\"test.mp4\", fps=10)\n"
   ]
  },
  {
   "cell_type": "code",
   "execution_count": null,
   "metadata": {},
   "outputs": [],
   "source": []
  }
 ],
 "metadata": {
  "kernelspec": {
   "display_name": "decision_transformer_interpretability",
   "language": "python",
   "name": "python3"
  },
  "language_info": {
   "codemirror_mode": {
    "name": "ipython",
    "version": 3
   },
   "file_extension": ".py",
   "mimetype": "text/x-python",
   "name": "python",
   "nbconvert_exporter": "python",
   "pygments_lexer": "ipython3",
   "version": "3.9.15"
  },
  "orig_nbformat": 4,
  "vscode": {
   "interpreter": {
    "hash": "0be95f1efa079bcf597630754731f3dc2b2137553763cb34bfd5652600bd2735"
   }
  }
 },
 "nbformat": 4,
 "nbformat_minor": 2
}
